{
 "cells": [
  {
   "cell_type": "code",
   "execution_count": 1,
   "metadata": {},
   "outputs": [
    {
     "name": "stderr",
     "output_type": "stream",
     "text": [
      "/home/jguven/Software/miniconda3/envs/bss-d/lib/python3.9/site-packages/numpy/core/getlimits.py:500: UserWarning: The value of the smallest subnormal for <class 'numpy.float64'> type is zero.\n",
      "  setattr(self, word, getattr(machar, word).flat[0])\n",
      "/home/jguven/Software/miniconda3/envs/bss-d/lib/python3.9/site-packages/numpy/core/getlimits.py:89: UserWarning: The value of the smallest subnormal for <class 'numpy.float64'> type is zero.\n",
      "  return self._float_to_str(self.smallest_subnormal)\n",
      "/home/jguven/Software/miniconda3/envs/bss-d/lib/python3.9/site-packages/numpy/core/getlimits.py:500: UserWarning: The value of the smallest subnormal for <class 'numpy.float32'> type is zero.\n",
      "  setattr(self, word, getattr(machar, word).flat[0])\n",
      "/home/jguven/Software/miniconda3/envs/bss-d/lib/python3.9/site-packages/numpy/core/getlimits.py:89: UserWarning: The value of the smallest subnormal for <class 'numpy.float32'> type is zero.\n",
      "  return self._float_to_str(self.smallest_subnormal)\n"
     ]
    },
    {
     "name": "stdout",
     "output_type": "stream",
     "text": [
      "\n",
      "==============================================================\n",
      "Sending anonymous Sire usage statistics to http://siremol.org.\n",
      "For more information, see http://siremol.org/analytics\n",
      "To disable, set the environment variable 'SIRE_DONT_PHONEHOME' to 1\n",
      "To see the information sent, set the environment variable \n",
      "SIRE_VERBOSE_PHONEHOME equal to 1. To silence this message, set\n",
      "the environment variable SIRE_SILENT_PHONEHOME to 1.\n",
      "==============================================================\n",
      "\n"
     ]
    },
    {
     "name": "stderr",
     "output_type": "stream",
     "text": [
      "Warning: importing 'simtk.openmm' is deprecated.  Import 'openmm' instead.\n"
     ]
    },
    {
     "name": "stderr",
     "output_type": "stream",
     "text": [
      "<>:8: DeprecationWarning: invalid escape sequence \\s\n",
      "<>:8: DeprecationWarning: invalid escape sequence \\s\n",
      "/tmp/ipykernel_14658/1346869428.py:8: DeprecationWarning: invalid escape sequence \\s\n",
      "  get_mdp_options = lambda index: [line.split(\"=\")[index].strip(\"\\s\\n\") for line in mdp_lines]\n"
     ]
    }
   ],
   "source": [
    "import BioSimSpace as bss\n",
    "import glob\n",
    "import math"
   ]
  },
  {
   "cell_type": "code",
   "execution_count": 33,
   "metadata": {},
   "outputs": [],
   "source": [
    "def write_mdp(work_dir: str, process_name: str, options: dict):\n",
    "    \"\"\"\n",
    "    Write an mdp files\n",
    "    \"\"\"\n",
    "    with open(f\"{work_dir}/{process_name}.mdp\", \"r\") as mdp:\n",
    "        mdp_lines = mdp.readlines()\n",
    "\n",
    "    get_mdp_options = lambda index: [line.split(\"=\")[index].lstrip().rstrip().strip(\"\\n\") for line in mdp_lines]\n",
    "    mdp_keys = get_mdp_options(0)\n",
    "    mdp_values = get_mdp_options(-1)\n",
    "\n",
    "    change_indices = [mdp_keys.index(key) for key in options.keys() if key in mdp_keys]\n",
    "\n",
    "    for i in change_indices:\n",
    "        for key, value in options.items():\n",
    "            if key in mdp_keys:\n",
    "                mdp_values[i] = value\n",
    "    # print(mdp_values)\n",
    "    for key, value in options.items():\n",
    "        if key not in mdp_keys:\n",
    "            formatted_key = key\n",
    "            formatted_value = str(value)\n",
    "            mdp_keys.append(formatted_key)\n",
    "            mdp_values.append(formatted_value) \n",
    "    \n",
    "    with open(f\"{work_dir}/{process_name}.mdp\", \"w\") as mdp:\n",
    "        for i in range(len(mdp_keys)):\n",
    "            mdp.write(f\"{mdp_keys[i]} = {mdp_values[i]}\\n\")\n"
   ]
  },
  {
   "cell_type": "code",
   "execution_count": 44,
   "metadata": {},
   "outputs": [],
   "source": [
    "with open(f\"../kpc2/equilibration/unbound/ligand_10/r_nvt/r_nvt.mdp\", \"r\") as mdp:\n",
    "    mdp_lines = mdp.readlines()"
   ]
  },
  {
   "cell_type": "code",
   "execution_count": 30,
   "metadata": {},
   "outputs": [
    {
     "name": "stdout",
     "output_type": "stream",
     "text": [
      "annealing-temp = 0.01 300.00\n"
     ]
    }
   ],
   "source": [
    "# for line in mdp_lines:\n",
    "    # print(line.split())\n",
    "test = mdp_lines[-2].split(\"=\")\n",
    "print(f\"{test[0].rstrip()} ={test[1].rstrip()}\")\n",
    "#  exclude_index = [i for i in range(len(test)) if test[i] == \"=\"][0] + 1\n",
    "# test[exclude_index:]"
   ]
  },
  {
   "cell_type": "code",
   "execution_count": 34,
   "metadata": {},
   "outputs": [],
   "source": [
    "write_mdp(\"../kpc2/equilibration/unbound/ligand_10/r_nvt/\", \"r_nvt\", options={\"new_thing\": \"poo\", \"nsteps\": 20000})"
   ]
  },
  {
   "cell_type": "code",
   "execution_count": 36,
   "metadata": {},
   "outputs": [],
   "source": [
    "write_mdp(\"../kpc2/equilibration/unbound/ligand_10/min/\", \"min\", options={\"new_thing\": \"poo\", \"nsteps\": 20000})"
   ]
  },
  {
   "cell_type": "code",
   "execution_count": 3,
   "metadata": {},
   "outputs": [],
   "source": [
    "ligand_path = \"../kpc2/inputs/ligands/\"\n",
    "solvated_ligand_files = glob.glob(ligand_path + f\"ligand_10_solvated.*\")\n",
    "solvated = bss.IO.readMolecules(solvated_ligand_files)"
   ]
  },
  {
   "cell_type": "code",
   "execution_count": 8,
   "metadata": {},
   "outputs": [],
   "source": [
    "protocol = bss.Protocol.Minimisation(steps=2000)"
   ]
  },
  {
   "cell_type": "code",
   "execution_count": 35,
   "metadata": {},
   "outputs": [],
   "source": [
    "process = bss.Process.Gromacs(solvated, protocol, name=\"min\", work_dir=\"../kpc2/equilibration/unbound/ligand_10/min/\")\n"
   ]
  },
  {
   "cell_type": "code",
   "execution_count": 7,
   "metadata": {},
   "outputs": [],
   "source": [
    "minimised = bss.IO.readMolecules([f\"../kpc2/equilibration/unbound/ligand_10/min/min_2.gro\", f\"../kpc2/equilibration/unbound/ligand_10/min/min.top\"])\n"
   ]
  },
  {
   "cell_type": "code",
   "execution_count": 15,
   "metadata": {},
   "outputs": [],
   "source": [
    "r_nvt_protocol = bss.Protocol.Equilibration(runtime=5*bss.Units.Time.picosecond, temperature_start=0*bss.Units.Temperature.kelvin, temperature_end=300*bss.Units.Temperature.kelvin, restraint=\"all\")"
   ]
  },
  {
   "cell_type": "code",
   "execution_count": 14,
   "metadata": {},
   "outputs": [],
   "source": [
    "r_nvt_process =bss.Process.Gromacs(minimised, r_nvt_protocol, name=\"r_nvt\", work_dir=\"../kpc2/equilibration/r_nvt/\")"
   ]
  },
  {
   "cell_type": "code",
   "execution_count": 3,
   "metadata": {},
   "outputs": [],
   "source": [
    "with open(\"../kpc2/equilibration/unbound/ligand_5/min/min_1.log\", \"r\") as file:\n",
    "    min_log_lines = file.readlines()\n",
    "\n",
    "max_force_line = [line for line in min_log_lines if \"Maximum force\" in line]\n"
   ]
  },
  {
   "cell_type": "code",
   "execution_count": 16,
   "metadata": {},
   "outputs": [
    {
     "name": "stdout",
     "output_type": "stream",
     "text": [
      "poo\n"
     ]
    }
   ],
   "source": [
    "if math.floor(math.log10(float(max_force_line.split()[3]))) < 5:\n",
    "    print(\"poo\")"
   ]
  },
  {
   "cell_type": "code",
   "execution_count": 10,
   "metadata": {},
   "outputs": [
    {
     "data": {
      "text/plain": [
       "'8.8811426e+03'"
      ]
     },
     "execution_count": 10,
     "metadata": {},
     "output_type": "execute_result"
    }
   ],
   "source": [
    "max_force_line.split()[3]"
   ]
  },
  {
   "cell_type": "code",
   "execution_count": 14,
   "metadata": {},
   "outputs": [
    {
     "data": {
      "text/plain": [
       "3"
      ]
     },
     "execution_count": 14,
     "metadata": {},
     "output_type": "execute_result"
    }
   ],
   "source": [
    "math.floor(math.log10(float(max_force_line.split()[3])))"
   ]
  },
  {
   "cell_type": "code",
   "execution_count": null,
   "metadata": {},
   "outputs": [],
   "source": []
  }
 ],
 "metadata": {
  "kernelspec": {
   "display_name": "Python 3.9.13 ('bss-d')",
   "language": "python",
   "name": "python3"
  },
  "language_info": {
   "codemirror_mode": {
    "name": "ipython",
    "version": 3
   },
   "file_extension": ".py",
   "mimetype": "text/x-python",
   "name": "python",
   "nbconvert_exporter": "python",
   "pygments_lexer": "ipython3",
   "version": "3.9.13"
  },
  "orig_nbformat": 4,
  "vscode": {
   "interpreter": {
    "hash": "f81d097606b2934fa8d1922533f78f64a436eb4cf1588d61ff1c0b79a2076e9c"
   }
  }
 },
 "nbformat": 4,
 "nbformat_minor": 2
}
