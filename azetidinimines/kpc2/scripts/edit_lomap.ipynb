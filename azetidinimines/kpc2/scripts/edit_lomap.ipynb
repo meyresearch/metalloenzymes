{
 "cells": [
  {
   "cell_type": "code",
   "execution_count": 2,
   "metadata": {},
   "outputs": [
    {
     "name": "stderr",
     "output_type": "stream",
     "text": [
      "/home/jguven/Software/miniconda3/envs/sire/lib/python3.9/site-packages/numpy/core/getlimits.py:500: UserWarning: The value of the smallest subnormal for <class 'numpy.float64'> type is zero.\n",
      "  setattr(self, word, getattr(machar, word).flat[0])\n",
      "/home/jguven/Software/miniconda3/envs/sire/lib/python3.9/site-packages/numpy/core/getlimits.py:89: UserWarning: The value of the smallest subnormal for <class 'numpy.float64'> type is zero.\n",
      "  return self._float_to_str(self.smallest_subnormal)\n",
      "/home/jguven/Software/miniconda3/envs/sire/lib/python3.9/site-packages/numpy/core/getlimits.py:500: UserWarning: The value of the smallest subnormal for <class 'numpy.float32'> type is zero.\n",
      "  setattr(self, word, getattr(machar, word).flat[0])\n",
      "/home/jguven/Software/miniconda3/envs/sire/lib/python3.9/site-packages/numpy/core/getlimits.py:89: UserWarning: The value of the smallest subnormal for <class 'numpy.float32'> type is zero.\n",
      "  return self._float_to_str(self.smallest_subnormal)\n"
     ]
    },
    {
     "name": "stdout",
     "output_type": "stream",
     "text": [
      "\n",
      "==============================================================\n",
      "Sending anonymous Sire usage statistics to http://siremol.org.\n",
      "For more information, see http://siremol.org/analytics\n",
      "To disable, set the environment variable 'SIRE_DONT_PHONEHOME' to 1\n",
      "To see the information sent, set the environment variable \n",
      "SIRE_VERBOSE_PHONEHOME equal to 1. To silence this message, set\n",
      "the environment variable SIRE_SILENT_PHONEHOME to 1.\n",
      "==============================================================\n",
      "\n"
     ]
    },
    {
     "data": {
      "application/vnd.jupyter.widget-view+json": {
       "model_id": "75bb928142a14cc28f8c30c0422c1cec",
       "version_major": 2,
       "version_minor": 0
      },
      "text/plain": []
     },
     "metadata": {},
     "output_type": "display_data"
    }
   ],
   "source": [
    "import BioSimSpace as bss\n",
    "import csv\n",
    "import pandas as pd\n",
    "import glob\n",
    "import networkx as nx\n",
    "import matplotlib.pyplot as plt\n",
    "import os\n",
    "import MDAnalysis as mda\n",
    "import nglview as nv"
   ]
  },
  {
   "cell_type": "code",
   "execution_count": 13,
   "metadata": {},
   "outputs": [],
   "source": [
    "ligand_path = \"../vim_2/inputs/ligands/\"\n",
    "csv_file = ligand_path + \"lomap_vim_2.csv\"\n",
    "dataframe = pd.read_csv(csv_file, header=None, sep=\":\", names=[\"perturbation\", \"score\"])\n",
    "network_dict = dict(zip(dataframe[\"perturbation\"], dataframe[\"score\"]))"
   ]
  },
  {
   "cell_type": "code",
   "execution_count": 15,
   "metadata": {},
   "outputs": [
    {
     "data": {
      "text/plain": [
       "dict_keys([\"('docked_1', 'docked_2')\", \"('docked_1', 'docked_4')\", \"('docked_10', 'docked_4')\", \"('docked_10', 'docked_5')\", \"('docked_10', 'docked_8')\", \"('docked_11', 'docked_15')\", \"('docked_11', 'docked_5')\", \"('docked_12', 'docked_14')\", \"('docked_12', 'docked_15')\", \"('docked_13', 'docked_3')\", \"('docked_13', 'docked_6')\", \"('docked_13', 'docked_7')\", \"('docked_14', 'docked_15')\", \"('docked_15', 'docked_5')\", \"('docked_16', 'docked_2')\", \"('docked_16', 'docked_4')\", \"('docked_16', 'docked_9')\", \"('docked_2', 'docked_4')\", \"('docked_3', 'docked_6')\", \"('docked_4', 'docked_6')\", \"('docked_5', 'docked_9')\", \"('docked_6', 'docked_7')\", \"('docked_6', 'docked_8')\"])"
      ]
     },
     "execution_count": 15,
     "metadata": {},
     "output_type": "execute_result"
    }
   ],
   "source": [
    "network_dict.keys()"
   ]
  },
  {
   "cell_type": "markdown",
   "metadata": {},
   "source": [
    "Remove some edges:\n"
   ]
  },
  {
   "cell_type": "code",
   "execution_count": 4,
   "metadata": {},
   "outputs": [
    {
     "data": {
      "text/html": [
       "<div>\n",
       "<style scoped>\n",
       "    .dataframe tbody tr th:only-of-type {\n",
       "        vertical-align: middle;\n",
       "    }\n",
       "\n",
       "    .dataframe tbody tr th {\n",
       "        vertical-align: top;\n",
       "    }\n",
       "\n",
       "    .dataframe thead th {\n",
       "        text-align: right;\n",
       "    }\n",
       "</style>\n",
       "<table border=\"1\" class=\"dataframe\">\n",
       "  <thead>\n",
       "    <tr style=\"text-align: right;\">\n",
       "      <th></th>\n",
       "      <th>perts</th>\n",
       "      <th>score</th>\n",
       "    </tr>\n",
       "  </thead>\n",
       "  <tbody>\n",
       "    <tr>\n",
       "      <th>1</th>\n",
       "      <td>(docked_3, docked_4)</td>\n",
       "      <td>0.6</td>\n",
       "    </tr>\n",
       "  </tbody>\n",
       "</table>\n",
       "</div>"
      ],
      "text/plain": [
       "                  perts  score\n",
       "1  (docked_3, docked_4)    0.6"
      ]
     },
     "execution_count": 4,
     "metadata": {},
     "output_type": "execute_result"
    }
   ],
   "source": [
    "test_dict = {(\"docked_1\", \"docked_2\"): 0.5,\n",
    "             (\"docked_3\", \"docked_4\"): 0.6}\n",
    "test_df = pd.DataFrame.from_dict(test_dict, \"index\")\n",
    "new_test = test_df.reset_index().rename(columns={\"index\":\"perts\", 0: \"score\"})\n",
    "new_test.drop([0], axis=0, inplace=True)\n",
    "new_test"
   ]
  },
  {
   "cell_type": "code",
   "execution_count": 8,
   "metadata": {},
   "outputs": [
    {
     "data": {
      "text/plain": [
       "1"
      ]
     },
     "execution_count": 8,
     "metadata": {},
     "output_type": "execute_result"
    }
   ],
   "source": [
    "new_test.last_valid_index()"
   ]
  },
  {
   "cell_type": "code",
   "execution_count": 64,
   "metadata": {},
   "outputs": [
    {
     "data": {
      "text/plain": [
       "0.12246"
      ]
     },
     "execution_count": 64,
     "metadata": {},
     "output_type": "execute_result"
    }
   ],
   "source": [
    "network_dict.pop(\"('docked_10', 'docked_5')\")\n",
    "network_dict.pop(\"('docked_5', 'docked_9')\")\n",
    "network_dict.pop(\"('docked_16', 'docked_2')\")\n",
    "network_dict.pop(\"('docked_16', 'docked_4')\")"
   ]
  },
  {
   "cell_type": "markdown",
   "metadata": {},
   "source": [
    "Add some new edges and change existing scores"
   ]
  },
  {
   "cell_type": "code",
   "execution_count": 65,
   "metadata": {},
   "outputs": [],
   "source": [
    "network_dict[\"('docked_16', 'docked_10')\"] = 0.1\n",
    "network_dict[\"('docked_15', 'docked_9')\"] = 0.1\n",
    "network_dict[\"('docked_9', 'docked_10')\"] = 0.1\n",
    "network_dict[\"('docked_3', 'docked_6')\"] = 0.1\n",
    "network_dict[\"('docked_13', 'docked_3')\"] = 0.1\n"
   ]
  },
  {
   "cell_type": "code",
   "execution_count": 12,
   "metadata": {},
   "outputs": [
    {
     "name": "stdout",
     "output_type": "stream",
     "text": [
      "len should be 3\n"
     ]
    }
   ],
   "source": [
    "test = [1, 2, 3]\n",
    "try:\n",
    "    assert len(test) == 2\n",
    "except AssertionError:\n",
    "    print(\"len should be 3\")"
   ]
  },
  {
   "cell_type": "code",
   "execution_count": 88,
   "metadata": {},
   "outputs": [],
   "source": [
    "with open(ligand_path+f\"/adjusted_lomap_vim_2.csv\", \"w\") as lomap_out:\n",
    "    for key, value in network_dict.items():\n",
    "        lomap_out.write(f\"{key}: {value}\\n\")"
   ]
  },
  {
   "cell_type": "markdown",
   "metadata": {},
   "source": [
    "Plot new network"
   ]
  },
  {
   "cell_type": "code",
   "execution_count": 82,
   "metadata": {},
   "outputs": [],
   "source": [
    "ligand_files = sorted(glob.glob(f\"{ligand_path}docked_*.sdf\"))\n",
    "ligand_names = [filepath.split(\"/\")[-1].replace(\".sdf\",\"\") for filepath in ligand_files]"
   ]
  },
  {
   "cell_type": "code",
   "execution_count": 87,
   "metadata": {},
   "outputs": [],
   "source": [
    "\n",
    "# graph = nx.Graph()\n",
    "\n",
    "# for ligand in ligand_names:\n",
    "#     graph.add_node(ligand, label=ligand, labelloc=\"t\")\n",
    "\n",
    "# for edge in network_dict:\n",
    "#     graph.add_edge(edge[0], edge[1], label=(network_dict[edge]))\n",
    "\n",
    "# positions = nx.kamada_kawai_layout(graph)\n",
    "# fig, ax = plt.subplots(figsize=(14, 14))\n",
    "# nx.draw(graph, positions, ax, edge_color=\"black\", width=1, linewidths=1, node_size=1500, node_color=\"skyblue\", font_size=12, \n",
    "#         labels={node: node for node in graph.nodes()}, with_labels=True, connectionstyle=\"arc3, rad=0.1\")\n",
    "\n",
    "# # nx.draw_networkx_edge_labels(graph, positions, edge_labels=network_dict, font_color=\"purple\", font_size=10)\\\n",
    "# edge_labels = network_dict\n",
    "# plt.savefig(\"../plots/adjusted_network.png\", dpi=1000, transparent=True)\n",
    "# plt.show()\n",
    "\n"
   ]
  },
  {
   "cell_type": "code",
   "execution_count": 122,
   "metadata": {},
   "outputs": [],
   "source": [
    "\n",
    "# path = \"/home/jguven/projects/metalloenzymes/all_ligands/\"\n",
    "\n",
    "# ligand_files = sorted(glob.glob(f\"{path}/ligand_*.sdf\"))\n",
    "\n",
    "# ligands = [bss.IO.readMolecules(filepath)[0] for filepath in ligand_files]\n",
    "# ligand_names = [filepath.split(\"/\")[-1].replace(\".sdf\",\"\") for filepath in ligand_files]\n",
    "# transformations, lomap_scores = bss.Align.generateNetwork(ligands, plot_network=True, names=ligand_names, work_dir=path)\n",
    "\n",
    "# pert_network_dict = {}\n",
    "# transformations_named = [(ligand_names[transf[0]], ligand_names[transf[1]]) for transf in transformations]\n",
    "# for transf, score in zip(transformations_named, lomap_scores):\n",
    "#     pert_network_dict[transf] = score"
   ]
  },
  {
   "cell_type": "code",
   "execution_count": 111,
   "metadata": {},
   "outputs": [],
   "source": []
  },
  {
   "cell_type": "code",
   "execution_count": null,
   "metadata": {},
   "outputs": [],
   "source": []
  }
 ],
 "metadata": {
  "kernelspec": {
   "display_name": "Python 3.9.13 ('sire')",
   "language": "python",
   "name": "python3"
  },
  "language_info": {
   "codemirror_mode": {
    "name": "ipython",
    "version": 3
   },
   "file_extension": ".py",
   "mimetype": "text/x-python",
   "name": "python",
   "nbconvert_exporter": "python",
   "pygments_lexer": "ipython3",
   "version": "3.9.13"
  },
  "orig_nbformat": 4,
  "vscode": {
   "interpreter": {
    "hash": "d26aaf8360ec79b5d34f6b3f2ca21f083671eb70d713101a39f31e19235f4f34"
   }
  }
 },
 "nbformat": 4,
 "nbformat_minor": 2
}
