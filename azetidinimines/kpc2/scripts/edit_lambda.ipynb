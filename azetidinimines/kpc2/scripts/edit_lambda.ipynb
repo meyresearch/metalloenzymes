{
 "cells": [
  {
   "cell_type": "code",
   "execution_count": 1,
   "metadata": {},
   "outputs": [
    {
     "name": "stdout",
     "output_type": "stream",
     "text": [
      "\n",
      "==============================================================\n",
      "Sending anonymous Sire usage statistics to http://siremol.org.\n",
      "For more information, see http://siremol.org/analytics\n",
      "To disable, set the environment variable 'SIRE_DONT_PHONEHOME' to 1\n",
      "To see the information sent, set the environment variable \n",
      "SIRE_VERBOSE_PHONEHOME equal to 1. To silence this message, set\n",
      "the environment variable SIRE_SILENT_PHONEHOME to 1.\n",
      "==============================================================\n",
      "\n"
     ]
    }
   ],
   "source": [
    "import functions as fn"
   ]
  },
  {
   "cell_type": "code",
   "execution_count": 4,
   "metadata": {},
   "outputs": [],
   "source": [
    "afe_mdp = \"../kpc2/outputs/GROMACS/lig_1~lig_2/unbound/lambda_0.0000/gromacs.mdp\"\n",
    "min_file = \"../kpc2/equilibration/unbound/min.mdp\"\n",
    "nvt_file = \"../kpc2/equilibration/unbound/nvt.mdp\"\n",
    "npt_file = \"../kpc2/equilibration/unbound/npt.mdp\"\n"
   ]
  },
  {
   "cell_type": "code",
   "execution_count": 20,
   "metadata": {},
   "outputs": [
    {
     "name": "stdout",
     "output_type": "stream",
     "text": [
      "{'nstlog': '100', 'integrator': 'steep', 'nsteps': '2500', 'pbc': 'xyz', 'cutoff-scheme': 'Verlet', 'ns-type': 'grid', 'nstlist': '20', 'coulombtype': 'PME', 'rvdw': '1.0', 'rcoulomb': '1.0', 'DispCorr': 'EnerPres', 'vdwtype': 'Cut-off', 'refcoord-scaling': 'all', 'emstep': '0.001'}\n"
     ]
    }
   ],
   "source": [
    "nvt_file = \"../kpc2/equilibration/bound/min.mdp\"\n",
    "opt = {}\n",
    "with open(nvt_file) as min:\n",
    "    for line in min:\n",
    "        clean_line = line.replace(\" \", \"\").replace(\"\\n\", \"\")\n",
    "        (key, value) = clean_line.split(\"=\")\n",
    "        opt[key] = value\n",
    "print(opt)        "
   ]
  },
  {
   "cell_type": "code",
   "execution_count": 18,
   "metadata": {},
   "outputs": [],
   "source": [
    "min_options = {}\n",
    "nvt_options = {}\n",
    "npt_options = {}\n",
    "\n",
    "with open(min_file) as min:\n",
    "    for line in min:\n",
    "        clean_line = line.replace(\" \", \"\").replace(\"\\n\", \"\")\n",
    "        (key, value) = clean_line.split(\"=\")\n",
    "        min_options[key] = value"
   ]
  },
  {
   "cell_type": "code",
   "execution_count": 19,
   "metadata": {},
   "outputs": [
    {
     "data": {
      "text/plain": [
       "{'nstlog': '100',\n",
       " 'integrator': 'steep',\n",
       " 'nsteps': '250',\n",
       " 'pbc': 'xyz',\n",
       " 'cutoff-scheme': 'Verlet',\n",
       " 'ns-type': 'grid',\n",
       " 'nstlist': '20',\n",
       " 'coulombtype': 'PME',\n",
       " 'rvdw': '1.0',\n",
       " 'rcoulomb': '1.0',\n",
       " 'DispCorr': 'EnerPres',\n",
       " 'vdwtype': 'Cut-off',\n",
       " 'refcoord-scaling': 'all',\n",
       " 'emstep': '0.001'}"
      ]
     },
     "execution_count": 19,
     "metadata": {},
     "output_type": "execute_result"
    }
   ],
   "source": [
    "min_options"
   ]
  },
  {
   "cell_type": "markdown",
   "metadata": {},
   "source": []
  }
 ],
 "metadata": {
  "kernelspec": {
   "display_name": "Python 3.9.13 ('sire')",
   "language": "python",
   "name": "python3"
  },
  "language_info": {
   "codemirror_mode": {
    "name": "ipython",
    "version": 3
   },
   "file_extension": ".py",
   "mimetype": "text/x-python",
   "name": "python",
   "nbconvert_exporter": "python",
   "pygments_lexer": "ipython3",
   "version": "3.9.13"
  },
  "orig_nbformat": 4,
  "vscode": {
   "interpreter": {
    "hash": "d26aaf8360ec79b5d34f6b3f2ca21f083671eb70d713101a39f31e19235f4f34"
   }
  }
 },
 "nbformat": 4,
 "nbformat_minor": 2
}
