{
 "cells": [
  {
   "cell_type": "code",
   "execution_count": 17,
   "metadata": {},
   "outputs": [],
   "source": [
    "import BioSimSpace as bss\n",
    "import BioSimSpace.Align as align\n",
    "import glob"
   ]
  },
  {
   "cell_type": "code",
   "execution_count": 18,
   "metadata": {},
   "outputs": [],
   "source": [
    "path_to_ligands = \"../inputs/ligands/\""
   ]
  },
  {
   "cell_type": "code",
   "execution_count": 25,
   "metadata": {},
   "outputs": [
    {
     "ename": "AlignmentError",
     "evalue": "Unable to create network plot!",
     "output_type": "error",
     "traceback": [
      "\u001b[0;31m---------------------------------------------------------------------------\u001b[0m",
      "\u001b[0;31mAlignmentError\u001b[0m                            Traceback (most recent call last)",
      "Cell \u001b[0;32mIn [25], line 10\u001b[0m\n\u001b[1;32m      7\u001b[0m     ligands\u001b[39m.\u001b[39mappend(bss\u001b[39m.\u001b[39mIO\u001b[39m.\u001b[39mreadMolecules(filepath)[\u001b[39m0\u001b[39m])\n\u001b[1;32m      8\u001b[0m     ligand_names\u001b[39m.\u001b[39mappend(filepath\u001b[39m.\u001b[39msplit(\u001b[39m\"\u001b[39m\u001b[39m/\u001b[39m\u001b[39m\"\u001b[39m)[\u001b[39m-\u001b[39m\u001b[39m1\u001b[39m]\u001b[39m.\u001b[39mreplace(\u001b[39m\"\u001b[39m\u001b[39m.sdf\u001b[39m\u001b[39m\"\u001b[39m,\u001b[39m\"\u001b[39m\u001b[39m\"\u001b[39m))\n\u001b[0;32m---> 10\u001b[0m tranformations, lomap_scores \u001b[39m=\u001b[39m align\u001b[39m.\u001b[39;49mgenerateNetwork(ligands, plot_network\u001b[39m=\u001b[39;49m\u001b[39mTrue\u001b[39;49;00m)\n",
      "File \u001b[0;32m~/Software/miniconda3/envs/bss-d/lib/python3.9/site-packages/BioSimSpace/Align/_align.py:606\u001b[0m, in \u001b[0;36mgenerateNetwork\u001b[0;34m(molecules, names, work_dir, plot_network, links_file, property_map, n_edges_forced)\u001b[0m\n\u001b[1;32m    604\u001b[0m             msg += \": \" + getattr(e, \"message\", repr(e))\n\u001b[1;32m    605\u001b[0m             raise _AlignmentError(msg) from e\n\u001b[0;32m--> 606\u001b[0m         else:\n\u001b[1;32m    607\u001b[0m             raise _AlignmentError(msg) from None\n\u001b[1;32m    609\u001b[0m return edges, scores\n",
      "\u001b[0;31mAlignmentError\u001b[0m: Unable to create network plot!"
     ]
    }
   ],
   "source": [
    "ligand_files = glob.glob(\"{}/*.sdf\".format(path_to_ligands))\n",
    "\n",
    "ligands = []\n",
    "ligand_names = []\n",
    "\n",
    "for filepath in ligand_files:\n",
    "    ligands.append(bss.IO.readMolecules(filepath)[0])\n",
    "    ligand_names.append(filepath.split(\"/\")[-1].replace(\".sdf\",\"\"))\n",
    "\n",
    "tranformations, lomap_scores = align.generateNetwork(ligands, plot_network=True)"
   ]
  },
  {
   "cell_type": "code",
   "execution_count": 24,
   "metadata": {},
   "outputs": [
    {
     "data": {
      "text/plain": [
       "[1.2214,\n",
       " 1.2214,\n",
       " 1.2214,\n",
       " 1.2214,\n",
       " 1.2214,\n",
       " 1.2214,\n",
       " 1.2214,\n",
       " 1.2214,\n",
       " 1.2214,\n",
       " 1.2214,\n",
       " 1.2214,\n",
       " 1.2214,\n",
       " 1.2214,\n",
       " 1.2214,\n",
       " 1.2214,\n",
       " 1.2214,\n",
       " 1.2214,\n",
       " 1.2214,\n",
       " 1.2214,\n",
       " 1.2214,\n",
       " 1.2214,\n",
       " 1.2214,\n",
       " 1.2214,\n",
       " 1.2214,\n",
       " 1.2214,\n",
       " 1.2214,\n",
       " 1.2214,\n",
       " 1.2214,\n",
       " 1.2214,\n",
       " 1.2214,\n",
       " 1.2214,\n",
       " 1.2214,\n",
       " 1.2214,\n",
       " 1.2214,\n",
       " 1.2214,\n",
       " 1.2214,\n",
       " 1.2214,\n",
       " 1.2214,\n",
       " 1.2214,\n",
       " 1.2214,\n",
       " 1.2214,\n",
       " 1.2214,\n",
       " 1.2214,\n",
       " 1.2214,\n",
       " 1.2214,\n",
       " 1.2214,\n",
       " 1.2214,\n",
       " 1.2214,\n",
       " 1.2214,\n",
       " 1.2214,\n",
       " 1.2214,\n",
       " 1.2214,\n",
       " 1.2214,\n",
       " 1.2214,\n",
       " 1.2214,\n",
       " 1.2214,\n",
       " 1.2214,\n",
       " 1.2214,\n",
       " 1.2214,\n",
       " 1.2214,\n",
       " 1.2214,\n",
       " 1.2214,\n",
       " 1.2214,\n",
       " 1.2214,\n",
       " 1.2214,\n",
       " 1.2214,\n",
       " 1.2214,\n",
       " 1.2214,\n",
       " 1.2214,\n",
       " 1.2214,\n",
       " 1.2214,\n",
       " 1.2214,\n",
       " 1.2214,\n",
       " 1.2214,\n",
       " 1.2214,\n",
       " 1.2214,\n",
       " 1.2214,\n",
       " 1.2214,\n",
       " 1.2214,\n",
       " 1.2214,\n",
       " 1.2214,\n",
       " 1.2214,\n",
       " 1.2214,\n",
       " 1.2214,\n",
       " 1.2214,\n",
       " 1.2214,\n",
       " 1.2214,\n",
       " 1.2214,\n",
       " 1.2214,\n",
       " 1.2214,\n",
       " 1.2214,\n",
       " 1.2214,\n",
       " 1.2214,\n",
       " 1.2214,\n",
       " 1.2214,\n",
       " 1.2214,\n",
       " 1.2214,\n",
       " 1.2214,\n",
       " 1.2214,\n",
       " 1.2214,\n",
       " 1.2214,\n",
       " 1.2214,\n",
       " 1.2214,\n",
       " 1.2214,\n",
       " 1.2214]"
      ]
     },
     "execution_count": 24,
     "metadata": {},
     "output_type": "execute_result"
    }
   ],
   "source": [
    "lomap_scores"
   ]
  },
  {
   "cell_type": "code",
   "execution_count": null,
   "metadata": {},
   "outputs": [],
   "source": []
  },
  {
   "cell_type": "code",
   "execution_count": null,
   "metadata": {},
   "outputs": [],
   "source": []
  }
 ],
 "metadata": {
  "kernelspec": {
   "display_name": "Python 3.9.13 ('bss-d')",
   "language": "python",
   "name": "python3"
  },
  "language_info": {
   "codemirror_mode": {
    "name": "ipython",
    "version": 3
   },
   "file_extension": ".py",
   "mimetype": "text/x-python",
   "name": "python",
   "nbconvert_exporter": "python",
   "pygments_lexer": "ipython3",
   "version": "3.9.13"
  },
  "orig_nbformat": 4,
  "vscode": {
   "interpreter": {
    "hash": "f81d097606b2934fa8d1922533f78f64a436eb4cf1588d61ff1c0b79a2076e9c"
   }
  }
 },
 "nbformat": 4,
 "nbformat_minor": 2
}
