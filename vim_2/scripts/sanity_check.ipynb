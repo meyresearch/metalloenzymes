{
 "cells": [
  {
   "cell_type": "code",
   "execution_count": 1,
   "metadata": {},
   "outputs": [
    {
     "ename": "AttributeError",
     "evalue": "'super' object has no attribute '_ipython_display_'",
     "output_type": "error",
     "traceback": [
      "\u001b[0;31m---------------------------------------------------------------------------\u001b[0m",
      "\u001b[0;31mAttributeError\u001b[0m                            Traceback (most recent call last)",
      "Cell \u001b[0;32mIn [1], line 2\u001b[0m\n\u001b[1;32m      1\u001b[0m \u001b[39mimport\u001b[39;00m \u001b[39mMDAnalysis\u001b[39;00m \u001b[39mas\u001b[39;00m \u001b[39mmda\u001b[39;00m\n\u001b[0;32m----> 2\u001b[0m \u001b[39mimport\u001b[39;00m \u001b[39mnglview\u001b[39;00m \u001b[39mas\u001b[39;00m \u001b[39mnv\u001b[39;00m\n",
      "File \u001b[0;32m~/Software/miniconda3/envs/bss-d/lib/python3.9/site-packages/nglview/__init__.py:4\u001b[0m\n\u001b[1;32m      1\u001b[0m \u001b[39mimport\u001b[39;00m \u001b[39mwarnings\u001b[39;00m\n\u001b[1;32m      3\u001b[0m \u001b[39m# for doc\u001b[39;00m\n\u001b[0;32m----> 4\u001b[0m \u001b[39mfrom\u001b[39;00m \u001b[39m.\u001b[39;00m \u001b[39mimport\u001b[39;00m adaptor, datafiles, show, widget\n\u001b[1;32m      5\u001b[0m \u001b[39mfrom\u001b[39;00m \u001b[39m.\u001b[39;00m\u001b[39m_version\u001b[39;00m \u001b[39mimport\u001b[39;00m get_versions\n\u001b[1;32m      6\u001b[0m \u001b[39mfrom\u001b[39;00m \u001b[39m.\u001b[39;00m\u001b[39madaptor\u001b[39;00m \u001b[39mimport\u001b[39;00m \u001b[39m*\u001b[39m\n",
      "File \u001b[0;32m~/Software/miniconda3/envs/bss-d/lib/python3.9/site-packages/nglview/show.py:13\u001b[0m\n\u001b[1;32m      3\u001b[0m \u001b[39mfrom\u001b[39;00m \u001b[39m.\u001b[39;00m \u001b[39mimport\u001b[39;00m datafiles\n\u001b[1;32m      4\u001b[0m \u001b[39mfrom\u001b[39;00m \u001b[39m.\u001b[39;00m\u001b[39madaptor\u001b[39;00m \u001b[39mimport\u001b[39;00m (ASEStructure, ASETrajectory, BiopythonStructure,\n\u001b[1;32m      5\u001b[0m                       FileStructure, HTMDTrajectory, IODataStructure,\n\u001b[1;32m      6\u001b[0m                       IOTBXStructure, MDAnalysisTrajectory, MDTrajTrajectory,\n\u001b[0;32m   (...)\u001b[0m\n\u001b[1;32m     11\u001b[0m                       RdkitStructure,\n\u001b[1;32m     12\u001b[0m                       TextStructure)\n\u001b[0;32m---> 13\u001b[0m \u001b[39mfrom\u001b[39;00m \u001b[39m.\u001b[39;00m\u001b[39mwidget\u001b[39;00m \u001b[39mimport\u001b[39;00m NGLWidget\n\u001b[1;32m     15\u001b[0m __all__ \u001b[39m=\u001b[39m [\n\u001b[1;32m     16\u001b[0m     \u001b[39m'\u001b[39m\u001b[39mdemo\u001b[39m\u001b[39m'\u001b[39m,\n\u001b[1;32m     17\u001b[0m     \u001b[39m'\u001b[39m\u001b[39mshow_pdbid\u001b[39m\u001b[39m'\u001b[39m,\n\u001b[0;32m   (...)\u001b[0m\n\u001b[1;32m     40\u001b[0m     \u001b[39m'\u001b[39m\u001b[39mshow_biopython\u001b[39m\u001b[39m'\u001b[39m,\n\u001b[1;32m     41\u001b[0m ]\n\u001b[1;32m     44\u001b[0m \u001b[39mdef\u001b[39;00m \u001b[39mshow_pdbid\u001b[39m(pdbid, \u001b[39m*\u001b[39m\u001b[39m*\u001b[39mkwargs):\n",
      "File \u001b[0;32m~/Software/miniconda3/envs/bss-d/lib/python3.9/site-packages/nglview/widget.py:19\u001b[0m\n\u001b[1;32m     15\u001b[0m \u001b[39mfrom\u001b[39;00m \u001b[39mtraitlets\u001b[39;00m \u001b[39mimport\u001b[39;00m (Bool, CaselessStrEnum, Dict, Instance, Int, Integer,\n\u001b[1;32m     16\u001b[0m                        List, Unicode, observe, validate)\n\u001b[1;32m     17\u001b[0m \u001b[39mimport\u001b[39;00m \u001b[39mtraitlets\u001b[39;00m\n\u001b[0;32m---> 19\u001b[0m \u001b[39mfrom\u001b[39;00m \u001b[39m.\u001b[39;00m \u001b[39mimport\u001b[39;00m color, interpolate\n\u001b[1;32m     20\u001b[0m \u001b[39mfrom\u001b[39;00m \u001b[39m.\u001b[39;00m\u001b[39madaptor\u001b[39;00m \u001b[39mimport\u001b[39;00m Structure, Trajectory\n\u001b[1;32m     21\u001b[0m \u001b[39mfrom\u001b[39;00m \u001b[39m.\u001b[39;00m\u001b[39mcomponent\u001b[39;00m \u001b[39mimport\u001b[39;00m ComponentViewer\n",
      "File \u001b[0;32m~/Software/miniconda3/envs/bss-d/lib/python3.9/site-packages/nglview/color.py:114\u001b[0m\n\u001b[1;32m    110\u001b[0m         \u001b[39melse\u001b[39;00m:\n\u001b[1;32m    111\u001b[0m             \u001b[39mraise\u001b[39;00m \u001b[39mValueError\u001b[39;00m(\u001b[39mf\u001b[39m\u001b[39m\"\u001b[39m\u001b[39m{\u001b[39;00mobj\u001b[39m}\u001b[39;00m\u001b[39m must be either list of list or string\u001b[39m\u001b[39m\"\u001b[39m)\n\u001b[0;32m--> 114\u001b[0m ColormakerRegistry \u001b[39m=\u001b[39m _ColormakerRegistry()\n",
      "File \u001b[0;32m~/Software/miniconda3/envs/bss-d/lib/python3.9/site-packages/nglview/base.py:10\u001b[0m, in \u001b[0;36m_singleton.<locals>.getinstance\u001b[0;34m()\u001b[0m\n\u001b[1;32m      8\u001b[0m \u001b[39mdef\u001b[39;00m \u001b[39mgetinstance\u001b[39m():\n\u001b[1;32m      9\u001b[0m     \u001b[39mif\u001b[39;00m \u001b[39mcls\u001b[39m \u001b[39mnot\u001b[39;00m \u001b[39min\u001b[39;00m instances:\n\u001b[0;32m---> 10\u001b[0m         instances[\u001b[39mcls\u001b[39m] \u001b[39m=\u001b[39m \u001b[39mcls\u001b[39;49m()\n\u001b[1;32m     11\u001b[0m     \u001b[39mreturn\u001b[39;00m instances[\u001b[39mcls\u001b[39m]\n",
      "File \u001b[0;32m~/Software/miniconda3/envs/bss-d/lib/python3.9/site-packages/nglview/color.py:47\u001b[0m, in \u001b[0;36m_ColormakerRegistry.__init__\u001b[0;34m(self, *args, **kwargs)\u001b[0m\n\u001b[1;32m     45\u001b[0m \u001b[39mtry\u001b[39;00m:\n\u001b[1;32m     46\u001b[0m     get_ipython() \u001b[39m# only display in notebook\u001b[39;00m\n\u001b[0;32m---> 47\u001b[0m     \u001b[39mself\u001b[39;49m\u001b[39m.\u001b[39;49m_ipython_display_()\n\u001b[1;32m     48\u001b[0m \u001b[39mexcept\u001b[39;00m \u001b[39mNameError\u001b[39;00m:\n\u001b[1;32m     49\u001b[0m     \u001b[39mpass\u001b[39;00m\n",
      "File \u001b[0;32m~/Software/miniconda3/envs/bss-d/lib/python3.9/site-packages/nglview/color.py:54\u001b[0m, in \u001b[0;36m_ColormakerRegistry._ipython_display_\u001b[0;34m(self, **kwargs)\u001b[0m\n\u001b[1;32m     52\u001b[0m \u001b[39mif\u001b[39;00m \u001b[39mself\u001b[39m\u001b[39m.\u001b[39m_ready:\n\u001b[1;32m     53\u001b[0m     \u001b[39mreturn\u001b[39;00m\n\u001b[0;32m---> 54\u001b[0m \u001b[39msuper\u001b[39;49m()\u001b[39m.\u001b[39;49m_ipython_display_(\u001b[39m*\u001b[39m\u001b[39m*\u001b[39mkwargs)\n",
      "\u001b[0;31mAttributeError\u001b[0m: 'super' object has no attribute '_ipython_display_'"
     ]
    }
   ],
   "source": [
    "import MDAnalysis as mda\n",
    "import nglview as nv"
   ]
  },
  {
   "cell_type": "code",
   "execution_count": 2,
   "metadata": {},
   "outputs": [
    {
     "name": "stderr",
     "output_type": "stream",
     "text": [
      "Warning: importing 'simtk.openmm' is deprecated.  Import 'openmm' instead.\n"
     ]
    }
   ],
   "source": [
    "universe = mda.Universe(\"../nvt/nvt.gro\", \"../nvt/nvt.xtc\")\n",
    "ligands = universe.select_atoms(\"resname PT1 or name ZN1 or name ZN2\")\n",
    "ligand_atoms = ligand.atoms.names\n",
    "phosphate = \"P06\""
   ]
  },
  {
   "cell_type": "code",
   "execution_count": 3,
   "metadata": {},
   "outputs": [
    {
     "data": {
      "application/vnd.jupyter.widget-view+json": {
       "model_id": "502c187e65af4b09aa5e15f77bf0aedb",
       "version_major": 2,
       "version_minor": 0
      },
      "text/plain": [
       "NGLWidget(max_frame=552)"
      ]
     },
     "metadata": {},
     "output_type": "display_data"
    }
   ],
   "source": [
    "view = nv.show_mdanalysis(ligands)\n",
    "view"
   ]
  },
  {
   "cell_type": "code",
   "execution_count": 33,
   "metadata": {},
   "outputs": [
    {
     "name": "stdout",
     "output_type": "stream",
     "text": [
      "('C', 'P')\n",
      "('C', 'P')\n",
      "('C', 'P')\n",
      "('C', 'P')\n",
      "('C', 'P')\n",
      "('C', 'P')\n",
      "('C', 'P')\n",
      "('C', 'P')\n",
      "('C', 'P')\n",
      "('C', 'P')\n",
      "('F', 'P')\n",
      "('F', 'P')\n",
      "('O', 'P')\n",
      "('O', 'P')\n",
      "('O', 'P')\n",
      "('O', 'P')\n",
      "('O', 'P')\n",
      "('P', 'H')\n",
      "('P', 'H')\n",
      "('P', 'H')\n",
      "('P', 'H')\n",
      "('P', 'H')\n",
      "('P', 'H')\n"
     ]
    }
   ],
   "source": [
    "for atom in ligand_atoms:\n",
    "    if atom != phosphate:\n",
    "        temp_group = ligand.select_atoms(f\"name {phosphate} or name {atom}\")\n",
    "        print(temp_group.bond.type) "
   ]
  },
  {
   "cell_type": "code",
   "execution_count": 8,
   "metadata": {},
   "outputs": [
    {
     "name": "stdout",
     "output_type": "stream",
     "text": [
      "('C', 'P')\n",
      "('C', 'P')\n",
      "('C', 'P')\n",
      "('C', 'P')\n",
      "('C', 'P')\n",
      "('C', 'P')\n",
      "('C', 'P')\n",
      "('C', 'P')\n",
      "('C', 'P')\n",
      "('C', 'P')\n",
      "('F', 'P')\n",
      "('F', 'P')\n",
      "('O', 'P')\n",
      "('O', 'P')\n",
      "('O', 'P')\n",
      "('O', 'P')\n",
      "('O', 'P')\n",
      "('P', 'H')\n",
      "('P', 'H')\n",
      "('P', 'H')\n",
      "('P', 'H')\n",
      "('P', 'H')\n",
      "('P', 'H')\n"
     ]
    }
   ],
   "source": [
    "universe = mda.Universe(\"../production/md.gro\", \"../production/md_nopbc.xtc\")\n",
    "ligands = universe.select_atoms(\"resname PT1 or name ZN1 or name ZN2\")\n",
    "ligand_atoms = ligands.atoms.names\n",
    "phosphate = \"P06\"\n",
    "for atom in ligand_atoms:\n",
    "    if atom != phosphate:\n",
    "        temp_group = ligands.select_atoms(f\"name {phosphate} or name {atom}\")\n",
    "        print(temp_group.bond.type) "
   ]
  },
  {
   "cell_type": "code",
   "execution_count": null,
   "metadata": {},
   "outputs": [],
   "source": []
  }
 ],
 "metadata": {
  "kernelspec": {
   "display_name": "Python 3.9.13 ('bss-d')",
   "language": "python",
   "name": "python3"
  },
  "language_info": {
   "codemirror_mode": {
    "name": "ipython",
    "version": 3
   },
   "file_extension": ".py",
   "mimetype": "text/x-python",
   "name": "python",
   "nbconvert_exporter": "python",
   "pygments_lexer": "ipython3",
   "version": "3.9.13"
  },
  "orig_nbformat": 4,
  "vscode": {
   "interpreter": {
    "hash": "f81d097606b2934fa8d1922533f78f64a436eb4cf1588d61ff1c0b79a2076e9c"
   }
  }
 },
 "nbformat": 4,
 "nbformat_minor": 2
}
