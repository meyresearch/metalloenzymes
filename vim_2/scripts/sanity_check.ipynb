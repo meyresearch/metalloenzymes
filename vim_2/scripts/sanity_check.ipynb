{
 "cells": [
  {
   "cell_type": "code",
   "execution_count": 1,
   "metadata": {},
   "outputs": [
    {
     "data": {
      "application/vnd.jupyter.widget-view+json": {
       "model_id": "d5964db6516046989694572b3110f432",
       "version_major": 2,
       "version_minor": 0
      },
      "text/plain": []
     },
     "metadata": {},
     "output_type": "display_data"
    }
   ],
   "source": [
    "import MDAnalysis as mda\n",
    "import nglview as nv"
   ]
  },
  {
   "cell_type": "code",
   "execution_count": 2,
   "metadata": {},
   "outputs": [
    {
     "name": "stderr",
     "output_type": "stream",
     "text": [
      "Warning: importing 'simtk.openmm' is deprecated.  Import 'openmm' instead.\n"
     ]
    }
   ],
   "source": [
    "universe = mda.Universe(\"../nvt/nvt.gro\", \"../nvt/nvt.xtc\")\n",
    "ligands = universe.select_atoms(\"resname PT1 or name ZN1 or name ZN2\")\n",
    "# ligand_atoms = ligand.atoms.names\n",
    "# phosphate = \"P06\""
   ]
  },
  {
   "cell_type": "code",
   "execution_count": 3,
   "metadata": {},
   "outputs": [
    {
     "data": {
      "application/vnd.jupyter.widget-view+json": {
       "model_id": "502c187e65af4b09aa5e15f77bf0aedb",
       "version_major": 2,
       "version_minor": 0
      },
      "text/plain": [
       "NGLWidget(max_frame=552)"
      ]
     },
     "metadata": {},
     "output_type": "display_data"
    }
   ],
   "source": [
    "view = nv.show_mdanalysis(ligands)\n",
    "view"
   ]
  },
  {
   "cell_type": "code",
   "execution_count": 33,
   "metadata": {},
   "outputs": [
    {
     "name": "stdout",
     "output_type": "stream",
     "text": [
      "('C', 'P')\n",
      "('C', 'P')\n",
      "('C', 'P')\n",
      "('C', 'P')\n",
      "('C', 'P')\n",
      "('C', 'P')\n",
      "('C', 'P')\n",
      "('C', 'P')\n",
      "('C', 'P')\n",
      "('C', 'P')\n",
      "('F', 'P')\n",
      "('F', 'P')\n",
      "('O', 'P')\n",
      "('O', 'P')\n",
      "('O', 'P')\n",
      "('O', 'P')\n",
      "('O', 'P')\n",
      "('P', 'H')\n",
      "('P', 'H')\n",
      "('P', 'H')\n",
      "('P', 'H')\n",
      "('P', 'H')\n",
      "('P', 'H')\n"
     ]
    }
   ],
   "source": [
    "for atom in ligand_atoms:\n",
    "    if atom != phosphate:\n",
    "        temp_group = ligand.select_atoms(f\"name {phosphate} or name {atom}\")\n",
    "        print(temp_group.bond.type) "
   ]
  },
  {
   "cell_type": "code",
   "execution_count": null,
   "metadata": {},
   "outputs": [],
   "source": []
  }
 ],
 "metadata": {
  "kernelspec": {
   "display_name": "Python 3.9.13 ('bss-d')",
   "language": "python",
   "name": "python3"
  },
  "language_info": {
   "codemirror_mode": {
    "name": "ipython",
    "version": 3
   },
   "file_extension": ".py",
   "mimetype": "text/x-python",
   "name": "python",
   "nbconvert_exporter": "python",
   "pygments_lexer": "ipython3",
   "version": "3.9.13"
  },
  "orig_nbformat": 4,
  "vscode": {
   "interpreter": {
    "hash": "f81d097606b2934fa8d1922533f78f64a436eb4cf1588d61ff1c0b79a2076e9c"
   }
  }
 },
 "nbformat": 4,
 "nbformat_minor": 2
}
