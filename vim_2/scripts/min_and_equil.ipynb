{
 "cells": [
  {
   "cell_type": "code",
   "execution_count": 2,
   "metadata": {},
   "outputs": [],
   "source": [
    "import BioSimSpace as bss\n",
    "import os\n",
    "import nglview as nv\n",
    "import subprocess as sp"
   ]
  },
  {
   "cell_type": "code",
   "execution_count": 3,
   "metadata": {},
   "outputs": [],
   "source": [
    "def change_barostat(system: bss._SireWrappers._system.System,\n",
    "                    protocol: bss.Protocol._equilibration.Equilibration,\n",
    "                    work_directory: str,\n",
    "                    process_name: str) -> None:\n",
    "    \"\"\"\n",
    "    Change barostat in .mdp file for NPT runs\n",
    "    @param: system\n",
    "    @param: protocol\n",
    "    @param: work_directory\n",
    "    @param: process name\n",
    "    @return: None\n",
    "    \"\"\"\n",
    "    try:\n",
    "        process = bss.Process.Gromacs(system,\n",
    "                                      protocol,\n",
    "                                      name=process_name,\n",
    "                                      work_dir=work_directory)\n",
    "    except RuntimeError:\n",
    "\n",
    "        with open(f\"{work_directory}/{process_name}.mdp\", \"r\") as mdp:\n",
    "            lines = mdp.read()\n",
    "\n",
    "        new_lines = lines.replace(\"pcoupl = berendsen\", \"pcoupl = C-rescale\")\n",
    "        with open(f\"{work_directory}/{process_name}.mdp\", \"w\") as mdp:\n",
    "            mdp.write(new_lines)\n"
   ]
  },
  {
   "cell_type": "code",
   "execution_count": 4,
   "metadata": {},
   "outputs": [],
   "source": [
    "def write_mdp(work_dir: str, process_name: str, custom_options=[], default=True):\n",
    "    \"\"\"\n",
    "    Write an mdp file for minimisation\n",
    "    \"\"\"\n",
    "    default_options = [\"nstlog = 100\",\n",
    "                       \"integrator = steep\",\n",
    "                       \"nstcgsteep = 1000\",\n",
    "                       \"nsteps = 2000\",\n",
    "                       \"pbc = xyz\",\n",
    "                       \"cutoff-scheme = Verlet\",\n",
    "                       \"ns-type = grid\",\n",
    "                       \"nstlist = 20\",\n",
    "                       \"coulombtype = PME\",\n",
    "                       \"rvdw = 1.0\",\n",
    "                       \"rcoulomb = 1.0\",\n",
    "                       \"DispCorr = EnerPres\",\n",
    "                       \"vdwtype = Cut-off\",\n",
    "                       \"refcoord-scaling = all\"]\n",
    "    if default: \n",
    "        # print(\"Writing default mdp file.\")\n",
    "        with open(f\"{work_dir}/{process_name}.mdp\", \"w\") as mdp:\n",
    "            for opt in default_options:\n",
    "                mdp.write(f\"{opt}\\n\")\n",
    "        if len(custom_options) > 0:\n",
    "            # print(\"Appending custom options.\")\n",
    "            with open(f\"{work_dir}/{process_name}.mdp\", \"a\") as mdp:\n",
    "                for opt in custom_options:\n",
    "                    mdp.write(f\"{opt}\\n\")\n",
    "    elif not default and custom_options != []:\n",
    "        # print(\"Writing custom mdp file.\")\n",
    "        with open(f\"{work_dir}/{process_name}.mdp\", \"w\") as mdp:\n",
    "            for opt in custom_options:\n",
    "                mdp.write(f\"{opt}\\n\")\n",
    "    else:\n",
    "        print(\"Custom options not specified. Not writing mdp file.\")\n",
    "\n"
   ]
  },
  {
   "cell_type": "code",
   "execution_count": 57,
   "metadata": {},
   "outputs": [],
   "source": [
    "def write_script(work_dir: str, process_name: str, restrained=False, previous=\"\") -> str:\n",
    "    script_name = work_dir + \"/\" + process_name + \".sh\"\n",
    "    with open(script_name, \"w\") as script:\n",
    "        script.write(\"#!/bin/bash \\n\")\n",
    "        script.write(f\"cd {work_dir} \\n\")\n",
    "        if not restrained and previous == \"\":\n",
    "            script.write(f\"gmx grompp -f {process_name}.mdp -c {process_name}.gro -p {process_name}.top -o {process_name}.tpr \\n\")\n",
    "        elif not restrained and previous != \"\":\n",
    "            script.write(f\"gmx grompp -f {process_name}.mdp -c {previous}.gro -p {process_name}.top -t {previous}.cpt -o {process_name}.tpr \\n\")\n",
    "        elif restrained and previous != \"\":\n",
    "            script.write(f\"gmx grompp -f {process_name}.mdp -c {previous}.gro -r {previous}.gro -p {process_name}.top -t {previous}.cpt -o {process_name}.tpr \\n\") \n",
    "        script.write(f\"nohup gmx mdrun -v -deffnm {process_name} -nt 1 -nb gpu > nohup_{process_name}.out &\")\n",
    "    os.system(f\"chmod +x {script_name}\")\n",
    "    executable = f\"sh {script_name}\"\n",
    "    return executable\n"
   ]
  },
  {
   "cell_type": "code",
   "execution_count": 58,
   "metadata": {},
   "outputs": [],
   "source": [
    "minimisation_steps = 2000\n",
    "picosecond = bss.Units.Time.picosecond\n",
    "kelvin = bss.Units.Temperature.kelvin\n",
    "atm = bss.Units.Pressure.atm\n",
    "short_nvt_runtime = 5 * picosecond\n",
    "nvt_runtime = 50 * picosecond\n",
    "npt_runtime = 200 * picosecond\n",
    "\n"
   ]
  },
  {
   "cell_type": "code",
   "execution_count": 59,
   "metadata": {},
   "outputs": [],
   "source": [
    "n_ligands = 2\n",
    "for i in range(n_ligands):\n",
    "    ligand_datafile = open(\"ligands.dat\", \"r\")\n",
    "    ligand_lines = ligand_datafile.readlines()\n",
    "    ligand_name = ligand_lines[i].rstrip()\n",
    "    os.system(f\"mkdir -p ../runs/equilibration/ligands/{ligand_name}\")\n",
    "    ligand_work_dir = f\"../runs/equilibration/ligands/{ligand_name}\"\n",
    "    solvated_ligand = bss.IO.readMolecules([f\"../inputs/ligands/{ligand_name}_solv.prm7\",\n",
    "                                            f\"../inputs/ligands/{ligand_name}_solv.rst7\"])\n",
    "    ligand_minimisation_protocol = bss.Protocol.Minimisation(steps=minimisation_steps)\n",
    "    ligand_minimisation_process = bss.Process.Gromacs(solvated_ligand,\n",
    "                                                      ligand_minimisation_protocol,\n",
    "                                                      name=\"min\",\n",
    "                                                      work_dir=ligand_work_dir)\n",
    "    write_mdp(ligand_work_dir, \"min\")\n",
    "    ligand_min_script = write_script(ligand_work_dir, \"min\")\n",
    "    # minimised_ligand = bss.IO.readMolecules([f\"{ligand_work_dir}/min.gro\",\n",
    "    #                                          f\"{ligand_work_dir}/min.top\"])\n",
    "\n",
    "    # ligand_r_nvt_protocol = bss.Protocol.Equilibration(runtime=short_nvt_runtime,\n",
    "    #                                                    temperature_start=0*kelvin,\n",
    "    #                                                    temperature_end=300*kelvin,\n",
    "    #                                                    restraint=\"all\")\n",
    "    # ligand_r_nvt_process = bss.Process.Gromacs(minimised_ligand,\n",
    "    #                                            ligand_r_nvt_protocol,\n",
    "    #                                            name=\"r_nvt\",\n",
    "    #                                            work_dir=ligand_work_dir)\n",
    "    # ligand_r_nvt_script = write_script(ligand_work_dir, \"r_nvt\", restrained=True, previous=\"min\")\n",
    "    \n",
    "    # restrained_nvt_ligand = bss.IO.readMolecules([f\"{ligand_work_dir}/r_nvt.gro\",\n",
    "    #                                               f\"{ligand_work_dir}/r_nvt.top\"])\n",
    "    # ligand_nvt_protocol = bss.Protocol.Equilibration(runtime=nvt_runtime,\n",
    "    #                                                  temperature=300*kelvin)\n",
    "    # ligand_nvt_process = bss.Process.Gromacs(restrained_nvt_ligand,\n",
    "    #                                          ligand_nvt_protocol,\n",
    "    #                                          name=\"nvt\",\n",
    "    #                                          work_dir=ligand_work_dir)\n",
    "    # ligand_nvt_script = write_script(ligand_work_dir, \"nvt\", previous=\"r_nvt\")\n",
    "\n",
    "    # ligand_nvt = bss.IO.readMolecules([f\"{ligand_work_dir}/nvt.gro\",\n",
    "    #                                    f\"{ligand_work_dir}/nvt.top\"])\n",
    "    # ligand_r_npt_protocol = bss.Protocol.Equilibration(runtime=npt_runtime,\n",
    "    #                                                    pressure=1*atm,\n",
    "    #                                                    temperature=300*kelvin,\n",
    "    #                                                    restraint=\"heavy\")\n",
    "    # change_barostat(ligand_nvt, ligand_r_npt_protocol, ligand_work_dir, \"r_npt\")\n",
    "    # ligand_r_npt_script = write_script(ligand_work_dir, \"r_npt\", restrained=True, previous=\"nvt\")\n",
    "\n",
    "    # restrained_npt_ligand = bss.IO.readMolecules([f\"{ligand_work_dir}/r_npt.gro\",\n",
    "    #                                               f\"{ligand_work_dir}/r_npt.top\"])\n",
    "    # ligand_npt_protocol = bss.Protocol.Equilibration(runtime=npt_runtime,\n",
    "    #                                                  pressure=1*atm,\n",
    "    #                                                  temperature=300*kelvin)    \n",
    "    # change_barostat(restrained_npt_ligand, ligand_npt_protocol, ligand_work_dir, \"npt\")\n",
    "    # ligand_npt_script = write_script(ligand_work_dir, \"npt\", previous=\"r_npt\")\n"
   ]
  },
  {
   "cell_type": "code",
   "execution_count": 62,
   "metadata": {},
   "outputs": [
    {
     "name": "stdout",
     "output_type": "stream",
     "text": [
      "Setting the LD random seed to -150995605\n",
      "\n",
      "Generated 136 of the 136 non-bonded parameter combinations\n",
      "\n",
      "Generated 136 of the 136 1-4 parameter combinations\n",
      "\n",
      "Excluding 3 bonded neighbours molecule type 'MOL'\n",
      "\n",
      "Excluding 3 bonded neighbours molecule type 'SOL'\n",
      "\n",
      "Excluding 3 bonded neighbours molecule type 'NA'\n",
      "Analysing residue names:\n",
      "There are:     1      Other residues\n",
      "There are:   673      Water residues\n",
      "There are:     1        Ion residues\n",
      "Analysing residues not classified as Protein/DNA/RNA/Water and splitting into groups...\n",
      "Analysing residues not classified as Protein/DNA/RNA/Water and splitting into groups...\n",
      "\n",
      "The largest distance between excluded atoms is 0.402 nm\n",
      "Calculating fourier grid dimensions for X Y Z\n",
      "Using a fourier grid of 24x24x24, spacing 0.115 0.115 0.115\n",
      "\n",
      "Estimate for the relative computational load of the PME mesh part: 0.30\n",
      "\n",
      "This run will generate roughly 0 Mb of data\n"
     ]
    },
    {
     "data": {
      "text/plain": [
       "CompletedProcess(args='sh ../runs/equilibration/ligands/ligand_10/min.sh', returncode=0)"
      ]
     },
     "execution_count": 62,
     "metadata": {},
     "output_type": "execute_result"
    }
   ],
   "source": [
    "sp.run(ligand_min_script, shell=True)"
   ]
  },
  {
   "cell_type": "code",
   "execution_count": null,
   "metadata": {},
   "outputs": [],
   "source": []
  },
  {
   "cell_type": "code",
   "execution_count": null,
   "metadata": {},
   "outputs": [],
   "source": [
    "sp.run(ligand_nvt_script)\n"
   ]
  },
  {
   "cell_type": "code",
   "execution_count": null,
   "metadata": {},
   "outputs": [],
   "source": [
    "sp.run(ligand_r_npt_script)\n"
   ]
  },
  {
   "cell_type": "code",
   "execution_count": null,
   "metadata": {},
   "outputs": [],
   "source": [
    "sp.run(ligand_npt_script)"
   ]
  }
 ],
 "metadata": {
  "kernelspec": {
   "display_name": "Python 3.9.13 ('sire')",
   "language": "python",
   "name": "python3"
  },
  "language_info": {
   "codemirror_mode": {
    "name": "ipython",
    "version": 3
   },
   "file_extension": ".py",
   "mimetype": "text/x-python",
   "name": "python",
   "nbconvert_exporter": "python",
   "pygments_lexer": "ipython3",
   "version": "3.9.13"
  },
  "orig_nbformat": 4,
  "vscode": {
   "interpreter": {
    "hash": "d26aaf8360ec79b5d34f6b3f2ca21f083671eb70d713101a39f31e19235f4f34"
   }
  }
 },
 "nbformat": 4,
 "nbformat_minor": 2
}
