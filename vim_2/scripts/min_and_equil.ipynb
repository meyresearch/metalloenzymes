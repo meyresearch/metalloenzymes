{
 "cells": [
  {
   "cell_type": "code",
   "execution_count": 6,
   "metadata": {},
   "outputs": [],
   "source": [
    "import BioSimSpace as bss\n",
    "import os"
   ]
  },
  {
   "cell_type": "code",
   "execution_count": 7,
   "metadata": {},
   "outputs": [],
   "source": [
    "def change_integrator(system: bss._SireWrappers._system.System,protocol: bss.Protocol._minimisation.Minimisation,\n",
    "                      work_dir: str, process_name: str) -> None:\n",
    "    \"\"\"\n",
    "    Change the MD integrator in the minimisation process\n",
    "    @param: system\n",
    "    @param: protocol\n",
    "    @param: work_dir\n",
    "    @param: process_name\n",
    "    @return: None\n",
    "    \"\"\"\n",
    "    try:\n",
    "        process = bss.Process.Gromacs(system, protocol, name=process_name, work_dir=work_dir)\n",
    "    except RuntimeError:\n",
    "        with open(f\"{work_dir}/{process_name}.mdp\", \"r\") as mdp:\n",
    "            lines = mdp.read()\n",
    "        new_lines = lines.replace(\"integrator = cg\", \"integrator = steep\")\n",
    "        with open(f\"{work_dir}/{process_name}.mdp\", \"w\") as mdp:\n",
    "            mdp.write(new_lines)\n"
   ]
  },
  {
   "cell_type": "code",
   "execution_count": 2,
   "metadata": {},
   "outputs": [],
   "source": [
    "minimisation_steps = 2000\n",
    "short_nvt_runtime = 5 # ps\n",
    "nvt_runtime = 50 # ps\n",
    "npt_runtime = 200 # ps \n"
   ]
  },
  {
   "cell_type": "code",
   "execution_count": 9,
   "metadata": {},
   "outputs": [
    {
     "name": "stdout",
     "output_type": "stream",
     "text": [
      "Setting the LD random seed to -272498755\n",
      "\n",
      "Generated 136 of the 136 non-bonded parameter combinations\n",
      "\n",
      "Generated 136 of the 136 1-4 parameter combinations\n",
      "\n",
      "Excluding 3 bonded neighbours molecule type 'MOL'\n",
      "\n",
      "Excluding 3 bonded neighbours molecule type 'SOL'\n",
      "\n",
      "Excluding 3 bonded neighbours molecule type 'NA'\n",
      "Analysing residue names:\n",
      "There are:     1      Other residues\n",
      "There are:   640      Water residues\n",
      "There are:     1        Ion residues\n",
      "Analysing residues not classified as Protein/DNA/RNA/Water and splitting into groups...\n",
      "Analysing residues not classified as Protein/DNA/RNA/Water and splitting into groups...\n",
      "\n",
      "The largest distance between excluded atoms is 0.408 nm\n",
      "Calculating fourier grid dimensions for X Y Z\n",
      "Using a fourier grid of 24x24x24, spacing 0.113 0.113 0.113\n",
      "\n",
      "Estimate for the relative computational load of the PME mesh part: 0.30\n",
      "\n",
      "This run will generate roughly 0 Mb of data\n",
      "Setting the LD random seed to -1174448129\n",
      "\n",
      "Generated 136 of the 136 non-bonded parameter combinations\n",
      "\n",
      "Generated 136 of the 136 1-4 parameter combinations\n",
      "\n",
      "Excluding 3 bonded neighbours molecule type 'MOL'\n",
      "\n",
      "Excluding 3 bonded neighbours molecule type 'SOL'\n",
      "\n",
      "Excluding 3 bonded neighbours molecule type 'NA'\n",
      "Analysing residue names:\n",
      "There are:     1      Other residues\n",
      "There are:   673      Water residues\n",
      "There are:     1        Ion residues\n",
      "Analysing residues not classified as Protein/DNA/RNA/Water and splitting into groups...\n",
      "Analysing residues not classified as Protein/DNA/RNA/Water and splitting into groups...\n",
      "\n",
      "The largest distance between excluded atoms is 0.407 nm\n",
      "Calculating fourier grid dimensions for X Y Z\n",
      "Using a fourier grid of 24x24x24, spacing 0.115 0.115 0.115\n",
      "\n",
      "Estimate for the relative computational load of the PME mesh part: 0.30\n",
      "\n",
      "This run will generate roughly 0 Mb of data\n"
     ]
    }
   ],
   "source": [
    "n_ligands = 2\n",
    "for i in range(n_ligands):\n",
    "    ligand_datafile = open(\"ligands.dat\", \"r\")\n",
    "    ligand_lines = ligand_datafile.readlines()\n",
    "    ligand_name = ligand_lines[i].rstrip()\n",
    "    os.system(f\"mkdir -p ../runs/equilibration/ligands/{ligand_name}\")\n",
    "    ligand_work_dir = f\"../runs/equilibration/ligands/{ligand_name}\"\n",
    "    solvated_ligand = bss.IO.readMolecules([f\"../inputs/ligands/{ligand_name}_solv.prm7\",\n",
    "                                            f\"../inputs/ligands/{ligand_name}_solv.rst7\"])\n",
    "    ligand_minimisation_protocol = bss.Protocol.Minimisation(steps=minimisation_steps)\n",
    "    change_integrator(solvated_ligand, ligand_minimisation_protocol, ligand_work_dir, \"min\")\n",
    "    ligand_minimisation_process = bss.Process.Gromacs(solvated_ligand,\n",
    "                                                      ligand_minimisation_protocol,\n",
    "                                                      name=\"min\",\n",
    "                                                      work_dir=ligand_work_dir)\n",
    "    gmx_grompp = f\"gmx grompp -f {ligand_work_dir}/min.mdp -c {ligand_work_dir}/min.gro -p {ligand_work_dir}/min.top -o {ligand_work_dir}/min.tpr\"\n",
    "    os.system(gmx_grompp)\n",
    "    gmx_mdrun = f\"gmx mdrun -v -deffnm {ligand_work_dir}/min -nt 1 -nb gpu\"\n",
    "    os.system(gmx_mdrun)"
   ]
  },
  {
   "cell_type": "code",
   "execution_count": null,
   "metadata": {},
   "outputs": [],
   "source": []
  }
 ],
 "metadata": {
  "kernelspec": {
   "display_name": "Python 3.9.13 ('sire')",
   "language": "python",
   "name": "python3"
  },
  "language_info": {
   "codemirror_mode": {
    "name": "ipython",
    "version": 3
   },
   "file_extension": ".py",
   "mimetype": "text/x-python",
   "name": "python",
   "nbconvert_exporter": "python",
   "pygments_lexer": "ipython3",
   "version": "3.9.13"
  },
  "orig_nbformat": 4,
  "vscode": {
   "interpreter": {
    "hash": "d26aaf8360ec79b5d34f6b3f2ca21f083671eb70d713101a39f31e19235f4f34"
   }
  }
 },
 "nbformat": 4,
 "nbformat_minor": 2
}
