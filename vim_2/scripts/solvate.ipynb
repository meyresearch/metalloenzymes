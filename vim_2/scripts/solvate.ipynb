{
 "cells": [
  {
   "cell_type": "code",
   "execution_count": 1,
   "metadata": {},
   "outputs": [
    {
     "name": "stderr",
     "output_type": "stream",
     "text": [
      "/home/jguven/Software/miniconda3/envs/sire/lib/python3.9/site-packages/numpy/core/getlimits.py:500: UserWarning: The value of the smallest subnormal for <class 'numpy.float64'> type is zero.\n",
      "  setattr(self, word, getattr(machar, word).flat[0])\n",
      "/home/jguven/Software/miniconda3/envs/sire/lib/python3.9/site-packages/numpy/core/getlimits.py:89: UserWarning: The value of the smallest subnormal for <class 'numpy.float64'> type is zero.\n",
      "  return self._float_to_str(self.smallest_subnormal)\n",
      "/home/jguven/Software/miniconda3/envs/sire/lib/python3.9/site-packages/numpy/core/getlimits.py:500: UserWarning: The value of the smallest subnormal for <class 'numpy.float32'> type is zero.\n",
      "  setattr(self, word, getattr(machar, word).flat[0])\n",
      "/home/jguven/Software/miniconda3/envs/sire/lib/python3.9/site-packages/numpy/core/getlimits.py:89: UserWarning: The value of the smallest subnormal for <class 'numpy.float32'> type is zero.\n",
      "  return self._float_to_str(self.smallest_subnormal)\n"
     ]
    }
   ],
   "source": [
    "import BioSimSpace as bss"
   ]
  },
  {
   "cell_type": "code",
   "execution_count": 2,
   "metadata": {},
   "outputs": [],
   "source": [
    "solvent = \"TIP3P\"\n",
    "box_edges = 20\n",
    "box_type = \"orthorhombic\"\n",
    "angstrom = bss.Units.Length.angstrom"
   ]
  },
  {
   "cell_type": "code",
   "execution_count": 3,
   "metadata": {},
   "outputs": [
    {
     "name": "stdout",
     "output_type": "stream",
     "text": [
      "\n",
      "==============================================================\n",
      "Sending anonymous Sire usage statistics to http://siremol.org.\n",
      "For more information, see http://siremol.org/analytics\n",
      "To disable, set the environment variable 'SIRE_DONT_PHONEHOME' to 1\n",
      "To see the information sent, set the environment variable \n",
      "SIRE_VERBOSE_PHONEHOME equal to 1. To silence this message, set\n",
      "the environment variable SIRE_SILENT_PHONEHOME to 1.\n",
      "==============================================================\n",
      "\n"
     ]
    }
   ],
   "source": [
    "protein_path = \"../inputs/protein/\"\n",
    "ligand_path = \"../inputs/ligands/\"\n",
    "ligand_name_1 = \"ligand_8_xtal.sdf\"\n",
    "ligand_name_2 = \"docked_10.sdf\"\n",
    "ligand_1 = bss.IO.readMolecules(ligand_path+ligand_name_1)[0]\n",
    "ligand_2 = bss.IO.readMolecules(ligand_path+ligand_name_2)[0]\n",
    "ligand_1_params = bss.Parameters.gaff2(ligand_1, net_charge=-1).getMolecule()\n",
    "ligand_2_params = bss.Parameters.gaff2(ligand_2, net_charge=-1).getMolecule()"
   ]
  },
  {
   "cell_type": "code",
   "execution_count": 6,
   "metadata": {},
   "outputs": [
    {
     "name": "stdout",
     "output_type": "stream",
     "text": [
      "Box size set to 27.1000 A\n",
      "Solvating ligand.\n",
      "Solvation done. Saving ligand.\n",
      "Box size set to 27.6280 A\n",
      "Solvating ligand.\n",
      "Solvation done. Saving ligand.\n"
     ]
    }
   ],
   "source": [
    "ligand_params = [ligand_1_params, ligand_2_params]\n",
    "ligand_names = [ligand_name_1, ligand_name_2]\n",
    "for i in range(2):\n",
    "    box_min, box_max = ligand_params[i].getAxisAlignedBoundingBox()\n",
    "    box_size = [y - x for x, y in zip(box_min, box_max)]\n",
    "    box_sizes = [x + box_edges * angstrom for x in box_size]\n",
    "    box, angles = bss.Box.cubic(max(box_sizes))\n",
    "    print(f\"Box size set to {max(box_sizes)}\")\n",
    "    print(\"Solvating ligand.\")\n",
    "    ligand_params_solvated = bss.Solvent.solvate(solvent, \n",
    "                                                 molecule=ligand_params[i],\n",
    "                                                 box=box,\n",
    "                                                 angles=angles)\n",
    "    print(\"Solvation done. Saving ligand.\")\n",
    "    save_name = ligand_names[i].strip(\".sdf\").split(\"_\")[1]\n",
    "    bss.IO.saveMolecules(f\"../inputs/ligands/ligand_{save_name}_solv\", ligand_params_solvated, [\"PRM7\", \"RST7\"])                          \n",
    "    bss.IO.saveMolecules(f\"../inputs/ligands/ligand_{save_name}_solv\", ligand_params_solvated, [\"Gro87\", \"GroTop\"])                                            "
   ]
  },
  {
   "cell_type": "code",
   "execution_count": 7,
   "metadata": {},
   "outputs": [
    {
     "name": "stdout",
     "output_type": "stream",
     "text": [
      "Box size set to 64.3260 A\n",
      "Solvating system\n",
      "Box size set to 64.3260 A\n",
      "Solvating system\n"
     ]
    }
   ],
   "source": [
    "protein = bss.IO.readMolecules([\"../inputs/protein/prot_water.rst7\",\n",
    "                                \"../inputs/protein/prot_water.prm7\"])[0]\n",
    "for i in range(2):\n",
    "    system = ligand_params[i] + protein\n",
    "    box_min_sys, box_max_sys = system.getAxisAlignedBoundingBox()\n",
    "    box_size_sys = [y - x for x, y in zip(box_min_sys, box_max_sys)]\n",
    "    box_sizes_sys = [x + box_edges * angstrom for x in box_size_sys]\n",
    "    box, angles = bss.Box.cubic(max(box_sizes_sys))\n",
    "    print(f\"Box size set to {max(box_sizes_sys)}\")\n",
    "    print(\"Solvating system\")\n",
    "    system_solvated = bss.Solvent.solvate(solvent,\n",
    "                                          molecule=system,\n",
    "                                          box=box,\n",
    "                                          angles=angles)\n",
    "    save_name = ligand_names[i].strip(\".sdf\").split(\"_\")[1]\n",
    "    bss.IO.saveMolecules(f\"../inputs/protein/system_{save_name}_solv\", system_solvated, [\"PRM7\", \"RST7\"])\n",
    "    bss.IO.saveMolecules(f\"../inputs/protein/system_{save_name}_solv\", system_solvated, [\"Gro87\", \"GroTop\"])"
   ]
  }
 ],
 "metadata": {
  "kernelspec": {
   "display_name": "Python 3.9.13 ('sire')",
   "language": "python",
   "name": "python3"
  },
  "language_info": {
   "codemirror_mode": {
    "name": "ipython",
    "version": 3
   },
   "file_extension": ".py",
   "mimetype": "text/x-python",
   "name": "python",
   "nbconvert_exporter": "python",
   "pygments_lexer": "ipython3",
   "version": "3.9.13"
  },
  "orig_nbformat": 4,
  "vscode": {
   "interpreter": {
    "hash": "d26aaf8360ec79b5d34f6b3f2ca21f083671eb70d713101a39f31e19235f4f34"
   }
  }
 },
 "nbformat": 4,
 "nbformat_minor": 2
}
