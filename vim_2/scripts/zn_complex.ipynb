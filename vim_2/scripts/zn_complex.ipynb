{
 "cells": [
  {
   "cell_type": "code",
   "execution_count": 5,
   "id": "0b04418a-c33b-4d1f-bf27-e0aa5722a11a",
   "metadata": {},
   "outputs": [],
   "source": [
    "import BioSimSpace as bss"
   ]
  },
  {
   "cell_type": "code",
   "execution_count": 20,
   "id": "0d81f734-2ad4-4998-8cbc-5e992d6761c2",
   "metadata": {},
   "outputs": [],
   "source": [
    "protein = bss.IO.readPDB(\"../protein_preparation/vim2_his.pdb\")[0]\n",
    "zn = bss.IO.readPDB(\"../flare_files/zn.pdb\")[0]\n",
    "water = bss.IO.readPDB(\"../protein_preparation/hoh.pdb\")[0]"
   ]
  },
  {
   "cell_type": "code",
   "execution_count": 21,
   "id": "9a83cc30-5ac2-4546-9899-f66aadc4f97a",
   "metadata": {},
   "outputs": [],
   "source": [
    "zn_complex = protein + zn + water"
   ]
  },
  {
   "cell_type": "code",
   "execution_count": 22,
   "id": "1b46204d-797f-4407-af53-e5be994ea4e3",
   "metadata": {},
   "outputs": [
    {
     "data": {
      "text/plain": [
       "<BioSimSpace.Molecules: nMolecules=3>"
      ]
     },
     "execution_count": 22,
     "metadata": {},
     "output_type": "execute_result"
    }
   ],
   "source": [
    "zn_complex"
   ]
  },
  {
   "cell_type": "code",
   "execution_count": 23,
   "id": "4f8b73ea-9e52-442e-99ad-ce5a43edbcd5",
   "metadata": {},
   "outputs": [
    {
     "data": {
      "text/plain": [
       "['/home/jguven/projects/metalloenzymes/vim_2/protein_preparation/zn_complex.pdb']"
      ]
     },
     "execution_count": 23,
     "metadata": {},
     "output_type": "execute_result"
    }
   ],
   "source": [
    "bss.IO.saveMolecules(\"../protein_preparation/zn_complex.pdb\", zn_complex, \"pdb\")"
   ]
  },
  {
   "cell_type": "code",
   "execution_count": null,
   "id": "d5780664-45c9-483f-962f-7e97a12c4028",
   "metadata": {},
   "outputs": [],
   "source": []
  }
 ],
 "metadata": {
  "kernelspec": {
   "display_name": "Python 3 (ipykernel)",
   "language": "python",
   "name": "python3"
  },
  "language_info": {
   "codemirror_mode": {
    "name": "ipython",
    "version": 3
   },
   "file_extension": ".py",
   "mimetype": "text/x-python",
   "name": "python",
   "nbconvert_exporter": "python",
   "pygments_lexer": "ipython3",
   "version": "3.9.13"
  }
 },
 "nbformat": 4,
 "nbformat_minor": 5
}
