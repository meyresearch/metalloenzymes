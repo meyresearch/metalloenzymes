{
 "cells": [
  {
   "cell_type": "code",
   "execution_count": 2,
   "id": "0b04418a-c33b-4d1f-bf27-e0aa5722a11a",
   "metadata": {},
   "outputs": [
    {
     "name": "stderr",
     "output_type": "stream",
     "text": [
      "/home/jguven/Software/miniconda3/envs/bss-d/lib/python3.9/site-packages/numpy/core/getlimits.py:499: UserWarning: The value of the smallest subnormal for <class 'numpy.float64'> type is zero.\n",
      "  setattr(self, word, getattr(machar, word).flat[0])\n",
      "/home/jguven/Software/miniconda3/envs/bss-d/lib/python3.9/site-packages/numpy/core/getlimits.py:89: UserWarning: The value of the smallest subnormal for <class 'numpy.float64'> type is zero.\n",
      "  return self._float_to_str(self.smallest_subnormal)\n",
      "/home/jguven/Software/miniconda3/envs/bss-d/lib/python3.9/site-packages/numpy/core/getlimits.py:499: UserWarning: The value of the smallest subnormal for <class 'numpy.float32'> type is zero.\n",
      "  setattr(self, word, getattr(machar, word).flat[0])\n",
      "/home/jguven/Software/miniconda3/envs/bss-d/lib/python3.9/site-packages/numpy/core/getlimits.py:89: UserWarning: The value of the smallest subnormal for <class 'numpy.float32'> type is zero.\n",
      "  return self._float_to_str(self.smallest_subnormal)\n",
      "Warning: importing 'simtk.openmm' is deprecated.  Import 'openmm' instead.\n"
     ]
    }
   ],
   "source": [
    "import BioSimSpace as bss"
   ]
  },
  {
   "cell_type": "code",
   "execution_count": 4,
   "id": "0d81f734-2ad4-4998-8cbc-5e992d6761c2",
   "metadata": {},
   "outputs": [
    {
     "name": "stdout",
     "output_type": "stream",
     "text": [
      "Sending GET request to https://files.rcsb.org/download/../FLARE_FILES/LIGAND_8.PDB.pdb to fetch ../FLARE_FILES/LIGAND_8.PDB's pdb file as a string.\n"
     ]
    },
    {
     "ename": "OSError",
     "evalue": "Retrieval failed, invalid PDB ID: ../FLARE_FILES/LIGAND_8.PDB",
     "output_type": "error",
     "traceback": [
      "\u001b[0;31m---------------------------------------------------------------------------\u001b[0m",
      "\u001b[0;31mOSError\u001b[0m                                   Traceback (most recent call last)",
      "Input \u001b[0;32mIn [4]\u001b[0m, in \u001b[0;36m<cell line: 3>\u001b[0;34m()\u001b[0m\n\u001b[1;32m      1\u001b[0m protein \u001b[38;5;241m=\u001b[39m bss\u001b[38;5;241m.\u001b[39mIO\u001b[38;5;241m.\u001b[39mreadPDB(\u001b[38;5;124m\"\u001b[39m\u001b[38;5;124m../protein_preparation/vim2_his.pdb\u001b[39m\u001b[38;5;124m\"\u001b[39m)[\u001b[38;5;241m0\u001b[39m]\n\u001b[1;32m      2\u001b[0m zn \u001b[38;5;241m=\u001b[39m bss\u001b[38;5;241m.\u001b[39mIO\u001b[38;5;241m.\u001b[39mreadPDB(\u001b[38;5;124m\"\u001b[39m\u001b[38;5;124m../flare_files/zn.pdb\u001b[39m\u001b[38;5;124m\"\u001b[39m)[\u001b[38;5;241m0\u001b[39m]\n\u001b[0;32m----> 3\u001b[0m ligand \u001b[38;5;241m=\u001b[39m \u001b[43mbss\u001b[49m\u001b[38;5;241;43m.\u001b[39;49m\u001b[43mIO\u001b[49m\u001b[38;5;241;43m.\u001b[39;49m\u001b[43mreadPDB\u001b[49m\u001b[43m(\u001b[49m\u001b[38;5;124;43m\"\u001b[39;49m\u001b[38;5;124;43m../flare_files/ligand_8.pdb\u001b[39;49m\u001b[38;5;124;43m\"\u001b[39;49m\u001b[43m)\u001b[49m[\u001b[38;5;241m0\u001b[39m]\n",
      "File \u001b[0;32m~/Software/miniconda3/envs/bss-d/lib/python3.9/site-packages/BioSimSpace/IO/_io.py:247\u001b[0m, in \u001b[0;36mreadPDB\u001b[0;34m(id, pdb4amber, work_dir, property_map)\u001b[0m\n\u001b[1;32m    245\u001b[0m     pdb_string \u001b[38;5;241m=\u001b[39m _pypdb\u001b[38;5;241m.\u001b[39mget_pdb_file(\u001b[38;5;28mid\u001b[39m, filetype\u001b[38;5;241m=\u001b[39m\u001b[38;5;124m\"\u001b[39m\u001b[38;5;124mpdb\u001b[39m\u001b[38;5;124m\"\u001b[39m, compression\u001b[38;5;241m=\u001b[39m\u001b[38;5;28;01mFalse\u001b[39;00m)\n\u001b[1;32m    246\u001b[0m     \u001b[38;5;28;01mif\u001b[39;00m w:\n\u001b[0;32m--> 247\u001b[0m         \u001b[38;5;28;01mraise\u001b[39;00m \u001b[38;5;167;01mIOError\u001b[39;00m(\u001b[38;5;124m\"\u001b[39m\u001b[38;5;124mRetrieval failed, invalid PDB ID: \u001b[39m\u001b[38;5;132;01m%s\u001b[39;00m\u001b[38;5;124m\"\u001b[39m \u001b[38;5;241m%\u001b[39m \u001b[38;5;28mid\u001b[39m)\n\u001b[1;32m    249\u001b[0m \u001b[38;5;66;03m# Create the name of the PDB file.\u001b[39;00m\n\u001b[1;32m    250\u001b[0m pdb_file \u001b[38;5;241m=\u001b[39m \u001b[38;5;124m\"\u001b[39m\u001b[38;5;132;01m%s\u001b[39;00m\u001b[38;5;124m/\u001b[39m\u001b[38;5;132;01m%s\u001b[39;00m\u001b[38;5;124m.pdb\u001b[39m\u001b[38;5;124m\"\u001b[39m \u001b[38;5;241m%\u001b[39m (work_dir, \u001b[38;5;28mid\u001b[39m)\n",
      "\u001b[0;31mOSError\u001b[0m: Retrieval failed, invalid PDB ID: ../FLARE_FILES/LIGAND_8.PDB"
     ]
    }
   ],
   "source": [
    "protein = bss.IO.readPDB(\"../protein_preparation/vim2_his.pdb\")[0]\n",
    "zn = bss.IO.readPDB(\"../flare_files/zn.pdb\")[0]\n",
    "ligand = bss.IO.readPDB(\"../flare_files/ligand_8.pdb\")[0]"
   ]
  },
  {
   "cell_type": "code",
   "execution_count": 3,
   "id": "9a83cc30-5ac2-4546-9899-f66aadc4f97a",
   "metadata": {},
   "outputs": [],
   "source": [
    "zn_complex = protein + zn "
   ]
  },
  {
   "cell_type": "code",
   "execution_count": 4,
   "id": "1b46204d-797f-4407-af53-e5be994ea4e3",
   "metadata": {},
   "outputs": [
    {
     "data": {
      "text/plain": [
       "<BioSimSpace.Molecules: nMolecules=2>"
      ]
     },
     "execution_count": 4,
     "metadata": {},
     "output_type": "execute_result"
    }
   ],
   "source": [
    "zn_complex"
   ]
  },
  {
   "cell_type": "code",
   "execution_count": 5,
   "id": "4f8b73ea-9e52-442e-99ad-ce5a43edbcd5",
   "metadata": {},
   "outputs": [
    {
     "data": {
      "text/plain": [
       "['/home/jguven/projects/metalloenzymes/vim_2/protein_preparation/zn_complex.pdb']"
      ]
     },
     "execution_count": 5,
     "metadata": {},
     "output_type": "execute_result"
    }
   ],
   "source": [
    "bss.IO.saveMolecules(\"zn_complex.pdb\", zn_complex, \"pdb\")"
   ]
  },
  {
   "cell_type": "code",
   "execution_count": null,
   "id": "d5780664-45c9-483f-962f-7e97a12c4028",
   "metadata": {},
   "outputs": [],
   "source": []
  }
 ],
 "metadata": {
  "kernelspec": {
   "display_name": "Python 3 (ipykernel)",
   "language": "python",
   "name": "python3"
  },
  "language_info": {
   "codemirror_mode": {
    "name": "ipython",
    "version": 3
   },
   "file_extension": ".py",
   "mimetype": "text/x-python",
   "name": "python",
   "nbconvert_exporter": "python",
   "pygments_lexer": "ipython3",
   "version": "3.9.13"
  }
 },
 "nbformat": 4,
 "nbformat_minor": 5
}
