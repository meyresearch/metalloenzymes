{
 "cells": [
  {
   "cell_type": "code",
   "execution_count": 2,
   "metadata": {},
   "outputs": [],
   "source": [
    "import BioSimSpace as bss"
   ]
  },
  {
   "cell_type": "code",
   "execution_count": 3,
   "metadata": {},
   "outputs": [],
   "source": [
    "protein_path = \"../inputs/protein/\"\n",
    "ligand_path = \"../inputs/ligands/\""
   ]
  },
  {
   "cell_type": "code",
   "execution_count": 10,
   "metadata": {},
   "outputs": [],
   "source": [
    "ligand_name_1 = \"ligand_8_xtal.sdf\"\n",
    "ligand_name_2 = \"docked_10.sdf\"\n",
    "ligand_1 = bss.IO.readMolecules(ligand_path+ligand_name_1)[0]\n",
    "ligand_2 = bss.IO.readMolecules(ligand_path+ligand_name_2)[0]\n",
    "ligand_1_params = bss.Parameters.gaff2(ligand_1, net_charge=-1).getMolecule()\n",
    "ligand_2_params = bss.Parameters.gaff2(ligand_2, net_charge=-1).getMolecule()"
   ]
  },
  {
   "cell_type": "code",
   "execution_count": 12,
   "metadata": {},
   "outputs": [
    {
     "data": {
      "text/plain": [
       "['/home/jguven/projects/metalloenzymes/vim_2/inputs/protein/protein.pdb']"
      ]
     },
     "execution_count": 12,
     "metadata": {},
     "output_type": "execute_result"
    }
   ],
   "source": [
    "protein_dry = bss.IO.readMolecules(protein_path+\"vim2_dry.pdb\")\n",
    "xtal_wat = bss.IO.readMolecules(protein_path+\"wat.pdb\")\n",
    "complex = protein_dry + xtal_wat\n",
    "bss.IO.saveMolecules(\"../inputs/protein/protein\", complex, fileformat=\"pdb\")"
   ]
  },
  {
   "cell_type": "markdown",
   "metadata": {},
   "source": [
    "At this point run tleap."
   ]
  },
  {
   "cell_type": "code",
   "execution_count": null,
   "metadata": {},
   "outputs": [],
   "source": []
  }
 ],
 "metadata": {
  "kernelspec": {
   "display_name": "Python 3.9.13 ('sire')",
   "language": "python",
   "name": "python3"
  },
  "language_info": {
   "codemirror_mode": {
    "name": "ipython",
    "version": 3
   },
   "file_extension": ".py",
   "mimetype": "text/x-python",
   "name": "python",
   "nbconvert_exporter": "python",
   "pygments_lexer": "ipython3",
   "version": "3.9.13"
  },
  "orig_nbformat": 4,
  "vscode": {
   "interpreter": {
    "hash": "d26aaf8360ec79b5d34f6b3f2ca21f083671eb70d713101a39f31e19235f4f34"
   }
  }
 },
 "nbformat": 4,
 "nbformat_minor": 2
}
