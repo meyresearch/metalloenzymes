{
 "cells": [
  {
   "cell_type": "code",
   "execution_count": 75,
   "metadata": {},
   "outputs": [],
   "source": [
    "import numpy as np"
   ]
  },
  {
   "cell_type": "code",
   "execution_count": 76,
   "metadata": {},
   "outputs": [],
   "source": [
    "top_filename = \"../data/apo_solv.top\"\n",
    "with open(top_filename) as file:\n",
    "    lines = file.readlines()\n",
    "    ligand_indices = [line.split()[0] for line in lines if \"PT1\" in line and line[0] != \";\"]\n",
    "    ligand_comment_index = [[index for index in range(len(lines)) if \"PT1\" in lines[index]][0]]\n"
   ]
  },
  {
   "cell_type": "code",
   "execution_count": 123,
   "metadata": {},
   "outputs": [
    {
     "name": "stdout",
     "output_type": "stream",
     "text": [
      "['3418', '3419', '3420', '3421', '3422', '3423', '3424', '3425', '3426', '3427', '3428', '3429', '3430', '3431', '3432', '3433', '3434', '3435', '3436', '3437', '3438', '3439', '3440', '3441']\n"
     ]
    }
   ],
   "source": [
    "print(ligand_indices)"
   ]
  },
  {
   "cell_type": "code",
   "execution_count": 77,
   "metadata": {},
   "outputs": [],
   "source": [
    "with open(top_filename, \"r\") as file:\n",
    "    lines = file.readlines()\n",
    "    find_index = lambda top_type: [index for index in range(len(lines)) if top_type in lines[index]]\n",
    "    bond_indices = find_index(\"bonds\")\n",
    "    pair_indices = find_index(\"pairs\")\n",
    "    angle_indices = find_index(\"angles\")\n",
    "    dihedral_indices = find_index(\"dihedrals\")\n",
    "    moleculetype_indices = find_index(\"moleculetype\")\n"
   ]
  },
  {
   "cell_type": "code",
   "execution_count": 78,
   "metadata": {},
   "outputs": [
    {
     "name": "stdout",
     "output_type": "stream",
     "text": [
      "ligand residues start from: [3736]\n",
      "bond indices: [3762, 38394]\n",
      "pair indices: [17, 7254]\n",
      "angle indices: [16364]\n",
      "dihedral indices: [22676]\n",
      "moleculetype_indices: [81, 38371, 38381]\n"
     ]
    }
   ],
   "source": [
    "print(f\"ligand residues start from: {ligand_comment_index}\")\n",
    "print(f\"bond indices: {bond_indices}\")\n",
    "print(f\"pair indices: {pair_indices}\")\n",
    "print(f\"angle indices: {angle_indices}\")\n",
    "print(f\"dihedral indices: {dihedral_indices}\")\n",
    "print(f\"moleculetype_indices: {moleculetype_indices}\")"
   ]
  },
  {
   "cell_type": "code",
   "execution_count": 83,
   "metadata": {},
   "outputs": [
    {
     "name": "stdout",
     "output_type": "stream",
     "text": [
      "{'pairs1': 17, 'types1': 81, 'ligand': 3736, 'bonds1': 3762, 'pairs2': 7254, 'angles': 16364, 'dihedrals': 22676, 'types2': 38371, 'types3': 38381, 'bonds2': 38394}\n"
     ]
    }
   ],
   "source": [
    "unsorted_elements = ligand_comment_index + bond_indices + pair_indices + angle_indices + dihedral_indices + moleculetype_indices\n",
    "all_elements = sorted(unsorted_elements)\n",
    "keys = [\"pairs1\", \"types1\", \"ligand\", \"bonds1\", \"pairs2\", \"angles\", \"dihedrals\", \"types2\", \"types3\", \"bonds2\"]\n",
    "top_dict = {}\n",
    "for i in range(len(keys)):\n",
    "    top_dict[keys[i]] = all_elements[i]\n",
    "print(top_dict)"
   ]
  },
  {
   "cell_type": "code",
   "execution_count": 116,
   "metadata": {},
   "outputs": [],
   "source": [
    "bond_lines = [lines[line_nr] for line_nr in range(len(lines)) if line_nr >= top_dict[\"bonds1\"] and line_nr < top_dict[\"pairs2\"]]\n",
    "pair_lines = [lines[line_nr] for line_nr in range(len(lines)) if line_nr >= top_dict[\"pairs2\"] and line_nr < top_dict[\"angles\"]]\n",
    "angle_lines = [lines[line_nr] for line_nr in range(len(lines)) if line_nr >= top_dict[\"angles\"] and line_nr < top_dict[\"dihedrals\"]]\n",
    "dihedral_lines = [lines[line_nr] for line_nr in range(len(lines)) if line_nr >= top_dict[\"dihedrals\"] and line_nr < top_dict[\"types2\"]]\n"
   ]
  },
  {
   "cell_type": "code",
   "execution_count": null,
   "metadata": {},
   "outputs": [],
   "source": []
  },
  {
   "cell_type": "code",
   "execution_count": 122,
   "metadata": {},
   "outputs": [],
   "source": [
    "outfile = \"../data/test.top\"\n",
    "with open(outfile, \"w\") as file:\n",
    "    for line_nr in range(len(lines)):\n",
    "        if line_nr < top_dict[\"ligand\"]:\n",
    "            file.write(lines[line_nr])\n",
    "    for bond_line in bond_lines:\n",
    "        check_line = bond_line.split()\n",
    "        if len(check_line) > 0:\n",
    "            ai, aj = check_line[0], check_line[1]\n",
    "            if ai not in ligand_indices and aj not in ligand_indices:\n",
    "                file.write(bond_line)\n",
    "    for pair_line in pair_lines:\n",
    "        check_line = pair_line.split()\n",
    "        if len(check_line) > 0:\n",
    "            ai, aj = check_line[0], check_line[1]\n",
    "            if ai not in ligand_indices and aj not in ligand_indices:\n",
    "                file.write(pair_line)\n",
    "    for angle_line in angle_lines:\n",
    "        check_line = angle_line.split()\n",
    "        if len(check_line) > 0:\n",
    "            ai, aj, ak = check_line[0], check_line[1], check_line[2]\n",
    "            if ai not in ligand_indices and aj not in ligand_indices and ak not in ligand_indices:\n",
    "                file.write(angle_line)\n",
    "    for dihedral_line in dihedral_lines:\n",
    "        check_line = dihedral_line.split()\n",
    "        if len(check_line) > 0 and len(check_line) < 4:\n",
    "            file.write(dihedral_line)\n",
    "        elif len(check_line) >= 4:\n",
    "            ai, aj, ak, al = check_line[0], check_line[1], check_line[2], check_line[3]\n",
    "            if ai not in ligand_indices and aj not in ligand_indices and ak not in ligand_indices and al not in ligand_indices:\n",
    "                file.write(dihedral_line)\n",
    "    for line_nr in range(len(lines)):\n",
    "        if line_nr >= top_dict[\"types2\"]:\n",
    "            file.write(lines[line_nr]) \n",
    "        "
   ]
  },
  {
   "cell_type": "code",
   "execution_count": null,
   "metadata": {},
   "outputs": [],
   "source": []
  }
 ],
 "metadata": {
  "kernelspec": {
   "display_name": "Python 3.9.13 ('bss-d')",
   "language": "python",
   "name": "python3"
  },
  "language_info": {
   "codemirror_mode": {
    "name": "ipython",
    "version": 3
   },
   "file_extension": ".py",
   "mimetype": "text/x-python",
   "name": "python",
   "nbconvert_exporter": "python",
   "pygments_lexer": "ipython3",
   "version": "3.9.13"
  },
  "orig_nbformat": 4,
  "vscode": {
   "interpreter": {
    "hash": "f81d097606b2934fa8d1922533f78f64a436eb4cf1588d61ff1c0b79a2076e9c"
   }
  }
 },
 "nbformat": 4,
 "nbformat_minor": 2
}
