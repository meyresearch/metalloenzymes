{
 "cells": [
  {
   "cell_type": "code",
   "execution_count": 2,
   "metadata": {},
   "outputs": [
    {
     "name": "stderr",
     "output_type": "stream",
     "text": [
      "/home/jguven/Software/miniconda3/envs/bss-d/lib/python3.9/site-packages/numpy/core/getlimits.py:499: UserWarning: The value of the smallest subnormal for <class 'numpy.float64'> type is zero.\n",
      "  setattr(self, word, getattr(machar, word).flat[0])\n",
      "/home/jguven/Software/miniconda3/envs/bss-d/lib/python3.9/site-packages/numpy/core/getlimits.py:89: UserWarning: The value of the smallest subnormal for <class 'numpy.float64'> type is zero.\n",
      "  return self._float_to_str(self.smallest_subnormal)\n",
      "/home/jguven/Software/miniconda3/envs/bss-d/lib/python3.9/site-packages/numpy/core/getlimits.py:499: UserWarning: The value of the smallest subnormal for <class 'numpy.float32'> type is zero.\n",
      "  setattr(self, word, getattr(machar, word).flat[0])\n",
      "/home/jguven/Software/miniconda3/envs/bss-d/lib/python3.9/site-packages/numpy/core/getlimits.py:89: UserWarning: The value of the smallest subnormal for <class 'numpy.float32'> type is zero.\n",
      "  return self._float_to_str(self.smallest_subnormal)\n"
     ]
    },
    {
     "data": {
      "application/vnd.jupyter.widget-view+json": {
       "model_id": "7a21a54268494961b7b6880ff2c901b2",
       "version_major": 2,
       "version_minor": 0
      },
      "text/plain": []
     },
     "metadata": {},
     "output_type": "display_data"
    },
    {
     "name": "stderr",
     "output_type": "stream",
     "text": [
      "Warning: importing 'simtk.openmm' is deprecated.  Import 'openmm' instead.\n"
     ]
    },
    {
     "name": "stdout",
     "output_type": "stream",
     "text": [
      "\n",
      "==============================================================\n",
      "Sending anonymous Sire usage statistics to http://siremol.org.\n",
      "For more information, see http://siremol.org/analytics\n",
      "To disable, set the environment variable 'SIRE_DONT_PHONEHOME' to 1\n",
      "To see the information sent, set the environment variable \n",
      "SIRE_VERBOSE_PHONEHOME equal to 1. To silence this message, set\n",
      "the environment variable SIRE_SILENT_PHONEHOME to 1.\n",
      "==============================================================\n",
      "\n"
     ]
    }
   ],
   "source": [
    "import BioSimSpace as bss\n",
    "import nglview as nv\n",
    "import MDAnalysis as mda\n",
    "import matplotlib.pyplot as plt"
   ]
  },
  {
   "cell_type": "markdown",
   "metadata": {},
   "source": [
    "# Zn complex"
   ]
  },
  {
   "cell_type": "code",
   "execution_count": 6,
   "metadata": {},
   "outputs": [],
   "source": [
    "protein = bss.IO.readPDB(\"../data/apo_his.pdb\")[0]\n",
    "zn = bss.IO.readPDB(\"../data/zn.pdb\")[0]\n",
    "water = bss.IO.readPDB(\"../data/hoh.pdb\")[0]"
   ]
  },
  {
   "cell_type": "code",
   "execution_count": 7,
   "metadata": {},
   "outputs": [
    {
     "data": {
      "text/plain": [
       "['/home/jguven/projects/metalloenzymes/apo/data/complex.pdb']"
      ]
     },
     "execution_count": 7,
     "metadata": {},
     "output_type": "execute_result"
    }
   ],
   "source": [
    "complex = protein + zn + water\n",
    "bss.IO.saveMolecules(\"../data/complex.pdb\", complex, \"pdb\")"
   ]
  },
  {
   "cell_type": "markdown",
   "metadata": {},
   "source": [
    "# Adding hydroxide to apo"
   ]
  },
  {
   "cell_type": "code",
   "execution_count": 10,
   "metadata": {},
   "outputs": [],
   "source": [
    "vim2_apo = bss.IO.readMolecules(files=[\"../minimisation/apo_solv.gro\", \"../minimisation/test.top\"])\n",
    "hydoxide = bss.IO.readPDB(\"../minimisation/hydroxide.pdb\")"
   ]
  },
  {
   "cell_type": "code",
   "execution_count": 11,
   "metadata": {},
   "outputs": [
    {
     "data": {
      "text/plain": [
       "['/home/jguven/projects/metalloenzymes/apo/minimisation/apo_fixed.gro']"
      ]
     },
     "execution_count": 11,
     "metadata": {},
     "output_type": "execute_result"
    }
   ],
   "source": [
    "apo_fixed = vim2_apo + hydoxide\n",
    "bss.IO.saveMolecules(\"../minimisation/apo_fixed\", apo_fixed, [\"Gro87\"])"
   ]
  },
  {
   "cell_type": "code",
   "execution_count": 8,
   "metadata": {},
   "outputs": [
    {
     "data": {
      "text/plain": [
       "['Gro87', 'GroTop', 'MOL2', 'PDB', 'PRM7', 'PSF', 'RST', 'RST7', 'SDF']"
      ]
     },
     "execution_count": 8,
     "metadata": {},
     "output_type": "execute_result"
    }
   ],
   "source": [
    "bss.IO.fileFormats()"
   ]
  },
  {
   "cell_type": "code",
   "execution_count": 4,
   "metadata": {},
   "outputs": [
    {
     "data": {
      "application/vnd.jupyter.widget-view+json": {
       "model_id": "fd12aec04df94618847efa225d23dfc2",
       "version_major": 2,
       "version_minor": 0
      },
      "text/plain": [
       "NGLWidget()"
      ]
     },
     "metadata": {},
     "output_type": "display_data"
    }
   ],
   "source": [
    "nv.show_file(\"../minimisation/hydroxide.pdb\")"
   ]
  },
  {
   "cell_type": "code",
   "execution_count": 4,
   "metadata": {},
   "outputs": [
    {
     "name": "stdout",
     "output_type": "stream",
     "text": [
      "0.9667989208380483\n",
      "0.9605177416323261\n",
      "H\n",
      "O\n",
      "H\n",
      "O\n"
     ]
    }
   ],
   "source": [
    "nvt = mda.Universe(\"../nvt/nvt.gro\",\"../nvt/nvt.xtc\")\n",
    "hydroxide = nvt.select_atoms(\"resid 7635\")\n",
    "hydroxide_atoms = hydroxide.atoms.ids\n",
    "group1 = hydroxide.select_atoms(f\"id {hydroxide_atoms[0]} or id {hydroxide_atoms[1]}\")\n",
    "group2 = hydroxide.select_atoms(f\"id {hydroxide_atoms[2]} or id {hydroxide_atoms[3]}\")\n",
    "print(group1.bond.length())\n",
    "print(group2.bond.length())\n",
    "zn = nvt.select_atoms(\"resname ZN1 or resname ZN2\")\n",
    "for atom in hydroxide.atoms:\n",
    "    print(atom.type)\n",
    "    # temp_group = nvt.select_atoms(f\"name hydroxide\")\n",
    "    # print(temp_group.bond.type) "
   ]
  },
  {
   "cell_type": "code",
   "execution_count": 5,
   "metadata": {},
   "outputs": [
    {
     "data": {
      "text/plain": [
       "2001"
      ]
     },
     "execution_count": 5,
     "metadata": {},
     "output_type": "execute_result"
    }
   ],
   "source": [
    "traj = nvt.trajectory.n_frames\n",
    "traj"
   ]
  },
  {
   "cell_type": "code",
   "execution_count": 6,
   "metadata": {},
   "outputs": [
    {
     "data": {
      "application/vnd.jupyter.widget-view+json": {
       "model_id": "00b74c1ec9a74b8498b799544624323a",
       "version_major": 2,
       "version_minor": 0
      },
      "text/plain": [
       "NGLWidget(max_frame=2000)"
      ]
     },
     "metadata": {},
     "output_type": "display_data"
    }
   ],
   "source": [
    "nv.show_mdanalysis(hydroxide+zn)"
   ]
  },
  {
   "cell_type": "code",
   "execution_count": 7,
   "metadata": {},
   "outputs": [],
   "source": [
    "length_1 = []\n",
    "length_2 = []\n",
    "n_frames = nvt.trajectory.n_frames\n",
    "for frame in range(n_frames):\n",
    "    nvt.trajectory[frame]\n",
    "    hydroxide = nvt.select_atoms(\"resid 7635\")\n",
    "    hydroxide_atoms = hydroxide.atoms.ids\n",
    "    group1 = hydroxide.select_atoms(f\"id {hydroxide_atoms[0]} or id {hydroxide_atoms[1]}\")\n",
    "    group2 = hydroxide.select_atoms(f\"id {hydroxide_atoms[2]} or id {hydroxide_atoms[3]}\")\n",
    "    length_1.append(group1.bond.length())\n",
    "    length_2.append(group2.bond.length())"
   ]
  },
  {
   "cell_type": "code",
   "execution_count": 8,
   "metadata": {},
   "outputs": [],
   "source": [
    "times = [nvt.trajectory[frame].time for frame in range(n_frames)]\n"
   ]
  },
  {
   "cell_type": "code",
   "execution_count": 17,
   "metadata": {},
   "outputs": [
    {
     "data": {
      "image/png": "[encoded data removed]",
      "text/plain": [
       "<Figure size 432x288 with 1 Axes>"
      ]
     },
     "metadata": {
      "needs_background": "light"
     },
     "output_type": "display_data"
    }
   ],
   "source": [
    "plt.plot(times, length_1, color=\"grey\", label=r\"OH$^{-}$ 1\")\n",
    "plt.plot(times, length_2, color=\"lightblue\", label=r\"OH$^{-}$ 2\")\n",
    "plt.ylabel(\"O-H bond length / Å\")\n",
    "plt.xlabel(\"Time / ps\")\n",
    "plt.tight_layout()\n",
    "plt.legend(loc=\"lower right\")\n",
    "plt.savefig(\"../plots/oh_bond_length.png\", dpi=1000, transparent=True)"
   ]
  },
  {
   "cell_type": "code",
   "execution_count": null,
   "metadata": {},
   "outputs": [],
   "source": []
  }
 ],
 "metadata": {
  "kernelspec": {
   "display_name": "Python 3.9.13 ('bss-d')",
   "language": "python",
   "name": "python3"
  },
  "language_info": {
   "codemirror_mode": {
    "name": "ipython",
    "version": 3
   },
   "file_extension": ".py",
   "mimetype": "text/x-python",
   "name": "python",
   "nbconvert_exporter": "python",
   "pygments_lexer": "ipython3",
   "version": "3.9.13"
  },
  "orig_nbformat": 4,
  "vscode": {
   "interpreter": {
    "hash": "f81d097606b2934fa8d1922533f78f64a436eb4cf1588d61ff1c0b79a2076e9c"
   }
  }
 },
 "nbformat": 4,
 "nbformat_minor": 2
}
