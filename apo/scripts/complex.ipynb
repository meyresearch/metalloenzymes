{
 "cells": [
  {
   "cell_type": "code",
   "execution_count": 3,
   "metadata": {},
   "outputs": [],
   "source": [
    "import BioSimSpace as bss\n",
    "import nglview as nv\n",
    "import MDAnalysis as mda"
   ]
  },
  {
   "cell_type": "markdown",
   "metadata": {},
   "source": [
    "# Zn complex"
   ]
  },
  {
   "cell_type": "code",
   "execution_count": 6,
   "metadata": {},
   "outputs": [],
   "source": [
    "protein = bss.IO.readPDB(\"../data/apo_his.pdb\")[0]\n",
    "zn = bss.IO.readPDB(\"../data/zn.pdb\")[0]\n",
    "water = bss.IO.readPDB(\"../data/hoh.pdb\")[0]"
   ]
  },
  {
   "cell_type": "code",
   "execution_count": 7,
   "metadata": {},
   "outputs": [
    {
     "data": {
      "text/plain": [
       "['/home/jguven/projects/metalloenzymes/apo/data/complex.pdb']"
      ]
     },
     "execution_count": 7,
     "metadata": {},
     "output_type": "execute_result"
    }
   ],
   "source": [
    "complex = protein + zn + water\n",
    "bss.IO.saveMolecules(\"../data/complex.pdb\", complex, \"pdb\")"
   ]
  },
  {
   "cell_type": "markdown",
   "metadata": {},
   "source": [
    "# Adding hydroxide to apo"
   ]
  },
  {
   "cell_type": "code",
   "execution_count": 10,
   "metadata": {},
   "outputs": [],
   "source": [
    "vim2_apo = bss.IO.readMolecules(files=[\"../minimisation/apo_solv.gro\", \"../minimisation/test.top\"])\n",
    "hydoxide = bss.IO.readPDB(\"../minimisation/hydroxide.pdb\")"
   ]
  },
  {
   "cell_type": "code",
   "execution_count": 11,
   "metadata": {},
   "outputs": [
    {
     "data": {
      "text/plain": [
       "['/home/jguven/projects/metalloenzymes/apo/minimisation/apo_fixed.gro']"
      ]
     },
     "execution_count": 11,
     "metadata": {},
     "output_type": "execute_result"
    }
   ],
   "source": [
    "apo_fixed = vim2_apo + hydoxide\n",
    "bss.IO.saveMolecules(\"../minimisation/apo_fixed\", apo_fixed, [\"Gro87\"])"
   ]
  },
  {
   "cell_type": "code",
   "execution_count": 8,
   "metadata": {},
   "outputs": [
    {
     "data": {
      "text/plain": [
       "['Gro87', 'GroTop', 'MOL2', 'PDB', 'PRM7', 'PSF', 'RST', 'RST7', 'SDF']"
      ]
     },
     "execution_count": 8,
     "metadata": {},
     "output_type": "execute_result"
    }
   ],
   "source": [
    "bss.IO.fileFormats()"
   ]
  },
  {
   "cell_type": "code",
   "execution_count": 4,
   "metadata": {},
   "outputs": [
    {
     "data": {
      "application/vnd.jupyter.widget-view+json": {
       "model_id": "fd12aec04df94618847efa225d23dfc2",
       "version_major": 2,
       "version_minor": 0
      },
      "text/plain": [
       "NGLWidget()"
      ]
     },
     "metadata": {},
     "output_type": "display_data"
    }
   ],
   "source": [
    "nv.show_file(\"../minimisation/hydroxide.pdb\")"
   ]
  },
  {
   "cell_type": "code",
   "execution_count": 6,
   "metadata": {},
   "outputs": [
    {
     "data": {
      "application/vnd.jupyter.widget-view+json": {
       "model_id": "af4202bc0f7d4737aa04bde9d63e04d9",
       "version_major": 2,
       "version_minor": 0
      },
      "text/plain": [
       "NGLWidget()"
      ]
     },
     "metadata": {},
     "output_type": "display_data"
    }
   ],
   "source": [
    "nv.show_mdanalysis(hydroxide + zn)"
   ]
  },
  {
   "cell_type": "code",
   "execution_count": 41,
   "metadata": {},
   "outputs": [
    {
     "name": "stdout",
     "output_type": "stream",
     "text": [
      "0.9639994460920208\n",
      "0.9639996548947676\n",
      "HW\n",
      "OW\n",
      "HW\n",
      "OW\n"
     ]
    }
   ],
   "source": [
    "nvt = mda.Universe(\"../nvt/nvt.tpr\",\"../nvt/nvt.trr\")\n",
    "hydroxide = nvt.select_atoms(\"resid 7635\")\n",
    "hydroxide_atoms = hydroxide.atoms.ids\n",
    "group1 = hydroxide.select_atoms(f\"id {hydroxide_atoms[0]} or id {hydroxide_atoms[1]}\")\n",
    "group2 = hydroxide.select_atoms(f\"id {hydroxide_atoms[2]} or id {hydroxide_atoms[3]}\")\n",
    "print(group1.bond.length())\n",
    "print(group2.bond.length())\n",
    "zn = nvt.select_atoms(\"resname ZN1 or resname ZN2\")\n",
    "for atom in hydroxide.atoms:\n",
    "    print(atom.type)\n",
    "    # temp_group = nvt.select_atoms(f\"name hydroxide\")\n",
    "    # print(temp_group.bond.type) "
   ]
  },
  {
   "cell_type": "code",
   "execution_count": 42,
   "metadata": {},
   "outputs": [
    {
     "data": {
      "application/vnd.jupyter.widget-view+json": {
       "model_id": "fd95edc881874399995cf5b74423b239",
       "version_major": 2,
       "version_minor": 0
      },
      "text/plain": [
       "NGLWidget(max_frame=90)"
      ]
     },
     "metadata": {},
     "output_type": "display_data"
    }
   ],
   "source": [
    "nv.show_mdanalysis(hydroxide+zn)"
   ]
  },
  {
   "cell_type": "code",
   "execution_count": null,
   "metadata": {},
   "outputs": [],
   "source": []
  }
 ],
 "metadata": {
  "kernelspec": {
   "display_name": "Python 3.9.13 ('bss-d')",
   "language": "python",
   "name": "python3"
  },
  "language_info": {
   "codemirror_mode": {
    "name": "ipython",
    "version": 3
   },
   "file_extension": ".py",
   "mimetype": "text/x-python",
   "name": "python",
   "nbconvert_exporter": "python",
   "pygments_lexer": "ipython3",
   "version": "3.9.13"
  },
  "orig_nbformat": 4,
  "vscode": {
   "interpreter": {
    "hash": "f81d097606b2934fa8d1922533f78f64a436eb4cf1588d61ff1c0b79a2076e9c"
   }
  }
 },
 "nbformat": 4,
 "nbformat_minor": 2
}
