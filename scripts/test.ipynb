{
 "cells": [
  {
   "cell_type": "code",
   "execution_count": 1,
   "metadata": {},
   "outputs": [
    {
     "data": {
      "application/vnd.jupyter.widget-view+json": {
       "model_id": "a9a05915e0174a7089a77b9a24397b25",
       "version_major": 2,
       "version_minor": 0
      },
      "text/plain": []
     },
     "metadata": {},
     "output_type": "display_data"
    },
    {
     "name": "stderr",
     "output_type": "stream",
     "text": [
      "INFO:rdkit:Enabling RDKit 2022.09.1 jupyter extensions\n",
      "INFO:numexpr.utils:Note: NumExpr detected 32 cores but \"NUMEXPR_MAX_THREADS\" not set, so enforcing safe limit of 8.\n",
      "INFO:numexpr.utils:NumExpr defaulting to 8 threads.\n",
      "WARNING:root:Warning: importing 'simtk.openmm' is deprecated.  Import 'openmm' instead.\n"
     ]
    }
   ],
   "source": [
    "import BioSimSpace as bss\n",
    "import glob\n",
    "import functions as fn\n",
    "from BioSimSpace import _Exceptions"
   ]
  },
  {
   "cell_type": "code",
   "execution_count": 6,
   "metadata": {},
   "outputs": [
    {
     "name": "stdout",
     "output_type": "stream",
     "text": [
      "ncycles = 5\n",
      "\n",
      "ncycles_per_snap = 1\n",
      "\n"
     ]
    }
   ],
   "source": [
    "config = \"/home/jguven/projects/metalloenzymes/scripts/test.cfg\"\n",
    "minimisation_config = [\"ncycles = 1\\n\", \"minimise = True\\n\", \"minimise maximum iterations = 10000\\n\"]\n",
    "with open(config, \"r\") as config:\n",
    "    lines = config.readlines()\n",
    "\n",
    "for i in range(len(lines)):\n",
    "    for j in range(len(minimisation_config)):\n",
    "        key = minimisation_config[j].split()[0]\n",
    "        if key in lines[i]:\n",
    "            print(lines[i])"
   ]
  },
  {
   "cell_type": "code",
   "execution_count": 42,
   "metadata": {},
   "outputs": [],
   "source": [
    "unbound_path = \"../kpc2/equilibration/unbound/\"\n",
    "bound_path = \"../kpc2/equilibration/bound/\"\n",
    "\n",
    "system_1 = bss.IO.readMolecules([f\"{bound_path}/system_1/npt/system_1.prm7\",\n",
    "                                        f\"{bound_path}/system_1/npt/system_1.rst7\"])\n",
    "\n",
    "system_2 = bss.IO.readMolecules([f\"{bound_path}/system_2/npt/system_2.prm7\",\n",
    "                                        f\"{bound_path}/system_2/npt/system_2.rst7\"])\n"
   ]
  },
  {
   "cell_type": "code",
   "execution_count": 43,
   "metadata": {},
   "outputs": [
    {
     "name": "stdout",
     "output_type": "stream",
     "text": [
      "got molecules\n"
     ]
    }
   ],
   "source": [
    "system_1_ligand = None\n",
    "protein = None\n",
    "n_residues = [molecule.nResidues() for molecule in system_1]\n",
    "n_atoms = [molecule.nAtoms() for molecule in system_1]\n",
    "for j, (n_residues, n_atoms) in enumerate(zip(n_residues[:20], n_atoms[:20])):\n",
    "    if n_residues == 1 and n_atoms > 5:\n",
    "        system_1_ligand = system_1.getMolecule(j)\n",
    "    elif n_residues > 1:\n",
    "        protein = system_1.getMolecule(j)\n",
    "    else:\n",
    "        pass\n",
    "\n",
    "system_2_ligand = None\n",
    "n_residues = [molecule.nResidues() for molecule in system_2]\n",
    "n_atoms = [molecule.nAtoms() for molecule in system_2]\n",
    "for j, (n_residues, n_atoms) in enumerate(zip(n_residues, n_atoms)):\n",
    "    if n_residues == 1 and n_atoms > 5:\n",
    "        system_2_ligand = system_2.getMolecule(j)\n",
    "    else:\n",
    "        pass    \n",
    "\n",
    "if system_1_ligand and system_2_ligand and protein:\n",
    "    print(f\"got molecules\")\n",
    "else:\n",
    "    raise _Exceptions.AlignmentError(\"Could not extract ligands or protein from input systems.\")\n",
    "\n",
    "mapping = bss.Align.matchAtoms(system_1_ligand, system_2_ligand, complete_rings_only=True)\n",
    "inverse_mapping = {value:key for key,value in mapping.items()}\n",
    "\n",
    "system_2_ligand_aligned = bss.Align.rmsdAlign(system_2_ligand, system_1_ligand, inverse_mapping)\n",
    "\n",
    "bound_merged_ligands = bss.Align.merge(system_1_ligand, system_2_ligand_aligned, mapping)\n",
    "\n",
    "system_1.removeMolecules(system_1_ligand)\n",
    "system_1.addMolecules(bound_merged_ligands)\n",
    "bound_system = system_1\n"
   ]
  },
  {
   "cell_type": "code",
   "execution_count": 47,
   "metadata": {},
   "outputs": [
    {
     "name": "stdout",
     "output_type": "stream",
     "text": [
      "[0.0, 0.1, 0.2, 0.3, 0.4, 0.5, 0.6, 0.7, 0.8, 0.9, 1.0]\n"
     ]
    }
   ],
   "source": [
    "lambda_string = \"0.0 0.1 0.2 0.3 0.4 0.5 0.6 0.7 0.8 0.9 1.0\"\n",
    "lambda_list = lambda_string.split()\n",
    "lambdas = [float(value) for value in lambda_list]\n",
    "print(lambdas)"
   ]
  },
  {
   "cell_type": "code",
   "execution_count": 52,
   "metadata": {},
   "outputs": [
    {
     "data": {
      "text/plain": [
       "<BioSimSpace.FreeEnergy._relative.Relative at 0x7f2ae479b0a0>"
      ]
     },
     "execution_count": 52,
     "metadata": {},
     "output_type": "execute_result"
    }
   ],
   "source": [
    "\n",
    "free_energy_protocol = bss.Protocol.FreeEnergy(lam_vals=lambdas, runtime=5*bss.Units.Time.nanosecond)\n",
    "\n",
    "# working_directory = f\"{full_path}/{system_name}/outputs/{engines[i].strip()}/lig_1~lig_2\"\n",
    "bss.FreeEnergy.Relative(bound_system, free_energy_protocol, engine=\"GROMACS\", work_dir= \"bound/\", setup_only=True)\n",
    "\n"
   ]
  },
  {
   "cell_type": "code",
   "execution_count": null,
   "metadata": {},
   "outputs": [],
   "source": []
  },
  {
   "cell_type": "code",
   "execution_count": 11,
   "metadata": {},
   "outputs": [
    {
     "name": "stdout",
     "output_type": "stream",
     "text": [
      "['../kpc2/inputs/ligands/ligand_1_solvated.top', '../kpc2/inputs/ligands/ligand_1_solvated.gro']\n"
     ]
    }
   ],
   "source": [
    "ligand_path = \"../kpc2/inputs/ligands/\"\n",
    "solvated_ligand_files = glob.glob(ligand_path + f\"ligand_1_solvated.*\")\n",
    "\n",
    "print(solvated_ligand_files)\n",
    "test_work_dir = \"test_min/\"\n",
    "minimisation_steps = 250"
   ]
  },
  {
   "cell_type": "code",
   "execution_count": 74,
   "metadata": {},
   "outputs": [],
   "source": [
    "solvated_ligand = bss.IO.readMolecules(solvated_ligand_files)\n",
    "\n",
    "ligand_minimisation_protocol = bss.Protocol.Minimisation(steps=minimisation_steps)\n",
    "ligand_minimisation_process = bss.Process.Gromacs(solvated_ligand,\n",
    "                                                  ligand_minimisation_protocol,\n",
    "                                                  name=\"min\",\n",
    "                                                  work_dir=test_work_dir)\n",
    "\n",
    "# fn.edit_mdp_options(test_work_dir, \"min\", {\"emstep\": 0.001, \"emtol\": 1000})\n",
    "ligand_minimisation_process.setConfig([\"emstep = 0.001\", \"emtol = 2000\"])\n",
    "ligand_minimisation_process.setArg(\"-ntmpi\", 1)\n"
   ]
  },
  {
   "cell_type": "code",
   "execution_count": 75,
   "metadata": {},
   "outputs": [
    {
     "data": {
      "text/plain": [
       "OrderedDict([('mdrun', True), ('-deffnm', 'min'), ('-ntmpi', 1)])"
      ]
     },
     "execution_count": 75,
     "metadata": {},
     "output_type": "execute_result"
    }
   ],
   "source": [
    "ligand_minimisation_process.getConfig()\n",
    "ligand_minimisation_process.getArgs()"
   ]
  },
  {
   "cell_type": "code",
   "execution_count": null,
   "metadata": {},
   "outputs": [],
   "source": []
  },
  {
   "cell_type": "code",
   "execution_count": 76,
   "metadata": {},
   "outputs": [],
   "source": [
    "ligand_minimisation_process.start()\n",
    "\n",
    "# Wait for the process to exit.\n",
    "ligand_minimisation_process.wait()\n",
    "\n",
    "# Check for errors.\n",
    "if ligand_minimisation_process.isError():\n",
    "    print(ligand_minimisation_process.stdout())\n",
    "    print(ligand_minimisation_process.stderr())\n",
    "    raise _Exceptions.ThirdPartyError(\"The process exited with an error!\")\n",
    "\n",
    "# If it worked, try to get the system. No need to block, since it's already finished.\n",
    "min_system = ligand_minimisation_process.getSystem()"
   ]
  },
  {
   "cell_type": "code",
   "execution_count": 77,
   "metadata": {},
   "outputs": [
    {
     "name": "stdout",
     "output_type": "stream",
     "text": [
      "NOTE: 85 % of the run time was spent in pair search,\n",
      "      you might want to increase nstlist (this has no effect on accuracy)\n",
      "\n",
      "               Core t (s)   Wall t (s)        (%)\n",
      "       Time:        0.215        0.007     3152.9\n",
      "                 (ns/day)    (hour/ns)\n",
      "Performance:       12.687        1.892\n",
      "\n",
      "GROMACS reminds you: \"What do you call an acid with an attitude? A-mean-oh acid.\" (Anonymous)\n",
      "\n"
     ]
    }
   ],
   "source": [
    "ligand_minimisation_process.stdout()"
   ]
  },
  {
   "cell_type": "code",
   "execution_count": 22,
   "metadata": {},
   "outputs": [],
   "source": [
    "unbound_path = \"../kpc2/equilibration/unbound/\"\n",
    "bound_path = \"../kpc2/equilibration/bound/\"\n",
    "\n",
    "\n",
    "ligand_1_system_gmx = bss.IO.readMolecules([f\"{unbound_path}/ligand_1/npt/npt.gro\",\n",
    "                                            f\"{unbound_path}/ligand_1/npt/npt.top\"])\n",
    "ligand_2_system_gmx = bss.IO.readMolecules([f\"{unbound_path}/ligand_2/npt/npt.gro\",\n",
    "                                            f\"{unbound_path}/ligand_2/npt/npt.top\"])\n",
    "\n"
   ]
  },
  {
   "cell_type": "code",
   "execution_count": 7,
   "metadata": {},
   "outputs": [
    {
     "data": {
      "text/plain": [
       "False"
      ]
     },
     "execution_count": 7,
     "metadata": {},
     "output_type": "execute_result"
    }
   ],
   "source": [
    "ligand_1_system_gmx.getMolecules()[0].isPerturbable()"
   ]
  },
  {
   "cell_type": "code",
   "execution_count": null,
   "metadata": {},
   "outputs": [],
   "source": []
  }
 ],
 "metadata": {
  "kernelspec": {
   "display_name": "bss-d",
   "language": "python",
   "name": "python3"
  },
  "language_info": {
   "codemirror_mode": {
    "name": "ipython",
    "version": 3
   },
   "file_extension": ".py",
   "mimetype": "text/x-python",
   "name": "python",
   "nbconvert_exporter": "python",
   "pygments_lexer": "ipython3",
   "version": "3.9.16"
  },
  "vscode": {
   "interpreter": {
    "hash": "f81d097606b2934fa8d1922533f78f64a436eb4cf1588d61ff1c0b79a2076e9c"
   }
  }
 },
 "nbformat": 4,
 "nbformat_minor": 4
}
