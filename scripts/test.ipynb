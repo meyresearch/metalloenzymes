{
 "cells": [
  {
   "cell_type": "code",
   "execution_count": 15,
   "metadata": {},
   "outputs": [],
   "source": [
    "import BioSimSpace as bss\n",
    "import glob\n",
    "import functions as fn\n",
    "from BioSimSpace import _Exceptions"
   ]
  },
  {
   "cell_type": "code",
   "execution_count": 11,
   "metadata": {},
   "outputs": [
    {
     "name": "stdout",
     "output_type": "stream",
     "text": [
      "['../kpc2/inputs/ligands/ligand_1_solvated.top', '../kpc2/inputs/ligands/ligand_1_solvated.gro']\n"
     ]
    }
   ],
   "source": [
    "ligand_path = \"../kpc2/inputs/ligands/\"\n",
    "solvated_ligand_files = glob.glob(ligand_path + f\"ligand_1_solvated.*\")\n",
    "\n",
    "print(solvated_ligand_files)\n",
    "test_work_dir = \"test_min/\"\n",
    "minimisation_steps = 250"
   ]
  },
  {
   "cell_type": "code",
   "execution_count": 31,
   "metadata": {},
   "outputs": [],
   "source": [
    "solvated_ligand = bss.IO.readMolecules(solvated_ligand_files)\n",
    "\n",
    "ligand_minimisation_protocol = bss.Protocol.Minimisation(steps=minimisation_steps)\n",
    "ligand_minimisation_process = bss.Process.Gromacs(solvated_ligand,\n",
    "                                                  ligand_minimisation_protocol,\n",
    "                                                  name=\"min\",\n",
    "                                                  work_dir=test_work_dir)\n",
    "\n",
    "# fn.edit_mdp_options(test_work_dir, \"min\", {\"emstep\": 0.001, \"emtol\": 1000})\n",
    "ligand_minimisation_process.setConfig([\"emstep = 0.001\", \"emtol = 2000\"])"
   ]
  },
  {
   "cell_type": "code",
   "execution_count": 32,
   "metadata": {},
   "outputs": [
    {
     "data": {
      "text/plain": [
       "['emstep = 0.001', 'emtol = 2000']"
      ]
     },
     "execution_count": 32,
     "metadata": {},
     "output_type": "execute_result"
    }
   ],
   "source": [
    "ligand_minimisation_process.getConfig()"
   ]
  },
  {
   "cell_type": "code",
   "execution_count": 14,
   "metadata": {},
   "outputs": [],
   "source": []
  },
  {
   "cell_type": "code",
   "execution_count": 33,
   "metadata": {},
   "outputs": [],
   "source": [
    "ligand_minimisation_process.start()\n",
    "\n",
    "# Wait for the process to exit.\n",
    "ligand_minimisation_process.wait()\n",
    "\n",
    "# Check for errors.\n",
    "if ligand_minimisation_process.isError():\n",
    "    print(ligand_minimisation_process.stdout())\n",
    "    print(ligand_minimisation_process.stderr())\n",
    "    raise _Exceptions.ThirdPartyError(\"The process exited with an error!\")\n",
    "\n",
    "# If it worked, try to get the system. No need to block, since it's already finished.\n",
    "min_system = ligand_minimisation_process.getSystem()"
   ]
  },
  {
   "cell_type": "code",
   "execution_count": 29,
   "metadata": {},
   "outputs": [
    {
     "name": "stdout",
     "output_type": "stream",
     "text": [
      "\n",
      "Back Off! I just backed up min.gro to ./#min.gro.1#\n",
      "\n",
      "Steepest Descents converged to Fmax < 1000 in 132 steps\n",
      "Potential Energy  = -3.1993949e+04\n",
      "Maximum force     =  8.8761688e+02 on atom 4\n",
      "Norm of force     =  7.0076917e+01\n",
      "\n",
      "GROMACS reminds you: \"Three Little Fonzies\" (Pulp Fiction)\n",
      "\n"
     ]
    }
   ],
   "source": [
    "ligand_minimisation_process.stdout()"
   ]
  },
  {
   "cell_type": "code",
   "execution_count": 22,
   "metadata": {},
   "outputs": [],
   "source": [
    "unbound_path = \"../kpc2/equilibration/unbound/\"\n",
    "bound_path = \"../kpc2/equilibration/bound/\"\n",
    "\n",
    "\n",
    "ligand_1_system_gmx = bss.IO.readMolecules([f\"{unbound_path}/ligand_1/npt/npt.gro\",\n",
    "                                            f\"{unbound_path}/ligand_1/npt/npt.top\"])\n",
    "ligand_2_system_gmx = bss.IO.readMolecules([f\"{unbound_path}/ligand_2/npt/npt.gro\",\n",
    "                                            f\"{unbound_path}/ligand_2/npt/npt.top\"])\n",
    "\n"
   ]
  },
  {
   "cell_type": "code",
   "execution_count": 7,
   "metadata": {},
   "outputs": [
    {
     "data": {
      "text/plain": [
       "False"
      ]
     },
     "execution_count": 7,
     "metadata": {},
     "output_type": "execute_result"
    }
   ],
   "source": [
    "ligand_1_system_gmx.getMolecules()[0].isPerturbable()"
   ]
  },
  {
   "cell_type": "code",
   "execution_count": null,
   "metadata": {},
   "outputs": [],
   "source": []
  }
 ],
 "metadata": {
  "kernelspec": {
   "display_name": "Python 3 (ipykernel)",
   "language": "python",
   "name": "python3"
  },
  "language_info": {
   "codemirror_mode": {
    "name": "ipython",
    "version": 3
   },
   "file_extension": ".py",
   "mimetype": "text/x-python",
   "name": "python",
   "nbconvert_exporter": "python",
   "pygments_lexer": "ipython3",
   "version": "3.9.15"
  }
 },
 "nbformat": 4,
 "nbformat_minor": 4
}
