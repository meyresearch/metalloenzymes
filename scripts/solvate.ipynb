{
 "cells": [
  {
   "cell_type": "code",
   "execution_count": 1,
   "metadata": {},
   "outputs": [
    {
     "name": "stderr",
     "output_type": "stream",
     "text": [
      "/home/jguven/Software/miniconda3/envs/sire/lib/python3.9/site-packages/numpy/core/getlimits.py:500: UserWarning: The value of the smallest subnormal for <class 'numpy.float64'> type is zero.\n",
      "  setattr(self, word, getattr(machar, word).flat[0])\n",
      "/home/jguven/Software/miniconda3/envs/sire/lib/python3.9/site-packages/numpy/core/getlimits.py:89: UserWarning: The value of the smallest subnormal for <class 'numpy.float64'> type is zero.\n",
      "  return self._float_to_str(self.smallest_subnormal)\n",
      "/home/jguven/Software/miniconda3/envs/sire/lib/python3.9/site-packages/numpy/core/getlimits.py:500: UserWarning: The value of the smallest subnormal for <class 'numpy.float32'> type is zero.\n",
      "  setattr(self, word, getattr(machar, word).flat[0])\n",
      "/home/jguven/Software/miniconda3/envs/sire/lib/python3.9/site-packages/numpy/core/getlimits.py:89: UserWarning: The value of the smallest subnormal for <class 'numpy.float32'> type is zero.\n",
      "  return self._float_to_str(self.smallest_subnormal)\n"
     ]
    },
    {
     "name": "stdout",
     "output_type": "stream",
     "text": [
      "\n",
      "==============================================================\n",
      "Sending anonymous Sire usage statistics to http://siremol.org.\n",
      "For more information, see http://siremol.org/analytics\n",
      "To disable, set the environment variable 'SIRE_DONT_PHONEHOME' to 1\n",
      "To see the information sent, set the environment variable \n",
      "SIRE_VERBOSE_PHONEHOME equal to 1. To silence this message, set\n",
      "the environment variable SIRE_SILENT_PHONEHOME to 1.\n",
      "==============================================================\n",
      "\n"
     ]
    }
   ],
   "source": [
    "import BioSimSpace as bss"
   ]
  },
  {
   "cell_type": "code",
   "execution_count": 2,
   "metadata": {},
   "outputs": [],
   "source": [
    "solvent = \"TIP3P\"\n",
    "box_edges = 20\n",
    "box_type = \"orthorhombic\"\n",
    "angstrom = bss.Units.Length.angstrom"
   ]
  },
  {
   "cell_type": "code",
   "execution_count": 10,
   "metadata": {},
   "outputs": [
    {
     "ename": "ValueError",
     "evalue": "'net_charge' must be integer valued.",
     "output_type": "error",
     "traceback": [
      "\u001b[0;31m---------------------------------------------------------------------------\u001b[0m",
      "\u001b[0;31mValueError\u001b[0m                                Traceback (most recent call last)",
      "Cell \u001b[0;32mIn [10], line 7\u001b[0m\n\u001b[1;32m      5\u001b[0m ligand_1 \u001b[39m=\u001b[39m bss\u001b[39m.\u001b[39mIO\u001b[39m.\u001b[39mreadMolecules(ligand_path\u001b[39m+\u001b[39mligand_name_1)[\u001b[39m0\u001b[39m]\n\u001b[1;32m      6\u001b[0m ligand_2 \u001b[39m=\u001b[39m bss\u001b[39m.\u001b[39mIO\u001b[39m.\u001b[39mreadMolecules(ligand_path\u001b[39m+\u001b[39mligand_name_2)[\u001b[39m0\u001b[39m]\n\u001b[0;32m----> 7\u001b[0m ligand_1_params \u001b[39m=\u001b[39m bss\u001b[39m.\u001b[39;49mParameters\u001b[39m.\u001b[39;49mgaff2(ligand_1, net_charge\u001b[39m=\u001b[39;49m\u001b[39m-\u001b[39;49m\u001b[39m0.7114\u001b[39;49m)\u001b[39m.\u001b[39mgetMolecule()\n\u001b[1;32m      8\u001b[0m ligand_2_params \u001b[39m=\u001b[39m bss\u001b[39m.\u001b[39mParameters\u001b[39m.\u001b[39mgaff2(ligand_2, net_charge\u001b[39m=\u001b[39m\u001b[39m-\u001b[39m\u001b[39m0.7114\u001b[39m)\u001b[39m.\u001b[39mgetMolecule()\n",
      "File \u001b[0;32m~/BioSimSpace/python/BioSimSpace/Parameters/_parameters.py:482\u001b[0m, in \u001b[0;36mgaff2\u001b[0;34m(molecule, work_dir, net_charge, charge_method, property_map)\u001b[0m\n\u001b[1;32m    480\u001b[0m \u001b[39mif\u001b[39;00m \u001b[39misinstance\u001b[39m(net_charge, \u001b[39mfloat\u001b[39m):\n\u001b[1;32m    481\u001b[0m     \u001b[39mif\u001b[39;00m net_charge \u001b[39m%\u001b[39m \u001b[39m1\u001b[39m \u001b[39m!=\u001b[39m \u001b[39m0\u001b[39m:\n\u001b[0;32m--> 482\u001b[0m         \u001b[39mraise\u001b[39;00m \u001b[39mValueError\u001b[39;00m(\u001b[39m\"\u001b[39m\u001b[39m'\u001b[39m\u001b[39mnet_charge\u001b[39m\u001b[39m'\u001b[39m\u001b[39m must be integer valued.\u001b[39m\u001b[39m\"\u001b[39m)\n\u001b[1;32m    484\u001b[0m \u001b[39m# Try to convert to int.\u001b[39;00m\n\u001b[1;32m    485\u001b[0m \u001b[39mtry\u001b[39;00m:\n",
      "\u001b[0;31mValueError\u001b[0m: 'net_charge' must be integer valued."
     ]
    }
   ],
   "source": [
    "protein_path = \"../inputs/protein/\"\n",
    "ligand_path = \"../inputs/ligands/\"\n",
    "ligand_name_1 = \"ligand_8_xtal.sdf\"\n",
    "ligand_name_2 = \"docked_10.sdf\"\n",
    "ligand_1 = bss.IO.readMolecules(ligand_path+ligand_name_1)[0]\n",
    "ligand_2 = bss.IO.readMolecules(ligand_path+ligand_name_2)[0]\n",
    "ligand_1_params = bss.Parameters.gaff2(ligand_1, net_charge=-0.7114).getMolecule()\n",
    "ligand_2_params = bss.Parameters.gaff2(ligand_2, net_charge=-0.7114).getMolecule()"
   ]
  },
  {
   "cell_type": "code",
   "execution_count": 11,
   "metadata": {},
   "outputs": [
    {
     "data": {
      "text/plain": [
       "['Gro87', 'GroTop', 'MOL2', 'PDB', 'PRM7', 'PSF', 'RST', 'RST7', 'SDF']"
      ]
     },
     "execution_count": 11,
     "metadata": {},
     "output_type": "execute_result"
    }
   ],
   "source": [
    "bss.IO.fileFormats()"
   ]
  },
  {
   "cell_type": "code",
   "execution_count": 15,
   "metadata": {},
   "outputs": [
    {
     "data": {
      "text/plain": [
       "['/home/jguven/projects/metalloenzymes/vim_2/inputs/ligands/lig_10.mol2']"
      ]
     },
     "execution_count": 15,
     "metadata": {},
     "output_type": "execute_result"
    }
   ],
   "source": [
    "ligand_1 = bss.IO.readMolecules(ligand_path+ligand_name_1)[0]\n",
    "ligand_2 = bss.IO.readMolecules(ligand_path+ligand_name_2)[0]\n",
    "bss.IO.saveMolecules(\"../inputs/ligands/lig_8\", system=ligand_1, fileformat=\"mol2\")\n",
    "bss.IO.saveMolecules(\"../inputs/ligands/lig_10\", system=ligand_2, fileformat=\"mol2\")\n"
   ]
  },
  {
   "cell_type": "code",
   "execution_count": 18,
   "metadata": {},
   "outputs": [
    {
     "name": "stdout",
     "output_type": "stream",
     "text": [
      "Box size set to 27.1000 A\n",
      "Solvating ligand.\n"
     ]
    },
    {
     "ename": "OSError",
     "evalue": "Failed to write GROMACS topology file. Is your molecule parameterised?",
     "output_type": "error",
     "traceback": [
      "\u001b[0;31m---------------------------------------------------------------------------\u001b[0m",
      "\u001b[0;31mOSError\u001b[0m                                   Traceback (most recent call last)",
      "Cell \u001b[0;32mIn [18], line 8\u001b[0m\n\u001b[1;32m      6\u001b[0m \u001b[39mprint\u001b[39m(\u001b[39mf\u001b[39m\u001b[39m\"\u001b[39m\u001b[39mBox size set to \u001b[39m\u001b[39m{\u001b[39;00m\u001b[39mmax\u001b[39m(box_sizes)\u001b[39m}\u001b[39;00m\u001b[39m\"\u001b[39m)\n\u001b[1;32m      7\u001b[0m \u001b[39mprint\u001b[39m(\u001b[39m\"\u001b[39m\u001b[39mSolvating ligand.\u001b[39m\u001b[39m\"\u001b[39m)\n\u001b[0;32m----> 8\u001b[0m ligand_params_solvated \u001b[39m=\u001b[39m bss\u001b[39m.\u001b[39;49mSolvent\u001b[39m.\u001b[39;49msolvate(solvent, \n\u001b[1;32m      9\u001b[0m                                                 molecule\u001b[39m=\u001b[39;49mligand_1,\n\u001b[1;32m     10\u001b[0m                                                 box\u001b[39m=\u001b[39;49mbox,\n\u001b[1;32m     11\u001b[0m                                                 angles\u001b[39m=\u001b[39;49mangles)\n",
      "File \u001b[0;32m~/BioSimSpace/python/BioSimSpace/Solvent/_solvent.py:118\u001b[0m, in \u001b[0;36msolvate\u001b[0;34m(model, molecule, box, angles, shell, ion_conc, is_neutral, work_dir, property_map)\u001b[0m\n\u001b[1;32m    115\u001b[0m     \u001b[39mif\u001b[39;00m model \u001b[39mnot\u001b[39;00m \u001b[39min\u001b[39;00m _models_lower:\n\u001b[1;32m    116\u001b[0m         \u001b[39mraise\u001b[39;00m \u001b[39mValueError\u001b[39;00m(\u001b[39m\"\u001b[39m\u001b[39mSupported water models are: \u001b[39m\u001b[39m%s\u001b[39;00m\u001b[39m\"\u001b[39m \u001b[39m%\u001b[39m waterModels())\n\u001b[0;32m--> 118\u001b[0m \u001b[39mreturn\u001b[39;00m _model_dict[model](molecule, box, angles, shell, ion_conc, is_neutral, work_dir, property_map)\n",
      "File \u001b[0;32m~/BioSimSpace/python/BioSimSpace/Solvent/_solvent.py:288\u001b[0m, in \u001b[0;36mtip3p\u001b[0;34m(molecule, box, angles, shell, ion_conc, is_neutral, work_dir, property_map)\u001b[0m\n\u001b[1;32m    284\u001b[0m molecule, box, angles, shell, work_dir, property_map \u001b[39m=\u001b[39m \\\n\u001b[1;32m    285\u001b[0m     _validate_input(\u001b[39m\"\u001b[39m\u001b[39mtip3p\u001b[39m\u001b[39m\"\u001b[39m, molecule, box, angles, shell, ion_conc, is_neutral, work_dir, property_map)\n\u001b[1;32m    287\u001b[0m \u001b[39m# Create the solvated system.\u001b[39;00m\n\u001b[0;32m--> 288\u001b[0m \u001b[39mreturn\u001b[39;00m _solvate(molecule, box, angles, shell, \u001b[39m\"\u001b[39;49m\u001b[39mtip3p\u001b[39;49m\u001b[39m\"\u001b[39;49m, \u001b[39m3\u001b[39;49m, ion_conc,\n\u001b[1;32m    289\u001b[0m         is_neutral, work_dir\u001b[39m=\u001b[39;49mwork_dir, property_map\u001b[39m=\u001b[39;49mproperty_map)\n",
      "File \u001b[0;32m~/BioSimSpace/python/BioSimSpace/Solvent/_solvent.py:834\u001b[0m, in \u001b[0;36m_solvate\u001b[0;34m(molecule, box, angles, shell, model, num_point, ion_conc, is_neutral, work_dir, property_map)\u001b[0m\n\u001b[1;32m    832\u001b[0m         \u001b[39mraise\u001b[39;00m \u001b[39mIOError\u001b[39;00m(msg) \u001b[39mfrom\u001b[39;00m \u001b[39me\u001b[39;00m\n\u001b[1;32m    833\u001b[0m     \u001b[39melse\u001b[39;00m:\n\u001b[0;32m--> 834\u001b[0m         \u001b[39mraise\u001b[39;00m \u001b[39mIOError\u001b[39;00m(msg) \u001b[39mfrom\u001b[39;00m \u001b[39mNone\u001b[39m\n\u001b[1;32m    836\u001b[0m \u001b[39m# First write an mdp file.\u001b[39;00m\n\u001b[1;32m    837\u001b[0m \u001b[39mwith\u001b[39;00m \u001b[39mopen\u001b[39m(\u001b[39m\"\u001b[39m\u001b[39mions.mdp\u001b[39m\u001b[39m\"\u001b[39m, \u001b[39m\"\u001b[39m\u001b[39mw\u001b[39m\u001b[39m\"\u001b[39m) \u001b[39mas\u001b[39;00m file:\n",
      "\u001b[0;31mOSError\u001b[0m: Failed to write GROMACS topology file. Is your molecule parameterised?"
     ]
    }
   ],
   "source": [
    "ligand_1 = bss.IO.readMolecules(\"../inputs/ligands/lig_8_ante.mol2\")\n",
    "box_min, box_max = ligand_1.getAxisAlignedBoundingBox()\n",
    "box_size = [y - x for x, y in zip(box_min, box_max)]\n",
    "box_sizes = [x + box_edges * angstrom for x in box_size]\n",
    "box, angles = bss.Box.cubic(max(box_sizes))\n",
    "print(f\"Box size set to {max(box_sizes)}\")\n",
    "print(\"Solvating ligand.\")\n",
    "ligand_params_solvated = bss.Solvent.solvate(solvent, \n",
    "                                                molecule=ligand_1,\n",
    "                                                box=box,\n",
    "                                                angles=angles)"
   ]
  },
  {
   "cell_type": "code",
   "execution_count": 4,
   "metadata": {},
   "outputs": [
    {
     "name": "stdout",
     "output_type": "stream",
     "text": [
      "Box size set to 27.1000 A\n",
      "Solvating ligand.\n",
      "Solvation done. Saving ligand.\n",
      "Box size set to 27.6280 A\n",
      "Solvating ligand.\n",
      "Solvation done. Saving ligand.\n"
     ]
    }
   ],
   "source": [
    "ligand_params = [ligand_1_params, ligand_2_params]\n",
    "ligand_names = [ligand_name_1, ligand_name_2]\n",
    "for i in range(2):\n",
    "    box_min, box_max = ligand_params[i].getAxisAlignedBoundingBox()\n",
    "    box_size = [y - x for x, y in zip(box_min, box_max)]\n",
    "    box_sizes = [x + box_edges * angstrom for x in box_size]\n",
    "    box, angles = bss.Box.cubic(max(box_sizes))\n",
    "    print(f\"Box size set to {max(box_sizes)}\")\n",
    "    print(\"Solvating ligand.\")\n",
    "    ligand_params_solvated = bss.Solvent.solvate(solvent, \n",
    "                                                 molecule=ligand_params[i],\n",
    "                                                 box=box,\n",
    "                                                 angles=angles)\n",
    "    print(\"Solvation done. Saving ligand.\")\n",
    "    save_name = ligand_names[i].strip(\".sdf\").split(\"_\")[1]\n",
    "    bss.IO.saveMolecules(f\"../inputs/ligands/ligand_{save_name}_solv\", ligand_params_solvated, [\"PRM7\", \"RST7\"])                          \n",
    "    bss.IO.saveMolecules(f\"../inputs/ligands/ligand_{save_name}_solv\", ligand_params_solvated, [\"Gro87\", \"GroTop\"])                                            "
   ]
  },
  {
   "cell_type": "code",
   "execution_count": 5,
   "metadata": {},
   "outputs": [
    {
     "name": "stdout",
     "output_type": "stream",
     "text": [
      "Box size set to 64.3260 A\n",
      "Solvating system\n",
      "-0.2886 |e|\n",
      "Box size set to 64.3260 A\n",
      "Solvating system\n",
      "-0.2886 |e|\n"
     ]
    }
   ],
   "source": [
    "protein = bss.IO.readMolecules([\"../kpc2/inputs/protein/prot_water.rst7\",\n",
    "                                \"../kpc2/inputs/protein/prot_water.prm7\"])[0]\n",
    "for i in range(2):\n",
    "    system = ligand_params[i] + protein\n",
    "    box_min_sys, box_max_sys = system.getAxisAlignedBoundingBox()\n",
    "    box_size_sys = [y - x for x, y in zip(box_min_sys, box_max_sys)]\n",
    "    box_sizes_sys = [x + box_edges * angstrom for x in box_size_sys]\n",
    "    box, angles = bss.Box.cubic(max(box_sizes_sys))\n",
    "    print(f\"Box size set to {max(box_sizes_sys)}\")\n",
    "    print(\"Solvating system\")\n",
    "    \n",
    "    system_solvated = bss.Solvent.solvate(solvent,\n",
    "                                          molecule=system,\n",
    "                                          box=box,\n",
    "                                          angles=angles)\n",
    "    print(system_solvated.charge())\n",
    "    save_name = ligand_names[i].strip(\".sdf\").split(\"_\")[1]\n",
    "    bss.IO.saveMolecules(f\"../kpc2/inputs/protein/system_{save_name}_solv\", system_solvated, [\"PRM7\", \"RST7\"])\n",
    "    bss.IO.saveMolecules(f\"../kpc2/inputs/protein/system_{save_name}_solv\", system_solvated, [\"Gro87\", \"GroTop\"])"
   ]
  },
  {
   "cell_type": "code",
   "execution_count": 42,
   "metadata": {},
   "outputs": [
    {
     "data": {
      "text/plain": [
       "-10.2886 |e|"
      ]
     },
     "execution_count": 42,
     "metadata": {},
     "output_type": "execute_result"
    }
   ],
   "source": [
    "protein_charge = protein.charge()\n",
    "protein_charge"
   ]
  },
  {
   "cell_type": "code",
   "execution_count": 44,
   "metadata": {},
   "outputs": [
    {
     "data": {
      "text/plain": [
       "-0.7113 |e|"
      ]
     },
     "execution_count": 44,
     "metadata": {},
     "output_type": "execute_result"
    }
   ],
   "source": [
    "pt1_charge = bss.Types._charge.Charge(-0.7112999999999998, \"e\")\n",
    "pt1_charge"
   ]
  },
  {
   "cell_type": "code",
   "execution_count": 45,
   "metadata": {},
   "outputs": [
    {
     "data": {
      "text/plain": [
       "-10.9999 |e|"
      ]
     },
     "execution_count": 45,
     "metadata": {},
     "output_type": "execute_result"
    }
   ],
   "source": [
    "pt1_charge + protein_charge"
   ]
  },
  {
   "cell_type": "code",
   "execution_count": null,
   "metadata": {},
   "outputs": [],
   "source": []
  }
 ],
 "metadata": {
  "kernelspec": {
   "display_name": "Python 3.9.13 ('sire')",
   "language": "python",
   "name": "python3"
  },
  "language_info": {
   "codemirror_mode": {
    "name": "ipython",
    "version": 3
   },
   "file_extension": ".py",
   "mimetype": "text/x-python",
   "name": "python",
   "nbconvert_exporter": "python",
   "pygments_lexer": "ipython3",
   "version": "3.9.13"
  },
  "orig_nbformat": 4,
  "vscode": {
   "interpreter": {
    "hash": "d26aaf8360ec79b5d34f6b3f2ca21f083671eb70d713101a39f31e19235f4f34"
   }
  }
 },
 "nbformat": 4,
 "nbformat_minor": 2
}
