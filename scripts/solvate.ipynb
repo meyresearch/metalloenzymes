{
 "cells": [
  {
   "cell_type": "code",
   "execution_count": 1,
   "metadata": {},
   "outputs": [
    {
     "data": {
      "application/vnd.jupyter.widget-view+json": {
       "model_id": "6082e38a2c0d4de38ca1883df1bab61b",
       "version_major": 2,
       "version_minor": 0
      },
      "text/plain": []
     },
     "metadata": {},
     "output_type": "display_data"
    },
    {
     "name": "stderr",
     "output_type": "stream",
     "text": [
      "INFO:rdkit:Enabling RDKit 2022.09.1 jupyter extensions\n",
      "INFO:numexpr.utils:Note: NumExpr detected 32 cores but \"NUMEXPR_MAX_THREADS\" not set, so enforcing safe limit of 8.\n",
      "INFO:numexpr.utils:NumExpr defaulting to 8 threads.\n",
      "WARNING:root:Warning: importing 'simtk.openmm' is deprecated.  Import 'openmm' instead.\n"
     ]
    }
   ],
   "source": [
    "import BioSimSpace as bss"
   ]
  },
  {
   "cell_type": "code",
   "execution_count": 7,
   "metadata": {},
   "outputs": [
    {
     "data": {
      "text/plain": [
       "-1.0050 |e|"
      ]
     },
     "execution_count": 7,
     "metadata": {},
     "output_type": "execute_result"
    }
   ],
   "source": [
    "lig = bss.IO.readMolecules(\"/home/jguven/projects/metalloenzymes/nonbonded_model_vim2/ligand_6/L8J.mol2\")[0]\n",
    "lig.charge()\n",
    "\n"
   ]
  },
  {
   "cell_type": "code",
   "execution_count": 3,
   "metadata": {},
   "outputs": [],
   "source": [
    "path = \"/home/jguven/projects/metalloenzymes/nonbonded_model_vim2/ligand_1/\"\n",
    "lig_mol = bss.IO.readMolecules(path+\"L8J.pdb\")[0]\n",
    "lig =  bss.Parameters.gaff2(lig_mol, net_charge=-1).getMolecule()\n",
    "\n",
    "\n"
   ]
  },
  {
   "attachments": {},
   "cell_type": "markdown",
   "metadata": {},
   "source": []
  },
  {
   "attachments": {},
   "cell_type": "markdown",
   "metadata": {},
   "source": []
  },
  {
   "cell_type": "code",
   "execution_count": 22,
   "metadata": {},
   "outputs": [],
   "source": [
    "box_min, box_max = lig.getAxisAlignedBoundingBox()\n",
    "box_size = [y - x for x, y in zip(box_min, box_max)]\n",
    "box_sizes = [x + int(20) * bss.Units.Length.angstrom for x in box_size] \n",
    "system_box_min, system_box_max = system.getAxisAlignedBoundingBox()\n",
    "system_box_size = [y - x for x, y in zip(system_box_min, system_box_max)]\n",
    "system_box_sizes = [x + int(20) * bss.Units.Length.angstrom for x in system_box_size]"
   ]
  },
  {
   "cell_type": "code",
   "execution_count": 23,
   "metadata": {},
   "outputs": [
    {
     "name": "stdout",
     "output_type": "stream",
     "text": [
      "solvating unbound ligand\n",
      "solvating bound system\n"
     ]
    },
    {
     "data": {
      "text/html": [
       "<pre style=\"white-space:pre;overflow-x:auto;line-height:normal;font-family:Menlo,'DejaVu Sans Mono',consolas,'Courier New',monospace\"><span style=\"color: #800000; text-decoration-color: #800000\">╭─────────────────────────────── </span><span style=\"color: #800000; text-decoration-color: #800000; font-weight: bold\">Traceback </span><span style=\"color: #bf7f7f; text-decoration-color: #bf7f7f; font-weight: bold\">(most recent call last)</span><span style=\"color: #800000; text-decoration-color: #800000\"> ────────────────────────────────╮</span>\n",
       "<span style=\"color: #800000; text-decoration-color: #800000\">│</span> in <span style=\"color: #00ff00; text-decoration-color: #00ff00\">&lt;module&gt;</span>                                                                                      <span style=\"color: #800000; text-decoration-color: #800000\">│</span>\n",
       "<span style=\"color: #800000; text-decoration-color: #800000\">│</span>                                                                                                  <span style=\"color: #800000; text-decoration-color: #800000\">│</span>\n",
       "<span style=\"color: #800000; text-decoration-color: #800000\">│</span>   <span style=\"color: #7f7f7f; text-decoration-color: #7f7f7f\">3 </span>ligand_solvated = bss.Solvent.solvate(<span style=\"color: #808000; text-decoration-color: #808000\">\"tip3p\"</span>, molecule=lig, box=box, angles=angles)         <span style=\"color: #800000; text-decoration-color: #800000\">│</span>\n",
       "<span style=\"color: #800000; text-decoration-color: #800000\">│</span>   <span style=\"color: #7f7f7f; text-decoration-color: #7f7f7f\">4 </span>box, angles = bss.Box.cubic(<span style=\"color: #00ffff; text-decoration-color: #00ffff\">max</span>(system_box_sizes))                                           <span style=\"color: #800000; text-decoration-color: #800000\">│</span>\n",
       "<span style=\"color: #800000; text-decoration-color: #800000\">│</span>   <span style=\"color: #7f7f7f; text-decoration-color: #7f7f7f\">5 </span><span style=\"color: #00ffff; text-decoration-color: #00ffff\">print</span>(<span style=\"color: #808000; text-decoration-color: #808000\">\"solvating bound system\"</span>)                                                              <span style=\"color: #800000; text-decoration-color: #800000\">│</span>\n",
       "<span style=\"color: #800000; text-decoration-color: #800000\">│</span> <span style=\"color: #800000; text-decoration-color: #800000\">❱ </span>6 system_solvated = bss.Solvent.solvate(<span style=\"color: #808000; text-decoration-color: #808000\">\"tip3p\"</span>, molecule=system, box=box, angles=angles)      <span style=\"color: #800000; text-decoration-color: #800000\">│</span>\n",
       "<span style=\"color: #800000; text-decoration-color: #800000\">│</span>   <span style=\"color: #7f7f7f; text-decoration-color: #7f7f7f\">7 </span>                                                                                             <span style=\"color: #800000; text-decoration-color: #800000\">│</span>\n",
       "<span style=\"color: #800000; text-decoration-color: #800000\">│</span>                                                                                                  <span style=\"color: #800000; text-decoration-color: #800000\">│</span>\n",
       "<span style=\"color: #800000; text-decoration-color: #800000\">│</span> <span style=\"color: #bfbf7f; text-decoration-color: #bfbf7f\">/home/jguven/Software/miniconda3/envs/bss-d/lib/python3.9/site-packages/BioSimSpace/Solvent/</span><span style=\"color: #808000; text-decoration-color: #808000; font-weight: bold\">_sol</span> <span style=\"color: #800000; text-decoration-color: #800000\">│</span>\n",
       "<span style=\"color: #800000; text-decoration-color: #800000\">│</span> <span style=\"color: #808000; text-decoration-color: #808000; font-weight: bold\">vent.py</span>:<span style=\"color: #0000ff; text-decoration-color: #0000ff\">127</span> in <span style=\"color: #00ff00; text-decoration-color: #00ff00\">solvate</span>                                                                           <span style=\"color: #800000; text-decoration-color: #800000\">│</span>\n",
       "<span style=\"color: #800000; text-decoration-color: #800000\">│</span>                                                                                                  <span style=\"color: #800000; text-decoration-color: #800000\">│</span>\n",
       "<span style=\"color: #800000; text-decoration-color: #800000\">│</span>   <span style=\"color: #7f7f7f; text-decoration-color: #7f7f7f\"> 124 │   │   </span><span style=\"color: #0000ff; text-decoration-color: #0000ff\">if</span> model <span style=\"color: #ff00ff; text-decoration-color: #ff00ff\">not</span> <span style=\"color: #ff00ff; text-decoration-color: #ff00ff\">in</span> _models_lower:                                                    <span style=\"color: #800000; text-decoration-color: #800000\">│</span>\n",
       "<span style=\"color: #800000; text-decoration-color: #800000\">│</span>   <span style=\"color: #7f7f7f; text-decoration-color: #7f7f7f\"> 125 │   │   │   </span><span style=\"color: #0000ff; text-decoration-color: #0000ff\">raise</span> <span style=\"color: #00ffff; text-decoration-color: #00ffff\">ValueError</span>(<span style=\"color: #808000; text-decoration-color: #808000\">\"Supported water models are: %s\"</span> % waterModels())            <span style=\"color: #800000; text-decoration-color: #800000\">│</span>\n",
       "<span style=\"color: #800000; text-decoration-color: #800000\">│</span>   <span style=\"color: #7f7f7f; text-decoration-color: #7f7f7f\"> 126 │   </span>                                                                                      <span style=\"color: #800000; text-decoration-color: #800000\">│</span>\n",
       "<span style=\"color: #800000; text-decoration-color: #800000\">│</span> <span style=\"color: #800000; text-decoration-color: #800000\">❱ </span> 127 <span style=\"color: #7f7f7f; text-decoration-color: #7f7f7f\">│   </span><span style=\"color: #0000ff; text-decoration-color: #0000ff\">return</span> _model_dict[model](                                                            <span style=\"color: #800000; text-decoration-color: #800000\">│</span>\n",
       "<span style=\"color: #800000; text-decoration-color: #800000\">│</span>   <span style=\"color: #7f7f7f; text-decoration-color: #7f7f7f\"> 128 │   │   </span>molecule, box, angles, shell, ion_conc, is_neutral, work_dir, property_map        <span style=\"color: #800000; text-decoration-color: #800000\">│</span>\n",
       "<span style=\"color: #800000; text-decoration-color: #800000\">│</span>   <span style=\"color: #7f7f7f; text-decoration-color: #7f7f7f\"> 129 │   </span>)                                                                                     <span style=\"color: #800000; text-decoration-color: #800000\">│</span>\n",
       "<span style=\"color: #800000; text-decoration-color: #800000\">│</span>   <span style=\"color: #7f7f7f; text-decoration-color: #7f7f7f\"> 130 </span>                                                                                          <span style=\"color: #800000; text-decoration-color: #800000\">│</span>\n",
       "<span style=\"color: #800000; text-decoration-color: #800000\">│</span>                                                                                                  <span style=\"color: #800000; text-decoration-color: #800000\">│</span>\n",
       "<span style=\"color: #800000; text-decoration-color: #800000\">│</span> <span style=\"color: #bfbf7f; text-decoration-color: #bfbf7f\">/home/jguven/Software/miniconda3/envs/bss-d/lib/python3.9/site-packages/BioSimSpace/Solvent/</span><span style=\"color: #808000; text-decoration-color: #808000; font-weight: bold\">_sol</span> <span style=\"color: #800000; text-decoration-color: #800000\">│</span>\n",
       "<span style=\"color: #800000; text-decoration-color: #800000\">│</span> <span style=\"color: #808000; text-decoration-color: #808000; font-weight: bold\">vent.py</span>:<span style=\"color: #0000ff; text-decoration-color: #0000ff\">382</span> in <span style=\"color: #00ff00; text-decoration-color: #00ff00\">tip3p</span>                                                                             <span style=\"color: #800000; text-decoration-color: #800000\">│</span>\n",
       "<span style=\"color: #800000; text-decoration-color: #800000\">│</span>                                                                                                  <span style=\"color: #800000; text-decoration-color: #800000\">│</span>\n",
       "<span style=\"color: #800000; text-decoration-color: #800000\">│</span>   <span style=\"color: #7f7f7f; text-decoration-color: #7f7f7f\"> 379 │   </span>)                                                                                     <span style=\"color: #800000; text-decoration-color: #800000\">│</span>\n",
       "<span style=\"color: #800000; text-decoration-color: #800000\">│</span>   <span style=\"color: #7f7f7f; text-decoration-color: #7f7f7f\"> 380 │   </span>                                                                                      <span style=\"color: #800000; text-decoration-color: #800000\">│</span>\n",
       "<span style=\"color: #800000; text-decoration-color: #800000\">│</span>   <span style=\"color: #7f7f7f; text-decoration-color: #7f7f7f\"> 381 │   # Create the solvated system.</span>                                                         <span style=\"color: #800000; text-decoration-color: #800000\">│</span>\n",
       "<span style=\"color: #800000; text-decoration-color: #800000\">│</span> <span style=\"color: #800000; text-decoration-color: #800000\">❱ </span> 382 <span style=\"color: #7f7f7f; text-decoration-color: #7f7f7f\">│   </span><span style=\"color: #0000ff; text-decoration-color: #0000ff\">return</span> _solvate(                                                                      <span style=\"color: #800000; text-decoration-color: #800000\">│</span>\n",
       "<span style=\"color: #800000; text-decoration-color: #800000\">│</span>   <span style=\"color: #7f7f7f; text-decoration-color: #7f7f7f\"> 383 │   │   </span>molecule,                                                                         <span style=\"color: #800000; text-decoration-color: #800000\">│</span>\n",
       "<span style=\"color: #800000; text-decoration-color: #800000\">│</span>   <span style=\"color: #7f7f7f; text-decoration-color: #7f7f7f\"> 384 │   │   </span>box,                                                                              <span style=\"color: #800000; text-decoration-color: #800000\">│</span>\n",
       "<span style=\"color: #800000; text-decoration-color: #800000\">│</span>   <span style=\"color: #7f7f7f; text-decoration-color: #7f7f7f\"> 385 │   │   </span>angles,                                                                           <span style=\"color: #800000; text-decoration-color: #800000\">│</span>\n",
       "<span style=\"color: #800000; text-decoration-color: #800000\">│</span>                                                                                                  <span style=\"color: #800000; text-decoration-color: #800000\">│</span>\n",
       "<span style=\"color: #800000; text-decoration-color: #800000\">│</span> <span style=\"color: #bfbf7f; text-decoration-color: #bfbf7f\">/home/jguven/Software/miniconda3/envs/bss-d/lib/python3.9/site-packages/BioSimSpace/Solvent/</span><span style=\"color: #808000; text-decoration-color: #808000; font-weight: bold\">_sol</span> <span style=\"color: #800000; text-decoration-color: #800000\">│</span>\n",
       "<span style=\"color: #800000; text-decoration-color: #800000\">│</span> <span style=\"color: #808000; text-decoration-color: #808000; font-weight: bold\">vent.py</span>:<span style=\"color: #0000ff; text-decoration-color: #0000ff\">1058</span> in <span style=\"color: #00ff00; text-decoration-color: #00ff00\">_solvate</span>                                                                         <span style=\"color: #800000; text-decoration-color: #800000\">│</span>\n",
       "<span style=\"color: #800000; text-decoration-color: #800000\">│</span>                                                                                                  <span style=\"color: #800000; text-decoration-color: #800000\">│</span>\n",
       "<span style=\"color: #800000; text-decoration-color: #800000\">│</span>   <span style=\"color: #7f7f7f; text-decoration-color: #7f7f7f\">1055 │   │   │   │   </span><span style=\"color: #0000ff; text-decoration-color: #0000ff\">if</span> _isVerbose():                                                          <span style=\"color: #800000; text-decoration-color: #800000\">│</span>\n",
       "<span style=\"color: #800000; text-decoration-color: #800000\">│</span>   <span style=\"color: #7f7f7f; text-decoration-color: #7f7f7f\">1056 │   │   │   │   │   </span><span style=\"color: #0000ff; text-decoration-color: #0000ff\">raise</span> <span style=\"color: #00ffff; text-decoration-color: #00ffff\">IOError</span>(msg) <span style=\"color: #0000ff; text-decoration-color: #0000ff\">from</span> <span style=\"color: #00ffff; text-decoration-color: #00ffff; text-decoration: underline\">e</span>                                             <span style=\"color: #800000; text-decoration-color: #800000\">│</span>\n",
       "<span style=\"color: #800000; text-decoration-color: #800000\">│</span>   <span style=\"color: #7f7f7f; text-decoration-color: #7f7f7f\">1057 │   │   │   │   </span><span style=\"color: #0000ff; text-decoration-color: #0000ff\">else</span>:                                                                     <span style=\"color: #800000; text-decoration-color: #800000\">│</span>\n",
       "<span style=\"color: #800000; text-decoration-color: #800000\">│</span> <span style=\"color: #800000; text-decoration-color: #800000\">❱ </span>1058 <span style=\"color: #7f7f7f; text-decoration-color: #7f7f7f\">│   │   │   │   │   </span><span style=\"color: #0000ff; text-decoration-color: #0000ff\">raise</span> <span style=\"color: #00ffff; text-decoration-color: #00ffff\">IOError</span>(msg) <span style=\"color: #0000ff; text-decoration-color: #0000ff\">from</span> <span style=\"color: #00ffff; text-decoration-color: #00ffff\">None</span>                                          <span style=\"color: #800000; text-decoration-color: #800000\">│</span>\n",
       "<span style=\"color: #800000; text-decoration-color: #800000\">│</span>   <span style=\"color: #7f7f7f; text-decoration-color: #7f7f7f\">1059 │   │   │   </span>                                                                              <span style=\"color: #800000; text-decoration-color: #800000\">│</span>\n",
       "<span style=\"color: #800000; text-decoration-color: #800000\">│</span>   <span style=\"color: #7f7f7f; text-decoration-color: #7f7f7f\">1060 │   │   │   # First write an mdp file.</span>                                                    <span style=\"color: #800000; text-decoration-color: #800000\">│</span>\n",
       "<span style=\"color: #800000; text-decoration-color: #800000\">│</span>   <span style=\"color: #7f7f7f; text-decoration-color: #7f7f7f\">1061 │   │   │   </span><span style=\"color: #0000ff; text-decoration-color: #0000ff\">with</span> <span style=\"color: #00ffff; text-decoration-color: #00ffff\">open</span>(<span style=\"color: #808000; text-decoration-color: #808000\">\"ions.mdp\"</span>, <span style=\"color: #808000; text-decoration-color: #808000\">\"w\"</span>) <span style=\"color: #0000ff; text-decoration-color: #0000ff\">as</span> file:                                           <span style=\"color: #800000; text-decoration-color: #800000\">│</span>\n",
       "<span style=\"color: #800000; text-decoration-color: #800000\">╰──────────────────────────────────────────────────────────────────────────────────────────────────╯</span>\n",
       "<span style=\"color: #ff0000; text-decoration-color: #ff0000; font-weight: bold\">OSError: </span>Failed to write GROMACS topology file. Is your molecule parameterised?\n",
       "</pre>\n"
      ],
      "text/plain": [
       "\u001b[31m╭─\u001b[0m\u001b[31m──────────────────────────────\u001b[0m\u001b[31m \u001b[0m\u001b[1;31mTraceback \u001b[0m\u001b[1;2;31m(most recent call last)\u001b[0m\u001b[31m \u001b[0m\u001b[31m───────────────────────────────\u001b[0m\u001b[31m─╮\u001b[0m\n",
       "\u001b[31m│\u001b[0m in \u001b[92m<module>\u001b[0m                                                                                      \u001b[31m│\u001b[0m\n",
       "\u001b[31m│\u001b[0m                                                                                                  \u001b[31m│\u001b[0m\n",
       "\u001b[31m│\u001b[0m   \u001b[2m3 \u001b[0mligand_solvated = bss.Solvent.solvate(\u001b[33m\"\u001b[0m\u001b[33mtip3p\u001b[0m\u001b[33m\"\u001b[0m, molecule=lig, box=box, angles=angles)         \u001b[31m│\u001b[0m\n",
       "\u001b[31m│\u001b[0m   \u001b[2m4 \u001b[0mbox, angles = bss.Box.cubic(\u001b[96mmax\u001b[0m(system_box_sizes))                                           \u001b[31m│\u001b[0m\n",
       "\u001b[31m│\u001b[0m   \u001b[2m5 \u001b[0m\u001b[96mprint\u001b[0m(\u001b[33m\"\u001b[0m\u001b[33msolvating bound system\u001b[0m\u001b[33m\"\u001b[0m)                                                              \u001b[31m│\u001b[0m\n",
       "\u001b[31m│\u001b[0m \u001b[31m❱ \u001b[0m6 system_solvated = bss.Solvent.solvate(\u001b[33m\"\u001b[0m\u001b[33mtip3p\u001b[0m\u001b[33m\"\u001b[0m, molecule=system, box=box, angles=angles)      \u001b[31m│\u001b[0m\n",
       "\u001b[31m│\u001b[0m   \u001b[2m7 \u001b[0m                                                                                             \u001b[31m│\u001b[0m\n",
       "\u001b[31m│\u001b[0m                                                                                                  \u001b[31m│\u001b[0m\n",
       "\u001b[31m│\u001b[0m \u001b[2;33m/home/jguven/Software/miniconda3/envs/bss-d/lib/python3.9/site-packages/BioSimSpace/Solvent/\u001b[0m\u001b[1;33m_sol\u001b[0m \u001b[31m│\u001b[0m\n",
       "\u001b[31m│\u001b[0m \u001b[1;33mvent.py\u001b[0m:\u001b[94m127\u001b[0m in \u001b[92msolvate\u001b[0m                                                                           \u001b[31m│\u001b[0m\n",
       "\u001b[31m│\u001b[0m                                                                                                  \u001b[31m│\u001b[0m\n",
       "\u001b[31m│\u001b[0m   \u001b[2m 124 \u001b[0m\u001b[2m│   │   \u001b[0m\u001b[94mif\u001b[0m model \u001b[95mnot\u001b[0m \u001b[95min\u001b[0m _models_lower:                                                    \u001b[31m│\u001b[0m\n",
       "\u001b[31m│\u001b[0m   \u001b[2m 125 \u001b[0m\u001b[2m│   │   │   \u001b[0m\u001b[94mraise\u001b[0m \u001b[96mValueError\u001b[0m(\u001b[33m\"\u001b[0m\u001b[33mSupported water models are: \u001b[0m\u001b[33m%s\u001b[0m\u001b[33m\"\u001b[0m % waterModels())            \u001b[31m│\u001b[0m\n",
       "\u001b[31m│\u001b[0m   \u001b[2m 126 \u001b[0m\u001b[2m│   \u001b[0m                                                                                      \u001b[31m│\u001b[0m\n",
       "\u001b[31m│\u001b[0m \u001b[31m❱ \u001b[0m 127 \u001b[2m│   \u001b[0m\u001b[94mreturn\u001b[0m _model_dict[model](                                                            \u001b[31m│\u001b[0m\n",
       "\u001b[31m│\u001b[0m   \u001b[2m 128 \u001b[0m\u001b[2m│   │   \u001b[0mmolecule, box, angles, shell, ion_conc, is_neutral, work_dir, property_map        \u001b[31m│\u001b[0m\n",
       "\u001b[31m│\u001b[0m   \u001b[2m 129 \u001b[0m\u001b[2m│   \u001b[0m)                                                                                     \u001b[31m│\u001b[0m\n",
       "\u001b[31m│\u001b[0m   \u001b[2m 130 \u001b[0m                                                                                          \u001b[31m│\u001b[0m\n",
       "\u001b[31m│\u001b[0m                                                                                                  \u001b[31m│\u001b[0m\n",
       "\u001b[31m│\u001b[0m \u001b[2;33m/home/jguven/Software/miniconda3/envs/bss-d/lib/python3.9/site-packages/BioSimSpace/Solvent/\u001b[0m\u001b[1;33m_sol\u001b[0m \u001b[31m│\u001b[0m\n",
       "\u001b[31m│\u001b[0m \u001b[1;33mvent.py\u001b[0m:\u001b[94m382\u001b[0m in \u001b[92mtip3p\u001b[0m                                                                             \u001b[31m│\u001b[0m\n",
       "\u001b[31m│\u001b[0m                                                                                                  \u001b[31m│\u001b[0m\n",
       "\u001b[31m│\u001b[0m   \u001b[2m 379 \u001b[0m\u001b[2m│   \u001b[0m)                                                                                     \u001b[31m│\u001b[0m\n",
       "\u001b[31m│\u001b[0m   \u001b[2m 380 \u001b[0m\u001b[2m│   \u001b[0m                                                                                      \u001b[31m│\u001b[0m\n",
       "\u001b[31m│\u001b[0m   \u001b[2m 381 \u001b[0m\u001b[2m│   \u001b[0m\u001b[2m# Create the solvated system.\u001b[0m                                                         \u001b[31m│\u001b[0m\n",
       "\u001b[31m│\u001b[0m \u001b[31m❱ \u001b[0m 382 \u001b[2m│   \u001b[0m\u001b[94mreturn\u001b[0m _solvate(                                                                      \u001b[31m│\u001b[0m\n",
       "\u001b[31m│\u001b[0m   \u001b[2m 383 \u001b[0m\u001b[2m│   │   \u001b[0mmolecule,                                                                         \u001b[31m│\u001b[0m\n",
       "\u001b[31m│\u001b[0m   \u001b[2m 384 \u001b[0m\u001b[2m│   │   \u001b[0mbox,                                                                              \u001b[31m│\u001b[0m\n",
       "\u001b[31m│\u001b[0m   \u001b[2m 385 \u001b[0m\u001b[2m│   │   \u001b[0mangles,                                                                           \u001b[31m│\u001b[0m\n",
       "\u001b[31m│\u001b[0m                                                                                                  \u001b[31m│\u001b[0m\n",
       "\u001b[31m│\u001b[0m \u001b[2;33m/home/jguven/Software/miniconda3/envs/bss-d/lib/python3.9/site-packages/BioSimSpace/Solvent/\u001b[0m\u001b[1;33m_sol\u001b[0m \u001b[31m│\u001b[0m\n",
       "\u001b[31m│\u001b[0m \u001b[1;33mvent.py\u001b[0m:\u001b[94m1058\u001b[0m in \u001b[92m_solvate\u001b[0m                                                                         \u001b[31m│\u001b[0m\n",
       "\u001b[31m│\u001b[0m                                                                                                  \u001b[31m│\u001b[0m\n",
       "\u001b[31m│\u001b[0m   \u001b[2m1055 \u001b[0m\u001b[2m│   │   │   │   \u001b[0m\u001b[94mif\u001b[0m _isVerbose():                                                          \u001b[31m│\u001b[0m\n",
       "\u001b[31m│\u001b[0m   \u001b[2m1056 \u001b[0m\u001b[2m│   │   │   │   │   \u001b[0m\u001b[94mraise\u001b[0m \u001b[96mIOError\u001b[0m(msg) \u001b[94mfrom\u001b[0m \u001b[4;96me\u001b[0m                                             \u001b[31m│\u001b[0m\n",
       "\u001b[31m│\u001b[0m   \u001b[2m1057 \u001b[0m\u001b[2m│   │   │   │   \u001b[0m\u001b[94melse\u001b[0m:                                                                     \u001b[31m│\u001b[0m\n",
       "\u001b[31m│\u001b[0m \u001b[31m❱ \u001b[0m1058 \u001b[2m│   │   │   │   │   \u001b[0m\u001b[94mraise\u001b[0m \u001b[96mIOError\u001b[0m(msg) \u001b[94mfrom\u001b[0m \u001b[96mNone\u001b[0m                                          \u001b[31m│\u001b[0m\n",
       "\u001b[31m│\u001b[0m   \u001b[2m1059 \u001b[0m\u001b[2m│   │   │   \u001b[0m                                                                              \u001b[31m│\u001b[0m\n",
       "\u001b[31m│\u001b[0m   \u001b[2m1060 \u001b[0m\u001b[2m│   │   │   \u001b[0m\u001b[2m# First write an mdp file.\u001b[0m                                                    \u001b[31m│\u001b[0m\n",
       "\u001b[31m│\u001b[0m   \u001b[2m1061 \u001b[0m\u001b[2m│   │   │   \u001b[0m\u001b[94mwith\u001b[0m \u001b[96mopen\u001b[0m(\u001b[33m\"\u001b[0m\u001b[33mions.mdp\u001b[0m\u001b[33m\"\u001b[0m, \u001b[33m\"\u001b[0m\u001b[33mw\u001b[0m\u001b[33m\"\u001b[0m) \u001b[94mas\u001b[0m file:                                           \u001b[31m│\u001b[0m\n",
       "\u001b[31m╰──────────────────────────────────────────────────────────────────────────────────────────────────╯\u001b[0m\n",
       "\u001b[1;91mOSError: \u001b[0mFailed to write GROMACS topology file. Is your molecule parameterised?\n"
      ]
     },
     "metadata": {},
     "output_type": "display_data"
    }
   ],
   "source": [
    "print(\"solvating unbound ligand\")\n",
    "box, angles = bss.Box.cubic(max(box_sizes))\n",
    "ligand_solvated = bss.Solvent.solvate(\"tip3p\", molecule=lig, box=box, angles=angles)\n",
    "box, angles = bss.Box.cubic(max(system_box_sizes))\n",
    "print(\"solvating bound system\")\n",
    "system_solvated = bss.Solvent.solvate(\"tip3p\", molecule=system, box=box, angles=angles)\n"
   ]
  },
  {
   "cell_type": "code",
   "execution_count": 16,
   "metadata": {},
   "outputs": [
    {
     "data": {
      "text/plain": [
       "['/home/jguven/projects/metalloenzymes/scripts/test_sys.prm7',\n",
       " '/home/jguven/projects/metalloenzymes/scripts/test_sys.rst7']"
      ]
     },
     "execution_count": 16,
     "metadata": {},
     "output_type": "execute_result"
    }
   ],
   "source": [
    "bss.IO.saveMolecules(\"test_lig\", ligand_solvated, [\"prm7\", \"rst7\"])\n",
    "bss.IO.saveMolecules(\"test_sys\", system_solvated, [\"prm7\", \"rst7\"])  "
   ]
  },
  {
   "cell_type": "code",
   "execution_count": 17,
   "metadata": {},
   "outputs": [
    {
     "data": {
      "text/plain": [
       "['/home/jguven/projects/metalloenzymes/scripts/test_sys.pdb',\n",
       " '/home/jguven/projects/metalloenzymes/scripts/test_sys.top']"
      ]
     },
     "execution_count": 17,
     "metadata": {},
     "output_type": "execute_result"
    }
   ],
   "source": [
    "bss.IO.saveMolecules(\"test_sys\", system_solvated, [\"PDB\", \"GroTop\"])  "
   ]
  },
  {
   "cell_type": "code",
   "execution_count": 35,
   "metadata": {},
   "outputs": [
    {
     "data": {
      "text/plain": [
       "'20'"
      ]
     },
     "execution_count": 35,
     "metadata": {},
     "output_type": "execute_result"
    }
   ],
   "source": [
    "with open(\"../kpc2/afe/ligands.dat\") as file:\n",
    "    ligand_lines = file.readlines()\n",
    "ligand_names = [line.rstrip() for line in ligand_lines]\n",
    "with open(\"../kpc2/afe/protocol.dat\") as file:\n",
    "    protocol_lines = file.readlines()\n",
    "\n",
    "solvent_force_field = protocol_lines[2].split()[-1]\n",
    "protocol_lines[3].split()[-1].split(\"*\")[0]"
   ]
  },
  {
   "cell_type": "code",
   "execution_count": 3,
   "metadata": {},
   "outputs": [],
   "source": [
    "solvent = \"TIP3P\"\n",
    "box_edges = 20\n",
    "box_type = \"orthorhombic\"\n",
    "angstrom = bss.Units.Length.angstrom"
   ]
  },
  {
   "cell_type": "code",
   "execution_count": 14,
   "metadata": {},
   "outputs": [],
   "source": [
    "protein_path = \"../kpc2/inputs/protein/\"\n",
    "ligand_path = \"../kpc2/inputs/ligands/\"\n",
    "ligand_name_1 = \"docked_1.pdb\"\n",
    "ligand_name_2 = \"docked_10.pdb\"\n",
    "ligand_1 = bss.IO.readMolecules(ligand_path+ligand_name_1)[0]\n",
    "ligand_2 = bss.IO.readMolecules(ligand_path+ligand_name_2)[0]\n",
    "ligand_1_params = bss.Parameters.gaff2(ligand_1, net_charge=-1).getMolecule()\n",
    "ligand_2_params = bss.Parameters.gaff2(ligand_2, net_charge=-1).getMolecule()"
   ]
  },
  {
   "cell_type": "code",
   "execution_count": null,
   "metadata": {},
   "outputs": [],
   "source": [
    "test = bss.IO.readMolecules([f\"../kpc2/inputs/protein/_system_1_solvated.gro\",\n",
    "                                        f\"../kpc2/inputs/protein/_system_1_solvated.top\"])"
   ]
  },
  {
   "cell_type": "code",
   "execution_count": 11,
   "metadata": {},
   "outputs": [
    {
     "data": {
      "text/plain": [
       "['Gro87', 'GroTop', 'MOL2', 'PDB', 'PRM7', 'PSF', 'RST', 'RST7', 'SDF']"
      ]
     },
     "execution_count": 11,
     "metadata": {},
     "output_type": "execute_result"
    }
   ],
   "source": [
    "bss.IO.fileFormats()"
   ]
  },
  {
   "cell_type": "code",
   "execution_count": 5,
   "metadata": {},
   "outputs": [],
   "source": [
    "# ligand_params = [ligand_1_params, ligand_2_params]\n",
    "# ligand_names = [ligand_name_1, ligand_name_2]\n",
    "# for i in range(2):\n",
    "#     box_min, box_max = ligand_params[i].getAxisAlignedBoundingBox()\n",
    "#     box_size = [y - x for x, y in zip(box_min, box_max)]\n",
    "#     box_sizes = [x + box_edges * angstrom for x in box_size]\n",
    "#     box, angles = bss.Box.cubic(max(box_sizes))\n",
    "#     print(f\"Box size set to {max(box_sizes)}\")\n",
    "#     print(\"Solvating ligand.\")\n",
    "#     ligand_params_solvated = bss.Solvent.solvate(solvent, \n",
    "#                                                  molecule=ligand_params[i],\n",
    "#                                                  box=box,\n",
    "#                                                  angles=angles)\n",
    "#     print(\"Solvation done. Saving ligand.\")\n",
    "#     save_name = ligand_names[i].strip(\".sdf\").split(\"_\")[1]\n",
    "#     bss.IO.saveMolecules(f\"../inputs/ligands/ligand_{save_name}_solv\", ligand_params_solvated, [\"PRM7\", \"RST7\"])                          \n",
    "#     bss.IO.saveMolecules(f\"../inputs/ligands/ligand_{save_name}_solv\", ligand_params_solvated, [\"Gro87\", \"GroTop\"])                                            "
   ]
  },
  {
   "cell_type": "code",
   "execution_count": 16,
   "metadata": {},
   "outputs": [
    {
     "data": {
      "text/plain": [
       "-1.4433e-07 |e|"
      ]
     },
     "execution_count": 16,
     "metadata": {},
     "output_type": "execute_result"
    }
   ],
   "source": [
    "protein = bss.IO.readMolecules([\"../kpc2/inputs/protein/kpc2_tleap.rst7\",\n",
    "                                \"../kpc2/inputs/protein/kpc2_tleap.prm7\"])[0]\n",
    "protein.charge()                            \n",
    "# for i in range(2):\n",
    "#     system = ligand_params[i] + protein\n",
    "#     box_min_sys, box_max_sys = system.getAxisAlignedBoundingBox()\n",
    "#     box_size_sys = [y - x for x, y in zip(box_min_sys, box_max_sys)]\n",
    "#     box_sizes_sys = [x + box_edges * angstrom for x in box_size_sys]\n",
    "#     box, angles = bss.Box.cubic(max(box_sizes_sys))\n",
    "#     print(f\"Box size set to {max(box_sizes_sys)}\")\n",
    "#     print(\"Solvating system\")\n",
    "    \n",
    "#     system_solvated = bss.Solvent.solvate(solvent,\n",
    "#                                           molecule=system,\n",
    "#                                           box=box,\n",
    "#                                           angles=angles)\n",
    "#     print(system_solvated.charge())\n",
    "#     save_name = ligand_names[i].strip(\".sdf\").split(\"_\")[1]\n",
    "#     bss.IO.saveMolecules(f\"../kpc2/inputs/protein/system_{save_name}_solv\", system_solvated, [\"PRM7\", \"RST7\"])\n",
    "#     bss.IO.saveMolecules(f\"../kpc2/inputs/protein/system_{save_name}_solv\", system_solvated, [\"Gro87\", \"GroTop\"])"
   ]
  },
  {
   "cell_type": "code",
   "execution_count": null,
   "metadata": {},
   "outputs": [],
   "source": []
  },
  {
   "cell_type": "code",
   "execution_count": 42,
   "metadata": {},
   "outputs": [
    {
     "data": {
      "text/plain": [
       "-10.2886 |e|"
      ]
     },
     "execution_count": 42,
     "metadata": {},
     "output_type": "execute_result"
    }
   ],
   "source": [
    "protein_charge = protein.charge()\n",
    "protein_charge"
   ]
  },
  {
   "cell_type": "code",
   "execution_count": 44,
   "metadata": {},
   "outputs": [
    {
     "data": {
      "text/plain": [
       "-0.7113 |e|"
      ]
     },
     "execution_count": 44,
     "metadata": {},
     "output_type": "execute_result"
    }
   ],
   "source": [
    "pt1_charge = bss.Types._charge.Charge(-0.7112999999999998, \"e\")\n",
    "pt1_charge"
   ]
  },
  {
   "cell_type": "code",
   "execution_count": 45,
   "metadata": {},
   "outputs": [
    {
     "data": {
      "text/plain": [
       "-10.9999 |e|"
      ]
     },
     "execution_count": 45,
     "metadata": {},
     "output_type": "execute_result"
    }
   ],
   "source": [
    "pt1_charge + protein_charge"
   ]
  },
  {
   "cell_type": "code",
   "execution_count": null,
   "metadata": {},
   "outputs": [],
   "source": []
  }
 ],
 "metadata": {
  "kernelspec": {
   "display_name": "bss-d",
   "language": "python",
   "name": "python3"
  },
  "language_info": {
   "codemirror_mode": {
    "name": "ipython",
    "version": 3
   },
   "file_extension": ".py",
   "mimetype": "text/x-python",
   "name": "python",
   "nbconvert_exporter": "python",
   "pygments_lexer": "ipython3",
   "version": "3.9.16"
  },
  "orig_nbformat": 4,
  "vscode": {
   "interpreter": {
    "hash": "f81d097606b2934fa8d1922533f78f64a436eb4cf1588d61ff1c0b79a2076e9c"
   }
  }
 },
 "nbformat": 4,
 "nbformat_minor": 2
}
