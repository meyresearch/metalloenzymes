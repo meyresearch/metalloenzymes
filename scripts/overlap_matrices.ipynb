{
 "cells": [
  {
   "cell_type": "code",
   "execution_count": 1,
   "metadata": {},
   "outputs": [
    {
     "data": {
      "application/vnd.jupyter.widget-view+json": {
       "model_id": "ce718da6091540d68321912427332b12",
       "version_major": 2,
       "version_minor": 0
      },
      "text/plain": []
     },
     "metadata": {},
     "output_type": "display_data"
    },
    {
     "name": "stderr",
     "output_type": "stream",
     "text": [
      "INFO:rdkit:Enabling RDKit 2022.09.1 jupyter extensions\n",
      "INFO:numexpr.utils:Note: NumExpr detected 32 cores but \"NUMEXPR_MAX_THREADS\" not set, so enforcing safe limit of 8.\n",
      "INFO:numexpr.utils:NumExpr defaulting to 8 threads.\n",
      "WARNING:root:Warning: importing 'simtk.openmm' is deprecated.  Import 'openmm' instead.\n"
     ]
    }
   ],
   "source": [
    "import BioSimSpace as bss\n",
    "import glob\n",
    "import matplotlib\n",
    "import matplotlib.pyplot as plt\n",
    "import seaborn as sns"
   ]
  },
  {
   "cell_type": "code",
   "execution_count": 4,
   "metadata": {},
   "outputs": [],
   "source": [
    "paths = sorted(glob.glob(\"/home/jguven/projects/metalloenzymes/vim_2/outputs/SOMD_*/*/\"))\n",
    "ligands = [path.split(\"/\")[-2] for path in paths]\n",
    "\n",
    "stages = [\"bound\", \"unbound\"]\n",
    "\n",
    "for stage in stages:\n",
    "    for i in range(len(paths)):\n",
    "        stage_path = paths[i] + stage\n",
    "        mbar_file = stage_path + \"/mbar.txt\"\n",
    "\n",
    "        start_index = 1\n",
    "        end_index = -1\n",
    "        matrix_lines = []\n",
    "        with open(mbar_file) as file:\n",
    "            lines = file.readlines()\n",
    "            for i in range(len(lines)):\n",
    "                if \"#Overlap matrix\" in lines[i]:\n",
    "                    start_index = i + 1\n",
    "                elif \"#DG from neighbouring lambda in kcal/mol\" in lines[i]:\n",
    "                    end_index = i\n",
    "            matrix_lines = lines[start_index:end_index]\n",
    "        \n",
    "        matrix = []\n",
    "        for line in matrix_lines:\n",
    "            split_line = line.replace(\"\\n\", \"\").split(\" \")\n",
    "            new_line = [float(x) for x in split_line]\n",
    "            matrix.append(new_line)\n",
    "        \n",
    "        colour_map = matplotlib.colors.ListedColormap(['#FBE8EB','#68246D','#61BF1A', '#154734'])\n",
    "        n_colours = colour_map.N\n",
    "        boundary_values = [0.0, 0.025, 0.1, 0.3, 0.8]\n",
    "        norm_colours = matplotlib.colors.BoundaryNorm(boundary_values, n_colours, clip=False)\n",
    "        colour_bar_args = dict(ticks=[0.025, 0.1, 0.3, 0.8],\n",
    "                            shrink=0.685)\n",
    "\n",
    "        fig = plt.figure(figsize=(8, 8))\n",
    "        sns.set_style(\"ticks\")\n",
    "        sns.set_context(\"notebook\", font_scale=2)\n",
    "        ax = sns.heatmap(matrix, \n",
    "                        annot=True, \n",
    "                        fmt=\".2f\", \n",
    "                        linewidths=0.3, \n",
    "                        annot_kws={\"size\": 14}, \n",
    "                        square=True, \n",
    "                        robust=True, \n",
    "                        cmap=colour_map,\n",
    "                        norm=norm_colours, \n",
    "                        cbar_kws=colour_bar_args,\n",
    "                        vmax=1\n",
    "                        )\n",
    "        ax.xaxis.tick_top()\n",
    "        ax.tick_params(axis=\"y\", rotation=360)\n",
    "        ax.set_title(r\"$\\lambda$ index\", fontsize=24)\n",
    "        ax.set_ylabel(r\"$\\lambda$ index\", fontsize=24)\n",
    "        # ax.set_xlabel(f\"{stage} ligand {ligand}\", fontsize=24)\n",
    "        fig.tight_layout()\n",
    "        plt.savefig(f\"/home/jguven/projects/metalloenzymes/vim_2/plots/om_{stage}_{ligands[i]}.png\", transparent=True)"
   ]
  },
  {
   "cell_type": "code",
   "execution_count": null,
   "metadata": {},
   "outputs": [],
   "source": []
  }
 ],
 "metadata": {
  "kernelspec": {
   "display_name": "bss-d",
   "language": "python",
   "name": "python3"
  },
  "language_info": {
   "codemirror_mode": {
    "name": "ipython",
    "version": 3
   },
   "file_extension": ".py",
   "mimetype": "text/x-python",
   "name": "python",
   "nbconvert_exporter": "python",
   "pygments_lexer": "ipython3",
   "version": "3.9.16"
  },
  "orig_nbformat": 4
 },
 "nbformat": 4,
 "nbformat_minor": 2
}
