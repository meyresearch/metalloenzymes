{
 "cells": [
  {
   "cell_type": "code",
   "execution_count": null,
   "metadata": {},
   "outputs": [
    {
     "data": {
      "application/vnd.jupyter.widget-view+json": {
       "model_id": "720b0a49fa594184b1201222bb5810e7",
       "version_major": 2,
       "version_minor": 0
      },
      "text/plain": []
     },
     "metadata": {},
     "output_type": "display_data"
    },
    {
     "name": "stderr",
     "output_type": "stream",
     "text": [
      "INFO:rdkit:Enabling RDKit 2022.09.1 jupyter extensions\n",
      "INFO:numexpr.utils:Note: NumExpr detected 32 cores but \"NUMEXPR_MAX_THREADS\" not set, so enforcing safe limit of 8.\n",
      "INFO:numexpr.utils:NumExpr defaulting to 8 threads.\n",
      "WARNING:root:Warning: importing 'simtk.openmm' is deprecated.  Import 'openmm' instead.\n"
     ]
    }
   ],
   "source": [
    "import BioSimSpace as bss\n",
    "import matplotlib.pyplot as plt\n",
    "import numpy as np\n",
    "import scipy\n",
    "import glob"
   ]
  },
  {
   "cell_type": "code",
   "execution_count": null,
   "metadata": {},
   "outputs": [],
   "source": [
    "_K_B = scipy.constants.Boltzmann\n",
    "_TEMPERATURE = 300\n",
    "_N_A = scipy.constants.Avogadro\n",
    "\n",
    "\n",
    "def inhibition_to_ddg(ki_a: float, ki_b: float) -> float:\n",
    "    \"\"\"\n",
    "    convert experimental Ki values to binding free-energy difference\n",
    "    :param ki_a: experimental Ki of ligand 1\n",
    "    :param ki_b: experimental Ki of ligand 1\n",
    "    :return: experimental RBFE value\n",
    "    \"\"\"\n",
    "    ic50_a = 2 * ki_a\n",
    "    ic50_b = 2 * ki_b\n",
    "\n",
    "    return (_K_B * _N_A * _TEMPERATURE / 4184) * np.log(ic50_b / ic50_a)\n",
    "\n",
    "\n",
    "def get_experimental_error(error_a, ki_a, error_b, ki_b):\n",
    "    fraction = ki_b / ki_a\n",
    "    fraction_error = fraction * np.sqrt((error_b / ki_b) ** 2 + (error_a / ki_a) ** 2)\n",
    "    return (_K_B * _TEMPERATURE * fraction_error / fraction) * _N_A / 4184"
   ]
  },
  {
   "cell_type": "code",
   "execution_count": null,
   "metadata": {},
   "outputs": [],
   "source": [
    "header_file = \"/home/jguven/projects/metalloenzymes/scripts/simfile_header.txt\"\n",
    "with open(header_file, \"r\") as file:\n",
    "    header = file.readlines()\n",
    "\n",
    "somd_path = \"/home/jguven/projects/metalloenzymes/kpc2/outputs/\"\n",
    "paths = glob.glob(somd_path + \"SOMD_*/*/\")\n",
    "# paths = [somd_path + \"lig_1~lig_4/\", \n",
    "#         # somd_path + \"lig_1~lig_5/\"\n",
    "#          ]\n",
    "for path in paths:\n",
    "    print(path)\n",
    "    # ligand = path.split(\"/\")[-2]\n",
    "    # print(ligand)\n",
    "    # free_directory = somd_path + ligand + \"/unbound/\"\n",
    "    # bound_directory = somd_path + ligand + \"/bound/\"\n",
    "    \n",
    "    # unbound_min_simfiles = sorted(glob.glob(free_directory + \"/minimisation/lambda_*/simfile.dat\"))\n",
    "\n",
    "    # unbound_simfiles = sorted(glob.glob(free_directory + \"lambda_*/simfile.dat\"))\n",
    "\n",
    "    # bound_simfiles = sorted(glob.glob(bound_directory + \"lambda_*/simfile.dat\"))\n",
    "\n",
    "    # for i in range(len(unbound_min_simfiles)):\n",
    "\n",
    "    #     with open(unbound_min_simfiles[i], \"r\") as file:\n",
    "    #         min_simfile_lines = file.readlines()\n",
    "\n",
    "    #     with open(unbound_min_simfiles[i], \"r\") as file:\n",
    "    #         for j, line in enumerate(file):\n",
    "    #             if \"lambda\" in line:\n",
    "    #                 start = j\n",
    "    #             if \"#\" not in line:\n",
    "    #                 end = j\n",
    "    #                 break\n",
    "\n",
    "    #     lambda_header = min_simfile_lines[start:end]\n",
    "    #     full_header = header + lambda_header\n",
    "\n",
    "    #     with open(unbound_simfiles[i], \"r+\") as file:\n",
    "    #         data = file.readlines()\n",
    "    #         file.seek(0, 0)\n",
    "    #         header_and_data = full_header + data\n",
    "    #         file.writelines(header_and_data)\n",
    "\n",
    "    #     with open(bound_simfiles[i], \"r+\") as file:\n",
    "    #         data = file.readlines()\n",
    "    #         file.seek(0, 0)\n",
    "    #         header_and_data = full_header + data\n",
    "    #         file.writelines(header_and_data)"
   ]
  }
 ],
 "metadata": {
  "kernelspec": {
   "display_name": "bss-d",
   "language": "python",
   "name": "python3"
  },
  "language_info": {
   "codemirror_mode": {
    "name": "ipython",
    "version": 3
   },
   "file_extension": ".py",
   "mimetype": "text/x-python",
   "name": "python",
   "nbconvert_exporter": "python",
   "pygments_lexer": "ipython3",
   "version": "3.9.16"
  },
  "orig_nbformat": 4
 },
 "nbformat": 4,
 "nbformat_minor": 2
}
