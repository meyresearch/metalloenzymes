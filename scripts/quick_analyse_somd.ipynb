{
 "cells": [
  {
   "cell_type": "code",
   "execution_count": 1,
   "metadata": {},
   "outputs": [
    {
     "data": {
      "application/vnd.jupyter.widget-view+json": {
       "model_id": "cbe51aedf6ad4497ab2c3ad07908eb50",
       "version_major": 2,
       "version_minor": 0
      },
      "text/plain": []
     },
     "metadata": {},
     "output_type": "display_data"
    },
    {
     "name": "stderr",
     "output_type": "stream",
     "text": [
      "INFO:rdkit:Enabling RDKit 2022.09.1 jupyter extensions\n",
      "INFO:numexpr.utils:Note: NumExpr detected 32 cores but \"NUMEXPR_MAX_THREADS\" not set, so enforcing safe limit of 8.\n",
      "INFO:numexpr.utils:NumExpr defaulting to 8 threads.\n",
      "WARNING:root:Warning: importing 'simtk.openmm' is deprecated.  Import 'openmm' instead.\n"
     ]
    }
   ],
   "source": [
    "import BioSimSpace as bss\n",
    "import scipy\n",
    "import numpy as np\n",
    "import pandas as pd\n",
    "import seaborn as sns\n",
    "import matplotlib.pyplot as plt\n",
    "import glob"
   ]
  },
  {
   "cell_type": "code",
   "execution_count": 2,
   "metadata": {},
   "outputs": [],
   "source": [
    "_K_B = scipy.constants.Boltzmann\n",
    "_TEMPERATURE = 300\n",
    "_N_A = scipy.constants.Avogadro\n",
    "\n",
    "\n",
    "def inhibition_to_ddg(ki_a: float, ki_b: float) -> float:\n",
    "    \"\"\"\n",
    "    convert experimental Ki values to binding free-energy difference\n",
    "    :param ki_a: experimental Ki of ligand 1\n",
    "    :param ki_b: experimental Ki of ligand 2\n",
    "    :return: experimental RBFE value\n",
    "    \"\"\"\n",
    "    ic50_a = 2 * ki_a\n",
    "    ic50_b = 2 * ki_b\n",
    "\n",
    "    return (_K_B * _N_A * _TEMPERATURE / 4184) * np.log(ic50_b / ic50_a)\n",
    "\n",
    "\n",
    "def get_experimental_error(error_a, ki_a, error_b, ki_b):\n",
    "    fraction = ki_b / ki_a\n",
    "    fraction_error = fraction * np.sqrt((error_b / ki_b) ** 2 + (error_a / ki_a) ** 2)\n",
    "    return (_K_B * _TEMPERATURE * fraction_error / fraction) * _N_A / 4184"
   ]
  },
  {
   "cell_type": "code",
   "execution_count": 37,
   "metadata": {},
   "outputs": [],
   "source": [
    "free_directory = \"/home/jguven/projects/metalloenzymes/kpc2/outputs/SOMD/lig_1~lig_2/unbound/\"\n",
    "bound_directory = \"/home/jguven/projects/metalloenzymes/kpc2/outputs/SOMD/lig_1~lig_2/bound/\"\n",
    "\n",
    "header_file = \"/home/jguven/projects/metalloenzymes/scripts/simfile_header.txt\"\n",
    "with open(header_file, \"r\") as file:\n",
    "    header = file.readlines()\n",
    "\n",
    "unbound_min_simfiles = sorted(glob.glob(free_directory + \"/minimisation/lambda_*/simfile.dat\"))\n",
    "\n",
    "unbound_simfiles = sorted(glob.glob(free_directory + \"lambda_*/simfile.dat\"))\n",
    "\n",
    "bound_simfiles = sorted(glob.glob(bound_directory + \"lambda_*/simfile.dat\"))\n",
    "\n",
    "for i in range(len(unbound_min_simfiles)):\n",
    "\n",
    "    with open(unbound_min_simfiles[i], \"r\") as file:\n",
    "        min_simfile_lines = file.readlines()\n",
    "\n",
    "    with open(unbound_min_simfiles[i], \"r\") as file:\n",
    "        for j, line in enumerate(file):\n",
    "            if \"lambda\" in line:\n",
    "                start = j\n",
    "            if \"#\" not in line:\n",
    "                end = j\n",
    "                break\n",
    "\n",
    "    lambda_header = min_simfile_lines[start:end]\n",
    "    full_header = header + lambda_header\n",
    "\n",
    "    with open(unbound_simfiles[i], \"r+\") as file:\n",
    "        data = file.readlines()\n",
    "        file.seek(0, 0)\n",
    "        header_and_data = full_header + data\n",
    "        file.writelines(header_and_data)\n",
    "\n",
    "    with open(bound_simfiles[i], \"r+\") as file:\n",
    "        data = file.readlines()\n",
    "        file.seek(0, 0)\n",
    "        header_and_data = full_header + data\n",
    "        file.writelines(header_and_data)\n",
    "\n",
    "\n",
    "# for simfile in unbound_simfiles:\n",
    "\n",
    "# for simfile in bound_simfiles:\n",
    "#     with open(simfile, \"r+\") as file:\n",
    "#         data = file.readlines()\n",
    "#         file.seek(0, 0)\n",
    "#         header_and_data = header + data\n",
    "#         file.writelines(header_and_data)\n",
    "\n"
   ]
  },
  {
   "cell_type": "code",
   "execution_count": 13,
   "metadata": {},
   "outputs": [],
   "source": [
    "\n",
    "unbound_simfiles = glob.glob(free_directory + \"lambda_*/simfile.dat\")\n",
    "bound_simfiles = glob.glob(bound_directory + \"lambda_*/simfile.dat\")\n",
    "\n",
    "for simfile in unbound_simfiles:\n",
    "    with open(simfile, \"r+\") as file:\n",
    "        data = file.readlines()\n",
    "        file.seek(0, 0)\n",
    "        header_and_data = header + data\n",
    "        file.writelines(header_and_data)\n",
    "\n",
    "for simfile in bound_simfiles:\n",
    "    with open(simfile, \"r+\") as file:\n",
    "        data = file.readlines()\n",
    "        file.seek(0, 0)\n",
    "        header_and_data = header + data\n",
    "        file.writelines(header_and_data)\n",
    "\n"
   ]
  },
  {
   "cell_type": "code",
   "execution_count": 38,
   "metadata": {},
   "outputs": [],
   "source": [
    "pmf_bound, overlap_matrix_bound = bss.FreeEnergy.Relative.analyse(bound_directory) \n",
    "pmf_free, overlap_matrix_free = bss.FreeEnergy.Relative.analyse(free_directory)"
   ]
  },
  {
   "cell_type": "code",
   "execution_count": null,
   "metadata": {},
   "outputs": [],
   "source": []
  },
  {
   "cell_type": "code",
   "execution_count": 39,
   "metadata": {},
   "outputs": [],
   "source": [
    "paths = [\"/home/jguven/projects/metalloenzymes/kpc2/outputs/SOMD/lig_1~lig_2/\"]\n",
    "analysis_file = \"../kpc2/afe/somd_results_analysis.txt\"\n",
    "with open(analysis_file, \"w\") as file:\n",
    "    for path in paths:\n",
    "        transformation = path.split(\"/\")[-2]\n",
    "        file.write(transformation+\"\\n\")\n",
    "        free_directory = path + \"unbound/\"\n",
    "        bound_directory = path + \"bound/\"\n",
    "        try:\n",
    "            pmf_free, overlap_matrix_free = bss.FreeEnergy.Relative.analyse(free_directory)\n",
    "            pmf_bound, overlap_matrix_bound = bss.FreeEnergy.Relative.analyse(bound_directory)    \n",
    "            free_energy_difference, free_energy_error = bss.FreeEnergy.Relative.difference(pmf_bound, pmf_free)\n",
    "            file.write(f\"{free_energy_difference} \\u00B1 {free_energy_error} \\n\")    \n",
    "        except IndexError as e:\n",
    "            file.write(str(e)+\"\\n\")\n",
    "        except ValueError as e:\n",
    "            file.write(str(e)+\"\\n\")"
   ]
  },
  {
   "cell_type": "code",
   "execution_count": 40,
   "metadata": {},
   "outputs": [],
   "source": [
    "with open(analysis_file, \"r\") as file:\n",
    "    lines = file.readlines()\n",
    "results = [line for line in lines[1:len(lines):2]]\n",
    "free_energy_differences = []\n",
    "free_energy_errors = []\n",
    "for result in results:\n",
    "    split_results = result.split(\"±\")\n",
    "    free_energy_differences.append(float(split_results[0].replace(\"kcal/mol\", \"\").replace(\"⁻¹ \\n\", \"\")))\n",
    "    free_energy_errors.append(float(split_results[1].replace(\"kcal/mol\", \"\").replace(\"⁻¹ \\n\", \"\").replace(\"kcal mol\", \"\")))\n",
    "    "
   ]
  },
  {
   "cell_type": "code",
   "execution_count": 41,
   "metadata": {},
   "outputs": [
    {
     "name": "stdout",
     "output_type": "stream",
     "text": [
      "lig_1~lig_2\n",
      "\n"
     ]
    }
   ],
   "source": [
    "perturbations = [line for line in lines[0:len(lines):2]]\n",
    "for line in perturbations:\n",
    "    print(line)"
   ]
  },
  {
   "cell_type": "code",
   "execution_count": 42,
   "metadata": {},
   "outputs": [
    {
     "name": "stdout",
     "output_type": "stream",
     "text": [
      "0 1\n"
     ]
    }
   ],
   "source": [
    "first_indices = []\n",
    "second_indices = []\n",
    "for line in perturbations:\n",
    "    no_newline = line.strip(\"\\n\")\n",
    "    lig_1 = no_newline.split(\"~\")[0].replace(\"lig_\", \"\")\n",
    "    lig_2 = no_newline.split(\"~\")[1].replace(\"lig_\", \"\")  \n",
    "    first_indices.append(int(lig_1) - 1)\n",
    "    second_indices.append(int(lig_2) - 1)\n",
    "\n",
    "for i in range(len(first_indices)):\n",
    "    print(first_indices[i], second_indices[i])"
   ]
  },
  {
   "cell_type": "code",
   "execution_count": 43,
   "metadata": {},
   "outputs": [
    {
     "name": "stdout",
     "output_type": "stream",
     "text": [
      "    ligand      K_i  K_i_err\n",
      "0        1   32.900    3.300\n",
      "1        2    8.400    0.400\n",
      "2        3   15.300    2.500\n",
      "3        4   23.300    4.600\n",
      "4        5  154.400    0.000\n",
      "5        6    1.400    0.200\n",
      "6        7   11.900    1.100\n",
      "7        8    9.300    1.800\n",
      "8        9    0.246    0.047\n",
      "9       10    8.500    0.300\n",
      "10      11  142.300   22.300\n",
      "11      12  101.500    8.600\n",
      "12      13    2.200    0.800\n",
      "13      14  730.400   87.400\n",
      "14      15  326.100   56.800\n",
      "15      16    0.020    0.007\n"
     ]
    }
   ],
   "source": [
    "experimental_file = pd.read_csv(\"../kpc2/afe/experimental_ki.txt\")\n",
    "experimental_ki, experimental_ki_error = experimental_file[\"K_i\"], experimental_file[\"K_i_err\"]\n",
    "print(experimental_file)"
   ]
  },
  {
   "cell_type": "code",
   "execution_count": 44,
   "metadata": {},
   "outputs": [],
   "source": [
    "experimental_free_energies = []\n",
    "experimental_errors = []\n",
    "for i in range(len(first_indices)):\n",
    "    i_1, i_2 = first_indices[i], second_indices[i]\n",
    "    experimental_free_energy = inhibition_to_ddg(experimental_ki[i_1], experimental_ki[i_2])\n",
    "    # error_a, ki_a, error_b, ki_b\n",
    "    experimental_error = get_experimental_error(experimental_ki_error[i_1], experimental_ki[i_1], experimental_ki_error[i_2], experimental_ki[i_2])\n",
    "    experimental_free_energies.append(experimental_free_energy)\n",
    "    experimental_errors.append(experimental_error)\n",
    "                                                "
   ]
  },
  {
   "cell_type": "code",
   "execution_count": null,
   "metadata": {},
   "outputs": [],
   "source": []
  },
  {
   "cell_type": "code",
   "execution_count": 45,
   "metadata": {},
   "outputs": [
    {
     "data": {
      "text/plain": [
       "<matplotlib.legend.Legend at 0x7fbed3a56640>"
      ]
     },
     "execution_count": 45,
     "metadata": {},
     "output_type": "execute_result"
    },
    {
     "data": {
      "image/png": "[encoded data removed]",
      "text/plain": [
       "<Figure size 1000x1000 with 1 Axes>"
      ]
     },
     "metadata": {},
     "output_type": "display_data"
    }
   ],
   "source": [
    "fig = plt.figure(figsize=(10, 10))\n",
    "sns.set(context=\"notebook\", palette=\"colorblind\", style=\"ticks\", font_scale=2)\n",
    "x_label_locations = np.arange(len(free_energy_differences))\n",
    "bar_width = 0.35\n",
    "\n",
    "plt.bar(x_label_locations - bar_width / 2,\n",
    "        height=free_energy_differences,\n",
    "        width=bar_width,\n",
    "        yerr=free_energy_errors,\n",
    "        label=\"AFE\",\n",
    "        # color=\"#0099AB\",\n",
    "        linewidth=0)\n",
    "\n",
    "(_, caps, _) = plt.errorbar(x_label_locations - bar_width / 2,\n",
    "                            free_energy_differences,\n",
    "                            color=\"black\",\n",
    "                            yerr=free_energy_errors,\n",
    "                            capsize=3,\n",
    "                            linestyle=\"\")\n",
    "\n",
    "plt.bar(x_label_locations + bar_width / 2,\n",
    "        height=experimental_free_energies,\n",
    "        width=bar_width,\n",
    "        yerr=experimental_errors,\n",
    "        label=\"EXP\",\n",
    "        # color=\"#0099AB\",\n",
    "        linewidth=0)\n",
    "\n",
    "(_, caps, _) = plt.errorbar(x_label_locations + bar_width / 2,\n",
    "                            experimental_free_energies,\n",
    "                            color=\"black\",\n",
    "                            yerr=experimental_errors,\n",
    "                            capsize=3,\n",
    "                            linestyle=\"\")\n",
    "\n",
    "for cap in caps:\n",
    "    cap.set_color(\"black\")\n",
    "    cap.set_markeredgewidth(1.5)\n",
    "# plt.ylim(-6, 6)\n",
    "plt.xticks(x_label_locations - bar_width / 2, perturbations, rotation=80, ha=\"center\")\n",
    "plt.legend()\n"
   ]
  },
  {
   "cell_type": "code",
   "execution_count": 46,
   "metadata": {},
   "outputs": [
    {
     "data": {
      "text/plain": [
       "(-4.5, 4.5)"
      ]
     },
     "execution_count": 46,
     "metadata": {},
     "output_type": "execute_result"
    },
    {
     "data": {
      "image/png": "[encoded data removed]",
      "text/plain": [
       "<Figure size 1000x1000 with 1 Axes>"
      ]
     },
     "metadata": {},
     "output_type": "display_data"
    }
   ],
   "source": [
    "plt.figure(figsize=(10, 10))\n",
    "sns.set(context=\"notebook\", palette=\"colorblind\", style=\"ticks\", font_scale=2)\n",
    "plt.scatter(experimental_free_energies, free_energy_differences, s=50, color=\"#D0006F\")\n",
    "# plt.scatter(3, 2.5, s=0)\n",
    "\n",
    "(_, caps, _) = plt.errorbar(experimental_free_energies,\n",
    "                           free_energy_differences,\n",
    "                           color=\"#D0006F\",\n",
    "                           yerr=free_energy_differences,\n",
    "                           capsize=3,\n",
    "                           linestyle=\"\",\n",
    "                           zorder=-1)\n",
    "\n",
    "plt.plot([-4.5, 4.5], [-4.5, 4.5], color=\"#0099AB\", linestyle=\":\", zorder=-1)\n",
    "plt.vlines(0, -4.5, 4.5, color = \"silver\", linestyle=\"--\", zorder=-1)\n",
    "plt.hlines(0, -4.5, 4.5, color = \"silver\", linestyle=\"--\", zorder=-1)\n",
    "plt.xlim(-4.5, 4.5)\n",
    "plt.ylim(-4.5, 4.5)\n"
   ]
  },
  {
   "cell_type": "code",
   "execution_count": 28,
   "metadata": {},
   "outputs": [
    {
     "data": {
      "text/plain": [
       "PearsonRResult(statistic=0.13419561216445033, pvalue=0.5515792844635533)"
      ]
     },
     "execution_count": 28,
     "metadata": {},
     "output_type": "execute_result"
    }
   ],
   "source": [
    "pearson_r = scipy.stats.pearsonr(experimental_free_energies, free_energy_differences)\n",
    "pearson_r"
   ]
  },
  {
   "cell_type": "code",
   "execution_count": null,
   "metadata": {},
   "outputs": [],
   "source": []
  }
 ],
 "metadata": {
  "kernelspec": {
   "display_name": "bss-d",
   "language": "python",
   "name": "python3"
  },
  "language_info": {
   "codemirror_mode": {
    "name": "ipython",
    "version": 3
   },
   "file_extension": ".py",
   "mimetype": "text/x-python",
   "name": "python",
   "nbconvert_exporter": "python",
   "pygments_lexer": "ipython3",
   "version": "3.9.16"
  },
  "vscode": {
   "interpreter": {
    "hash": "f81d097606b2934fa8d1922533f78f64a436eb4cf1588d61ff1c0b79a2076e9c"
   }
  }
 },
 "nbformat": 4,
 "nbformat_minor": 2
}
