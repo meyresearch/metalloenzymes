{
 "cells": [
  {
   "cell_type": "code",
   "execution_count": 1,
   "metadata": {},
   "outputs": [
    {
     "name": "stderr",
     "output_type": "stream",
     "text": [
      "<frozen importlib._bootstrap>:241: RuntimeWarning: to-Python converter for std::vector<double, std::allocator<double> > already registered; second conversion method ignored.\n"
     ]
    },
    {
     "data": {
      "application/vnd.jupyter.widget-view+json": {
       "model_id": "7f8e31ae8cec4805a8067c75a5404d93",
       "version_major": 2,
       "version_minor": 0
      },
      "text/plain": []
     },
     "metadata": {},
     "output_type": "display_data"
    },
    {
     "name": "stderr",
     "output_type": "stream",
     "text": [
      "WARNING:root:Warning: importing 'simtk.openmm' is deprecated.  Import 'openmm' instead.\n"
     ]
    }
   ],
   "source": [
    "import MDAnalysis as mda\n",
    "import MDAnalysis.analysis.align\n",
    "import pandas as pd\n",
    "import BioSimSpace as bss\n",
    "import nglview as nv\n",
    "import numpy as np\n",
    "import os\n",
    "\n",
    "import MDAnalysis.analysis.rms"
   ]
  },
  {
   "cell_type": "code",
   "execution_count": 2,
   "metadata": {},
   "outputs": [
    {
     "data": {
      "text/plain": [
       "'/home/jguven/Software/miniconda3/envs/obss/lib/python3.10/site-packages/BioSimSpace/__init__.py'"
      ]
     },
     "execution_count": 2,
     "metadata": {},
     "output_type": "execute_result"
    }
   ],
   "source": [
    "bss.__file__"
   ]
  },
  {
   "cell_type": "code",
   "execution_count": 8,
   "metadata": {},
   "outputs": [
    {
     "data": {
      "text/html": [
       "<pre style=\"white-space:pre;overflow-x:auto;line-height:normal;font-family:Menlo,'DejaVu Sans Mono',consolas,'Courier New',monospace\"><span style=\"color: #800000; text-decoration-color: #800000\">╭─────────────────────────────── </span><span style=\"color: #800000; text-decoration-color: #800000; font-weight: bold\">Traceback </span><span style=\"color: #bf7f7f; text-decoration-color: #bf7f7f; font-weight: bold\">(most recent call last)</span><span style=\"color: #800000; text-decoration-color: #800000\"> ────────────────────────────────╮</span>\n",
       "<span style=\"color: #800000; text-decoration-color: #800000\">│</span> in <span style=\"color: #00ff00; text-decoration-color: #00ff00\">&lt;module&gt;</span>:<span style=\"color: #0000ff; text-decoration-color: #0000ff\">4</span>                                                                                    <span style=\"color: #800000; text-decoration-color: #800000\">│</span>\n",
       "<span style=\"color: #800000; text-decoration-color: #800000\">│</span>                                                                                                  <span style=\"color: #800000; text-decoration-color: #800000\">│</span>\n",
       "<span style=\"color: #800000; text-decoration-color: #800000\">│</span>   <span style=\"color: #7f7f7f; text-decoration-color: #7f7f7f\"> 1 </span>unbound_path = <span style=\"color: #808000; text-decoration-color: #808000\">\"../kpc2/equilibration/unbound/\"</span>                                             <span style=\"color: #800000; text-decoration-color: #800000\">│</span>\n",
       "<span style=\"color: #800000; text-decoration-color: #800000\">│</span>   <span style=\"color: #7f7f7f; text-decoration-color: #7f7f7f\"> 2 </span>ligand_1_number = <span style=\"color: #0000ff; text-decoration-color: #0000ff\">11</span>                                                                        <span style=\"color: #800000; text-decoration-color: #800000\">│</span>\n",
       "<span style=\"color: #800000; text-decoration-color: #800000\">│</span>   <span style=\"color: #7f7f7f; text-decoration-color: #7f7f7f\"> 3 </span>ligand_2_number = <span style=\"color: #0000ff; text-decoration-color: #0000ff\">5</span>                                                                         <span style=\"color: #800000; text-decoration-color: #800000\">│</span>\n",
       "<span style=\"color: #800000; text-decoration-color: #800000\">│</span> <span style=\"color: #800000; text-decoration-color: #800000\">❱ </span> 4 ligand_1_system = bss.IO.readMolecules([<span style=\"color: #808000; text-decoration-color: #808000\">f\"{</span>unbound_path<span style=\"color: #808000; text-decoration-color: #808000\">}/ligand_{</span>ligand_1_number<span style=\"color: #808000; text-decoration-color: #808000\">}/npt/li</span>    <span style=\"color: #800000; text-decoration-color: #800000\">│</span>\n",
       "<span style=\"color: #800000; text-decoration-color: #800000\">│</span>   <span style=\"color: #7f7f7f; text-decoration-color: #7f7f7f\"> 5 │   │   │   │   │   │   │   │   │   │   </span><span style=\"color: #808000; text-decoration-color: #808000\">f\"{</span>unbound_path<span style=\"color: #808000; text-decoration-color: #808000\">}/ligand_{</span>ligand_1_number<span style=\"color: #808000; text-decoration-color: #808000\">}/npt/li</span>    <span style=\"color: #800000; text-decoration-color: #800000\">│</span>\n",
       "<span style=\"color: #800000; text-decoration-color: #800000\">│</span>   <span style=\"color: #7f7f7f; text-decoration-color: #7f7f7f\"> 6 </span>ligand_2_system = bss.IO.readMolecules([<span style=\"color: #808000; text-decoration-color: #808000\">f\"{</span>unbound_path<span style=\"color: #808000; text-decoration-color: #808000\">}/ligand_{</span>ligand_2_number<span style=\"color: #808000; text-decoration-color: #808000\">}/npt/li</span>    <span style=\"color: #800000; text-decoration-color: #800000\">│</span>\n",
       "<span style=\"color: #800000; text-decoration-color: #800000\">│</span>   <span style=\"color: #7f7f7f; text-decoration-color: #7f7f7f\"> 7 │   │   │   │   │   │   │   │   │   │   </span><span style=\"color: #808000; text-decoration-color: #808000\">f\"{</span>unbound_path<span style=\"color: #808000; text-decoration-color: #808000\">}/ligand_{</span>ligand_2_number<span style=\"color: #808000; text-decoration-color: #808000\">}/npt/li</span>    <span style=\"color: #800000; text-decoration-color: #800000\">│</span>\n",
       "<span style=\"color: #800000; text-decoration-color: #800000\">│</span>                                                                                                  <span style=\"color: #800000; text-decoration-color: #800000\">│</span>\n",
       "<span style=\"color: #800000; text-decoration-color: #800000\">│</span> <span style=\"color: #bfbf7f; text-decoration-color: #bfbf7f\">/home/jguven/Software/miniconda3/envs/obss/lib/python3.10/site-packages/BioSimSpace/IO/</span><span style=\"color: #808000; text-decoration-color: #808000; font-weight: bold\">_io.py</span>:<span style=\"color: #0000ff; text-decoration-color: #0000ff\">44</span> <span style=\"color: #800000; text-decoration-color: #800000\">│</span>\n",
       "<span style=\"color: #800000; text-decoration-color: #800000\">│</span> <span style=\"color: #0000ff; text-decoration-color: #0000ff\">9</span> in <span style=\"color: #00ff00; text-decoration-color: #00ff00\">readMolecules</span>                                                                               <span style=\"color: #800000; text-decoration-color: #800000\">│</span>\n",
       "<span style=\"color: #800000; text-decoration-color: #800000\">│</span>                                                                                                  <span style=\"color: #800000; text-decoration-color: #800000\">│</span>\n",
       "<span style=\"color: #800000; text-decoration-color: #800000\">│</span>   <span style=\"color: #7f7f7f; text-decoration-color: #7f7f7f\"> 446 │   # Check that the files exist (if not a URL).</span>                                          <span style=\"color: #800000; text-decoration-color: #800000\">│</span>\n",
       "<span style=\"color: #800000; text-decoration-color: #800000\">│</span>   <span style=\"color: #7f7f7f; text-decoration-color: #7f7f7f\"> 447 │   </span><span style=\"color: #0000ff; text-decoration-color: #0000ff\">for</span> file <span style=\"color: #ff00ff; text-decoration-color: #ff00ff\">in</span> files:                                                                    <span style=\"color: #800000; text-decoration-color: #800000\">│</span>\n",
       "<span style=\"color: #800000; text-decoration-color: #800000\">│</span>   <span style=\"color: #7f7f7f; text-decoration-color: #7f7f7f\"> 448 │   │   </span><span style=\"color: #0000ff; text-decoration-color: #0000ff\">if</span> <span style=\"color: #ff00ff; text-decoration-color: #ff00ff\">not</span> file.startswith((<span style=\"color: #808000; text-decoration-color: #808000\">\"http\"</span>, <span style=\"color: #808000; text-decoration-color: #808000\">\"www\"</span>)) <span style=\"color: #ff00ff; text-decoration-color: #ff00ff\">and</span> <span style=\"color: #ff00ff; text-decoration-color: #ff00ff\">not</span> _os.path.isfile(file):            <span style=\"color: #800000; text-decoration-color: #800000\">│</span>\n",
       "<span style=\"color: #800000; text-decoration-color: #800000\">│</span> <span style=\"color: #800000; text-decoration-color: #800000\">❱ </span> 449 <span style=\"color: #7f7f7f; text-decoration-color: #7f7f7f\">│   │   │   </span><span style=\"color: #0000ff; text-decoration-color: #0000ff\">raise</span> <span style=\"color: #00ffff; text-decoration-color: #00ffff\">IOError</span>(<span style=\"color: #808000; text-decoration-color: #808000\">\"Missing input file: '%s'\"</span> % file)                              <span style=\"color: #800000; text-decoration-color: #800000\">│</span>\n",
       "<span style=\"color: #800000; text-decoration-color: #800000\">│</span>   <span style=\"color: #7f7f7f; text-decoration-color: #7f7f7f\"> 450 │   </span>                                                                                      <span style=\"color: #800000; text-decoration-color: #800000\">│</span>\n",
       "<span style=\"color: #800000; text-decoration-color: #800000\">│</span>   <span style=\"color: #7f7f7f; text-decoration-color: #7f7f7f\"> 451 │   # Try to read the files and return a molecular system.</span>                                <span style=\"color: #800000; text-decoration-color: #800000\">│</span>\n",
       "<span style=\"color: #800000; text-decoration-color: #800000\">│</span>   <span style=\"color: #7f7f7f; text-decoration-color: #7f7f7f\"> 452 │   </span><span style=\"color: #0000ff; text-decoration-color: #0000ff\">try</span>:                                                                                  <span style=\"color: #800000; text-decoration-color: #800000\">│</span>\n",
       "<span style=\"color: #800000; text-decoration-color: #800000\">╰──────────────────────────────────────────────────────────────────────────────────────────────────╯</span>\n",
       "<span style=\"color: #ff0000; text-decoration-color: #ff0000; font-weight: bold\">OSError: </span>Missing input file: <span style=\"color: #008000; text-decoration-color: #008000\">'../kpc2/equilibration/unbound//ligand_11/npt/ligand_11.prm7'</span>\n",
       "</pre>\n"
      ],
      "text/plain": [
       "\u001b[31m╭─\u001b[0m\u001b[31m──────────────────────────────\u001b[0m\u001b[31m \u001b[0m\u001b[1;31mTraceback \u001b[0m\u001b[1;2;31m(most recent call last)\u001b[0m\u001b[31m \u001b[0m\u001b[31m───────────────────────────────\u001b[0m\u001b[31m─╮\u001b[0m\n",
       "\u001b[31m│\u001b[0m in \u001b[92m<module>\u001b[0m:\u001b[94m4\u001b[0m                                                                                    \u001b[31m│\u001b[0m\n",
       "\u001b[31m│\u001b[0m                                                                                                  \u001b[31m│\u001b[0m\n",
       "\u001b[31m│\u001b[0m   \u001b[2m 1 \u001b[0munbound_path = \u001b[33m\"\u001b[0m\u001b[33m../kpc2/equilibration/unbound/\u001b[0m\u001b[33m\"\u001b[0m                                             \u001b[31m│\u001b[0m\n",
       "\u001b[31m│\u001b[0m   \u001b[2m 2 \u001b[0mligand_1_number = \u001b[94m11\u001b[0m                                                                        \u001b[31m│\u001b[0m\n",
       "\u001b[31m│\u001b[0m   \u001b[2m 3 \u001b[0mligand_2_number = \u001b[94m5\u001b[0m                                                                         \u001b[31m│\u001b[0m\n",
       "\u001b[31m│\u001b[0m \u001b[31m❱ \u001b[0m 4 ligand_1_system = bss.IO.readMolecules([\u001b[33mf\u001b[0m\u001b[33m\"\u001b[0m\u001b[33m{\u001b[0munbound_path\u001b[33m}\u001b[0m\u001b[33m/ligand_\u001b[0m\u001b[33m{\u001b[0mligand_1_number\u001b[33m}\u001b[0m\u001b[33m/npt/li\u001b[0m    \u001b[31m│\u001b[0m\n",
       "\u001b[31m│\u001b[0m   \u001b[2m 5 \u001b[0m\u001b[2m│   │   │   │   │   │   │   │   │   │   \u001b[0m\u001b[33mf\u001b[0m\u001b[33m\"\u001b[0m\u001b[33m{\u001b[0munbound_path\u001b[33m}\u001b[0m\u001b[33m/ligand_\u001b[0m\u001b[33m{\u001b[0mligand_1_number\u001b[33m}\u001b[0m\u001b[33m/npt/li\u001b[0m    \u001b[31m│\u001b[0m\n",
       "\u001b[31m│\u001b[0m   \u001b[2m 6 \u001b[0mligand_2_system = bss.IO.readMolecules([\u001b[33mf\u001b[0m\u001b[33m\"\u001b[0m\u001b[33m{\u001b[0munbound_path\u001b[33m}\u001b[0m\u001b[33m/ligand_\u001b[0m\u001b[33m{\u001b[0mligand_2_number\u001b[33m}\u001b[0m\u001b[33m/npt/li\u001b[0m    \u001b[31m│\u001b[0m\n",
       "\u001b[31m│\u001b[0m   \u001b[2m 7 \u001b[0m\u001b[2m│   │   │   │   │   │   │   │   │   │   \u001b[0m\u001b[33mf\u001b[0m\u001b[33m\"\u001b[0m\u001b[33m{\u001b[0munbound_path\u001b[33m}\u001b[0m\u001b[33m/ligand_\u001b[0m\u001b[33m{\u001b[0mligand_2_number\u001b[33m}\u001b[0m\u001b[33m/npt/li\u001b[0m    \u001b[31m│\u001b[0m\n",
       "\u001b[31m│\u001b[0m                                                                                                  \u001b[31m│\u001b[0m\n",
       "\u001b[31m│\u001b[0m \u001b[2;33m/home/jguven/Software/miniconda3/envs/obss/lib/python3.10/site-packages/BioSimSpace/IO/\u001b[0m\u001b[1;33m_io.py\u001b[0m:\u001b[94m44\u001b[0m \u001b[31m│\u001b[0m\n",
       "\u001b[31m│\u001b[0m \u001b[94m9\u001b[0m in \u001b[92mreadMolecules\u001b[0m                                                                               \u001b[31m│\u001b[0m\n",
       "\u001b[31m│\u001b[0m                                                                                                  \u001b[31m│\u001b[0m\n",
       "\u001b[31m│\u001b[0m   \u001b[2m 446 \u001b[0m\u001b[2m│   \u001b[0m\u001b[2m# Check that the files exist (if not a URL).\u001b[0m                                          \u001b[31m│\u001b[0m\n",
       "\u001b[31m│\u001b[0m   \u001b[2m 447 \u001b[0m\u001b[2m│   \u001b[0m\u001b[94mfor\u001b[0m file \u001b[95min\u001b[0m files:                                                                    \u001b[31m│\u001b[0m\n",
       "\u001b[31m│\u001b[0m   \u001b[2m 448 \u001b[0m\u001b[2m│   │   \u001b[0m\u001b[94mif\u001b[0m \u001b[95mnot\u001b[0m file.startswith((\u001b[33m\"\u001b[0m\u001b[33mhttp\u001b[0m\u001b[33m\"\u001b[0m, \u001b[33m\"\u001b[0m\u001b[33mwww\u001b[0m\u001b[33m\"\u001b[0m)) \u001b[95mand\u001b[0m \u001b[95mnot\u001b[0m _os.path.isfile(file):            \u001b[31m│\u001b[0m\n",
       "\u001b[31m│\u001b[0m \u001b[31m❱ \u001b[0m 449 \u001b[2m│   │   │   \u001b[0m\u001b[94mraise\u001b[0m \u001b[96mIOError\u001b[0m(\u001b[33m\"\u001b[0m\u001b[33mMissing input file: \u001b[0m\u001b[33m'\u001b[0m\u001b[33m%s\u001b[0m\u001b[33m'\u001b[0m\u001b[33m\"\u001b[0m % file)                              \u001b[31m│\u001b[0m\n",
       "\u001b[31m│\u001b[0m   \u001b[2m 450 \u001b[0m\u001b[2m│   \u001b[0m                                                                                      \u001b[31m│\u001b[0m\n",
       "\u001b[31m│\u001b[0m   \u001b[2m 451 \u001b[0m\u001b[2m│   \u001b[0m\u001b[2m# Try to read the files and return a molecular system.\u001b[0m                                \u001b[31m│\u001b[0m\n",
       "\u001b[31m│\u001b[0m   \u001b[2m 452 \u001b[0m\u001b[2m│   \u001b[0m\u001b[94mtry\u001b[0m:                                                                                  \u001b[31m│\u001b[0m\n",
       "\u001b[31m╰──────────────────────────────────────────────────────────────────────────────────────────────────╯\u001b[0m\n",
       "\u001b[1;91mOSError: \u001b[0mMissing input file: \u001b[32m'../kpc2/equilibration/unbound//ligand_11/npt/ligand_11.prm7'\u001b[0m\n"
      ]
     },
     "metadata": {},
     "output_type": "display_data"
    }
   ],
   "source": [
    "unbound_path = \"../kpc2/equilibration/unbound/\"\n",
    "ligand_1_number = 11\n",
    "ligand_2_number = 5\n",
    "ligand_1_system = bss.IO.readMolecules([f\"{unbound_path}/ligand_{ligand_1_number}/npt/ligand_{ligand_1_number}.prm7\",\n",
    "                                        f\"{unbound_path}/ligand_{ligand_1_number}/npt/ligand_{ligand_1_number}.rst7\"])\n",
    "ligand_2_system = bss.IO.readMolecules([f\"{unbound_path}/ligand_{ligand_2_number}/npt/ligand_{ligand_2_number}.prm7\",\n",
    "                                        f\"{unbound_path}/ligand_{ligand_2_number}/npt/ligand_{ligand_2_number}.rst7\"])\n",
    "ligand_1 = ligand_1_system.getMolecule(0)\n",
    "ligand_2 = ligand_2_system.getMolecule(0)\n",
    "mapping = bss.Align.matchAtoms(ligand_1, ligand_2, complete_rings_only=True) \n",
    "inverse_mapping = {value:key for key,value in mapping.items()}\n",
    "ligand_2_aligned = bss.Align.rmsdAlign(ligand_2, ligand_1, inverse_mapping)\n",
    "\n",
    "merged_ligands = bss.Align.merge(ligand_1, ligand_2_aligned, mapping) \n",
    "\n",
    "ligand_1_system.removeMolecules(ligand_1)\n",
    "ligand_1_system.addMolecules(merged_ligands)\n",
    "unbound_system = ligand_1_system\n"
   ]
  },
  {
   "cell_type": "code",
   "execution_count": 4,
   "metadata": {},
   "outputs": [
    {
     "data": {
      "application/3dmoljs_load.v0": "<div id=\"3dmolviewer_16802772782067091\"  style=\"position: relative; width: 900px; height: 450px\">\n        <p id=\"3dmolwarning_16802772782067091\" style=\"background-color:#ffcccc;color:black\">You appear to be running in JupyterLab (or JavaScript failed to load for some other reason).  You need to install the 3dmol extension: <br>\n        <tt>jupyter labextension install jupyterlab_3dmol</tt></p>\n        </div>\n<script>\n\nvar loadScriptAsync = function(uri){\n  return new Promise((resolve, reject) => {\n    //this is to ignore the existence of requirejs amd\n    var savedexports, savedmodule;\n    if (typeof exports !== 'undefined') savedexports = exports;\n    else exports = {}\n    if (typeof module !== 'undefined') savedmodule = module;\n    else module = {}\n\n    var tag = document.createElement('script');\n    tag.src = uri;\n    tag.async = true;\n    tag.onload = () => {\n        exports = savedexports;\n        module = savedmodule;\n        resolve();\n    };\n  var firstScriptTag = document.getElementsByTagName('script')[0];\n  firstScriptTag.parentNode.insertBefore(tag, firstScriptTag);\n});\n};\n\nif(typeof $3Dmolpromise === 'undefined') {\n$3Dmolpromise = null;\n  $3Dmolpromise = loadScriptAsync('https://cdnjs.cloudflare.com/ajax/libs/3Dmol/2.0.1/3Dmol-min.js');\n}\n\nvar viewer_16802772782067091 = null;\nvar warn = document.getElementById(\"3dmolwarning_16802772782067091\");\nif(warn) {\n    warn.parentNode.removeChild(warn);\n}\n$3Dmolpromise.then(function() {\nvar viewergrid_16802772782067091 = null;\nviewergrid_16802772782067091 = $3Dmol.createViewerGrid(document.getElementById(\"3dmolviewer_16802772782067091\"),{rows: 1, cols: 2, control_all: false},{backgroundColor:\"white\"});\nviewer_16802772782067091 = viewergrid_16802772782067091[0][0];\nviewergrid_16802772782067091[0][0].zoomTo();viewergrid_16802772782067091[0][1].zoomTo();\tviewergrid_16802772782067091[0][0].addModel(\"MOL\\n     RDKit          3D\\n\\n 31 32  0  0  0  0  0  0  0  0999 V2000\\n   14.1200   22.5800   11.6800 C   0  0  0  0  0  0  0  0  0  0  0  0\\n   12.9400   23.5000   11.9500 C   0  0  0  0  0  5  0  0  0  0  0  0\\n   13.1000   24.8900   12.1400 C   0  0  0  0  0  0  0  0  0  0  0  0\\n   11.9800   25.6900   12.4500 C   0  0  0  0  0  0  0  0  0  0  0  0\\n   11.2700   27.8900   13.2100 C   0  0  0  0  0  0  0  0  0  0  0  0\\n    9.9300   27.3900   13.0800 C   0  0  0  0  0  0  0  0  0  0  0  0\\n    9.5100   26.2100   12.4700 C   0  0  0  0  0  5  0  0  0  0  0  0\\n    8.0600   26.3100   11.9700 C   0  0  0  0  0  0  0  0  0  0  0  0\\n   10.6600   25.2000   12.2900 C   0  0  0  0  0  6  0  0  0  0  0  0\\n   10.4900   23.8300   11.9400 C   0  0  0  0  0  5  0  0  0  0  0  0\\n   11.6100   22.9600   11.9400 C   0  0  0  0  0  5  0  0  0  0  0  0\\n   12.2500   26.9600   12.9800 N   0  0  0  0  0  0  0  0  0  0  0  0\\n   11.5100   29.0200   13.5300 O   0  0  0  0  0  0  0  0  0  0  0  0\\n    9.0100   26.6300    9.4100 O   0  0  0  0  0  0  0  0  0  0  0  0\\n    7.0800   28.0200   10.2700 O   0  0  0  0  0  0  0  0  0  0  0  0\\n    6.7300   25.7400    9.6400 O   0  0  0  0  0  0  0  0  0  0  0  0\\n    7.8100   26.7300   10.2200 P   0  0  0  0  0  6  0  0  0  0  0  0\\n   15.1400   22.8200   12.0100 H   0  0  0  0  0  0  0  0  0  0  0  0\\n   13.8700   21.5700   12.0100 H   0  0  0  0  0  0  0  0  0  0  0  0\\n   14.1500   22.5400   10.5800 H   0  0  0  0  0  0  0  0  0  0  0  0\\n    7.6100   25.3100   12.0000 H   0  0  0  0  0  0  0  0  0  0  0  0\\n    7.4000   26.9500   12.5600 H   0  0  0  0  0  0  0  0  0  0  0  0\\n   14.1000   25.3200   12.1800 H   0  0  0  0  0  0  0  0  0  0  0  0\\n    9.1600   28.1400   13.1700 H   0  0  0  0  0  0  0  0  0  0  0  0\\n    9.1500   23.2300   12.0300 C   0  0  0  0  0  0  0  0  0  0  0  0\\n    7.2600   25.1200    9.1000 H   0  0  0  0  0  0  0  0  0  0  0  0\\n   11.4100   21.9100   11.7400 H   0  0  0  0  0  0  0  0  0  0  0  0\\n   13.2000   27.1800   13.2400 H   0  0  0  0  0  0  0  0  0  0  0  0\\n    8.6900   23.2900   13.0200 H   0  0  0  0  0  0  0  0  0  0  0  0\\n    9.1100   22.2000   11.6700 H   0  0  0  0  0  0  0  0  0  0  0  0\\n    8.4800   23.5900   11.2300 H   0  0  0  0  0  0  0  0  0  0  0  0\\n  1  2  1  0\\n  1 18  1  0\\n  1 19  1  0\\n  1 20  1  0\\n  2  3  2  0\\n  2 11  2  0\\n  3  4  1  0\\n  3 23  1  0\\n  4  9  2  0\\n  4 12  1  0\\n  5  6  1  0\\n  5 12  1  0\\n  5 13  2  0\\n  6  7  2  0\\n  6 24  1  0\\n  7  8  1  0\\n  7  9  2  0\\n  8 17  1  0\\n  8 21  1  0\\n  8 22  1  0\\n  9 10  2  0\\n 10 11  2  0\\n 10 25  1  0\\n 11 27  1  0\\n 12 28  1  0\\n 14 17  2  0\\n 15 17  2  0\\n 16 17  1  0\\n 16 26  1  0\\n 25 29  1  0\\n 25 30  1  0\\n 25 31  1  0\\nM  RAD  1  17   2\\nM  END\\n\",\"mol0\");\n\tviewergrid_16802772782067091[0][1].addModel(\"MOL\\n     RDKit          3D\\n\\n 30 31  0  0  0  0  0  0  0  0999 V2000\\n   14.0200    1.7600   13.4800 C   0  0  0  0  0  0  0  0  0  0  0  0\\n   14.3000    3.2100   13.7900 C   0  0  0  0  0  5  0  0  0  0  0  0\\n   15.3500    3.5300   14.6800 C   0  0  0  0  0  0  0  0  0  0  0  0\\n   15.6700    4.8800   14.9300 C   0  0  0  0  0  0  0  0  0  0  0  0\\n   17.1300    6.3600   16.1800 C   0  0  0  0  0  0  0  0  0  0  0  0\\n   16.5300    7.5300   15.4600 C   0  0  0  0  0  0  0  0  0  0  0  0\\n   15.6100    7.3800   14.4700 C   0  0  0  0  0  5  0  0  0  0  0  0\\n   15.3200    8.6800   13.7800 C   0  0  0  0  0  0  0  0  0  0  0  0\\n   15.0500    5.9500   14.2600 C   0  0  0  0  0  6  0  0  0  0  0  0\\n   14.0400    5.6300   13.3300 C   0  0  0  0  0  5  0  0  0  0  0  0\\n   13.6700    4.2600   13.0600 C   0  0  0  0  0  5  0  0  0  0  0  0\\n   16.6800    5.1600   15.8800 O   0  0  0  0  0  0  0  0  0  0  0  0\\n   17.9700    6.5100   17.0500 O   0  0  0  0  0  0  0  0  0  0  0  0\\n   16.5800    7.8900   11.4900 O   0  0  0  0  0  0  0  0  0  0  0  0\\n   17.2200   10.0700   12.4700 O   0  0  0  0  0  0  0  0  0  0  0  0\\n   14.9700    9.9500   11.4000 O   0  0  0  0  0  0  0  0  0  0  0  0\\n   16.1300    9.1100   12.2100 P   0  0  0  0  0  6  0  0  0  0  0  0\\n   13.6300    1.5300   12.4800 H   0  0  0  0  0  0  0  0  0  0  0  0\\n   14.8400    1.1000   13.7900 H   0  0  0  0  0  0  0  0  0  0  0  0\\n   13.2100    1.3700   14.1100 H   0  0  0  0  0  0  0  0  0  0  0  0\\n   14.2500    8.7900   13.5300 H   0  0  0  0  0  0  0  0  0  0  0  0\\n   15.5400    9.5200   14.4500 H   0  0  0  0  0  0  0  0  0  0  0  0\\n   15.9900    2.7800   15.1400 H   0  0  0  0  0  0  0  0  0  0  0  0\\n   16.8500    8.5200   15.7800 H   0  0  0  0  0  0  0  0  0  0  0  0\\n   13.3200    6.6400   12.5100 C   0  0  0  0  0  0  0  0  0  0  0  0\\n   15.2300    9.8100   10.4700 H   0  0  0  0  0  0  0  0  0  0  0  0\\n   12.8800    4.0100   12.3500 H   0  0  0  0  0  0  0  0  0  0  0  0\\n   12.5900    7.1600   13.1500 H   0  0  0  0  0  0  0  0  0  0  0  0\\n   12.7600    6.2600   11.6500 H   0  0  0  0  0  0  0  0  0  0  0  0\\n   13.8300    7.4400   11.9500 H   0  0  0  0  0  0  0  0  0  0  0  0\\n  1  2  1  0\\n  1 18  1  0\\n  1 19  1  0\\n  1 20  1  0\\n  2  3  2  0\\n  2 11  2  0\\n  3  4  1  0\\n  3 23  1  0\\n  4  9  2  0\\n  4 12  1  0\\n  5  6  1  0\\n  5 12  1  0\\n  5 13  2  0\\n  6  7  2  0\\n  6 24  1  0\\n  7  8  1  0\\n  7  9  2  0\\n  8 17  1  0\\n  8 21  1  0\\n  8 22  1  0\\n  9 10  2  0\\n 10 11  2  0\\n 10 25  1  0\\n 11 27  1  0\\n 14 17  2  0\\n 15 17  2  0\\n 16 17  1  0\\n 16 26  1  0\\n 25 28  1  0\\n 25 29  1  0\\n 25 30  1  0\\nM  RAD  1  17   2\\nM  END\\n\",\"mol1\");\n\tviewergrid_16802772782067091[0][0].setStyle({\"model\": 0},{\"stick\": {\"colorscheme\": \"grayCarbon\", \"linewidth\": 0.1}});\n\tviewergrid_16802772782067091[0][1].setStyle({\"model\": 0},{\"stick\": {\"colorscheme\": \"grayCarbon\", \"linewidth\": 0.1}});\n\tviewergrid_16802772782067091[0][0].addSphere({\"center\": {\"x\": 14.12, \"y\": 22.58, \"z\": 11.68}, \"radius\": 0.5, \"color\": \"green\", \"alpha\": 0.8});\n\tviewergrid_16802772782067091[0][0].addLabel(\"0 \\u2192 0\",{\"position\": {\"x\": 14.12, \"y\": 22.58, \"z\": 11.68}});\n\tviewergrid_16802772782067091[0][1].addSphere({\"center\": {\"x\": 14.02, \"y\": 1.76, \"z\": 13.48}, \"radius\": 0.5, \"color\": \"green\", \"alpha\": 0.8});\n\tviewergrid_16802772782067091[0][1].addLabel(\"0 \\u2192 0\",{\"position\": {\"x\": 14.02, \"y\": 1.76, \"z\": 13.48}});\n\tviewergrid_16802772782067091[0][0].addSphere({\"center\": {\"x\": 12.94, \"y\": 23.5, \"z\": 11.95}, \"radius\": 0.5, \"color\": \"green\", \"alpha\": 0.8});\n\tviewergrid_16802772782067091[0][0].addLabel(\"1 \\u2192 1\",{\"position\": {\"x\": 12.94, \"y\": 23.5, \"z\": 11.95}});\n\tviewergrid_16802772782067091[0][1].addSphere({\"center\": {\"x\": 14.3, \"y\": 3.21, \"z\": 13.79}, \"radius\": 0.5, \"color\": \"green\", \"alpha\": 0.8});\n\tviewergrid_16802772782067091[0][1].addLabel(\"1 \\u2192 1\",{\"position\": {\"x\": 14.3, \"y\": 3.21, \"z\": 13.79}});\n\tviewergrid_16802772782067091[0][0].addSphere({\"center\": {\"x\": 13.1, \"y\": 24.89, \"z\": 12.14}, \"radius\": 0.5, \"color\": \"green\", \"alpha\": 0.8});\n\tviewergrid_16802772782067091[0][0].addLabel(\"2 \\u2192 2\",{\"position\": {\"x\": 13.1, \"y\": 24.89, \"z\": 12.14}});\n\tviewergrid_16802772782067091[0][1].addSphere({\"center\": {\"x\": 15.35, \"y\": 3.53, \"z\": 14.68}, \"radius\": 0.5, \"color\": \"green\", \"alpha\": 0.8});\n\tviewergrid_16802772782067091[0][1].addLabel(\"2 \\u2192 2\",{\"position\": {\"x\": 15.35, \"y\": 3.53, \"z\": 14.68}});\n\tviewergrid_16802772782067091[0][0].addSphere({\"center\": {\"x\": 11.98, \"y\": 25.69, \"z\": 12.45}, \"radius\": 0.5, \"color\": \"green\", \"alpha\": 0.8});\n\tviewergrid_16802772782067091[0][0].addLabel(\"3 \\u2192 3\",{\"position\": {\"x\": 11.98, \"y\": 25.69, \"z\": 12.45}});\n\tviewergrid_16802772782067091[0][1].addSphere({\"center\": {\"x\": 15.67, \"y\": 4.88, \"z\": 14.93}, \"radius\": 0.5, \"color\": \"green\", \"alpha\": 0.8});\n\tviewergrid_16802772782067091[0][1].addLabel(\"3 \\u2192 3\",{\"position\": {\"x\": 15.67, \"y\": 4.88, \"z\": 14.93}});\n\tviewergrid_16802772782067091[0][0].addSphere({\"center\": {\"x\": 11.27, \"y\": 27.89, \"z\": 13.21}, \"radius\": 0.5, \"color\": \"green\", \"alpha\": 0.8});\n\tviewergrid_16802772782067091[0][0].addLabel(\"4 \\u2192 4\",{\"position\": {\"x\": 11.27, \"y\": 27.89, \"z\": 13.21}});\n\tviewergrid_16802772782067091[0][1].addSphere({\"center\": {\"x\": 17.13, \"y\": 6.36, \"z\": 16.18}, \"radius\": 0.5, \"color\": \"green\", \"alpha\": 0.8});\n\tviewergrid_16802772782067091[0][1].addLabel(\"4 \\u2192 4\",{\"position\": {\"x\": 17.13, \"y\": 6.36, \"z\": 16.18}});\n\tviewergrid_16802772782067091[0][0].addSphere({\"center\": {\"x\": 9.93, \"y\": 27.39, \"z\": 13.08}, \"radius\": 0.5, \"color\": \"green\", \"alpha\": 0.8});\n\tviewergrid_16802772782067091[0][0].addLabel(\"5 \\u2192 5\",{\"position\": {\"x\": 9.93, \"y\": 27.39, \"z\": 13.08}});\n\tviewergrid_16802772782067091[0][1].addSphere({\"center\": {\"x\": 16.53, \"y\": 7.53, \"z\": 15.46}, \"radius\": 0.5, \"color\": \"green\", \"alpha\": 0.8});\n\tviewergrid_16802772782067091[0][1].addLabel(\"5 \\u2192 5\",{\"position\": {\"x\": 16.53, \"y\": 7.53, \"z\": 15.46}});\n\tviewergrid_16802772782067091[0][0].addSphere({\"center\": {\"x\": 9.51, \"y\": 26.21, \"z\": 12.47}, \"radius\": 0.5, \"color\": \"green\", \"alpha\": 0.8});\n\tviewergrid_16802772782067091[0][0].addLabel(\"6 \\u2192 6\",{\"position\": {\"x\": 9.51, \"y\": 26.21, \"z\": 12.47}});\n\tviewergrid_16802772782067091[0][1].addSphere({\"center\": {\"x\": 15.61, \"y\": 7.38, \"z\": 14.47}, \"radius\": 0.5, \"color\": \"green\", \"alpha\": 0.8});\n\tviewergrid_16802772782067091[0][1].addLabel(\"6 \\u2192 6\",{\"position\": {\"x\": 15.61, \"y\": 7.38, \"z\": 14.47}});\n\tviewergrid_16802772782067091[0][0].addSphere({\"center\": {\"x\": 8.06, \"y\": 26.31, \"z\": 11.97}, \"radius\": 0.5, \"color\": \"green\", \"alpha\": 0.8});\n\tviewergrid_16802772782067091[0][0].addLabel(\"7 \\u2192 7\",{\"position\": {\"x\": 8.06, \"y\": 26.31, \"z\": 11.97}});\n\tviewergrid_16802772782067091[0][1].addSphere({\"center\": {\"x\": 15.32, \"y\": 8.68, \"z\": 13.78}, \"radius\": 0.5, \"color\": \"green\", \"alpha\": 0.8});\n\tviewergrid_16802772782067091[0][1].addLabel(\"7 \\u2192 7\",{\"position\": {\"x\": 15.32, \"y\": 8.68, \"z\": 13.78}});\n\tviewergrid_16802772782067091[0][0].addSphere({\"center\": {\"x\": 10.66, \"y\": 25.2, \"z\": 12.29}, \"radius\": 0.5, \"color\": \"green\", \"alpha\": 0.8});\n\tviewergrid_16802772782067091[0][0].addLabel(\"8 \\u2192 8\",{\"position\": {\"x\": 10.66, \"y\": 25.2, \"z\": 12.29}});\n\tviewergrid_16802772782067091[0][1].addSphere({\"center\": {\"x\": 15.05, \"y\": 5.95, \"z\": 14.26}, \"radius\": 0.5, \"color\": \"green\", \"alpha\": 0.8});\n\tviewergrid_16802772782067091[0][1].addLabel(\"8 \\u2192 8\",{\"position\": {\"x\": 15.05, \"y\": 5.95, \"z\": 14.26}});\n\tviewergrid_16802772782067091[0][0].addSphere({\"center\": {\"x\": 10.49, \"y\": 23.83, \"z\": 11.94}, \"radius\": 0.5, \"color\": \"green\", \"alpha\": 0.8});\n\tviewergrid_16802772782067091[0][0].addLabel(\"9 \\u2192 9\",{\"position\": {\"x\": 10.49, \"y\": 23.83, \"z\": 11.94}});\n\tviewergrid_16802772782067091[0][1].addSphere({\"center\": {\"x\": 14.04, \"y\": 5.63, \"z\": 13.33}, \"radius\": 0.5, \"color\": \"green\", \"alpha\": 0.8});\n\tviewergrid_16802772782067091[0][1].addLabel(\"9 \\u2192 9\",{\"position\": {\"x\": 14.04, \"y\": 5.63, \"z\": 13.33}});\n\tviewergrid_16802772782067091[0][0].addSphere({\"center\": {\"x\": 11.61, \"y\": 22.96, \"z\": 11.94}, \"radius\": 0.5, \"color\": \"green\", \"alpha\": 0.8});\n\tviewergrid_16802772782067091[0][0].addLabel(\"10 \\u2192 10\",{\"position\": {\"x\": 11.61, \"y\": 22.96, \"z\": 11.94}});\n\tviewergrid_16802772782067091[0][1].addSphere({\"center\": {\"x\": 13.67, \"y\": 4.26, \"z\": 13.06}, \"radius\": 0.5, \"color\": \"green\", \"alpha\": 0.8});\n\tviewergrid_16802772782067091[0][1].addLabel(\"10 \\u2192 10\",{\"position\": {\"x\": 13.67, \"y\": 4.26, \"z\": 13.06}});\n\tviewergrid_16802772782067091[0][0].addSphere({\"center\": {\"x\": 12.25, \"y\": 26.96, \"z\": 12.98}, \"radius\": 0.5, \"color\": \"green\", \"alpha\": 0.8});\n\tviewergrid_16802772782067091[0][0].addLabel(\"11 \\u2192 11\",{\"position\": {\"x\": 12.25, \"y\": 26.96, \"z\": 12.98}});\n\tviewergrid_16802772782067091[0][1].addSphere({\"center\": {\"x\": 16.68, \"y\": 5.16, \"z\": 15.88}, \"radius\": 0.5, \"color\": \"green\", \"alpha\": 0.8});\n\tviewergrid_16802772782067091[0][1].addLabel(\"11 \\u2192 11\",{\"position\": {\"x\": 16.68, \"y\": 5.16, \"z\": 15.88}});\n\tviewergrid_16802772782067091[0][0].addSphere({\"center\": {\"x\": 11.51, \"y\": 29.02, \"z\": 13.53}, \"radius\": 0.5, \"color\": \"green\", \"alpha\": 0.8});\n\tviewergrid_16802772782067091[0][0].addLabel(\"12 \\u2192 12\",{\"position\": {\"x\": 11.51, \"y\": 29.02, \"z\": 13.53}});\n\tviewergrid_16802772782067091[0][1].addSphere({\"center\": {\"x\": 17.97, \"y\": 6.51, \"z\": 17.05}, \"radius\": 0.5, \"color\": \"green\", \"alpha\": 0.8});\n\tviewergrid_16802772782067091[0][1].addLabel(\"12 \\u2192 12\",{\"position\": {\"x\": 17.97, \"y\": 6.51, \"z\": 17.05}});\n\tviewergrid_16802772782067091[0][0].addSphere({\"center\": {\"x\": 9.01, \"y\": 26.63, \"z\": 9.41}, \"radius\": 0.5, \"color\": \"green\", \"alpha\": 0.8});\n\tviewergrid_16802772782067091[0][0].addLabel(\"13 \\u2192 13\",{\"position\": {\"x\": 9.01, \"y\": 26.63, \"z\": 9.41}});\n\tviewergrid_16802772782067091[0][1].addSphere({\"center\": {\"x\": 16.58, \"y\": 7.89, \"z\": 11.49}, \"radius\": 0.5, \"color\": \"green\", \"alpha\": 0.8});\n\tviewergrid_16802772782067091[0][1].addLabel(\"13 \\u2192 13\",{\"position\": {\"x\": 16.58, \"y\": 7.89, \"z\": 11.49}});\n\tviewergrid_16802772782067091[0][0].addSphere({\"center\": {\"x\": 7.08, \"y\": 28.02, \"z\": 10.27}, \"radius\": 0.5, \"color\": \"green\", \"alpha\": 0.8});\n\tviewergrid_16802772782067091[0][0].addLabel(\"14 \\u2192 14\",{\"position\": {\"x\": 7.08, \"y\": 28.02, \"z\": 10.27}});\n\tviewergrid_16802772782067091[0][1].addSphere({\"center\": {\"x\": 17.22, \"y\": 10.07, \"z\": 12.47}, \"radius\": 0.5, \"color\": \"green\", \"alpha\": 0.8});\n\tviewergrid_16802772782067091[0][1].addLabel(\"14 \\u2192 14\",{\"position\": {\"x\": 17.22, \"y\": 10.07, \"z\": 12.47}});\n\tviewergrid_16802772782067091[0][0].addSphere({\"center\": {\"x\": 6.73, \"y\": 25.74, \"z\": 9.64}, \"radius\": 0.5, \"color\": \"green\", \"alpha\": 0.8});\n\tviewergrid_16802772782067091[0][0].addLabel(\"15 \\u2192 15\",{\"position\": {\"x\": 6.73, \"y\": 25.74, \"z\": 9.64}});\n\tviewergrid_16802772782067091[0][1].addSphere({\"center\": {\"x\": 14.97, \"y\": 9.95, \"z\": 11.4}, \"radius\": 0.5, \"color\": \"green\", \"alpha\": 0.8});\n\tviewergrid_16802772782067091[0][1].addLabel(\"15 \\u2192 15\",{\"position\": {\"x\": 14.97, \"y\": 9.95, \"z\": 11.4}});\n\tviewergrid_16802772782067091[0][0].addSphere({\"center\": {\"x\": 7.81, \"y\": 26.73, \"z\": 10.22}, \"radius\": 0.5, \"color\": \"green\", \"alpha\": 0.8});\n\tviewergrid_16802772782067091[0][0].addLabel(\"16 \\u2192 16\",{\"position\": {\"x\": 7.81, \"y\": 26.73, \"z\": 10.22}});\n\tviewergrid_16802772782067091[0][1].addSphere({\"center\": {\"x\": 16.13, \"y\": 9.11, \"z\": 12.21}, \"radius\": 0.5, \"color\": \"green\", \"alpha\": 0.8});\n\tviewergrid_16802772782067091[0][1].addLabel(\"16 \\u2192 16\",{\"position\": {\"x\": 16.13, \"y\": 9.11, \"z\": 12.21}});\n\tviewergrid_16802772782067091[0][0].addSphere({\"center\": {\"x\": 15.14, \"y\": 22.82, \"z\": 12.01}, \"radius\": 0.5, \"color\": \"green\", \"alpha\": 0.8});\n\tviewergrid_16802772782067091[0][0].addLabel(\"17 \\u2192 18\",{\"position\": {\"x\": 15.14, \"y\": 22.82, \"z\": 12.01}});\n\tviewergrid_16802772782067091[0][1].addSphere({\"center\": {\"x\": 14.84, \"y\": 1.1, \"z\": 13.79}, \"radius\": 0.5, \"color\": \"green\", \"alpha\": 0.8});\n\tviewergrid_16802772782067091[0][1].addLabel(\"18 \\u2192 17\",{\"position\": {\"x\": 14.84, \"y\": 1.1, \"z\": 13.79}});\n\tviewergrid_16802772782067091[0][0].addSphere({\"center\": {\"x\": 13.87, \"y\": 21.57, \"z\": 12.01}, \"radius\": 0.5, \"color\": \"green\", \"alpha\": 0.8});\n\tviewergrid_16802772782067091[0][0].addLabel(\"18 \\u2192 19\",{\"position\": {\"x\": 13.87, \"y\": 21.57, \"z\": 12.01}});\n\tviewergrid_16802772782067091[0][1].addSphere({\"center\": {\"x\": 13.21, \"y\": 1.37, \"z\": 14.11}, \"radius\": 0.5, \"color\": \"green\", \"alpha\": 0.8});\n\tviewergrid_16802772782067091[0][1].addLabel(\"19 \\u2192 18\",{\"position\": {\"x\": 13.21, \"y\": 1.37, \"z\": 14.11}});\n\tviewergrid_16802772782067091[0][0].addSphere({\"center\": {\"x\": 14.15, \"y\": 22.54, \"z\": 10.58}, \"radius\": 0.5, \"color\": \"green\", \"alpha\": 0.8});\n\tviewergrid_16802772782067091[0][0].addLabel(\"19 \\u2192 17\",{\"position\": {\"x\": 14.15, \"y\": 22.54, \"z\": 10.58}});\n\tviewergrid_16802772782067091[0][1].addSphere({\"center\": {\"x\": 13.63, \"y\": 1.53, \"z\": 12.48}, \"radius\": 0.5, \"color\": \"green\", \"alpha\": 0.8});\n\tviewergrid_16802772782067091[0][1].addLabel(\"17 \\u2192 19\",{\"position\": {\"x\": 13.63, \"y\": 1.53, \"z\": 12.48}});\n\tviewergrid_16802772782067091[0][0].addSphere({\"center\": {\"x\": 7.61, \"y\": 25.31, \"z\": 12.0}, \"radius\": 0.5, \"color\": \"green\", \"alpha\": 0.8});\n\tviewergrid_16802772782067091[0][0].addLabel(\"20 \\u2192 20\",{\"position\": {\"x\": 7.61, \"y\": 25.31, \"z\": 12.0}});\n\tviewergrid_16802772782067091[0][1].addSphere({\"center\": {\"x\": 14.25, \"y\": 8.79, \"z\": 13.53}, \"radius\": 0.5, \"color\": \"green\", \"alpha\": 0.8});\n\tviewergrid_16802772782067091[0][1].addLabel(\"20 \\u2192 20\",{\"position\": {\"x\": 14.25, \"y\": 8.79, \"z\": 13.53}});\n\tviewergrid_16802772782067091[0][0].addSphere({\"center\": {\"x\": 7.4, \"y\": 26.95, \"z\": 12.56}, \"radius\": 0.5, \"color\": \"green\", \"alpha\": 0.8});\n\tviewergrid_16802772782067091[0][0].addLabel(\"21 \\u2192 21\",{\"position\": {\"x\": 7.4, \"y\": 26.95, \"z\": 12.56}});\n\tviewergrid_16802772782067091[0][1].addSphere({\"center\": {\"x\": 15.54, \"y\": 9.52, \"z\": 14.45}, \"radius\": 0.5, \"color\": \"green\", \"alpha\": 0.8});\n\tviewergrid_16802772782067091[0][1].addLabel(\"21 \\u2192 21\",{\"position\": {\"x\": 15.54, \"y\": 9.52, \"z\": 14.45}});\n\tviewergrid_16802772782067091[0][0].addSphere({\"center\": {\"x\": 14.1, \"y\": 25.32, \"z\": 12.18}, \"radius\": 0.5, \"color\": \"green\", \"alpha\": 0.8});\n\tviewergrid_16802772782067091[0][0].addLabel(\"22 \\u2192 22\",{\"position\": {\"x\": 14.1, \"y\": 25.32, \"z\": 12.18}});\n\tviewergrid_16802772782067091[0][1].addSphere({\"center\": {\"x\": 15.99, \"y\": 2.78, \"z\": 15.14}, \"radius\": 0.5, \"color\": \"green\", \"alpha\": 0.8});\n\tviewergrid_16802772782067091[0][1].addLabel(\"22 \\u2192 22\",{\"position\": {\"x\": 15.99, \"y\": 2.78, \"z\": 15.14}});\n\tviewergrid_16802772782067091[0][0].addSphere({\"center\": {\"x\": 9.16, \"y\": 28.14, \"z\": 13.17}, \"radius\": 0.5, \"color\": \"green\", \"alpha\": 0.8});\n\tviewergrid_16802772782067091[0][0].addLabel(\"23 \\u2192 23\",{\"position\": {\"x\": 9.16, \"y\": 28.14, \"z\": 13.17}});\n\tviewergrid_16802772782067091[0][1].addSphere({\"center\": {\"x\": 16.85, \"y\": 8.52, \"z\": 15.78}, \"radius\": 0.5, \"color\": \"green\", \"alpha\": 0.8});\n\tviewergrid_16802772782067091[0][1].addLabel(\"23 \\u2192 23\",{\"position\": {\"x\": 16.85, \"y\": 8.52, \"z\": 15.78}});\n\tviewergrid_16802772782067091[0][0].addSphere({\"center\": {\"x\": 9.15, \"y\": 23.23, \"z\": 12.03}, \"radius\": 0.5, \"color\": \"green\", \"alpha\": 0.8});\n\tviewergrid_16802772782067091[0][0].addLabel(\"24 \\u2192 24\",{\"position\": {\"x\": 9.15, \"y\": 23.23, \"z\": 12.03}});\n\tviewergrid_16802772782067091[0][1].addSphere({\"center\": {\"x\": 13.32, \"y\": 6.64, \"z\": 12.51}, \"radius\": 0.5, \"color\": \"green\", \"alpha\": 0.8});\n\tviewergrid_16802772782067091[0][1].addLabel(\"24 \\u2192 24\",{\"position\": {\"x\": 13.32, \"y\": 6.64, \"z\": 12.51}});\n\tviewergrid_16802772782067091[0][0].addSphere({\"center\": {\"x\": 7.26, \"y\": 25.12, \"z\": 9.1}, \"radius\": 0.5, \"color\": \"green\", \"alpha\": 0.8});\n\tviewergrid_16802772782067091[0][0].addLabel(\"25 \\u2192 25\",{\"position\": {\"x\": 7.26, \"y\": 25.12, \"z\": 9.1}});\n\tviewergrid_16802772782067091[0][1].addSphere({\"center\": {\"x\": 15.23, \"y\": 9.81, \"z\": 10.47}, \"radius\": 0.5, \"color\": \"green\", \"alpha\": 0.8});\n\tviewergrid_16802772782067091[0][1].addLabel(\"25 \\u2192 25\",{\"position\": {\"x\": 15.23, \"y\": 9.81, \"z\": 10.47}});\n\tviewergrid_16802772782067091[0][0].addSphere({\"center\": {\"x\": 11.41, \"y\": 21.91, \"z\": 11.74}, \"radius\": 0.5, \"color\": \"green\", \"alpha\": 0.8});\n\tviewergrid_16802772782067091[0][0].addLabel(\"26 \\u2192 26\",{\"position\": {\"x\": 11.41, \"y\": 21.91, \"z\": 11.74}});\n\tviewergrid_16802772782067091[0][1].addSphere({\"center\": {\"x\": 12.88, \"y\": 4.01, \"z\": 12.35}, \"radius\": 0.5, \"color\": \"green\", \"alpha\": 0.8});\n\tviewergrid_16802772782067091[0][1].addLabel(\"26 \\u2192 26\",{\"position\": {\"x\": 12.88, \"y\": 4.01, \"z\": 12.35}});\n\tviewergrid_16802772782067091[0][0].addSphere({\"center\": {\"x\": 8.69, \"y\": 23.29, \"z\": 13.02}, \"radius\": 0.5, \"color\": \"green\", \"alpha\": 0.8});\n\tviewergrid_16802772782067091[0][0].addLabel(\"28 \\u2192 27\",{\"position\": {\"x\": 8.69, \"y\": 23.29, \"z\": 13.02}});\n\tviewergrid_16802772782067091[0][1].addSphere({\"center\": {\"x\": 12.59, \"y\": 7.16, \"z\": 13.15}, \"radius\": 0.5, \"color\": \"green\", \"alpha\": 0.8});\n\tviewergrid_16802772782067091[0][1].addLabel(\"27 \\u2192 28\",{\"position\": {\"x\": 12.59, \"y\": 7.16, \"z\": 13.15}});\n\tviewergrid_16802772782067091[0][0].addSphere({\"center\": {\"x\": 9.11, \"y\": 22.2, \"z\": 11.67}, \"radius\": 0.5, \"color\": \"green\", \"alpha\": 0.8});\n\tviewergrid_16802772782067091[0][0].addLabel(\"29 \\u2192 28\",{\"position\": {\"x\": 9.11, \"y\": 22.2, \"z\": 11.67}});\n\tviewergrid_16802772782067091[0][1].addSphere({\"center\": {\"x\": 12.76, \"y\": 6.26, \"z\": 11.65}, \"radius\": 0.5, \"color\": \"green\", \"alpha\": 0.8});\n\tviewergrid_16802772782067091[0][1].addLabel(\"28 \\u2192 29\",{\"position\": {\"x\": 12.76, \"y\": 6.26, \"z\": 11.65}});\n\tviewergrid_16802772782067091[0][0].addSphere({\"center\": {\"x\": 8.48, \"y\": 23.59, \"z\": 11.23}, \"radius\": 0.5, \"color\": \"green\", \"alpha\": 0.8});\n\tviewergrid_16802772782067091[0][0].addLabel(\"30 \\u2192 29\",{\"position\": {\"x\": 8.48, \"y\": 23.59, \"z\": 11.23}});\n\tviewergrid_16802772782067091[0][1].addSphere({\"center\": {\"x\": 13.83, \"y\": 7.44, \"z\": 11.95}, \"radius\": 0.5, \"color\": \"green\", \"alpha\": 0.8});\n\tviewergrid_16802772782067091[0][1].addLabel(\"29 \\u2192 30\",{\"position\": {\"x\": 13.83, \"y\": 7.44, \"z\": 11.95}});\n\tviewergrid_16802772782067091[0][0].setBackgroundColor(\"white\");\n\tviewergrid_16802772782067091[0][1].setBackgroundColor(\"white\");\n\tviewergrid_16802772782067091[0][0].zoomTo();\n\tviewergrid_16802772782067091[0][1].zoomTo();\nviewergrid_16802772782067091[0][1].render();\nviewergrid_16802772782067091[0][0].render();\n});\n</script>",
      "text/html": [
       "<div id=\"3dmolviewer_16802772782067091\"  style=\"position: relative; width: 900px; height: 450px\">\n",
       "        <p id=\"3dmolwarning_16802772782067091\" style=\"background-color:#ffcccc;color:black\">You appear to be running in JupyterLab (or JavaScript failed to load for some other reason).  You need to install the 3dmol extension: <br>\n",
       "        <tt>jupyter labextension install jupyterlab_3dmol</tt></p>\n",
       "        </div>\n",
       "<script>\n",
       "\n",
       "var loadScriptAsync = function(uri){\n",
       "  return new Promise((resolve, reject) => {\n",
       "    //this is to ignore the existence of requirejs amd\n",
       "    var savedexports, savedmodule;\n",
       "    if (typeof exports !== 'undefined') savedexports = exports;\n",
       "    else exports = {}\n",
       "    if (typeof module !== 'undefined') savedmodule = module;\n",
       "    else module = {}\n",
       "\n",
       "    var tag = document.createElement('script');\n",
       "    tag.src = uri;\n",
       "    tag.async = true;\n",
       "    tag.onload = () => {\n",
       "        exports = savedexports;\n",
       "        module = savedmodule;\n",
       "        resolve();\n",
       "    };\n",
       "  var firstScriptTag = document.getElementsByTagName('script')[0];\n",
       "  firstScriptTag.parentNode.insertBefore(tag, firstScriptTag);\n",
       "});\n",
       "};\n",
       "\n",
       "if(typeof $3Dmolpromise === 'undefined') {\n",
       "$3Dmolpromise = null;\n",
       "  $3Dmolpromise = loadScriptAsync('https://cdnjs.cloudflare.com/ajax/libs/3Dmol/2.0.1/3Dmol-min.js');\n",
       "}\n",
       "\n",
       "var viewer_16802772782067091 = null;\n",
       "var warn = document.getElementById(\"3dmolwarning_16802772782067091\");\n",
       "if(warn) {\n",
       "    warn.parentNode.removeChild(warn);\n",
       "}\n",
       "$3Dmolpromise.then(function() {\n",
       "var viewergrid_16802772782067091 = null;\n",
       "viewergrid_16802772782067091 = $3Dmol.createViewerGrid(document.getElementById(\"3dmolviewer_16802772782067091\"),{rows: 1, cols: 2, control_all: false},{backgroundColor:\"white\"});\n",
       "viewer_16802772782067091 = viewergrid_16802772782067091[0][0];\n",
       "viewergrid_16802772782067091[0][0].zoomTo();viewergrid_16802772782067091[0][1].zoomTo();\tviewergrid_16802772782067091[0][0].addModel(\"MOL\\n     RDKit          3D\\n\\n 31 32  0  0  0  0  0  0  0  0999 V2000\\n   14.1200   22.5800   11.6800 C   0  0  0  0  0  0  0  0  0  0  0  0\\n   12.9400   23.5000   11.9500 C   0  0  0  0  0  5  0  0  0  0  0  0\\n   13.1000   24.8900   12.1400 C   0  0  0  0  0  0  0  0  0  0  0  0\\n   11.9800   25.6900   12.4500 C   0  0  0  0  0  0  0  0  0  0  0  0\\n   11.2700   27.8900   13.2100 C   0  0  0  0  0  0  0  0  0  0  0  0\\n    9.9300   27.3900   13.0800 C   0  0  0  0  0  0  0  0  0  0  0  0\\n    9.5100   26.2100   12.4700 C   0  0  0  0  0  5  0  0  0  0  0  0\\n    8.0600   26.3100   11.9700 C   0  0  0  0  0  0  0  0  0  0  0  0\\n   10.6600   25.2000   12.2900 C   0  0  0  0  0  6  0  0  0  0  0  0\\n   10.4900   23.8300   11.9400 C   0  0  0  0  0  5  0  0  0  0  0  0\\n   11.6100   22.9600   11.9400 C   0  0  0  0  0  5  0  0  0  0  0  0\\n   12.2500   26.9600   12.9800 N   0  0  0  0  0  0  0  0  0  0  0  0\\n   11.5100   29.0200   13.5300 O   0  0  0  0  0  0  0  0  0  0  0  0\\n    9.0100   26.6300    9.4100 O   0  0  0  0  0  0  0  0  0  0  0  0\\n    7.0800   28.0200   10.2700 O   0  0  0  0  0  0  0  0  0  0  0  0\\n    6.7300   25.7400    9.6400 O   0  0  0  0  0  0  0  0  0  0  0  0\\n    7.8100   26.7300   10.2200 P   0  0  0  0  0  6  0  0  0  0  0  0\\n   15.1400   22.8200   12.0100 H   0  0  0  0  0  0  0  0  0  0  0  0\\n   13.8700   21.5700   12.0100 H   0  0  0  0  0  0  0  0  0  0  0  0\\n   14.1500   22.5400   10.5800 H   0  0  0  0  0  0  0  0  0  0  0  0\\n    7.6100   25.3100   12.0000 H   0  0  0  0  0  0  0  0  0  0  0  0\\n    7.4000   26.9500   12.5600 H   0  0  0  0  0  0  0  0  0  0  0  0\\n   14.1000   25.3200   12.1800 H   0  0  0  0  0  0  0  0  0  0  0  0\\n    9.1600   28.1400   13.1700 H   0  0  0  0  0  0  0  0  0  0  0  0\\n    9.1500   23.2300   12.0300 C   0  0  0  0  0  0  0  0  0  0  0  0\\n    7.2600   25.1200    9.1000 H   0  0  0  0  0  0  0  0  0  0  0  0\\n   11.4100   21.9100   11.7400 H   0  0  0  0  0  0  0  0  0  0  0  0\\n   13.2000   27.1800   13.2400 H   0  0  0  0  0  0  0  0  0  0  0  0\\n    8.6900   23.2900   13.0200 H   0  0  0  0  0  0  0  0  0  0  0  0\\n    9.1100   22.2000   11.6700 H   0  0  0  0  0  0  0  0  0  0  0  0\\n    8.4800   23.5900   11.2300 H   0  0  0  0  0  0  0  0  0  0  0  0\\n  1  2  1  0\\n  1 18  1  0\\n  1 19  1  0\\n  1 20  1  0\\n  2  3  2  0\\n  2 11  2  0\\n  3  4  1  0\\n  3 23  1  0\\n  4  9  2  0\\n  4 12  1  0\\n  5  6  1  0\\n  5 12  1  0\\n  5 13  2  0\\n  6  7  2  0\\n  6 24  1  0\\n  7  8  1  0\\n  7  9  2  0\\n  8 17  1  0\\n  8 21  1  0\\n  8 22  1  0\\n  9 10  2  0\\n 10 11  2  0\\n 10 25  1  0\\n 11 27  1  0\\n 12 28  1  0\\n 14 17  2  0\\n 15 17  2  0\\n 16 17  1  0\\n 16 26  1  0\\n 25 29  1  0\\n 25 30  1  0\\n 25 31  1  0\\nM  RAD  1  17   2\\nM  END\\n\",\"mol0\");\n",
       "\tviewergrid_16802772782067091[0][1].addModel(\"MOL\\n     RDKit          3D\\n\\n 30 31  0  0  0  0  0  0  0  0999 V2000\\n   14.0200    1.7600   13.4800 C   0  0  0  0  0  0  0  0  0  0  0  0\\n   14.3000    3.2100   13.7900 C   0  0  0  0  0  5  0  0  0  0  0  0\\n   15.3500    3.5300   14.6800 C   0  0  0  0  0  0  0  0  0  0  0  0\\n   15.6700    4.8800   14.9300 C   0  0  0  0  0  0  0  0  0  0  0  0\\n   17.1300    6.3600   16.1800 C   0  0  0  0  0  0  0  0  0  0  0  0\\n   16.5300    7.5300   15.4600 C   0  0  0  0  0  0  0  0  0  0  0  0\\n   15.6100    7.3800   14.4700 C   0  0  0  0  0  5  0  0  0  0  0  0\\n   15.3200    8.6800   13.7800 C   0  0  0  0  0  0  0  0  0  0  0  0\\n   15.0500    5.9500   14.2600 C   0  0  0  0  0  6  0  0  0  0  0  0\\n   14.0400    5.6300   13.3300 C   0  0  0  0  0  5  0  0  0  0  0  0\\n   13.6700    4.2600   13.0600 C   0  0  0  0  0  5  0  0  0  0  0  0\\n   16.6800    5.1600   15.8800 O   0  0  0  0  0  0  0  0  0  0  0  0\\n   17.9700    6.5100   17.0500 O   0  0  0  0  0  0  0  0  0  0  0  0\\n   16.5800    7.8900   11.4900 O   0  0  0  0  0  0  0  0  0  0  0  0\\n   17.2200   10.0700   12.4700 O   0  0  0  0  0  0  0  0  0  0  0  0\\n   14.9700    9.9500   11.4000 O   0  0  0  0  0  0  0  0  0  0  0  0\\n   16.1300    9.1100   12.2100 P   0  0  0  0  0  6  0  0  0  0  0  0\\n   13.6300    1.5300   12.4800 H   0  0  0  0  0  0  0  0  0  0  0  0\\n   14.8400    1.1000   13.7900 H   0  0  0  0  0  0  0  0  0  0  0  0\\n   13.2100    1.3700   14.1100 H   0  0  0  0  0  0  0  0  0  0  0  0\\n   14.2500    8.7900   13.5300 H   0  0  0  0  0  0  0  0  0  0  0  0\\n   15.5400    9.5200   14.4500 H   0  0  0  0  0  0  0  0  0  0  0  0\\n   15.9900    2.7800   15.1400 H   0  0  0  0  0  0  0  0  0  0  0  0\\n   16.8500    8.5200   15.7800 H   0  0  0  0  0  0  0  0  0  0  0  0\\n   13.3200    6.6400   12.5100 C   0  0  0  0  0  0  0  0  0  0  0  0\\n   15.2300    9.8100   10.4700 H   0  0  0  0  0  0  0  0  0  0  0  0\\n   12.8800    4.0100   12.3500 H   0  0  0  0  0  0  0  0  0  0  0  0\\n   12.5900    7.1600   13.1500 H   0  0  0  0  0  0  0  0  0  0  0  0\\n   12.7600    6.2600   11.6500 H   0  0  0  0  0  0  0  0  0  0  0  0\\n   13.8300    7.4400   11.9500 H   0  0  0  0  0  0  0  0  0  0  0  0\\n  1  2  1  0\\n  1 18  1  0\\n  1 19  1  0\\n  1 20  1  0\\n  2  3  2  0\\n  2 11  2  0\\n  3  4  1  0\\n  3 23  1  0\\n  4  9  2  0\\n  4 12  1  0\\n  5  6  1  0\\n  5 12  1  0\\n  5 13  2  0\\n  6  7  2  0\\n  6 24  1  0\\n  7  8  1  0\\n  7  9  2  0\\n  8 17  1  0\\n  8 21  1  0\\n  8 22  1  0\\n  9 10  2  0\\n 10 11  2  0\\n 10 25  1  0\\n 11 27  1  0\\n 14 17  2  0\\n 15 17  2  0\\n 16 17  1  0\\n 16 26  1  0\\n 25 28  1  0\\n 25 29  1  0\\n 25 30  1  0\\nM  RAD  1  17   2\\nM  END\\n\",\"mol1\");\n",
       "\tviewergrid_16802772782067091[0][0].setStyle({\"model\": 0},{\"stick\": {\"colorscheme\": \"grayCarbon\", \"linewidth\": 0.1}});\n",
       "\tviewergrid_16802772782067091[0][1].setStyle({\"model\": 0},{\"stick\": {\"colorscheme\": \"grayCarbon\", \"linewidth\": 0.1}});\n",
       "\tviewergrid_16802772782067091[0][0].addSphere({\"center\": {\"x\": 14.12, \"y\": 22.58, \"z\": 11.68}, \"radius\": 0.5, \"color\": \"green\", \"alpha\": 0.8});\n",
       "\tviewergrid_16802772782067091[0][0].addLabel(\"0 \\u2192 0\",{\"position\": {\"x\": 14.12, \"y\": 22.58, \"z\": 11.68}});\n",
       "\tviewergrid_16802772782067091[0][1].addSphere({\"center\": {\"x\": 14.02, \"y\": 1.76, \"z\": 13.48}, \"radius\": 0.5, \"color\": \"green\", \"alpha\": 0.8});\n",
       "\tviewergrid_16802772782067091[0][1].addLabel(\"0 \\u2192 0\",{\"position\": {\"x\": 14.02, \"y\": 1.76, \"z\": 13.48}});\n",
       "\tviewergrid_16802772782067091[0][0].addSphere({\"center\": {\"x\": 12.94, \"y\": 23.5, \"z\": 11.95}, \"radius\": 0.5, \"color\": \"green\", \"alpha\": 0.8});\n",
       "\tviewergrid_16802772782067091[0][0].addLabel(\"1 \\u2192 1\",{\"position\": {\"x\": 12.94, \"y\": 23.5, \"z\": 11.95}});\n",
       "\tviewergrid_16802772782067091[0][1].addSphere({\"center\": {\"x\": 14.3, \"y\": 3.21, \"z\": 13.79}, \"radius\": 0.5, \"color\": \"green\", \"alpha\": 0.8});\n",
       "\tviewergrid_16802772782067091[0][1].addLabel(\"1 \\u2192 1\",{\"position\": {\"x\": 14.3, \"y\": 3.21, \"z\": 13.79}});\n",
       "\tviewergrid_16802772782067091[0][0].addSphere({\"center\": {\"x\": 13.1, \"y\": 24.89, \"z\": 12.14}, \"radius\": 0.5, \"color\": \"green\", \"alpha\": 0.8});\n",
       "\tviewergrid_16802772782067091[0][0].addLabel(\"2 \\u2192 2\",{\"position\": {\"x\": 13.1, \"y\": 24.89, \"z\": 12.14}});\n",
       "\tviewergrid_16802772782067091[0][1].addSphere({\"center\": {\"x\": 15.35, \"y\": 3.53, \"z\": 14.68}, \"radius\": 0.5, \"color\": \"green\", \"alpha\": 0.8});\n",
       "\tviewergrid_16802772782067091[0][1].addLabel(\"2 \\u2192 2\",{\"position\": {\"x\": 15.35, \"y\": 3.53, \"z\": 14.68}});\n",
       "\tviewergrid_16802772782067091[0][0].addSphere({\"center\": {\"x\": 11.98, \"y\": 25.69, \"z\": 12.45}, \"radius\": 0.5, \"color\": \"green\", \"alpha\": 0.8});\n",
       "\tviewergrid_16802772782067091[0][0].addLabel(\"3 \\u2192 3\",{\"position\": {\"x\": 11.98, \"y\": 25.69, \"z\": 12.45}});\n",
       "\tviewergrid_16802772782067091[0][1].addSphere({\"center\": {\"x\": 15.67, \"y\": 4.88, \"z\": 14.93}, \"radius\": 0.5, \"color\": \"green\", \"alpha\": 0.8});\n",
       "\tviewergrid_16802772782067091[0][1].addLabel(\"3 \\u2192 3\",{\"position\": {\"x\": 15.67, \"y\": 4.88, \"z\": 14.93}});\n",
       "\tviewergrid_16802772782067091[0][0].addSphere({\"center\": {\"x\": 11.27, \"y\": 27.89, \"z\": 13.21}, \"radius\": 0.5, \"color\": \"green\", \"alpha\": 0.8});\n",
       "\tviewergrid_16802772782067091[0][0].addLabel(\"4 \\u2192 4\",{\"position\": {\"x\": 11.27, \"y\": 27.89, \"z\": 13.21}});\n",
       "\tviewergrid_16802772782067091[0][1].addSphere({\"center\": {\"x\": 17.13, \"y\": 6.36, \"z\": 16.18}, \"radius\": 0.5, \"color\": \"green\", \"alpha\": 0.8});\n",
       "\tviewergrid_16802772782067091[0][1].addLabel(\"4 \\u2192 4\",{\"position\": {\"x\": 17.13, \"y\": 6.36, \"z\": 16.18}});\n",
       "\tviewergrid_16802772782067091[0][0].addSphere({\"center\": {\"x\": 9.93, \"y\": 27.39, \"z\": 13.08}, \"radius\": 0.5, \"color\": \"green\", \"alpha\": 0.8});\n",
       "\tviewergrid_16802772782067091[0][0].addLabel(\"5 \\u2192 5\",{\"position\": {\"x\": 9.93, \"y\": 27.39, \"z\": 13.08}});\n",
       "\tviewergrid_16802772782067091[0][1].addSphere({\"center\": {\"x\": 16.53, \"y\": 7.53, \"z\": 15.46}, \"radius\": 0.5, \"color\": \"green\", \"alpha\": 0.8});\n",
       "\tviewergrid_16802772782067091[0][1].addLabel(\"5 \\u2192 5\",{\"position\": {\"x\": 16.53, \"y\": 7.53, \"z\": 15.46}});\n",
       "\tviewergrid_16802772782067091[0][0].addSphere({\"center\": {\"x\": 9.51, \"y\": 26.21, \"z\": 12.47}, \"radius\": 0.5, \"color\": \"green\", \"alpha\": 0.8});\n",
       "\tviewergrid_16802772782067091[0][0].addLabel(\"6 \\u2192 6\",{\"position\": {\"x\": 9.51, \"y\": 26.21, \"z\": 12.47}});\n",
       "\tviewergrid_16802772782067091[0][1].addSphere({\"center\": {\"x\": 15.61, \"y\": 7.38, \"z\": 14.47}, \"radius\": 0.5, \"color\": \"green\", \"alpha\": 0.8});\n",
       "\tviewergrid_16802772782067091[0][1].addLabel(\"6 \\u2192 6\",{\"position\": {\"x\": 15.61, \"y\": 7.38, \"z\": 14.47}});\n",
       "\tviewergrid_16802772782067091[0][0].addSphere({\"center\": {\"x\": 8.06, \"y\": 26.31, \"z\": 11.97}, \"radius\": 0.5, \"color\": \"green\", \"alpha\": 0.8});\n",
       "\tviewergrid_16802772782067091[0][0].addLabel(\"7 \\u2192 7\",{\"position\": {\"x\": 8.06, \"y\": 26.31, \"z\": 11.97}});\n",
       "\tviewergrid_16802772782067091[0][1].addSphere({\"center\": {\"x\": 15.32, \"y\": 8.68, \"z\": 13.78}, \"radius\": 0.5, \"color\": \"green\", \"alpha\": 0.8});\n",
       "\tviewergrid_16802772782067091[0][1].addLabel(\"7 \\u2192 7\",{\"position\": {\"x\": 15.32, \"y\": 8.68, \"z\": 13.78}});\n",
       "\tviewergrid_16802772782067091[0][0].addSphere({\"center\": {\"x\": 10.66, \"y\": 25.2, \"z\": 12.29}, \"radius\": 0.5, \"color\": \"green\", \"alpha\": 0.8});\n",
       "\tviewergrid_16802772782067091[0][0].addLabel(\"8 \\u2192 8\",{\"position\": {\"x\": 10.66, \"y\": 25.2, \"z\": 12.29}});\n",
       "\tviewergrid_16802772782067091[0][1].addSphere({\"center\": {\"x\": 15.05, \"y\": 5.95, \"z\": 14.26}, \"radius\": 0.5, \"color\": \"green\", \"alpha\": 0.8});\n",
       "\tviewergrid_16802772782067091[0][1].addLabel(\"8 \\u2192 8\",{\"position\": {\"x\": 15.05, \"y\": 5.95, \"z\": 14.26}});\n",
       "\tviewergrid_16802772782067091[0][0].addSphere({\"center\": {\"x\": 10.49, \"y\": 23.83, \"z\": 11.94}, \"radius\": 0.5, \"color\": \"green\", \"alpha\": 0.8});\n",
       "\tviewergrid_16802772782067091[0][0].addLabel(\"9 \\u2192 9\",{\"position\": {\"x\": 10.49, \"y\": 23.83, \"z\": 11.94}});\n",
       "\tviewergrid_16802772782067091[0][1].addSphere({\"center\": {\"x\": 14.04, \"y\": 5.63, \"z\": 13.33}, \"radius\": 0.5, \"color\": \"green\", \"alpha\": 0.8});\n",
       "\tviewergrid_16802772782067091[0][1].addLabel(\"9 \\u2192 9\",{\"position\": {\"x\": 14.04, \"y\": 5.63, \"z\": 13.33}});\n",
       "\tviewergrid_16802772782067091[0][0].addSphere({\"center\": {\"x\": 11.61, \"y\": 22.96, \"z\": 11.94}, \"radius\": 0.5, \"color\": \"green\", \"alpha\": 0.8});\n",
       "\tviewergrid_16802772782067091[0][0].addLabel(\"10 \\u2192 10\",{\"position\": {\"x\": 11.61, \"y\": 22.96, \"z\": 11.94}});\n",
       "\tviewergrid_16802772782067091[0][1].addSphere({\"center\": {\"x\": 13.67, \"y\": 4.26, \"z\": 13.06}, \"radius\": 0.5, \"color\": \"green\", \"alpha\": 0.8});\n",
       "\tviewergrid_16802772782067091[0][1].addLabel(\"10 \\u2192 10\",{\"position\": {\"x\": 13.67, \"y\": 4.26, \"z\": 13.06}});\n",
       "\tviewergrid_16802772782067091[0][0].addSphere({\"center\": {\"x\": 12.25, \"y\": 26.96, \"z\": 12.98}, \"radius\": 0.5, \"color\": \"green\", \"alpha\": 0.8});\n",
       "\tviewergrid_16802772782067091[0][0].addLabel(\"11 \\u2192 11\",{\"position\": {\"x\": 12.25, \"y\": 26.96, \"z\": 12.98}});\n",
       "\tviewergrid_16802772782067091[0][1].addSphere({\"center\": {\"x\": 16.68, \"y\": 5.16, \"z\": 15.88}, \"radius\": 0.5, \"color\": \"green\", \"alpha\": 0.8});\n",
       "\tviewergrid_16802772782067091[0][1].addLabel(\"11 \\u2192 11\",{\"position\": {\"x\": 16.68, \"y\": 5.16, \"z\": 15.88}});\n",
       "\tviewergrid_16802772782067091[0][0].addSphere({\"center\": {\"x\": 11.51, \"y\": 29.02, \"z\": 13.53}, \"radius\": 0.5, \"color\": \"green\", \"alpha\": 0.8});\n",
       "\tviewergrid_16802772782067091[0][0].addLabel(\"12 \\u2192 12\",{\"position\": {\"x\": 11.51, \"y\": 29.02, \"z\": 13.53}});\n",
       "\tviewergrid_16802772782067091[0][1].addSphere({\"center\": {\"x\": 17.97, \"y\": 6.51, \"z\": 17.05}, \"radius\": 0.5, \"color\": \"green\", \"alpha\": 0.8});\n",
       "\tviewergrid_16802772782067091[0][1].addLabel(\"12 \\u2192 12\",{\"position\": {\"x\": 17.97, \"y\": 6.51, \"z\": 17.05}});\n",
       "\tviewergrid_16802772782067091[0][0].addSphere({\"center\": {\"x\": 9.01, \"y\": 26.63, \"z\": 9.41}, \"radius\": 0.5, \"color\": \"green\", \"alpha\": 0.8});\n",
       "\tviewergrid_16802772782067091[0][0].addLabel(\"13 \\u2192 13\",{\"position\": {\"x\": 9.01, \"y\": 26.63, \"z\": 9.41}});\n",
       "\tviewergrid_16802772782067091[0][1].addSphere({\"center\": {\"x\": 16.58, \"y\": 7.89, \"z\": 11.49}, \"radius\": 0.5, \"color\": \"green\", \"alpha\": 0.8});\n",
       "\tviewergrid_16802772782067091[0][1].addLabel(\"13 \\u2192 13\",{\"position\": {\"x\": 16.58, \"y\": 7.89, \"z\": 11.49}});\n",
       "\tviewergrid_16802772782067091[0][0].addSphere({\"center\": {\"x\": 7.08, \"y\": 28.02, \"z\": 10.27}, \"radius\": 0.5, \"color\": \"green\", \"alpha\": 0.8});\n",
       "\tviewergrid_16802772782067091[0][0].addLabel(\"14 \\u2192 14\",{\"position\": {\"x\": 7.08, \"y\": 28.02, \"z\": 10.27}});\n",
       "\tviewergrid_16802772782067091[0][1].addSphere({\"center\": {\"x\": 17.22, \"y\": 10.07, \"z\": 12.47}, \"radius\": 0.5, \"color\": \"green\", \"alpha\": 0.8});\n",
       "\tviewergrid_16802772782067091[0][1].addLabel(\"14 \\u2192 14\",{\"position\": {\"x\": 17.22, \"y\": 10.07, \"z\": 12.47}});\n",
       "\tviewergrid_16802772782067091[0][0].addSphere({\"center\": {\"x\": 6.73, \"y\": 25.74, \"z\": 9.64}, \"radius\": 0.5, \"color\": \"green\", \"alpha\": 0.8});\n",
       "\tviewergrid_16802772782067091[0][0].addLabel(\"15 \\u2192 15\",{\"position\": {\"x\": 6.73, \"y\": 25.74, \"z\": 9.64}});\n",
       "\tviewergrid_16802772782067091[0][1].addSphere({\"center\": {\"x\": 14.97, \"y\": 9.95, \"z\": 11.4}, \"radius\": 0.5, \"color\": \"green\", \"alpha\": 0.8});\n",
       "\tviewergrid_16802772782067091[0][1].addLabel(\"15 \\u2192 15\",{\"position\": {\"x\": 14.97, \"y\": 9.95, \"z\": 11.4}});\n",
       "\tviewergrid_16802772782067091[0][0].addSphere({\"center\": {\"x\": 7.81, \"y\": 26.73, \"z\": 10.22}, \"radius\": 0.5, \"color\": \"green\", \"alpha\": 0.8});\n",
       "\tviewergrid_16802772782067091[0][0].addLabel(\"16 \\u2192 16\",{\"position\": {\"x\": 7.81, \"y\": 26.73, \"z\": 10.22}});\n",
       "\tviewergrid_16802772782067091[0][1].addSphere({\"center\": {\"x\": 16.13, \"y\": 9.11, \"z\": 12.21}, \"radius\": 0.5, \"color\": \"green\", \"alpha\": 0.8});\n",
       "\tviewergrid_16802772782067091[0][1].addLabel(\"16 \\u2192 16\",{\"position\": {\"x\": 16.13, \"y\": 9.11, \"z\": 12.21}});\n",
       "\tviewergrid_16802772782067091[0][0].addSphere({\"center\": {\"x\": 15.14, \"y\": 22.82, \"z\": 12.01}, \"radius\": 0.5, \"color\": \"green\", \"alpha\": 0.8});\n",
       "\tviewergrid_16802772782067091[0][0].addLabel(\"17 \\u2192 18\",{\"position\": {\"x\": 15.14, \"y\": 22.82, \"z\": 12.01}});\n",
       "\tviewergrid_16802772782067091[0][1].addSphere({\"center\": {\"x\": 14.84, \"y\": 1.1, \"z\": 13.79}, \"radius\": 0.5, \"color\": \"green\", \"alpha\": 0.8});\n",
       "\tviewergrid_16802772782067091[0][1].addLabel(\"18 \\u2192 17\",{\"position\": {\"x\": 14.84, \"y\": 1.1, \"z\": 13.79}});\n",
       "\tviewergrid_16802772782067091[0][0].addSphere({\"center\": {\"x\": 13.87, \"y\": 21.57, \"z\": 12.01}, \"radius\": 0.5, \"color\": \"green\", \"alpha\": 0.8});\n",
       "\tviewergrid_16802772782067091[0][0].addLabel(\"18 \\u2192 19\",{\"position\": {\"x\": 13.87, \"y\": 21.57, \"z\": 12.01}});\n",
       "\tviewergrid_16802772782067091[0][1].addSphere({\"center\": {\"x\": 13.21, \"y\": 1.37, \"z\": 14.11}, \"radius\": 0.5, \"color\": \"green\", \"alpha\": 0.8});\n",
       "\tviewergrid_16802772782067091[0][1].addLabel(\"19 \\u2192 18\",{\"position\": {\"x\": 13.21, \"y\": 1.37, \"z\": 14.11}});\n",
       "\tviewergrid_16802772782067091[0][0].addSphere({\"center\": {\"x\": 14.15, \"y\": 22.54, \"z\": 10.58}, \"radius\": 0.5, \"color\": \"green\", \"alpha\": 0.8});\n",
       "\tviewergrid_16802772782067091[0][0].addLabel(\"19 \\u2192 17\",{\"position\": {\"x\": 14.15, \"y\": 22.54, \"z\": 10.58}});\n",
       "\tviewergrid_16802772782067091[0][1].addSphere({\"center\": {\"x\": 13.63, \"y\": 1.53, \"z\": 12.48}, \"radius\": 0.5, \"color\": \"green\", \"alpha\": 0.8});\n",
       "\tviewergrid_16802772782067091[0][1].addLabel(\"17 \\u2192 19\",{\"position\": {\"x\": 13.63, \"y\": 1.53, \"z\": 12.48}});\n",
       "\tviewergrid_16802772782067091[0][0].addSphere({\"center\": {\"x\": 7.61, \"y\": 25.31, \"z\": 12.0}, \"radius\": 0.5, \"color\": \"green\", \"alpha\": 0.8});\n",
       "\tviewergrid_16802772782067091[0][0].addLabel(\"20 \\u2192 20\",{\"position\": {\"x\": 7.61, \"y\": 25.31, \"z\": 12.0}});\n",
       "\tviewergrid_16802772782067091[0][1].addSphere({\"center\": {\"x\": 14.25, \"y\": 8.79, \"z\": 13.53}, \"radius\": 0.5, \"color\": \"green\", \"alpha\": 0.8});\n",
       "\tviewergrid_16802772782067091[0][1].addLabel(\"20 \\u2192 20\",{\"position\": {\"x\": 14.25, \"y\": 8.79, \"z\": 13.53}});\n",
       "\tviewergrid_16802772782067091[0][0].addSphere({\"center\": {\"x\": 7.4, \"y\": 26.95, \"z\": 12.56}, \"radius\": 0.5, \"color\": \"green\", \"alpha\": 0.8});\n",
       "\tviewergrid_16802772782067091[0][0].addLabel(\"21 \\u2192 21\",{\"position\": {\"x\": 7.4, \"y\": 26.95, \"z\": 12.56}});\n",
       "\tviewergrid_16802772782067091[0][1].addSphere({\"center\": {\"x\": 15.54, \"y\": 9.52, \"z\": 14.45}, \"radius\": 0.5, \"color\": \"green\", \"alpha\": 0.8});\n",
       "\tviewergrid_16802772782067091[0][1].addLabel(\"21 \\u2192 21\",{\"position\": {\"x\": 15.54, \"y\": 9.52, \"z\": 14.45}});\n",
       "\tviewergrid_16802772782067091[0][0].addSphere({\"center\": {\"x\": 14.1, \"y\": 25.32, \"z\": 12.18}, \"radius\": 0.5, \"color\": \"green\", \"alpha\": 0.8});\n",
       "\tviewergrid_16802772782067091[0][0].addLabel(\"22 \\u2192 22\",{\"position\": {\"x\": 14.1, \"y\": 25.32, \"z\": 12.18}});\n",
       "\tviewergrid_16802772782067091[0][1].addSphere({\"center\": {\"x\": 15.99, \"y\": 2.78, \"z\": 15.14}, \"radius\": 0.5, \"color\": \"green\", \"alpha\": 0.8});\n",
       "\tviewergrid_16802772782067091[0][1].addLabel(\"22 \\u2192 22\",{\"position\": {\"x\": 15.99, \"y\": 2.78, \"z\": 15.14}});\n",
       "\tviewergrid_16802772782067091[0][0].addSphere({\"center\": {\"x\": 9.16, \"y\": 28.14, \"z\": 13.17}, \"radius\": 0.5, \"color\": \"green\", \"alpha\": 0.8});\n",
       "\tviewergrid_16802772782067091[0][0].addLabel(\"23 \\u2192 23\",{\"position\": {\"x\": 9.16, \"y\": 28.14, \"z\": 13.17}});\n",
       "\tviewergrid_16802772782067091[0][1].addSphere({\"center\": {\"x\": 16.85, \"y\": 8.52, \"z\": 15.78}, \"radius\": 0.5, \"color\": \"green\", \"alpha\": 0.8});\n",
       "\tviewergrid_16802772782067091[0][1].addLabel(\"23 \\u2192 23\",{\"position\": {\"x\": 16.85, \"y\": 8.52, \"z\": 15.78}});\n",
       "\tviewergrid_16802772782067091[0][0].addSphere({\"center\": {\"x\": 9.15, \"y\": 23.23, \"z\": 12.03}, \"radius\": 0.5, \"color\": \"green\", \"alpha\": 0.8});\n",
       "\tviewergrid_16802772782067091[0][0].addLabel(\"24 \\u2192 24\",{\"position\": {\"x\": 9.15, \"y\": 23.23, \"z\": 12.03}});\n",
       "\tviewergrid_16802772782067091[0][1].addSphere({\"center\": {\"x\": 13.32, \"y\": 6.64, \"z\": 12.51}, \"radius\": 0.5, \"color\": \"green\", \"alpha\": 0.8});\n",
       "\tviewergrid_16802772782067091[0][1].addLabel(\"24 \\u2192 24\",{\"position\": {\"x\": 13.32, \"y\": 6.64, \"z\": 12.51}});\n",
       "\tviewergrid_16802772782067091[0][0].addSphere({\"center\": {\"x\": 7.26, \"y\": 25.12, \"z\": 9.1}, \"radius\": 0.5, \"color\": \"green\", \"alpha\": 0.8});\n",
       "\tviewergrid_16802772782067091[0][0].addLabel(\"25 \\u2192 25\",{\"position\": {\"x\": 7.26, \"y\": 25.12, \"z\": 9.1}});\n",
       "\tviewergrid_16802772782067091[0][1].addSphere({\"center\": {\"x\": 15.23, \"y\": 9.81, \"z\": 10.47}, \"radius\": 0.5, \"color\": \"green\", \"alpha\": 0.8});\n",
       "\tviewergrid_16802772782067091[0][1].addLabel(\"25 \\u2192 25\",{\"position\": {\"x\": 15.23, \"y\": 9.81, \"z\": 10.47}});\n",
       "\tviewergrid_16802772782067091[0][0].addSphere({\"center\": {\"x\": 11.41, \"y\": 21.91, \"z\": 11.74}, \"radius\": 0.5, \"color\": \"green\", \"alpha\": 0.8});\n",
       "\tviewergrid_16802772782067091[0][0].addLabel(\"26 \\u2192 26\",{\"position\": {\"x\": 11.41, \"y\": 21.91, \"z\": 11.74}});\n",
       "\tviewergrid_16802772782067091[0][1].addSphere({\"center\": {\"x\": 12.88, \"y\": 4.01, \"z\": 12.35}, \"radius\": 0.5, \"color\": \"green\", \"alpha\": 0.8});\n",
       "\tviewergrid_16802772782067091[0][1].addLabel(\"26 \\u2192 26\",{\"position\": {\"x\": 12.88, \"y\": 4.01, \"z\": 12.35}});\n",
       "\tviewergrid_16802772782067091[0][0].addSphere({\"center\": {\"x\": 8.69, \"y\": 23.29, \"z\": 13.02}, \"radius\": 0.5, \"color\": \"green\", \"alpha\": 0.8});\n",
       "\tviewergrid_16802772782067091[0][0].addLabel(\"28 \\u2192 27\",{\"position\": {\"x\": 8.69, \"y\": 23.29, \"z\": 13.02}});\n",
       "\tviewergrid_16802772782067091[0][1].addSphere({\"center\": {\"x\": 12.59, \"y\": 7.16, \"z\": 13.15}, \"radius\": 0.5, \"color\": \"green\", \"alpha\": 0.8});\n",
       "\tviewergrid_16802772782067091[0][1].addLabel(\"27 \\u2192 28\",{\"position\": {\"x\": 12.59, \"y\": 7.16, \"z\": 13.15}});\n",
       "\tviewergrid_16802772782067091[0][0].addSphere({\"center\": {\"x\": 9.11, \"y\": 22.2, \"z\": 11.67}, \"radius\": 0.5, \"color\": \"green\", \"alpha\": 0.8});\n",
       "\tviewergrid_16802772782067091[0][0].addLabel(\"29 \\u2192 28\",{\"position\": {\"x\": 9.11, \"y\": 22.2, \"z\": 11.67}});\n",
       "\tviewergrid_16802772782067091[0][1].addSphere({\"center\": {\"x\": 12.76, \"y\": 6.26, \"z\": 11.65}, \"radius\": 0.5, \"color\": \"green\", \"alpha\": 0.8});\n",
       "\tviewergrid_16802772782067091[0][1].addLabel(\"28 \\u2192 29\",{\"position\": {\"x\": 12.76, \"y\": 6.26, \"z\": 11.65}});\n",
       "\tviewergrid_16802772782067091[0][0].addSphere({\"center\": {\"x\": 8.48, \"y\": 23.59, \"z\": 11.23}, \"radius\": 0.5, \"color\": \"green\", \"alpha\": 0.8});\n",
       "\tviewergrid_16802772782067091[0][0].addLabel(\"30 \\u2192 29\",{\"position\": {\"x\": 8.48, \"y\": 23.59, \"z\": 11.23}});\n",
       "\tviewergrid_16802772782067091[0][1].addSphere({\"center\": {\"x\": 13.83, \"y\": 7.44, \"z\": 11.95}, \"radius\": 0.5, \"color\": \"green\", \"alpha\": 0.8});\n",
       "\tviewergrid_16802772782067091[0][1].addLabel(\"29 \\u2192 30\",{\"position\": {\"x\": 13.83, \"y\": 7.44, \"z\": 11.95}});\n",
       "\tviewergrid_16802772782067091[0][0].setBackgroundColor(\"white\");\n",
       "\tviewergrid_16802772782067091[0][1].setBackgroundColor(\"white\");\n",
       "\tviewergrid_16802772782067091[0][0].zoomTo();\n",
       "\tviewergrid_16802772782067091[0][1].zoomTo();\n",
       "viewergrid_16802772782067091[0][1].render();\n",
       "viewergrid_16802772782067091[0][0].render();\n",
       "});\n",
       "</script>"
      ]
     },
     "metadata": {},
     "output_type": "display_data"
    },
    {
     "data": {
      "text/plain": [
       "<py3Dmol.view at 0x7f7cf0c10eb0>"
      ]
     },
     "execution_count": 4,
     "metadata": {},
     "output_type": "execute_result"
    }
   ],
   "source": [
    "bss.Align.viewMapping(ligand_1, ligand_2, mapping)"
   ]
  },
  {
   "cell_type": "code",
   "execution_count": 7,
   "metadata": {},
   "outputs": [
    {
     "name": "stdout",
     "output_type": "stream",
     "text": [
      "Carbon (C, 6) Carbon (C, 6)\n",
      "Carbon (C, 6) Carbon (C, 6)\n",
      "Carbon (C, 6) Carbon (C, 6)\n",
      "Carbon (C, 6) Carbon (C, 6)\n",
      "Carbon (C, 6) Carbon (C, 6)\n",
      "Carbon (C, 6) Carbon (C, 6)\n",
      "Carbon (C, 6) Carbon (C, 6)\n",
      "Carbon (C, 6) Carbon (C, 6)\n",
      "Carbon (C, 6) Carbon (C, 6)\n",
      "Carbon (C, 6) Carbon (C, 6)\n",
      "Carbon (C, 6) Carbon (C, 6)\n",
      "Nitrogen (N, 7) Oxygen (O, 8)\n",
      "Oxygen (O, 8) Oxygen (O, 8)\n",
      "Oxygen (O, 8) Oxygen (O, 8)\n",
      "Oxygen (O, 8) Oxygen (O, 8)\n",
      "Oxygen (O, 8) Oxygen (O, 8)\n",
      "Phosphorus (P, 15) Phosphorus (P, 15)\n",
      "Hydrogen (H, 1) Hydrogen (H, 1)\n",
      "Hydrogen (H, 1) Hydrogen (H, 1)\n",
      "Hydrogen (H, 1) Hydrogen (H, 1)\n",
      "Hydrogen (H, 1) Hydrogen (H, 1)\n",
      "Hydrogen (H, 1) Hydrogen (H, 1)\n",
      "Hydrogen (H, 1) Hydrogen (H, 1)\n",
      "Hydrogen (H, 1) Hydrogen (H, 1)\n",
      "Carbon (C, 6) Carbon (C, 6)\n",
      "Hydrogen (H, 1) Hydrogen (H, 1)\n",
      "Hydrogen (H, 1) Hydrogen (H, 1)\n",
      "Hydrogen (H, 1) dummy (Xx, 0)\n",
      "Hydrogen (H, 1) Hydrogen (H, 1)\n",
      "Hydrogen (H, 1) Hydrogen (H, 1)\n",
      "Hydrogen (H, 1) Hydrogen (H, 1)\n"
     ]
    }
   ],
   "source": [
    "for atom in merged_ligands.getAtoms():\n",
    "    print(atom._sire_object.property(\"element0\"), atom._sire_object.property(\"element1\"))"
   ]
  },
  {
   "cell_type": "code",
   "execution_count": 5,
   "metadata": {},
   "outputs": [
    {
     "data": {
      "text/plain": [
       "<BioSimSpace.FreeEnergy._relative.Relative at 0x7f7cf00b7a00>"
      ]
     },
     "execution_count": 5,
     "metadata": {},
     "output_type": "execute_result"
    }
   ],
   "source": [
    "free_energy_protocol = bss.Protocol.FreeEnergy()\n",
    "bss.FreeEnergy.Relative(unbound_system, free_energy_protocol, work_dir=\"/home/jguven/projects/metalloenzymes/scripts/\")"
   ]
  },
  {
   "cell_type": "code",
   "execution_count": 13,
   "metadata": {},
   "outputs": [
    {
     "name": "stdout",
     "output_type": "stream",
     "text": [
      "got molecules\n"
     ]
    }
   ],
   "source": [
    "bound_path = \"../kpc2/equilibration/bound/\"\n",
    "ligand_1_number = 13\n",
    "ligand_2_number = 6\n",
    "system_1 = bss.IO.readMolecules([f\"{bound_path}/system_{ligand_1_number}/npt/system_{ligand_1_number}.prm7\",\n",
    "                                        f\"{bound_path}/system_{ligand_1_number}/npt/system_{ligand_1_number}.rst7\"])\n",
    "system_2 = bss.IO.readMolecules([f\"{bound_path}/system_{ligand_2_number}/npt/system_{ligand_2_number}.prm7\",\n",
    "                                    f\"{bound_path}/system_{ligand_2_number}/npt/system_{ligand_2_number}.rst7\"])\n",
    "system_1_ligand = None\n",
    "protein = None\n",
    "n_residues = [molecule.nResidues() for molecule in system_1]\n",
    "n_atoms = [molecule.nAtoms() for molecule in system_1]\n",
    "for j, (n_residues, n_atoms) in enumerate(zip(n_residues[:20], n_atoms[:20])):\n",
    "    if n_residues == 1 and n_atoms > 5:\n",
    "        system_1_ligand = system_1.getMolecule(j)\n",
    "    elif n_residues > 1:\n",
    "        protein = system_1.getMolecule(j)\n",
    "    else:\n",
    "        pass\n",
    "\n",
    "system_2_ligand = None\n",
    "n_residues = [molecule.nResidues() for molecule in system_2]\n",
    "n_atoms = [molecule.nAtoms() for molecule in system_2]\n",
    "for j, (n_residues, n_atoms) in enumerate(zip(n_residues, n_atoms)):\n",
    "    if n_residues == 1 and n_atoms > 5:\n",
    "        system_2_ligand = system_2.getMolecule(j)\n",
    "    else:\n",
    "        pass    \n",
    "\n",
    "if system_1_ligand and system_2_ligand and protein:\n",
    "    print(f\"got molecules\")\n",
    "else:\n",
    "    print(\"didn't work\")\n",
    "\n",
    "mapping = bss.Align.matchAtoms(system_1_ligand, system_2_ligand, complete_rings_only=True)\n",
    "inverse_mapping = {value:key for key,value in mapping.items()}\n",
    "\n",
    "system_2_ligand_aligned = bss.Align.rmsdAlign(system_2_ligand, system_1_ligand, inverse_mapping)\n",
    "\n",
    "bound_merged_ligands = bss.Align.merge(system_1_ligand, system_2_ligand_aligned, mapping, allow_ring_breaking=True, allow_ring_size_change=True)\n",
    "\n",
    "system_1.removeMolecules(system_1_ligand)\n",
    "system_1.addMolecules(bound_merged_ligands)\n",
    "bound_system = system_1"
   ]
  },
  {
   "cell_type": "code",
   "execution_count": 25,
   "metadata": {},
   "outputs": [
    {
     "data": {
      "text/plain": [
       "<BioSimSpace.Molecule: number=19468, nAtoms=31, nResidues=1>"
      ]
     },
     "execution_count": 25,
     "metadata": {},
     "output_type": "execute_result"
    }
   ],
   "source": []
  },
  {
   "cell_type": "code",
   "execution_count": 14,
   "metadata": {},
   "outputs": [
    {
     "data": {
      "text/plain": [
       "<BioSimSpace.FreeEnergy._relative.Relative at 0x7efed526b5b0>"
      ]
     },
     "execution_count": 14,
     "metadata": {},
     "output_type": "execute_result"
    }
   ],
   "source": [
    "bss.FreeEnergy.Relative(bound_system, free_energy_protocol, work_dir=\"/home/jguven/projects/metalloenzymes/scripts/\")"
   ]
  },
  {
   "cell_type": "code",
   "execution_count": 6,
   "metadata": {},
   "outputs": [
    {
     "name": "stdout",
     "output_type": "stream",
     "text": [
      "0.6327603865593754\n"
     ]
    }
   ],
   "source": [
    "second = mda.Universe(\"/home/jguven/projects/metalloenzymes/kpc2/inputs/protein/protein_complex.pdb\")\n",
    "first = mda.Universe(\"/home/jguven/projects/metalloenzymes/kpc2/inputs/protein/protein_1.pdb\")\n",
    "second_positions = second.select_atoms(\"protein\").positions\n",
    "first_positions = first.select_atoms(\"protein\").positions\n",
    "rmsd = MDAnalysis.analysis.rms.rmsd(second_positions, first_positions)\n",
    "print(rmsd)"
   ]
  },
  {
   "cell_type": "code",
   "execution_count": 3,
   "metadata": {},
   "outputs": [],
   "source": [
    "full_path = os.getcwd() + \"/\"\n",
    "if \"scripts\" in full_path:\n",
    "    full_path = full_path.replace(\"/scripts/\", \"/\")\n",
    "equilibration_path = full_path + \"/kpc2/\" + \"/equilibration/\"\n",
    "bound_path = equilibration_path + \"bound/\"\n",
    "ligand_1_number = 1\n",
    "ligand_2_number = 2\n",
    "system_1_gmx = bss.IO.readMolecules([f\"{bound_path}/system_{ligand_1_number}/npt/npt.gro\",\n",
    "                                     f\"{bound_path}/system_{ligand_1_number}/npt/npt.top\"])\n",
    "system_2_gmx = bss.IO.readMolecules([f\"{bound_path}/system_{ligand_2_number}/npt/npt.gro\",\n",
    "                                     f\"{bound_path}/system_{ligand_2_number}/npt/npt.top\"])\n"
   ]
  },
  {
   "cell_type": "code",
   "execution_count": 5,
   "metadata": {},
   "outputs": [
    {
     "ename": "OSError",
     "evalue": "Failed to save system to format: 'RST7'",
     "output_type": "error",
     "traceback": [
      "\u001b[0;31m---------------------------------------------------------------------------\u001b[0m",
      "\u001b[0;31mOSError\u001b[0m                                   Traceback (most recent call last)",
      "Cell \u001b[0;32mIn [5], line 1\u001b[0m\n\u001b[0;32m----> 1\u001b[0m system_1_amber \u001b[39m=\u001b[39m bss\u001b[39m.\u001b[39;49mIO\u001b[39m.\u001b[39;49msaveMolecules(\u001b[39mf\u001b[39;49m\u001b[39m\"\u001b[39;49m\u001b[39m{\u001b[39;49;00mbound_path\u001b[39m}\u001b[39;49;00m\u001b[39m/system_\u001b[39;49m\u001b[39m{\u001b[39;49;00mligand_1_number\u001b[39m}\u001b[39;49;00m\u001b[39m/ligand_\u001b[39;49m\u001b[39m{\u001b[39;49;00mligand_1_number\u001b[39m}\u001b[39;49;00m\u001b[39m\"\u001b[39;49m, system_1_gmx, [\u001b[39m\"\u001b[39;49m\u001b[39mPRM7\u001b[39;49m\u001b[39m\"\u001b[39;49m, \u001b[39m\"\u001b[39;49m\u001b[39mRST7\u001b[39;49m\u001b[39m\"\u001b[39;49m])\n\u001b[1;32m      2\u001b[0m system_2_amber \u001b[39m=\u001b[39m bss\u001b[39m.\u001b[39mIO\u001b[39m.\u001b[39msaveMolecules(\u001b[39mf\u001b[39m\u001b[39m\"\u001b[39m\u001b[39m{\u001b[39;00mbound_path\u001b[39m}\u001b[39;00m\u001b[39m/system_\u001b[39m\u001b[39m{\u001b[39;00mligand_2_number\u001b[39m}\u001b[39;00m\u001b[39m/ligand_\u001b[39m\u001b[39m{\u001b[39;00mligand_2_number\u001b[39m}\u001b[39;00m\u001b[39m\"\u001b[39m, system_2_gmx, [\u001b[39m\"\u001b[39m\u001b[39mPRM7\u001b[39m\u001b[39m\"\u001b[39m, \u001b[39m\"\u001b[39m\u001b[39mRST7\u001b[39m\u001b[39m\"\u001b[39m])\n",
      "File \u001b[0;32m~/BioSimSpace/python/BioSimSpace/IO/_io.py:686\u001b[0m, in \u001b[0;36msaveMolecules\u001b[0;34m(filebase, system, fileformat, property_map)\u001b[0m\n\u001b[1;32m    684\u001b[0m             \u001b[39mraise\u001b[39;00m \u001b[39mIOError\u001b[39;00m(msg) \u001b[39mfrom\u001b[39;00m \u001b[39me\u001b[39;00m\n\u001b[1;32m    685\u001b[0m         \u001b[39melse\u001b[39;00m:\n\u001b[0;32m--> 686\u001b[0m             \u001b[39mraise\u001b[39;00m \u001b[39mIOError\u001b[39;00m(msg) \u001b[39mfrom\u001b[39;00m \u001b[39mNone\u001b[39m\n\u001b[1;32m    688\u001b[0m \u001b[39m# Change back to the original directory.\u001b[39;00m\n\u001b[1;32m    689\u001b[0m \u001b[39mif\u001b[39;00m dirname \u001b[39m!=\u001b[39m \u001b[39m\"\u001b[39m\u001b[39m\"\u001b[39m:\n",
      "\u001b[0;31mOSError\u001b[0m: Failed to save system to format: 'RST7'"
     ]
    }
   ],
   "source": [
    "system_1_amber = bss.IO.saveMolecules(f\"{bound_path}/system_{ligand_1_number}/ligand_{ligand_1_number}\", system_1_gmx, [\"PRM7\", \"RST7\"])\n",
    "system_2_amber = bss.IO.saveMolecules(f\"{bound_path}/system_{ligand_2_number}/ligand_{ligand_2_number}\", system_2_gmx, [\"PRM7\", \"RST7\"])\n",
    "    "
   ]
  },
  {
   "cell_type": "code",
   "execution_count": 6,
   "metadata": {},
   "outputs": [
    {
     "data": {
      "application/vnd.jupyter.widget-view+json": {
       "model_id": "8f16293f98d342bab0d7df6659d49535",
       "version_major": 2,
       "version_minor": 0
      },
      "text/plain": [
       "NGLWidget()"
      ]
     },
     "metadata": {},
     "output_type": "display_data"
    }
   ],
   "source": [
    "lig_14_system = mda.Universe(\"../kpc2/equilibration/bound/system_14/r_nvt/r_nvt.gro\")\n",
    "nv.show_mdanalysis(lig_14_system)"
   ]
  },
  {
   "cell_type": "code",
   "execution_count": 16,
   "metadata": {},
   "outputs": [
    {
     "name": "stdout",
     "output_type": "stream",
     "text": [
      "-10.0000 |e|\n",
      "<BioSimSpace.Molecule: nAtoms=1, nResidues=1>\n"
     ]
    }
   ],
   "source": [
    "vim2_dry = bss.IO.readMolecules([\"../vim_2/playground/vim2_dry.prmtop\",\n",
    "                                 \"../vim_2/playground/vim2_dry.inpcrd\"])[0]\n",
    "print(vim2_dry.charge())     \n",
    "\n",
    "print(vim2_dry.extract([232]))"
   ]
  },
  {
   "cell_type": "code",
   "execution_count": 45,
   "metadata": {},
   "outputs": [
    {
     "name": "stdout",
     "output_type": "stream",
     "text": [
      "ligand charge -0.7114419266581535\n",
      "residue HD1 83 has charge 0.054078073939308524\n",
      "residue HE1 85 has charge 0.5690882261842489\n",
      "residue AP1 87 has charge -0.3650490939617157\n",
      "residue HD2 148 has charge 0.25752707151696086\n",
      "residue CS1 167 has charge -0.31586899794638157\n",
      "residue HD3 209 has charge 0.41295304521918297\n",
      "residue ZN1 231 has charge 0.9915969967842102\n",
      "residue ZN2 232 has charge 1.107118010520935\n",
      "2.7114433322567493\n",
      "-9.288554110797122\n"
     ]
    }
   ],
   "source": [
    "universe = mda.Universe(\"../vim_2/playground/vim2_dry.prmtop\",\n",
    "                        \"../vim_2/playground/vim2_dry.inpcrd\")\n",
    "system = universe.select_atoms(\"all\")\n",
    "ligand = universe.select_atoms(\"resname PT1\")\n",
    "print(f\"ligand charge {ligand.total_charge()}\")\n",
    "active_site = pd.read_csv(\"../vim_2/inputs/protein/active_site.csv\", header=None, names=[\"resname\", \"resid\"])\n",
    "active_site_resnames = active_site[\"resname\"].tolist()\n",
    "\n",
    "resnames = system.residues.resnames\n",
    "resids = system.residues.resids\n",
    "charges = []\n",
    "other_charges = []\n",
    "for i in range(len(resids)):\n",
    "    if resnames[i] in active_site_resnames:\n",
    "        residue = universe.select_atoms(f\"resname {resnames[i]}\")\n",
    "        charge = residue.total_charge()\n",
    "        print(f\"residue {resnames[i]} {resids[i]} has charge {charge}\")\n",
    "        charges.append(float(charge))\n",
    "\n",
    "    # if resnames[i] != \"PT1\" and resnames[i] != \"WAT\" and resnames[i] not in active_site_resnames:\n",
    "    #     residue = universe.select_atoms(f\"resname {resnames[i]}\")\n",
    "    #     charge = residue.total_charge()\n",
    "    #     other_charges.append(float(charge))\n",
    "\n",
    "net_charge = sum(charges)\n",
    "print(net_charge)\n",
    "\n",
    "not_ligand = universe.select_atoms(\"not resname PT1\")\n",
    "print(not_ligand.total_charge())\n"
   ]
  },
  {
   "cell_type": "code",
   "execution_count": 49,
   "metadata": {},
   "outputs": [
    {
     "name": "stdout",
     "output_type": "stream",
     "text": [
      "82 ACE\n",
      "83 HID\n",
      "84 GLY\n",
      "85 HIE\n",
      "86 GLY\n",
      "87 ASP\n",
      "88 NME\n",
      "147 ACE\n",
      "148 HID\n",
      "149 NME\n",
      "166 ACE\n",
      "167 CYS\n",
      "168 NME\n",
      "208 ACE\n",
      "209 HID\n",
      "210 NME\n",
      "231 ZN\n",
      "232 ZN\n",
      "233 P9T\n"
     ]
    }
   ],
   "source": [
    "universe = mda.Universe(\"../md_vim2/outputs/vim2_large.pdb\")\n",
    "vim2_large = universe.select_atoms(\"all\")\n",
    "resids = vim2_large.residues.resids\n",
    "resnames = vim2_large.residues.resnames\n",
    "for i in range(len(resids)):\n",
    "    print(f\"{resids[i]} {resnames[i]}\")"
   ]
  },
  {
   "cell_type": "code",
   "execution_count": 46,
   "metadata": {},
   "outputs": [
    {
     "name": "stdout",
     "output_type": "stream",
     "text": [
      "0.0\n"
     ]
    }
   ],
   "source": [
    "    "
   ]
  },
  {
   "cell_type": "code",
   "execution_count": 4,
   "metadata": {},
   "outputs": [
    {
     "name": "stdout",
     "output_type": "stream",
     "text": [
      "0.0000e+00 |e|\n"
     ]
    }
   ],
   "source": [
    "ligand = bss.IO.readMolecules(\"../vim_2/inputs/ligands/docked_1.sdf\")[0]\n",
    "print(ligand.charge())"
   ]
  },
  {
   "cell_type": "code",
   "execution_count": 9,
   "metadata": {},
   "outputs": [
    {
     "name": "stdout",
     "output_type": "stream",
     "text": [
      "<BioSimSpace.Molecule: nAtoms=3456, nResidues=245>\n",
      "0.0000e+00 |e|\n"
     ]
    }
   ],
   "source": [
    "hpp = bss.IO.readMolecules(\"../vim_2/inputs/protein/vim2_hpp.pdb\")[0]\n",
    "print(hpp)\n",
    "print(hpp.charge())"
   ]
  },
  {
   "cell_type": "code",
   "execution_count": 11,
   "metadata": {},
   "outputs": [
    {
     "name": "stdout",
     "output_type": "stream",
     "text": [
      "-0.7114 |e|\n"
     ]
    }
   ],
   "source": [
    "pt1 = bss.IO.readMolecules(\"../vim_2/inputs/protein/PT1.mol2\")[0]\n",
    "print(pt1.charge())"
   ]
  },
  {
   "cell_type": "code",
   "execution_count": 10,
   "metadata": {},
   "outputs": [
    {
     "name": "stdout",
     "output_type": "stream",
     "text": [
      "<BioSimSpace.Molecule: nAtoms=3417, nResidues=232>\n",
      "-9.2886 |e|\n"
     ]
    }
   ],
   "source": [
    "protein = bss.IO.readMolecules([\"../vim_2/inputs/protein/prot_water.prm7\",\n",
    "                                \"../vim_2/inputs/protein/prot_water.rst7\"])[0]\n",
    "print(protein)                                \n",
    "print(protein.charge())                                "
   ]
  },
  {
   "cell_type": "code",
   "execution_count": 15,
   "metadata": {},
   "outputs": [
    {
     "data": {
      "application/vnd.jupyter.widget-view+json": {
       "model_id": "d793bbebf68047b1b293b1d49fdeb0d4",
       "version_major": 2,
       "version_minor": 0
      },
      "text/plain": [
       "NGLWidget()"
      ]
     },
     "metadata": {},
     "output_type": "display_data"
    }
   ],
   "source": [
    "nv.show_file(\"../kpc2/equilibration/unbound/ligand_8/r_nvt/r_nvt.gro\")"
   ]
  },
  {
   "cell_type": "code",
   "execution_count": 22,
   "metadata": {},
   "outputs": [],
   "source": [
    "active_site = pd.read_csv(\"../vim_2/inputs/protein/active_site.csv\", header=None, names=[\"resname\", \"resid\"])\n",
    "active_site_residues = active_site[\"resname\"].tolist()\n",
    "active_site_residue_ids = active_site[\"resid\"].tolist()\n",
    "\n",
    "universe = mda.Universe(\"../vim_2/inputs/protein/protein_complex.pdb\")\n",
    "atom_group = universe.select_atoms(f\"resid {active_site_residue_ids[0]}\")\n",
    "atom_group.residues.resnames = active_site_residues[0]\n",
    "atom_group.residues.resnames\n",
    "universe.select_atoms(f\"resid {active_site_residue_ids[0]}\").resnames\n",
    "universe.atoms.write(\"test.pdb\")\n"
   ]
  },
  {
   "cell_type": "code",
   "execution_count": 13,
   "metadata": {},
   "outputs": [
    {
     "ename": "AttributeError",
     "evalue": "module 'csv' has no attribute 'readlines'",
     "output_type": "error",
     "traceback": [
      "\u001b[0;31m---------------------------------------------------------------------------\u001b[0m",
      "\u001b[0;31mAttributeError\u001b[0m                            Traceback (most recent call last)",
      "Cell \u001b[0;32mIn [13], line 3\u001b[0m\n\u001b[1;32m      1\u001b[0m \u001b[39mimport\u001b[39;00m \u001b[39mcsv\u001b[39;00m\n\u001b[1;32m      2\u001b[0m \u001b[39mwith\u001b[39;00m \u001b[39mopen\u001b[39m(\u001b[39m'\u001b[39m\u001b[39m../vim_2/inputs/protein/active_site.csv\u001b[39m\u001b[39m'\u001b[39m, \u001b[39m'\u001b[39m\u001b[39mr\u001b[39m\u001b[39m'\u001b[39m) \u001b[39mas\u001b[39;00m file:\n\u001b[0;32m----> 3\u001b[0m     reader \u001b[39m=\u001b[39m csv\u001b[39m.\u001b[39;49mreadlines()\n\u001b[1;32m      6\u001b[0m \u001b[39m# returns ','\u001b[39;00m\n",
      "\u001b[0;31mAttributeError\u001b[0m: module 'csv' has no attribute 'readlines'"
     ]
    }
   ],
   "source": [
    "import csv\n",
    "with open('../vim_2/inputs/protein/active_site.csv', 'r') as file:\n",
    "    reader = csv.readlines()\n",
    "\n",
    "\n",
    "# returns ','"
   ]
  },
  {
   "cell_type": "code",
   "execution_count": 4,
   "metadata": {},
   "outputs": [
    {
     "data": {
      "text/html": [
       "<div>\n",
       "<style scoped>\n",
       "    .dataframe tbody tr th:only-of-type {\n",
       "        vertical-align: middle;\n",
       "    }\n",
       "\n",
       "    .dataframe tbody tr th {\n",
       "        vertical-align: top;\n",
       "    }\n",
       "\n",
       "    .dataframe thead th {\n",
       "        text-align: right;\n",
       "    }\n",
       "</style>\n",
       "<table border=\"1\" class=\"dataframe\">\n",
       "  <thead>\n",
       "    <tr style=\"text-align: right;\">\n",
       "      <th></th>\n",
       "      <th>resname</th>\n",
       "      <th>resid</th>\n",
       "    </tr>\n",
       "  </thead>\n",
       "  <tbody>\n",
       "    <tr>\n",
       "      <th>0</th>\n",
       "      <td>HD1 83</td>\n",
       "      <td>NaN</td>\n",
       "    </tr>\n",
       "    <tr>\n",
       "      <th>1</th>\n",
       "      <td>HE1 85</td>\n",
       "      <td>NaN</td>\n",
       "    </tr>\n",
       "    <tr>\n",
       "      <th>2</th>\n",
       "      <td>AP1 87</td>\n",
       "      <td>NaN</td>\n",
       "    </tr>\n",
       "    <tr>\n",
       "      <th>3</th>\n",
       "      <td>HD2 148</td>\n",
       "      <td>NaN</td>\n",
       "    </tr>\n",
       "    <tr>\n",
       "      <th>4</th>\n",
       "      <td>CS1 167</td>\n",
       "      <td>NaN</td>\n",
       "    </tr>\n",
       "    <tr>\n",
       "      <th>5</th>\n",
       "      <td>HD3 209</td>\n",
       "      <td>NaN</td>\n",
       "    </tr>\n",
       "  </tbody>\n",
       "</table>\n",
       "</div>"
      ],
      "text/plain": [
       "   resname  resid\n",
       "0   HD1 83    NaN\n",
       "1   HE1 85    NaN\n",
       "2   AP1 87    NaN\n",
       "3  HD2 148    NaN\n",
       "4  CS1 167    NaN\n",
       "5  HD3 209    NaN"
      ]
     },
     "execution_count": 4,
     "metadata": {},
     "output_type": "execute_result"
    }
   ],
   "source": [
    "active_site = pd.read_csv(\"../vim_2/inputs/protein/active_site_copy.txt\", header=None, names=[\"resname\", \"resid\"])\n",
    "active_site"
   ]
  },
  {
   "cell_type": "code",
   "execution_count": 2,
   "metadata": {},
   "outputs": [
    {
     "name": "stdout",
     "output_type": "stream",
     "text": [
      "['../kpc2/inputs/ligands/ligand_1_solvated.gro', '../kpc2/inputs/ligands/ligand_1_solvated.top']\n"
     ]
    }
   ],
   "source": [
    "import glob\n",
    "test = glob.glob(\"../kpc2/inputs/ligands/ligand_1_solvated*\")\n",
    "print(test)"
   ]
  },
  {
   "cell_type": "code",
   "execution_count": 2,
   "metadata": {},
   "outputs": [
    {
     "name": "stderr",
     "output_type": "stream",
     "text": [
      "/home/jguven/Software/miniconda3/envs/sire/lib/python3.9/site-packages/alchemlyb/preprocessing/subsampling.py:135: FutureWarning: In a future version of pandas all arguments of DataFrame.sort_index will be keyword-only.\n",
      "  return df.sort_index(0).reset_index('time').duplicated('time').any()\n",
      "/home/jguven/Software/miniconda3/envs/sire/lib/python3.9/site-packages/alchemlyb/preprocessing/subsampling.py:133: FutureWarning: In a future version of pandas all arguments of Series.sort_index will be keyword-only.\n",
      "  return df.sort_index(0).reset_index('time', name='').duplicated('time').any()\n",
      "/home/jguven/Software/miniconda3/envs/sire/lib/python3.9/site-packages/alchemlyb/preprocessing/subsampling.py:135: FutureWarning: In a future version of pandas all arguments of DataFrame.sort_index will be keyword-only.\n",
      "  return df.sort_index(0).reset_index('time').duplicated('time').any()\n",
      "/home/jguven/Software/miniconda3/envs/sire/lib/python3.9/site-packages/alchemlyb/preprocessing/subsampling.py:133: FutureWarning: In a future version of pandas all arguments of Series.sort_index will be keyword-only.\n",
      "  return df.sort_index(0).reset_index('time', name='').duplicated('time').any()\n",
      "/home/jguven/Software/miniconda3/envs/sire/lib/python3.9/site-packages/alchemlyb/preprocessing/subsampling.py:135: FutureWarning: In a future version of pandas all arguments of DataFrame.sort_index will be keyword-only.\n",
      "  return df.sort_index(0).reset_index('time').duplicated('time').any()\n",
      "/home/jguven/Software/miniconda3/envs/sire/lib/python3.9/site-packages/alchemlyb/preprocessing/subsampling.py:133: FutureWarning: In a future version of pandas all arguments of Series.sort_index will be keyword-only.\n",
      "  return df.sort_index(0).reset_index('time', name='').duplicated('time').any()\n",
      "/home/jguven/Software/miniconda3/envs/sire/lib/python3.9/site-packages/alchemlyb/preprocessing/subsampling.py:135: FutureWarning: In a future version of pandas all arguments of DataFrame.sort_index will be keyword-only.\n",
      "  return df.sort_index(0).reset_index('time').duplicated('time').any()\n",
      "/home/jguven/Software/miniconda3/envs/sire/lib/python3.9/site-packages/alchemlyb/preprocessing/subsampling.py:133: FutureWarning: In a future version of pandas all arguments of Series.sort_index will be keyword-only.\n",
      "  return df.sort_index(0).reset_index('time', name='').duplicated('time').any()\n",
      "/home/jguven/Software/miniconda3/envs/sire/lib/python3.9/site-packages/alchemlyb/preprocessing/subsampling.py:135: FutureWarning: In a future version of pandas all arguments of DataFrame.sort_index will be keyword-only.\n",
      "  return df.sort_index(0).reset_index('time').duplicated('time').any()\n",
      "/home/jguven/Software/miniconda3/envs/sire/lib/python3.9/site-packages/alchemlyb/preprocessing/subsampling.py:133: FutureWarning: In a future version of pandas all arguments of Series.sort_index will be keyword-only.\n",
      "  return df.sort_index(0).reset_index('time', name='').duplicated('time').any()\n",
      "/home/jguven/Software/miniconda3/envs/sire/lib/python3.9/site-packages/alchemlyb/preprocessing/subsampling.py:135: FutureWarning: In a future version of pandas all arguments of DataFrame.sort_index will be keyword-only.\n",
      "  return df.sort_index(0).reset_index('time').duplicated('time').any()\n",
      "/home/jguven/Software/miniconda3/envs/sire/lib/python3.9/site-packages/alchemlyb/preprocessing/subsampling.py:133: FutureWarning: In a future version of pandas all arguments of Series.sort_index will be keyword-only.\n",
      "  return df.sort_index(0).reset_index('time', name='').duplicated('time').any()\n",
      "/home/jguven/Software/miniconda3/envs/sire/lib/python3.9/site-packages/alchemlyb/preprocessing/subsampling.py:135: FutureWarning: In a future version of pandas all arguments of DataFrame.sort_index will be keyword-only.\n",
      "  return df.sort_index(0).reset_index('time').duplicated('time').any()\n",
      "/home/jguven/Software/miniconda3/envs/sire/lib/python3.9/site-packages/alchemlyb/preprocessing/subsampling.py:133: FutureWarning: In a future version of pandas all arguments of Series.sort_index will be keyword-only.\n",
      "  return df.sort_index(0).reset_index('time', name='').duplicated('time').any()\n",
      "/home/jguven/Software/miniconda3/envs/sire/lib/python3.9/site-packages/alchemlyb/preprocessing/subsampling.py:135: FutureWarning: In a future version of pandas all arguments of DataFrame.sort_index will be keyword-only.\n",
      "  return df.sort_index(0).reset_index('time').duplicated('time').any()\n",
      "/home/jguven/Software/miniconda3/envs/sire/lib/python3.9/site-packages/alchemlyb/preprocessing/subsampling.py:133: FutureWarning: In a future version of pandas all arguments of Series.sort_index will be keyword-only.\n",
      "  return df.sort_index(0).reset_index('time', name='').duplicated('time').any()\n",
      "/home/jguven/Software/miniconda3/envs/sire/lib/python3.9/site-packages/alchemlyb/preprocessing/subsampling.py:135: FutureWarning: In a future version of pandas all arguments of DataFrame.sort_index will be keyword-only.\n",
      "  return df.sort_index(0).reset_index('time').duplicated('time').any()\n",
      "/home/jguven/Software/miniconda3/envs/sire/lib/python3.9/site-packages/alchemlyb/preprocessing/subsampling.py:133: FutureWarning: In a future version of pandas all arguments of Series.sort_index will be keyword-only.\n",
      "  return df.sort_index(0).reset_index('time', name='').duplicated('time').any()\n"
     ]
    }
   ],
   "source": [
    "free_directory = \"/home/jguven/unbound/\"\n",
    "pmf_free, overlap_matrix_free = bss.FreeEnergy.Relative.analyse(free_directory)\n",
    "\n",
    "pmf_bound, overlap_matrix_bound = bss.FreeEnergy.Relative.analyse(bound_directory)\n",
    "free_energy_difference, free_energy_error = bss.FreeEnergy.Relative.difference(pmf_bound, pmf_free)"
   ]
  },
  {
   "cell_type": "code",
   "execution_count": 3,
   "metadata": {},
   "outputs": [
    {
     "data": {
      "text/plain": [
       "[(0.0, 0.0000e+00 kcal/mol, 0.1263 kcal/mol),\n",
       " (0.125, 9.4915 kcal/mol, 0.0000e+00 kcal/mol),\n",
       " (0.25, 6.3567 kcal/mol, 0.1496 kcal/mol),\n",
       " (0.375, -1.9805 kcal/mol, 0.1575 kcal/mol),\n",
       " (0.5, -11.7766 kcal/mol, 0.1598 kcal/mol),\n",
       " (0.625, -6.9513 kcal/mol, 0.1647 kcal/mol),\n",
       " (0.75, 16.9964 kcal/mol, 0.7148 kcal/mol),\n",
       " (0.875, 34.2116 kcal/mol, 0.6545 kcal/mol),\n",
       " (1.0, 42.5350 kcal/mol, 0.6464 kcal/mol)]"
      ]
     },
     "execution_count": 3,
     "metadata": {},
     "output_type": "execute_result"
    }
   ],
   "source": [
    "pmf_free"
   ]
  },
  {
   "cell_type": "code",
   "execution_count": 4,
   "metadata": {},
   "outputs": [
    {
     "data": {
      "text/plain": [
       "matrix([[9.97193833e-01, 2.71904833e-03, 1.14636118e-05, 1.75632486e-12,\n",
       "         5.28367192e-15, 2.34408067e-17, 1.13940050e-12, 1.15846327e-08,\n",
       "         7.56432246e-05],\n",
       "        [8.92222584e-03, 9.84741734e-01, 6.33547540e-03, 4.02486897e-07,\n",
       "         6.14447531e-09, 7.07260002e-10, 9.73846692e-13, 2.37954497e-09,\n",
       "         1.53059092e-07],\n",
       "        [2.31939541e-05, 3.90639581e-03, 9.59299807e-01, 3.62058081e-02,\n",
       "         3.39304264e-04, 1.49291498e-04, 6.18717281e-05, 1.38934843e-05,\n",
       "         4.33852762e-07],\n",
       "        [3.81602359e-12, 2.66502731e-07, 3.88804360e-02, 8.17854822e-01,\n",
       "         1.37151472e-01, 6.11298115e-03, 2.23662098e-08, 9.05586163e-13,\n",
       "         1.31654640e-13],\n",
       "        [5.28367192e-15, 1.87252885e-09, 1.67701132e-04, 6.31239650e-02,\n",
       "         9.14384656e-01, 2.23236760e-02, 1.99819867e-13, 1.36207282e-21,\n",
       "         7.03771152e-23],\n",
       "        [2.34408067e-17, 2.15537486e-10, 7.37873228e-05, 2.81349957e-03,\n",
       "         2.23236760e-02, 9.74789036e-01, 9.02619530e-10, 2.10700472e-19,\n",
       "         2.12218430e-23],\n",
       "        [1.13940050e-12, 2.96779779e-13, 3.05801016e-05, 1.02940481e-08,\n",
       "         1.99819867e-13, 9.02619530e-10, 9.99754064e-01, 2.15344228e-04,\n",
       "         3.17976682e-10],\n",
       "        [1.15846327e-08, 7.25166331e-10, 6.86685464e-06, 4.16796032e-13,\n",
       "         1.36207282e-21, 2.10700472e-19, 2.15344228e-04, 9.98180343e-01,\n",
       "         1.59743375e-03],\n",
       "        [7.56432246e-05, 4.66447583e-08, 2.14431727e-07, 6.05940481e-14,\n",
       "         7.03771152e-23, 2.12218430e-23, 3.17976682e-10, 1.59743375e-03,\n",
       "         9.98326662e-01]])"
      ]
     },
     "execution_count": 4,
     "metadata": {},
     "output_type": "execute_result"
    }
   ],
   "source": [
    "overlap_matrix_free"
   ]
  },
  {
   "cell_type": "code",
   "execution_count": 13,
   "metadata": {},
   "outputs": [],
   "source": [
    "import numpy as np\n",
    "n_windows = 11\n",
    "lambda_array = list(np.around(np.linspace(0, 1, int(n_windows)), decimals=5))\n",
    "lambda_list = [str(item) for item in lambda_array]\n",
    "\n",
    "lambda_array_bash = \" \".join(lambda_list)\n",
    "with open(\"test.dat\", \"w\") as file:\n",
    "    file.write(lambda_array_bash)"
   ]
  },
  {
   "cell_type": "code",
   "execution_count": 3,
   "metadata": {},
   "outputs": [
    {
     "name": "stdout",
     "output_type": "stream",
     "text": [
      "   ATOM atom_id name resname resid        X       Y       Z   num  zero  \\\n",
      "0  ATOM       1    N     GLU     1  -16.230  -5.653  12.548  0.00  0.00   \n",
      "1  ATOM       2   H1     GLU     1  -15.787  -6.381  12.805  0.23  0.00   \n",
      "2  ATOM       3   H2     GLU     1  -17.036  -5.649  12.925  0.23  0.00   \n",
      "3  ATOM       4   H3     GLU     1  -16.317  -5.657  11.662  0.23  0.00   \n",
      "4  ATOM       5   CA     GLU     1  -15.494  -4.464  12.960  0.05  0.00   \n",
      "\n",
      "  element  \n",
      "0       N  \n",
      "1       H  \n",
      "2       H  \n",
      "3       H  \n",
      "4       C  \n"
     ]
    },
    {
     "name": "stdout",
     "output_type": "stream",
     "text": [
      "\n",
      "==============================================================\n",
      "Sending anonymous Sire usage statistics to http://siremol.org.\n",
      "For more information, see http://siremol.org/analytics\n",
      "To disable, set the environment variable 'SIRE_DONT_PHONEHOME' to 1\n",
      "To see the information sent, set the environment variable \n",
      "SIRE_VERBOSE_PHONEHOME equal to 1. To silence this message, set\n",
      "the environment variable SIRE_SILENT_PHONEHOME to 1.\n",
      "==============================================================\n",
      "\n"
     ]
    }
   ],
   "source": [
    "columns = [\"ATOM\", \"atom_id\", \"name\", \"resname\", \"resid\", \"X\", \"Y\", \"Z\", \"num\", \"zero\", \"element\"]\n",
    "pdb = pd.read_csv(\"../vim_2/inputs/protein/protein_complex.pdb\", sep=\"\\s+\", skiprows=1, header=None, dtype=str, names=columns).dropna()\n",
    "print(pdb.head())\n",
    "\n",
    "pd_to_list = lambda column: pdb[column].tolist()\n",
    "atoms = pd_to_list(\"ATOM\")\n",
    "atom_ids = pd_to_list(\"atom_id\")\n",
    "atom_names = pd_to_list(\"name\")\n",
    "residue_names = pd_to_list(\"resname\")\n",
    "residue_ids = pd_to_list(\"resid\")\n",
    "x, y, z = pd_to_list(\"X\"), pd_to_list(\"Y\"), pd_to_list(\"Z\")\n",
    "numbers = pd_to_list(\"num\")\n",
    "zeros = pd_to_list(\"zero\")\n",
    "elements = pd_to_list(\"element\")"
   ]
  },
  {
   "cell_type": "code",
   "execution_count": 4,
   "metadata": {},
   "outputs": [
    {
     "name": "stdout",
     "output_type": "stream",
     "text": [
      "HD1\n",
      "HD1\n",
      "HD1\n",
      "HD1\n",
      "HD1\n",
      "HD1\n",
      "HD1\n",
      "HD1\n",
      "HD1\n",
      "HD1\n",
      "HD1\n",
      "HD1\n",
      "HD1\n",
      "HD1\n",
      "HD1\n",
      "HD1\n",
      "HD1\n",
      "HE1\n",
      "HE1\n",
      "HE1\n",
      "HE1\n",
      "HE1\n",
      "HE1\n",
      "HE1\n",
      "HE1\n",
      "HE1\n",
      "HE1\n",
      "HE1\n",
      "HE1\n",
      "HE1\n",
      "HE1\n",
      "HE1\n",
      "HE1\n",
      "HE1\n",
      "AP1\n",
      "AP1\n",
      "AP1\n",
      "AP1\n",
      "AP1\n",
      "AP1\n",
      "AP1\n",
      "AP1\n",
      "AP1\n",
      "AP1\n",
      "AP1\n",
      "AP1\n",
      "HD2\n",
      "HD2\n",
      "HD2\n",
      "HD2\n",
      "HD2\n",
      "HD2\n",
      "HD2\n",
      "HD2\n",
      "HD2\n",
      "HD2\n",
      "HD2\n",
      "HD2\n",
      "HD2\n",
      "HD2\n",
      "HD2\n",
      "HD2\n",
      "HD2\n",
      "CS1\n",
      "CS1\n",
      "CS1\n",
      "CS1\n",
      "CS1\n",
      "CS1\n",
      "CS1\n",
      "CS1\n",
      "CS1\n",
      "CS1\n",
      "HD3\n",
      "HD3\n",
      "HD3\n",
      "HD3\n",
      "HD3\n",
      "HD3\n",
      "HD3\n",
      "HD3\n",
      "HD3\n",
      "HD3\n",
      "HD3\n",
      "HD3\n",
      "HD3\n",
      "HD3\n",
      "HD3\n",
      "HD3\n",
      "HD3\n"
     ]
    }
   ],
   "source": [
    "active_site_df = pd.read_csv(\"../vim_2/inputs/protein/active_site.csv\", header=None, names=[\"resname\", \"resid\"], dtype=str)\n",
    "# print(active_site_df.head())\n",
    "\n",
    "active_site_resnames = active_site_df[\"resname\"].tolist()\n",
    "active_site_resids = active_site_df[\"resid\"].tolist()\n",
    "\n",
    "for i in range(len(active_site_resnames)):\n",
    "    for j in range(len(residue_ids)):\n",
    "        if residue_ids[j] == active_site_resids[i].strip():\n",
    "            residue_names[j] = active_site_resnames[i]\n",
    "            print(residue_names[j])"
   ]
  },
  {
   "cell_type": "code",
   "execution_count": 31,
   "metadata": {},
   "outputs": [],
   "source": [
    "complex_file = \"../vim_2/inputs/protein/protein_complex.pdb\"\n",
    "\n",
    "with open(\"test.pdb\", \"w\") as pdb:\n",
    "    for i in range(len(residue_names)):\n",
    "        pdb.write(f\"{atoms[i]:10}{atom_ids[i]:4}{atom_names[i]:4}{residue_names[i]:8}{residue_ids[i]:5}{x[i]:9}{y[i]}  {z[i]:9}\\n\")\n"
   ]
  },
  {
   "cell_type": "code",
   "execution_count": 48,
   "metadata": {},
   "outputs": [
    {
     "name": "stdout",
     "output_type": "stream",
     "text": [
      "Z N  \n"
     ]
    }
   ],
   "source": [
    "complex_file = \"../vim_2/inputs/protein/protein_complex.pdb\"\n",
    "with open(complex_file, \"r\") as pdb:\n",
    "    lines = pdb.readlines()\n",
    "\n",
    "n_zn = 0\n",
    "for line in lines:\n",
    "    if \"ZN\" in line:\n",
    "        n_zn += 1\n",
    "\n",
    "\n",
    "protein_terminus = [i for i in range(len(lines)) if \"ZN\" in lines[i]][0] - 1\n",
    "zn_line = protein_terminus+1\n",
    "ids = []\n",
    "for i in range(len(lines[zn_line])):\n",
    "    c = lines[zn_line][i]\n",
    "    if c == \"Z\":\n",
    "        ids.append(i)\n",
    "\n",
    "test = lines[zn_line]\n",
    "print(test[ids[1]], test[ids[1]+1], test[ids[1]+2])\n",
    "\n",
    "zn_terminus = protein_terminus + n_zn + 1\n",
    "conect = [i for i in range(len(lines)) if \"CONECT\" in lines[i]][0]\n",
    "with open(\"test.pdb\", \"w\") as test:\n",
    "    atom = \"ATOM\"\n",
    "    test.write(f\"{atom:10}1\")"
   ]
  },
  {
   "cell_type": "code",
   "execution_count": 4,
   "metadata": {},
   "outputs": [
    {
     "name": "stdout",
     "output_type": "stream",
     "text": [
      "HEADER                                                                          \n",
      "TITLE     A P9T 403                                                             \n",
      "HETATM    1  C02 P9T A 403     -34.220   3.393   8.083  1.00 30.69           C  \n",
      "HETATM    2  C03 P9T A 403     -33.874   4.740   8.102  1.00 27.72           C  \n",
      "HETATM    3  C04 P9T A 403     -34.884   5.693   8.127  1.00 23.83           C  \n",
      "HETATM    4  C05 P9T A 403     -34.646   7.058   7.483  1.00 20.13           C  \n",
      "HETATM    5  C10 P9T A 403     -36.192   5.293   8.463  1.00 29.34           C  \n",
      "HETATM    6  C11 P9T A 403     -37.204   6.225   8.768  1.00 33.81           C  \n",
      "HETATM    7  C13 P9T A 403     -38.480   5.782   9.094  1.00 33.91           C  \n",
      "HETATM    8  C14 P9T A 403     -38.759   4.419   9.121  1.00 35.18           C  \n"
     ]
    }
   ],
   "source": [
    "!head -n 10 ../vim_2/inputs/ligands/docked_8.pdb"
   ]
  },
  {
   "cell_type": "code",
   "execution_count": 10,
   "metadata": {},
   "outputs": [
    {
     "name": "stdout",
     "output_type": "stream",
     "text": [
      "['HEADER                                                                          \\n\\n', 'TITLE     TWB_D (1)                                                             \\n\\n', 'HETATM    1  C02   MOL     1      22.990  15.325   9.444  1.00  0.00           C  \\n\\n', 'HETATM    2  C03   MOL     1      21.947  16.051  10.102  1.00  0.00           C  \\n\\n', 'HETATM    3  C04   MOL     1      21.342  17.076   9.469  1.00  0.00           C  \\n\\n', 'HETATM    4  C05   MOL     1      20.231  17.792  10.209  1.00  0.00           C  \\n\\n', 'HETATM    5  C10   MOL     1      21.763  17.377   8.100  1.00  0.00           C  \\n\\n', 'HETATM    6  C11   MOL     1      21.178  18.394   7.333  1.00  0.00           C  \\n\\n', 'HETATM    7  C13   MOL     1      21.594  18.632   6.052  1.00  0.00           C  \\n\\n', 'HETATM    8  C14   MOL     1      22.605  17.867   5.495  1.00  0.00           C  \\n\\n', 'HETATM    9  C16   MOL     1      23.189  16.871   6.232  1.00  0.00           C \\n\\n', 'HETATM   10  C17   MOL     1      22.783  16.610   7.530  1.00  0.00           C \\n\\n', 'HETATM   11  F12   MOL     1      20.197  19.158   7.829  1.00  0.00           F  \\n\\n', 'HETATM   12  F15   MOL     1      23.010  18.101   4.240  1.00  0.00           F  \\n\\n', 'HETATM   13  O01   MOL     1      23.495  14.419  10.099  1.00  0.00           O \\n\\n', 'HETATM   14  O07   MOL     1      19.281  15.227  10.477  1.00  0.00           O1-\\n\\n', 'HETATM   15  O08   MOL     1      17.580  17.133  10.360  1.00  0.00           O   \\n\\n', 'HETATM   16  O09   MOL     1      18.994  16.819  12.452  1.00  0.00           O1-\\n\\n', 'HETATM   17  O18   MOL     1      23.414  15.600   8.188  1.00  0.00           O  \\n\\n', 'HETATM   18  P06   MOL     1      19.000  16.636  10.950  1.00  0.00           P  \\n\\n', 'HETATM   19  H052  MOL     1      19.758  18.397   9.568  1.00  0.00           H  \\n\\n', 'HETATM   20  H053  MOL     1      20.651  18.303  10.959  1.00  0.00           H  \\n\\n', 'HETATM   21  H03   MOL     1      21.667  15.798  11.029  1.00  0.00           H  \\n\\n', 'HETATM   22  H13   MOL     1      21.167  19.360   5.516  1.00  0.00           H  \\n\\n', 'HETATM   23  H16   MOL     1      23.920  16.322   5.825  1.00  0.00           H  \\n\\n', 'HETATM   24  H     MOL     1      17.568  18.132  10.241  1.00  0.00           H  \\n\\n', '\\n\\n', 'CONECT    1   2  13   17                                                      \\n\\n', 'CONECT    2   1   3   21\\n\\n', 'CONECT    3   2   4    5 \\n\\n', 'CONECT    4   3  18   19   20       \\n\\n', 'CONECT    5   3   6   10\\n\\n', 'CONECT    6   5   7   11   \\n\\n', 'CONECT    7   6   8   22\\n\\n', 'CONECT    8   7   9   12 \\n\\n', 'CONECT    9   8  10   23\\n\\n', 'CONECT   10   5   9   17 \\n\\n', 'CONECT   11   6\\n\\n', 'CONECT   12   8\\n\\n', 'CONECT   13   1\\n\\n', 'CONECT   14  18 \\n\\n', 'CONECT   15  18   24\\n\\n', 'CONECT   16  18\\n\\n', 'CONECT   17   1   10\\n\\n', 'CONECT   18   4   14  15   16   \\n\\n', 'CONECT   19   4                                                                \\n\\n', 'CONECT   20   4\\n\\n', 'CONECT   21   2\\n\\n', 'CONECT   22   7\\n\\n', 'CONECT   23   9\\n\\n', 'CONECT   24  15\\n\\n', 'MASTER        0    0    0    0    0    0    0    0   24    0   24    0          \\n\\n', 'END               \\n']\n"
     ]
    }
   ],
   "source": [
    "with open(\"../kpc2/inputs/ligands/docked_8_fixed.pdb\", \"r\") as pdb:\n",
    "    lines = pdb.readlines()\n",
    "    new_lines = [line+\"\\n\" for line in lines]\n",
    "print(new_lines)"
   ]
  },
  {
   "cell_type": "code",
   "execution_count": 6,
   "metadata": {},
   "outputs": [
    {
     "ename": "ValueError",
     "evalue": "Failed to construct topology from file ../kpc2/inputs/ligands/docked_8_fixed.pdb with parser <class 'MDAnalysis.topology.PDBParser.PDBParser'>.\nError: Formal charge C is unrecognized",
     "output_type": "error",
     "traceback": [
      "\u001b[0;31m---------------------------------------------------------------------------\u001b[0m",
      "\u001b[0;31mValueError\u001b[0m                                Traceback (most recent call last)",
      "File \u001b[0;32m~/Software/miniconda3/envs/sire/lib/python3.9/site-packages/MDAnalysis/core/universe.py:110\u001b[0m, in \u001b[0;36m_topology_from_file_like\u001b[0;34m(topology_file, topology_format, **kwargs)\u001b[0m\n\u001b[1;32m    109\u001b[0m     \u001b[39mwith\u001b[39;00m parser(topology_file) \u001b[39mas\u001b[39;00m p:\n\u001b[0;32m--> 110\u001b[0m         topology \u001b[39m=\u001b[39m p\u001b[39m.\u001b[39;49mparse(\u001b[39m*\u001b[39;49m\u001b[39m*\u001b[39;49mkwargs)\n\u001b[1;32m    111\u001b[0m \u001b[39mexcept\u001b[39;00m (\u001b[39mIOError\u001b[39;00m, \u001b[39mOSError\u001b[39;00m) \u001b[39mas\u001b[39;00m err:\n\u001b[1;32m    112\u001b[0m     \u001b[39m# There are 2 kinds of errors that might be raised here:\u001b[39;00m\n\u001b[1;32m    113\u001b[0m     \u001b[39m# one because the file isn't present\u001b[39;00m\n\u001b[1;32m    114\u001b[0m     \u001b[39m# or the permissions are bad, second when the parser fails\u001b[39;00m\n",
      "File \u001b[0;32m~/Software/miniconda3/envs/sire/lib/python3.9/site-packages/MDAnalysis/topology/PDBParser.py:207\u001b[0m, in \u001b[0;36mPDBParser.parse\u001b[0;34m(self, **kwargs)\u001b[0m\n\u001b[1;32m    201\u001b[0m \u001b[39m\"\"\"Parse atom information from PDB file\u001b[39;00m\n\u001b[1;32m    202\u001b[0m \n\u001b[1;32m    203\u001b[0m \u001b[39mReturns\u001b[39;00m\n\u001b[1;32m    204\u001b[0m \u001b[39m-------\u001b[39;00m\n\u001b[1;32m    205\u001b[0m \u001b[39mMDAnalysis Topology object\u001b[39;00m\n\u001b[1;32m    206\u001b[0m \u001b[39m\"\"\"\u001b[39;00m\n\u001b[0;32m--> 207\u001b[0m top \u001b[39m=\u001b[39m \u001b[39mself\u001b[39;49m\u001b[39m.\u001b[39;49m_parseatoms()\n\u001b[1;32m    209\u001b[0m \u001b[39mtry\u001b[39;00m:\n",
      "File \u001b[0;32m~/Software/miniconda3/envs/sire/lib/python3.9/site-packages/MDAnalysis/topology/PDBParser.py:367\u001b[0m, in \u001b[0;36mPDBParser._parseatoms\u001b[0;34m(self)\u001b[0m\n\u001b[1;32m    366\u001b[0m         errmsg \u001b[39m=\u001b[39m (\u001b[39mf\u001b[39m\u001b[39m\"\u001b[39m\u001b[39mFormal charge \u001b[39m\u001b[39m{\u001b[39;00mentry\u001b[39m}\u001b[39;00m\u001b[39m is unrecognized\u001b[39m\u001b[39m\"\u001b[39m)\n\u001b[0;32m--> 367\u001b[0m         \u001b[39mraise\u001b[39;00m \u001b[39mValueError\u001b[39;00m(errmsg)\n\u001b[1;32m    368\u001b[0m \u001b[39melse\u001b[39;00m:\n",
      "\u001b[0;31mValueError\u001b[0m: Formal charge C is unrecognized",
      "\nDuring handling of the above exception, another exception occurred:\n",
      "\u001b[0;31mValueError\u001b[0m                                Traceback (most recent call last)",
      "Cell \u001b[0;32mIn [6], line 1\u001b[0m\n\u001b[0;32m----> 1\u001b[0m lig \u001b[39m=\u001b[39m mda\u001b[39m.\u001b[39;49mUniverse(\u001b[39m\"\u001b[39;49m\u001b[39m../kpc2/inputs/ligands/docked_8_fixed.pdb\u001b[39;49m\u001b[39m\"\u001b[39;49m)\n\u001b[1;32m      2\u001b[0m \u001b[39m# atoms = lig.atoms\u001b[39;00m\n\u001b[1;32m      3\u001b[0m \u001b[39m# for i in range(len(atoms)):\u001b[39;00m\n\u001b[1;32m      4\u001b[0m \u001b[39m#     print(atoms[i].id, atoms[i].name)\u001b[39;00m\n\u001b[1;32m      5\u001b[0m view \u001b[39m=\u001b[39m nv\u001b[39m.\u001b[39mshow_mdanalysis(lig)\n",
      "File \u001b[0;32m~/Software/miniconda3/envs/sire/lib/python3.9/site-packages/MDAnalysis/core/universe.py:346\u001b[0m, in \u001b[0;36mUniverse.__init__\u001b[0;34m(self, topology, all_coordinates, format, topology_format, transformations, guess_bonds, vdwradii, in_memory, in_memory_step, *coordinates, **kwargs)\u001b[0m\n\u001b[1;32m    344\u001b[0m \u001b[39mif\u001b[39;00m \u001b[39mnot\u001b[39;00m \u001b[39misinstance\u001b[39m(topology, Topology) \u001b[39mand\u001b[39;00m \u001b[39mnot\u001b[39;00m topology \u001b[39mis\u001b[39;00m \u001b[39mNone\u001b[39;00m:\n\u001b[1;32m    345\u001b[0m     \u001b[39mself\u001b[39m\u001b[39m.\u001b[39mfilename \u001b[39m=\u001b[39m _check_file_like(topology)\n\u001b[0;32m--> 346\u001b[0m     topology \u001b[39m=\u001b[39m _topology_from_file_like(\u001b[39mself\u001b[39;49m\u001b[39m.\u001b[39;49mfilename,\n\u001b[1;32m    347\u001b[0m                                         topology_format\u001b[39m=\u001b[39;49mtopology_format,\n\u001b[1;32m    348\u001b[0m                                         \u001b[39m*\u001b[39;49m\u001b[39m*\u001b[39;49mkwargs)\n\u001b[1;32m    350\u001b[0m \u001b[39mif\u001b[39;00m topology \u001b[39mis\u001b[39;00m \u001b[39mnot\u001b[39;00m \u001b[39mNone\u001b[39;00m:\n\u001b[1;32m    351\u001b[0m     \u001b[39mself\u001b[39m\u001b[39m.\u001b[39m_topology \u001b[39m=\u001b[39m topology\n",
      "File \u001b[0;32m~/Software/miniconda3/envs/sire/lib/python3.9/site-packages/MDAnalysis/core/universe.py:125\u001b[0m, in \u001b[0;36m_topology_from_file_like\u001b[0;34m(topology_file, topology_format, **kwargs)\u001b[0m\n\u001b[1;32m    121\u001b[0m         \u001b[39mraise\u001b[39;00m \u001b[39mIOError\u001b[39;00m(\u001b[39m\"\u001b[39m\u001b[39mFailed to load from the topology file \u001b[39m\u001b[39m{0}\u001b[39;00m\u001b[39m\"\u001b[39m\n\u001b[1;32m    122\u001b[0m                         \u001b[39m\"\u001b[39m\u001b[39m with parser \u001b[39m\u001b[39m{1}\u001b[39;00m\u001b[39m.\u001b[39m\u001b[39m\\n\u001b[39;00m\u001b[39m\"\u001b[39m\n\u001b[1;32m    123\u001b[0m                         \u001b[39m\"\u001b[39m\u001b[39mError: \u001b[39m\u001b[39m{2}\u001b[39;00m\u001b[39m\"\u001b[39m\u001b[39m.\u001b[39mformat(topology_file, parser, err))\n\u001b[1;32m    124\u001b[0m \u001b[39mexcept\u001b[39;00m (\u001b[39mValueError\u001b[39;00m, \u001b[39mNotImplementedError\u001b[39;00m) \u001b[39mas\u001b[39;00m err:\n\u001b[0;32m--> 125\u001b[0m     \u001b[39mraise\u001b[39;00m \u001b[39mValueError\u001b[39;00m(\n\u001b[1;32m    126\u001b[0m         \u001b[39m\"\u001b[39m\u001b[39mFailed to construct topology from file \u001b[39m\u001b[39m{0}\u001b[39;00m\u001b[39m\"\u001b[39m\n\u001b[1;32m    127\u001b[0m         \u001b[39m\"\u001b[39m\u001b[39m with parser \u001b[39m\u001b[39m{1}\u001b[39;00m\u001b[39m.\u001b[39m\u001b[39m\\n\u001b[39;00m\u001b[39m\"\u001b[39m\n\u001b[1;32m    128\u001b[0m         \u001b[39m\"\u001b[39m\u001b[39mError: \u001b[39m\u001b[39m{2}\u001b[39;00m\u001b[39m\"\u001b[39m\u001b[39m.\u001b[39mformat(topology_file, parser, err))\n\u001b[1;32m    129\u001b[0m \u001b[39mreturn\u001b[39;00m topology\n",
      "\u001b[0;31mValueError\u001b[0m: Failed to construct topology from file ../kpc2/inputs/ligands/docked_8_fixed.pdb with parser <class 'MDAnalysis.topology.PDBParser.PDBParser'>.\nError: Formal charge C is unrecognized"
     ]
    }
   ],
   "source": [
    "lig = mda.Universe(\"../kpc2/inputs/ligands/docked_8_fixed.pdb\")\n",
    "# atoms = lig.atoms\n",
    "# for i in range(len(atoms)):\n",
    "#     print(atoms[i].id, atoms[i].name)\n",
    "view = nv.show_mdanalysis(lig)\n",
    "view"
   ]
  },
  {
   "cell_type": "code",
   "execution_count": 14,
   "metadata": {},
   "outputs": [
    {
     "data": {
      "application/vnd.jupyter.widget-view+json": {
       "model_id": "35fc82c4ba9c4a71a42866c8a93bc81b",
       "version_major": 2,
       "version_minor": 0
      },
      "text/plain": [
       "NGLWidget()"
      ]
     },
     "metadata": {},
     "output_type": "display_data"
    }
   ],
   "source": [
    "view.add"
   ]
  },
  {
   "cell_type": "code",
   "execution_count": null,
   "metadata": {},
   "outputs": [
    {
     "data": {
      "application/vnd.jupyter.widget-view+json": {
       "model_id": "9728b505b5fb48aa9a33e4ade1f09af4",
       "version_major": 2,
       "version_minor": 0
      },
      "text/plain": [
       "NGLWidget()"
      ]
     },
     "metadata": {},
     "output_type": "display_data"
    }
   ],
   "source": [
    "lig = mda.Universe(\"../vim_2/inputs/ligands/docked_8.pdb\")\n",
    "nv.show_mdanalysis(lig)"
   ]
  },
  {
   "cell_type": "code",
   "execution_count": 3,
   "metadata": {},
   "outputs": [
    {
     "data": {
      "application/vnd.jupyter.widget-view+json": {
       "model_id": "9728b505b5fb48aa9a33e4ade1f09af4",
       "version_major": 2,
       "version_minor": 0
      },
      "text/plain": [
       "NGLWidget()"
      ]
     },
     "metadata": {},
     "output_type": "display_data"
    }
   ],
   "source": [
    "lig = mda.Universe(\"../vim_2/inputs/ligands/docked_8.pdb\")\n",
    "nv.show_mdanalysis(lig)"
   ]
  },
  {
   "cell_type": "code",
   "execution_count": 2,
   "metadata": {},
   "outputs": [
    {
     "data": {
      "application/vnd.jupyter.widget-view+json": {
       "model_id": "53d2789b47094d679964737d5fc85f6e",
       "version_major": 2,
       "version_minor": 0
      },
      "text/plain": [
       "NGLWidget()"
      ]
     },
     "metadata": {},
     "output_type": "display_data"
    }
   ],
   "source": [
    "u = mda.Universe(\"../inputs/protein/vim2.gromacs.pdb\")\n",
    "lig = u.select_atoms(\"resname PT1\")\n",
    "v = nv.show_mdanalysis(lig)\n",
    "v"
   ]
  },
  {
   "cell_type": "code",
   "execution_count": 121,
   "metadata": {},
   "outputs": [
    {
     "name": "stdout",
     "output_type": "stream",
     "text": [
      "-0.7112999999999998\n"
     ]
    }
   ],
   "source": [
    "with open(\"../../md_vim2/outputs/parmed/pt1_dry.out\", \"r\") as file:\n",
    "    lines = file.readlines()\n",
    "\n",
    "for i in range(len(lines)):\n",
    "    if \"mask\" in lines[i]:\n",
    "        mask_line = i\n",
    "\n",
    "info = [line.split() for line in lines[mask_line:] if \"mask\" not in line][1:-2]\n",
    "column_headers = [element for element in info[0] if element != \"GB\" and element != \"LJ\"]\n",
    "df = pd.DataFrame(info[1:], columns=column_headers)\n",
    "net_charge_pt1 = df[\"Charge\"].astype(float).sum()\n"
   ]
  },
  {
   "cell_type": "code",
   "execution_count": 112,
   "metadata": {},
   "outputs": [
    {
     "name": "stdout",
     "output_type": "stream",
     "text": [
      "    ATOM  RES RESNAME  NAME TYPE At.#  Radius   Depth     Mass   Charge  \\\n",
      "0   3418  233     PT1   C02    c    6  1.8606  0.0988  12.0100   0.8294   \n",
      "1   3419  233     PT1   C03   cc    6  1.8606  0.0988  12.0100  -0.4941   \n",
      "2   3420  233     PT1   C04   cd    6  1.8606  0.0988  12.0100   0.2997   \n",
      "3   3421  233     PT1   C05   c3    6  1.9069  0.1078  12.0100  -0.3215   \n",
      "4   3422  233     PT1   C10   ca    6  1.8606  0.0988  12.0100  -0.3040   \n",
      "5   3423  233     PT1   C11   ca    6  1.8606  0.0988  12.0100   0.2951   \n",
      "6   3424  233     PT1   C13   ca    6  1.8606  0.0988  12.0100  -0.4058   \n",
      "7   3425  233     PT1   C14   ca    6  1.8606  0.0988  12.0100   0.4017   \n",
      "8   3426  233     PT1   C16   ca    6  1.8606  0.0988  12.0100  -0.4571   \n",
      "9   3427  233     PT1   C17   ca    6  1.8606  0.0988  12.0100   0.4785   \n",
      "10  3428  233     PT1   F12    f    9  1.7029  0.0832  19.0000  -0.1145   \n",
      "11  3429  233     PT1   F15    f    9  1.7029  0.0832  19.0000  -0.1347   \n",
      "12  3430  233     PT1   O01    o    8  1.7107  0.1463  16.0000  -0.5215   \n",
      "13  3431  233     PT1   O07   Y4    8  1.7107  0.1463  16.0000  -0.8909   \n",
      "14  3432  233     PT1   O08   Y8    8  1.7107  0.1463  16.0000  -0.7579   \n",
      "15  3433  233     PT1   O09   oh    8  1.8200  0.0930  16.0000  -0.5966   \n",
      "16  3434  233     PT1   O18   os    8  1.7713  0.0726  16.0000  -0.4136   \n",
      "17  3435  233     PT1   P06   p5   15  2.0732  0.2295  30.9700   1.1524   \n",
      "18  3436  233     PT1  H052   hc    1  1.4593  0.0208   1.0080   0.0936   \n",
      "19  3437  233     PT1  H053   hc    1  1.4593  0.0208   1.0080   0.0936   \n",
      "20  3438  233     PT1   H03   ha    1  1.4735  0.0161   1.0080   0.1731   \n",
      "21  3439  233     PT1   H13   ha    1  1.4735  0.0161   1.0080   0.2127   \n",
      "22  3440  233     PT1   H16   ha    1  1.4735  0.0161   1.0080   0.2344   \n",
      "23  3441  233     PT1    H1   ho    1  0.3019  0.0047   1.0080   0.4367   \n",
      "\n",
      "    Radius  Screen  \n",
      "0   1.7000  0.7200  \n",
      "1   1.7000  0.7200  \n",
      "2   1.7000  0.7200  \n",
      "3   1.7000  0.7200  \n",
      "4   1.7000  0.7200  \n",
      "5   1.7000  0.7200  \n",
      "6   1.7000  0.7200  \n",
      "7   1.7000  0.7200  \n",
      "8   1.7000  0.7200  \n",
      "9   1.7000  0.7200  \n",
      "10  1.5000  0.8800  \n",
      "11  1.5000  0.8800  \n",
      "12  1.5000  0.8500  \n",
      "13  1.5000  0.8500  \n",
      "14  1.5000  0.8500  \n",
      "15  1.5000  0.8500  \n",
      "16  1.5000  0.8500  \n",
      "17  1.8500  0.8600  \n",
      "18  1.3000  0.8500  \n",
      "19  1.3000  0.8500  \n",
      "20  1.3000  0.8500  \n",
      "21  1.3000  0.8500  \n",
      "22  1.3000  0.8500  \n",
      "23  0.8000  0.8500  \n"
     ]
    }
   ],
   "source": [
    "with open(\"../../md_vim2/outputs/pt1_parmed.out\", \"r\") as file:\n",
    "    lines = file.readlines()\n",
    "\n",
    "for i in range(len(lines)):\n",
    "    if \"mask\" in lines[i]:\n",
    "        mask_line = i\n",
    "\n",
    "info = [line.split() for line in lines[mask_line:] if \"mask\" not in line][1:-2]\n",
    "column_headers = [element for element in info[0] if element != \"GB\" and element != \"LJ\"]\n",
    "df = pd.DataFrame(info[1:], columns=column_headers)\n",
    "net_charge_pt1 = df[\"Charge\"].astype(float).sum()\n",
    "# net_charge_pt1\n",
    "print(df)"
   ]
  },
  {
   "cell_type": "code",
   "execution_count": 97,
   "metadata": {},
   "outputs": [
    {
     "data": {
      "text/plain": [
       "-0.3157999999999999"
      ]
     },
     "execution_count": 97,
     "metadata": {},
     "output_type": "execute_result"
    }
   ],
   "source": [
    "with open(\"../../md_vim2/outputs/cs1.out\", \"r\") as file:\n",
    "    lines = file.readlines()\n",
    "\n",
    "for i in range(len(lines)):\n",
    "    if \"mask\" in lines[i]:\n",
    "        mask_line = i\n",
    "\n",
    "info = [line.split() for line in lines[mask_line:] if \"mask\" not in line][1:-2]\n",
    "column_headers = [element for element in info[0] if element != \"GB\" and element != \"LJ\"]\n",
    "df = pd.DataFrame(info[1:], columns=column_headers)\n",
    "net_charge_cs1 = df[\"Charge\"].astype(float).sum()\n",
    "net_charge_cs1"
   ]
  },
  {
   "cell_type": "code",
   "execution_count": 106,
   "metadata": {},
   "outputs": [],
   "source": [
    "zn1 = 0.9916\n",
    "zn2 = 1.1071"
   ]
  },
  {
   "cell_type": "code",
   "execution_count": 98,
   "metadata": {},
   "outputs": [
    {
     "data": {
      "text/plain": [
       "-1.0270999999999997"
      ]
     },
     "execution_count": 98,
     "metadata": {},
     "output_type": "execute_result"
    }
   ],
   "source": []
  },
  {
   "cell_type": "code",
   "execution_count": 99,
   "metadata": {},
   "outputs": [
    {
     "data": {
      "text/plain": [
       "-0.36529999999999974"
      ]
     },
     "execution_count": 99,
     "metadata": {},
     "output_type": "execute_result"
    }
   ],
   "source": [
    "with open(\"../../md_vim2/outputs/ap1.out\", \"r\") as file:\n",
    "    lines = file.readlines()\n",
    "\n",
    "for i in range(len(lines)):\n",
    "    if \"mask\" in lines[i]:\n",
    "        mask_line = i\n",
    "\n",
    "info = [line.split() for line in lines[mask_line:] if \"mask\" not in line][1:-2]\n",
    "column_headers = [element for element in info[0] if element != \"GB\" and element != \"LJ\"]\n",
    "df = pd.DataFrame(info[1:], columns=column_headers)\n",
    "net_charge_ap1 = df[\"Charge\"].astype(float).sum()\n",
    "net_charge_ap1"
   ]
  },
  {
   "cell_type": "code",
   "execution_count": 103,
   "metadata": {},
   "outputs": [
    {
     "data": {
      "text/plain": [
       "0.41290000000000016"
      ]
     },
     "execution_count": 103,
     "metadata": {},
     "output_type": "execute_result"
    }
   ],
   "source": [
    "with open(\"../../md_vim2/outputs/hd3.out\", \"r\") as file:\n",
    "    lines = file.readlines()\n",
    "\n",
    "for i in range(len(lines)):\n",
    "    if \"mask\" in lines[i]:\n",
    "        mask_line = i\n",
    "\n",
    "info = [line.split() for line in lines[mask_line:] if \"mask\" not in line][1:-2]\n",
    "column_headers = [element for element in info[0] if element != \"GB\" and element != \"LJ\"]\n",
    "df = pd.DataFrame(info[1:], columns=column_headers)\n",
    "net_charge_hd3 = df[\"Charge\"].astype(float).sum()\n",
    "net_charge_hd3"
   ]
  },
  {
   "cell_type": "code",
   "execution_count": 111,
   "metadata": {},
   "outputs": [
    {
     "data": {
      "text/plain": [
       "-0.9794999999999993"
      ]
     },
     "execution_count": 111,
     "metadata": {},
     "output_type": "execute_result"
    }
   ],
   "source": [
    "net_charge_cs1 + net_charge_ap1 + net_charge_hd3 + net_charge_pt1"
   ]
  },
  {
   "cell_type": "code",
   "execution_count": 113,
   "metadata": {},
   "outputs": [
    {
     "data": {
      "text/plain": [
       "1.3874000000000002"
      ]
     },
     "execution_count": 113,
     "metadata": {},
     "output_type": "execute_result"
    }
   ],
   "source": [
    "net_charge_pt1 + zn1 + zn2"
   ]
  },
  {
   "cell_type": "code",
   "execution_count": 114,
   "metadata": {},
   "outputs": [
    {
     "data": {
      "text/plain": [
       "-0.7112999999999998"
      ]
     },
     "execution_count": 114,
     "metadata": {},
     "output_type": "execute_result"
    }
   ],
   "source": [
    "net_charge_pt1"
   ]
  },
  {
   "cell_type": "code",
   "execution_count": 122,
   "metadata": {},
   "outputs": [
    {
     "data": {
      "text/plain": [
       "0.0000e+00 |e|"
      ]
     },
     "execution_count": 122,
     "metadata": {},
     "output_type": "execute_result"
    }
   ],
   "source": [
    "pt = bss.IO.readMolecules(\"../inputs/ligands/ligand_8_xtal.sdf\")\n",
    "pt.charge()"
   ]
  },
  {
   "cell_type": "code",
   "execution_count": 153,
   "metadata": {},
   "outputs": [
    {
     "data": {
      "text/plain": [
       "array([[25.556 , 27.158 , 39.628 ],\n",
       "       [25.902 , 28.505 , 39.647 ],\n",
       "       [24.892 , 29.458 , 39.672 ],\n",
       "       [25.13  , 30.823 , 39.028 ],\n",
       "       [23.584 , 29.058 , 40.008 ],\n",
       "       [22.572 , 29.99  , 40.313 ],\n",
       "       [21.296 , 29.547 , 40.639 ],\n",
       "       [21.017 , 28.184 , 40.666 ],\n",
       "       [22.013 , 27.265 , 40.366 ],\n",
       "       [23.307 , 27.712 , 40.035 ],\n",
       "       [22.84  , 31.327 , 40.288 ],\n",
       "       [19.763 , 27.751 , 40.986 ],\n",
       "       [26.4   , 26.334 , 39.508 ],\n",
       "       [25.14  , 32.112 , 36.5881],\n",
       "       [26.306 , 29.941 , 36.692 ],\n",
       "       [23.842 , 30.02  , 36.724 ],\n",
       "       [24.268 , 26.785 , 39.745 ],\n",
       "       [25.103 , 30.719 , 37.17  ],\n",
       "       [24.416 , 31.455 , 39.33  ],\n",
       "       [26.02  , 31.172 , 39.322 ],\n",
       "       [26.863 , 28.783 , 39.643 ],\n",
       "       [20.577 , 30.208 , 40.854 ],\n",
       "       [21.812 , 26.286 , 40.385 ],\n",
       "       [23.031 , 30.585 , 36.911 ]], dtype=float32)"
      ]
     },
     "execution_count": 153,
     "metadata": {},
     "output_type": "execute_result"
    }
   ],
   "source": [
    "parm_u = mda.Universe(\"../inputs/protein/PT1.mol2\")\n",
    "xtal_u = mda.Universe(\"../inputs/ligands/ligand_8_xtal.mol2\")\n",
    "new_coords = xtal_u.atoms.positions\n",
    "new_univers = parm_u.load_new(new_coords)\n",
    "parm_u.atoms.positions"
   ]
  },
  {
   "cell_type": "code",
   "execution_count": 154,
   "metadata": {},
   "outputs": [
    {
     "data": {
      "text/plain": [
       "array([[25.556 , 27.158 , 39.628 ],\n",
       "       [25.902 , 28.505 , 39.647 ],\n",
       "       [24.892 , 29.458 , 39.672 ],\n",
       "       [25.13  , 30.823 , 39.028 ],\n",
       "       [23.584 , 29.058 , 40.008 ],\n",
       "       [22.572 , 29.99  , 40.313 ],\n",
       "       [21.296 , 29.547 , 40.639 ],\n",
       "       [21.017 , 28.184 , 40.666 ],\n",
       "       [22.013 , 27.265 , 40.366 ],\n",
       "       [23.307 , 27.712 , 40.035 ],\n",
       "       [22.84  , 31.327 , 40.288 ],\n",
       "       [19.763 , 27.751 , 40.986 ],\n",
       "       [26.4   , 26.334 , 39.508 ],\n",
       "       [25.14  , 32.112 , 36.5881],\n",
       "       [26.306 , 29.941 , 36.692 ],\n",
       "       [23.842 , 30.02  , 36.724 ],\n",
       "       [24.268 , 26.785 , 39.745 ],\n",
       "       [25.103 , 30.719 , 37.17  ],\n",
       "       [24.416 , 31.455 , 39.33  ],\n",
       "       [26.02  , 31.172 , 39.322 ],\n",
       "       [26.863 , 28.783 , 39.643 ],\n",
       "       [20.577 , 30.208 , 40.854 ],\n",
       "       [21.812 , 26.286 , 40.385 ],\n",
       "       [23.031 , 30.585 , 36.911 ]], dtype=float32)"
      ]
     },
     "execution_count": 154,
     "metadata": {},
     "output_type": "execute_result"
    }
   ],
   "source": [
    "new_univers.atoms.positions"
   ]
  },
  {
   "cell_type": "code",
   "execution_count": 148,
   "metadata": {},
   "outputs": [
    {
     "name": "stdout",
     "output_type": "stream",
     "text": [
      "< Timestep 0 >\n"
     ]
    }
   ],
   "source": [
    "\n"
   ]
  },
  {
   "cell_type": "code",
   "execution_count": 14,
   "metadata": {},
   "outputs": [
    {
     "name": "stdout",
     "output_type": "stream",
     "text": [
      "-0.12750000000000006\n"
     ]
    }
   ],
   "source": [
    "with open(\"../kpc2/inputs/ligands/docked_1.mol2\", \"r\") as file:\n",
    "    lines = file.readlines()\n",
    "\n",
    "atom_idx = [index for index in range(len(lines)) if \"ATOM\" in lines[index]][0]\n",
    "bond_idx = [index for index in range(len(lines)) if \"BOND\" in lines[index]][0]\n",
    "\n",
    "new_lines = lines[atom_idx+1:bond_idx]\n",
    "charges  = [float(line.split()[-1]) for line in new_lines]\n",
    "net_charge = sum(charges)\n",
    "print(net_charge)\n",
    "# info = [line.split() for line in lines[mask_line:] if \"mask\" not in line][1:-2]\n",
    "# column_headers = [element for element in info[0] if element != \"GB\" and element != \"LJ\"]\n",
    "# df = pd.DataFrame(info[1:], columns=column_headers)\n",
    "# net_charge_pt1 = df[\"Charge\"].astype(float).sum()"
   ]
  },
  {
   "cell_type": "code",
   "execution_count": null,
   "metadata": {},
   "outputs": [],
   "source": []
  }
 ],
 "metadata": {
  "kernelspec": {
   "display_name": "Python 3.9.13 ('bss-d')",
   "language": "python",
   "name": "python3"
  },
  "language_info": {
   "codemirror_mode": {
    "name": "ipython",
    "version": 3
   },
   "file_extension": ".py",
   "mimetype": "text/x-python",
   "name": "python",
   "nbconvert_exporter": "python",
   "pygments_lexer": "ipython3",
   "version": "3.10.10"
  },
  "orig_nbformat": 4,
  "vscode": {
   "interpreter": {
    "hash": "f81d097606b2934fa8d1922533f78f64a436eb4cf1588d61ff1c0b79a2076e9c"
   }
  }
 },
 "nbformat": 4,
 "nbformat_minor": 2
}
