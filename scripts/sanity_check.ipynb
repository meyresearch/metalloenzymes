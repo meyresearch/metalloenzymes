{
 "cells": [
  {
   "cell_type": "code",
   "execution_count": 142,
   "metadata": {},
   "outputs": [],
   "source": [
    "import nglview as nv\n",
    "import MDAnalysis as mda\n",
    "import MDAnalysis.analysis.align\n",
    "import pandas as pd\n",
    "import BioSimSpace as bss"
   ]
  },
  {
   "cell_type": "code",
   "execution_count": 2,
   "metadata": {},
   "outputs": [
    {
     "data": {
      "application/vnd.jupyter.widget-view+json": {
       "model_id": "53d2789b47094d679964737d5fc85f6e",
       "version_major": 2,
       "version_minor": 0
      },
      "text/plain": [
       "NGLWidget()"
      ]
     },
     "metadata": {},
     "output_type": "display_data"
    }
   ],
   "source": [
    "u = mda.Universe(\"../inputs/protein/vim2.gromacs.pdb\")\n",
    "lig = u.select_atoms(\"resname PT1\")\n",
    "v = nv.show_mdanalysis(lig)\n",
    "v"
   ]
  },
  {
   "cell_type": "code",
   "execution_count": 121,
   "metadata": {},
   "outputs": [
    {
     "name": "stdout",
     "output_type": "stream",
     "text": [
      "-0.7112999999999998\n"
     ]
    }
   ],
   "source": [
    "with open(\"../../md_vim2/outputs/parmed/pt1_dry.out\", \"r\") as file:\n",
    "    lines = file.readlines()\n",
    "\n",
    "for i in range(len(lines)):\n",
    "    if \"mask\" in lines[i]:\n",
    "        mask_line = i\n",
    "\n",
    "info = [line.split() for line in lines[mask_line:] if \"mask\" not in line][1:-2]\n",
    "column_headers = [element for element in info[0] if element != \"GB\" and element != \"LJ\"]\n",
    "df = pd.DataFrame(info[1:], columns=column_headers)\n",
    "net_charge_pt1 = df[\"Charge\"].astype(float).sum()\n"
   ]
  },
  {
   "cell_type": "code",
   "execution_count": 112,
   "metadata": {},
   "outputs": [
    {
     "name": "stdout",
     "output_type": "stream",
     "text": [
      "    ATOM  RES RESNAME  NAME TYPE At.#  Radius   Depth     Mass   Charge  \\\n",
      "0   3418  233     PT1   C02    c    6  1.8606  0.0988  12.0100   0.8294   \n",
      "1   3419  233     PT1   C03   cc    6  1.8606  0.0988  12.0100  -0.4941   \n",
      "2   3420  233     PT1   C04   cd    6  1.8606  0.0988  12.0100   0.2997   \n",
      "3   3421  233     PT1   C05   c3    6  1.9069  0.1078  12.0100  -0.3215   \n",
      "4   3422  233     PT1   C10   ca    6  1.8606  0.0988  12.0100  -0.3040   \n",
      "5   3423  233     PT1   C11   ca    6  1.8606  0.0988  12.0100   0.2951   \n",
      "6   3424  233     PT1   C13   ca    6  1.8606  0.0988  12.0100  -0.4058   \n",
      "7   3425  233     PT1   C14   ca    6  1.8606  0.0988  12.0100   0.4017   \n",
      "8   3426  233     PT1   C16   ca    6  1.8606  0.0988  12.0100  -0.4571   \n",
      "9   3427  233     PT1   C17   ca    6  1.8606  0.0988  12.0100   0.4785   \n",
      "10  3428  233     PT1   F12    f    9  1.7029  0.0832  19.0000  -0.1145   \n",
      "11  3429  233     PT1   F15    f    9  1.7029  0.0832  19.0000  -0.1347   \n",
      "12  3430  233     PT1   O01    o    8  1.7107  0.1463  16.0000  -0.5215   \n",
      "13  3431  233     PT1   O07   Y4    8  1.7107  0.1463  16.0000  -0.8909   \n",
      "14  3432  233     PT1   O08   Y8    8  1.7107  0.1463  16.0000  -0.7579   \n",
      "15  3433  233     PT1   O09   oh    8  1.8200  0.0930  16.0000  -0.5966   \n",
      "16  3434  233     PT1   O18   os    8  1.7713  0.0726  16.0000  -0.4136   \n",
      "17  3435  233     PT1   P06   p5   15  2.0732  0.2295  30.9700   1.1524   \n",
      "18  3436  233     PT1  H052   hc    1  1.4593  0.0208   1.0080   0.0936   \n",
      "19  3437  233     PT1  H053   hc    1  1.4593  0.0208   1.0080   0.0936   \n",
      "20  3438  233     PT1   H03   ha    1  1.4735  0.0161   1.0080   0.1731   \n",
      "21  3439  233     PT1   H13   ha    1  1.4735  0.0161   1.0080   0.2127   \n",
      "22  3440  233     PT1   H16   ha    1  1.4735  0.0161   1.0080   0.2344   \n",
      "23  3441  233     PT1    H1   ho    1  0.3019  0.0047   1.0080   0.4367   \n",
      "\n",
      "    Radius  Screen  \n",
      "0   1.7000  0.7200  \n",
      "1   1.7000  0.7200  \n",
      "2   1.7000  0.7200  \n",
      "3   1.7000  0.7200  \n",
      "4   1.7000  0.7200  \n",
      "5   1.7000  0.7200  \n",
      "6   1.7000  0.7200  \n",
      "7   1.7000  0.7200  \n",
      "8   1.7000  0.7200  \n",
      "9   1.7000  0.7200  \n",
      "10  1.5000  0.8800  \n",
      "11  1.5000  0.8800  \n",
      "12  1.5000  0.8500  \n",
      "13  1.5000  0.8500  \n",
      "14  1.5000  0.8500  \n",
      "15  1.5000  0.8500  \n",
      "16  1.5000  0.8500  \n",
      "17  1.8500  0.8600  \n",
      "18  1.3000  0.8500  \n",
      "19  1.3000  0.8500  \n",
      "20  1.3000  0.8500  \n",
      "21  1.3000  0.8500  \n",
      "22  1.3000  0.8500  \n",
      "23  0.8000  0.8500  \n"
     ]
    }
   ],
   "source": [
    "with open(\"../../md_vim2/outputs/pt1_parmed.out\", \"r\") as file:\n",
    "    lines = file.readlines()\n",
    "\n",
    "for i in range(len(lines)):\n",
    "    if \"mask\" in lines[i]:\n",
    "        mask_line = i\n",
    "\n",
    "info = [line.split() for line in lines[mask_line:] if \"mask\" not in line][1:-2]\n",
    "column_headers = [element for element in info[0] if element != \"GB\" and element != \"LJ\"]\n",
    "df = pd.DataFrame(info[1:], columns=column_headers)\n",
    "net_charge_pt1 = df[\"Charge\"].astype(float).sum()\n",
    "# net_charge_pt1\n",
    "print(df)"
   ]
  },
  {
   "cell_type": "code",
   "execution_count": 97,
   "metadata": {},
   "outputs": [
    {
     "data": {
      "text/plain": [
       "-0.3157999999999999"
      ]
     },
     "execution_count": 97,
     "metadata": {},
     "output_type": "execute_result"
    }
   ],
   "source": [
    "with open(\"../../md_vim2/outputs/cs1.out\", \"r\") as file:\n",
    "    lines = file.readlines()\n",
    "\n",
    "for i in range(len(lines)):\n",
    "    if \"mask\" in lines[i]:\n",
    "        mask_line = i\n",
    "\n",
    "info = [line.split() for line in lines[mask_line:] if \"mask\" not in line][1:-2]\n",
    "column_headers = [element for element in info[0] if element != \"GB\" and element != \"LJ\"]\n",
    "df = pd.DataFrame(info[1:], columns=column_headers)\n",
    "net_charge_cs1 = df[\"Charge\"].astype(float).sum()\n",
    "net_charge_cs1"
   ]
  },
  {
   "cell_type": "code",
   "execution_count": 106,
   "metadata": {},
   "outputs": [],
   "source": [
    "zn1 = 0.9916\n",
    "zn2 = 1.1071"
   ]
  },
  {
   "cell_type": "code",
   "execution_count": 98,
   "metadata": {},
   "outputs": [
    {
     "data": {
      "text/plain": [
       "-1.0270999999999997"
      ]
     },
     "execution_count": 98,
     "metadata": {},
     "output_type": "execute_result"
    }
   ],
   "source": []
  },
  {
   "cell_type": "code",
   "execution_count": 99,
   "metadata": {},
   "outputs": [
    {
     "data": {
      "text/plain": [
       "-0.36529999999999974"
      ]
     },
     "execution_count": 99,
     "metadata": {},
     "output_type": "execute_result"
    }
   ],
   "source": [
    "with open(\"../../md_vim2/outputs/ap1.out\", \"r\") as file:\n",
    "    lines = file.readlines()\n",
    "\n",
    "for i in range(len(lines)):\n",
    "    if \"mask\" in lines[i]:\n",
    "        mask_line = i\n",
    "\n",
    "info = [line.split() for line in lines[mask_line:] if \"mask\" not in line][1:-2]\n",
    "column_headers = [element for element in info[0] if element != \"GB\" and element != \"LJ\"]\n",
    "df = pd.DataFrame(info[1:], columns=column_headers)\n",
    "net_charge_ap1 = df[\"Charge\"].astype(float).sum()\n",
    "net_charge_ap1"
   ]
  },
  {
   "cell_type": "code",
   "execution_count": 103,
   "metadata": {},
   "outputs": [
    {
     "data": {
      "text/plain": [
       "0.41290000000000016"
      ]
     },
     "execution_count": 103,
     "metadata": {},
     "output_type": "execute_result"
    }
   ],
   "source": [
    "with open(\"../../md_vim2/outputs/hd3.out\", \"r\") as file:\n",
    "    lines = file.readlines()\n",
    "\n",
    "for i in range(len(lines)):\n",
    "    if \"mask\" in lines[i]:\n",
    "        mask_line = i\n",
    "\n",
    "info = [line.split() for line in lines[mask_line:] if \"mask\" not in line][1:-2]\n",
    "column_headers = [element for element in info[0] if element != \"GB\" and element != \"LJ\"]\n",
    "df = pd.DataFrame(info[1:], columns=column_headers)\n",
    "net_charge_hd3 = df[\"Charge\"].astype(float).sum()\n",
    "net_charge_hd3"
   ]
  },
  {
   "cell_type": "code",
   "execution_count": 111,
   "metadata": {},
   "outputs": [
    {
     "data": {
      "text/plain": [
       "-0.9794999999999993"
      ]
     },
     "execution_count": 111,
     "metadata": {},
     "output_type": "execute_result"
    }
   ],
   "source": [
    "net_charge_cs1 + net_charge_ap1 + net_charge_hd3 + net_charge_pt1"
   ]
  },
  {
   "cell_type": "code",
   "execution_count": 113,
   "metadata": {},
   "outputs": [
    {
     "data": {
      "text/plain": [
       "1.3874000000000002"
      ]
     },
     "execution_count": 113,
     "metadata": {},
     "output_type": "execute_result"
    }
   ],
   "source": [
    "net_charge_pt1 + zn1 + zn2"
   ]
  },
  {
   "cell_type": "code",
   "execution_count": 114,
   "metadata": {},
   "outputs": [
    {
     "data": {
      "text/plain": [
       "-0.7112999999999998"
      ]
     },
     "execution_count": 114,
     "metadata": {},
     "output_type": "execute_result"
    }
   ],
   "source": [
    "net_charge_pt1"
   ]
  },
  {
   "cell_type": "code",
   "execution_count": 122,
   "metadata": {},
   "outputs": [
    {
     "data": {
      "text/plain": [
       "0.0000e+00 |e|"
      ]
     },
     "execution_count": 122,
     "metadata": {},
     "output_type": "execute_result"
    }
   ],
   "source": [
    "pt = bss.IO.readMolecules(\"../inputs/ligands/ligand_8_xtal.sdf\")\n",
    "pt.charge()"
   ]
  },
  {
   "cell_type": "code",
   "execution_count": 153,
   "metadata": {},
   "outputs": [
    {
     "data": {
      "text/plain": [
       "array([[25.556 , 27.158 , 39.628 ],\n",
       "       [25.902 , 28.505 , 39.647 ],\n",
       "       [24.892 , 29.458 , 39.672 ],\n",
       "       [25.13  , 30.823 , 39.028 ],\n",
       "       [23.584 , 29.058 , 40.008 ],\n",
       "       [22.572 , 29.99  , 40.313 ],\n",
       "       [21.296 , 29.547 , 40.639 ],\n",
       "       [21.017 , 28.184 , 40.666 ],\n",
       "       [22.013 , 27.265 , 40.366 ],\n",
       "       [23.307 , 27.712 , 40.035 ],\n",
       "       [22.84  , 31.327 , 40.288 ],\n",
       "       [19.763 , 27.751 , 40.986 ],\n",
       "       [26.4   , 26.334 , 39.508 ],\n",
       "       [25.14  , 32.112 , 36.5881],\n",
       "       [26.306 , 29.941 , 36.692 ],\n",
       "       [23.842 , 30.02  , 36.724 ],\n",
       "       [24.268 , 26.785 , 39.745 ],\n",
       "       [25.103 , 30.719 , 37.17  ],\n",
       "       [24.416 , 31.455 , 39.33  ],\n",
       "       [26.02  , 31.172 , 39.322 ],\n",
       "       [26.863 , 28.783 , 39.643 ],\n",
       "       [20.577 , 30.208 , 40.854 ],\n",
       "       [21.812 , 26.286 , 40.385 ],\n",
       "       [23.031 , 30.585 , 36.911 ]], dtype=float32)"
      ]
     },
     "execution_count": 153,
     "metadata": {},
     "output_type": "execute_result"
    }
   ],
   "source": [
    "parm_u = mda.Universe(\"../inputs/protein/PT1.mol2\")\n",
    "xtal_u = mda.Universe(\"../inputs/ligands/ligand_8_xtal.mol2\")\n",
    "new_coords = xtal_u.atoms.positions\n",
    "new_univers = parm_u.load_new(new_coords)\n",
    "parm_u.atoms.positions"
   ]
  },
  {
   "cell_type": "code",
   "execution_count": 154,
   "metadata": {},
   "outputs": [
    {
     "data": {
      "text/plain": [
       "array([[25.556 , 27.158 , 39.628 ],\n",
       "       [25.902 , 28.505 , 39.647 ],\n",
       "       [24.892 , 29.458 , 39.672 ],\n",
       "       [25.13  , 30.823 , 39.028 ],\n",
       "       [23.584 , 29.058 , 40.008 ],\n",
       "       [22.572 , 29.99  , 40.313 ],\n",
       "       [21.296 , 29.547 , 40.639 ],\n",
       "       [21.017 , 28.184 , 40.666 ],\n",
       "       [22.013 , 27.265 , 40.366 ],\n",
       "       [23.307 , 27.712 , 40.035 ],\n",
       "       [22.84  , 31.327 , 40.288 ],\n",
       "       [19.763 , 27.751 , 40.986 ],\n",
       "       [26.4   , 26.334 , 39.508 ],\n",
       "       [25.14  , 32.112 , 36.5881],\n",
       "       [26.306 , 29.941 , 36.692 ],\n",
       "       [23.842 , 30.02  , 36.724 ],\n",
       "       [24.268 , 26.785 , 39.745 ],\n",
       "       [25.103 , 30.719 , 37.17  ],\n",
       "       [24.416 , 31.455 , 39.33  ],\n",
       "       [26.02  , 31.172 , 39.322 ],\n",
       "       [26.863 , 28.783 , 39.643 ],\n",
       "       [20.577 , 30.208 , 40.854 ],\n",
       "       [21.812 , 26.286 , 40.385 ],\n",
       "       [23.031 , 30.585 , 36.911 ]], dtype=float32)"
      ]
     },
     "execution_count": 154,
     "metadata": {},
     "output_type": "execute_result"
    }
   ],
   "source": [
    "new_univers.atoms.positions"
   ]
  },
  {
   "cell_type": "code",
   "execution_count": 148,
   "metadata": {},
   "outputs": [
    {
     "name": "stdout",
     "output_type": "stream",
     "text": [
      "< Timestep 0 >\n"
     ]
    }
   ],
   "source": [
    "\n"
   ]
  },
  {
   "cell_type": "code",
   "execution_count": null,
   "metadata": {},
   "outputs": [],
   "source": []
  }
 ],
 "metadata": {
  "kernelspec": {
   "display_name": "Python 3.9.13 ('sire')",
   "language": "python",
   "name": "python3"
  },
  "language_info": {
   "codemirror_mode": {
    "name": "ipython",
    "version": 3
   },
   "file_extension": ".py",
   "mimetype": "text/x-python",
   "name": "python",
   "nbconvert_exporter": "python",
   "pygments_lexer": "ipython3",
   "version": "3.9.13"
  },
  "orig_nbformat": 4,
  "vscode": {
   "interpreter": {
    "hash": "d26aaf8360ec79b5d34f6b3f2ca21f083671eb70d713101a39f31e19235f4f34"
   }
  }
 },
 "nbformat": 4,
 "nbformat_minor": 2
}
