{
 "cells": [
  {
   "cell_type": "code",
   "execution_count": 1,
   "metadata": {},
   "outputs": [
    {
     "name": "stderr",
     "output_type": "stream",
     "text": [
      "<frozen importlib._bootstrap>:228: RuntimeWarning: to-Python converter for std::vector<double, std::allocator<double> > already registered; second conversion method ignored.\n"
     ]
    },
    {
     "data": {
      "application/vnd.jupyter.widget-view+json": {
       "model_id": "0159309cf7dd49818192baaf3dc39933",
       "version_major": 2,
       "version_minor": 0
      },
      "text/plain": []
     },
     "metadata": {},
     "output_type": "display_data"
    },
    {
     "name": "stderr",
     "output_type": "stream",
     "text": [
      "WARNING:root:Warning: importing 'simtk.openmm' is deprecated.  Import 'openmm' instead.\n"
     ]
    }
   ],
   "source": [
    "import MDAnalysis as mda\n",
    "import MDAnalysis.analysis.align\n",
    "import pandas as pd\n",
    "import BioSimSpace as bss\n",
    "import nglview as nv\n",
    "import numpy as np\n",
    "import os\n",
    "\n",
    "import MDAnalysis.analysis.rms"
   ]
  },
  {
   "cell_type": "code",
   "execution_count": 17,
   "metadata": {},
   "outputs": [
    {
     "data": {
      "text/plain": [
       "'2023.1.1+34.g0a6d34f1'"
      ]
     },
     "execution_count": 17,
     "metadata": {},
     "output_type": "execute_result"
    }
   ],
   "source": [
    "bss.__version__"
   ]
  },
  {
   "cell_type": "code",
   "execution_count": 15,
   "metadata": {},
   "outputs": [],
   "source": [
    "unbound_path = \"../kpc2/equilibration/unbound/\"\n",
    "ligand_1_number = 4\n",
    "ligand_2_number = 9\n",
    "ligand_1_system = bss.IO.readMolecules([f\"{unbound_path}/ligand_{ligand_1_number}/npt/ligand_{ligand_1_number}.prm7\",\n",
    "                                        f\"{unbound_path}/ligand_{ligand_1_number}/npt/ligand_{ligand_1_number}.rst7\"])\n",
    "ligand_2_system = bss.IO.readMolecules([f\"{unbound_path}/ligand_{ligand_2_number}/npt/ligand_{ligand_2_number}.prm7\",\n",
    "                                        f\"{unbound_path}/ligand_{ligand_2_number}/npt/ligand_{ligand_2_number}.rst7\"])\n",
    "ligand_1 = ligand_1_system.getMolecule(0)\n",
    "ligand_2 = ligand_2_system.getMolecule(0)\n",
    "mapping = bss.Align.matchAtoms(ligand_1, ligand_2, complete_rings_only=True) \n",
    "\n",
    "inverse_mapping = {value:key for key,value in mapping.items()}\n",
    "ligand_2_aligned = bss.Align.rmsdAlign(ligand_2, ligand_1, inverse_mapping)\n",
    "\n",
    "merged_ligands = bss.Align.merge(ligand_1, ligand_2_aligned, mapping) \n",
    "\n",
    "ligand_1_system.removeMolecules(ligand_1)\n",
    "ligand_1_system.addMolecules(merged_ligands)\n",
    "unbound_system = ligand_1_system\n"
   ]
  },
  {
   "cell_type": "code",
   "execution_count": 16,
   "metadata": {},
   "outputs": [],
   "source": [
    "bss.IO.savePerturbableSystem(f\"unbound_{ligand_1_number}_{ligand_2_number}\", unbound_system)"
   ]
  },
  {
   "cell_type": "code",
   "execution_count": 4,
   "metadata": {},
   "outputs": [
    {
     "name": "stdout",
     "output_type": "stream",
     "text": [
      "<BioSimSpace.Atom: name='C', molecule=2 index=0> <BioSimSpace.Atom: name='C', molecule=660 index=0>\n",
      "<BioSimSpace.Atom: name='C', molecule=2 index=1> <BioSimSpace.Atom: name='C', molecule=660 index=1>\n",
      "<BioSimSpace.Atom: name='C', molecule=2 index=2> <BioSimSpace.Atom: name='C', molecule=660 index=2>\n",
      "<BioSimSpace.Atom: name='C', molecule=2 index=3> <BioSimSpace.Atom: name='C', molecule=660 index=3>\n",
      "<BioSimSpace.Atom: name='C', molecule=2 index=4> <BioSimSpace.Atom: name='C', molecule=660 index=4>\n",
      "<BioSimSpace.Atom: name='C', molecule=2 index=5> <BioSimSpace.Atom: name='C', molecule=660 index=5>\n",
      "<BioSimSpace.Atom: name='C', molecule=2 index=6> <BioSimSpace.Atom: name='C', molecule=660 index=6>\n",
      "<BioSimSpace.Atom: name='C', molecule=2 index=7> <BioSimSpace.Atom: name='C', molecule=660 index=7>\n",
      "<BioSimSpace.Atom: name='C', molecule=2 index=8> <BioSimSpace.Atom: name='C', molecule=660 index=8>\n",
      "<BioSimSpace.Atom: name='C', molecule=2 index=9> <BioSimSpace.Atom: name='C', molecule=660 index=9>\n",
      "<BioSimSpace.Atom: name='N', molecule=2 index=10> <BioSimSpace.Atom: name='C', molecule=660 index=10>\n",
      "<BioSimSpace.Atom: name='O', molecule=2 index=11> <BioSimSpace.Atom: name='O', molecule=660 index=11>\n",
      "<BioSimSpace.Atom: name='O', molecule=2 index=12> <BioSimSpace.Atom: name='O', molecule=660 index=12>\n",
      "<BioSimSpace.Atom: name='O', molecule=2 index=13> <BioSimSpace.Atom: name='O', molecule=660 index=13>\n",
      "<BioSimSpace.Atom: name='O', molecule=2 index=14> <BioSimSpace.Atom: name='O', molecule=660 index=14>\n",
      "<BioSimSpace.Atom: name='P', molecule=2 index=15> <BioSimSpace.Atom: name='O', molecule=660 index=15>\n",
      "<BioSimSpace.Atom: name='H', molecule=2 index=16> <BioSimSpace.Atom: name='P', molecule=660 index=16>\n",
      "<BioSimSpace.Atom: name='H', molecule=2 index=17> <BioSimSpace.Atom: name='H', molecule=660 index=17>\n",
      "<BioSimSpace.Atom: name='H', molecule=2 index=18> <BioSimSpace.Atom: name='H', molecule=660 index=18>\n",
      "<BioSimSpace.Atom: name='H', molecule=2 index=19> <BioSimSpace.Atom: name='H', molecule=660 index=19>\n",
      "<BioSimSpace.Atom: name='H', molecule=2 index=20> <BioSimSpace.Atom: name='H', molecule=660 index=20>\n",
      "<BioSimSpace.Atom: name='H', molecule=2 index=21> <BioSimSpace.Atom: name='H', molecule=660 index=21>\n",
      "<BioSimSpace.Atom: name='H', molecule=2 index=22> <BioSimSpace.Atom: name='H', molecule=660 index=22>\n",
      "<BioSimSpace.Atom: name='H', molecule=2 index=23> <BioSimSpace.Atom: name='H', molecule=660 index=23>\n",
      "<BioSimSpace.Atom: name='H', molecule=2 index=24> <BioSimSpace.Atom: name='H', molecule=660 index=24>\n"
     ]
    }
   ],
   "source": [
    "atoms_1 = ligand_1.getAtoms()\n",
    "atoms_2 = ligand_2.getAtoms()\n",
    "\n",
    "for i in range(len(atoms_1)):\n",
    "    print(atoms_1[i], atoms_2[i])"
   ]
  },
  {
   "cell_type": "code",
   "execution_count": 12,
   "metadata": {},
   "outputs": [
    {
     "data": {
      "text/plain": [
       "<BioSimSpace.FreeEnergy._relative.Relative at 0x7efed538a880>"
      ]
     },
     "execution_count": 12,
     "metadata": {},
     "output_type": "execute_result"
    }
   ],
   "source": [
    "free_energy_protocol = bss.Protocol.FreeEnergy()\n",
    "bss.FreeEnergy.Relative(unbound_system, free_energy_protocol, work_dir=\"/home/jguven/projects/metalloenzymes/scripts/\")"
   ]
  },
  {
   "cell_type": "code",
   "execution_count": 13,
   "metadata": {},
   "outputs": [
    {
     "name": "stdout",
     "output_type": "stream",
     "text": [
      "got molecules\n"
     ]
    }
   ],
   "source": [
    "bound_path = \"../kpc2/equilibration/bound/\"\n",
    "ligand_1_number = 13\n",
    "ligand_2_number = 6\n",
    "system_1 = bss.IO.readMolecules([f\"{bound_path}/system_{ligand_1_number}/npt/system_{ligand_1_number}.prm7\",\n",
    "                                        f\"{bound_path}/system_{ligand_1_number}/npt/system_{ligand_1_number}.rst7\"])\n",
    "system_2 = bss.IO.readMolecules([f\"{bound_path}/system_{ligand_2_number}/npt/system_{ligand_2_number}.prm7\",\n",
    "                                    f\"{bound_path}/system_{ligand_2_number}/npt/system_{ligand_2_number}.rst7\"])\n",
    "system_1_ligand = None\n",
    "protein = None\n",
    "n_residues = [molecule.nResidues() for molecule in system_1]\n",
    "n_atoms = [molecule.nAtoms() for molecule in system_1]\n",
    "for j, (n_residues, n_atoms) in enumerate(zip(n_residues[:20], n_atoms[:20])):\n",
    "    if n_residues == 1 and n_atoms > 5:\n",
    "        system_1_ligand = system_1.getMolecule(j)\n",
    "    elif n_residues > 1:\n",
    "        protein = system_1.getMolecule(j)\n",
    "    else:\n",
    "        pass\n",
    "\n",
    "system_2_ligand = None\n",
    "n_residues = [molecule.nResidues() for molecule in system_2]\n",
    "n_atoms = [molecule.nAtoms() for molecule in system_2]\n",
    "for j, (n_residues, n_atoms) in enumerate(zip(n_residues, n_atoms)):\n",
    "    if n_residues == 1 and n_atoms > 5:\n",
    "        system_2_ligand = system_2.getMolecule(j)\n",
    "    else:\n",
    "        pass    \n",
    "\n",
    "if system_1_ligand and system_2_ligand and protein:\n",
    "    print(f\"got molecules\")\n",
    "else:\n",
    "    print(\"didn't work\")\n",
    "\n",
    "mapping = bss.Align.matchAtoms(system_1_ligand, system_2_ligand, complete_rings_only=True)\n",
    "inverse_mapping = {value:key for key,value in mapping.items()}\n",
    "\n",
    "system_2_ligand_aligned = bss.Align.rmsdAlign(system_2_ligand, system_1_ligand, inverse_mapping)\n",
    "\n",
    "bound_merged_ligands = bss.Align.merge(system_1_ligand, system_2_ligand_aligned, mapping, allow_ring_breaking=True, allow_ring_size_change=True)\n",
    "\n",
    "system_1.removeMolecules(system_1_ligand)\n",
    "system_1.addMolecules(bound_merged_ligands)\n",
    "bound_system = system_1"
   ]
  },
  {
   "cell_type": "code",
   "execution_count": 25,
   "metadata": {},
   "outputs": [
    {
     "data": {
      "text/plain": [
       "<BioSimSpace.Molecule: number=19468, nAtoms=31, nResidues=1>"
      ]
     },
     "execution_count": 25,
     "metadata": {},
     "output_type": "execute_result"
    }
   ],
   "source": []
  },
  {
   "cell_type": "code",
   "execution_count": 14,
   "metadata": {},
   "outputs": [
    {
     "data": {
      "text/plain": [
       "<BioSimSpace.FreeEnergy._relative.Relative at 0x7efed526b5b0>"
      ]
     },
     "execution_count": 14,
     "metadata": {},
     "output_type": "execute_result"
    }
   ],
   "source": [
    "bss.FreeEnergy.Relative(bound_system, free_energy_protocol, work_dir=\"/home/jguven/projects/metalloenzymes/scripts/\")"
   ]
  },
  {
   "cell_type": "code",
   "execution_count": 6,
   "metadata": {},
   "outputs": [
    {
     "name": "stdout",
     "output_type": "stream",
     "text": [
      "0.6327603865593754\n"
     ]
    }
   ],
   "source": [
    "second = mda.Universe(\"/home/jguven/projects/metalloenzymes/kpc2/inputs/protein/protein_complex.pdb\")\n",
    "first = mda.Universe(\"/home/jguven/projects/metalloenzymes/kpc2/inputs/protein/protein_1.pdb\")\n",
    "second_positions = second.select_atoms(\"protein\").positions\n",
    "first_positions = first.select_atoms(\"protein\").positions\n",
    "rmsd = MDAnalysis.analysis.rms.rmsd(second_positions, first_positions)\n",
    "print(rmsd)"
   ]
  },
  {
   "cell_type": "code",
   "execution_count": 3,
   "metadata": {},
   "outputs": [],
   "source": [
    "full_path = os.getcwd() + \"/\"\n",
    "if \"scripts\" in full_path:\n",
    "    full_path = full_path.replace(\"/scripts/\", \"/\")\n",
    "equilibration_path = full_path + \"/kpc2/\" + \"/equilibration/\"\n",
    "bound_path = equilibration_path + \"bound/\"\n",
    "ligand_1_number = 1\n",
    "ligand_2_number = 2\n",
    "system_1_gmx = bss.IO.readMolecules([f\"{bound_path}/system_{ligand_1_number}/npt/npt.gro\",\n",
    "                                     f\"{bound_path}/system_{ligand_1_number}/npt/npt.top\"])\n",
    "system_2_gmx = bss.IO.readMolecules([f\"{bound_path}/system_{ligand_2_number}/npt/npt.gro\",\n",
    "                                     f\"{bound_path}/system_{ligand_2_number}/npt/npt.top\"])\n"
   ]
  },
  {
   "cell_type": "code",
   "execution_count": 5,
   "metadata": {},
   "outputs": [
    {
     "ename": "OSError",
     "evalue": "Failed to save system to format: 'RST7'",
     "output_type": "error",
     "traceback": [
      "\u001b[0;31m---------------------------------------------------------------------------\u001b[0m",
      "\u001b[0;31mOSError\u001b[0m                                   Traceback (most recent call last)",
      "Cell \u001b[0;32mIn [5], line 1\u001b[0m\n\u001b[0;32m----> 1\u001b[0m system_1_amber \u001b[39m=\u001b[39m bss\u001b[39m.\u001b[39;49mIO\u001b[39m.\u001b[39;49msaveMolecules(\u001b[39mf\u001b[39;49m\u001b[39m\"\u001b[39;49m\u001b[39m{\u001b[39;49;00mbound_path\u001b[39m}\u001b[39;49;00m\u001b[39m/system_\u001b[39;49m\u001b[39m{\u001b[39;49;00mligand_1_number\u001b[39m}\u001b[39;49;00m\u001b[39m/ligand_\u001b[39;49m\u001b[39m{\u001b[39;49;00mligand_1_number\u001b[39m}\u001b[39;49;00m\u001b[39m\"\u001b[39;49m, system_1_gmx, [\u001b[39m\"\u001b[39;49m\u001b[39mPRM7\u001b[39;49m\u001b[39m\"\u001b[39;49m, \u001b[39m\"\u001b[39;49m\u001b[39mRST7\u001b[39;49m\u001b[39m\"\u001b[39;49m])\n\u001b[1;32m      2\u001b[0m system_2_amber \u001b[39m=\u001b[39m bss\u001b[39m.\u001b[39mIO\u001b[39m.\u001b[39msaveMolecules(\u001b[39mf\u001b[39m\u001b[39m\"\u001b[39m\u001b[39m{\u001b[39;00mbound_path\u001b[39m}\u001b[39;00m\u001b[39m/system_\u001b[39m\u001b[39m{\u001b[39;00mligand_2_number\u001b[39m}\u001b[39;00m\u001b[39m/ligand_\u001b[39m\u001b[39m{\u001b[39;00mligand_2_number\u001b[39m}\u001b[39;00m\u001b[39m\"\u001b[39m, system_2_gmx, [\u001b[39m\"\u001b[39m\u001b[39mPRM7\u001b[39m\u001b[39m\"\u001b[39m, \u001b[39m\"\u001b[39m\u001b[39mRST7\u001b[39m\u001b[39m\"\u001b[39m])\n",
      "File \u001b[0;32m~/BioSimSpace/python/BioSimSpace/IO/_io.py:686\u001b[0m, in \u001b[0;36msaveMolecules\u001b[0;34m(filebase, system, fileformat, property_map)\u001b[0m\n\u001b[1;32m    684\u001b[0m             \u001b[39mraise\u001b[39;00m \u001b[39mIOError\u001b[39;00m(msg) \u001b[39mfrom\u001b[39;00m \u001b[39me\u001b[39;00m\n\u001b[1;32m    685\u001b[0m         \u001b[39melse\u001b[39;00m:\n\u001b[0;32m--> 686\u001b[0m             \u001b[39mraise\u001b[39;00m \u001b[39mIOError\u001b[39;00m(msg) \u001b[39mfrom\u001b[39;00m \u001b[39mNone\u001b[39m\n\u001b[1;32m    688\u001b[0m \u001b[39m# Change back to the original directory.\u001b[39;00m\n\u001b[1;32m    689\u001b[0m \u001b[39mif\u001b[39;00m dirname \u001b[39m!=\u001b[39m \u001b[39m\"\u001b[39m\u001b[39m\"\u001b[39m:\n",
      "\u001b[0;31mOSError\u001b[0m: Failed to save system to format: 'RST7'"
     ]
    }
   ],
   "source": [
    "system_1_amber = bss.IO.saveMolecules(f\"{bound_path}/system_{ligand_1_number}/ligand_{ligand_1_number}\", system_1_gmx, [\"PRM7\", \"RST7\"])\n",
    "system_2_amber = bss.IO.saveMolecules(f\"{bound_path}/system_{ligand_2_number}/ligand_{ligand_2_number}\", system_2_gmx, [\"PRM7\", \"RST7\"])\n",
    "    "
   ]
  },
  {
   "cell_type": "code",
   "execution_count": 6,
   "metadata": {},
   "outputs": [
    {
     "data": {
      "application/vnd.jupyter.widget-view+json": {
       "model_id": "8f16293f98d342bab0d7df6659d49535",
       "version_major": 2,
       "version_minor": 0
      },
      "text/plain": [
       "NGLWidget()"
      ]
     },
     "metadata": {},
     "output_type": "display_data"
    }
   ],
   "source": [
    "lig_14_system = mda.Universe(\"../kpc2/equilibration/bound/system_14/r_nvt/r_nvt.gro\")\n",
    "nv.show_mdanalysis(lig_14_system)"
   ]
  },
  {
   "cell_type": "code",
   "execution_count": 16,
   "metadata": {},
   "outputs": [
    {
     "name": "stdout",
     "output_type": "stream",
     "text": [
      "-10.0000 |e|\n",
      "<BioSimSpace.Molecule: nAtoms=1, nResidues=1>\n"
     ]
    }
   ],
   "source": [
    "vim2_dry = bss.IO.readMolecules([\"../vim_2/playground/vim2_dry.prmtop\",\n",
    "                                 \"../vim_2/playground/vim2_dry.inpcrd\"])[0]\n",
    "print(vim2_dry.charge())     \n",
    "\n",
    "print(vim2_dry.extract([232]))"
   ]
  },
  {
   "cell_type": "code",
   "execution_count": 45,
   "metadata": {},
   "outputs": [
    {
     "name": "stdout",
     "output_type": "stream",
     "text": [
      "ligand charge -0.7114419266581535\n",
      "residue HD1 83 has charge 0.054078073939308524\n",
      "residue HE1 85 has charge 0.5690882261842489\n",
      "residue AP1 87 has charge -0.3650490939617157\n",
      "residue HD2 148 has charge 0.25752707151696086\n",
      "residue CS1 167 has charge -0.31586899794638157\n",
      "residue HD3 209 has charge 0.41295304521918297\n",
      "residue ZN1 231 has charge 0.9915969967842102\n",
      "residue ZN2 232 has charge 1.107118010520935\n",
      "2.7114433322567493\n",
      "-9.288554110797122\n"
     ]
    }
   ],
   "source": [
    "universe = mda.Universe(\"../vim_2/playground/vim2_dry.prmtop\",\n",
    "                        \"../vim_2/playground/vim2_dry.inpcrd\")\n",
    "system = universe.select_atoms(\"all\")\n",
    "ligand = universe.select_atoms(\"resname PT1\")\n",
    "print(f\"ligand charge {ligand.total_charge()}\")\n",
    "active_site = pd.read_csv(\"../vim_2/inputs/protein/active_site.csv\", header=None, names=[\"resname\", \"resid\"])\n",
    "active_site_resnames = active_site[\"resname\"].tolist()\n",
    "\n",
    "resnames = system.residues.resnames\n",
    "resids = system.residues.resids\n",
    "charges = []\n",
    "other_charges = []\n",
    "for i in range(len(resids)):\n",
    "    if resnames[i] in active_site_resnames:\n",
    "        residue = universe.select_atoms(f\"resname {resnames[i]}\")\n",
    "        charge = residue.total_charge()\n",
    "        print(f\"residue {resnames[i]} {resids[i]} has charge {charge}\")\n",
    "        charges.append(float(charge))\n",
    "\n",
    "    # if resnames[i] != \"PT1\" and resnames[i] != \"WAT\" and resnames[i] not in active_site_resnames:\n",
    "    #     residue = universe.select_atoms(f\"resname {resnames[i]}\")\n",
    "    #     charge = residue.total_charge()\n",
    "    #     other_charges.append(float(charge))\n",
    "\n",
    "net_charge = sum(charges)\n",
    "print(net_charge)\n",
    "\n",
    "not_ligand = universe.select_atoms(\"not resname PT1\")\n",
    "print(not_ligand.total_charge())\n"
   ]
  },
  {
   "cell_type": "code",
   "execution_count": 49,
   "metadata": {},
   "outputs": [
    {
     "name": "stdout",
     "output_type": "stream",
     "text": [
      "82 ACE\n",
      "83 HID\n",
      "84 GLY\n",
      "85 HIE\n",
      "86 GLY\n",
      "87 ASP\n",
      "88 NME\n",
      "147 ACE\n",
      "148 HID\n",
      "149 NME\n",
      "166 ACE\n",
      "167 CYS\n",
      "168 NME\n",
      "208 ACE\n",
      "209 HID\n",
      "210 NME\n",
      "231 ZN\n",
      "232 ZN\n",
      "233 P9T\n"
     ]
    }
   ],
   "source": [
    "universe = mda.Universe(\"../md_vim2/outputs/vim2_large.pdb\")\n",
    "vim2_large = universe.select_atoms(\"all\")\n",
    "resids = vim2_large.residues.resids\n",
    "resnames = vim2_large.residues.resnames\n",
    "for i in range(len(resids)):\n",
    "    print(f\"{resids[i]} {resnames[i]}\")"
   ]
  },
  {
   "cell_type": "code",
   "execution_count": 46,
   "metadata": {},
   "outputs": [
    {
     "name": "stdout",
     "output_type": "stream",
     "text": [
      "0.0\n"
     ]
    }
   ],
   "source": [
    "    "
   ]
  },
  {
   "cell_type": "code",
   "execution_count": 4,
   "metadata": {},
   "outputs": [
    {
     "name": "stdout",
     "output_type": "stream",
     "text": [
      "0.0000e+00 |e|\n"
     ]
    }
   ],
   "source": [
    "ligand = bss.IO.readMolecules(\"../vim_2/inputs/ligands/docked_1.sdf\")[0]\n",
    "print(ligand.charge())"
   ]
  },
  {
   "cell_type": "code",
   "execution_count": 9,
   "metadata": {},
   "outputs": [
    {
     "name": "stdout",
     "output_type": "stream",
     "text": [
      "<BioSimSpace.Molecule: nAtoms=3456, nResidues=245>\n",
      "0.0000e+00 |e|\n"
     ]
    }
   ],
   "source": [
    "hpp = bss.IO.readMolecules(\"../vim_2/inputs/protein/vim2_hpp.pdb\")[0]\n",
    "print(hpp)\n",
    "print(hpp.charge())"
   ]
  },
  {
   "cell_type": "code",
   "execution_count": 11,
   "metadata": {},
   "outputs": [
    {
     "name": "stdout",
     "output_type": "stream",
     "text": [
      "-0.7114 |e|\n"
     ]
    }
   ],
   "source": [
    "pt1 = bss.IO.readMolecules(\"../vim_2/inputs/protein/PT1.mol2\")[0]\n",
    "print(pt1.charge())"
   ]
  },
  {
   "cell_type": "code",
   "execution_count": 10,
   "metadata": {},
   "outputs": [
    {
     "name": "stdout",
     "output_type": "stream",
     "text": [
      "<BioSimSpace.Molecule: nAtoms=3417, nResidues=232>\n",
      "-9.2886 |e|\n"
     ]
    }
   ],
   "source": [
    "protein = bss.IO.readMolecules([\"../vim_2/inputs/protein/prot_water.prm7\",\n",
    "                                \"../vim_2/inputs/protein/prot_water.rst7\"])[0]\n",
    "print(protein)                                \n",
    "print(protein.charge())                                "
   ]
  },
  {
   "cell_type": "code",
   "execution_count": 15,
   "metadata": {},
   "outputs": [
    {
     "data": {
      "application/vnd.jupyter.widget-view+json": {
       "model_id": "d793bbebf68047b1b293b1d49fdeb0d4",
       "version_major": 2,
       "version_minor": 0
      },
      "text/plain": [
       "NGLWidget()"
      ]
     },
     "metadata": {},
     "output_type": "display_data"
    }
   ],
   "source": [
    "nv.show_file(\"../kpc2/equilibration/unbound/ligand_8/r_nvt/r_nvt.gro\")"
   ]
  },
  {
   "cell_type": "code",
   "execution_count": 22,
   "metadata": {},
   "outputs": [],
   "source": [
    "active_site = pd.read_csv(\"../vim_2/inputs/protein/active_site.csv\", header=None, names=[\"resname\", \"resid\"])\n",
    "active_site_residues = active_site[\"resname\"].tolist()\n",
    "active_site_residue_ids = active_site[\"resid\"].tolist()\n",
    "\n",
    "universe = mda.Universe(\"../vim_2/inputs/protein/protein_complex.pdb\")\n",
    "atom_group = universe.select_atoms(f\"resid {active_site_residue_ids[0]}\")\n",
    "atom_group.residues.resnames = active_site_residues[0]\n",
    "atom_group.residues.resnames\n",
    "universe.select_atoms(f\"resid {active_site_residue_ids[0]}\").resnames\n",
    "universe.atoms.write(\"test.pdb\")\n"
   ]
  },
  {
   "cell_type": "code",
   "execution_count": 13,
   "metadata": {},
   "outputs": [
    {
     "ename": "AttributeError",
     "evalue": "module 'csv' has no attribute 'readlines'",
     "output_type": "error",
     "traceback": [
      "\u001b[0;31m---------------------------------------------------------------------------\u001b[0m",
      "\u001b[0;31mAttributeError\u001b[0m                            Traceback (most recent call last)",
      "Cell \u001b[0;32mIn [13], line 3\u001b[0m\n\u001b[1;32m      1\u001b[0m \u001b[39mimport\u001b[39;00m \u001b[39mcsv\u001b[39;00m\n\u001b[1;32m      2\u001b[0m \u001b[39mwith\u001b[39;00m \u001b[39mopen\u001b[39m(\u001b[39m'\u001b[39m\u001b[39m../vim_2/inputs/protein/active_site.csv\u001b[39m\u001b[39m'\u001b[39m, \u001b[39m'\u001b[39m\u001b[39mr\u001b[39m\u001b[39m'\u001b[39m) \u001b[39mas\u001b[39;00m file:\n\u001b[0;32m----> 3\u001b[0m     reader \u001b[39m=\u001b[39m csv\u001b[39m.\u001b[39;49mreadlines()\n\u001b[1;32m      6\u001b[0m \u001b[39m# returns ','\u001b[39;00m\n",
      "\u001b[0;31mAttributeError\u001b[0m: module 'csv' has no attribute 'readlines'"
     ]
    }
   ],
   "source": [
    "import csv\n",
    "with open('../vim_2/inputs/protein/active_site.csv', 'r') as file:\n",
    "    reader = csv.readlines()\n",
    "\n",
    "\n",
    "# returns ','"
   ]
  },
  {
   "cell_type": "code",
   "execution_count": 4,
   "metadata": {},
   "outputs": [
    {
     "data": {
      "text/html": [
       "<div>\n",
       "<style scoped>\n",
       "    .dataframe tbody tr th:only-of-type {\n",
       "        vertical-align: middle;\n",
       "    }\n",
       "\n",
       "    .dataframe tbody tr th {\n",
       "        vertical-align: top;\n",
       "    }\n",
       "\n",
       "    .dataframe thead th {\n",
       "        text-align: right;\n",
       "    }\n",
       "</style>\n",
       "<table border=\"1\" class=\"dataframe\">\n",
       "  <thead>\n",
       "    <tr style=\"text-align: right;\">\n",
       "      <th></th>\n",
       "      <th>resname</th>\n",
       "      <th>resid</th>\n",
       "    </tr>\n",
       "  </thead>\n",
       "  <tbody>\n",
       "    <tr>\n",
       "      <th>0</th>\n",
       "      <td>HD1 83</td>\n",
       "      <td>NaN</td>\n",
       "    </tr>\n",
       "    <tr>\n",
       "      <th>1</th>\n",
       "      <td>HE1 85</td>\n",
       "      <td>NaN</td>\n",
       "    </tr>\n",
       "    <tr>\n",
       "      <th>2</th>\n",
       "      <td>AP1 87</td>\n",
       "      <td>NaN</td>\n",
       "    </tr>\n",
       "    <tr>\n",
       "      <th>3</th>\n",
       "      <td>HD2 148</td>\n",
       "      <td>NaN</td>\n",
       "    </tr>\n",
       "    <tr>\n",
       "      <th>4</th>\n",
       "      <td>CS1 167</td>\n",
       "      <td>NaN</td>\n",
       "    </tr>\n",
       "    <tr>\n",
       "      <th>5</th>\n",
       "      <td>HD3 209</td>\n",
       "      <td>NaN</td>\n",
       "    </tr>\n",
       "  </tbody>\n",
       "</table>\n",
       "</div>"
      ],
      "text/plain": [
       "   resname  resid\n",
       "0   HD1 83    NaN\n",
       "1   HE1 85    NaN\n",
       "2   AP1 87    NaN\n",
       "3  HD2 148    NaN\n",
       "4  CS1 167    NaN\n",
       "5  HD3 209    NaN"
      ]
     },
     "execution_count": 4,
     "metadata": {},
     "output_type": "execute_result"
    }
   ],
   "source": [
    "active_site = pd.read_csv(\"../vim_2/inputs/protein/active_site_copy.txt\", header=None, names=[\"resname\", \"resid\"])\n",
    "active_site"
   ]
  },
  {
   "cell_type": "code",
   "execution_count": 2,
   "metadata": {},
   "outputs": [
    {
     "name": "stdout",
     "output_type": "stream",
     "text": [
      "['../kpc2/inputs/ligands/ligand_1_solvated.gro', '../kpc2/inputs/ligands/ligand_1_solvated.top']\n"
     ]
    }
   ],
   "source": [
    "import glob\n",
    "test = glob.glob(\"../kpc2/inputs/ligands/ligand_1_solvated*\")\n",
    "print(test)"
   ]
  },
  {
   "cell_type": "code",
   "execution_count": 2,
   "metadata": {},
   "outputs": [
    {
     "name": "stderr",
     "output_type": "stream",
     "text": [
      "/home/jguven/Software/miniconda3/envs/sire/lib/python3.9/site-packages/alchemlyb/preprocessing/subsampling.py:135: FutureWarning: In a future version of pandas all arguments of DataFrame.sort_index will be keyword-only.\n",
      "  return df.sort_index(0).reset_index('time').duplicated('time').any()\n",
      "/home/jguven/Software/miniconda3/envs/sire/lib/python3.9/site-packages/alchemlyb/preprocessing/subsampling.py:133: FutureWarning: In a future version of pandas all arguments of Series.sort_index will be keyword-only.\n",
      "  return df.sort_index(0).reset_index('time', name='').duplicated('time').any()\n",
      "/home/jguven/Software/miniconda3/envs/sire/lib/python3.9/site-packages/alchemlyb/preprocessing/subsampling.py:135: FutureWarning: In a future version of pandas all arguments of DataFrame.sort_index will be keyword-only.\n",
      "  return df.sort_index(0).reset_index('time').duplicated('time').any()\n",
      "/home/jguven/Software/miniconda3/envs/sire/lib/python3.9/site-packages/alchemlyb/preprocessing/subsampling.py:133: FutureWarning: In a future version of pandas all arguments of Series.sort_index will be keyword-only.\n",
      "  return df.sort_index(0).reset_index('time', name='').duplicated('time').any()\n",
      "/home/jguven/Software/miniconda3/envs/sire/lib/python3.9/site-packages/alchemlyb/preprocessing/subsampling.py:135: FutureWarning: In a future version of pandas all arguments of DataFrame.sort_index will be keyword-only.\n",
      "  return df.sort_index(0).reset_index('time').duplicated('time').any()\n",
      "/home/jguven/Software/miniconda3/envs/sire/lib/python3.9/site-packages/alchemlyb/preprocessing/subsampling.py:133: FutureWarning: In a future version of pandas all arguments of Series.sort_index will be keyword-only.\n",
      "  return df.sort_index(0).reset_index('time', name='').duplicated('time').any()\n",
      "/home/jguven/Software/miniconda3/envs/sire/lib/python3.9/site-packages/alchemlyb/preprocessing/subsampling.py:135: FutureWarning: In a future version of pandas all arguments of DataFrame.sort_index will be keyword-only.\n",
      "  return df.sort_index(0).reset_index('time').duplicated('time').any()\n",
      "/home/jguven/Software/miniconda3/envs/sire/lib/python3.9/site-packages/alchemlyb/preprocessing/subsampling.py:133: FutureWarning: In a future version of pandas all arguments of Series.sort_index will be keyword-only.\n",
      "  return df.sort_index(0).reset_index('time', name='').duplicated('time').any()\n",
      "/home/jguven/Software/miniconda3/envs/sire/lib/python3.9/site-packages/alchemlyb/preprocessing/subsampling.py:135: FutureWarning: In a future version of pandas all arguments of DataFrame.sort_index will be keyword-only.\n",
      "  return df.sort_index(0).reset_index('time').duplicated('time').any()\n",
      "/home/jguven/Software/miniconda3/envs/sire/lib/python3.9/site-packages/alchemlyb/preprocessing/subsampling.py:133: FutureWarning: In a future version of pandas all arguments of Series.sort_index will be keyword-only.\n",
      "  return df.sort_index(0).reset_index('time', name='').duplicated('time').any()\n",
      "/home/jguven/Software/miniconda3/envs/sire/lib/python3.9/site-packages/alchemlyb/preprocessing/subsampling.py:135: FutureWarning: In a future version of pandas all arguments of DataFrame.sort_index will be keyword-only.\n",
      "  return df.sort_index(0).reset_index('time').duplicated('time').any()\n",
      "/home/jguven/Software/miniconda3/envs/sire/lib/python3.9/site-packages/alchemlyb/preprocessing/subsampling.py:133: FutureWarning: In a future version of pandas all arguments of Series.sort_index will be keyword-only.\n",
      "  return df.sort_index(0).reset_index('time', name='').duplicated('time').any()\n",
      "/home/jguven/Software/miniconda3/envs/sire/lib/python3.9/site-packages/alchemlyb/preprocessing/subsampling.py:135: FutureWarning: In a future version of pandas all arguments of DataFrame.sort_index will be keyword-only.\n",
      "  return df.sort_index(0).reset_index('time').duplicated('time').any()\n",
      "/home/jguven/Software/miniconda3/envs/sire/lib/python3.9/site-packages/alchemlyb/preprocessing/subsampling.py:133: FutureWarning: In a future version of pandas all arguments of Series.sort_index will be keyword-only.\n",
      "  return df.sort_index(0).reset_index('time', name='').duplicated('time').any()\n",
      "/home/jguven/Software/miniconda3/envs/sire/lib/python3.9/site-packages/alchemlyb/preprocessing/subsampling.py:135: FutureWarning: In a future version of pandas all arguments of DataFrame.sort_index will be keyword-only.\n",
      "  return df.sort_index(0).reset_index('time').duplicated('time').any()\n",
      "/home/jguven/Software/miniconda3/envs/sire/lib/python3.9/site-packages/alchemlyb/preprocessing/subsampling.py:133: FutureWarning: In a future version of pandas all arguments of Series.sort_index will be keyword-only.\n",
      "  return df.sort_index(0).reset_index('time', name='').duplicated('time').any()\n",
      "/home/jguven/Software/miniconda3/envs/sire/lib/python3.9/site-packages/alchemlyb/preprocessing/subsampling.py:135: FutureWarning: In a future version of pandas all arguments of DataFrame.sort_index will be keyword-only.\n",
      "  return df.sort_index(0).reset_index('time').duplicated('time').any()\n",
      "/home/jguven/Software/miniconda3/envs/sire/lib/python3.9/site-packages/alchemlyb/preprocessing/subsampling.py:133: FutureWarning: In a future version of pandas all arguments of Series.sort_index will be keyword-only.\n",
      "  return df.sort_index(0).reset_index('time', name='').duplicated('time').any()\n"
     ]
    }
   ],
   "source": [
    "free_directory = \"/home/jguven/unbound/\"\n",
    "pmf_free, overlap_matrix_free = bss.FreeEnergy.Relative.analyse(free_directory)\n",
    "\n",
    "pmf_bound, overlap_matrix_bound = bss.FreeEnergy.Relative.analyse(bound_directory)\n",
    "free_energy_difference, free_energy_error = bss.FreeEnergy.Relative.difference(pmf_bound, pmf_free)"
   ]
  },
  {
   "cell_type": "code",
   "execution_count": 3,
   "metadata": {},
   "outputs": [
    {
     "data": {
      "text/plain": [
       "[(0.0, 0.0000e+00 kcal/mol, 0.1263 kcal/mol),\n",
       " (0.125, 9.4915 kcal/mol, 0.0000e+00 kcal/mol),\n",
       " (0.25, 6.3567 kcal/mol, 0.1496 kcal/mol),\n",
       " (0.375, -1.9805 kcal/mol, 0.1575 kcal/mol),\n",
       " (0.5, -11.7766 kcal/mol, 0.1598 kcal/mol),\n",
       " (0.625, -6.9513 kcal/mol, 0.1647 kcal/mol),\n",
       " (0.75, 16.9964 kcal/mol, 0.7148 kcal/mol),\n",
       " (0.875, 34.2116 kcal/mol, 0.6545 kcal/mol),\n",
       " (1.0, 42.5350 kcal/mol, 0.6464 kcal/mol)]"
      ]
     },
     "execution_count": 3,
     "metadata": {},
     "output_type": "execute_result"
    }
   ],
   "source": [
    "pmf_free"
   ]
  },
  {
   "cell_type": "code",
   "execution_count": 4,
   "metadata": {},
   "outputs": [
    {
     "data": {
      "text/plain": [
       "matrix([[9.97193833e-01, 2.71904833e-03, 1.14636118e-05, 1.75632486e-12,\n",
       "         5.28367192e-15, 2.34408067e-17, 1.13940050e-12, 1.15846327e-08,\n",
       "         7.56432246e-05],\n",
       "        [8.92222584e-03, 9.84741734e-01, 6.33547540e-03, 4.02486897e-07,\n",
       "         6.14447531e-09, 7.07260002e-10, 9.73846692e-13, 2.37954497e-09,\n",
       "         1.53059092e-07],\n",
       "        [2.31939541e-05, 3.90639581e-03, 9.59299807e-01, 3.62058081e-02,\n",
       "         3.39304264e-04, 1.49291498e-04, 6.18717281e-05, 1.38934843e-05,\n",
       "         4.33852762e-07],\n",
       "        [3.81602359e-12, 2.66502731e-07, 3.88804360e-02, 8.17854822e-01,\n",
       "         1.37151472e-01, 6.11298115e-03, 2.23662098e-08, 9.05586163e-13,\n",
       "         1.31654640e-13],\n",
       "        [5.28367192e-15, 1.87252885e-09, 1.67701132e-04, 6.31239650e-02,\n",
       "         9.14384656e-01, 2.23236760e-02, 1.99819867e-13, 1.36207282e-21,\n",
       "         7.03771152e-23],\n",
       "        [2.34408067e-17, 2.15537486e-10, 7.37873228e-05, 2.81349957e-03,\n",
       "         2.23236760e-02, 9.74789036e-01, 9.02619530e-10, 2.10700472e-19,\n",
       "         2.12218430e-23],\n",
       "        [1.13940050e-12, 2.96779779e-13, 3.05801016e-05, 1.02940481e-08,\n",
       "         1.99819867e-13, 9.02619530e-10, 9.99754064e-01, 2.15344228e-04,\n",
       "         3.17976682e-10],\n",
       "        [1.15846327e-08, 7.25166331e-10, 6.86685464e-06, 4.16796032e-13,\n",
       "         1.36207282e-21, 2.10700472e-19, 2.15344228e-04, 9.98180343e-01,\n",
       "         1.59743375e-03],\n",
       "        [7.56432246e-05, 4.66447583e-08, 2.14431727e-07, 6.05940481e-14,\n",
       "         7.03771152e-23, 2.12218430e-23, 3.17976682e-10, 1.59743375e-03,\n",
       "         9.98326662e-01]])"
      ]
     },
     "execution_count": 4,
     "metadata": {},
     "output_type": "execute_result"
    }
   ],
   "source": [
    "overlap_matrix_free"
   ]
  },
  {
   "cell_type": "code",
   "execution_count": 13,
   "metadata": {},
   "outputs": [],
   "source": [
    "import numpy as np\n",
    "n_windows = 11\n",
    "lambda_array = list(np.around(np.linspace(0, 1, int(n_windows)), decimals=5))\n",
    "lambda_list = [str(item) for item in lambda_array]\n",
    "\n",
    "lambda_array_bash = \" \".join(lambda_list)\n",
    "with open(\"test.dat\", \"w\") as file:\n",
    "    file.write(lambda_array_bash)"
   ]
  },
  {
   "cell_type": "code",
   "execution_count": 3,
   "metadata": {},
   "outputs": [
    {
     "name": "stdout",
     "output_type": "stream",
     "text": [
      "   ATOM atom_id name resname resid        X       Y       Z   num  zero  \\\n",
      "0  ATOM       1    N     GLU     1  -16.230  -5.653  12.548  0.00  0.00   \n",
      "1  ATOM       2   H1     GLU     1  -15.787  -6.381  12.805  0.23  0.00   \n",
      "2  ATOM       3   H2     GLU     1  -17.036  -5.649  12.925  0.23  0.00   \n",
      "3  ATOM       4   H3     GLU     1  -16.317  -5.657  11.662  0.23  0.00   \n",
      "4  ATOM       5   CA     GLU     1  -15.494  -4.464  12.960  0.05  0.00   \n",
      "\n",
      "  element  \n",
      "0       N  \n",
      "1       H  \n",
      "2       H  \n",
      "3       H  \n",
      "4       C  \n"
     ]
    },
    {
     "name": "stdout",
     "output_type": "stream",
     "text": [
      "\n",
      "==============================================================\n",
      "Sending anonymous Sire usage statistics to http://siremol.org.\n",
      "For more information, see http://siremol.org/analytics\n",
      "To disable, set the environment variable 'SIRE_DONT_PHONEHOME' to 1\n",
      "To see the information sent, set the environment variable \n",
      "SIRE_VERBOSE_PHONEHOME equal to 1. To silence this message, set\n",
      "the environment variable SIRE_SILENT_PHONEHOME to 1.\n",
      "==============================================================\n",
      "\n"
     ]
    }
   ],
   "source": [
    "columns = [\"ATOM\", \"atom_id\", \"name\", \"resname\", \"resid\", \"X\", \"Y\", \"Z\", \"num\", \"zero\", \"element\"]\n",
    "pdb = pd.read_csv(\"../vim_2/inputs/protein/protein_complex.pdb\", sep=\"\\s+\", skiprows=1, header=None, dtype=str, names=columns).dropna()\n",
    "print(pdb.head())\n",
    "\n",
    "pd_to_list = lambda column: pdb[column].tolist()\n",
    "atoms = pd_to_list(\"ATOM\")\n",
    "atom_ids = pd_to_list(\"atom_id\")\n",
    "atom_names = pd_to_list(\"name\")\n",
    "residue_names = pd_to_list(\"resname\")\n",
    "residue_ids = pd_to_list(\"resid\")\n",
    "x, y, z = pd_to_list(\"X\"), pd_to_list(\"Y\"), pd_to_list(\"Z\")\n",
    "numbers = pd_to_list(\"num\")\n",
    "zeros = pd_to_list(\"zero\")\n",
    "elements = pd_to_list(\"element\")"
   ]
  },
  {
   "cell_type": "code",
   "execution_count": 4,
   "metadata": {},
   "outputs": [
    {
     "name": "stdout",
     "output_type": "stream",
     "text": [
      "HD1\n",
      "HD1\n",
      "HD1\n",
      "HD1\n",
      "HD1\n",
      "HD1\n",
      "HD1\n",
      "HD1\n",
      "HD1\n",
      "HD1\n",
      "HD1\n",
      "HD1\n",
      "HD1\n",
      "HD1\n",
      "HD1\n",
      "HD1\n",
      "HD1\n",
      "HE1\n",
      "HE1\n",
      "HE1\n",
      "HE1\n",
      "HE1\n",
      "HE1\n",
      "HE1\n",
      "HE1\n",
      "HE1\n",
      "HE1\n",
      "HE1\n",
      "HE1\n",
      "HE1\n",
      "HE1\n",
      "HE1\n",
      "HE1\n",
      "HE1\n",
      "AP1\n",
      "AP1\n",
      "AP1\n",
      "AP1\n",
      "AP1\n",
      "AP1\n",
      "AP1\n",
      "AP1\n",
      "AP1\n",
      "AP1\n",
      "AP1\n",
      "AP1\n",
      "HD2\n",
      "HD2\n",
      "HD2\n",
      "HD2\n",
      "HD2\n",
      "HD2\n",
      "HD2\n",
      "HD2\n",
      "HD2\n",
      "HD2\n",
      "HD2\n",
      "HD2\n",
      "HD2\n",
      "HD2\n",
      "HD2\n",
      "HD2\n",
      "HD2\n",
      "CS1\n",
      "CS1\n",
      "CS1\n",
      "CS1\n",
      "CS1\n",
      "CS1\n",
      "CS1\n",
      "CS1\n",
      "CS1\n",
      "CS1\n",
      "HD3\n",
      "HD3\n",
      "HD3\n",
      "HD3\n",
      "HD3\n",
      "HD3\n",
      "HD3\n",
      "HD3\n",
      "HD3\n",
      "HD3\n",
      "HD3\n",
      "HD3\n",
      "HD3\n",
      "HD3\n",
      "HD3\n",
      "HD3\n",
      "HD3\n"
     ]
    }
   ],
   "source": [
    "active_site_df = pd.read_csv(\"../vim_2/inputs/protein/active_site.csv\", header=None, names=[\"resname\", \"resid\"], dtype=str)\n",
    "# print(active_site_df.head())\n",
    "\n",
    "active_site_resnames = active_site_df[\"resname\"].tolist()\n",
    "active_site_resids = active_site_df[\"resid\"].tolist()\n",
    "\n",
    "for i in range(len(active_site_resnames)):\n",
    "    for j in range(len(residue_ids)):\n",
    "        if residue_ids[j] == active_site_resids[i].strip():\n",
    "            residue_names[j] = active_site_resnames[i]\n",
    "            print(residue_names[j])"
   ]
  },
  {
   "cell_type": "code",
   "execution_count": 31,
   "metadata": {},
   "outputs": [],
   "source": [
    "complex_file = \"../vim_2/inputs/protein/protein_complex.pdb\"\n",
    "\n",
    "with open(\"test.pdb\", \"w\") as pdb:\n",
    "    for i in range(len(residue_names)):\n",
    "        pdb.write(f\"{atoms[i]:10}{atom_ids[i]:4}{atom_names[i]:4}{residue_names[i]:8}{residue_ids[i]:5}{x[i]:9}{y[i]}  {z[i]:9}\\n\")\n"
   ]
  },
  {
   "cell_type": "code",
   "execution_count": 48,
   "metadata": {},
   "outputs": [
    {
     "name": "stdout",
     "output_type": "stream",
     "text": [
      "Z N  \n"
     ]
    }
   ],
   "source": [
    "complex_file = \"../vim_2/inputs/protein/protein_complex.pdb\"\n",
    "with open(complex_file, \"r\") as pdb:\n",
    "    lines = pdb.readlines()\n",
    "\n",
    "n_zn = 0\n",
    "for line in lines:\n",
    "    if \"ZN\" in line:\n",
    "        n_zn += 1\n",
    "\n",
    "\n",
    "protein_terminus = [i for i in range(len(lines)) if \"ZN\" in lines[i]][0] - 1\n",
    "zn_line = protein_terminus+1\n",
    "ids = []\n",
    "for i in range(len(lines[zn_line])):\n",
    "    c = lines[zn_line][i]\n",
    "    if c == \"Z\":\n",
    "        ids.append(i)\n",
    "\n",
    "test = lines[zn_line]\n",
    "print(test[ids[1]], test[ids[1]+1], test[ids[1]+2])\n",
    "\n",
    "zn_terminus = protein_terminus + n_zn + 1\n",
    "conect = [i for i in range(len(lines)) if \"CONECT\" in lines[i]][0]\n",
    "with open(\"test.pdb\", \"w\") as test:\n",
    "    atom = \"ATOM\"\n",
    "    test.write(f\"{atom:10}1\")"
   ]
  },
  {
   "cell_type": "code",
   "execution_count": 4,
   "metadata": {},
   "outputs": [
    {
     "name": "stdout",
     "output_type": "stream",
     "text": [
      "HEADER                                                                          \n",
      "TITLE     A P9T 403                                                             \n",
      "HETATM    1  C02 P9T A 403     -34.220   3.393   8.083  1.00 30.69           C  \n",
      "HETATM    2  C03 P9T A 403     -33.874   4.740   8.102  1.00 27.72           C  \n",
      "HETATM    3  C04 P9T A 403     -34.884   5.693   8.127  1.00 23.83           C  \n",
      "HETATM    4  C05 P9T A 403     -34.646   7.058   7.483  1.00 20.13           C  \n",
      "HETATM    5  C10 P9T A 403     -36.192   5.293   8.463  1.00 29.34           C  \n",
      "HETATM    6  C11 P9T A 403     -37.204   6.225   8.768  1.00 33.81           C  \n",
      "HETATM    7  C13 P9T A 403     -38.480   5.782   9.094  1.00 33.91           C  \n",
      "HETATM    8  C14 P9T A 403     -38.759   4.419   9.121  1.00 35.18           C  \n"
     ]
    }
   ],
   "source": [
    "!head -n 10 ../vim_2/inputs/ligands/docked_8.pdb"
   ]
  },
  {
   "cell_type": "code",
   "execution_count": 10,
   "metadata": {},
   "outputs": [
    {
     "name": "stdout",
     "output_type": "stream",
     "text": [
      "['HEADER                                                                          \\n\\n', 'TITLE     TWB_D (1)                                                             \\n\\n', 'HETATM    1  C02   MOL     1      22.990  15.325   9.444  1.00  0.00           C  \\n\\n', 'HETATM    2  C03   MOL     1      21.947  16.051  10.102  1.00  0.00           C  \\n\\n', 'HETATM    3  C04   MOL     1      21.342  17.076   9.469  1.00  0.00           C  \\n\\n', 'HETATM    4  C05   MOL     1      20.231  17.792  10.209  1.00  0.00           C  \\n\\n', 'HETATM    5  C10   MOL     1      21.763  17.377   8.100  1.00  0.00           C  \\n\\n', 'HETATM    6  C11   MOL     1      21.178  18.394   7.333  1.00  0.00           C  \\n\\n', 'HETATM    7  C13   MOL     1      21.594  18.632   6.052  1.00  0.00           C  \\n\\n', 'HETATM    8  C14   MOL     1      22.605  17.867   5.495  1.00  0.00           C  \\n\\n', 'HETATM    9  C16   MOL     1      23.189  16.871   6.232  1.00  0.00           C \\n\\n', 'HETATM   10  C17   MOL     1      22.783  16.610   7.530  1.00  0.00           C \\n\\n', 'HETATM   11  F12   MOL     1      20.197  19.158   7.829  1.00  0.00           F  \\n\\n', 'HETATM   12  F15   MOL     1      23.010  18.101   4.240  1.00  0.00           F  \\n\\n', 'HETATM   13  O01   MOL     1      23.495  14.419  10.099  1.00  0.00           O \\n\\n', 'HETATM   14  O07   MOL     1      19.281  15.227  10.477  1.00  0.00           O1-\\n\\n', 'HETATM   15  O08   MOL     1      17.580  17.133  10.360  1.00  0.00           O   \\n\\n', 'HETATM   16  O09   MOL     1      18.994  16.819  12.452  1.00  0.00           O1-\\n\\n', 'HETATM   17  O18   MOL     1      23.414  15.600   8.188  1.00  0.00           O  \\n\\n', 'HETATM   18  P06   MOL     1      19.000  16.636  10.950  1.00  0.00           P  \\n\\n', 'HETATM   19  H052  MOL     1      19.758  18.397   9.568  1.00  0.00           H  \\n\\n', 'HETATM   20  H053  MOL     1      20.651  18.303  10.959  1.00  0.00           H  \\n\\n', 'HETATM   21  H03   MOL     1      21.667  15.798  11.029  1.00  0.00           H  \\n\\n', 'HETATM   22  H13   MOL     1      21.167  19.360   5.516  1.00  0.00           H  \\n\\n', 'HETATM   23  H16   MOL     1      23.920  16.322   5.825  1.00  0.00           H  \\n\\n', 'HETATM   24  H     MOL     1      17.568  18.132  10.241  1.00  0.00           H  \\n\\n', '\\n\\n', 'CONECT    1   2  13   17                                                      \\n\\n', 'CONECT    2   1   3   21\\n\\n', 'CONECT    3   2   4    5 \\n\\n', 'CONECT    4   3  18   19   20       \\n\\n', 'CONECT    5   3   6   10\\n\\n', 'CONECT    6   5   7   11   \\n\\n', 'CONECT    7   6   8   22\\n\\n', 'CONECT    8   7   9   12 \\n\\n', 'CONECT    9   8  10   23\\n\\n', 'CONECT   10   5   9   17 \\n\\n', 'CONECT   11   6\\n\\n', 'CONECT   12   8\\n\\n', 'CONECT   13   1\\n\\n', 'CONECT   14  18 \\n\\n', 'CONECT   15  18   24\\n\\n', 'CONECT   16  18\\n\\n', 'CONECT   17   1   10\\n\\n', 'CONECT   18   4   14  15   16   \\n\\n', 'CONECT   19   4                                                                \\n\\n', 'CONECT   20   4\\n\\n', 'CONECT   21   2\\n\\n', 'CONECT   22   7\\n\\n', 'CONECT   23   9\\n\\n', 'CONECT   24  15\\n\\n', 'MASTER        0    0    0    0    0    0    0    0   24    0   24    0          \\n\\n', 'END               \\n']\n"
     ]
    }
   ],
   "source": [
    "with open(\"../kpc2/inputs/ligands/docked_8_fixed.pdb\", \"r\") as pdb:\n",
    "    lines = pdb.readlines()\n",
    "    new_lines = [line+\"\\n\" for line in lines]\n",
    "print(new_lines)"
   ]
  },
  {
   "cell_type": "code",
   "execution_count": 6,
   "metadata": {},
   "outputs": [
    {
     "ename": "ValueError",
     "evalue": "Failed to construct topology from file ../kpc2/inputs/ligands/docked_8_fixed.pdb with parser <class 'MDAnalysis.topology.PDBParser.PDBParser'>.\nError: Formal charge C is unrecognized",
     "output_type": "error",
     "traceback": [
      "\u001b[0;31m---------------------------------------------------------------------------\u001b[0m",
      "\u001b[0;31mValueError\u001b[0m                                Traceback (most recent call last)",
      "File \u001b[0;32m~/Software/miniconda3/envs/sire/lib/python3.9/site-packages/MDAnalysis/core/universe.py:110\u001b[0m, in \u001b[0;36m_topology_from_file_like\u001b[0;34m(topology_file, topology_format, **kwargs)\u001b[0m\n\u001b[1;32m    109\u001b[0m     \u001b[39mwith\u001b[39;00m parser(topology_file) \u001b[39mas\u001b[39;00m p:\n\u001b[0;32m--> 110\u001b[0m         topology \u001b[39m=\u001b[39m p\u001b[39m.\u001b[39;49mparse(\u001b[39m*\u001b[39;49m\u001b[39m*\u001b[39;49mkwargs)\n\u001b[1;32m    111\u001b[0m \u001b[39mexcept\u001b[39;00m (\u001b[39mIOError\u001b[39;00m, \u001b[39mOSError\u001b[39;00m) \u001b[39mas\u001b[39;00m err:\n\u001b[1;32m    112\u001b[0m     \u001b[39m# There are 2 kinds of errors that might be raised here:\u001b[39;00m\n\u001b[1;32m    113\u001b[0m     \u001b[39m# one because the file isn't present\u001b[39;00m\n\u001b[1;32m    114\u001b[0m     \u001b[39m# or the permissions are bad, second when the parser fails\u001b[39;00m\n",
      "File \u001b[0;32m~/Software/miniconda3/envs/sire/lib/python3.9/site-packages/MDAnalysis/topology/PDBParser.py:207\u001b[0m, in \u001b[0;36mPDBParser.parse\u001b[0;34m(self, **kwargs)\u001b[0m\n\u001b[1;32m    201\u001b[0m \u001b[39m\"\"\"Parse atom information from PDB file\u001b[39;00m\n\u001b[1;32m    202\u001b[0m \n\u001b[1;32m    203\u001b[0m \u001b[39mReturns\u001b[39;00m\n\u001b[1;32m    204\u001b[0m \u001b[39m-------\u001b[39;00m\n\u001b[1;32m    205\u001b[0m \u001b[39mMDAnalysis Topology object\u001b[39;00m\n\u001b[1;32m    206\u001b[0m \u001b[39m\"\"\"\u001b[39;00m\n\u001b[0;32m--> 207\u001b[0m top \u001b[39m=\u001b[39m \u001b[39mself\u001b[39;49m\u001b[39m.\u001b[39;49m_parseatoms()\n\u001b[1;32m    209\u001b[0m \u001b[39mtry\u001b[39;00m:\n",
      "File \u001b[0;32m~/Software/miniconda3/envs/sire/lib/python3.9/site-packages/MDAnalysis/topology/PDBParser.py:367\u001b[0m, in \u001b[0;36mPDBParser._parseatoms\u001b[0;34m(self)\u001b[0m\n\u001b[1;32m    366\u001b[0m         errmsg \u001b[39m=\u001b[39m (\u001b[39mf\u001b[39m\u001b[39m\"\u001b[39m\u001b[39mFormal charge \u001b[39m\u001b[39m{\u001b[39;00mentry\u001b[39m}\u001b[39;00m\u001b[39m is unrecognized\u001b[39m\u001b[39m\"\u001b[39m)\n\u001b[0;32m--> 367\u001b[0m         \u001b[39mraise\u001b[39;00m \u001b[39mValueError\u001b[39;00m(errmsg)\n\u001b[1;32m    368\u001b[0m \u001b[39melse\u001b[39;00m:\n",
      "\u001b[0;31mValueError\u001b[0m: Formal charge C is unrecognized",
      "\nDuring handling of the above exception, another exception occurred:\n",
      "\u001b[0;31mValueError\u001b[0m                                Traceback (most recent call last)",
      "Cell \u001b[0;32mIn [6], line 1\u001b[0m\n\u001b[0;32m----> 1\u001b[0m lig \u001b[39m=\u001b[39m mda\u001b[39m.\u001b[39;49mUniverse(\u001b[39m\"\u001b[39;49m\u001b[39m../kpc2/inputs/ligands/docked_8_fixed.pdb\u001b[39;49m\u001b[39m\"\u001b[39;49m)\n\u001b[1;32m      2\u001b[0m \u001b[39m# atoms = lig.atoms\u001b[39;00m\n\u001b[1;32m      3\u001b[0m \u001b[39m# for i in range(len(atoms)):\u001b[39;00m\n\u001b[1;32m      4\u001b[0m \u001b[39m#     print(atoms[i].id, atoms[i].name)\u001b[39;00m\n\u001b[1;32m      5\u001b[0m view \u001b[39m=\u001b[39m nv\u001b[39m.\u001b[39mshow_mdanalysis(lig)\n",
      "File \u001b[0;32m~/Software/miniconda3/envs/sire/lib/python3.9/site-packages/MDAnalysis/core/universe.py:346\u001b[0m, in \u001b[0;36mUniverse.__init__\u001b[0;34m(self, topology, all_coordinates, format, topology_format, transformations, guess_bonds, vdwradii, in_memory, in_memory_step, *coordinates, **kwargs)\u001b[0m\n\u001b[1;32m    344\u001b[0m \u001b[39mif\u001b[39;00m \u001b[39mnot\u001b[39;00m \u001b[39misinstance\u001b[39m(topology, Topology) \u001b[39mand\u001b[39;00m \u001b[39mnot\u001b[39;00m topology \u001b[39mis\u001b[39;00m \u001b[39mNone\u001b[39;00m:\n\u001b[1;32m    345\u001b[0m     \u001b[39mself\u001b[39m\u001b[39m.\u001b[39mfilename \u001b[39m=\u001b[39m _check_file_like(topology)\n\u001b[0;32m--> 346\u001b[0m     topology \u001b[39m=\u001b[39m _topology_from_file_like(\u001b[39mself\u001b[39;49m\u001b[39m.\u001b[39;49mfilename,\n\u001b[1;32m    347\u001b[0m                                         topology_format\u001b[39m=\u001b[39;49mtopology_format,\n\u001b[1;32m    348\u001b[0m                                         \u001b[39m*\u001b[39;49m\u001b[39m*\u001b[39;49mkwargs)\n\u001b[1;32m    350\u001b[0m \u001b[39mif\u001b[39;00m topology \u001b[39mis\u001b[39;00m \u001b[39mnot\u001b[39;00m \u001b[39mNone\u001b[39;00m:\n\u001b[1;32m    351\u001b[0m     \u001b[39mself\u001b[39m\u001b[39m.\u001b[39m_topology \u001b[39m=\u001b[39m topology\n",
      "File \u001b[0;32m~/Software/miniconda3/envs/sire/lib/python3.9/site-packages/MDAnalysis/core/universe.py:125\u001b[0m, in \u001b[0;36m_topology_from_file_like\u001b[0;34m(topology_file, topology_format, **kwargs)\u001b[0m\n\u001b[1;32m    121\u001b[0m         \u001b[39mraise\u001b[39;00m \u001b[39mIOError\u001b[39;00m(\u001b[39m\"\u001b[39m\u001b[39mFailed to load from the topology file \u001b[39m\u001b[39m{0}\u001b[39;00m\u001b[39m\"\u001b[39m\n\u001b[1;32m    122\u001b[0m                         \u001b[39m\"\u001b[39m\u001b[39m with parser \u001b[39m\u001b[39m{1}\u001b[39;00m\u001b[39m.\u001b[39m\u001b[39m\\n\u001b[39;00m\u001b[39m\"\u001b[39m\n\u001b[1;32m    123\u001b[0m                         \u001b[39m\"\u001b[39m\u001b[39mError: \u001b[39m\u001b[39m{2}\u001b[39;00m\u001b[39m\"\u001b[39m\u001b[39m.\u001b[39mformat(topology_file, parser, err))\n\u001b[1;32m    124\u001b[0m \u001b[39mexcept\u001b[39;00m (\u001b[39mValueError\u001b[39;00m, \u001b[39mNotImplementedError\u001b[39;00m) \u001b[39mas\u001b[39;00m err:\n\u001b[0;32m--> 125\u001b[0m     \u001b[39mraise\u001b[39;00m \u001b[39mValueError\u001b[39;00m(\n\u001b[1;32m    126\u001b[0m         \u001b[39m\"\u001b[39m\u001b[39mFailed to construct topology from file \u001b[39m\u001b[39m{0}\u001b[39;00m\u001b[39m\"\u001b[39m\n\u001b[1;32m    127\u001b[0m         \u001b[39m\"\u001b[39m\u001b[39m with parser \u001b[39m\u001b[39m{1}\u001b[39;00m\u001b[39m.\u001b[39m\u001b[39m\\n\u001b[39;00m\u001b[39m\"\u001b[39m\n\u001b[1;32m    128\u001b[0m         \u001b[39m\"\u001b[39m\u001b[39mError: \u001b[39m\u001b[39m{2}\u001b[39;00m\u001b[39m\"\u001b[39m\u001b[39m.\u001b[39mformat(topology_file, parser, err))\n\u001b[1;32m    129\u001b[0m \u001b[39mreturn\u001b[39;00m topology\n",
      "\u001b[0;31mValueError\u001b[0m: Failed to construct topology from file ../kpc2/inputs/ligands/docked_8_fixed.pdb with parser <class 'MDAnalysis.topology.PDBParser.PDBParser'>.\nError: Formal charge C is unrecognized"
     ]
    }
   ],
   "source": [
    "lig = mda.Universe(\"../kpc2/inputs/ligands/docked_8_fixed.pdb\")\n",
    "# atoms = lig.atoms\n",
    "# for i in range(len(atoms)):\n",
    "#     print(atoms[i].id, atoms[i].name)\n",
    "view = nv.show_mdanalysis(lig)\n",
    "view"
   ]
  },
  {
   "cell_type": "code",
   "execution_count": 14,
   "metadata": {},
   "outputs": [
    {
     "data": {
      "application/vnd.jupyter.widget-view+json": {
       "model_id": "35fc82c4ba9c4a71a42866c8a93bc81b",
       "version_major": 2,
       "version_minor": 0
      },
      "text/plain": [
       "NGLWidget()"
      ]
     },
     "metadata": {},
     "output_type": "display_data"
    }
   ],
   "source": [
    "view.add"
   ]
  },
  {
   "cell_type": "code",
   "execution_count": null,
   "metadata": {},
   "outputs": [
    {
     "data": {
      "application/vnd.jupyter.widget-view+json": {
       "model_id": "9728b505b5fb48aa9a33e4ade1f09af4",
       "version_major": 2,
       "version_minor": 0
      },
      "text/plain": [
       "NGLWidget()"
      ]
     },
     "metadata": {},
     "output_type": "display_data"
    }
   ],
   "source": [
    "lig = mda.Universe(\"../vim_2/inputs/ligands/docked_8.pdb\")\n",
    "nv.show_mdanalysis(lig)"
   ]
  },
  {
   "cell_type": "code",
   "execution_count": 3,
   "metadata": {},
   "outputs": [
    {
     "data": {
      "application/vnd.jupyter.widget-view+json": {
       "model_id": "9728b505b5fb48aa9a33e4ade1f09af4",
       "version_major": 2,
       "version_minor": 0
      },
      "text/plain": [
       "NGLWidget()"
      ]
     },
     "metadata": {},
     "output_type": "display_data"
    }
   ],
   "source": [
    "lig = mda.Universe(\"../vim_2/inputs/ligands/docked_8.pdb\")\n",
    "nv.show_mdanalysis(lig)"
   ]
  },
  {
   "cell_type": "code",
   "execution_count": 2,
   "metadata": {},
   "outputs": [
    {
     "data": {
      "application/vnd.jupyter.widget-view+json": {
       "model_id": "53d2789b47094d679964737d5fc85f6e",
       "version_major": 2,
       "version_minor": 0
      },
      "text/plain": [
       "NGLWidget()"
      ]
     },
     "metadata": {},
     "output_type": "display_data"
    }
   ],
   "source": [
    "u = mda.Universe(\"../inputs/protein/vim2.gromacs.pdb\")\n",
    "lig = u.select_atoms(\"resname PT1\")\n",
    "v = nv.show_mdanalysis(lig)\n",
    "v"
   ]
  },
  {
   "cell_type": "code",
   "execution_count": 121,
   "metadata": {},
   "outputs": [
    {
     "name": "stdout",
     "output_type": "stream",
     "text": [
      "-0.7112999999999998\n"
     ]
    }
   ],
   "source": [
    "with open(\"../../md_vim2/outputs/parmed/pt1_dry.out\", \"r\") as file:\n",
    "    lines = file.readlines()\n",
    "\n",
    "for i in range(len(lines)):\n",
    "    if \"mask\" in lines[i]:\n",
    "        mask_line = i\n",
    "\n",
    "info = [line.split() for line in lines[mask_line:] if \"mask\" not in line][1:-2]\n",
    "column_headers = [element for element in info[0] if element != \"GB\" and element != \"LJ\"]\n",
    "df = pd.DataFrame(info[1:], columns=column_headers)\n",
    "net_charge_pt1 = df[\"Charge\"].astype(float).sum()\n"
   ]
  },
  {
   "cell_type": "code",
   "execution_count": 112,
   "metadata": {},
   "outputs": [
    {
     "name": "stdout",
     "output_type": "stream",
     "text": [
      "    ATOM  RES RESNAME  NAME TYPE At.#  Radius   Depth     Mass   Charge  \\\n",
      "0   3418  233     PT1   C02    c    6  1.8606  0.0988  12.0100   0.8294   \n",
      "1   3419  233     PT1   C03   cc    6  1.8606  0.0988  12.0100  -0.4941   \n",
      "2   3420  233     PT1   C04   cd    6  1.8606  0.0988  12.0100   0.2997   \n",
      "3   3421  233     PT1   C05   c3    6  1.9069  0.1078  12.0100  -0.3215   \n",
      "4   3422  233     PT1   C10   ca    6  1.8606  0.0988  12.0100  -0.3040   \n",
      "5   3423  233     PT1   C11   ca    6  1.8606  0.0988  12.0100   0.2951   \n",
      "6   3424  233     PT1   C13   ca    6  1.8606  0.0988  12.0100  -0.4058   \n",
      "7   3425  233     PT1   C14   ca    6  1.8606  0.0988  12.0100   0.4017   \n",
      "8   3426  233     PT1   C16   ca    6  1.8606  0.0988  12.0100  -0.4571   \n",
      "9   3427  233     PT1   C17   ca    6  1.8606  0.0988  12.0100   0.4785   \n",
      "10  3428  233     PT1   F12    f    9  1.7029  0.0832  19.0000  -0.1145   \n",
      "11  3429  233     PT1   F15    f    9  1.7029  0.0832  19.0000  -0.1347   \n",
      "12  3430  233     PT1   O01    o    8  1.7107  0.1463  16.0000  -0.5215   \n",
      "13  3431  233     PT1   O07   Y4    8  1.7107  0.1463  16.0000  -0.8909   \n",
      "14  3432  233     PT1   O08   Y8    8  1.7107  0.1463  16.0000  -0.7579   \n",
      "15  3433  233     PT1   O09   oh    8  1.8200  0.0930  16.0000  -0.5966   \n",
      "16  3434  233     PT1   O18   os    8  1.7713  0.0726  16.0000  -0.4136   \n",
      "17  3435  233     PT1   P06   p5   15  2.0732  0.2295  30.9700   1.1524   \n",
      "18  3436  233     PT1  H052   hc    1  1.4593  0.0208   1.0080   0.0936   \n",
      "19  3437  233     PT1  H053   hc    1  1.4593  0.0208   1.0080   0.0936   \n",
      "20  3438  233     PT1   H03   ha    1  1.4735  0.0161   1.0080   0.1731   \n",
      "21  3439  233     PT1   H13   ha    1  1.4735  0.0161   1.0080   0.2127   \n",
      "22  3440  233     PT1   H16   ha    1  1.4735  0.0161   1.0080   0.2344   \n",
      "23  3441  233     PT1    H1   ho    1  0.3019  0.0047   1.0080   0.4367   \n",
      "\n",
      "    Radius  Screen  \n",
      "0   1.7000  0.7200  \n",
      "1   1.7000  0.7200  \n",
      "2   1.7000  0.7200  \n",
      "3   1.7000  0.7200  \n",
      "4   1.7000  0.7200  \n",
      "5   1.7000  0.7200  \n",
      "6   1.7000  0.7200  \n",
      "7   1.7000  0.7200  \n",
      "8   1.7000  0.7200  \n",
      "9   1.7000  0.7200  \n",
      "10  1.5000  0.8800  \n",
      "11  1.5000  0.8800  \n",
      "12  1.5000  0.8500  \n",
      "13  1.5000  0.8500  \n",
      "14  1.5000  0.8500  \n",
      "15  1.5000  0.8500  \n",
      "16  1.5000  0.8500  \n",
      "17  1.8500  0.8600  \n",
      "18  1.3000  0.8500  \n",
      "19  1.3000  0.8500  \n",
      "20  1.3000  0.8500  \n",
      "21  1.3000  0.8500  \n",
      "22  1.3000  0.8500  \n",
      "23  0.8000  0.8500  \n"
     ]
    }
   ],
   "source": [
    "with open(\"../../md_vim2/outputs/pt1_parmed.out\", \"r\") as file:\n",
    "    lines = file.readlines()\n",
    "\n",
    "for i in range(len(lines)):\n",
    "    if \"mask\" in lines[i]:\n",
    "        mask_line = i\n",
    "\n",
    "info = [line.split() for line in lines[mask_line:] if \"mask\" not in line][1:-2]\n",
    "column_headers = [element for element in info[0] if element != \"GB\" and element != \"LJ\"]\n",
    "df = pd.DataFrame(info[1:], columns=column_headers)\n",
    "net_charge_pt1 = df[\"Charge\"].astype(float).sum()\n",
    "# net_charge_pt1\n",
    "print(df)"
   ]
  },
  {
   "cell_type": "code",
   "execution_count": 97,
   "metadata": {},
   "outputs": [
    {
     "data": {
      "text/plain": [
       "-0.3157999999999999"
      ]
     },
     "execution_count": 97,
     "metadata": {},
     "output_type": "execute_result"
    }
   ],
   "source": [
    "with open(\"../../md_vim2/outputs/cs1.out\", \"r\") as file:\n",
    "    lines = file.readlines()\n",
    "\n",
    "for i in range(len(lines)):\n",
    "    if \"mask\" in lines[i]:\n",
    "        mask_line = i\n",
    "\n",
    "info = [line.split() for line in lines[mask_line:] if \"mask\" not in line][1:-2]\n",
    "column_headers = [element for element in info[0] if element != \"GB\" and element != \"LJ\"]\n",
    "df = pd.DataFrame(info[1:], columns=column_headers)\n",
    "net_charge_cs1 = df[\"Charge\"].astype(float).sum()\n",
    "net_charge_cs1"
   ]
  },
  {
   "cell_type": "code",
   "execution_count": 106,
   "metadata": {},
   "outputs": [],
   "source": [
    "zn1 = 0.9916\n",
    "zn2 = 1.1071"
   ]
  },
  {
   "cell_type": "code",
   "execution_count": 98,
   "metadata": {},
   "outputs": [
    {
     "data": {
      "text/plain": [
       "-1.0270999999999997"
      ]
     },
     "execution_count": 98,
     "metadata": {},
     "output_type": "execute_result"
    }
   ],
   "source": []
  },
  {
   "cell_type": "code",
   "execution_count": 99,
   "metadata": {},
   "outputs": [
    {
     "data": {
      "text/plain": [
       "-0.36529999999999974"
      ]
     },
     "execution_count": 99,
     "metadata": {},
     "output_type": "execute_result"
    }
   ],
   "source": [
    "with open(\"../../md_vim2/outputs/ap1.out\", \"r\") as file:\n",
    "    lines = file.readlines()\n",
    "\n",
    "for i in range(len(lines)):\n",
    "    if \"mask\" in lines[i]:\n",
    "        mask_line = i\n",
    "\n",
    "info = [line.split() for line in lines[mask_line:] if \"mask\" not in line][1:-2]\n",
    "column_headers = [element for element in info[0] if element != \"GB\" and element != \"LJ\"]\n",
    "df = pd.DataFrame(info[1:], columns=column_headers)\n",
    "net_charge_ap1 = df[\"Charge\"].astype(float).sum()\n",
    "net_charge_ap1"
   ]
  },
  {
   "cell_type": "code",
   "execution_count": 103,
   "metadata": {},
   "outputs": [
    {
     "data": {
      "text/plain": [
       "0.41290000000000016"
      ]
     },
     "execution_count": 103,
     "metadata": {},
     "output_type": "execute_result"
    }
   ],
   "source": [
    "with open(\"../../md_vim2/outputs/hd3.out\", \"r\") as file:\n",
    "    lines = file.readlines()\n",
    "\n",
    "for i in range(len(lines)):\n",
    "    if \"mask\" in lines[i]:\n",
    "        mask_line = i\n",
    "\n",
    "info = [line.split() for line in lines[mask_line:] if \"mask\" not in line][1:-2]\n",
    "column_headers = [element for element in info[0] if element != \"GB\" and element != \"LJ\"]\n",
    "df = pd.DataFrame(info[1:], columns=column_headers)\n",
    "net_charge_hd3 = df[\"Charge\"].astype(float).sum()\n",
    "net_charge_hd3"
   ]
  },
  {
   "cell_type": "code",
   "execution_count": 111,
   "metadata": {},
   "outputs": [
    {
     "data": {
      "text/plain": [
       "-0.9794999999999993"
      ]
     },
     "execution_count": 111,
     "metadata": {},
     "output_type": "execute_result"
    }
   ],
   "source": [
    "net_charge_cs1 + net_charge_ap1 + net_charge_hd3 + net_charge_pt1"
   ]
  },
  {
   "cell_type": "code",
   "execution_count": 113,
   "metadata": {},
   "outputs": [
    {
     "data": {
      "text/plain": [
       "1.3874000000000002"
      ]
     },
     "execution_count": 113,
     "metadata": {},
     "output_type": "execute_result"
    }
   ],
   "source": [
    "net_charge_pt1 + zn1 + zn2"
   ]
  },
  {
   "cell_type": "code",
   "execution_count": 114,
   "metadata": {},
   "outputs": [
    {
     "data": {
      "text/plain": [
       "-0.7112999999999998"
      ]
     },
     "execution_count": 114,
     "metadata": {},
     "output_type": "execute_result"
    }
   ],
   "source": [
    "net_charge_pt1"
   ]
  },
  {
   "cell_type": "code",
   "execution_count": 122,
   "metadata": {},
   "outputs": [
    {
     "data": {
      "text/plain": [
       "0.0000e+00 |e|"
      ]
     },
     "execution_count": 122,
     "metadata": {},
     "output_type": "execute_result"
    }
   ],
   "source": [
    "pt = bss.IO.readMolecules(\"../inputs/ligands/ligand_8_xtal.sdf\")\n",
    "pt.charge()"
   ]
  },
  {
   "cell_type": "code",
   "execution_count": 153,
   "metadata": {},
   "outputs": [
    {
     "data": {
      "text/plain": [
       "array([[25.556 , 27.158 , 39.628 ],\n",
       "       [25.902 , 28.505 , 39.647 ],\n",
       "       [24.892 , 29.458 , 39.672 ],\n",
       "       [25.13  , 30.823 , 39.028 ],\n",
       "       [23.584 , 29.058 , 40.008 ],\n",
       "       [22.572 , 29.99  , 40.313 ],\n",
       "       [21.296 , 29.547 , 40.639 ],\n",
       "       [21.017 , 28.184 , 40.666 ],\n",
       "       [22.013 , 27.265 , 40.366 ],\n",
       "       [23.307 , 27.712 , 40.035 ],\n",
       "       [22.84  , 31.327 , 40.288 ],\n",
       "       [19.763 , 27.751 , 40.986 ],\n",
       "       [26.4   , 26.334 , 39.508 ],\n",
       "       [25.14  , 32.112 , 36.5881],\n",
       "       [26.306 , 29.941 , 36.692 ],\n",
       "       [23.842 , 30.02  , 36.724 ],\n",
       "       [24.268 , 26.785 , 39.745 ],\n",
       "       [25.103 , 30.719 , 37.17  ],\n",
       "       [24.416 , 31.455 , 39.33  ],\n",
       "       [26.02  , 31.172 , 39.322 ],\n",
       "       [26.863 , 28.783 , 39.643 ],\n",
       "       [20.577 , 30.208 , 40.854 ],\n",
       "       [21.812 , 26.286 , 40.385 ],\n",
       "       [23.031 , 30.585 , 36.911 ]], dtype=float32)"
      ]
     },
     "execution_count": 153,
     "metadata": {},
     "output_type": "execute_result"
    }
   ],
   "source": [
    "parm_u = mda.Universe(\"../inputs/protein/PT1.mol2\")\n",
    "xtal_u = mda.Universe(\"../inputs/ligands/ligand_8_xtal.mol2\")\n",
    "new_coords = xtal_u.atoms.positions\n",
    "new_univers = parm_u.load_new(new_coords)\n",
    "parm_u.atoms.positions"
   ]
  },
  {
   "cell_type": "code",
   "execution_count": 154,
   "metadata": {},
   "outputs": [
    {
     "data": {
      "text/plain": [
       "array([[25.556 , 27.158 , 39.628 ],\n",
       "       [25.902 , 28.505 , 39.647 ],\n",
       "       [24.892 , 29.458 , 39.672 ],\n",
       "       [25.13  , 30.823 , 39.028 ],\n",
       "       [23.584 , 29.058 , 40.008 ],\n",
       "       [22.572 , 29.99  , 40.313 ],\n",
       "       [21.296 , 29.547 , 40.639 ],\n",
       "       [21.017 , 28.184 , 40.666 ],\n",
       "       [22.013 , 27.265 , 40.366 ],\n",
       "       [23.307 , 27.712 , 40.035 ],\n",
       "       [22.84  , 31.327 , 40.288 ],\n",
       "       [19.763 , 27.751 , 40.986 ],\n",
       "       [26.4   , 26.334 , 39.508 ],\n",
       "       [25.14  , 32.112 , 36.5881],\n",
       "       [26.306 , 29.941 , 36.692 ],\n",
       "       [23.842 , 30.02  , 36.724 ],\n",
       "       [24.268 , 26.785 , 39.745 ],\n",
       "       [25.103 , 30.719 , 37.17  ],\n",
       "       [24.416 , 31.455 , 39.33  ],\n",
       "       [26.02  , 31.172 , 39.322 ],\n",
       "       [26.863 , 28.783 , 39.643 ],\n",
       "       [20.577 , 30.208 , 40.854 ],\n",
       "       [21.812 , 26.286 , 40.385 ],\n",
       "       [23.031 , 30.585 , 36.911 ]], dtype=float32)"
      ]
     },
     "execution_count": 154,
     "metadata": {},
     "output_type": "execute_result"
    }
   ],
   "source": [
    "new_univers.atoms.positions"
   ]
  },
  {
   "cell_type": "code",
   "execution_count": 148,
   "metadata": {},
   "outputs": [
    {
     "name": "stdout",
     "output_type": "stream",
     "text": [
      "< Timestep 0 >\n"
     ]
    }
   ],
   "source": [
    "\n"
   ]
  },
  {
   "cell_type": "code",
   "execution_count": 14,
   "metadata": {},
   "outputs": [
    {
     "name": "stdout",
     "output_type": "stream",
     "text": [
      "-0.12750000000000006\n"
     ]
    }
   ],
   "source": [
    "with open(\"../kpc2/inputs/ligands/docked_1.mol2\", \"r\") as file:\n",
    "    lines = file.readlines()\n",
    "\n",
    "atom_idx = [index for index in range(len(lines)) if \"ATOM\" in lines[index]][0]\n",
    "bond_idx = [index for index in range(len(lines)) if \"BOND\" in lines[index]][0]\n",
    "\n",
    "new_lines = lines[atom_idx+1:bond_idx]\n",
    "charges  = [float(line.split()[-1]) for line in new_lines]\n",
    "net_charge = sum(charges)\n",
    "print(net_charge)\n",
    "# info = [line.split() for line in lines[mask_line:] if \"mask\" not in line][1:-2]\n",
    "# column_headers = [element for element in info[0] if element != \"GB\" and element != \"LJ\"]\n",
    "# df = pd.DataFrame(info[1:], columns=column_headers)\n",
    "# net_charge_pt1 = df[\"Charge\"].astype(float).sum()"
   ]
  },
  {
   "cell_type": "code",
   "execution_count": null,
   "metadata": {},
   "outputs": [],
   "source": []
  }
 ],
 "metadata": {
  "kernelspec": {
   "display_name": "Python 3.9.13 ('bss-d')",
   "language": "python",
   "name": "python3"
  },
  "language_info": {
   "codemirror_mode": {
    "name": "ipython",
    "version": 3
   },
   "file_extension": ".py",
   "mimetype": "text/x-python",
   "name": "python",
   "nbconvert_exporter": "python",
   "pygments_lexer": "ipython3",
   "version": "3.9.16"
  },
  "orig_nbformat": 4,
  "vscode": {
   "interpreter": {
    "hash": "f81d097606b2934fa8d1922533f78f64a436eb4cf1588d61ff1c0b79a2076e9c"
   }
  }
 },
 "nbformat": 4,
 "nbformat_minor": 2
}
