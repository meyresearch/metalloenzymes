{
 "cells": [
  {
   "cell_type": "code",
   "execution_count": 1,
   "metadata": {},
   "outputs": [
    {
     "name": "stderr",
     "output_type": "stream",
     "text": [
      "<frozen importlib._bootstrap>:228: RuntimeWarning: to-Python converter for std::vector<double, std::allocator<double> > already registered; second conversion method ignored.\n"
     ]
    },
    {
     "data": {
      "application/vnd.jupyter.widget-view+json": {
       "model_id": "6a957dc4c547415f82fd851e53476744",
       "version_major": 2,
       "version_minor": 0
      },
      "text/plain": []
     },
     "metadata": {},
     "output_type": "display_data"
    },
    {
     "name": "stderr",
     "output_type": "stream",
     "text": [
      "WARNING:root:Warning: importing 'simtk.openmm' is deprecated.  Import 'openmm' instead.\n"
     ]
    }
   ],
   "source": [
    "import MDAnalysis as mda\n",
    "import MDAnalysis.analysis.align\n",
    "import pandas as pd\n",
    "import BioSimSpace as bss\n",
    "import nglview as nv\n",
    "import numpy as np\n",
    "import os\n",
    "import glob\n",
    "import MDAnalysis.analysis.rms"
   ]
  },
  {
   "cell_type": "code",
   "execution_count": 4,
   "metadata": {},
   "outputs": [],
   "source": [
    "oxt = bss.IO.readPDB(\"../OXT.pdb\")[0]\n",
    "ang = bss.IO.readPDB(\"../ANG.pdb\")[0]"
   ]
  },
  {
   "cell_type": "code",
   "execution_count": 12,
   "metadata": {},
   "outputs": [
    {
     "data": {
      "text/html": [
       "<pre style=\"white-space:pre;overflow-x:auto;line-height:normal;font-family:Menlo,'DejaVu Sans Mono',consolas,'Courier New',monospace\"><span style=\"color: #800000; text-decoration-color: #800000\">╭─────────────────────────────── </span><span style=\"color: #800000; text-decoration-color: #800000; font-weight: bold\">Traceback </span><span style=\"color: #bf7f7f; text-decoration-color: #bf7f7f; font-weight: bold\">(most recent call last)</span><span style=\"color: #800000; text-decoration-color: #800000\"> ────────────────────────────────╮</span>\n",
       "<span style=\"color: #800000; text-decoration-color: #800000\">│</span> in <span style=\"color: #00ff00; text-decoration-color: #00ff00\">&lt;module&gt;</span>                                                                                      <span style=\"color: #800000; text-decoration-color: #800000\">│</span>\n",
       "<span style=\"color: #800000; text-decoration-color: #800000\">│</span>                                                                                                  <span style=\"color: #800000; text-decoration-color: #800000\">│</span>\n",
       "<span style=\"color: #800000; text-decoration-color: #800000\">│</span> <span style=\"color: #800000; text-decoration-color: #800000\">❱ </span>1 oxt_param = bss.Parameters.parameterise(oxt, <span style=\"color: #808000; text-decoration-color: #808000\">\"ff14sb\"</span>).getMolecule()                         <span style=\"color: #800000; text-decoration-color: #800000\">│</span>\n",
       "<span style=\"color: #800000; text-decoration-color: #800000\">│</span>   <span style=\"color: #7f7f7f; text-decoration-color: #7f7f7f\">2 </span>ang_param = bss.Parameters.parameterise(ang, <span style=\"color: #808000; text-decoration-color: #808000\">\"ff14sb\"</span>).getMolecule()                         <span style=\"color: #800000; text-decoration-color: #800000\">│</span>\n",
       "<span style=\"color: #800000; text-decoration-color: #800000\">│</span>   <span style=\"color: #7f7f7f; text-decoration-color: #7f7f7f\">3 </span>                                                                                             <span style=\"color: #800000; text-decoration-color: #800000\">│</span>\n",
       "<span style=\"color: #800000; text-decoration-color: #800000\">│</span>                                                                                                  <span style=\"color: #800000; text-decoration-color: #800000\">│</span>\n",
       "<span style=\"color: #800000; text-decoration-color: #800000\">│</span> <span style=\"color: #bfbf7f; text-decoration-color: #bfbf7f\">/home/jguven/Software/miniconda3/envs/bss-d/lib/python3.9/site-packages/BioSimSpace/Parameters/</span><span style=\"color: #808000; text-decoration-color: #808000; font-weight: bold\">_</span> <span style=\"color: #800000; text-decoration-color: #800000\">│</span>\n",
       "<span style=\"color: #800000; text-decoration-color: #800000\">│</span> <span style=\"color: #808000; text-decoration-color: #808000; font-weight: bold\">process.py</span>:<span style=\"color: #0000ff; text-decoration-color: #0000ff\">232</span> in <span style=\"color: #00ff00; text-decoration-color: #00ff00\">getMolecule</span>                                                                    <span style=\"color: #800000; text-decoration-color: #800000\">│</span>\n",
       "<span style=\"color: #800000; text-decoration-color: #800000\">│</span>                                                                                                  <span style=\"color: #800000; text-decoration-color: #800000\">│</span>\n",
       "<span style=\"color: #800000; text-decoration-color: #800000\">│</span>   <span style=\"color: #7f7f7f; text-decoration-color: #7f7f7f\">229 │   │   │   │   │   </span><span style=\"color: #808000; text-decoration-color: #808000\">\"Parameterisation failed! Last error: '%s'\"</span> % <span style=\"color: #00ffff; text-decoration-color: #00ffff\">str</span>(<span style=\"color: #00ffff; text-decoration-color: #00ffff\">self</span>._last_error)    <span style=\"color: #800000; text-decoration-color: #800000\">│</span>\n",
       "<span style=\"color: #800000; text-decoration-color: #800000\">│</span>   <span style=\"color: #7f7f7f; text-decoration-color: #7f7f7f\">230 │   │   │   │   </span>)                                                                          <span style=\"color: #800000; text-decoration-color: #800000\">│</span>\n",
       "<span style=\"color: #800000; text-decoration-color: #800000\">│</span>   <span style=\"color: #7f7f7f; text-decoration-color: #7f7f7f\">231 │   │   │   </span><span style=\"color: #0000ff; text-decoration-color: #0000ff\">else</span>:                                                                          <span style=\"color: #800000; text-decoration-color: #800000\">│</span>\n",
       "<span style=\"color: #800000; text-decoration-color: #800000\">│</span> <span style=\"color: #800000; text-decoration-color: #800000\">❱ </span>232 <span style=\"color: #7f7f7f; text-decoration-color: #7f7f7f\">│   │   │   │   </span><span style=\"color: #0000ff; text-decoration-color: #0000ff\">raise</span> _ParameterisationError(                                              <span style=\"color: #800000; text-decoration-color: #800000\">│</span>\n",
       "<span style=\"color: #800000; text-decoration-color: #800000\">│</span>   <span style=\"color: #7f7f7f; text-decoration-color: #7f7f7f\">233 │   │   │   │   │   </span><span style=\"color: #808000; text-decoration-color: #808000\">\"Parameterisation failed! Last error: '%s'\"</span> % <span style=\"color: #00ffff; text-decoration-color: #00ffff\">str</span>(<span style=\"color: #00ffff; text-decoration-color: #00ffff\">self</span>._last_error)    <span style=\"color: #800000; text-decoration-color: #800000\">│</span>\n",
       "<span style=\"color: #800000; text-decoration-color: #800000\">│</span>   <span style=\"color: #7f7f7f; text-decoration-color: #7f7f7f\">234 │   │   │   │   </span>) <span style=\"color: #0000ff; text-decoration-color: #0000ff\">from</span> <span style=\"color: #00ffff; text-decoration-color: #00ffff\">None</span>                                                                <span style=\"color: #800000; text-decoration-color: #800000\">│</span>\n",
       "<span style=\"color: #800000; text-decoration-color: #800000\">│</span>   <span style=\"color: #7f7f7f; text-decoration-color: #7f7f7f\">235 </span>                                                                                           <span style=\"color: #800000; text-decoration-color: #800000\">│</span>\n",
       "<span style=\"color: #800000; text-decoration-color: #800000\">╰──────────────────────────────────────────────────────────────────────────────────────────────────╯</span>\n",
       "<span style=\"color: #ff0000; text-decoration-color: #ff0000; font-weight: bold\">ParameterisationError: </span>Parameterisation failed! Last error: <span style=\"color: #008000; text-decoration-color: #008000\">''</span>Atom' object has no attribute <span style=\"color: #008000; text-decoration-color: #008000\">'atom0'</span>'\n",
       "</pre>\n"
      ],
      "text/plain": [
       "\u001b[31m╭─\u001b[0m\u001b[31m──────────────────────────────\u001b[0m\u001b[31m \u001b[0m\u001b[1;31mTraceback \u001b[0m\u001b[1;2;31m(most recent call last)\u001b[0m\u001b[31m \u001b[0m\u001b[31m───────────────────────────────\u001b[0m\u001b[31m─╮\u001b[0m\n",
       "\u001b[31m│\u001b[0m in \u001b[92m<module>\u001b[0m                                                                                      \u001b[31m│\u001b[0m\n",
       "\u001b[31m│\u001b[0m                                                                                                  \u001b[31m│\u001b[0m\n",
       "\u001b[31m│\u001b[0m \u001b[31m❱ \u001b[0m1 oxt_param = bss.Parameters.parameterise(oxt, \u001b[33m\"\u001b[0m\u001b[33mff14sb\u001b[0m\u001b[33m\"\u001b[0m).getMolecule()                         \u001b[31m│\u001b[0m\n",
       "\u001b[31m│\u001b[0m   \u001b[2m2 \u001b[0mang_param = bss.Parameters.parameterise(ang, \u001b[33m\"\u001b[0m\u001b[33mff14sb\u001b[0m\u001b[33m\"\u001b[0m).getMolecule()                         \u001b[31m│\u001b[0m\n",
       "\u001b[31m│\u001b[0m   \u001b[2m3 \u001b[0m                                                                                             \u001b[31m│\u001b[0m\n",
       "\u001b[31m│\u001b[0m                                                                                                  \u001b[31m│\u001b[0m\n",
       "\u001b[31m│\u001b[0m \u001b[2;33m/home/jguven/Software/miniconda3/envs/bss-d/lib/python3.9/site-packages/BioSimSpace/Parameters/\u001b[0m\u001b[1;33m_\u001b[0m \u001b[31m│\u001b[0m\n",
       "\u001b[31m│\u001b[0m \u001b[1;33mprocess.py\u001b[0m:\u001b[94m232\u001b[0m in \u001b[92mgetMolecule\u001b[0m                                                                    \u001b[31m│\u001b[0m\n",
       "\u001b[31m│\u001b[0m                                                                                                  \u001b[31m│\u001b[0m\n",
       "\u001b[31m│\u001b[0m   \u001b[2m229 \u001b[0m\u001b[2m│   │   │   │   │   \u001b[0m\u001b[33m\"\u001b[0m\u001b[33mParameterisation failed! Last error: \u001b[0m\u001b[33m'\u001b[0m\u001b[33m%s\u001b[0m\u001b[33m'\u001b[0m\u001b[33m\"\u001b[0m % \u001b[96mstr\u001b[0m(\u001b[96mself\u001b[0m._last_error)    \u001b[31m│\u001b[0m\n",
       "\u001b[31m│\u001b[0m   \u001b[2m230 \u001b[0m\u001b[2m│   │   │   │   \u001b[0m)                                                                          \u001b[31m│\u001b[0m\n",
       "\u001b[31m│\u001b[0m   \u001b[2m231 \u001b[0m\u001b[2m│   │   │   \u001b[0m\u001b[94melse\u001b[0m:                                                                          \u001b[31m│\u001b[0m\n",
       "\u001b[31m│\u001b[0m \u001b[31m❱ \u001b[0m232 \u001b[2m│   │   │   │   \u001b[0m\u001b[94mraise\u001b[0m _ParameterisationError(                                              \u001b[31m│\u001b[0m\n",
       "\u001b[31m│\u001b[0m   \u001b[2m233 \u001b[0m\u001b[2m│   │   │   │   │   \u001b[0m\u001b[33m\"\u001b[0m\u001b[33mParameterisation failed! Last error: \u001b[0m\u001b[33m'\u001b[0m\u001b[33m%s\u001b[0m\u001b[33m'\u001b[0m\u001b[33m\"\u001b[0m % \u001b[96mstr\u001b[0m(\u001b[96mself\u001b[0m._last_error)    \u001b[31m│\u001b[0m\n",
       "\u001b[31m│\u001b[0m   \u001b[2m234 \u001b[0m\u001b[2m│   │   │   │   \u001b[0m) \u001b[94mfrom\u001b[0m \u001b[96mNone\u001b[0m                                                                \u001b[31m│\u001b[0m\n",
       "\u001b[31m│\u001b[0m   \u001b[2m235 \u001b[0m                                                                                           \u001b[31m│\u001b[0m\n",
       "\u001b[31m╰──────────────────────────────────────────────────────────────────────────────────────────────────╯\u001b[0m\n",
       "\u001b[1;91mParameterisationError: \u001b[0mParameterisation failed! Last error: \u001b[32m''\u001b[0mAtom' object has no attribute \u001b[32m'atom0'\u001b[0m'\n"
      ]
     },
     "metadata": {},
     "output_type": "display_data"
    }
   ],
   "source": [
    "oxt_param = bss.Parameters.parameterise(oxt, \"ff14sb\").getMolecule()\n",
    "ang_param = bss.Parameters.parameterise(ang, \"ff14sb\").getMolecule()"
   ]
  },
  {
   "cell_type": "code",
   "execution_count": 14,
   "metadata": {},
   "outputs": [
    {
     "data": {
      "application/vnd.jupyter.widget-view+json": {
       "model_id": "58f2058eebde459abd2a90980eee5134",
       "version_major": 2,
       "version_minor": 0
      },
      "text/plain": [
       "NGLWidget()"
      ]
     },
     "metadata": {},
     "output_type": "display_data"
    }
   ],
   "source": [
    "nv.show_file(\"../OXT.pdb\")"
   ]
  },
  {
   "cell_type": "code",
   "execution_count": 6,
   "metadata": {},
   "outputs": [],
   "source": [
    "mapping = bss.Align.matchAtoms(oxt, ang)"
   ]
  },
  {
   "cell_type": "code",
   "execution_count": 7,
   "metadata": {},
   "outputs": [
    {
     "data": {
      "application/3dmoljs_load.v0": "<div id=\"3dmolviewer_16881187029072547\"  style=\"position: relative; width: 900px; height: 450px\">\n        <p id=\"3dmolwarning_16881187029072547\" style=\"background-color:#ffcccc;color:black\">You appear to be running in JupyterLab (or JavaScript failed to load for some other reason).  You need to install the 3dmol extension: <br>\n        <tt>jupyter labextension install jupyterlab_3dmol</tt></p>\n        </div>\n<script>\n\nvar loadScriptAsync = function(uri){\n  return new Promise((resolve, reject) => {\n    //this is to ignore the existence of requirejs amd\n    var savedexports, savedmodule;\n    if (typeof exports !== 'undefined') savedexports = exports;\n    else exports = {}\n    if (typeof module !== 'undefined') savedmodule = module;\n    else module = {}\n\n    var tag = document.createElement('script');\n    tag.src = uri;\n    tag.async = true;\n    tag.onload = () => {\n        exports = savedexports;\n        module = savedmodule;\n        resolve();\n    };\n  var firstScriptTag = document.getElementsByTagName('script')[0];\n  firstScriptTag.parentNode.insertBefore(tag, firstScriptTag);\n});\n};\n\nif(typeof $3Dmolpromise === 'undefined') {\n$3Dmolpromise = null;\n  $3Dmolpromise = loadScriptAsync('https://cdnjs.cloudflare.com/ajax/libs/3Dmol/2.0.1/3Dmol-min.js');\n}\n\nvar viewer_16881187029072547 = null;\nvar warn = document.getElementById(\"3dmolwarning_16881187029072547\");\nif(warn) {\n    warn.parentNode.removeChild(warn);\n}\n$3Dmolpromise.then(function() {\nvar viewergrid_16881187029072547 = null;\nviewergrid_16881187029072547 = $3Dmol.createViewerGrid(document.getElementById(\"3dmolviewer_16881187029072547\"),{rows: 1, cols: 2, control_all: false},{backgroundColor:\"white\"});\nviewer_16881187029072547 = viewergrid_16881187029072547[0][0];\nviewergrid_16881187029072547[0][0].zoomTo();viewergrid_16881187029072547[0][1].zoomTo();\tviewergrid_16881187029072547[0][0].addModel(\"\\n     RDKit          3D\\n\\n136138  0  0  0  0  0  0  0  0999 V2000\\n   46.8220   53.1470   54.0590 N   0  0  0  0  0  0  0  0  0  0  0  0\\n   46.9860   52.2530   53.4970 H   0  0  0  0  0  0  0  0  0  0  0  0\\n   45.8900   53.6070   53.7860 H   0  0  0  0  0  0  0  0  0  0  0  0\\n   46.8050   52.7870   55.0640 H   0  0  0  0  0  0  0  0  0  0  0  0\\n   48.0160   54.0330   53.8180 C   0  0  0  0  0  0  0  0  0  0  0  0\\n   47.4930   55.0600   53.7050 H   0  0  0  0  0  0  0  0  0  0  0  0\\n   48.8640   54.0460   55.0670 C   0  0  0  0  0  0  0  0  0  0  0  0\\n   49.5110   53.1630   55.1450 H   0  0  0  0  0  0  0  0  0  0  0  0\\n   48.1700   54.1660   55.9800 H   0  0  0  0  0  0  0  0  0  0  0  0\\n   49.9290   55.5280   55.2230 S   0  0  0  0  0  0  0  0  0  0  0  0\\n   48.7460   53.7400   52.4790 C   0  0  0  0  0  0  0  0  0  0  0  0\\n   48.5150   52.5920   51.9580 O   0  0  0  0  0  0  0  0  0  0  0  0\\n   49.5990   54.6640   52.0170 N   0  0  0  0  0  0  0  0  0  0  0  0\\n   49.4700   55.6520   52.3840 H   0  0  0  0  0  0  0  0  0  0  0  0\\n   50.3590   54.4510   50.7530 C   0  0  1  0  0  0  0  0  0  0  0  0\\n   49.9120   53.4760   50.3560 H   0  0  0  0  0  0  0  0  0  0  0  0\\n   50.0160   55.6140   49.7710 C   0  0  0  0  0  0  0  0  0  0  0  0\\n   50.4330   56.5450   50.2280 H   0  0  0  0  0  0  0  0  0  0  0  0\\n   48.9370   55.7160   49.8480 H   0  0  0  0  0  0  0  0  0  0  0  0\\n   50.4980   55.5290   48.3590 C   0  0  0  0  0  0  0  0  0  0  0  0\\n   49.5580   55.1070   47.4240 C   0  0  0  0  0  0  0  0  0  0  0  0\\n   48.5330   55.0700   47.7410 H   0  0  0  0  0  0  0  0  0  0  0  0\\n   49.9730   55.0580   46.0560 C   0  0  0  0  0  0  0  0  0  0  0  0\\n   49.3050   54.7220   45.3470 H   0  0  0  0  0  0  0  0  0  0  0  0\\n   51.2700   55.3480   45.6480 C   0  0  0  0  0  0  0  0  0  0  0  0\\n   51.6630   55.2940   44.3250 O   0  0  0  0  0  0  0  0  0  0  0  0\\n   52.6070   55.5280   44.2520 H   0  0  0  0  0  0  0  0  0  0  0  0\\n   52.2190   55.7550   46.5860 C   0  0  0  0  0  0  0  0  0  0  0  0\\n   53.2110   56.0200   46.3230 H   0  0  0  0  0  0  0  0  0  0  0  0\\n   51.7940   55.7510   47.9800 C   0  0  0  0  0  0  0  0  0  0  0  0\\n   52.4700   56.2350   48.7040 H   0  0  0  0  0  0  0  0  0  0  0  0\\n   51.9760   54.2730   50.8320 C   0  0  0  0  0  0  0  0  0  0  0  0\\n   52.6890   54.9560   51.6230 O   0  0  0  0  0  0  0  0  0  0  0  0\\n   52.3890   53.2770   49.9920 N   0  0  0  0  0  0  0  0  0  0  0  0\\n   51.5570   52.8630   49.5550 H   0  0  0  0  0  0  0  0  0  0  0  0\\n   53.8120   52.7020   49.7720 C   0  0  1  0  0  0  0  0  0  0  0  0\\n   54.2430   52.3070   50.7130 H   0  0  0  0  0  0  0  0  0  0  0  0\\n   53.5730   51.4710   48.8050 C   0  0  1  0  0  0  0  0  0  0  0  0\\n   54.5690   51.0370   48.4570 H   0  0  0  0  0  0  0  0  0  0  0  0\\n   52.8270   50.3660   49.5810 C   0  0  0  0  0  0  0  0  0  0  0  0\\n   51.8900   50.7320   49.8630 H   0  0  0  0  0  0  0  0  0  0  0  0\\n   52.5320   49.5690   48.8320 H   0  0  0  0  0  0  0  0  0  0  0  0\\n   53.3970   50.1190   50.4710 H   0  0  0  0  0  0  0  0  0  0  0  0\\n   52.8030   51.7940   47.4640 C   0  0  0  0  0  0  0  0  0  0  0  0\\n   53.1220   52.8640   47.1580 H   0  0  0  0  0  0  0  0  0  0  0  0\\n   53.2410   51.1270   46.6610 H   0  0  0  0  0  0  0  0  0  0  0  0\\n   51.2010   51.8690   47.4380 C   0  0  0  0  0  0  0  0  0  0  0  0\\n   50.8640   52.2810   46.5200 H   0  0  0  0  0  0  0  0  0  0  0  0\\n   50.6420   52.5180   48.1640 H   0  0  0  0  0  0  0  0  0  0  0  0\\n   50.7190   50.9100   47.5040 H   0  0  0  0  0  0  0  0  0  0  0  0\\n   54.8350   53.6830   49.1540 C   0  0  0  0  0  0  0  0  0  0  0  0\\n   55.7960   53.2600   48.5300 O   0  0  0  0  0  0  0  0  0  0  0  0\\n   54.7490   54.9470   49.5290 N   0  0  0  0  0  0  0  0  0  0  0  0\\n   53.9910   55.3400   50.1030 H   0  0  0  0  0  0  0  0  0  0  0  0\\n   56.0020   55.8300   49.4550 C   0  0  1  0  0  0  0  0  0  0  0  0\\n   56.5760   55.5220   48.5880 H   0  0  0  0  0  0  0  0  0  0  0  0\\n   55.6550   57.2960   49.3260 C   0  0  0  0  0  0  0  0  0  0  0  0\\n   55.3680   57.5300   50.3580 H   0  0  0  0  0  0  0  0  0  0  0  0\\n   54.7540   57.4350   48.8050 H   0  0  0  0  0  0  0  0  0  0  0  0\\n   56.7460   58.2800   48.9810 C   0  0  0  0  0  0  0  0  0  0  0  0\\n   57.4990   58.2830   49.8450 H   0  0  0  0  0  0  0  0  0  0  0  0\\n   56.2410   59.2220   48.9820 H   0  0  0  0  0  0  0  0  0  0  0  0\\n   57.3770   58.1340   47.6020 C   0  0  0  0  0  0  0  0  0  0  0  0\\n   57.2530   57.2740   46.7190 O   0  0  0  0  0  0  0  0  0  0  0  0\\n   58.2510   59.1370   47.3560 N   0  0  0  0  0  0  0  0  0  0  0  0\\n   58.7320   58.9660   46.5220 H   0  0  0  0  0  0  0  0  0  0  0  0\\n   58.6780   59.7670   47.9900 H   0  0  0  0  0  0  0  0  0  0  0  0\\n   56.9380   55.5940   50.6570 C   0  0  0  0  0  0  0  0  0  0  0  0\\n   58.1090   55.6880   50.5590 O   0  0  0  0  0  0  0  0  0  0  0  0\\n   56.3410   55.0730   51.6990 N   0  0  0  0  0  0  0  0  0  0  0  0\\n   55.3400   55.0800   51.6590 H   0  0  0  0  0  0  0  0  0  0  0  0\\n   57.0940   54.6450   52.8690 C   0  0  1  0  0  0  0  0  0  0  0  0\\n   57.7790   53.9160   52.4670 H   0  0  0  0  0  0  0  0  0  0  0  0\\n   57.7530   55.9410   53.4810 C   0  0  0  0  0  0  0  0  0  0  0  0\\n   57.2650   56.2440   54.4800 H   0  0  0  0  0  0  0  0  0  0  0  0\\n   57.6990   56.7780   52.8440 H   0  0  0  0  0  0  0  0  0  0  0  0\\n   59.1730   55.5860   53.8620 C   0  0  0  0  0  0  0  0  0  0  0  0\\n   59.7590   54.6400   53.3850 O   0  0  0  0  0  0  0  0  0  0  0  0\\n   59.8400   56.3830   54.6730 N   0  0  0  0  0  0  0  0  0  0  0  0\\n   60.7830   56.1870   54.8800 H   0  0  0  0  0  0  0  0  0  0  0  0\\n   59.4200   57.2170   55.0380 H   0  0  0  0  0  0  0  0  0  0  0  0\\n   56.3280   54.0140   54.0620 C   0  0  0  0  0  0  0  0  0  0  0  0\\n   56.8920   53.4380   55.0210 O   0  0  0  0  0  0  0  0  0  0  0  0\\n   55.0630   54.2720   54.0440 N   0  0  0  0  0  0  0  0  0  0  0  0\\n   54.6520   54.7850   53.2770 H   0  0  0  0  0  0  0  0  0  0  0  0\\n   54.1450   53.9300   55.1760 C   0  0  0  0  0  0  0  0  0  0  0  0\\n   54.4630   54.5180   56.0420 H   0  0  0  0  0  0  0  0  0  0  0  0\\n   52.7740   54.3990   54.6780 C   0  0  0  0  0  0  0  0  0  0  0  0\\n   52.3010   53.4960   54.1780 H   0  0  0  0  0  0  0  0  0  0  0  0\\n   52.8340   55.2750   53.9440 H   0  0  0  0  0  0  0  0  0  0  0  0\\n   51.7230   54.8140   56.0980 S   0  0  0  0  0  0  0  0  0  0  0  0\\n   53.9900   52.4290   55.5000 C   0  0  0  0  0  0  0  0  0  0  0  0\\n   54.1690   51.5910   54.6320 O   0  0  0  0  0  0  0  0  0  0  0  0\\n   53.7310   52.0190   56.7600 N   0  0  0  0  0  0  0  0  0  0  0  0\\n   53.5270   50.6300   56.9750 C   0  0  0  0  0  0  0  0  0  0  0  0\\n   54.4710   50.1680   57.1740 H   0  0  0  0  0  0  0  0  0  0  0  0\\n   52.9990   50.1450   56.1790 H   0  0  0  0  0  0  0  0  0  0  0  0\\n   52.9170   50.4660   58.3410 C   0  0  0  0  0  0  0  0  0  0  0  0\\n   51.8320   50.5890   58.2400 H   0  0  0  0  0  0  0  0  0  0  0  0\\n   53.1260   49.4930   58.8060 H   0  0  0  0  0  0  0  0  0  0  0  0\\n   53.3340   51.7150   59.1120 C   0  0  0  0  0  0  0  0  0  0  0  0\\n   52.4750   52.0590   59.6980 H   0  0  0  0  0  0  0  0  0  0  0  0\\n   54.1370   51.6160   59.8150 H   0  0  0  0  0  0  0  0  0  0  0  0\\n   53.6500   52.7960   58.0670 C   0  0  1  0  0  0  0  0  0  0  0  0\\n   52.8430   53.5170   57.9780 H   0  0  0  0  0  0  0  0  0  0  0  0\\n   54.8650   53.5640   58.4640 C   0  0  0  0  0  0  0  0  0  0  0  0\\n   55.9040   53.7240   57.7730 O   0  0  0  0  0  0  0  0  0  0  0  0\\n   54.7250   54.3050   59.5380 N   0  0  0  0  0  0  0  0  0  0  0  0\\n   53.9350   54.1600   60.1180 H   0  0  0  0  0  0  0  0  0  0  0  0\\n   55.3850   55.6190   59.6050 C   0  0  1  0  0  0  0  0  0  0  0  0\\n   55.8690   55.8660   58.6910 H   0  0  0  0  0  0  0  0  0  0  0  0\\n   54.3230   56.7970   59.7160 C   0  0  0  0  0  0  0  0  0  0  0  0\\n   53.9420   56.7480   60.7250 H   0  0  0  0  0  0  0  0  0  0  0  0\\n   54.9400   57.7280   59.5350 H   0  0  0  0  0  0  0  0  0  0  0  0\\n   53.1880   56.8610   58.6500 C   0  0  0  0  0  0  0  0  0  0  0  0\\n   53.3550   56.3870   57.6820 H   0  0  0  0  0  0  0  0  0  0  0  0\\n   52.7810   58.3050   58.3080 C   0  0  0  0  0  0  0  0  0  0  0  0\\n   53.4740   58.8410   57.6920 H   0  0  0  0  0  0  0  0  0  0  0  0\\n   52.6160   58.8470   59.2010 H   0  0  0  0  0  0  0  0  0  0  0  0\\n   51.7990   58.2400   57.7520 H   0  0  0  0  0  0  0  0  0  0  0  0\\n   51.9400   56.3690   59.3910 C   0  0  0  0  0  0  0  0  0  0  0  0\\n   52.0070   55.2230   59.6420 H   0  0  0  0  0  0  0  0  0  0  0  0\\n   51.0110   56.5940   58.8110 H   0  0  0  0  0  0  0  0  0  0  0  0\\n   51.7260   57.0690   60.2600 H   0  0  0  0  0  0  0  0  0  0  0  0\\n   56.4760   55.7010   60.6610 C   0  0  0  0  0  0  0  0  0  0  0  0\\n   56.5600   54.8080   61.5010 O   0  0  0  0  0  0  0  0  0  0  0  0\\n   57.2200   56.8080   60.5910 N   0  0  0  0  0  0  0  0  0  0  0  0\\n   56.8900   57.4810   60.0170 H   0  0  0  0  0  0  0  0  0  0  0  0\\n   58.1090   57.2910   61.6890 C   0  0  0  0  0  0  0  0  0  0  0  0\\n   58.6590   56.4310   62.0870 H   0  0  0  0  0  0  0  0  0  0  0  0\\n   58.7280   58.0490   61.3320 H   0  0  0  0  0  0  0  0  0  0  0  0\\n   57.2620   57.9120   62.8250 C   0  0  0  0  0  0  0  0  0  0  0  0\\n   57.7900   58.7530   63.5370 O   0  0  0  0  0  0  0  0  0  0  0  0\\n   56.0430   57.4060   63.1550 N   0  0  0  0  0  0  0  0  0  0  0  0\\n   55.4590   57.9660   63.8200 H   0  0  0  0  0  0  0  0  0  0  0  0\\n   55.6960   56.5270   62.8050 H   0  0  0  0  0  0  0  0  0  0  0  0\\n  2  1  1  0\\n  3  1  1  0\\n  4  1  1  0\\n  5  1  1  0\\n  6  5  1  0\\n  7  5  1  0\\n  8  7  1  0\\n  9  7  1  0\\n 10  7  1  0\\n 11  5  1  0\\n 12 11  1  0\\n 13 11  1  0\\n 14 13  1  0\\n 15 13  1  0\\n 15 16  1  6\\n 17 15  1  0\\n 18 17  1  0\\n 19 17  1  0\\n 20 17  1  0\\n 21 20  2  0\\n 22 21  1  0\\n 23 21  1  0\\n 24 23  1  0\\n 25 23  2  0\\n 26 25  1  0\\n 27 26  1  0\\n 28 25  1  0\\n 29 28  1  0\\n 30 28  2  0\\n 30 20  1  0\\n 31 30  1  0\\n 32 15  1  0\\n 33 32  2  0\\n 34 32  1  0\\n 35 34  1  0\\n 36 34  1  0\\n 36 37  1  1\\n 38 36  1  0\\n 38 39  1  6\\n 40 38  1  0\\n 41 40  1  0\\n 42 40  1  0\\n 43 40  1  0\\n 44 38  1  0\\n 45 44  1  0\\n 46 44  1  0\\n 47 44  1  0\\n 48 47  1  0\\n 49 47  1  0\\n 50 47  1  0\\n 51 36  1  0\\n 52 51  2  0\\n 53 51  1  0\\n 54 53  1  0\\n 55 53  1  0\\n 55 56  1  6\\n 57 55  1  0\\n 58 57  1  0\\n 59 57  1  0\\n 60 57  1  0\\n 61 60  1  0\\n 62 60  1  0\\n 63 60  1  0\\n 64 63  2  0\\n 65 63  1  0\\n 66 65  1  0\\n 67 65  1  0\\n 68 55  1  0\\n 69 68  2  0\\n 70 68  1  0\\n 71 70  1  0\\n 72 70  1  0\\n 72 73  1  6\\n 74 72  1  0\\n 75 74  1  0\\n 76 74  1  0\\n 77 74  1  0\\n 78 77  2  0\\n 79 77  1  0\\n 80 79  1  0\\n 81 79  1  0\\n 82 72  1  0\\n 83 82  2  0\\n 84 82  1  0\\n 85 84  1  0\\n 86 84  1  0\\n 87 86  1  0\\n 88 86  1  0\\n 89 88  1  0\\n 90 88  1  0\\n 91 88  1  0\\n 91 10  1  0\\n 92 86  1  0\\n 93 92  1  0\\n 94 92  1  0\\n 95 94  1  0\\n 96 95  1  0\\n 97 95  1  0\\n 98 95  1  0\\n 99 98  1  0\\n100 98  1  0\\n101 98  1  0\\n102101  1  0\\n103101  1  0\\n104101  1  0\\n104 94  1  0\\n104105  1  6\\n106104  1  0\\n107106  2  0\\n108106  1  0\\n109108  1  0\\n110108  1  0\\n110111  1  6\\n112110  1  0\\n113112  1  0\\n114112  1  0\\n115112  1  0\\n116115  1  0\\n117115  1  0\\n118117  1  0\\n119117  1  0\\n120117  1  0\\n121115  1  0\\n122121  1  0\\n123121  1  0\\n124121  1  0\\n125110  1  0\\n126125  2  0\\n127125  1  0\\n128127  1  0\\n129127  1  0\\n130129  1  0\\n131129  1  0\\n132129  1  0\\n133132  2  0\\n134132  1  0\\n135134  1  0\\n136134  1  0\\nM  CHG  1   1   1\\nM  END\\n\",\"mol0\");\n\tviewergrid_16881187029072547[0][1].addModel(\"\\n     RDKit          3D\\n\\n110113  0  0  0  0  0  0  0  0999 V2000\\n   46.7730   53.2080   53.8270 N   0  0  0  0  0  0  0  0  0  0  0  0\\n   46.9220   52.4910   53.0930 H   0  0  0  0  0  0  0  0  0  0  0  0\\n   45.8800   53.6710   53.6650 H   0  0  0  0  0  0  0  0  0  0  0  0\\n   46.7250   52.8250   54.8650 H   0  0  0  0  0  0  0  0  0  0  0  0\\n   47.9150   54.1400   53.6630 C   0  0  1  0  0  0  0  0  0  0  0  0\\n   47.4920   55.1950   53.5870 H   0  0  0  0  0  0  0  0  0  0  0  0\\n   48.8970   54.0380   54.9110 C   0  0  0  0  0  0  0  0  0  0  0  0\\n   48.3360   54.0540   55.9440 H   0  0  0  0  0  0  0  0  0  0  0  0\\n   49.5230   52.6730   54.8890 C   0  0  0  0  0  0  0  0  0  0  0  0\\n   49.8280   52.4360   53.9230 H   0  0  0  0  0  0  0  0  0  0  0  0\\n   50.4790   52.7130   55.5290 H   0  0  0  0  0  0  0  0  0  0  0  0\\n   48.8600   51.8820   55.2890 H   0  0  0  0  0  0  0  0  0  0  0  0\\n   50.0050   55.0880   54.8760 C   0  0  0  0  0  0  0  0  0  0  0  0\\n   50.7570   54.8580   54.1000 H   0  0  0  0  0  0  0  0  0  0  0  0\\n   49.6210   56.1110   54.7200 H   0  0  0  0  0  0  0  0  0  0  0  0\\n   50.6030   55.2000   55.8390 H   0  0  0  0  0  0  0  0  0  0  0  0\\n   48.6070   53.7270   52.2720 C   0  0  0  0  0  0  0  0  0  0  0  0\\n   48.4840   52.5560   51.8650 O   0  0  0  0  0  0  0  0  0  0  0  0\\n   49.3520   54.6560   51.6470 N   0  0  0  0  0  0  0  0  0  0  0  0\\n   49.4980   55.6080   51.9380 H   0  0  0  0  0  0  0  0  0  0  0  0\\n   50.2480   54.3100   50.5230 C   0  0  1  0  0  0  0  0  0  0  0  0\\n   50.1250   53.2940   50.2540 H   0  0  0  0  0  0  0  0  0  0  0  0\\n   49.9120   55.2030   49.3170 C   0  0  0  0  0  0  0  0  0  0  0  0\\n   48.8390   55.3130   49.1560 H   0  0  0  0  0  0  0  0  0  0  0  0\\n   50.0210   56.2130   49.6740 H   0  0  0  0  0  0  0  0  0  0  0  0\\n   50.6540   54.9570   48.0140 C   0  0  0  0  0  0  0  0  0  0  0  0\\n   49.9120   54.1410   47.1160 C   0  0  0  0  0  0  0  0  0  0  0  0\\n   48.9020   53.8230   47.3650 H   0  0  0  0  0  0  0  0  0  0  0  0\\n   50.4280   53.9380   45.8210 C   0  0  0  0  0  0  0  0  0  0  0  0\\n   49.8620   53.3950   45.0940 H   0  0  0  0  0  0  0  0  0  0  0  0\\n   51.7250   54.4380   45.4620 C   0  0  0  0  0  0  0  0  0  0  0  0\\n   52.2450   54.3400   44.2230 O   0  0  0  0  0  0  0  0  0  0  0  0\\n   53.1600   54.5690   44.1930 H   0  0  0  0  0  0  0  0  0  0  0  0\\n   52.5110   55.0540   46.4360 C   0  0  0  0  0  0  0  0  0  0  0  0\\n   53.4270   55.5280   46.1530 H   0  0  0  0  0  0  0  0  0  0  0  0\\n   51.9740   55.3050   47.7110 C   0  0  0  0  0  0  0  0  0  0  0  0\\n   52.6260   55.7880   48.4240 H   0  0  0  0  0  0  0  0  0  0  0  0\\n   51.6430   54.6780   51.0500 C   0  0  0  0  0  0  0  0  0  0  0  0\\n   51.8770   55.7700   51.6600 O   0  0  0  0  0  0  0  0  0  0  0  0\\n   52.6510   53.7520   50.9150 N   0  0  0  0  0  0  0  0  0  0  0  0\\n   52.5650   53.0850   50.1000 H   0  0  0  0  0  0  0  0  0  0  0  0\\n   54.0370   54.1010   51.0860 C   0  0  1  0  0  0  0  0  0  0  0  0\\n   54.2030   55.1920   51.1730 H   0  0  0  0  0  0  0  0  0  0  0  0\\n   54.6780   53.5400   52.4250 C   0  0  1  0  0  0  0  0  0  0  0  0\\n   54.6340   52.4940   52.4740 H   0  0  0  0  0  0  0  0  0  0  0  0\\n   56.0730   54.0240   52.4820 C   0  0  0  0  0  0  0  0  0  0  0  0\\n   56.7140   53.6110   51.6850 H   0  0  0  0  0  0  0  0  0  0  0  0\\n   56.0970   55.1420   52.2490 H   0  0  0  0  0  0  0  0  0  0  0  0\\n   56.5650   53.9200   53.4700 H   0  0  0  0  0  0  0  0  0  0  0  0\\n   53.9320   53.9660   53.7260 C   0  0  0  0  0  0  0  0  0  0  0  0\\n   54.3630   54.9440   54.0800 H   0  0  0  0  0  0  0  0  0  0  0  0\\n   52.8490   54.1100   53.5660 H   0  0  0  0  0  0  0  0  0  0  0  0\\n   54.1010   52.9860   54.8970 C   0  0  0  0  0  0  0  0  0  0  0  0\\n   55.0960   52.9910   55.3360 H   0  0  0  0  0  0  0  0  0  0  0  0\\n   53.3560   53.1840   55.6710 H   0  0  0  0  0  0  0  0  0  0  0  0\\n   53.8340   52.0480   54.4100 H   0  0  0  0  0  0  0  0  0  0  0  0\\n   54.8010   53.6010   49.8790 C   0  0  0  0  0  0  0  0  0  0  0  0\\n   54.3740   52.6210   49.2660 O   0  0  0  0  0  0  0  0  0  0  0  0\\n   55.8240   54.1960   49.3190 N   0  0  0  0  0  0  0  0  0  0  0  0\\n   56.1580   54.9640   49.8520 H   0  0  0  0  0  0  0  0  0  0  0  0\\n   56.5460   53.9660   48.0630 C   0  0  0  0  0  0  0  0  0  0  0  0\\n   55.8040   54.0700   47.3080 H   0  0  0  0  0  0  0  0  0  0  0  0\\n   57.4720   55.2040   48.0050 C   0  0  0  0  0  0  0  0  0  0  0  0\\n   56.8310   56.0410   48.1850 H   0  0  0  0  0  0  0  0  0  0  0  0\\n   58.1530   55.0310   48.8260 H   0  0  0  0  0  0  0  0  0  0  0  0\\n   58.1530   55.3020   46.6370 C   0  0  0  0  0  0  0  0  0  0  0  0\\n   57.4480   55.3440   45.4210 N   0  0  0  0  0  0  0  0  0  0  0  0\\n   58.3860   55.5860   44.4420 C   0  0  0  0  0  0  0  0  0  0  0  0\\n   58.2030   55.7740   43.3800 H   0  0  0  0  0  0  0  0  0  0  0  0\\n   59.5700   55.7920   45.0950 N   0  0  0  0  0  0  0  0  0  0  0  0\\n   60.3370   56.1950   44.5810 H   0  0  0  0  0  0  0  0  0  0  0  0\\n   59.4610   55.6300   46.5110 C   0  0  0  0  0  0  0  0  0  0  0  0\\n   60.1870   55.8130   47.3830 H   0  0  0  0  0  0  0  0  0  0  0  0\\n   57.3180   52.6080   47.9860 C   0  0  0  0  0  0  0  0  0  0  0  0\\n   58.0210   52.2460   48.9240 O   0  0  0  0  0  0  0  0  0  0  0  0\\n   57.1930   51.8110   46.8810 N   0  0  0  0  0  0  0  0  0  0  0  0\\n   56.0990   51.8570   45.9110 C   0  0  0  0  0  0  0  0  0  0  0  0\\n   56.2780   52.3960   45.0650 H   0  0  0  0  0  0  0  0  0  0  0  0\\n   55.2460   52.1860   46.4980 H   0  0  0  0  0  0  0  0  0  0  0  0\\n   55.8110   50.4660   45.4690 C   0  0  0  0  0  0  0  0  0  0  0  0\\n   55.3490   50.3880   44.5310 H   0  0  0  0  0  0  0  0  0  0  0  0\\n   55.2850   49.9690   46.2720 H   0  0  0  0  0  0  0  0  0  0  0  0\\n   57.2390   49.9610   45.4720 C   0  0  0  0  0  0  0  0  0  0  0  0\\n   57.7150   50.3250   44.5660 H   0  0  0  0  0  0  0  0  0  0  0  0\\n   57.2560   48.9240   45.4900 H   0  0  0  0  0  0  0  0  0  0  0  0\\n   57.8690   50.5220   46.6740 C   0  0  1  0  0  0  0  0  0  0  0  0\\n   57.5200   49.9350   47.5230 H   0  0  0  0  0  0  0  0  0  0  0  0\\n   59.3860   50.6500   46.6280 C   0  0  0  0  0  0  0  0  0  0  0  0\\n   59.9390   51.5320   45.9330 O   0  0  0  0  0  0  0  0  0  0  0  0\\n   60.0720   49.7040   47.3780 N   0  0  0  0  0  0  0  0  0  0  0  0\\n   59.6120   48.9140   47.8460 H   0  0  0  0  0  0  0  0  0  0  0  0\\n   61.4790   49.4980   47.3180 C   0  0  1  0  0  0  0  0  0  0  0  0\\n   61.9900   50.4560   47.6570 H   0  0  0  0  0  0  0  0  0  0  0  0\\n   61.8760   48.4330   48.4510 C   0  0  0  0  0  0  0  0  0  0  0  0\\n   61.5160   48.8510   49.3350 H   0  0  0  0  0  0  0  0  0  0  0  0\\n   61.2920   47.4930   48.3280 H   0  0  0  0  0  0  0  0  0  0  0  0\\n   63.4110   48.1500   48.5550 C   0  0  0  0  0  0  0  0  0  0  0  0\\n   64.1780   48.8090   49.5370 C   0  0  0  0  0  0  0  0  0  0  0  0\\n   63.6830   49.5370   50.2150 H   0  0  0  0  0  0  0  0  0  0  0  0\\n   65.5410   48.7730   49.4390 C   0  0  0  0  0  0  0  0  0  0  0  0\\n   66.1280   49.3680   50.0880 H   0  0  0  0  0  0  0  0  0  0  0  0\\n   66.2110   47.9760   48.5150 C   0  0  0  0  0  0  0  0  0  0  0  0\\n   67.3230   47.8170   48.5810 H   0  0  0  0  0  0  0  0  0  0  0  0\\n   65.4230   47.2330   47.5770 C   0  0  0  0  0  0  0  0  0  0  0  0\\n   65.8660   46.5940   46.8500 H   0  0  0  0  0  0  0  0  0  0  0  0\\n   64.0080   47.3010   47.5550 C   0  0  0  0  0  0  0  0  0  0  0  0\\n   63.4080   46.8270   46.8050 H   0  0  0  0  0  0  0  0  0  0  0  0\\n   61.9510   49.2670   45.8020 C   0  0  0  0  0  0  0  0  0  0  0  0\\n   61.1800   48.5980   45.0830 O   0  0  0  0  0  0  0  0  0  0  0  0\\n   62.9610   49.8910   45.3610 O   0  0  0  0  0  0  0  0  0  0  0  0\\n  2  1  1  0\\n  3  1  1  0\\n  4  1  1  0\\n  5  1  1  0\\n  5  6  1  6\\n  7  5  1  0\\n  8  7  1  0\\n  9  7  1  0\\n 10  9  1  0\\n 11  9  1  0\\n 12  9  1  0\\n 13  7  1  0\\n 14 13  1  0\\n 15 13  1  0\\n 16 13  1  0\\n 17  5  1  0\\n 18 17  2  0\\n 19 17  1  0\\n 20 19  1  0\\n 21 19  1  0\\n 21 22  1  6\\n 23 21  1  0\\n 24 23  1  0\\n 25 23  1  0\\n 26 23  1  0\\n 27 26  2  0\\n 28 27  1  0\\n 29 27  1  0\\n 30 29  1  0\\n 31 29  2  0\\n 32 31  1  0\\n 33 32  1  0\\n 34 31  1  0\\n 35 34  1  0\\n 36 34  2  0\\n 36 26  1  0\\n 37 36  1  0\\n 38 21  1  0\\n 39 38  2  0\\n 40 38  1  0\\n 41 40  1  0\\n 42 40  1  0\\n 42 43  1  1\\n 44 42  1  0\\n 44 45  1  6\\n 46 44  1  0\\n 47 46  1  0\\n 48 46  1  0\\n 49 46  1  0\\n 50 44  1  0\\n 51 50  1  0\\n 52 50  1  0\\n 53 50  1  0\\n 54 53  1  0\\n 55 53  1  0\\n 56 53  1  0\\n 57 42  1  0\\n 58 57  2  0\\n 59 57  1  0\\n 60 59  1  0\\n 61 59  1  0\\n 62 61  1  0\\n 63 61  1  0\\n 64 63  1  0\\n 65 63  1  0\\n 66 63  1  0\\n 67 66  1  0\\n 68 67  1  0\\n 69 68  1  0\\n 70 68  1  0\\n 71 70  1  0\\n 72 70  1  0\\n 72 66  1  0\\n 73 72  1  0\\n 74 61  1  0\\n 75 74  1  0\\n 76 74  1  0\\n 77 76  1  0\\n 78 77  1  0\\n 79 77  1  0\\n 80 77  1  0\\n 81 80  1  0\\n 82 80  1  0\\n 83 80  1  0\\n 84 83  1  0\\n 85 83  1  0\\n 86 83  1  0\\n 86 76  1  0\\n 86 87  1  1\\n 88 86  1  0\\n 89 88  2  0\\n 90 88  1  0\\n 91 90  1  0\\n 92 90  1  0\\n 92 93  1  1\\n 94 92  1  0\\n 95 94  1  0\\n 96 94  1  0\\n 97 94  1  0\\n 98 97  2  0\\n 99 98  1  0\\n100 98  1  0\\n101100  1  0\\n102100  2  0\\n103102  1  0\\n104102  1  0\\n105104  1  0\\n106 97  1  0\\n106104  2  0\\n107106  1  0\\n108 92  1  0\\n109108  2  0\\n110108  1  0\\nM  CHG  1   1   1\\nM  END\\n\",\"mol1\");\n\tviewergrid_16881187029072547[0][0].setStyle({\"model\": 0},{\"stick\": {\"colorscheme\": \"grayCarbon\", \"linewidth\": 0.1}});\n\tviewergrid_16881187029072547[0][1].setStyle({\"model\": 0},{\"stick\": {\"colorscheme\": \"grayCarbon\", \"linewidth\": 0.1}});\n\tviewergrid_16881187029072547[0][0].addSphere({\"center\": {\"x\": 55.385, \"y\": 55.619, \"z\": 59.605}, \"radius\": 0.5, \"color\": \"green\", \"alpha\": 0.8});\n\tviewergrid_16881187029072547[0][0].addLabel(\"109 \\u2192 18\",{\"position\": {\"x\": 55.385, \"y\": 55.619, \"z\": 59.605}});\n\tviewergrid_16881187029072547[0][1].addSphere({\"center\": {\"x\": 49.352, \"y\": 54.656, \"z\": 51.647}, \"radius\": 0.5, \"color\": \"green\", \"alpha\": 0.8});\n\tviewergrid_16881187029072547[0][1].addLabel(\"18 \\u2192 109\",{\"position\": {\"x\": 49.352, \"y\": 54.656, \"z\": 51.647}});\n\tviewergrid_16881187029072547[0][0].addSphere({\"center\": {\"x\": 55.869, \"y\": 55.866, \"z\": 58.691}, \"radius\": 0.5, \"color\": \"green\", \"alpha\": 0.8});\n\tviewergrid_16881187029072547[0][0].addLabel(\"110 \\u2192 19\",{\"position\": {\"x\": 55.869, \"y\": 55.866, \"z\": 58.691}});\n\tviewergrid_16881187029072547[0][1].addSphere({\"center\": {\"x\": 49.498, \"y\": 55.608, \"z\": 51.938}, \"radius\": 0.5, \"color\": \"green\", \"alpha\": 0.8});\n\tviewergrid_16881187029072547[0][1].addLabel(\"19 \\u2192 110\",{\"position\": {\"x\": 49.498, \"y\": 55.608, \"z\": 51.938}});\n\tviewergrid_16881187029072547[0][0].addSphere({\"center\": {\"x\": 54.323, \"y\": 56.797, \"z\": 59.716}, \"radius\": 0.5, \"color\": \"green\", \"alpha\": 0.8});\n\tviewergrid_16881187029072547[0][0].addLabel(\"111 \\u2192 16\",{\"position\": {\"x\": 54.323, \"y\": 56.797, \"z\": 59.716}});\n\tviewergrid_16881187029072547[0][1].addSphere({\"center\": {\"x\": 48.607, \"y\": 53.727, \"z\": 52.272}, \"radius\": 0.5, \"color\": \"green\", \"alpha\": 0.8});\n\tviewergrid_16881187029072547[0][1].addLabel(\"16 \\u2192 111\",{\"position\": {\"x\": 48.607, \"y\": 53.727, \"z\": 52.272}});\n\tviewergrid_16881187029072547[0][0].addSphere({\"center\": {\"x\": 53.942, \"y\": 56.748, \"z\": 60.725}, \"radius\": 0.5, \"color\": \"green\", \"alpha\": 0.8});\n\tviewergrid_16881187029072547[0][0].addLabel(\"112 \\u2192 17\",{\"position\": {\"x\": 53.942, \"y\": 56.748, \"z\": 60.725}});\n\tviewergrid_16881187029072547[0][1].addSphere({\"center\": {\"x\": 48.484, \"y\": 52.556, \"z\": 51.865}, \"radius\": 0.5, \"color\": \"green\", \"alpha\": 0.8});\n\tviewergrid_16881187029072547[0][1].addLabel(\"17 \\u2192 112\",{\"position\": {\"x\": 48.484, \"y\": 52.556, \"z\": 51.865}});\n\tviewergrid_16881187029072547[0][0].addSphere({\"center\": {\"x\": 53.188, \"y\": 56.861, \"z\": 58.65}, \"radius\": 0.5, \"color\": \"green\", \"alpha\": 0.8});\n\tviewergrid_16881187029072547[0][0].addLabel(\"114 \\u2192 4\",{\"position\": {\"x\": 53.188, \"y\": 56.861, \"z\": 58.65}});\n\tviewergrid_16881187029072547[0][1].addSphere({\"center\": {\"x\": 47.915, \"y\": 54.14, \"z\": 53.663}, \"radius\": 0.5, \"color\": \"green\", \"alpha\": 0.8});\n\tviewergrid_16881187029072547[0][1].addLabel(\"4 \\u2192 114\",{\"position\": {\"x\": 47.915, \"y\": 54.14, \"z\": 53.663}});\n\tviewergrid_16881187029072547[0][0].addSphere({\"center\": {\"x\": 53.355, \"y\": 56.387, \"z\": 57.682}, \"radius\": 0.5, \"color\": \"green\", \"alpha\": 0.8});\n\tviewergrid_16881187029072547[0][0].addLabel(\"115 \\u2192 5\",{\"position\": {\"x\": 53.355, \"y\": 56.387, \"z\": 57.682}});\n\tviewergrid_16881187029072547[0][1].addSphere({\"center\": {\"x\": 47.492, \"y\": 55.195, \"z\": 53.587}, \"radius\": 0.5, \"color\": \"green\", \"alpha\": 0.8});\n\tviewergrid_16881187029072547[0][1].addLabel(\"5 \\u2192 115\",{\"position\": {\"x\": 47.492, \"y\": 55.195, \"z\": 53.587}});\n\tviewergrid_16881187029072547[0][0].addSphere({\"center\": {\"x\": 52.781, \"y\": 58.305, \"z\": 58.308}, \"radius\": 0.5, \"color\": \"green\", \"alpha\": 0.8});\n\tviewergrid_16881187029072547[0][0].addLabel(\"116 \\u2192 6\",{\"position\": {\"x\": 52.781, \"y\": 58.305, \"z\": 58.308}});\n\tviewergrid_16881187029072547[0][1].addSphere({\"center\": {\"x\": 48.897, \"y\": 54.038, \"z\": 54.911}, \"radius\": 0.5, \"color\": \"green\", \"alpha\": 0.8});\n\tviewergrid_16881187029072547[0][1].addLabel(\"6 \\u2192 116\",{\"position\": {\"x\": 48.897, \"y\": 54.038, \"z\": 54.911}});\n\tviewergrid_16881187029072547[0][0].addSphere({\"center\": {\"x\": 53.474, \"y\": 58.841, \"z\": 57.692}, \"radius\": 0.5, \"color\": \"green\", \"alpha\": 0.8});\n\tviewergrid_16881187029072547[0][0].addLabel(\"117 \\u2192 12\",{\"position\": {\"x\": 53.474, \"y\": 58.841, \"z\": 57.692}});\n\tviewergrid_16881187029072547[0][1].addSphere({\"center\": {\"x\": 50.005, \"y\": 55.088, \"z\": 54.876}, \"radius\": 0.5, \"color\": \"green\", \"alpha\": 0.8});\n\tviewergrid_16881187029072547[0][1].addLabel(\"12 \\u2192 117\",{\"position\": {\"x\": 50.005, \"y\": 55.088, \"z\": 54.876}});\n\tviewergrid_16881187029072547[0][0].addSphere({\"center\": {\"x\": 52.616, \"y\": 58.847, \"z\": 59.201}, \"radius\": 0.5, \"color\": \"green\", \"alpha\": 0.8});\n\tviewergrid_16881187029072547[0][0].addLabel(\"118 \\u2192 8\",{\"position\": {\"x\": 52.616, \"y\": 58.847, \"z\": 59.201}});\n\tviewergrid_16881187029072547[0][1].addSphere({\"center\": {\"x\": 49.523, \"y\": 52.673, \"z\": 54.889}, \"radius\": 0.5, \"color\": \"green\", \"alpha\": 0.8});\n\tviewergrid_16881187029072547[0][1].addLabel(\"8 \\u2192 118\",{\"position\": {\"x\": 49.523, \"y\": 52.673, \"z\": 54.889}});\n\tviewergrid_16881187029072547[0][0].addSphere({\"center\": {\"x\": 51.799, \"y\": 58.24, \"z\": 57.752}, \"radius\": 0.5, \"color\": \"green\", \"alpha\": 0.8});\n\tviewergrid_16881187029072547[0][0].addLabel(\"119 \\u2192 7\",{\"position\": {\"x\": 51.799, \"y\": 58.24, \"z\": 57.752}});\n\tviewergrid_16881187029072547[0][1].addSphere({\"center\": {\"x\": 48.336, \"y\": 54.054, \"z\": 55.944}, \"radius\": 0.5, \"color\": \"green\", \"alpha\": 0.8});\n\tviewergrid_16881187029072547[0][1].addLabel(\"7 \\u2192 119\",{\"position\": {\"x\": 48.336, \"y\": 54.054, \"z\": 55.944}});\n\tviewergrid_16881187029072547[0][0].addSphere({\"center\": {\"x\": 51.94, \"y\": 56.369, \"z\": 59.391}, \"radius\": 0.5, \"color\": \"green\", \"alpha\": 0.8});\n\tviewergrid_16881187029072547[0][0].addLabel(\"120 \\u2192 0\",{\"position\": {\"x\": 51.94, \"y\": 56.369, \"z\": 59.391}});\n\tviewergrid_16881187029072547[0][1].addSphere({\"center\": {\"x\": 46.773, \"y\": 53.208, \"z\": 53.827}, \"radius\": 0.5, \"color\": \"green\", \"alpha\": 0.8});\n\tviewergrid_16881187029072547[0][1].addLabel(\"0 \\u2192 120\",{\"position\": {\"x\": 46.773, \"y\": 53.208, \"z\": 53.827}});\n\tviewergrid_16881187029072547[0][0].addSphere({\"center\": {\"x\": 52.007, \"y\": 55.223, \"z\": 59.642}, \"radius\": 0.5, \"color\": \"green\", \"alpha\": 0.8});\n\tviewergrid_16881187029072547[0][0].addLabel(\"121 \\u2192 2\",{\"position\": {\"x\": 52.007, \"y\": 55.223, \"z\": 59.642}});\n\tviewergrid_16881187029072547[0][1].addSphere({\"center\": {\"x\": 45.88, \"y\": 53.671, \"z\": 53.665}, \"radius\": 0.5, \"color\": \"green\", \"alpha\": 0.8});\n\tviewergrid_16881187029072547[0][1].addLabel(\"2 \\u2192 121\",{\"position\": {\"x\": 45.88, \"y\": 53.671, \"z\": 53.665}});\n\tviewergrid_16881187029072547[0][0].addSphere({\"center\": {\"x\": 51.011, \"y\": 56.594, \"z\": 58.811}, \"radius\": 0.5, \"color\": \"green\", \"alpha\": 0.8});\n\tviewergrid_16881187029072547[0][0].addLabel(\"122 \\u2192 3\",{\"position\": {\"x\": 51.011, \"y\": 56.594, \"z\": 58.811}});\n\tviewergrid_16881187029072547[0][1].addSphere({\"center\": {\"x\": 46.725, \"y\": 52.825, \"z\": 54.865}, \"radius\": 0.5, \"color\": \"green\", \"alpha\": 0.8});\n\tviewergrid_16881187029072547[0][1].addLabel(\"3 \\u2192 122\",{\"position\": {\"x\": 46.725, \"y\": 52.825, \"z\": 54.865}});\n\tviewergrid_16881187029072547[0][0].addSphere({\"center\": {\"x\": 51.726, \"y\": 57.069, \"z\": 60.26}, \"radius\": 0.5, \"color\": \"green\", \"alpha\": 0.8});\n\tviewergrid_16881187029072547[0][0].addLabel(\"123 \\u2192 1\",{\"position\": {\"x\": 51.726, \"y\": 57.069, \"z\": 60.26}});\n\tviewergrid_16881187029072547[0][1].addSphere({\"center\": {\"x\": 46.922, \"y\": 52.491, \"z\": 53.093}, \"radius\": 0.5, \"color\": \"green\", \"alpha\": 0.8});\n\tviewergrid_16881187029072547[0][1].addLabel(\"1 \\u2192 123\",{\"position\": {\"x\": 46.922, \"y\": 52.491, \"z\": 53.093}});\n\tviewergrid_16881187029072547[0][0].addSphere({\"center\": {\"x\": 56.476, \"y\": 55.701, \"z\": 60.661}, \"radius\": 0.5, \"color\": \"green\", \"alpha\": 0.8});\n\tviewergrid_16881187029072547[0][0].addLabel(\"124 \\u2192 20\",{\"position\": {\"x\": 56.476, \"y\": 55.701, \"z\": 60.661}});\n\tviewergrid_16881187029072547[0][1].addSphere({\"center\": {\"x\": 50.248, \"y\": 54.31, \"z\": 50.523}, \"radius\": 0.5, \"color\": \"green\", \"alpha\": 0.8});\n\tviewergrid_16881187029072547[0][1].addLabel(\"20 \\u2192 124\",{\"position\": {\"x\": 50.248, \"y\": 54.31, \"z\": 50.523}});\n\tviewergrid_16881187029072547[0][0].addSphere({\"center\": {\"x\": 56.56, \"y\": 54.808, \"z\": 61.501}, \"radius\": 0.5, \"color\": \"green\", \"alpha\": 0.8});\n\tviewergrid_16881187029072547[0][0].addLabel(\"125 \\u2192 22\",{\"position\": {\"x\": 56.56, \"y\": 54.808, \"z\": 61.501}});\n\tviewergrid_16881187029072547[0][1].addSphere({\"center\": {\"x\": 49.912, \"y\": 55.203, \"z\": 49.317}, \"radius\": 0.5, \"color\": \"green\", \"alpha\": 0.8});\n\tviewergrid_16881187029072547[0][1].addLabel(\"22 \\u2192 125\",{\"position\": {\"x\": 49.912, \"y\": 55.203, \"z\": 49.317}});\n\tviewergrid_16881187029072547[0][0].addSphere({\"center\": {\"x\": 57.22, \"y\": 56.808, \"z\": 60.591}, \"radius\": 0.5, \"color\": \"green\", \"alpha\": 0.8});\n\tviewergrid_16881187029072547[0][0].addLabel(\"126 \\u2192 37\",{\"position\": {\"x\": 57.22, \"y\": 56.808, \"z\": 60.591}});\n\tviewergrid_16881187029072547[0][1].addSphere({\"center\": {\"x\": 51.643, \"y\": 54.678, \"z\": 51.05}, \"radius\": 0.5, \"color\": \"green\", \"alpha\": 0.8});\n\tviewergrid_16881187029072547[0][1].addLabel(\"37 \\u2192 126\",{\"position\": {\"x\": 51.643, \"y\": 54.678, \"z\": 51.05}});\n\tviewergrid_16881187029072547[0][0].addSphere({\"center\": {\"x\": 56.89, \"y\": 57.481, \"z\": 60.017}, \"radius\": 0.5, \"color\": \"green\", \"alpha\": 0.8});\n\tviewergrid_16881187029072547[0][0].addLabel(\"127 \\u2192 38\",{\"position\": {\"x\": 56.89, \"y\": 57.481, \"z\": 60.017}});\n\tviewergrid_16881187029072547[0][1].addSphere({\"center\": {\"x\": 51.877, \"y\": 55.77, \"z\": 51.66}, \"radius\": 0.5, \"color\": \"green\", \"alpha\": 0.8});\n\tviewergrid_16881187029072547[0][1].addLabel(\"38 \\u2192 127\",{\"position\": {\"x\": 51.877, \"y\": 55.77, \"z\": 51.66}});\n\tviewergrid_16881187029072547[0][0].addSphere({\"center\": {\"x\": 58.109, \"y\": 57.291, \"z\": 61.689}, \"radius\": 0.5, \"color\": \"green\", \"alpha\": 0.8});\n\tviewergrid_16881187029072547[0][0].addLabel(\"128 \\u2192 39\",{\"position\": {\"x\": 58.109, \"y\": 57.291, \"z\": 61.689}});\n\tviewergrid_16881187029072547[0][1].addSphere({\"center\": {\"x\": 52.651, \"y\": 53.752, \"z\": 50.915}, \"radius\": 0.5, \"color\": \"green\", \"alpha\": 0.8});\n\tviewergrid_16881187029072547[0][1].addLabel(\"39 \\u2192 128\",{\"position\": {\"x\": 52.651, \"y\": 53.752, \"z\": 50.915}});\n\tviewergrid_16881187029072547[0][0].addSphere({\"center\": {\"x\": 58.659, \"y\": 56.431, \"z\": 62.087}, \"radius\": 0.5, \"color\": \"green\", \"alpha\": 0.8});\n\tviewergrid_16881187029072547[0][0].addLabel(\"129 \\u2192 40\",{\"position\": {\"x\": 58.659, \"y\": 56.431, \"z\": 62.087}});\n\tviewergrid_16881187029072547[0][1].addSphere({\"center\": {\"x\": 52.565, \"y\": 53.085, \"z\": 50.1}, \"radius\": 0.5, \"color\": \"green\", \"alpha\": 0.8});\n\tviewergrid_16881187029072547[0][1].addLabel(\"40 \\u2192 129\",{\"position\": {\"x\": 52.565, \"y\": 53.085, \"z\": 50.1}});\n\tviewergrid_16881187029072547[0][0].addSphere({\"center\": {\"x\": 57.262, \"y\": 57.912, \"z\": 62.825}, \"radius\": 0.5, \"color\": \"green\", \"alpha\": 0.8});\n\tviewergrid_16881187029072547[0][0].addLabel(\"131 \\u2192 41\",{\"position\": {\"x\": 57.262, \"y\": 57.912, \"z\": 62.825}});\n\tviewergrid_16881187029072547[0][1].addSphere({\"center\": {\"x\": 54.037, \"y\": 54.101, \"z\": 51.086}, \"radius\": 0.5, \"color\": \"green\", \"alpha\": 0.8});\n\tviewergrid_16881187029072547[0][1].addLabel(\"41 \\u2192 131\",{\"position\": {\"x\": 54.037, \"y\": 54.101, \"z\": 51.086}});\n\tviewergrid_16881187029072547[0][0].addSphere({\"center\": {\"x\": 57.79, \"y\": 58.753, \"z\": 63.537}, \"radius\": 0.5, \"color\": \"green\", \"alpha\": 0.8});\n\tviewergrid_16881187029072547[0][0].addLabel(\"132 \\u2192 43\",{\"position\": {\"x\": 57.79, \"y\": 58.753, \"z\": 63.537}});\n\tviewergrid_16881187029072547[0][1].addSphere({\"center\": {\"x\": 54.678, \"y\": 53.54, \"z\": 52.425}, \"radius\": 0.5, \"color\": \"green\", \"alpha\": 0.8});\n\tviewergrid_16881187029072547[0][1].addLabel(\"43 \\u2192 132\",{\"position\": {\"x\": 54.678, \"y\": 53.54, \"z\": 52.425}});\n\tviewergrid_16881187029072547[0][0].addSphere({\"center\": {\"x\": 56.043, \"y\": 57.406, \"z\": 63.155}, \"radius\": 0.5, \"color\": \"green\", \"alpha\": 0.8});\n\tviewergrid_16881187029072547[0][0].addLabel(\"133 \\u2192 56\",{\"position\": {\"x\": 56.043, \"y\": 57.406, \"z\": 63.155}});\n\tviewergrid_16881187029072547[0][1].addSphere({\"center\": {\"x\": 54.801, \"y\": 53.601, \"z\": 49.879}, \"radius\": 0.5, \"color\": \"green\", \"alpha\": 0.8});\n\tviewergrid_16881187029072547[0][1].addLabel(\"56 \\u2192 133\",{\"position\": {\"x\": 54.801, \"y\": 53.601, \"z\": 49.879}});\n\tviewergrid_16881187029072547[0][0].addSphere({\"center\": {\"x\": 55.459, \"y\": 57.966, \"z\": 63.82}, \"radius\": 0.5, \"color\": \"green\", \"alpha\": 0.8});\n\tviewergrid_16881187029072547[0][0].addLabel(\"134 \\u2192 58\",{\"position\": {\"x\": 55.459, \"y\": 57.966, \"z\": 63.82}});\n\tviewergrid_16881187029072547[0][1].addSphere({\"center\": {\"x\": 55.824, \"y\": 54.196, \"z\": 49.319}, \"radius\": 0.5, \"color\": \"green\", \"alpha\": 0.8});\n\tviewergrid_16881187029072547[0][1].addLabel(\"58 \\u2192 134\",{\"position\": {\"x\": 55.824, \"y\": 54.196, \"z\": 49.319}});\n\tviewergrid_16881187029072547[0][0].addSphere({\"center\": {\"x\": 55.696, \"y\": 56.527, \"z\": 62.805}, \"radius\": 0.5, \"color\": \"green\", \"alpha\": 0.8});\n\tviewergrid_16881187029072547[0][0].addLabel(\"135 \\u2192 57\",{\"position\": {\"x\": 55.696, \"y\": 56.527, \"z\": 62.805}});\n\tviewergrid_16881187029072547[0][1].addSphere({\"center\": {\"x\": 54.374, \"y\": 52.621, \"z\": 49.266}, \"radius\": 0.5, \"color\": \"green\", \"alpha\": 0.8});\n\tviewergrid_16881187029072547[0][1].addLabel(\"57 \\u2192 135\",{\"position\": {\"x\": 54.374, \"y\": 52.621, \"z\": 49.266}});\n\tviewergrid_16881187029072547[0][0].setBackgroundColor(\"white\");\n\tviewergrid_16881187029072547[0][1].setBackgroundColor(\"white\");\n\tviewergrid_16881187029072547[0][0].zoomTo();\n\tviewergrid_16881187029072547[0][1].zoomTo();\nviewergrid_16881187029072547[0][1].render();\nviewergrid_16881187029072547[0][0].render();\n});\n</script>",
      "text/html": [
       "<div id=\"3dmolviewer_16881187029072547\"  style=\"position: relative; width: 900px; height: 450px\">\n",
       "        <p id=\"3dmolwarning_16881187029072547\" style=\"background-color:#ffcccc;color:black\">You appear to be running in JupyterLab (or JavaScript failed to load for some other reason).  You need to install the 3dmol extension: <br>\n",
       "        <tt>jupyter labextension install jupyterlab_3dmol</tt></p>\n",
       "        </div>\n",
       "<script>\n",
       "\n",
       "var loadScriptAsync = function(uri){\n",
       "  return new Promise((resolve, reject) => {\n",
       "    //this is to ignore the existence of requirejs amd\n",
       "    var savedexports, savedmodule;\n",
       "    if (typeof exports !== 'undefined') savedexports = exports;\n",
       "    else exports = {}\n",
       "    if (typeof module !== 'undefined') savedmodule = module;\n",
       "    else module = {}\n",
       "\n",
       "    var tag = document.createElement('script');\n",
       "    tag.src = uri;\n",
       "    tag.async = true;\n",
       "    tag.onload = () => {\n",
       "        exports = savedexports;\n",
       "        module = savedmodule;\n",
       "        resolve();\n",
       "    };\n",
       "  var firstScriptTag = document.getElementsByTagName('script')[0];\n",
       "  firstScriptTag.parentNode.insertBefore(tag, firstScriptTag);\n",
       "});\n",
       "};\n",
       "\n",
       "if(typeof $3Dmolpromise === 'undefined') {\n",
       "$3Dmolpromise = null;\n",
       "  $3Dmolpromise = loadScriptAsync('https://cdnjs.cloudflare.com/ajax/libs/3Dmol/2.0.1/3Dmol-min.js');\n",
       "}\n",
       "\n",
       "var viewer_16881187029072547 = null;\n",
       "var warn = document.getElementById(\"3dmolwarning_16881187029072547\");\n",
       "if(warn) {\n",
       "    warn.parentNode.removeChild(warn);\n",
       "}\n",
       "$3Dmolpromise.then(function() {\n",
       "var viewergrid_16881187029072547 = null;\n",
       "viewergrid_16881187029072547 = $3Dmol.createViewerGrid(document.getElementById(\"3dmolviewer_16881187029072547\"),{rows: 1, cols: 2, control_all: false},{backgroundColor:\"white\"});\n",
       "viewer_16881187029072547 = viewergrid_16881187029072547[0][0];\n",
       "viewergrid_16881187029072547[0][0].zoomTo();viewergrid_16881187029072547[0][1].zoomTo();\tviewergrid_16881187029072547[0][0].addModel(\"\\n     RDKit          3D\\n\\n136138  0  0  0  0  0  0  0  0999 V2000\\n   46.8220   53.1470   54.0590 N   0  0  0  0  0  0  0  0  0  0  0  0\\n   46.9860   52.2530   53.4970 H   0  0  0  0  0  0  0  0  0  0  0  0\\n   45.8900   53.6070   53.7860 H   0  0  0  0  0  0  0  0  0  0  0  0\\n   46.8050   52.7870   55.0640 H   0  0  0  0  0  0  0  0  0  0  0  0\\n   48.0160   54.0330   53.8180 C   0  0  0  0  0  0  0  0  0  0  0  0\\n   47.4930   55.0600   53.7050 H   0  0  0  0  0  0  0  0  0  0  0  0\\n   48.8640   54.0460   55.0670 C   0  0  0  0  0  0  0  0  0  0  0  0\\n   49.5110   53.1630   55.1450 H   0  0  0  0  0  0  0  0  0  0  0  0\\n   48.1700   54.1660   55.9800 H   0  0  0  0  0  0  0  0  0  0  0  0\\n   49.9290   55.5280   55.2230 S   0  0  0  0  0  0  0  0  0  0  0  0\\n   48.7460   53.7400   52.4790 C   0  0  0  0  0  0  0  0  0  0  0  0\\n   48.5150   52.5920   51.9580 O   0  0  0  0  0  0  0  0  0  0  0  0\\n   49.5990   54.6640   52.0170 N   0  0  0  0  0  0  0  0  0  0  0  0\\n   49.4700   55.6520   52.3840 H   0  0  0  0  0  0  0  0  0  0  0  0\\n   50.3590   54.4510   50.7530 C   0  0  1  0  0  0  0  0  0  0  0  0\\n   49.9120   53.4760   50.3560 H   0  0  0  0  0  0  0  0  0  0  0  0\\n   50.0160   55.6140   49.7710 C   0  0  0  0  0  0  0  0  0  0  0  0\\n   50.4330   56.5450   50.2280 H   0  0  0  0  0  0  0  0  0  0  0  0\\n   48.9370   55.7160   49.8480 H   0  0  0  0  0  0  0  0  0  0  0  0\\n   50.4980   55.5290   48.3590 C   0  0  0  0  0  0  0  0  0  0  0  0\\n   49.5580   55.1070   47.4240 C   0  0  0  0  0  0  0  0  0  0  0  0\\n   48.5330   55.0700   47.7410 H   0  0  0  0  0  0  0  0  0  0  0  0\\n   49.9730   55.0580   46.0560 C   0  0  0  0  0  0  0  0  0  0  0  0\\n   49.3050   54.7220   45.3470 H   0  0  0  0  0  0  0  0  0  0  0  0\\n   51.2700   55.3480   45.6480 C   0  0  0  0  0  0  0  0  0  0  0  0\\n   51.6630   55.2940   44.3250 O   0  0  0  0  0  0  0  0  0  0  0  0\\n   52.6070   55.5280   44.2520 H   0  0  0  0  0  0  0  0  0  0  0  0\\n   52.2190   55.7550   46.5860 C   0  0  0  0  0  0  0  0  0  0  0  0\\n   53.2110   56.0200   46.3230 H   0  0  0  0  0  0  0  0  0  0  0  0\\n   51.7940   55.7510   47.9800 C   0  0  0  0  0  0  0  0  0  0  0  0\\n   52.4700   56.2350   48.7040 H   0  0  0  0  0  0  0  0  0  0  0  0\\n   51.9760   54.2730   50.8320 C   0  0  0  0  0  0  0  0  0  0  0  0\\n   52.6890   54.9560   51.6230 O   0  0  0  0  0  0  0  0  0  0  0  0\\n   52.3890   53.2770   49.9920 N   0  0  0  0  0  0  0  0  0  0  0  0\\n   51.5570   52.8630   49.5550 H   0  0  0  0  0  0  0  0  0  0  0  0\\n   53.8120   52.7020   49.7720 C   0  0  1  0  0  0  0  0  0  0  0  0\\n   54.2430   52.3070   50.7130 H   0  0  0  0  0  0  0  0  0  0  0  0\\n   53.5730   51.4710   48.8050 C   0  0  1  0  0  0  0  0  0  0  0  0\\n   54.5690   51.0370   48.4570 H   0  0  0  0  0  0  0  0  0  0  0  0\\n   52.8270   50.3660   49.5810 C   0  0  0  0  0  0  0  0  0  0  0  0\\n   51.8900   50.7320   49.8630 H   0  0  0  0  0  0  0  0  0  0  0  0\\n   52.5320   49.5690   48.8320 H   0  0  0  0  0  0  0  0  0  0  0  0\\n   53.3970   50.1190   50.4710 H   0  0  0  0  0  0  0  0  0  0  0  0\\n   52.8030   51.7940   47.4640 C   0  0  0  0  0  0  0  0  0  0  0  0\\n   53.1220   52.8640   47.1580 H   0  0  0  0  0  0  0  0  0  0  0  0\\n   53.2410   51.1270   46.6610 H   0  0  0  0  0  0  0  0  0  0  0  0\\n   51.2010   51.8690   47.4380 C   0  0  0  0  0  0  0  0  0  0  0  0\\n   50.8640   52.2810   46.5200 H   0  0  0  0  0  0  0  0  0  0  0  0\\n   50.6420   52.5180   48.1640 H   0  0  0  0  0  0  0  0  0  0  0  0\\n   50.7190   50.9100   47.5040 H   0  0  0  0  0  0  0  0  0  0  0  0\\n   54.8350   53.6830   49.1540 C   0  0  0  0  0  0  0  0  0  0  0  0\\n   55.7960   53.2600   48.5300 O   0  0  0  0  0  0  0  0  0  0  0  0\\n   54.7490   54.9470   49.5290 N   0  0  0  0  0  0  0  0  0  0  0  0\\n   53.9910   55.3400   50.1030 H   0  0  0  0  0  0  0  0  0  0  0  0\\n   56.0020   55.8300   49.4550 C   0  0  1  0  0  0  0  0  0  0  0  0\\n   56.5760   55.5220   48.5880 H   0  0  0  0  0  0  0  0  0  0  0  0\\n   55.6550   57.2960   49.3260 C   0  0  0  0  0  0  0  0  0  0  0  0\\n   55.3680   57.5300   50.3580 H   0  0  0  0  0  0  0  0  0  0  0  0\\n   54.7540   57.4350   48.8050 H   0  0  0  0  0  0  0  0  0  0  0  0\\n   56.7460   58.2800   48.9810 C   0  0  0  0  0  0  0  0  0  0  0  0\\n   57.4990   58.2830   49.8450 H   0  0  0  0  0  0  0  0  0  0  0  0\\n   56.2410   59.2220   48.9820 H   0  0  0  0  0  0  0  0  0  0  0  0\\n   57.3770   58.1340   47.6020 C   0  0  0  0  0  0  0  0  0  0  0  0\\n   57.2530   57.2740   46.7190 O   0  0  0  0  0  0  0  0  0  0  0  0\\n   58.2510   59.1370   47.3560 N   0  0  0  0  0  0  0  0  0  0  0  0\\n   58.7320   58.9660   46.5220 H   0  0  0  0  0  0  0  0  0  0  0  0\\n   58.6780   59.7670   47.9900 H   0  0  0  0  0  0  0  0  0  0  0  0\\n   56.9380   55.5940   50.6570 C   0  0  0  0  0  0  0  0  0  0  0  0\\n   58.1090   55.6880   50.5590 O   0  0  0  0  0  0  0  0  0  0  0  0\\n   56.3410   55.0730   51.6990 N   0  0  0  0  0  0  0  0  0  0  0  0\\n   55.3400   55.0800   51.6590 H   0  0  0  0  0  0  0  0  0  0  0  0\\n   57.0940   54.6450   52.8690 C   0  0  1  0  0  0  0  0  0  0  0  0\\n   57.7790   53.9160   52.4670 H   0  0  0  0  0  0  0  0  0  0  0  0\\n   57.7530   55.9410   53.4810 C   0  0  0  0  0  0  0  0  0  0  0  0\\n   57.2650   56.2440   54.4800 H   0  0  0  0  0  0  0  0  0  0  0  0\\n   57.6990   56.7780   52.8440 H   0  0  0  0  0  0  0  0  0  0  0  0\\n   59.1730   55.5860   53.8620 C   0  0  0  0  0  0  0  0  0  0  0  0\\n   59.7590   54.6400   53.3850 O   0  0  0  0  0  0  0  0  0  0  0  0\\n   59.8400   56.3830   54.6730 N   0  0  0  0  0  0  0  0  0  0  0  0\\n   60.7830   56.1870   54.8800 H   0  0  0  0  0  0  0  0  0  0  0  0\\n   59.4200   57.2170   55.0380 H   0  0  0  0  0  0  0  0  0  0  0  0\\n   56.3280   54.0140   54.0620 C   0  0  0  0  0  0  0  0  0  0  0  0\\n   56.8920   53.4380   55.0210 O   0  0  0  0  0  0  0  0  0  0  0  0\\n   55.0630   54.2720   54.0440 N   0  0  0  0  0  0  0  0  0  0  0  0\\n   54.6520   54.7850   53.2770 H   0  0  0  0  0  0  0  0  0  0  0  0\\n   54.1450   53.9300   55.1760 C   0  0  0  0  0  0  0  0  0  0  0  0\\n   54.4630   54.5180   56.0420 H   0  0  0  0  0  0  0  0  0  0  0  0\\n   52.7740   54.3990   54.6780 C   0  0  0  0  0  0  0  0  0  0  0  0\\n   52.3010   53.4960   54.1780 H   0  0  0  0  0  0  0  0  0  0  0  0\\n   52.8340   55.2750   53.9440 H   0  0  0  0  0  0  0  0  0  0  0  0\\n   51.7230   54.8140   56.0980 S   0  0  0  0  0  0  0  0  0  0  0  0\\n   53.9900   52.4290   55.5000 C   0  0  0  0  0  0  0  0  0  0  0  0\\n   54.1690   51.5910   54.6320 O   0  0  0  0  0  0  0  0  0  0  0  0\\n   53.7310   52.0190   56.7600 N   0  0  0  0  0  0  0  0  0  0  0  0\\n   53.5270   50.6300   56.9750 C   0  0  0  0  0  0  0  0  0  0  0  0\\n   54.4710   50.1680   57.1740 H   0  0  0  0  0  0  0  0  0  0  0  0\\n   52.9990   50.1450   56.1790 H   0  0  0  0  0  0  0  0  0  0  0  0\\n   52.9170   50.4660   58.3410 C   0  0  0  0  0  0  0  0  0  0  0  0\\n   51.8320   50.5890   58.2400 H   0  0  0  0  0  0  0  0  0  0  0  0\\n   53.1260   49.4930   58.8060 H   0  0  0  0  0  0  0  0  0  0  0  0\\n   53.3340   51.7150   59.1120 C   0  0  0  0  0  0  0  0  0  0  0  0\\n   52.4750   52.0590   59.6980 H   0  0  0  0  0  0  0  0  0  0  0  0\\n   54.1370   51.6160   59.8150 H   0  0  0  0  0  0  0  0  0  0  0  0\\n   53.6500   52.7960   58.0670 C   0  0  1  0  0  0  0  0  0  0  0  0\\n   52.8430   53.5170   57.9780 H   0  0  0  0  0  0  0  0  0  0  0  0\\n   54.8650   53.5640   58.4640 C   0  0  0  0  0  0  0  0  0  0  0  0\\n   55.9040   53.7240   57.7730 O   0  0  0  0  0  0  0  0  0  0  0  0\\n   54.7250   54.3050   59.5380 N   0  0  0  0  0  0  0  0  0  0  0  0\\n   53.9350   54.1600   60.1180 H   0  0  0  0  0  0  0  0  0  0  0  0\\n   55.3850   55.6190   59.6050 C   0  0  1  0  0  0  0  0  0  0  0  0\\n   55.8690   55.8660   58.6910 H   0  0  0  0  0  0  0  0  0  0  0  0\\n   54.3230   56.7970   59.7160 C   0  0  0  0  0  0  0  0  0  0  0  0\\n   53.9420   56.7480   60.7250 H   0  0  0  0  0  0  0  0  0  0  0  0\\n   54.9400   57.7280   59.5350 H   0  0  0  0  0  0  0  0  0  0  0  0\\n   53.1880   56.8610   58.6500 C   0  0  0  0  0  0  0  0  0  0  0  0\\n   53.3550   56.3870   57.6820 H   0  0  0  0  0  0  0  0  0  0  0  0\\n   52.7810   58.3050   58.3080 C   0  0  0  0  0  0  0  0  0  0  0  0\\n   53.4740   58.8410   57.6920 H   0  0  0  0  0  0  0  0  0  0  0  0\\n   52.6160   58.8470   59.2010 H   0  0  0  0  0  0  0  0  0  0  0  0\\n   51.7990   58.2400   57.7520 H   0  0  0  0  0  0  0  0  0  0  0  0\\n   51.9400   56.3690   59.3910 C   0  0  0  0  0  0  0  0  0  0  0  0\\n   52.0070   55.2230   59.6420 H   0  0  0  0  0  0  0  0  0  0  0  0\\n   51.0110   56.5940   58.8110 H   0  0  0  0  0  0  0  0  0  0  0  0\\n   51.7260   57.0690   60.2600 H   0  0  0  0  0  0  0  0  0  0  0  0\\n   56.4760   55.7010   60.6610 C   0  0  0  0  0  0  0  0  0  0  0  0\\n   56.5600   54.8080   61.5010 O   0  0  0  0  0  0  0  0  0  0  0  0\\n   57.2200   56.8080   60.5910 N   0  0  0  0  0  0  0  0  0  0  0  0\\n   56.8900   57.4810   60.0170 H   0  0  0  0  0  0  0  0  0  0  0  0\\n   58.1090   57.2910   61.6890 C   0  0  0  0  0  0  0  0  0  0  0  0\\n   58.6590   56.4310   62.0870 H   0  0  0  0  0  0  0  0  0  0  0  0\\n   58.7280   58.0490   61.3320 H   0  0  0  0  0  0  0  0  0  0  0  0\\n   57.2620   57.9120   62.8250 C   0  0  0  0  0  0  0  0  0  0  0  0\\n   57.7900   58.7530   63.5370 O   0  0  0  0  0  0  0  0  0  0  0  0\\n   56.0430   57.4060   63.1550 N   0  0  0  0  0  0  0  0  0  0  0  0\\n   55.4590   57.9660   63.8200 H   0  0  0  0  0  0  0  0  0  0  0  0\\n   55.6960   56.5270   62.8050 H   0  0  0  0  0  0  0  0  0  0  0  0\\n  2  1  1  0\\n  3  1  1  0\\n  4  1  1  0\\n  5  1  1  0\\n  6  5  1  0\\n  7  5  1  0\\n  8  7  1  0\\n  9  7  1  0\\n 10  7  1  0\\n 11  5  1  0\\n 12 11  1  0\\n 13 11  1  0\\n 14 13  1  0\\n 15 13  1  0\\n 15 16  1  6\\n 17 15  1  0\\n 18 17  1  0\\n 19 17  1  0\\n 20 17  1  0\\n 21 20  2  0\\n 22 21  1  0\\n 23 21  1  0\\n 24 23  1  0\\n 25 23  2  0\\n 26 25  1  0\\n 27 26  1  0\\n 28 25  1  0\\n 29 28  1  0\\n 30 28  2  0\\n 30 20  1  0\\n 31 30  1  0\\n 32 15  1  0\\n 33 32  2  0\\n 34 32  1  0\\n 35 34  1  0\\n 36 34  1  0\\n 36 37  1  1\\n 38 36  1  0\\n 38 39  1  6\\n 40 38  1  0\\n 41 40  1  0\\n 42 40  1  0\\n 43 40  1  0\\n 44 38  1  0\\n 45 44  1  0\\n 46 44  1  0\\n 47 44  1  0\\n 48 47  1  0\\n 49 47  1  0\\n 50 47  1  0\\n 51 36  1  0\\n 52 51  2  0\\n 53 51  1  0\\n 54 53  1  0\\n 55 53  1  0\\n 55 56  1  6\\n 57 55  1  0\\n 58 57  1  0\\n 59 57  1  0\\n 60 57  1  0\\n 61 60  1  0\\n 62 60  1  0\\n 63 60  1  0\\n 64 63  2  0\\n 65 63  1  0\\n 66 65  1  0\\n 67 65  1  0\\n 68 55  1  0\\n 69 68  2  0\\n 70 68  1  0\\n 71 70  1  0\\n 72 70  1  0\\n 72 73  1  6\\n 74 72  1  0\\n 75 74  1  0\\n 76 74  1  0\\n 77 74  1  0\\n 78 77  2  0\\n 79 77  1  0\\n 80 79  1  0\\n 81 79  1  0\\n 82 72  1  0\\n 83 82  2  0\\n 84 82  1  0\\n 85 84  1  0\\n 86 84  1  0\\n 87 86  1  0\\n 88 86  1  0\\n 89 88  1  0\\n 90 88  1  0\\n 91 88  1  0\\n 91 10  1  0\\n 92 86  1  0\\n 93 92  1  0\\n 94 92  1  0\\n 95 94  1  0\\n 96 95  1  0\\n 97 95  1  0\\n 98 95  1  0\\n 99 98  1  0\\n100 98  1  0\\n101 98  1  0\\n102101  1  0\\n103101  1  0\\n104101  1  0\\n104 94  1  0\\n104105  1  6\\n106104  1  0\\n107106  2  0\\n108106  1  0\\n109108  1  0\\n110108  1  0\\n110111  1  6\\n112110  1  0\\n113112  1  0\\n114112  1  0\\n115112  1  0\\n116115  1  0\\n117115  1  0\\n118117  1  0\\n119117  1  0\\n120117  1  0\\n121115  1  0\\n122121  1  0\\n123121  1  0\\n124121  1  0\\n125110  1  0\\n126125  2  0\\n127125  1  0\\n128127  1  0\\n129127  1  0\\n130129  1  0\\n131129  1  0\\n132129  1  0\\n133132  2  0\\n134132  1  0\\n135134  1  0\\n136134  1  0\\nM  CHG  1   1   1\\nM  END\\n\",\"mol0\");\n",
       "\tviewergrid_16881187029072547[0][1].addModel(\"\\n     RDKit          3D\\n\\n110113  0  0  0  0  0  0  0  0999 V2000\\n   46.7730   53.2080   53.8270 N   0  0  0  0  0  0  0  0  0  0  0  0\\n   46.9220   52.4910   53.0930 H   0  0  0  0  0  0  0  0  0  0  0  0\\n   45.8800   53.6710   53.6650 H   0  0  0  0  0  0  0  0  0  0  0  0\\n   46.7250   52.8250   54.8650 H   0  0  0  0  0  0  0  0  0  0  0  0\\n   47.9150   54.1400   53.6630 C   0  0  1  0  0  0  0  0  0  0  0  0\\n   47.4920   55.1950   53.5870 H   0  0  0  0  0  0  0  0  0  0  0  0\\n   48.8970   54.0380   54.9110 C   0  0  0  0  0  0  0  0  0  0  0  0\\n   48.3360   54.0540   55.9440 H   0  0  0  0  0  0  0  0  0  0  0  0\\n   49.5230   52.6730   54.8890 C   0  0  0  0  0  0  0  0  0  0  0  0\\n   49.8280   52.4360   53.9230 H   0  0  0  0  0  0  0  0  0  0  0  0\\n   50.4790   52.7130   55.5290 H   0  0  0  0  0  0  0  0  0  0  0  0\\n   48.8600   51.8820   55.2890 H   0  0  0  0  0  0  0  0  0  0  0  0\\n   50.0050   55.0880   54.8760 C   0  0  0  0  0  0  0  0  0  0  0  0\\n   50.7570   54.8580   54.1000 H   0  0  0  0  0  0  0  0  0  0  0  0\\n   49.6210   56.1110   54.7200 H   0  0  0  0  0  0  0  0  0  0  0  0\\n   50.6030   55.2000   55.8390 H   0  0  0  0  0  0  0  0  0  0  0  0\\n   48.6070   53.7270   52.2720 C   0  0  0  0  0  0  0  0  0  0  0  0\\n   48.4840   52.5560   51.8650 O   0  0  0  0  0  0  0  0  0  0  0  0\\n   49.3520   54.6560   51.6470 N   0  0  0  0  0  0  0  0  0  0  0  0\\n   49.4980   55.6080   51.9380 H   0  0  0  0  0  0  0  0  0  0  0  0\\n   50.2480   54.3100   50.5230 C   0  0  1  0  0  0  0  0  0  0  0  0\\n   50.1250   53.2940   50.2540 H   0  0  0  0  0  0  0  0  0  0  0  0\\n   49.9120   55.2030   49.3170 C   0  0  0  0  0  0  0  0  0  0  0  0\\n   48.8390   55.3130   49.1560 H   0  0  0  0  0  0  0  0  0  0  0  0\\n   50.0210   56.2130   49.6740 H   0  0  0  0  0  0  0  0  0  0  0  0\\n   50.6540   54.9570   48.0140 C   0  0  0  0  0  0  0  0  0  0  0  0\\n   49.9120   54.1410   47.1160 C   0  0  0  0  0  0  0  0  0  0  0  0\\n   48.9020   53.8230   47.3650 H   0  0  0  0  0  0  0  0  0  0  0  0\\n   50.4280   53.9380   45.8210 C   0  0  0  0  0  0  0  0  0  0  0  0\\n   49.8620   53.3950   45.0940 H   0  0  0  0  0  0  0  0  0  0  0  0\\n   51.7250   54.4380   45.4620 C   0  0  0  0  0  0  0  0  0  0  0  0\\n   52.2450   54.3400   44.2230 O   0  0  0  0  0  0  0  0  0  0  0  0\\n   53.1600   54.5690   44.1930 H   0  0  0  0  0  0  0  0  0  0  0  0\\n   52.5110   55.0540   46.4360 C   0  0  0  0  0  0  0  0  0  0  0  0\\n   53.4270   55.5280   46.1530 H   0  0  0  0  0  0  0  0  0  0  0  0\\n   51.9740   55.3050   47.7110 C   0  0  0  0  0  0  0  0  0  0  0  0\\n   52.6260   55.7880   48.4240 H   0  0  0  0  0  0  0  0  0  0  0  0\\n   51.6430   54.6780   51.0500 C   0  0  0  0  0  0  0  0  0  0  0  0\\n   51.8770   55.7700   51.6600 O   0  0  0  0  0  0  0  0  0  0  0  0\\n   52.6510   53.7520   50.9150 N   0  0  0  0  0  0  0  0  0  0  0  0\\n   52.5650   53.0850   50.1000 H   0  0  0  0  0  0  0  0  0  0  0  0\\n   54.0370   54.1010   51.0860 C   0  0  1  0  0  0  0  0  0  0  0  0\\n   54.2030   55.1920   51.1730 H   0  0  0  0  0  0  0  0  0  0  0  0\\n   54.6780   53.5400   52.4250 C   0  0  1  0  0  0  0  0  0  0  0  0\\n   54.6340   52.4940   52.4740 H   0  0  0  0  0  0  0  0  0  0  0  0\\n   56.0730   54.0240   52.4820 C   0  0  0  0  0  0  0  0  0  0  0  0\\n   56.7140   53.6110   51.6850 H   0  0  0  0  0  0  0  0  0  0  0  0\\n   56.0970   55.1420   52.2490 H   0  0  0  0  0  0  0  0  0  0  0  0\\n   56.5650   53.9200   53.4700 H   0  0  0  0  0  0  0  0  0  0  0  0\\n   53.9320   53.9660   53.7260 C   0  0  0  0  0  0  0  0  0  0  0  0\\n   54.3630   54.9440   54.0800 H   0  0  0  0  0  0  0  0  0  0  0  0\\n   52.8490   54.1100   53.5660 H   0  0  0  0  0  0  0  0  0  0  0  0\\n   54.1010   52.9860   54.8970 C   0  0  0  0  0  0  0  0  0  0  0  0\\n   55.0960   52.9910   55.3360 H   0  0  0  0  0  0  0  0  0  0  0  0\\n   53.3560   53.1840   55.6710 H   0  0  0  0  0  0  0  0  0  0  0  0\\n   53.8340   52.0480   54.4100 H   0  0  0  0  0  0  0  0  0  0  0  0\\n   54.8010   53.6010   49.8790 C   0  0  0  0  0  0  0  0  0  0  0  0\\n   54.3740   52.6210   49.2660 O   0  0  0  0  0  0  0  0  0  0  0  0\\n   55.8240   54.1960   49.3190 N   0  0  0  0  0  0  0  0  0  0  0  0\\n   56.1580   54.9640   49.8520 H   0  0  0  0  0  0  0  0  0  0  0  0\\n   56.5460   53.9660   48.0630 C   0  0  0  0  0  0  0  0  0  0  0  0\\n   55.8040   54.0700   47.3080 H   0  0  0  0  0  0  0  0  0  0  0  0\\n   57.4720   55.2040   48.0050 C   0  0  0  0  0  0  0  0  0  0  0  0\\n   56.8310   56.0410   48.1850 H   0  0  0  0  0  0  0  0  0  0  0  0\\n   58.1530   55.0310   48.8260 H   0  0  0  0  0  0  0  0  0  0  0  0\\n   58.1530   55.3020   46.6370 C   0  0  0  0  0  0  0  0  0  0  0  0\\n   57.4480   55.3440   45.4210 N   0  0  0  0  0  0  0  0  0  0  0  0\\n   58.3860   55.5860   44.4420 C   0  0  0  0  0  0  0  0  0  0  0  0\\n   58.2030   55.7740   43.3800 H   0  0  0  0  0  0  0  0  0  0  0  0\\n   59.5700   55.7920   45.0950 N   0  0  0  0  0  0  0  0  0  0  0  0\\n   60.3370   56.1950   44.5810 H   0  0  0  0  0  0  0  0  0  0  0  0\\n   59.4610   55.6300   46.5110 C   0  0  0  0  0  0  0  0  0  0  0  0\\n   60.1870   55.8130   47.3830 H   0  0  0  0  0  0  0  0  0  0  0  0\\n   57.3180   52.6080   47.9860 C   0  0  0  0  0  0  0  0  0  0  0  0\\n   58.0210   52.2460   48.9240 O   0  0  0  0  0  0  0  0  0  0  0  0\\n   57.1930   51.8110   46.8810 N   0  0  0  0  0  0  0  0  0  0  0  0\\n   56.0990   51.8570   45.9110 C   0  0  0  0  0  0  0  0  0  0  0  0\\n   56.2780   52.3960   45.0650 H   0  0  0  0  0  0  0  0  0  0  0  0\\n   55.2460   52.1860   46.4980 H   0  0  0  0  0  0  0  0  0  0  0  0\\n   55.8110   50.4660   45.4690 C   0  0  0  0  0  0  0  0  0  0  0  0\\n   55.3490   50.3880   44.5310 H   0  0  0  0  0  0  0  0  0  0  0  0\\n   55.2850   49.9690   46.2720 H   0  0  0  0  0  0  0  0  0  0  0  0\\n   57.2390   49.9610   45.4720 C   0  0  0  0  0  0  0  0  0  0  0  0\\n   57.7150   50.3250   44.5660 H   0  0  0  0  0  0  0  0  0  0  0  0\\n   57.2560   48.9240   45.4900 H   0  0  0  0  0  0  0  0  0  0  0  0\\n   57.8690   50.5220   46.6740 C   0  0  1  0  0  0  0  0  0  0  0  0\\n   57.5200   49.9350   47.5230 H   0  0  0  0  0  0  0  0  0  0  0  0\\n   59.3860   50.6500   46.6280 C   0  0  0  0  0  0  0  0  0  0  0  0\\n   59.9390   51.5320   45.9330 O   0  0  0  0  0  0  0  0  0  0  0  0\\n   60.0720   49.7040   47.3780 N   0  0  0  0  0  0  0  0  0  0  0  0\\n   59.6120   48.9140   47.8460 H   0  0  0  0  0  0  0  0  0  0  0  0\\n   61.4790   49.4980   47.3180 C   0  0  1  0  0  0  0  0  0  0  0  0\\n   61.9900   50.4560   47.6570 H   0  0  0  0  0  0  0  0  0  0  0  0\\n   61.8760   48.4330   48.4510 C   0  0  0  0  0  0  0  0  0  0  0  0\\n   61.5160   48.8510   49.3350 H   0  0  0  0  0  0  0  0  0  0  0  0\\n   61.2920   47.4930   48.3280 H   0  0  0  0  0  0  0  0  0  0  0  0\\n   63.4110   48.1500   48.5550 C   0  0  0  0  0  0  0  0  0  0  0  0\\n   64.1780   48.8090   49.5370 C   0  0  0  0  0  0  0  0  0  0  0  0\\n   63.6830   49.5370   50.2150 H   0  0  0  0  0  0  0  0  0  0  0  0\\n   65.5410   48.7730   49.4390 C   0  0  0  0  0  0  0  0  0  0  0  0\\n   66.1280   49.3680   50.0880 H   0  0  0  0  0  0  0  0  0  0  0  0\\n   66.2110   47.9760   48.5150 C   0  0  0  0  0  0  0  0  0  0  0  0\\n   67.3230   47.8170   48.5810 H   0  0  0  0  0  0  0  0  0  0  0  0\\n   65.4230   47.2330   47.5770 C   0  0  0  0  0  0  0  0  0  0  0  0\\n   65.8660   46.5940   46.8500 H   0  0  0  0  0  0  0  0  0  0  0  0\\n   64.0080   47.3010   47.5550 C   0  0  0  0  0  0  0  0  0  0  0  0\\n   63.4080   46.8270   46.8050 H   0  0  0  0  0  0  0  0  0  0  0  0\\n   61.9510   49.2670   45.8020 C   0  0  0  0  0  0  0  0  0  0  0  0\\n   61.1800   48.5980   45.0830 O   0  0  0  0  0  0  0  0  0  0  0  0\\n   62.9610   49.8910   45.3610 O   0  0  0  0  0  0  0  0  0  0  0  0\\n  2  1  1  0\\n  3  1  1  0\\n  4  1  1  0\\n  5  1  1  0\\n  5  6  1  6\\n  7  5  1  0\\n  8  7  1  0\\n  9  7  1  0\\n 10  9  1  0\\n 11  9  1  0\\n 12  9  1  0\\n 13  7  1  0\\n 14 13  1  0\\n 15 13  1  0\\n 16 13  1  0\\n 17  5  1  0\\n 18 17  2  0\\n 19 17  1  0\\n 20 19  1  0\\n 21 19  1  0\\n 21 22  1  6\\n 23 21  1  0\\n 24 23  1  0\\n 25 23  1  0\\n 26 23  1  0\\n 27 26  2  0\\n 28 27  1  0\\n 29 27  1  0\\n 30 29  1  0\\n 31 29  2  0\\n 32 31  1  0\\n 33 32  1  0\\n 34 31  1  0\\n 35 34  1  0\\n 36 34  2  0\\n 36 26  1  0\\n 37 36  1  0\\n 38 21  1  0\\n 39 38  2  0\\n 40 38  1  0\\n 41 40  1  0\\n 42 40  1  0\\n 42 43  1  1\\n 44 42  1  0\\n 44 45  1  6\\n 46 44  1  0\\n 47 46  1  0\\n 48 46  1  0\\n 49 46  1  0\\n 50 44  1  0\\n 51 50  1  0\\n 52 50  1  0\\n 53 50  1  0\\n 54 53  1  0\\n 55 53  1  0\\n 56 53  1  0\\n 57 42  1  0\\n 58 57  2  0\\n 59 57  1  0\\n 60 59  1  0\\n 61 59  1  0\\n 62 61  1  0\\n 63 61  1  0\\n 64 63  1  0\\n 65 63  1  0\\n 66 63  1  0\\n 67 66  1  0\\n 68 67  1  0\\n 69 68  1  0\\n 70 68  1  0\\n 71 70  1  0\\n 72 70  1  0\\n 72 66  1  0\\n 73 72  1  0\\n 74 61  1  0\\n 75 74  1  0\\n 76 74  1  0\\n 77 76  1  0\\n 78 77  1  0\\n 79 77  1  0\\n 80 77  1  0\\n 81 80  1  0\\n 82 80  1  0\\n 83 80  1  0\\n 84 83  1  0\\n 85 83  1  0\\n 86 83  1  0\\n 86 76  1  0\\n 86 87  1  1\\n 88 86  1  0\\n 89 88  2  0\\n 90 88  1  0\\n 91 90  1  0\\n 92 90  1  0\\n 92 93  1  1\\n 94 92  1  0\\n 95 94  1  0\\n 96 94  1  0\\n 97 94  1  0\\n 98 97  2  0\\n 99 98  1  0\\n100 98  1  0\\n101100  1  0\\n102100  2  0\\n103102  1  0\\n104102  1  0\\n105104  1  0\\n106 97  1  0\\n106104  2  0\\n107106  1  0\\n108 92  1  0\\n109108  2  0\\n110108  1  0\\nM  CHG  1   1   1\\nM  END\\n\",\"mol1\");\n",
       "\tviewergrid_16881187029072547[0][0].setStyle({\"model\": 0},{\"stick\": {\"colorscheme\": \"grayCarbon\", \"linewidth\": 0.1}});\n",
       "\tviewergrid_16881187029072547[0][1].setStyle({\"model\": 0},{\"stick\": {\"colorscheme\": \"grayCarbon\", \"linewidth\": 0.1}});\n",
       "\tviewergrid_16881187029072547[0][0].addSphere({\"center\": {\"x\": 55.385, \"y\": 55.619, \"z\": 59.605}, \"radius\": 0.5, \"color\": \"green\", \"alpha\": 0.8});\n",
       "\tviewergrid_16881187029072547[0][0].addLabel(\"109 \\u2192 18\",{\"position\": {\"x\": 55.385, \"y\": 55.619, \"z\": 59.605}});\n",
       "\tviewergrid_16881187029072547[0][1].addSphere({\"center\": {\"x\": 49.352, \"y\": 54.656, \"z\": 51.647}, \"radius\": 0.5, \"color\": \"green\", \"alpha\": 0.8});\n",
       "\tviewergrid_16881187029072547[0][1].addLabel(\"18 \\u2192 109\",{\"position\": {\"x\": 49.352, \"y\": 54.656, \"z\": 51.647}});\n",
       "\tviewergrid_16881187029072547[0][0].addSphere({\"center\": {\"x\": 55.869, \"y\": 55.866, \"z\": 58.691}, \"radius\": 0.5, \"color\": \"green\", \"alpha\": 0.8});\n",
       "\tviewergrid_16881187029072547[0][0].addLabel(\"110 \\u2192 19\",{\"position\": {\"x\": 55.869, \"y\": 55.866, \"z\": 58.691}});\n",
       "\tviewergrid_16881187029072547[0][1].addSphere({\"center\": {\"x\": 49.498, \"y\": 55.608, \"z\": 51.938}, \"radius\": 0.5, \"color\": \"green\", \"alpha\": 0.8});\n",
       "\tviewergrid_16881187029072547[0][1].addLabel(\"19 \\u2192 110\",{\"position\": {\"x\": 49.498, \"y\": 55.608, \"z\": 51.938}});\n",
       "\tviewergrid_16881187029072547[0][0].addSphere({\"center\": {\"x\": 54.323, \"y\": 56.797, \"z\": 59.716}, \"radius\": 0.5, \"color\": \"green\", \"alpha\": 0.8});\n",
       "\tviewergrid_16881187029072547[0][0].addLabel(\"111 \\u2192 16\",{\"position\": {\"x\": 54.323, \"y\": 56.797, \"z\": 59.716}});\n",
       "\tviewergrid_16881187029072547[0][1].addSphere({\"center\": {\"x\": 48.607, \"y\": 53.727, \"z\": 52.272}, \"radius\": 0.5, \"color\": \"green\", \"alpha\": 0.8});\n",
       "\tviewergrid_16881187029072547[0][1].addLabel(\"16 \\u2192 111\",{\"position\": {\"x\": 48.607, \"y\": 53.727, \"z\": 52.272}});\n",
       "\tviewergrid_16881187029072547[0][0].addSphere({\"center\": {\"x\": 53.942, \"y\": 56.748, \"z\": 60.725}, \"radius\": 0.5, \"color\": \"green\", \"alpha\": 0.8});\n",
       "\tviewergrid_16881187029072547[0][0].addLabel(\"112 \\u2192 17\",{\"position\": {\"x\": 53.942, \"y\": 56.748, \"z\": 60.725}});\n",
       "\tviewergrid_16881187029072547[0][1].addSphere({\"center\": {\"x\": 48.484, \"y\": 52.556, \"z\": 51.865}, \"radius\": 0.5, \"color\": \"green\", \"alpha\": 0.8});\n",
       "\tviewergrid_16881187029072547[0][1].addLabel(\"17 \\u2192 112\",{\"position\": {\"x\": 48.484, \"y\": 52.556, \"z\": 51.865}});\n",
       "\tviewergrid_16881187029072547[0][0].addSphere({\"center\": {\"x\": 53.188, \"y\": 56.861, \"z\": 58.65}, \"radius\": 0.5, \"color\": \"green\", \"alpha\": 0.8});\n",
       "\tviewergrid_16881187029072547[0][0].addLabel(\"114 \\u2192 4\",{\"position\": {\"x\": 53.188, \"y\": 56.861, \"z\": 58.65}});\n",
       "\tviewergrid_16881187029072547[0][1].addSphere({\"center\": {\"x\": 47.915, \"y\": 54.14, \"z\": 53.663}, \"radius\": 0.5, \"color\": \"green\", \"alpha\": 0.8});\n",
       "\tviewergrid_16881187029072547[0][1].addLabel(\"4 \\u2192 114\",{\"position\": {\"x\": 47.915, \"y\": 54.14, \"z\": 53.663}});\n",
       "\tviewergrid_16881187029072547[0][0].addSphere({\"center\": {\"x\": 53.355, \"y\": 56.387, \"z\": 57.682}, \"radius\": 0.5, \"color\": \"green\", \"alpha\": 0.8});\n",
       "\tviewergrid_16881187029072547[0][0].addLabel(\"115 \\u2192 5\",{\"position\": {\"x\": 53.355, \"y\": 56.387, \"z\": 57.682}});\n",
       "\tviewergrid_16881187029072547[0][1].addSphere({\"center\": {\"x\": 47.492, \"y\": 55.195, \"z\": 53.587}, \"radius\": 0.5, \"color\": \"green\", \"alpha\": 0.8});\n",
       "\tviewergrid_16881187029072547[0][1].addLabel(\"5 \\u2192 115\",{\"position\": {\"x\": 47.492, \"y\": 55.195, \"z\": 53.587}});\n",
       "\tviewergrid_16881187029072547[0][0].addSphere({\"center\": {\"x\": 52.781, \"y\": 58.305, \"z\": 58.308}, \"radius\": 0.5, \"color\": \"green\", \"alpha\": 0.8});\n",
       "\tviewergrid_16881187029072547[0][0].addLabel(\"116 \\u2192 6\",{\"position\": {\"x\": 52.781, \"y\": 58.305, \"z\": 58.308}});\n",
       "\tviewergrid_16881187029072547[0][1].addSphere({\"center\": {\"x\": 48.897, \"y\": 54.038, \"z\": 54.911}, \"radius\": 0.5, \"color\": \"green\", \"alpha\": 0.8});\n",
       "\tviewergrid_16881187029072547[0][1].addLabel(\"6 \\u2192 116\",{\"position\": {\"x\": 48.897, \"y\": 54.038, \"z\": 54.911}});\n",
       "\tviewergrid_16881187029072547[0][0].addSphere({\"center\": {\"x\": 53.474, \"y\": 58.841, \"z\": 57.692}, \"radius\": 0.5, \"color\": \"green\", \"alpha\": 0.8});\n",
       "\tviewergrid_16881187029072547[0][0].addLabel(\"117 \\u2192 12\",{\"position\": {\"x\": 53.474, \"y\": 58.841, \"z\": 57.692}});\n",
       "\tviewergrid_16881187029072547[0][1].addSphere({\"center\": {\"x\": 50.005, \"y\": 55.088, \"z\": 54.876}, \"radius\": 0.5, \"color\": \"green\", \"alpha\": 0.8});\n",
       "\tviewergrid_16881187029072547[0][1].addLabel(\"12 \\u2192 117\",{\"position\": {\"x\": 50.005, \"y\": 55.088, \"z\": 54.876}});\n",
       "\tviewergrid_16881187029072547[0][0].addSphere({\"center\": {\"x\": 52.616, \"y\": 58.847, \"z\": 59.201}, \"radius\": 0.5, \"color\": \"green\", \"alpha\": 0.8});\n",
       "\tviewergrid_16881187029072547[0][0].addLabel(\"118 \\u2192 8\",{\"position\": {\"x\": 52.616, \"y\": 58.847, \"z\": 59.201}});\n",
       "\tviewergrid_16881187029072547[0][1].addSphere({\"center\": {\"x\": 49.523, \"y\": 52.673, \"z\": 54.889}, \"radius\": 0.5, \"color\": \"green\", \"alpha\": 0.8});\n",
       "\tviewergrid_16881187029072547[0][1].addLabel(\"8 \\u2192 118\",{\"position\": {\"x\": 49.523, \"y\": 52.673, \"z\": 54.889}});\n",
       "\tviewergrid_16881187029072547[0][0].addSphere({\"center\": {\"x\": 51.799, \"y\": 58.24, \"z\": 57.752}, \"radius\": 0.5, \"color\": \"green\", \"alpha\": 0.8});\n",
       "\tviewergrid_16881187029072547[0][0].addLabel(\"119 \\u2192 7\",{\"position\": {\"x\": 51.799, \"y\": 58.24, \"z\": 57.752}});\n",
       "\tviewergrid_16881187029072547[0][1].addSphere({\"center\": {\"x\": 48.336, \"y\": 54.054, \"z\": 55.944}, \"radius\": 0.5, \"color\": \"green\", \"alpha\": 0.8});\n",
       "\tviewergrid_16881187029072547[0][1].addLabel(\"7 \\u2192 119\",{\"position\": {\"x\": 48.336, \"y\": 54.054, \"z\": 55.944}});\n",
       "\tviewergrid_16881187029072547[0][0].addSphere({\"center\": {\"x\": 51.94, \"y\": 56.369, \"z\": 59.391}, \"radius\": 0.5, \"color\": \"green\", \"alpha\": 0.8});\n",
       "\tviewergrid_16881187029072547[0][0].addLabel(\"120 \\u2192 0\",{\"position\": {\"x\": 51.94, \"y\": 56.369, \"z\": 59.391}});\n",
       "\tviewergrid_16881187029072547[0][1].addSphere({\"center\": {\"x\": 46.773, \"y\": 53.208, \"z\": 53.827}, \"radius\": 0.5, \"color\": \"green\", \"alpha\": 0.8});\n",
       "\tviewergrid_16881187029072547[0][1].addLabel(\"0 \\u2192 120\",{\"position\": {\"x\": 46.773, \"y\": 53.208, \"z\": 53.827}});\n",
       "\tviewergrid_16881187029072547[0][0].addSphere({\"center\": {\"x\": 52.007, \"y\": 55.223, \"z\": 59.642}, \"radius\": 0.5, \"color\": \"green\", \"alpha\": 0.8});\n",
       "\tviewergrid_16881187029072547[0][0].addLabel(\"121 \\u2192 2\",{\"position\": {\"x\": 52.007, \"y\": 55.223, \"z\": 59.642}});\n",
       "\tviewergrid_16881187029072547[0][1].addSphere({\"center\": {\"x\": 45.88, \"y\": 53.671, \"z\": 53.665}, \"radius\": 0.5, \"color\": \"green\", \"alpha\": 0.8});\n",
       "\tviewergrid_16881187029072547[0][1].addLabel(\"2 \\u2192 121\",{\"position\": {\"x\": 45.88, \"y\": 53.671, \"z\": 53.665}});\n",
       "\tviewergrid_16881187029072547[0][0].addSphere({\"center\": {\"x\": 51.011, \"y\": 56.594, \"z\": 58.811}, \"radius\": 0.5, \"color\": \"green\", \"alpha\": 0.8});\n",
       "\tviewergrid_16881187029072547[0][0].addLabel(\"122 \\u2192 3\",{\"position\": {\"x\": 51.011, \"y\": 56.594, \"z\": 58.811}});\n",
       "\tviewergrid_16881187029072547[0][1].addSphere({\"center\": {\"x\": 46.725, \"y\": 52.825, \"z\": 54.865}, \"radius\": 0.5, \"color\": \"green\", \"alpha\": 0.8});\n",
       "\tviewergrid_16881187029072547[0][1].addLabel(\"3 \\u2192 122\",{\"position\": {\"x\": 46.725, \"y\": 52.825, \"z\": 54.865}});\n",
       "\tviewergrid_16881187029072547[0][0].addSphere({\"center\": {\"x\": 51.726, \"y\": 57.069, \"z\": 60.26}, \"radius\": 0.5, \"color\": \"green\", \"alpha\": 0.8});\n",
       "\tviewergrid_16881187029072547[0][0].addLabel(\"123 \\u2192 1\",{\"position\": {\"x\": 51.726, \"y\": 57.069, \"z\": 60.26}});\n",
       "\tviewergrid_16881187029072547[0][1].addSphere({\"center\": {\"x\": 46.922, \"y\": 52.491, \"z\": 53.093}, \"radius\": 0.5, \"color\": \"green\", \"alpha\": 0.8});\n",
       "\tviewergrid_16881187029072547[0][1].addLabel(\"1 \\u2192 123\",{\"position\": {\"x\": 46.922, \"y\": 52.491, \"z\": 53.093}});\n",
       "\tviewergrid_16881187029072547[0][0].addSphere({\"center\": {\"x\": 56.476, \"y\": 55.701, \"z\": 60.661}, \"radius\": 0.5, \"color\": \"green\", \"alpha\": 0.8});\n",
       "\tviewergrid_16881187029072547[0][0].addLabel(\"124 \\u2192 20\",{\"position\": {\"x\": 56.476, \"y\": 55.701, \"z\": 60.661}});\n",
       "\tviewergrid_16881187029072547[0][1].addSphere({\"center\": {\"x\": 50.248, \"y\": 54.31, \"z\": 50.523}, \"radius\": 0.5, \"color\": \"green\", \"alpha\": 0.8});\n",
       "\tviewergrid_16881187029072547[0][1].addLabel(\"20 \\u2192 124\",{\"position\": {\"x\": 50.248, \"y\": 54.31, \"z\": 50.523}});\n",
       "\tviewergrid_16881187029072547[0][0].addSphere({\"center\": {\"x\": 56.56, \"y\": 54.808, \"z\": 61.501}, \"radius\": 0.5, \"color\": \"green\", \"alpha\": 0.8});\n",
       "\tviewergrid_16881187029072547[0][0].addLabel(\"125 \\u2192 22\",{\"position\": {\"x\": 56.56, \"y\": 54.808, \"z\": 61.501}});\n",
       "\tviewergrid_16881187029072547[0][1].addSphere({\"center\": {\"x\": 49.912, \"y\": 55.203, \"z\": 49.317}, \"radius\": 0.5, \"color\": \"green\", \"alpha\": 0.8});\n",
       "\tviewergrid_16881187029072547[0][1].addLabel(\"22 \\u2192 125\",{\"position\": {\"x\": 49.912, \"y\": 55.203, \"z\": 49.317}});\n",
       "\tviewergrid_16881187029072547[0][0].addSphere({\"center\": {\"x\": 57.22, \"y\": 56.808, \"z\": 60.591}, \"radius\": 0.5, \"color\": \"green\", \"alpha\": 0.8});\n",
       "\tviewergrid_16881187029072547[0][0].addLabel(\"126 \\u2192 37\",{\"position\": {\"x\": 57.22, \"y\": 56.808, \"z\": 60.591}});\n",
       "\tviewergrid_16881187029072547[0][1].addSphere({\"center\": {\"x\": 51.643, \"y\": 54.678, \"z\": 51.05}, \"radius\": 0.5, \"color\": \"green\", \"alpha\": 0.8});\n",
       "\tviewergrid_16881187029072547[0][1].addLabel(\"37 \\u2192 126\",{\"position\": {\"x\": 51.643, \"y\": 54.678, \"z\": 51.05}});\n",
       "\tviewergrid_16881187029072547[0][0].addSphere({\"center\": {\"x\": 56.89, \"y\": 57.481, \"z\": 60.017}, \"radius\": 0.5, \"color\": \"green\", \"alpha\": 0.8});\n",
       "\tviewergrid_16881187029072547[0][0].addLabel(\"127 \\u2192 38\",{\"position\": {\"x\": 56.89, \"y\": 57.481, \"z\": 60.017}});\n",
       "\tviewergrid_16881187029072547[0][1].addSphere({\"center\": {\"x\": 51.877, \"y\": 55.77, \"z\": 51.66}, \"radius\": 0.5, \"color\": \"green\", \"alpha\": 0.8});\n",
       "\tviewergrid_16881187029072547[0][1].addLabel(\"38 \\u2192 127\",{\"position\": {\"x\": 51.877, \"y\": 55.77, \"z\": 51.66}});\n",
       "\tviewergrid_16881187029072547[0][0].addSphere({\"center\": {\"x\": 58.109, \"y\": 57.291, \"z\": 61.689}, \"radius\": 0.5, \"color\": \"green\", \"alpha\": 0.8});\n",
       "\tviewergrid_16881187029072547[0][0].addLabel(\"128 \\u2192 39\",{\"position\": {\"x\": 58.109, \"y\": 57.291, \"z\": 61.689}});\n",
       "\tviewergrid_16881187029072547[0][1].addSphere({\"center\": {\"x\": 52.651, \"y\": 53.752, \"z\": 50.915}, \"radius\": 0.5, \"color\": \"green\", \"alpha\": 0.8});\n",
       "\tviewergrid_16881187029072547[0][1].addLabel(\"39 \\u2192 128\",{\"position\": {\"x\": 52.651, \"y\": 53.752, \"z\": 50.915}});\n",
       "\tviewergrid_16881187029072547[0][0].addSphere({\"center\": {\"x\": 58.659, \"y\": 56.431, \"z\": 62.087}, \"radius\": 0.5, \"color\": \"green\", \"alpha\": 0.8});\n",
       "\tviewergrid_16881187029072547[0][0].addLabel(\"129 \\u2192 40\",{\"position\": {\"x\": 58.659, \"y\": 56.431, \"z\": 62.087}});\n",
       "\tviewergrid_16881187029072547[0][1].addSphere({\"center\": {\"x\": 52.565, \"y\": 53.085, \"z\": 50.1}, \"radius\": 0.5, \"color\": \"green\", \"alpha\": 0.8});\n",
       "\tviewergrid_16881187029072547[0][1].addLabel(\"40 \\u2192 129\",{\"position\": {\"x\": 52.565, \"y\": 53.085, \"z\": 50.1}});\n",
       "\tviewergrid_16881187029072547[0][0].addSphere({\"center\": {\"x\": 57.262, \"y\": 57.912, \"z\": 62.825}, \"radius\": 0.5, \"color\": \"green\", \"alpha\": 0.8});\n",
       "\tviewergrid_16881187029072547[0][0].addLabel(\"131 \\u2192 41\",{\"position\": {\"x\": 57.262, \"y\": 57.912, \"z\": 62.825}});\n",
       "\tviewergrid_16881187029072547[0][1].addSphere({\"center\": {\"x\": 54.037, \"y\": 54.101, \"z\": 51.086}, \"radius\": 0.5, \"color\": \"green\", \"alpha\": 0.8});\n",
       "\tviewergrid_16881187029072547[0][1].addLabel(\"41 \\u2192 131\",{\"position\": {\"x\": 54.037, \"y\": 54.101, \"z\": 51.086}});\n",
       "\tviewergrid_16881187029072547[0][0].addSphere({\"center\": {\"x\": 57.79, \"y\": 58.753, \"z\": 63.537}, \"radius\": 0.5, \"color\": \"green\", \"alpha\": 0.8});\n",
       "\tviewergrid_16881187029072547[0][0].addLabel(\"132 \\u2192 43\",{\"position\": {\"x\": 57.79, \"y\": 58.753, \"z\": 63.537}});\n",
       "\tviewergrid_16881187029072547[0][1].addSphere({\"center\": {\"x\": 54.678, \"y\": 53.54, \"z\": 52.425}, \"radius\": 0.5, \"color\": \"green\", \"alpha\": 0.8});\n",
       "\tviewergrid_16881187029072547[0][1].addLabel(\"43 \\u2192 132\",{\"position\": {\"x\": 54.678, \"y\": 53.54, \"z\": 52.425}});\n",
       "\tviewergrid_16881187029072547[0][0].addSphere({\"center\": {\"x\": 56.043, \"y\": 57.406, \"z\": 63.155}, \"radius\": 0.5, \"color\": \"green\", \"alpha\": 0.8});\n",
       "\tviewergrid_16881187029072547[0][0].addLabel(\"133 \\u2192 56\",{\"position\": {\"x\": 56.043, \"y\": 57.406, \"z\": 63.155}});\n",
       "\tviewergrid_16881187029072547[0][1].addSphere({\"center\": {\"x\": 54.801, \"y\": 53.601, \"z\": 49.879}, \"radius\": 0.5, \"color\": \"green\", \"alpha\": 0.8});\n",
       "\tviewergrid_16881187029072547[0][1].addLabel(\"56 \\u2192 133\",{\"position\": {\"x\": 54.801, \"y\": 53.601, \"z\": 49.879}});\n",
       "\tviewergrid_16881187029072547[0][0].addSphere({\"center\": {\"x\": 55.459, \"y\": 57.966, \"z\": 63.82}, \"radius\": 0.5, \"color\": \"green\", \"alpha\": 0.8});\n",
       "\tviewergrid_16881187029072547[0][0].addLabel(\"134 \\u2192 58\",{\"position\": {\"x\": 55.459, \"y\": 57.966, \"z\": 63.82}});\n",
       "\tviewergrid_16881187029072547[0][1].addSphere({\"center\": {\"x\": 55.824, \"y\": 54.196, \"z\": 49.319}, \"radius\": 0.5, \"color\": \"green\", \"alpha\": 0.8});\n",
       "\tviewergrid_16881187029072547[0][1].addLabel(\"58 \\u2192 134\",{\"position\": {\"x\": 55.824, \"y\": 54.196, \"z\": 49.319}});\n",
       "\tviewergrid_16881187029072547[0][0].addSphere({\"center\": {\"x\": 55.696, \"y\": 56.527, \"z\": 62.805}, \"radius\": 0.5, \"color\": \"green\", \"alpha\": 0.8});\n",
       "\tviewergrid_16881187029072547[0][0].addLabel(\"135 \\u2192 57\",{\"position\": {\"x\": 55.696, \"y\": 56.527, \"z\": 62.805}});\n",
       "\tviewergrid_16881187029072547[0][1].addSphere({\"center\": {\"x\": 54.374, \"y\": 52.621, \"z\": 49.266}, \"radius\": 0.5, \"color\": \"green\", \"alpha\": 0.8});\n",
       "\tviewergrid_16881187029072547[0][1].addLabel(\"57 \\u2192 135\",{\"position\": {\"x\": 54.374, \"y\": 52.621, \"z\": 49.266}});\n",
       "\tviewergrid_16881187029072547[0][0].setBackgroundColor(\"white\");\n",
       "\tviewergrid_16881187029072547[0][1].setBackgroundColor(\"white\");\n",
       "\tviewergrid_16881187029072547[0][0].zoomTo();\n",
       "\tviewergrid_16881187029072547[0][1].zoomTo();\n",
       "viewergrid_16881187029072547[0][1].render();\n",
       "viewergrid_16881187029072547[0][0].render();\n",
       "});\n",
       "</script>"
      ]
     },
     "metadata": {},
     "output_type": "display_data"
    },
    {
     "data": {
      "text/plain": [
       "<py3Dmol.view at 0x7f9004769d00>"
      ]
     },
     "execution_count": 7,
     "metadata": {},
     "output_type": "execute_result"
    }
   ],
   "source": [
    "bss.Align.viewMapping(oxt, ang, mapping)"
   ]
  },
  {
   "cell_type": "code",
   "execution_count": null,
   "metadata": {},
   "outputs": [],
   "source": []
  },
  {
   "cell_type": "code",
   "execution_count": 11,
   "metadata": {},
   "outputs": [
    {
     "data": {
      "text/html": [
       "<pre style=\"white-space:pre;overflow-x:auto;line-height:normal;font-family:Menlo,'DejaVu Sans Mono',consolas,'Courier New',monospace\"><span style=\"color: #800000; text-decoration-color: #800000\">╭─────────────────────────────── </span><span style=\"color: #800000; text-decoration-color: #800000; font-weight: bold\">Traceback </span><span style=\"color: #bf7f7f; text-decoration-color: #bf7f7f; font-weight: bold\">(most recent call last)</span><span style=\"color: #800000; text-decoration-color: #800000\"> ────────────────────────────────╮</span>\n",
       "<span style=\"color: #800000; text-decoration-color: #800000\">│</span> in <span style=\"color: #00ff00; text-decoration-color: #00ff00\">&lt;module&gt;</span>                                                                                      <span style=\"color: #800000; text-decoration-color: #800000\">│</span>\n",
       "<span style=\"color: #800000; text-decoration-color: #800000\">│</span>                                                                                                  <span style=\"color: #800000; text-decoration-color: #800000\">│</span>\n",
       "<span style=\"color: #800000; text-decoration-color: #800000\">│</span> <span style=\"color: #800000; text-decoration-color: #800000\">❱ </span>1 merged = bss.Align.merge(oxt_param, ang_param, mapping)                                      <span style=\"color: #800000; text-decoration-color: #800000\">│</span>\n",
       "<span style=\"color: #800000; text-decoration-color: #800000\">│</span>   <span style=\"color: #7f7f7f; text-decoration-color: #7f7f7f\">2 </span><span style=\"color: #0000ff; text-decoration-color: #0000ff\">for</span> atom <span style=\"color: #ff00ff; text-decoration-color: #ff00ff\">in</span> merged.getAtoms():                                                               <span style=\"color: #800000; text-decoration-color: #800000\">│</span>\n",
       "<span style=\"color: #800000; text-decoration-color: #800000\">│</span>   <span style=\"color: #7f7f7f; text-decoration-color: #7f7f7f\">3 │   </span><span style=\"color: #00ffff; text-decoration-color: #00ffff\">print</span>(atom._sire_object.property(<span style=\"color: #808000; text-decoration-color: #808000\">\"element0\"</span>), atom._sire_object.property(<span style=\"color: #808000; text-decoration-color: #808000\">\"element1\"</span>)     <span style=\"color: #800000; text-decoration-color: #800000\">│</span>\n",
       "<span style=\"color: #800000; text-decoration-color: #800000\">│</span>   <span style=\"color: #7f7f7f; text-decoration-color: #7f7f7f\">4 </span>                                                                                             <span style=\"color: #800000; text-decoration-color: #800000\">│</span>\n",
       "<span style=\"color: #800000; text-decoration-color: #800000\">│</span>                                                                                                  <span style=\"color: #800000; text-decoration-color: #800000\">│</span>\n",
       "<span style=\"color: #800000; text-decoration-color: #800000\">│</span> <span style=\"color: #bfbf7f; text-decoration-color: #bfbf7f\">/home/jguven/Software/miniconda3/envs/bss-d/lib/python3.9/site-packages/BioSimSpace/Align/</span><span style=\"color: #808000; text-decoration-color: #808000; font-weight: bold\">_align</span> <span style=\"color: #800000; text-decoration-color: #800000\">│</span>\n",
       "<span style=\"color: #800000; text-decoration-color: #800000\">│</span> <span style=\"color: #808000; text-decoration-color: #808000; font-weight: bold\">.py</span>:<span style=\"color: #0000ff; text-decoration-color: #0000ff\">1370</span> in <span style=\"color: #00ff00; text-decoration-color: #00ff00\">merge</span>                                                                                <span style=\"color: #800000; text-decoration-color: #800000\">│</span>\n",
       "<span style=\"color: #800000; text-decoration-color: #800000\">│</span>                                                                                                  <span style=\"color: #800000; text-decoration-color: #800000\">│</span>\n",
       "<span style=\"color: #800000; text-decoration-color: #800000\">│</span>   <span style=\"color: #7f7f7f; text-decoration-color: #7f7f7f\">1367 </span><span style=\"color: #bfbf7f; text-decoration-color: #bfbf7f\">│   </span><span style=\"color: #808000; text-decoration-color: #808000\">\"\"\"</span>                                                                                   <span style=\"color: #800000; text-decoration-color: #800000\">│</span>\n",
       "<span style=\"color: #800000; text-decoration-color: #800000\">│</span>   <span style=\"color: #7f7f7f; text-decoration-color: #7f7f7f\">1368 │   </span>                                                                                      <span style=\"color: #800000; text-decoration-color: #800000\">│</span>\n",
       "<span style=\"color: #800000; text-decoration-color: #800000\">│</span>   <span style=\"color: #7f7f7f; text-decoration-color: #7f7f7f\">1369 │   </span><span style=\"color: #0000ff; text-decoration-color: #0000ff\">if</span> <span style=\"color: #ff00ff; text-decoration-color: #ff00ff\">not</span> <span style=\"color: #00ffff; text-decoration-color: #00ffff\">isinstance</span>(molecule0, _Molecule):                                              <span style=\"color: #800000; text-decoration-color: #800000\">│</span>\n",
       "<span style=\"color: #800000; text-decoration-color: #800000\">│</span> <span style=\"color: #800000; text-decoration-color: #800000\">❱ </span>1370 <span style=\"color: #7f7f7f; text-decoration-color: #7f7f7f\">│   │   </span><span style=\"color: #0000ff; text-decoration-color: #0000ff\">raise</span> <span style=\"color: #00ffff; text-decoration-color: #00ffff\">TypeError</span>(                                                                  <span style=\"color: #800000; text-decoration-color: #800000\">│</span>\n",
       "<span style=\"color: #800000; text-decoration-color: #800000\">│</span>   <span style=\"color: #7f7f7f; text-decoration-color: #7f7f7f\">1371 │   │   │   </span><span style=\"color: #808000; text-decoration-color: #808000\">\"'molecule0' must be of type 'BioSimSpace._SireWrappers.Molecule'\"</span>            <span style=\"color: #800000; text-decoration-color: #800000\">│</span>\n",
       "<span style=\"color: #800000; text-decoration-color: #800000\">│</span>   <span style=\"color: #7f7f7f; text-decoration-color: #7f7f7f\">1372 │   │   </span>)                                                                                 <span style=\"color: #800000; text-decoration-color: #800000\">│</span>\n",
       "<span style=\"color: #800000; text-decoration-color: #800000\">│</span>   <span style=\"color: #7f7f7f; text-decoration-color: #7f7f7f\">1373 </span>                                                                                          <span style=\"color: #800000; text-decoration-color: #800000\">│</span>\n",
       "<span style=\"color: #800000; text-decoration-color: #800000\">╰──────────────────────────────────────────────────────────────────────────────────────────────────╯</span>\n",
       "<span style=\"color: #ff0000; text-decoration-color: #ff0000; font-weight: bold\">TypeError: </span><span style=\"color: #008000; text-decoration-color: #008000\">'molecule0'</span> must be of type <span style=\"color: #008000; text-decoration-color: #008000\">'BioSimSpace._SireWrappers.Molecule'</span>\n",
       "</pre>\n"
      ],
      "text/plain": [
       "\u001b[31m╭─\u001b[0m\u001b[31m──────────────────────────────\u001b[0m\u001b[31m \u001b[0m\u001b[1;31mTraceback \u001b[0m\u001b[1;2;31m(most recent call last)\u001b[0m\u001b[31m \u001b[0m\u001b[31m───────────────────────────────\u001b[0m\u001b[31m─╮\u001b[0m\n",
       "\u001b[31m│\u001b[0m in \u001b[92m<module>\u001b[0m                                                                                      \u001b[31m│\u001b[0m\n",
       "\u001b[31m│\u001b[0m                                                                                                  \u001b[31m│\u001b[0m\n",
       "\u001b[31m│\u001b[0m \u001b[31m❱ \u001b[0m1 merged = bss.Align.merge(oxt_param, ang_param, mapping)                                      \u001b[31m│\u001b[0m\n",
       "\u001b[31m│\u001b[0m   \u001b[2m2 \u001b[0m\u001b[94mfor\u001b[0m atom \u001b[95min\u001b[0m merged.getAtoms():                                                               \u001b[31m│\u001b[0m\n",
       "\u001b[31m│\u001b[0m   \u001b[2m3 \u001b[0m\u001b[2m│   \u001b[0m\u001b[96mprint\u001b[0m(atom._sire_object.property(\u001b[33m\"\u001b[0m\u001b[33melement0\u001b[0m\u001b[33m\"\u001b[0m), atom._sire_object.property(\u001b[33m\"\u001b[0m\u001b[33melement1\u001b[0m\u001b[33m\"\u001b[0m)     \u001b[31m│\u001b[0m\n",
       "\u001b[31m│\u001b[0m   \u001b[2m4 \u001b[0m                                                                                             \u001b[31m│\u001b[0m\n",
       "\u001b[31m│\u001b[0m                                                                                                  \u001b[31m│\u001b[0m\n",
       "\u001b[31m│\u001b[0m \u001b[2;33m/home/jguven/Software/miniconda3/envs/bss-d/lib/python3.9/site-packages/BioSimSpace/Align/\u001b[0m\u001b[1;33m_align\u001b[0m \u001b[31m│\u001b[0m\n",
       "\u001b[31m│\u001b[0m \u001b[1;33m.py\u001b[0m:\u001b[94m1370\u001b[0m in \u001b[92mmerge\u001b[0m                                                                                \u001b[31m│\u001b[0m\n",
       "\u001b[31m│\u001b[0m                                                                                                  \u001b[31m│\u001b[0m\n",
       "\u001b[31m│\u001b[0m   \u001b[2m1367 \u001b[0m\u001b[2;33m│   \u001b[0m\u001b[33m\"\"\"\u001b[0m                                                                                   \u001b[31m│\u001b[0m\n",
       "\u001b[31m│\u001b[0m   \u001b[2m1368 \u001b[0m\u001b[2m│   \u001b[0m                                                                                      \u001b[31m│\u001b[0m\n",
       "\u001b[31m│\u001b[0m   \u001b[2m1369 \u001b[0m\u001b[2m│   \u001b[0m\u001b[94mif\u001b[0m \u001b[95mnot\u001b[0m \u001b[96misinstance\u001b[0m(molecule0, _Molecule):                                              \u001b[31m│\u001b[0m\n",
       "\u001b[31m│\u001b[0m \u001b[31m❱ \u001b[0m1370 \u001b[2m│   │   \u001b[0m\u001b[94mraise\u001b[0m \u001b[96mTypeError\u001b[0m(                                                                  \u001b[31m│\u001b[0m\n",
       "\u001b[31m│\u001b[0m   \u001b[2m1371 \u001b[0m\u001b[2m│   │   │   \u001b[0m\u001b[33m\"\u001b[0m\u001b[33m'\u001b[0m\u001b[33mmolecule0\u001b[0m\u001b[33m'\u001b[0m\u001b[33m must be of type \u001b[0m\u001b[33m'\u001b[0m\u001b[33mBioSimSpace._SireWrappers.Molecule\u001b[0m\u001b[33m'\u001b[0m\u001b[33m\"\u001b[0m            \u001b[31m│\u001b[0m\n",
       "\u001b[31m│\u001b[0m   \u001b[2m1372 \u001b[0m\u001b[2m│   │   \u001b[0m)                                                                                 \u001b[31m│\u001b[0m\n",
       "\u001b[31m│\u001b[0m   \u001b[2m1373 \u001b[0m                                                                                          \u001b[31m│\u001b[0m\n",
       "\u001b[31m╰──────────────────────────────────────────────────────────────────────────────────────────────────╯\u001b[0m\n",
       "\u001b[1;91mTypeError: \u001b[0m\u001b[32m'molecule0'\u001b[0m must be of type \u001b[32m'BioSimSpace._SireWrappers.Molecule'\u001b[0m\n"
      ]
     },
     "metadata": {},
     "output_type": "display_data"
    }
   ],
   "source": [
    "merged = bss.Align.merge(oxt_param, ang_param, mapping)\n",
    "for atom in merged.getAtoms():\n",
    "    print(atom._sire_object.property(\"element0\"), atom._sire_object.property(\"element1\"))"
   ]
  },
  {
   "cell_type": "code",
   "execution_count": 6,
   "metadata": {},
   "outputs": [
    {
     "data": {
      "text/html": [
       "<pre style=\"white-space:pre;overflow-x:auto;line-height:normal;font-family:Menlo,'DejaVu Sans Mono',consolas,'Courier New',monospace\"><span style=\"color: #800000; text-decoration-color: #800000\">╭─────────────────────────────── </span><span style=\"color: #800000; text-decoration-color: #800000; font-weight: bold\">Traceback </span><span style=\"color: #bf7f7f; text-decoration-color: #bf7f7f; font-weight: bold\">(most recent call last)</span><span style=\"color: #800000; text-decoration-color: #800000\"> ────────────────────────────────╮</span>\n",
       "<span style=\"color: #800000; text-decoration-color: #800000\">│</span> in <span style=\"color: #00ff00; text-decoration-color: #00ff00\">&lt;module&gt;</span>                                                                                      <span style=\"color: #800000; text-decoration-color: #800000\">│</span>\n",
       "<span style=\"color: #800000; text-decoration-color: #800000\">│</span>                                                                                                  <span style=\"color: #800000; text-decoration-color: #800000\">│</span>\n",
       "<span style=\"color: #800000; text-decoration-color: #800000\">│</span>   <span style=\"color: #7f7f7f; text-decoration-color: #7f7f7f\">4 </span>                                                                                             <span style=\"color: #800000; text-decoration-color: #800000\">│</span>\n",
       "<span style=\"color: #800000; text-decoration-color: #800000\">│</span>   <span style=\"color: #7f7f7f; text-decoration-color: #7f7f7f\">5 </span>lig_1 = bss.IO.readMolecules(path+<span style=\"color: #808000; text-decoration-color: #808000\">f\"somd.*7\"</span>)[<span style=\"color: #0000ff; text-decoration-color: #0000ff\">0</span>]                                             <span style=\"color: #800000; text-decoration-color: #800000\">│</span>\n",
       "<span style=\"color: #800000; text-decoration-color: #800000\">│</span>   <span style=\"color: #7f7f7f; text-decoration-color: #7f7f7f\">6 </span>lig_2 = bss.IO.readMolecules(path+<span style=\"color: #808000; text-decoration-color: #808000\">f\"somd.*7\"</span>)[<span style=\"color: #0000ff; text-decoration-color: #0000ff\">0</span>]                                             <span style=\"color: #800000; text-decoration-color: #800000\">│</span>\n",
       "<span style=\"color: #800000; text-decoration-color: #800000\">│</span> <span style=\"color: #800000; text-decoration-color: #800000\">❱ </span>7 mapping = bss.Align.matchAtoms(lig_1, lig_2)                                                 <span style=\"color: #800000; text-decoration-color: #800000\">│</span>\n",
       "<span style=\"color: #800000; text-decoration-color: #800000\">│</span>   <span style=\"color: #7f7f7f; text-decoration-color: #7f7f7f\">8 </span>bss.Align.viewMapping(lig_1, lig_2, mapping)                                                 <span style=\"color: #800000; text-decoration-color: #800000\">│</span>\n",
       "<span style=\"color: #800000; text-decoration-color: #800000\">│</span>   <span style=\"color: #7f7f7f; text-decoration-color: #7f7f7f\">9 </span>                                                                                             <span style=\"color: #800000; text-decoration-color: #800000\">│</span>\n",
       "<span style=\"color: #800000; text-decoration-color: #800000\">│</span>                                                                                                  <span style=\"color: #800000; text-decoration-color: #800000\">│</span>\n",
       "<span style=\"color: #800000; text-decoration-color: #800000\">│</span> <span style=\"color: #bfbf7f; text-decoration-color: #bfbf7f\">/home/jguven/Software/miniconda3/envs/bss-d/lib/python3.9/site-packages/BioSimSpace/Align/</span><span style=\"color: #808000; text-decoration-color: #808000; font-weight: bold\">_align</span> <span style=\"color: #800000; text-decoration-color: #800000\">│</span>\n",
       "<span style=\"color: #800000; text-decoration-color: #800000\">│</span> <span style=\"color: #808000; text-decoration-color: #808000; font-weight: bold\">.py</span>:<span style=\"color: #0000ff; text-decoration-color: #0000ff\">934</span> in <span style=\"color: #00ff00; text-decoration-color: #00ff00\">matchAtoms</span>                                                                            <span style=\"color: #800000; text-decoration-color: #800000\">│</span>\n",
       "<span style=\"color: #800000; text-decoration-color: #800000\">│</span>                                                                                                  <span style=\"color: #800000; text-decoration-color: #800000\">│</span>\n",
       "<span style=\"color: #800000; text-decoration-color: #800000\">│</span>   <span style=\"color: #7f7f7f; text-decoration-color: #7f7f7f\"> 931 │   │   </span><span style=\"color: #0000ff; text-decoration-color: #0000ff\">raise</span> <span style=\"color: #00ffff; text-decoration-color: #00ffff\">RuntimeError</span>(<span style=\"color: #808000; text-decoration-color: #808000\">\"RDKIT MCS mapping failed!\"</span>)                                   <span style=\"color: #800000; text-decoration-color: #800000\">│</span>\n",
       "<span style=\"color: #800000; text-decoration-color: #800000\">│</span>   <span style=\"color: #7f7f7f; text-decoration-color: #7f7f7f\"> 932 │   </span>                                                                                      <span style=\"color: #800000; text-decoration-color: #800000\">│</span>\n",
       "<span style=\"color: #800000; text-decoration-color: #800000\">│</span>   <span style=\"color: #7f7f7f; text-decoration-color: #7f7f7f\"> 933 │   # Score the mappings and return them in sorted order (best to worst).</span>                 <span style=\"color: #800000; text-decoration-color: #800000\">│</span>\n",
       "<span style=\"color: #800000; text-decoration-color: #800000\">│</span> <span style=\"color: #800000; text-decoration-color: #800000\">❱ </span> 934 <span style=\"color: #7f7f7f; text-decoration-color: #7f7f7f\">│   </span>mappings, scores = _score_rdkit_mappings(                                             <span style=\"color: #800000; text-decoration-color: #800000\">│</span>\n",
       "<span style=\"color: #800000; text-decoration-color: #800000\">│</span>   <span style=\"color: #7f7f7f; text-decoration-color: #7f7f7f\"> 935 │   │   </span>mol0,                                                                             <span style=\"color: #800000; text-decoration-color: #800000\">│</span>\n",
       "<span style=\"color: #800000; text-decoration-color: #800000\">│</span>   <span style=\"color: #7f7f7f; text-decoration-color: #7f7f7f\"> 936 │   │   </span>mol1,                                                                             <span style=\"color: #800000; text-decoration-color: #800000\">│</span>\n",
       "<span style=\"color: #800000; text-decoration-color: #800000\">│</span>   <span style=\"color: #7f7f7f; text-decoration-color: #7f7f7f\"> 937 │   │   </span>mols[<span style=\"color: #0000ff; text-decoration-color: #0000ff\">0</span>],                                                                          <span style=\"color: #800000; text-decoration-color: #800000\">│</span>\n",
       "<span style=\"color: #800000; text-decoration-color: #800000\">│</span>                                                                                                  <span style=\"color: #800000; text-decoration-color: #800000\">│</span>\n",
       "<span style=\"color: #800000; text-decoration-color: #800000\">│</span> <span style=\"color: #bfbf7f; text-decoration-color: #bfbf7f\">/home/jguven/Software/miniconda3/envs/bss-d/lib/python3.9/site-packages/BioSimSpace/Align/</span><span style=\"color: #808000; text-decoration-color: #808000; font-weight: bold\">_align</span> <span style=\"color: #800000; text-decoration-color: #800000\">│</span>\n",
       "<span style=\"color: #800000; text-decoration-color: #800000\">│</span> <span style=\"color: #808000; text-decoration-color: #808000; font-weight: bold\">.py</span>:<span style=\"color: #0000ff; text-decoration-color: #0000ff\">1780</span> in <span style=\"color: #00ff00; text-decoration-color: #00ff00\">_score_rdkit_mappings</span>                                                                <span style=\"color: #800000; text-decoration-color: #800000\">│</span>\n",
       "<span style=\"color: #800000; text-decoration-color: #800000\">│</span>                                                                                                  <span style=\"color: #800000; text-decoration-color: #800000\">│</span>\n",
       "<span style=\"color: #800000; text-decoration-color: #800000\">│</span>   <span style=\"color: #7f7f7f; text-decoration-color: #7f7f7f\">1777 │   │   │   │   │   </span>mapping[idx0] = idx1                                                  <span style=\"color: #800000; text-decoration-color: #800000\">│</span>\n",
       "<span style=\"color: #800000; text-decoration-color: #800000\">│</span>   <span style=\"color: #7f7f7f; text-decoration-color: #7f7f7f\">1778 │   │   │   </span>                                                                              <span style=\"color: #800000; text-decoration-color: #800000\">│</span>\n",
       "<span style=\"color: #800000; text-decoration-color: #800000\">│</span>   <span style=\"color: #7f7f7f; text-decoration-color: #7f7f7f\">1779 │   │   │   </span>mapping = <span style=\"color: #00ffff; text-decoration-color: #00ffff\">dict</span>(<span style=\"color: #00ffff; text-decoration-color: #00ffff\">sorted</span>(mapping.items()))                                       <span style=\"color: #800000; text-decoration-color: #800000\">│</span>\n",
       "<span style=\"color: #800000; text-decoration-color: #800000\">│</span> <span style=\"color: #800000; text-decoration-color: #800000\">❱ </span>1780 <span style=\"color: #7f7f7f; text-decoration-color: #7f7f7f\">│   │   │   </span>sire_mapping = {                                                              <span style=\"color: #800000; text-decoration-color: #800000\">│</span>\n",
       "<span style=\"color: #800000; text-decoration-color: #800000\">│</span>   <span style=\"color: #7f7f7f; text-decoration-color: #7f7f7f\">1781 │   │   │   │   </span>_SireMol.AtomIdx(idx0): _SireMol.AtomIdx(idx1)                            <span style=\"color: #800000; text-decoration-color: #800000\">│</span>\n",
       "<span style=\"color: #800000; text-decoration-color: #800000\">│</span>   <span style=\"color: #7f7f7f; text-decoration-color: #7f7f7f\">1782 │   │   │   │   </span><span style=\"color: #0000ff; text-decoration-color: #0000ff\">for</span> idx0, idx1 <span style=\"color: #ff00ff; text-decoration-color: #ff00ff\">in</span> mapping.items()                                         <span style=\"color: #800000; text-decoration-color: #800000\">│</span>\n",
       "<span style=\"color: #800000; text-decoration-color: #800000\">│</span>   <span style=\"color: #7f7f7f; text-decoration-color: #7f7f7f\">1783 │   │   │   </span>}                                                                             <span style=\"color: #800000; text-decoration-color: #800000\">│</span>\n",
       "<span style=\"color: #800000; text-decoration-color: #800000\">│</span>                                                                                                  <span style=\"color: #800000; text-decoration-color: #800000\">│</span>\n",
       "<span style=\"color: #800000; text-decoration-color: #800000\">│</span> <span style=\"color: #bfbf7f; text-decoration-color: #bfbf7f\">/home/jguven/Software/miniconda3/envs/bss-d/lib/python3.9/site-packages/BioSimSpace/Align/</span><span style=\"color: #808000; text-decoration-color: #808000; font-weight: bold\">_align</span> <span style=\"color: #800000; text-decoration-color: #800000\">│</span>\n",
       "<span style=\"color: #800000; text-decoration-color: #800000\">│</span> <span style=\"color: #808000; text-decoration-color: #808000; font-weight: bold\">.py</span>:<span style=\"color: #0000ff; text-decoration-color: #0000ff\">1781</span> in <span style=\"color: #00ff00; text-decoration-color: #00ff00\">&lt;dictcomp&gt;</span>                                                                           <span style=\"color: #800000; text-decoration-color: #800000\">│</span>\n",
       "<span style=\"color: #800000; text-decoration-color: #800000\">│</span>                                                                                                  <span style=\"color: #800000; text-decoration-color: #800000\">│</span>\n",
       "<span style=\"color: #800000; text-decoration-color: #800000\">│</span>   <span style=\"color: #7f7f7f; text-decoration-color: #7f7f7f\">1778 │   │   │   </span>                                                                              <span style=\"color: #800000; text-decoration-color: #800000\">│</span>\n",
       "<span style=\"color: #800000; text-decoration-color: #800000\">│</span>   <span style=\"color: #7f7f7f; text-decoration-color: #7f7f7f\">1779 │   │   │   </span>mapping = <span style=\"color: #00ffff; text-decoration-color: #00ffff\">dict</span>(<span style=\"color: #00ffff; text-decoration-color: #00ffff\">sorted</span>(mapping.items()))                                       <span style=\"color: #800000; text-decoration-color: #800000\">│</span>\n",
       "<span style=\"color: #800000; text-decoration-color: #800000\">│</span>   <span style=\"color: #7f7f7f; text-decoration-color: #7f7f7f\">1780 │   │   │   </span>sire_mapping = {                                                              <span style=\"color: #800000; text-decoration-color: #800000\">│</span>\n",
       "<span style=\"color: #800000; text-decoration-color: #800000\">│</span> <span style=\"color: #800000; text-decoration-color: #800000\">❱ </span>1781 <span style=\"color: #7f7f7f; text-decoration-color: #7f7f7f\">│   │   │   │   </span>_SireMol.AtomIdx(idx0): _SireMol.AtomIdx(idx1)                            <span style=\"color: #800000; text-decoration-color: #800000\">│</span>\n",
       "<span style=\"color: #800000; text-decoration-color: #800000\">│</span>   <span style=\"color: #7f7f7f; text-decoration-color: #7f7f7f\">1782 │   │   │   │   </span><span style=\"color: #0000ff; text-decoration-color: #0000ff\">for</span> idx0, idx1 <span style=\"color: #ff00ff; text-decoration-color: #ff00ff\">in</span> mapping.items()                                         <span style=\"color: #800000; text-decoration-color: #800000\">│</span>\n",
       "<span style=\"color: #800000; text-decoration-color: #800000\">│</span>   <span style=\"color: #7f7f7f; text-decoration-color: #7f7f7f\">1783 │   │   │   </span>}                                                                             <span style=\"color: #800000; text-decoration-color: #800000\">│</span>\n",
       "<span style=\"color: #800000; text-decoration-color: #800000\">│</span>   <span style=\"color: #7f7f7f; text-decoration-color: #7f7f7f\">1784 </span>                                                                                          <span style=\"color: #800000; text-decoration-color: #800000\">│</span>\n",
       "<span style=\"color: #800000; text-decoration-color: #800000\">╰──────────────────────────────────────────────────────────────────────────────────────────────────╯</span>\n",
       "<span style=\"color: #ff0000; text-decoration-color: #ff0000; font-weight: bold\">KeyboardInterrupt</span>\n",
       "</pre>\n"
      ],
      "text/plain": [
       "\u001b[31m╭─\u001b[0m\u001b[31m──────────────────────────────\u001b[0m\u001b[31m \u001b[0m\u001b[1;31mTraceback \u001b[0m\u001b[1;2;31m(most recent call last)\u001b[0m\u001b[31m \u001b[0m\u001b[31m───────────────────────────────\u001b[0m\u001b[31m─╮\u001b[0m\n",
       "\u001b[31m│\u001b[0m in \u001b[92m<module>\u001b[0m                                                                                      \u001b[31m│\u001b[0m\n",
       "\u001b[31m│\u001b[0m                                                                                                  \u001b[31m│\u001b[0m\n",
       "\u001b[31m│\u001b[0m   \u001b[2m4 \u001b[0m                                                                                             \u001b[31m│\u001b[0m\n",
       "\u001b[31m│\u001b[0m   \u001b[2m5 \u001b[0mlig_1 = bss.IO.readMolecules(path+\u001b[33mf\u001b[0m\u001b[33m\"\u001b[0m\u001b[33msomd.*7\u001b[0m\u001b[33m\"\u001b[0m)[\u001b[94m0\u001b[0m]                                             \u001b[31m│\u001b[0m\n",
       "\u001b[31m│\u001b[0m   \u001b[2m6 \u001b[0mlig_2 = bss.IO.readMolecules(path+\u001b[33mf\u001b[0m\u001b[33m\"\u001b[0m\u001b[33msomd.*7\u001b[0m\u001b[33m\"\u001b[0m)[\u001b[94m0\u001b[0m]                                             \u001b[31m│\u001b[0m\n",
       "\u001b[31m│\u001b[0m \u001b[31m❱ \u001b[0m7 mapping = bss.Align.matchAtoms(lig_1, lig_2)                                                 \u001b[31m│\u001b[0m\n",
       "\u001b[31m│\u001b[0m   \u001b[2m8 \u001b[0mbss.Align.viewMapping(lig_1, lig_2, mapping)                                                 \u001b[31m│\u001b[0m\n",
       "\u001b[31m│\u001b[0m   \u001b[2m9 \u001b[0m                                                                                             \u001b[31m│\u001b[0m\n",
       "\u001b[31m│\u001b[0m                                                                                                  \u001b[31m│\u001b[0m\n",
       "\u001b[31m│\u001b[0m \u001b[2;33m/home/jguven/Software/miniconda3/envs/bss-d/lib/python3.9/site-packages/BioSimSpace/Align/\u001b[0m\u001b[1;33m_align\u001b[0m \u001b[31m│\u001b[0m\n",
       "\u001b[31m│\u001b[0m \u001b[1;33m.py\u001b[0m:\u001b[94m934\u001b[0m in \u001b[92mmatchAtoms\u001b[0m                                                                            \u001b[31m│\u001b[0m\n",
       "\u001b[31m│\u001b[0m                                                                                                  \u001b[31m│\u001b[0m\n",
       "\u001b[31m│\u001b[0m   \u001b[2m 931 \u001b[0m\u001b[2m│   │   \u001b[0m\u001b[94mraise\u001b[0m \u001b[96mRuntimeError\u001b[0m(\u001b[33m\"\u001b[0m\u001b[33mRDKIT MCS mapping failed!\u001b[0m\u001b[33m\"\u001b[0m)                                   \u001b[31m│\u001b[0m\n",
       "\u001b[31m│\u001b[0m   \u001b[2m 932 \u001b[0m\u001b[2m│   \u001b[0m                                                                                      \u001b[31m│\u001b[0m\n",
       "\u001b[31m│\u001b[0m   \u001b[2m 933 \u001b[0m\u001b[2m│   \u001b[0m\u001b[2m# Score the mappings and return them in sorted order (best to worst).\u001b[0m                 \u001b[31m│\u001b[0m\n",
       "\u001b[31m│\u001b[0m \u001b[31m❱ \u001b[0m 934 \u001b[2m│   \u001b[0mmappings, scores = _score_rdkit_mappings(                                             \u001b[31m│\u001b[0m\n",
       "\u001b[31m│\u001b[0m   \u001b[2m 935 \u001b[0m\u001b[2m│   │   \u001b[0mmol0,                                                                             \u001b[31m│\u001b[0m\n",
       "\u001b[31m│\u001b[0m   \u001b[2m 936 \u001b[0m\u001b[2m│   │   \u001b[0mmol1,                                                                             \u001b[31m│\u001b[0m\n",
       "\u001b[31m│\u001b[0m   \u001b[2m 937 \u001b[0m\u001b[2m│   │   \u001b[0mmols[\u001b[94m0\u001b[0m],                                                                          \u001b[31m│\u001b[0m\n",
       "\u001b[31m│\u001b[0m                                                                                                  \u001b[31m│\u001b[0m\n",
       "\u001b[31m│\u001b[0m \u001b[2;33m/home/jguven/Software/miniconda3/envs/bss-d/lib/python3.9/site-packages/BioSimSpace/Align/\u001b[0m\u001b[1;33m_align\u001b[0m \u001b[31m│\u001b[0m\n",
       "\u001b[31m│\u001b[0m \u001b[1;33m.py\u001b[0m:\u001b[94m1780\u001b[0m in \u001b[92m_score_rdkit_mappings\u001b[0m                                                                \u001b[31m│\u001b[0m\n",
       "\u001b[31m│\u001b[0m                                                                                                  \u001b[31m│\u001b[0m\n",
       "\u001b[31m│\u001b[0m   \u001b[2m1777 \u001b[0m\u001b[2m│   │   │   │   │   \u001b[0mmapping[idx0] = idx1                                                  \u001b[31m│\u001b[0m\n",
       "\u001b[31m│\u001b[0m   \u001b[2m1778 \u001b[0m\u001b[2m│   │   │   \u001b[0m                                                                              \u001b[31m│\u001b[0m\n",
       "\u001b[31m│\u001b[0m   \u001b[2m1779 \u001b[0m\u001b[2m│   │   │   \u001b[0mmapping = \u001b[96mdict\u001b[0m(\u001b[96msorted\u001b[0m(mapping.items()))                                       \u001b[31m│\u001b[0m\n",
       "\u001b[31m│\u001b[0m \u001b[31m❱ \u001b[0m1780 \u001b[2m│   │   │   \u001b[0msire_mapping = {                                                              \u001b[31m│\u001b[0m\n",
       "\u001b[31m│\u001b[0m   \u001b[2m1781 \u001b[0m\u001b[2m│   │   │   │   \u001b[0m_SireMol.AtomIdx(idx0): _SireMol.AtomIdx(idx1)                            \u001b[31m│\u001b[0m\n",
       "\u001b[31m│\u001b[0m   \u001b[2m1782 \u001b[0m\u001b[2m│   │   │   │   \u001b[0m\u001b[94mfor\u001b[0m idx0, idx1 \u001b[95min\u001b[0m mapping.items()                                         \u001b[31m│\u001b[0m\n",
       "\u001b[31m│\u001b[0m   \u001b[2m1783 \u001b[0m\u001b[2m│   │   │   \u001b[0m}                                                                             \u001b[31m│\u001b[0m\n",
       "\u001b[31m│\u001b[0m                                                                                                  \u001b[31m│\u001b[0m\n",
       "\u001b[31m│\u001b[0m \u001b[2;33m/home/jguven/Software/miniconda3/envs/bss-d/lib/python3.9/site-packages/BioSimSpace/Align/\u001b[0m\u001b[1;33m_align\u001b[0m \u001b[31m│\u001b[0m\n",
       "\u001b[31m│\u001b[0m \u001b[1;33m.py\u001b[0m:\u001b[94m1781\u001b[0m in \u001b[92m<dictcomp>\u001b[0m                                                                           \u001b[31m│\u001b[0m\n",
       "\u001b[31m│\u001b[0m                                                                                                  \u001b[31m│\u001b[0m\n",
       "\u001b[31m│\u001b[0m   \u001b[2m1778 \u001b[0m\u001b[2m│   │   │   \u001b[0m                                                                              \u001b[31m│\u001b[0m\n",
       "\u001b[31m│\u001b[0m   \u001b[2m1779 \u001b[0m\u001b[2m│   │   │   \u001b[0mmapping = \u001b[96mdict\u001b[0m(\u001b[96msorted\u001b[0m(mapping.items()))                                       \u001b[31m│\u001b[0m\n",
       "\u001b[31m│\u001b[0m   \u001b[2m1780 \u001b[0m\u001b[2m│   │   │   \u001b[0msire_mapping = {                                                              \u001b[31m│\u001b[0m\n",
       "\u001b[31m│\u001b[0m \u001b[31m❱ \u001b[0m1781 \u001b[2m│   │   │   │   \u001b[0m_SireMol.AtomIdx(idx0): _SireMol.AtomIdx(idx1)                            \u001b[31m│\u001b[0m\n",
       "\u001b[31m│\u001b[0m   \u001b[2m1782 \u001b[0m\u001b[2m│   │   │   │   \u001b[0m\u001b[94mfor\u001b[0m idx0, idx1 \u001b[95min\u001b[0m mapping.items()                                         \u001b[31m│\u001b[0m\n",
       "\u001b[31m│\u001b[0m   \u001b[2m1783 \u001b[0m\u001b[2m│   │   │   \u001b[0m}                                                                             \u001b[31m│\u001b[0m\n",
       "\u001b[31m│\u001b[0m   \u001b[2m1784 \u001b[0m                                                                                          \u001b[31m│\u001b[0m\n",
       "\u001b[31m╰──────────────────────────────────────────────────────────────────────────────────────────────────╯\u001b[0m\n",
       "\u001b[1;91mKeyboardInterrupt\u001b[0m\n"
      ]
     },
     "metadata": {},
     "output_type": "display_data"
    }
   ],
   "source": [
    "path = \"../vim_2/outputs/SOMD_1/lig_1~lig_4/bound/lambda_0.0000/\"\n",
    "lig_1_number = \"1\"\n",
    "lig_2_number = \"4\"\n",
    "\n",
    "lig_1 = bss.IO.readMolecules(path+f\"somd.*7\")[0]\n",
    "lig_2 = bss.IO.readMolecules(path+f\"somd.*7\")[0]\n",
    "mapping = bss.Align.matchAtoms(lig_1, lig_2)\n",
    "bss.Align.viewMapping(lig_1, lig_2, mapping)"
   ]
  },
  {
   "cell_type": "code",
   "execution_count": 9,
   "metadata": {},
   "outputs": [
    {
     "name": "stdout",
     "output_type": "stream",
     "text": [
      "Carbon (C, 6) Carbon (C, 6)\n",
      "Carbon (C, 6) Carbon (C, 6)\n",
      "Carbon (C, 6) Carbon (C, 6)\n",
      "Carbon (C, 6) Carbon (C, 6)\n",
      "Carbon (C, 6) Carbon (C, 6)\n",
      "Carbon (C, 6) Carbon (C, 6)\n",
      "Nitrogen (N, 7) Nitrogen (N, 7)\n",
      "Carbon (C, 6) Carbon (C, 6)\n",
      "Nitrogen (N, 7) Nitrogen (N, 7)\n",
      "Carbon (C, 6) Carbon (C, 6)\n",
      "Carbon (C, 6) Carbon (C, 6)\n",
      "Carbon (C, 6) Carbon (C, 6)\n",
      "Carbon (C, 6) Carbon (C, 6)\n",
      "Carbon (C, 6) Carbon (C, 6)\n",
      "Carbon (C, 6) Carbon (C, 6)\n",
      "Carbon (C, 6) Carbon (C, 6)\n",
      "Carbon (C, 6) Carbon (C, 6)\n",
      "Carbon (C, 6) Carbon (C, 6)\n",
      "Carbon (C, 6) Carbon (C, 6)\n",
      "Carbon (C, 6) Carbon (C, 6)\n",
      "Carbon (C, 6) Carbon (C, 6)\n",
      "Carbon (C, 6) Carbon (C, 6)\n",
      "Oxygen (O, 8) Oxygen (O, 8)\n",
      "Carbon (C, 6) Carbon (C, 6)\n",
      "Carbon (C, 6) Carbon (C, 6)\n",
      "Hydrogen (H, 1) Hydrogen (H, 1)\n",
      "Hydrogen (H, 1) Hydrogen (H, 1)\n",
      "Hydrogen (H, 1) Iodine (I, 53)\n",
      "Hydrogen (H, 1) Hydrogen (H, 1)\n",
      "Hydrogen (H, 1) Hydrogen (H, 1)\n",
      "Hydrogen (H, 1) Hydrogen (H, 1)\n",
      "Hydrogen (H, 1) Hydrogen (H, 1)\n",
      "Hydrogen (H, 1) Hydrogen (H, 1)\n",
      "Hydrogen (H, 1) Hydrogen (H, 1)\n",
      "Hydrogen (H, 1) Hydrogen (H, 1)\n",
      "Hydrogen (H, 1) Hydrogen (H, 1)\n",
      "Hydrogen (H, 1) Hydrogen (H, 1)\n",
      "Hydrogen (H, 1) Hydrogen (H, 1)\n",
      "Hydrogen (H, 1) Hydrogen (H, 1)\n",
      "Chlorine (Cl, 17) Chlorine (Cl, 17)\n",
      "Chlorine (Cl, 17) Chlorine (Cl, 17)\n",
      "Hydrogen (H, 1) Hydrogen (H, 1)\n",
      "Hydrogen (H, 1) Hydrogen (H, 1)\n",
      "Hydrogen (H, 1) Hydrogen (H, 1)\n",
      "Hydrogen (H, 1) Hydrogen (H, 1)\n"
     ]
    }
   ],
   "source": [
    "merged = bss.Align.merge(lig_1, lig_2, mapping)\n",
    "for atom in merged.getAtoms():\n",
    "    print(atom._sire_object.property(\"element0\"), atom._sire_object.property(\"element1\"))"
   ]
  },
  {
   "cell_type": "code",
   "execution_count": 2,
   "metadata": {},
   "outputs": [],
   "source": [
    "ligand_path = \"../kpc2/inputs/ligands/\"\n",
    "ligand_files = sorted(glob.glob(f\"{ligand_path}*.sdf\"))\n",
    "protein_file = \"../kpc2/inputs/protein/kpc2_tleap\"\n",
    "\n",
    "protein = bss.IO.readMolecules([protein_file + \".rst7\", protein_file + \".prm7\"])[0]\n",
    "ligands = [bss.IO.readMolecules(ligand_file)[0] for ligand_file in ligand_files]"
   ]
  },
  {
   "cell_type": "code",
   "execution_count": 3,
   "metadata": {},
   "outputs": [],
   "source": [
    "ligand_file = \"../kpc2/inputs/ligands/ligand_13.sdf\"\n",
    "ligand = bss.IO.readMolecules(ligand_file)[0]\n",
    "ligand_parameters = bss.Parameters.gaff2(ligand, net_charge=-1).getMolecule()"
   ]
  },
  {
   "cell_type": "code",
   "execution_count": 4,
   "metadata": {},
   "outputs": [],
   "source": [
    "box_edges = 20\n",
    "box_axis_unit = bss.Units.Length.angstrom\n",
    "solvent_force_field = \"tip3p\"\n",
    "box_min, box_max = ligand_parameters.getAxisAlignedBoundingBox()\n",
    "box_size = [y - x for x, y in zip(box_min, box_max)]\n",
    "box_sizes = [x + int(box_edges) * box_axis_unit for x in box_size] \n",
    "box, angles = bss.Box.cubic(max(box_sizes))\n",
    "ligand_solvated = bss.Solvent.solvate(solvent_force_field, molecule=ligand_parameters, box=box, angles=angles)\n"
   ]
  },
  {
   "cell_type": "code",
   "execution_count": 6,
   "metadata": {},
   "outputs": [
    {
     "data": {
      "text/plain": [
       "['/home/jguven/projects/metalloenzymes/scripts/ligand_13.prm7',\n",
       " '/home/jguven/projects/metalloenzymes/scripts/ligand_13.rst7']"
      ]
     },
     "execution_count": 6,
     "metadata": {},
     "output_type": "execute_result"
    }
   ],
   "source": [
    "bss.IO.saveMolecules(\"ligand_13\", ligand_solvated, [\"PRM7\", \"RST7\"])"
   ]
  },
  {
   "cell_type": "code",
   "execution_count": 4,
   "metadata": {},
   "outputs": [],
   "source": [
    "ligand_path = \"../kpc2/inputs/ligands/\"\n",
    "ligand_files = sorted(glob.glob(f\"{ligand_path}*.sdf\"))\n",
    "ligands = [bss.IO.readMolecules(filepath)[0] for filepath in ligand_files]\n",
    "ligand_names = [filepath.split(\"/\")[-1].replace(\".sdf\",\"\") for filepath in ligand_files]\n",
    "transformations, lomap_scores = bss.Align.generateNetwork(ligands, plot_network=False, names=ligand_names, work_dir=ligand_path)"
   ]
  },
  {
   "cell_type": "code",
   "execution_count": 10,
   "metadata": {},
   "outputs": [
    {
     "data": {
      "text/html": [
       "<pre style=\"white-space:pre;overflow-x:auto;line-height:normal;font-family:Menlo,'DejaVu Sans Mono',consolas,'Courier New',monospace\"><span style=\"color: #800000; text-decoration-color: #800000\">╭─────────────────────────────── </span><span style=\"color: #800000; text-decoration-color: #800000; font-weight: bold\">Traceback </span><span style=\"color: #bf7f7f; text-decoration-color: #bf7f7f; font-weight: bold\">(most recent call last)</span><span style=\"color: #800000; text-decoration-color: #800000\"> ────────────────────────────────╮</span>\n",
       "<span style=\"color: #800000; text-decoration-color: #800000\">│</span> in <span style=\"color: #00ff00; text-decoration-color: #00ff00\">&lt;module&gt;</span>:<span style=\"color: #0000ff; text-decoration-color: #0000ff\">4</span>                                                                                    <span style=\"color: #800000; text-decoration-color: #800000\">│</span>\n",
       "<span style=\"color: #800000; text-decoration-color: #800000\">│</span>                                                                                                  <span style=\"color: #800000; text-decoration-color: #800000\">│</span>\n",
       "<span style=\"color: #800000; text-decoration-color: #800000\">│</span>   <span style=\"color: #7f7f7f; text-decoration-color: #7f7f7f\"> 1 </span>unbound_path = <span style=\"color: #808000; text-decoration-color: #808000\">\"../kpc2/equilibration/unbound/\"</span>                                             <span style=\"color: #800000; text-decoration-color: #800000\">│</span>\n",
       "<span style=\"color: #800000; text-decoration-color: #800000\">│</span>   <span style=\"color: #7f7f7f; text-decoration-color: #7f7f7f\"> 2 </span>ligand_1_number = <span style=\"color: #0000ff; text-decoration-color: #0000ff\">11</span>                                                                        <span style=\"color: #800000; text-decoration-color: #800000\">│</span>\n",
       "<span style=\"color: #800000; text-decoration-color: #800000\">│</span>   <span style=\"color: #7f7f7f; text-decoration-color: #7f7f7f\"> 3 </span>ligand_2_number = <span style=\"color: #0000ff; text-decoration-color: #0000ff\">5</span>                                                                         <span style=\"color: #800000; text-decoration-color: #800000\">│</span>\n",
       "<span style=\"color: #800000; text-decoration-color: #800000\">│</span> <span style=\"color: #800000; text-decoration-color: #800000\">❱ </span> 4 ligand_1_system = bss.IO.readMolecules([<span style=\"color: #808000; text-decoration-color: #808000\">f\"{</span>unbound_path<span style=\"color: #808000; text-decoration-color: #808000\">}/ligand_{</span>ligand_1_number<span style=\"color: #808000; text-decoration-color: #808000\">}/npt/li</span>    <span style=\"color: #800000; text-decoration-color: #800000\">│</span>\n",
       "<span style=\"color: #800000; text-decoration-color: #800000\">│</span>   <span style=\"color: #7f7f7f; text-decoration-color: #7f7f7f\"> 5 │   │   │   │   │   │   │   │   │   │   </span><span style=\"color: #808000; text-decoration-color: #808000\">f\"{</span>unbound_path<span style=\"color: #808000; text-decoration-color: #808000\">}/ligand_{</span>ligand_1_number<span style=\"color: #808000; text-decoration-color: #808000\">}/npt/li</span>    <span style=\"color: #800000; text-decoration-color: #800000\">│</span>\n",
       "<span style=\"color: #800000; text-decoration-color: #800000\">│</span>   <span style=\"color: #7f7f7f; text-decoration-color: #7f7f7f\"> 6 </span>ligand_2_system = bss.IO.readMolecules([<span style=\"color: #808000; text-decoration-color: #808000\">f\"{</span>unbound_path<span style=\"color: #808000; text-decoration-color: #808000\">}/ligand_{</span>ligand_2_number<span style=\"color: #808000; text-decoration-color: #808000\">}/npt/li</span>    <span style=\"color: #800000; text-decoration-color: #800000\">│</span>\n",
       "<span style=\"color: #800000; text-decoration-color: #800000\">│</span>   <span style=\"color: #7f7f7f; text-decoration-color: #7f7f7f\"> 7 │   │   │   │   │   │   │   │   │   │   </span><span style=\"color: #808000; text-decoration-color: #808000\">f\"{</span>unbound_path<span style=\"color: #808000; text-decoration-color: #808000\">}/ligand_{</span>ligand_2_number<span style=\"color: #808000; text-decoration-color: #808000\">}/npt/li</span>    <span style=\"color: #800000; text-decoration-color: #800000\">│</span>\n",
       "<span style=\"color: #800000; text-decoration-color: #800000\">│</span>                                                                                                  <span style=\"color: #800000; text-decoration-color: #800000\">│</span>\n",
       "<span style=\"color: #800000; text-decoration-color: #800000\">│</span> <span style=\"color: #bfbf7f; text-decoration-color: #bfbf7f\">/home/jguven/Software/miniconda3/envs/obss/lib/python3.10/site-packages/BioSimSpace/IO/</span><span style=\"color: #808000; text-decoration-color: #808000; font-weight: bold\">_io.py</span>:<span style=\"color: #0000ff; text-decoration-color: #0000ff\">44</span> <span style=\"color: #800000; text-decoration-color: #800000\">│</span>\n",
       "<span style=\"color: #800000; text-decoration-color: #800000\">│</span> <span style=\"color: #0000ff; text-decoration-color: #0000ff\">9</span> in <span style=\"color: #00ff00; text-decoration-color: #00ff00\">readMolecules</span>                                                                               <span style=\"color: #800000; text-decoration-color: #800000\">│</span>\n",
       "<span style=\"color: #800000; text-decoration-color: #800000\">│</span>                                                                                                  <span style=\"color: #800000; text-decoration-color: #800000\">│</span>\n",
       "<span style=\"color: #800000; text-decoration-color: #800000\">│</span>   <span style=\"color: #7f7f7f; text-decoration-color: #7f7f7f\"> 446 │   # Check that the files exist (if not a URL).</span>                                          <span style=\"color: #800000; text-decoration-color: #800000\">│</span>\n",
       "<span style=\"color: #800000; text-decoration-color: #800000\">│</span>   <span style=\"color: #7f7f7f; text-decoration-color: #7f7f7f\"> 447 │   </span><span style=\"color: #0000ff; text-decoration-color: #0000ff\">for</span> file <span style=\"color: #ff00ff; text-decoration-color: #ff00ff\">in</span> files:                                                                    <span style=\"color: #800000; text-decoration-color: #800000\">│</span>\n",
       "<span style=\"color: #800000; text-decoration-color: #800000\">│</span>   <span style=\"color: #7f7f7f; text-decoration-color: #7f7f7f\"> 448 │   │   </span><span style=\"color: #0000ff; text-decoration-color: #0000ff\">if</span> <span style=\"color: #ff00ff; text-decoration-color: #ff00ff\">not</span> file.startswith((<span style=\"color: #808000; text-decoration-color: #808000\">\"http\"</span>, <span style=\"color: #808000; text-decoration-color: #808000\">\"www\"</span>)) <span style=\"color: #ff00ff; text-decoration-color: #ff00ff\">and</span> <span style=\"color: #ff00ff; text-decoration-color: #ff00ff\">not</span> _os.path.isfile(file):            <span style=\"color: #800000; text-decoration-color: #800000\">│</span>\n",
       "<span style=\"color: #800000; text-decoration-color: #800000\">│</span> <span style=\"color: #800000; text-decoration-color: #800000\">❱ </span> 449 <span style=\"color: #7f7f7f; text-decoration-color: #7f7f7f\">│   │   │   </span><span style=\"color: #0000ff; text-decoration-color: #0000ff\">raise</span> <span style=\"color: #00ffff; text-decoration-color: #00ffff\">IOError</span>(<span style=\"color: #808000; text-decoration-color: #808000\">\"Missing input file: '%s'\"</span> % file)                              <span style=\"color: #800000; text-decoration-color: #800000\">│</span>\n",
       "<span style=\"color: #800000; text-decoration-color: #800000\">│</span>   <span style=\"color: #7f7f7f; text-decoration-color: #7f7f7f\"> 450 │   </span>                                                                                      <span style=\"color: #800000; text-decoration-color: #800000\">│</span>\n",
       "<span style=\"color: #800000; text-decoration-color: #800000\">│</span>   <span style=\"color: #7f7f7f; text-decoration-color: #7f7f7f\"> 451 │   # Try to read the files and return a molecular system.</span>                                <span style=\"color: #800000; text-decoration-color: #800000\">│</span>\n",
       "<span style=\"color: #800000; text-decoration-color: #800000\">│</span>   <span style=\"color: #7f7f7f; text-decoration-color: #7f7f7f\"> 452 │   </span><span style=\"color: #0000ff; text-decoration-color: #0000ff\">try</span>:                                                                                  <span style=\"color: #800000; text-decoration-color: #800000\">│</span>\n",
       "<span style=\"color: #800000; text-decoration-color: #800000\">╰──────────────────────────────────────────────────────────────────────────────────────────────────╯</span>\n",
       "<span style=\"color: #ff0000; text-decoration-color: #ff0000; font-weight: bold\">OSError: </span>Missing input file: <span style=\"color: #008000; text-decoration-color: #008000\">'../kpc2/equilibration/unbound//ligand_11/npt/ligand_11.prm7'</span>\n",
       "</pre>\n"
      ],
      "text/plain": [
       "\u001b[31m╭─\u001b[0m\u001b[31m──────────────────────────────\u001b[0m\u001b[31m \u001b[0m\u001b[1;31mTraceback \u001b[0m\u001b[1;2;31m(most recent call last)\u001b[0m\u001b[31m \u001b[0m\u001b[31m───────────────────────────────\u001b[0m\u001b[31m─╮\u001b[0m\n",
       "\u001b[31m│\u001b[0m in \u001b[92m<module>\u001b[0m:\u001b[94m4\u001b[0m                                                                                    \u001b[31m│\u001b[0m\n",
       "\u001b[31m│\u001b[0m                                                                                                  \u001b[31m│\u001b[0m\n",
       "\u001b[31m│\u001b[0m   \u001b[2m 1 \u001b[0munbound_path = \u001b[33m\"\u001b[0m\u001b[33m../kpc2/equilibration/unbound/\u001b[0m\u001b[33m\"\u001b[0m                                             \u001b[31m│\u001b[0m\n",
       "\u001b[31m│\u001b[0m   \u001b[2m 2 \u001b[0mligand_1_number = \u001b[94m11\u001b[0m                                                                        \u001b[31m│\u001b[0m\n",
       "\u001b[31m│\u001b[0m   \u001b[2m 3 \u001b[0mligand_2_number = \u001b[94m5\u001b[0m                                                                         \u001b[31m│\u001b[0m\n",
       "\u001b[31m│\u001b[0m \u001b[31m❱ \u001b[0m 4 ligand_1_system = bss.IO.readMolecules([\u001b[33mf\u001b[0m\u001b[33m\"\u001b[0m\u001b[33m{\u001b[0munbound_path\u001b[33m}\u001b[0m\u001b[33m/ligand_\u001b[0m\u001b[33m{\u001b[0mligand_1_number\u001b[33m}\u001b[0m\u001b[33m/npt/li\u001b[0m    \u001b[31m│\u001b[0m\n",
       "\u001b[31m│\u001b[0m   \u001b[2m 5 \u001b[0m\u001b[2m│   │   │   │   │   │   │   │   │   │   \u001b[0m\u001b[33mf\u001b[0m\u001b[33m\"\u001b[0m\u001b[33m{\u001b[0munbound_path\u001b[33m}\u001b[0m\u001b[33m/ligand_\u001b[0m\u001b[33m{\u001b[0mligand_1_number\u001b[33m}\u001b[0m\u001b[33m/npt/li\u001b[0m    \u001b[31m│\u001b[0m\n",
       "\u001b[31m│\u001b[0m   \u001b[2m 6 \u001b[0mligand_2_system = bss.IO.readMolecules([\u001b[33mf\u001b[0m\u001b[33m\"\u001b[0m\u001b[33m{\u001b[0munbound_path\u001b[33m}\u001b[0m\u001b[33m/ligand_\u001b[0m\u001b[33m{\u001b[0mligand_2_number\u001b[33m}\u001b[0m\u001b[33m/npt/li\u001b[0m    \u001b[31m│\u001b[0m\n",
       "\u001b[31m│\u001b[0m   \u001b[2m 7 \u001b[0m\u001b[2m│   │   │   │   │   │   │   │   │   │   \u001b[0m\u001b[33mf\u001b[0m\u001b[33m\"\u001b[0m\u001b[33m{\u001b[0munbound_path\u001b[33m}\u001b[0m\u001b[33m/ligand_\u001b[0m\u001b[33m{\u001b[0mligand_2_number\u001b[33m}\u001b[0m\u001b[33m/npt/li\u001b[0m    \u001b[31m│\u001b[0m\n",
       "\u001b[31m│\u001b[0m                                                                                                  \u001b[31m│\u001b[0m\n",
       "\u001b[31m│\u001b[0m \u001b[2;33m/home/jguven/Software/miniconda3/envs/obss/lib/python3.10/site-packages/BioSimSpace/IO/\u001b[0m\u001b[1;33m_io.py\u001b[0m:\u001b[94m44\u001b[0m \u001b[31m│\u001b[0m\n",
       "\u001b[31m│\u001b[0m \u001b[94m9\u001b[0m in \u001b[92mreadMolecules\u001b[0m                                                                               \u001b[31m│\u001b[0m\n",
       "\u001b[31m│\u001b[0m                                                                                                  \u001b[31m│\u001b[0m\n",
       "\u001b[31m│\u001b[0m   \u001b[2m 446 \u001b[0m\u001b[2m│   \u001b[0m\u001b[2m# Check that the files exist (if not a URL).\u001b[0m                                          \u001b[31m│\u001b[0m\n",
       "\u001b[31m│\u001b[0m   \u001b[2m 447 \u001b[0m\u001b[2m│   \u001b[0m\u001b[94mfor\u001b[0m file \u001b[95min\u001b[0m files:                                                                    \u001b[31m│\u001b[0m\n",
       "\u001b[31m│\u001b[0m   \u001b[2m 448 \u001b[0m\u001b[2m│   │   \u001b[0m\u001b[94mif\u001b[0m \u001b[95mnot\u001b[0m file.startswith((\u001b[33m\"\u001b[0m\u001b[33mhttp\u001b[0m\u001b[33m\"\u001b[0m, \u001b[33m\"\u001b[0m\u001b[33mwww\u001b[0m\u001b[33m\"\u001b[0m)) \u001b[95mand\u001b[0m \u001b[95mnot\u001b[0m _os.path.isfile(file):            \u001b[31m│\u001b[0m\n",
       "\u001b[31m│\u001b[0m \u001b[31m❱ \u001b[0m 449 \u001b[2m│   │   │   \u001b[0m\u001b[94mraise\u001b[0m \u001b[96mIOError\u001b[0m(\u001b[33m\"\u001b[0m\u001b[33mMissing input file: \u001b[0m\u001b[33m'\u001b[0m\u001b[33m%s\u001b[0m\u001b[33m'\u001b[0m\u001b[33m\"\u001b[0m % file)                              \u001b[31m│\u001b[0m\n",
       "\u001b[31m│\u001b[0m   \u001b[2m 450 \u001b[0m\u001b[2m│   \u001b[0m                                                                                      \u001b[31m│\u001b[0m\n",
       "\u001b[31m│\u001b[0m   \u001b[2m 451 \u001b[0m\u001b[2m│   \u001b[0m\u001b[2m# Try to read the files and return a molecular system.\u001b[0m                                \u001b[31m│\u001b[0m\n",
       "\u001b[31m│\u001b[0m   \u001b[2m 452 \u001b[0m\u001b[2m│   \u001b[0m\u001b[94mtry\u001b[0m:                                                                                  \u001b[31m│\u001b[0m\n",
       "\u001b[31m╰──────────────────────────────────────────────────────────────────────────────────────────────────╯\u001b[0m\n",
       "\u001b[1;91mOSError: \u001b[0mMissing input file: \u001b[32m'../kpc2/equilibration/unbound//ligand_11/npt/ligand_11.prm7'\u001b[0m\n"
      ]
     },
     "metadata": {},
     "output_type": "display_data"
    }
   ],
   "source": [
    "unbound_path = \"../kpc2/equilibration/unbound/\"\n",
    "ligand_1_number = 11\n",
    "ligand_2_number = 5\n",
    "ligand_1_system = bss.IO.readMolecules([f\"{unbound_path}/ligand_{ligand_1_number}/npt/ligand_{ligand_1_number}.prm7\",\n",
    "                                        f\"{unbound_path}/ligand_{ligand_1_number}/npt/ligand_{ligand_1_number}.rst7\"])\n",
    "ligand_2_system = bss.IO.readMolecules([f\"{unbound_path}/ligand_{ligand_2_number}/npt/ligand_{ligand_2_number}.prm7\",\n",
    "                                        f\"{unbound_path}/ligand_{ligand_2_number}/npt/ligand_{ligand_2_number}.rst7\"])\n",
    "ligand_1 = ligand_1_system.getMolecule(0)\n",
    "ligand_2 = ligand_2_system.getMolecule(0)\n",
    "mapping = bss.Align.matchAtoms(ligand_1, ligand_2, complete_rings_only=True) \n",
    "inverse_mapping = {value:key for key,value in mapping.items()}\n",
    "ligand_2_aligned = bss.Align.rmsdAlign(ligand_2, ligand_1, inverse_mapping)\n",
    "\n",
    "merged_ligands = bss.Align.merge(ligand_1, ligand_2_aligned, mapping) \n",
    "\n",
    "ligand_1_system.removeMolecules(ligand_1)\n",
    "ligand_1_system.addMolecules(merged_ligands)\n",
    "unbound_system = ligand_1_system\n"
   ]
  },
  {
   "cell_type": "code",
   "execution_count": 12,
   "metadata": {},
   "outputs": [
    {
     "data": {
      "text/plain": [
       "<BioSimSpace.FreeEnergy._relative.Relative at 0x7efed538a880>"
      ]
     },
     "execution_count": 12,
     "metadata": {},
     "output_type": "execute_result"
    }
   ],
   "source": [
    "free_energy_protocol = bss.Protocol.FreeEnergy()\n",
    "bss.FreeEnergy.Relative(unbound_system, free_energy_protocol, work_dir=\"/home/jguven/projects/metalloenzymes/scripts/\")"
   ]
  },
  {
   "cell_type": "code",
   "execution_count": 13,
   "metadata": {},
   "outputs": [
    {
     "name": "stdout",
     "output_type": "stream",
     "text": [
      "got molecules\n"
     ]
    }
   ],
   "source": [
    "bound_path = \"../kpc2/equilibration/bound/\"\n",
    "ligand_1_number = 13\n",
    "ligand_2_number = 6\n",
    "system_1 = bss.IO.readMolecules([f\"{bound_path}/system_{ligand_1_number}/npt/system_{ligand_1_number}.prm7\",\n",
    "                                        f\"{bound_path}/system_{ligand_1_number}/npt/system_{ligand_1_number}.rst7\"])\n",
    "system_2 = bss.IO.readMolecules([f\"{bound_path}/system_{ligand_2_number}/npt/system_{ligand_2_number}.prm7\",\n",
    "                                    f\"{bound_path}/system_{ligand_2_number}/npt/system_{ligand_2_number}.rst7\"])\n",
    "system_1_ligand = None\n",
    "protein = None\n",
    "n_residues = [molecule.nResidues() for molecule in system_1]\n",
    "n_atoms = [molecule.nAtoms() for molecule in system_1]\n",
    "for j, (n_residues, n_atoms) in enumerate(zip(n_residues[:20], n_atoms[:20])):\n",
    "    if n_residues == 1 and n_atoms > 5:\n",
    "        system_1_ligand = system_1.getMolecule(j)\n",
    "    elif n_residues > 1:\n",
    "        protein = system_1.getMolecule(j)\n",
    "    else:\n",
    "        pass\n",
    "\n",
    "system_2_ligand = None\n",
    "n_residues = [molecule.nResidues() for molecule in system_2]\n",
    "n_atoms = [molecule.nAtoms() for molecule in system_2]\n",
    "for j, (n_residues, n_atoms) in enumerate(zip(n_residues, n_atoms)):\n",
    "    if n_residues == 1 and n_atoms > 5:\n",
    "        system_2_ligand = system_2.getMolecule(j)\n",
    "    else:\n",
    "        pass    \n",
    "\n",
    "if system_1_ligand and system_2_ligand and protein:\n",
    "    print(f\"got molecules\")\n",
    "else:\n",
    "    print(\"didn't work\")\n",
    "\n",
    "mapping = bss.Align.matchAtoms(system_1_ligand, system_2_ligand, complete_rings_only=True)\n",
    "inverse_mapping = {value:key for key,value in mapping.items()}\n",
    "\n",
    "system_2_ligand_aligned = bss.Align.rmsdAlign(system_2_ligand, system_1_ligand, inverse_mapping)\n",
    "\n",
    "bound_merged_ligands = bss.Align.merge(system_1_ligand, system_2_ligand_aligned, mapping, allow_ring_breaking=True, allow_ring_size_change=True)\n",
    "\n",
    "system_1.removeMolecules(system_1_ligand)\n",
    "system_1.addMolecules(bound_merged_ligands)\n",
    "bound_system = system_1"
   ]
  },
  {
   "cell_type": "code",
   "execution_count": 14,
   "metadata": {},
   "outputs": [
    {
     "data": {
      "text/plain": [
       "<BioSimSpace.FreeEnergy._relative.Relative at 0x7efed526b5b0>"
      ]
     },
     "execution_count": 14,
     "metadata": {},
     "output_type": "execute_result"
    }
   ],
   "source": [
    "bss.FreeEnergy.Relative(bound_system, free_energy_protocol, work_dir=\"/home/jguven/projects/metalloenzymes/scripts/\")"
   ]
  },
  {
   "cell_type": "code",
   "execution_count": 6,
   "metadata": {},
   "outputs": [
    {
     "name": "stdout",
     "output_type": "stream",
     "text": [
      "0.6327603865593754\n"
     ]
    }
   ],
   "source": [
    "second = mda.Universe(\"/home/jguven/projects/metalloenzymes/kpc2/inputs/protein/protein_complex.pdb\")\n",
    "first = mda.Universe(\"/home/jguven/projects/metalloenzymes/kpc2/inputs/protein/protein_1.pdb\")\n",
    "second_positions = second.select_atoms(\"protein\").positions\n",
    "first_positions = first.select_atoms(\"protein\").positions\n",
    "rmsd = MDAnalysis.analysis.rms.rmsd(second_positions, first_positions)\n",
    "print(rmsd)"
   ]
  },
  {
   "cell_type": "code",
   "execution_count": 3,
   "metadata": {},
   "outputs": [],
   "source": [
    "full_path = os.getcwd() + \"/\"\n",
    "if \"scripts\" in full_path:\n",
    "    full_path = full_path.replace(\"/scripts/\", \"/\")\n",
    "equilibration_path = full_path + \"/kpc2/\" + \"/equilibration/\"\n",
    "bound_path = equilibration_path + \"bound/\"\n",
    "ligand_1_number = 1\n",
    "ligand_2_number = 2\n",
    "system_1_gmx = bss.IO.readMolecules([f\"{bound_path}/system_{ligand_1_number}/npt/npt.gro\",\n",
    "                                     f\"{bound_path}/system_{ligand_1_number}/npt/npt.top\"])\n",
    "system_2_gmx = bss.IO.readMolecules([f\"{bound_path}/system_{ligand_2_number}/npt/npt.gro\",\n",
    "                                     f\"{bound_path}/system_{ligand_2_number}/npt/npt.top\"])\n"
   ]
  },
  {
   "cell_type": "code",
   "execution_count": 5,
   "metadata": {},
   "outputs": [
    {
     "ename": "OSError",
     "evalue": "Failed to save system to format: 'RST7'",
     "output_type": "error",
     "traceback": [
      "\u001b[0;31m---------------------------------------------------------------------------\u001b[0m",
      "\u001b[0;31mOSError\u001b[0m                                   Traceback (most recent call last)",
      "Cell \u001b[0;32mIn [5], line 1\u001b[0m\n\u001b[0;32m----> 1\u001b[0m system_1_amber \u001b[39m=\u001b[39m bss\u001b[39m.\u001b[39;49mIO\u001b[39m.\u001b[39;49msaveMolecules(\u001b[39mf\u001b[39;49m\u001b[39m\"\u001b[39;49m\u001b[39m{\u001b[39;49;00mbound_path\u001b[39m}\u001b[39;49;00m\u001b[39m/system_\u001b[39;49m\u001b[39m{\u001b[39;49;00mligand_1_number\u001b[39m}\u001b[39;49;00m\u001b[39m/ligand_\u001b[39;49m\u001b[39m{\u001b[39;49;00mligand_1_number\u001b[39m}\u001b[39;49;00m\u001b[39m\"\u001b[39;49m, system_1_gmx, [\u001b[39m\"\u001b[39;49m\u001b[39mPRM7\u001b[39;49m\u001b[39m\"\u001b[39;49m, \u001b[39m\"\u001b[39;49m\u001b[39mRST7\u001b[39;49m\u001b[39m\"\u001b[39;49m])\n\u001b[1;32m      2\u001b[0m system_2_amber \u001b[39m=\u001b[39m bss\u001b[39m.\u001b[39mIO\u001b[39m.\u001b[39msaveMolecules(\u001b[39mf\u001b[39m\u001b[39m\"\u001b[39m\u001b[39m{\u001b[39;00mbound_path\u001b[39m}\u001b[39;00m\u001b[39m/system_\u001b[39m\u001b[39m{\u001b[39;00mligand_2_number\u001b[39m}\u001b[39;00m\u001b[39m/ligand_\u001b[39m\u001b[39m{\u001b[39;00mligand_2_number\u001b[39m}\u001b[39;00m\u001b[39m\"\u001b[39m, system_2_gmx, [\u001b[39m\"\u001b[39m\u001b[39mPRM7\u001b[39m\u001b[39m\"\u001b[39m, \u001b[39m\"\u001b[39m\u001b[39mRST7\u001b[39m\u001b[39m\"\u001b[39m])\n",
      "File \u001b[0;32m~/BioSimSpace/python/BioSimSpace/IO/_io.py:686\u001b[0m, in \u001b[0;36msaveMolecules\u001b[0;34m(filebase, system, fileformat, property_map)\u001b[0m\n\u001b[1;32m    684\u001b[0m             \u001b[39mraise\u001b[39;00m \u001b[39mIOError\u001b[39;00m(msg) \u001b[39mfrom\u001b[39;00m \u001b[39me\u001b[39;00m\n\u001b[1;32m    685\u001b[0m         \u001b[39melse\u001b[39;00m:\n\u001b[0;32m--> 686\u001b[0m             \u001b[39mraise\u001b[39;00m \u001b[39mIOError\u001b[39;00m(msg) \u001b[39mfrom\u001b[39;00m \u001b[39mNone\u001b[39m\n\u001b[1;32m    688\u001b[0m \u001b[39m# Change back to the original directory.\u001b[39;00m\n\u001b[1;32m    689\u001b[0m \u001b[39mif\u001b[39;00m dirname \u001b[39m!=\u001b[39m \u001b[39m\"\u001b[39m\u001b[39m\"\u001b[39m:\n",
      "\u001b[0;31mOSError\u001b[0m: Failed to save system to format: 'RST7'"
     ]
    }
   ],
   "source": [
    "system_1_amber = bss.IO.saveMolecules(f\"{bound_path}/system_{ligand_1_number}/ligand_{ligand_1_number}\", system_1_gmx, [\"PRM7\", \"RST7\"])\n",
    "system_2_amber = bss.IO.saveMolecules(f\"{bound_path}/system_{ligand_2_number}/ligand_{ligand_2_number}\", system_2_gmx, [\"PRM7\", \"RST7\"])\n",
    "    "
   ]
  },
  {
   "cell_type": "code",
   "execution_count": 6,
   "metadata": {},
   "outputs": [
    {
     "data": {
      "application/vnd.jupyter.widget-view+json": {
       "model_id": "8f16293f98d342bab0d7df6659d49535",
       "version_major": 2,
       "version_minor": 0
      },
      "text/plain": [
       "NGLWidget()"
      ]
     },
     "metadata": {},
     "output_type": "display_data"
    }
   ],
   "source": [
    "lig_14_system = mda.Universe(\"../kpc2/equilibration/bound/system_14/r_nvt/r_nvt.gro\")\n",
    "nv.show_mdanalysis(lig_14_system)"
   ]
  },
  {
   "cell_type": "code",
   "execution_count": 16,
   "metadata": {},
   "outputs": [
    {
     "name": "stdout",
     "output_type": "stream",
     "text": [
      "-10.0000 |e|\n",
      "<BioSimSpace.Molecule: nAtoms=1, nResidues=1>\n"
     ]
    }
   ],
   "source": [
    "vim2_dry = bss.IO.readMolecules([\"../vim_2/playground/vim2_dry.prmtop\",\n",
    "                                 \"../vim_2/playground/vim2_dry.inpcrd\"])[0]\n",
    "print(vim2_dry.charge())     \n",
    "\n",
    "print(vim2_dry.extract([232]))"
   ]
  },
  {
   "cell_type": "code",
   "execution_count": 45,
   "metadata": {},
   "outputs": [
    {
     "name": "stdout",
     "output_type": "stream",
     "text": [
      "ligand charge -0.7114419266581535\n",
      "residue HD1 83 has charge 0.054078073939308524\n",
      "residue HE1 85 has charge 0.5690882261842489\n",
      "residue AP1 87 has charge -0.3650490939617157\n",
      "residue HD2 148 has charge 0.25752707151696086\n",
      "residue CS1 167 has charge -0.31586899794638157\n",
      "residue HD3 209 has charge 0.41295304521918297\n",
      "residue ZN1 231 has charge 0.9915969967842102\n",
      "residue ZN2 232 has charge 1.107118010520935\n",
      "2.7114433322567493\n",
      "-9.288554110797122\n"
     ]
    }
   ],
   "source": [
    "universe = mda.Universe(\"../vim_2/playground/vim2_dry.prmtop\",\n",
    "                        \"../vim_2/playground/vim2_dry.inpcrd\")\n",
    "system = universe.select_atoms(\"all\")\n",
    "ligand = universe.select_atoms(\"resname PT1\")\n",
    "print(f\"ligand charge {ligand.total_charge()}\")\n",
    "active_site = pd.read_csv(\"../vim_2/inputs/protein/active_site.csv\", header=None, names=[\"resname\", \"resid\"])\n",
    "active_site_resnames = active_site[\"resname\"].tolist()\n",
    "\n",
    "resnames = system.residues.resnames\n",
    "resids = system.residues.resids\n",
    "charges = []\n",
    "other_charges = []\n",
    "for i in range(len(resids)):\n",
    "    if resnames[i] in active_site_resnames:\n",
    "        residue = universe.select_atoms(f\"resname {resnames[i]}\")\n",
    "        charge = residue.total_charge()\n",
    "        print(f\"residue {resnames[i]} {resids[i]} has charge {charge}\")\n",
    "        charges.append(float(charge))\n",
    "\n",
    "    # if resnames[i] != \"PT1\" and resnames[i] != \"WAT\" and resnames[i] not in active_site_resnames:\n",
    "    #     residue = universe.select_atoms(f\"resname {resnames[i]}\")\n",
    "    #     charge = residue.total_charge()\n",
    "    #     other_charges.append(float(charge))\n",
    "\n",
    "net_charge = sum(charges)\n",
    "print(net_charge)\n",
    "\n",
    "not_ligand = universe.select_atoms(\"not resname PT1\")\n",
    "print(not_ligand.total_charge())\n"
   ]
  },
  {
   "cell_type": "code",
   "execution_count": 49,
   "metadata": {},
   "outputs": [
    {
     "name": "stdout",
     "output_type": "stream",
     "text": [
      "82 ACE\n",
      "83 HID\n",
      "84 GLY\n",
      "85 HIE\n",
      "86 GLY\n",
      "87 ASP\n",
      "88 NME\n",
      "147 ACE\n",
      "148 HID\n",
      "149 NME\n",
      "166 ACE\n",
      "167 CYS\n",
      "168 NME\n",
      "208 ACE\n",
      "209 HID\n",
      "210 NME\n",
      "231 ZN\n",
      "232 ZN\n",
      "233 P9T\n"
     ]
    }
   ],
   "source": [
    "universe = mda.Universe(\"../md_vim2/outputs/vim2_large.pdb\")\n",
    "vim2_large = universe.select_atoms(\"all\")\n",
    "resids = vim2_large.residues.resids\n",
    "resnames = vim2_large.residues.resnames\n",
    "for i in range(len(resids)):\n",
    "    print(f\"{resids[i]} {resnames[i]}\")"
   ]
  },
  {
   "cell_type": "code",
   "execution_count": 46,
   "metadata": {},
   "outputs": [
    {
     "name": "stdout",
     "output_type": "stream",
     "text": [
      "0.0\n"
     ]
    }
   ],
   "source": [
    "    "
   ]
  },
  {
   "cell_type": "code",
   "execution_count": 4,
   "metadata": {},
   "outputs": [
    {
     "name": "stdout",
     "output_type": "stream",
     "text": [
      "0.0000e+00 |e|\n"
     ]
    }
   ],
   "source": [
    "ligand = bss.IO.readMolecules(\"../vim_2/inputs/ligands/docked_1.sdf\")[0]\n",
    "print(ligand.charge())"
   ]
  },
  {
   "cell_type": "code",
   "execution_count": 9,
   "metadata": {},
   "outputs": [
    {
     "name": "stdout",
     "output_type": "stream",
     "text": [
      "<BioSimSpace.Molecule: nAtoms=3456, nResidues=245>\n",
      "0.0000e+00 |e|\n"
     ]
    }
   ],
   "source": [
    "hpp = bss.IO.readMolecules(\"../vim_2/inputs/protein/vim2_hpp.pdb\")[0]\n",
    "print(hpp)\n",
    "print(hpp.charge())"
   ]
  },
  {
   "cell_type": "code",
   "execution_count": 11,
   "metadata": {},
   "outputs": [
    {
     "name": "stdout",
     "output_type": "stream",
     "text": [
      "-0.7114 |e|\n"
     ]
    }
   ],
   "source": [
    "pt1 = bss.IO.readMolecules(\"../vim_2/inputs/protein/PT1.mol2\")[0]\n",
    "print(pt1.charge())"
   ]
  },
  {
   "cell_type": "code",
   "execution_count": 10,
   "metadata": {},
   "outputs": [
    {
     "name": "stdout",
     "output_type": "stream",
     "text": [
      "<BioSimSpace.Molecule: nAtoms=3417, nResidues=232>\n",
      "-9.2886 |e|\n"
     ]
    }
   ],
   "source": [
    "protein = bss.IO.readMolecules([\"../vim_2/inputs/protein/prot_water.prm7\",\n",
    "                                \"../vim_2/inputs/protein/prot_water.rst7\"])[0]\n",
    "print(protein)                                \n",
    "print(protein.charge())                                "
   ]
  },
  {
   "cell_type": "code",
   "execution_count": 15,
   "metadata": {},
   "outputs": [
    {
     "data": {
      "application/vnd.jupyter.widget-view+json": {
       "model_id": "d793bbebf68047b1b293b1d49fdeb0d4",
       "version_major": 2,
       "version_minor": 0
      },
      "text/plain": [
       "NGLWidget()"
      ]
     },
     "metadata": {},
     "output_type": "display_data"
    }
   ],
   "source": [
    "nv.show_file(\"../kpc2/equilibration/unbound/ligand_8/r_nvt/r_nvt.gro\")"
   ]
  },
  {
   "cell_type": "code",
   "execution_count": 22,
   "metadata": {},
   "outputs": [],
   "source": [
    "active_site = pd.read_csv(\"../vim_2/inputs/protein/active_site.csv\", header=None, names=[\"resname\", \"resid\"])\n",
    "active_site_residues = active_site[\"resname\"].tolist()\n",
    "active_site_residue_ids = active_site[\"resid\"].tolist()\n",
    "\n",
    "universe = mda.Universe(\"../vim_2/inputs/protein/protein_complex.pdb\")\n",
    "atom_group = universe.select_atoms(f\"resid {active_site_residue_ids[0]}\")\n",
    "atom_group.residues.resnames = active_site_residues[0]\n",
    "atom_group.residues.resnames\n",
    "universe.select_atoms(f\"resid {active_site_residue_ids[0]}\").resnames\n",
    "universe.atoms.write(\"test.pdb\")\n"
   ]
  },
  {
   "cell_type": "code",
   "execution_count": 13,
   "metadata": {},
   "outputs": [
    {
     "ename": "AttributeError",
     "evalue": "module 'csv' has no attribute 'readlines'",
     "output_type": "error",
     "traceback": [
      "\u001b[0;31m---------------------------------------------------------------------------\u001b[0m",
      "\u001b[0;31mAttributeError\u001b[0m                            Traceback (most recent call last)",
      "Cell \u001b[0;32mIn [13], line 3\u001b[0m\n\u001b[1;32m      1\u001b[0m \u001b[39mimport\u001b[39;00m \u001b[39mcsv\u001b[39;00m\n\u001b[1;32m      2\u001b[0m \u001b[39mwith\u001b[39;00m \u001b[39mopen\u001b[39m(\u001b[39m'\u001b[39m\u001b[39m../vim_2/inputs/protein/active_site.csv\u001b[39m\u001b[39m'\u001b[39m, \u001b[39m'\u001b[39m\u001b[39mr\u001b[39m\u001b[39m'\u001b[39m) \u001b[39mas\u001b[39;00m file:\n\u001b[0;32m----> 3\u001b[0m     reader \u001b[39m=\u001b[39m csv\u001b[39m.\u001b[39;49mreadlines()\n\u001b[1;32m      6\u001b[0m \u001b[39m# returns ','\u001b[39;00m\n",
      "\u001b[0;31mAttributeError\u001b[0m: module 'csv' has no attribute 'readlines'"
     ]
    }
   ],
   "source": [
    "import csv\n",
    "with open('../vim_2/inputs/protein/active_site.csv', 'r') as file:\n",
    "    reader = csv.readlines()\n",
    "\n",
    "\n",
    "# returns ','"
   ]
  },
  {
   "cell_type": "code",
   "execution_count": 4,
   "metadata": {},
   "outputs": [
    {
     "data": {
      "text/html": [
       "<div>\n",
       "<style scoped>\n",
       "    .dataframe tbody tr th:only-of-type {\n",
       "        vertical-align: middle;\n",
       "    }\n",
       "\n",
       "    .dataframe tbody tr th {\n",
       "        vertical-align: top;\n",
       "    }\n",
       "\n",
       "    .dataframe thead th {\n",
       "        text-align: right;\n",
       "    }\n",
       "</style>\n",
       "<table border=\"1\" class=\"dataframe\">\n",
       "  <thead>\n",
       "    <tr style=\"text-align: right;\">\n",
       "      <th></th>\n",
       "      <th>resname</th>\n",
       "      <th>resid</th>\n",
       "    </tr>\n",
       "  </thead>\n",
       "  <tbody>\n",
       "    <tr>\n",
       "      <th>0</th>\n",
       "      <td>HD1 83</td>\n",
       "      <td>NaN</td>\n",
       "    </tr>\n",
       "    <tr>\n",
       "      <th>1</th>\n",
       "      <td>HE1 85</td>\n",
       "      <td>NaN</td>\n",
       "    </tr>\n",
       "    <tr>\n",
       "      <th>2</th>\n",
       "      <td>AP1 87</td>\n",
       "      <td>NaN</td>\n",
       "    </tr>\n",
       "    <tr>\n",
       "      <th>3</th>\n",
       "      <td>HD2 148</td>\n",
       "      <td>NaN</td>\n",
       "    </tr>\n",
       "    <tr>\n",
       "      <th>4</th>\n",
       "      <td>CS1 167</td>\n",
       "      <td>NaN</td>\n",
       "    </tr>\n",
       "    <tr>\n",
       "      <th>5</th>\n",
       "      <td>HD3 209</td>\n",
       "      <td>NaN</td>\n",
       "    </tr>\n",
       "  </tbody>\n",
       "</table>\n",
       "</div>"
      ],
      "text/plain": [
       "   resname  resid\n",
       "0   HD1 83    NaN\n",
       "1   HE1 85    NaN\n",
       "2   AP1 87    NaN\n",
       "3  HD2 148    NaN\n",
       "4  CS1 167    NaN\n",
       "5  HD3 209    NaN"
      ]
     },
     "execution_count": 4,
     "metadata": {},
     "output_type": "execute_result"
    }
   ],
   "source": [
    "active_site = pd.read_csv(\"../vim_2/inputs/protein/active_site_copy.txt\", header=None, names=[\"resname\", \"resid\"])\n",
    "active_site"
   ]
  },
  {
   "cell_type": "code",
   "execution_count": 2,
   "metadata": {},
   "outputs": [
    {
     "name": "stdout",
     "output_type": "stream",
     "text": [
      "['../kpc2/inputs/ligands/ligand_1_solvated.gro', '../kpc2/inputs/ligands/ligand_1_solvated.top']\n"
     ]
    }
   ],
   "source": [
    "import glob\n",
    "test = glob.glob(\"../kpc2/inputs/ligands/ligand_1_solvated*\")\n",
    "print(test)"
   ]
  },
  {
   "cell_type": "code",
   "execution_count": 2,
   "metadata": {},
   "outputs": [
    {
     "name": "stderr",
     "output_type": "stream",
     "text": [
      "/home/jguven/Software/miniconda3/envs/sire/lib/python3.9/site-packages/alchemlyb/preprocessing/subsampling.py:135: FutureWarning: In a future version of pandas all arguments of DataFrame.sort_index will be keyword-only.\n",
      "  return df.sort_index(0).reset_index('time').duplicated('time').any()\n",
      "/home/jguven/Software/miniconda3/envs/sire/lib/python3.9/site-packages/alchemlyb/preprocessing/subsampling.py:133: FutureWarning: In a future version of pandas all arguments of Series.sort_index will be keyword-only.\n",
      "  return df.sort_index(0).reset_index('time', name='').duplicated('time').any()\n",
      "/home/jguven/Software/miniconda3/envs/sire/lib/python3.9/site-packages/alchemlyb/preprocessing/subsampling.py:135: FutureWarning: In a future version of pandas all arguments of DataFrame.sort_index will be keyword-only.\n",
      "  return df.sort_index(0).reset_index('time').duplicated('time').any()\n",
      "/home/jguven/Software/miniconda3/envs/sire/lib/python3.9/site-packages/alchemlyb/preprocessing/subsampling.py:133: FutureWarning: In a future version of pandas all arguments of Series.sort_index will be keyword-only.\n",
      "  return df.sort_index(0).reset_index('time', name='').duplicated('time').any()\n",
      "/home/jguven/Software/miniconda3/envs/sire/lib/python3.9/site-packages/alchemlyb/preprocessing/subsampling.py:135: FutureWarning: In a future version of pandas all arguments of DataFrame.sort_index will be keyword-only.\n",
      "  return df.sort_index(0).reset_index('time').duplicated('time').any()\n",
      "/home/jguven/Software/miniconda3/envs/sire/lib/python3.9/site-packages/alchemlyb/preprocessing/subsampling.py:133: FutureWarning: In a future version of pandas all arguments of Series.sort_index will be keyword-only.\n",
      "  return df.sort_index(0).reset_index('time', name='').duplicated('time').any()\n",
      "/home/jguven/Software/miniconda3/envs/sire/lib/python3.9/site-packages/alchemlyb/preprocessing/subsampling.py:135: FutureWarning: In a future version of pandas all arguments of DataFrame.sort_index will be keyword-only.\n",
      "  return df.sort_index(0).reset_index('time').duplicated('time').any()\n",
      "/home/jguven/Software/miniconda3/envs/sire/lib/python3.9/site-packages/alchemlyb/preprocessing/subsampling.py:133: FutureWarning: In a future version of pandas all arguments of Series.sort_index will be keyword-only.\n",
      "  return df.sort_index(0).reset_index('time', name='').duplicated('time').any()\n",
      "/home/jguven/Software/miniconda3/envs/sire/lib/python3.9/site-packages/alchemlyb/preprocessing/subsampling.py:135: FutureWarning: In a future version of pandas all arguments of DataFrame.sort_index will be keyword-only.\n",
      "  return df.sort_index(0).reset_index('time').duplicated('time').any()\n",
      "/home/jguven/Software/miniconda3/envs/sire/lib/python3.9/site-packages/alchemlyb/preprocessing/subsampling.py:133: FutureWarning: In a future version of pandas all arguments of Series.sort_index will be keyword-only.\n",
      "  return df.sort_index(0).reset_index('time', name='').duplicated('time').any()\n",
      "/home/jguven/Software/miniconda3/envs/sire/lib/python3.9/site-packages/alchemlyb/preprocessing/subsampling.py:135: FutureWarning: In a future version of pandas all arguments of DataFrame.sort_index will be keyword-only.\n",
      "  return df.sort_index(0).reset_index('time').duplicated('time').any()\n",
      "/home/jguven/Software/miniconda3/envs/sire/lib/python3.9/site-packages/alchemlyb/preprocessing/subsampling.py:133: FutureWarning: In a future version of pandas all arguments of Series.sort_index will be keyword-only.\n",
      "  return df.sort_index(0).reset_index('time', name='').duplicated('time').any()\n",
      "/home/jguven/Software/miniconda3/envs/sire/lib/python3.9/site-packages/alchemlyb/preprocessing/subsampling.py:135: FutureWarning: In a future version of pandas all arguments of DataFrame.sort_index will be keyword-only.\n",
      "  return df.sort_index(0).reset_index('time').duplicated('time').any()\n",
      "/home/jguven/Software/miniconda3/envs/sire/lib/python3.9/site-packages/alchemlyb/preprocessing/subsampling.py:133: FutureWarning: In a future version of pandas all arguments of Series.sort_index will be keyword-only.\n",
      "  return df.sort_index(0).reset_index('time', name='').duplicated('time').any()\n",
      "/home/jguven/Software/miniconda3/envs/sire/lib/python3.9/site-packages/alchemlyb/preprocessing/subsampling.py:135: FutureWarning: In a future version of pandas all arguments of DataFrame.sort_index will be keyword-only.\n",
      "  return df.sort_index(0).reset_index('time').duplicated('time').any()\n",
      "/home/jguven/Software/miniconda3/envs/sire/lib/python3.9/site-packages/alchemlyb/preprocessing/subsampling.py:133: FutureWarning: In a future version of pandas all arguments of Series.sort_index will be keyword-only.\n",
      "  return df.sort_index(0).reset_index('time', name='').duplicated('time').any()\n",
      "/home/jguven/Software/miniconda3/envs/sire/lib/python3.9/site-packages/alchemlyb/preprocessing/subsampling.py:135: FutureWarning: In a future version of pandas all arguments of DataFrame.sort_index will be keyword-only.\n",
      "  return df.sort_index(0).reset_index('time').duplicated('time').any()\n",
      "/home/jguven/Software/miniconda3/envs/sire/lib/python3.9/site-packages/alchemlyb/preprocessing/subsampling.py:133: FutureWarning: In a future version of pandas all arguments of Series.sort_index will be keyword-only.\n",
      "  return df.sort_index(0).reset_index('time', name='').duplicated('time').any()\n"
     ]
    }
   ],
   "source": [
    "free_directory = \"/home/jguven/unbound/\"\n",
    "pmf_free, overlap_matrix_free = bss.FreeEnergy.Relative.analyse(free_directory)\n",
    "\n",
    "pmf_bound, overlap_matrix_bound = bss.FreeEnergy.Relative.analyse(bound_directory)\n",
    "free_energy_difference, free_energy_error = bss.FreeEnergy.Relative.difference(pmf_bound, pmf_free)"
   ]
  },
  {
   "cell_type": "code",
   "execution_count": 3,
   "metadata": {},
   "outputs": [
    {
     "data": {
      "text/plain": [
       "[(0.0, 0.0000e+00 kcal/mol, 0.1263 kcal/mol),\n",
       " (0.125, 9.4915 kcal/mol, 0.0000e+00 kcal/mol),\n",
       " (0.25, 6.3567 kcal/mol, 0.1496 kcal/mol),\n",
       " (0.375, -1.9805 kcal/mol, 0.1575 kcal/mol),\n",
       " (0.5, -11.7766 kcal/mol, 0.1598 kcal/mol),\n",
       " (0.625, -6.9513 kcal/mol, 0.1647 kcal/mol),\n",
       " (0.75, 16.9964 kcal/mol, 0.7148 kcal/mol),\n",
       " (0.875, 34.2116 kcal/mol, 0.6545 kcal/mol),\n",
       " (1.0, 42.5350 kcal/mol, 0.6464 kcal/mol)]"
      ]
     },
     "execution_count": 3,
     "metadata": {},
     "output_type": "execute_result"
    }
   ],
   "source": [
    "pmf_free"
   ]
  },
  {
   "cell_type": "code",
   "execution_count": 4,
   "metadata": {},
   "outputs": [
    {
     "data": {
      "text/plain": [
       "matrix([[9.97193833e-01, 2.71904833e-03, 1.14636118e-05, 1.75632486e-12,\n",
       "         5.28367192e-15, 2.34408067e-17, 1.13940050e-12, 1.15846327e-08,\n",
       "         7.56432246e-05],\n",
       "        [8.92222584e-03, 9.84741734e-01, 6.33547540e-03, 4.02486897e-07,\n",
       "         6.14447531e-09, 7.07260002e-10, 9.73846692e-13, 2.37954497e-09,\n",
       "         1.53059092e-07],\n",
       "        [2.31939541e-05, 3.90639581e-03, 9.59299807e-01, 3.62058081e-02,\n",
       "         3.39304264e-04, 1.49291498e-04, 6.18717281e-05, 1.38934843e-05,\n",
       "         4.33852762e-07],\n",
       "        [3.81602359e-12, 2.66502731e-07, 3.88804360e-02, 8.17854822e-01,\n",
       "         1.37151472e-01, 6.11298115e-03, 2.23662098e-08, 9.05586163e-13,\n",
       "         1.31654640e-13],\n",
       "        [5.28367192e-15, 1.87252885e-09, 1.67701132e-04, 6.31239650e-02,\n",
       "         9.14384656e-01, 2.23236760e-02, 1.99819867e-13, 1.36207282e-21,\n",
       "         7.03771152e-23],\n",
       "        [2.34408067e-17, 2.15537486e-10, 7.37873228e-05, 2.81349957e-03,\n",
       "         2.23236760e-02, 9.74789036e-01, 9.02619530e-10, 2.10700472e-19,\n",
       "         2.12218430e-23],\n",
       "        [1.13940050e-12, 2.96779779e-13, 3.05801016e-05, 1.02940481e-08,\n",
       "         1.99819867e-13, 9.02619530e-10, 9.99754064e-01, 2.15344228e-04,\n",
       "         3.17976682e-10],\n",
       "        [1.15846327e-08, 7.25166331e-10, 6.86685464e-06, 4.16796032e-13,\n",
       "         1.36207282e-21, 2.10700472e-19, 2.15344228e-04, 9.98180343e-01,\n",
       "         1.59743375e-03],\n",
       "        [7.56432246e-05, 4.66447583e-08, 2.14431727e-07, 6.05940481e-14,\n",
       "         7.03771152e-23, 2.12218430e-23, 3.17976682e-10, 1.59743375e-03,\n",
       "         9.98326662e-01]])"
      ]
     },
     "execution_count": 4,
     "metadata": {},
     "output_type": "execute_result"
    }
   ],
   "source": [
    "overlap_matrix_free"
   ]
  },
  {
   "cell_type": "code",
   "execution_count": 13,
   "metadata": {},
   "outputs": [],
   "source": [
    "import numpy as np\n",
    "n_windows = 11\n",
    "lambda_array = list(np.around(np.linspace(0, 1, int(n_windows)), decimals=5))\n",
    "lambda_list = [str(item) for item in lambda_array]\n",
    "\n",
    "lambda_array_bash = \" \".join(lambda_list)\n",
    "with open(\"test.dat\", \"w\") as file:\n",
    "    file.write(lambda_array_bash)"
   ]
  },
  {
   "cell_type": "code",
   "execution_count": 3,
   "metadata": {},
   "outputs": [
    {
     "name": "stdout",
     "output_type": "stream",
     "text": [
      "   ATOM atom_id name resname resid        X       Y       Z   num  zero  \\\n",
      "0  ATOM       1    N     GLU     1  -16.230  -5.653  12.548  0.00  0.00   \n",
      "1  ATOM       2   H1     GLU     1  -15.787  -6.381  12.805  0.23  0.00   \n",
      "2  ATOM       3   H2     GLU     1  -17.036  -5.649  12.925  0.23  0.00   \n",
      "3  ATOM       4   H3     GLU     1  -16.317  -5.657  11.662  0.23  0.00   \n",
      "4  ATOM       5   CA     GLU     1  -15.494  -4.464  12.960  0.05  0.00   \n",
      "\n",
      "  element  \n",
      "0       N  \n",
      "1       H  \n",
      "2       H  \n",
      "3       H  \n",
      "4       C  \n"
     ]
    },
    {
     "name": "stdout",
     "output_type": "stream",
     "text": [
      "\n",
      "==============================================================\n",
      "Sending anonymous Sire usage statistics to http://siremol.org.\n",
      "For more information, see http://siremol.org/analytics\n",
      "To disable, set the environment variable 'SIRE_DONT_PHONEHOME' to 1\n",
      "To see the information sent, set the environment variable \n",
      "SIRE_VERBOSE_PHONEHOME equal to 1. To silence this message, set\n",
      "the environment variable SIRE_SILENT_PHONEHOME to 1.\n",
      "==============================================================\n",
      "\n"
     ]
    }
   ],
   "source": [
    "columns = [\"ATOM\", \"atom_id\", \"name\", \"resname\", \"resid\", \"X\", \"Y\", \"Z\", \"num\", \"zero\", \"element\"]\n",
    "pdb = pd.read_csv(\"../vim_2/inputs/protein/protein_complex.pdb\", sep=\"\\s+\", skiprows=1, header=None, dtype=str, names=columns).dropna()\n",
    "print(pdb.head())\n",
    "\n",
    "pd_to_list = lambda column: pdb[column].tolist()\n",
    "atoms = pd_to_list(\"ATOM\")\n",
    "atom_ids = pd_to_list(\"atom_id\")\n",
    "atom_names = pd_to_list(\"name\")\n",
    "residue_names = pd_to_list(\"resname\")\n",
    "residue_ids = pd_to_list(\"resid\")\n",
    "x, y, z = pd_to_list(\"X\"), pd_to_list(\"Y\"), pd_to_list(\"Z\")\n",
    "numbers = pd_to_list(\"num\")\n",
    "zeros = pd_to_list(\"zero\")\n",
    "elements = pd_to_list(\"element\")"
   ]
  },
  {
   "cell_type": "code",
   "execution_count": 4,
   "metadata": {},
   "outputs": [
    {
     "name": "stdout",
     "output_type": "stream",
     "text": [
      "HD1\n",
      "HD1\n",
      "HD1\n",
      "HD1\n",
      "HD1\n",
      "HD1\n",
      "HD1\n",
      "HD1\n",
      "HD1\n",
      "HD1\n",
      "HD1\n",
      "HD1\n",
      "HD1\n",
      "HD1\n",
      "HD1\n",
      "HD1\n",
      "HD1\n",
      "HE1\n",
      "HE1\n",
      "HE1\n",
      "HE1\n",
      "HE1\n",
      "HE1\n",
      "HE1\n",
      "HE1\n",
      "HE1\n",
      "HE1\n",
      "HE1\n",
      "HE1\n",
      "HE1\n",
      "HE1\n",
      "HE1\n",
      "HE1\n",
      "HE1\n",
      "AP1\n",
      "AP1\n",
      "AP1\n",
      "AP1\n",
      "AP1\n",
      "AP1\n",
      "AP1\n",
      "AP1\n",
      "AP1\n",
      "AP1\n",
      "AP1\n",
      "AP1\n",
      "HD2\n",
      "HD2\n",
      "HD2\n",
      "HD2\n",
      "HD2\n",
      "HD2\n",
      "HD2\n",
      "HD2\n",
      "HD2\n",
      "HD2\n",
      "HD2\n",
      "HD2\n",
      "HD2\n",
      "HD2\n",
      "HD2\n",
      "HD2\n",
      "HD2\n",
      "CS1\n",
      "CS1\n",
      "CS1\n",
      "CS1\n",
      "CS1\n",
      "CS1\n",
      "CS1\n",
      "CS1\n",
      "CS1\n",
      "CS1\n",
      "HD3\n",
      "HD3\n",
      "HD3\n",
      "HD3\n",
      "HD3\n",
      "HD3\n",
      "HD3\n",
      "HD3\n",
      "HD3\n",
      "HD3\n",
      "HD3\n",
      "HD3\n",
      "HD3\n",
      "HD3\n",
      "HD3\n",
      "HD3\n",
      "HD3\n"
     ]
    }
   ],
   "source": [
    "active_site_df = pd.read_csv(\"../vim_2/inputs/protein/active_site.csv\", header=None, names=[\"resname\", \"resid\"], dtype=str)\n",
    "# print(active_site_df.head())\n",
    "\n",
    "active_site_resnames = active_site_df[\"resname\"].tolist()\n",
    "active_site_resids = active_site_df[\"resid\"].tolist()\n",
    "\n",
    "for i in range(len(active_site_resnames)):\n",
    "    for j in range(len(residue_ids)):\n",
    "        if residue_ids[j] == active_site_resids[i].strip():\n",
    "            residue_names[j] = active_site_resnames[i]\n",
    "            print(residue_names[j])"
   ]
  },
  {
   "cell_type": "code",
   "execution_count": 31,
   "metadata": {},
   "outputs": [],
   "source": [
    "complex_file = \"../vim_2/inputs/protein/protein_complex.pdb\"\n",
    "\n",
    "with open(\"test.pdb\", \"w\") as pdb:\n",
    "    for i in range(len(residue_names)):\n",
    "        pdb.write(f\"{atoms[i]:10}{atom_ids[i]:4}{atom_names[i]:4}{residue_names[i]:8}{residue_ids[i]:5}{x[i]:9}{y[i]}  {z[i]:9}\\n\")\n"
   ]
  },
  {
   "cell_type": "code",
   "execution_count": 48,
   "metadata": {},
   "outputs": [
    {
     "name": "stdout",
     "output_type": "stream",
     "text": [
      "Z N  \n"
     ]
    }
   ],
   "source": [
    "complex_file = \"../vim_2/inputs/protein/protein_complex.pdb\"\n",
    "with open(complex_file, \"r\") as pdb:\n",
    "    lines = pdb.readlines()\n",
    "\n",
    "n_zn = 0\n",
    "for line in lines:\n",
    "    if \"ZN\" in line:\n",
    "        n_zn += 1\n",
    "\n",
    "\n",
    "protein_terminus = [i for i in range(len(lines)) if \"ZN\" in lines[i]][0] - 1\n",
    "zn_line = protein_terminus+1\n",
    "ids = []\n",
    "for i in range(len(lines[zn_line])):\n",
    "    c = lines[zn_line][i]\n",
    "    if c == \"Z\":\n",
    "        ids.append(i)\n",
    "\n",
    "test = lines[zn_line]\n",
    "print(test[ids[1]], test[ids[1]+1], test[ids[1]+2])\n",
    "\n",
    "zn_terminus = protein_terminus + n_zn + 1\n",
    "conect = [i for i in range(len(lines)) if \"CONECT\" in lines[i]][0]\n",
    "with open(\"test.pdb\", \"w\") as test:\n",
    "    atom = \"ATOM\"\n",
    "    test.write(f\"{atom:10}1\")"
   ]
  },
  {
   "cell_type": "code",
   "execution_count": 4,
   "metadata": {},
   "outputs": [
    {
     "name": "stdout",
     "output_type": "stream",
     "text": [
      "HEADER                                                                          \n",
      "TITLE     A P9T 403                                                             \n",
      "HETATM    1  C02 P9T A 403     -34.220   3.393   8.083  1.00 30.69           C  \n",
      "HETATM    2  C03 P9T A 403     -33.874   4.740   8.102  1.00 27.72           C  \n",
      "HETATM    3  C04 P9T A 403     -34.884   5.693   8.127  1.00 23.83           C  \n",
      "HETATM    4  C05 P9T A 403     -34.646   7.058   7.483  1.00 20.13           C  \n",
      "HETATM    5  C10 P9T A 403     -36.192   5.293   8.463  1.00 29.34           C  \n",
      "HETATM    6  C11 P9T A 403     -37.204   6.225   8.768  1.00 33.81           C  \n",
      "HETATM    7  C13 P9T A 403     -38.480   5.782   9.094  1.00 33.91           C  \n",
      "HETATM    8  C14 P9T A 403     -38.759   4.419   9.121  1.00 35.18           C  \n"
     ]
    }
   ],
   "source": [
    "!head -n 10 ../vim_2/inputs/ligands/docked_8.pdb"
   ]
  },
  {
   "cell_type": "code",
   "execution_count": 10,
   "metadata": {},
   "outputs": [
    {
     "name": "stdout",
     "output_type": "stream",
     "text": [
      "['HEADER                                                                          \\n\\n', 'TITLE     TWB_D (1)                                                             \\n\\n', 'HETATM    1  C02   MOL     1      22.990  15.325   9.444  1.00  0.00           C  \\n\\n', 'HETATM    2  C03   MOL     1      21.947  16.051  10.102  1.00  0.00           C  \\n\\n', 'HETATM    3  C04   MOL     1      21.342  17.076   9.469  1.00  0.00           C  \\n\\n', 'HETATM    4  C05   MOL     1      20.231  17.792  10.209  1.00  0.00           C  \\n\\n', 'HETATM    5  C10   MOL     1      21.763  17.377   8.100  1.00  0.00           C  \\n\\n', 'HETATM    6  C11   MOL     1      21.178  18.394   7.333  1.00  0.00           C  \\n\\n', 'HETATM    7  C13   MOL     1      21.594  18.632   6.052  1.00  0.00           C  \\n\\n', 'HETATM    8  C14   MOL     1      22.605  17.867   5.495  1.00  0.00           C  \\n\\n', 'HETATM    9  C16   MOL     1      23.189  16.871   6.232  1.00  0.00           C \\n\\n', 'HETATM   10  C17   MOL     1      22.783  16.610   7.530  1.00  0.00           C \\n\\n', 'HETATM   11  F12   MOL     1      20.197  19.158   7.829  1.00  0.00           F  \\n\\n', 'HETATM   12  F15   MOL     1      23.010  18.101   4.240  1.00  0.00           F  \\n\\n', 'HETATM   13  O01   MOL     1      23.495  14.419  10.099  1.00  0.00           O \\n\\n', 'HETATM   14  O07   MOL     1      19.281  15.227  10.477  1.00  0.00           O1-\\n\\n', 'HETATM   15  O08   MOL     1      17.580  17.133  10.360  1.00  0.00           O   \\n\\n', 'HETATM   16  O09   MOL     1      18.994  16.819  12.452  1.00  0.00           O1-\\n\\n', 'HETATM   17  O18   MOL     1      23.414  15.600   8.188  1.00  0.00           O  \\n\\n', 'HETATM   18  P06   MOL     1      19.000  16.636  10.950  1.00  0.00           P  \\n\\n', 'HETATM   19  H052  MOL     1      19.758  18.397   9.568  1.00  0.00           H  \\n\\n', 'HETATM   20  H053  MOL     1      20.651  18.303  10.959  1.00  0.00           H  \\n\\n', 'HETATM   21  H03   MOL     1      21.667  15.798  11.029  1.00  0.00           H  \\n\\n', 'HETATM   22  H13   MOL     1      21.167  19.360   5.516  1.00  0.00           H  \\n\\n', 'HETATM   23  H16   MOL     1      23.920  16.322   5.825  1.00  0.00           H  \\n\\n', 'HETATM   24  H     MOL     1      17.568  18.132  10.241  1.00  0.00           H  \\n\\n', '\\n\\n', 'CONECT    1   2  13   17                                                      \\n\\n', 'CONECT    2   1   3   21\\n\\n', 'CONECT    3   2   4    5 \\n\\n', 'CONECT    4   3  18   19   20       \\n\\n', 'CONECT    5   3   6   10\\n\\n', 'CONECT    6   5   7   11   \\n\\n', 'CONECT    7   6   8   22\\n\\n', 'CONECT    8   7   9   12 \\n\\n', 'CONECT    9   8  10   23\\n\\n', 'CONECT   10   5   9   17 \\n\\n', 'CONECT   11   6\\n\\n', 'CONECT   12   8\\n\\n', 'CONECT   13   1\\n\\n', 'CONECT   14  18 \\n\\n', 'CONECT   15  18   24\\n\\n', 'CONECT   16  18\\n\\n', 'CONECT   17   1   10\\n\\n', 'CONECT   18   4   14  15   16   \\n\\n', 'CONECT   19   4                                                                \\n\\n', 'CONECT   20   4\\n\\n', 'CONECT   21   2\\n\\n', 'CONECT   22   7\\n\\n', 'CONECT   23   9\\n\\n', 'CONECT   24  15\\n\\n', 'MASTER        0    0    0    0    0    0    0    0   24    0   24    0          \\n\\n', 'END               \\n']\n"
     ]
    }
   ],
   "source": [
    "with open(\"../kpc2/inputs/ligands/docked_8_fixed.pdb\", \"r\") as pdb:\n",
    "    lines = pdb.readlines()\n",
    "    new_lines = [line+\"\\n\" for line in lines]\n",
    "print(new_lines)"
   ]
  },
  {
   "cell_type": "code",
   "execution_count": 6,
   "metadata": {},
   "outputs": [
    {
     "ename": "ValueError",
     "evalue": "Failed to construct topology from file ../kpc2/inputs/ligands/docked_8_fixed.pdb with parser <class 'MDAnalysis.topology.PDBParser.PDBParser'>.\nError: Formal charge C is unrecognized",
     "output_type": "error",
     "traceback": [
      "\u001b[0;31m---------------------------------------------------------------------------\u001b[0m",
      "\u001b[0;31mValueError\u001b[0m                                Traceback (most recent call last)",
      "File \u001b[0;32m~/Software/miniconda3/envs/sire/lib/python3.9/site-packages/MDAnalysis/core/universe.py:110\u001b[0m, in \u001b[0;36m_topology_from_file_like\u001b[0;34m(topology_file, topology_format, **kwargs)\u001b[0m\n\u001b[1;32m    109\u001b[0m     \u001b[39mwith\u001b[39;00m parser(topology_file) \u001b[39mas\u001b[39;00m p:\n\u001b[0;32m--> 110\u001b[0m         topology \u001b[39m=\u001b[39m p\u001b[39m.\u001b[39;49mparse(\u001b[39m*\u001b[39;49m\u001b[39m*\u001b[39;49mkwargs)\n\u001b[1;32m    111\u001b[0m \u001b[39mexcept\u001b[39;00m (\u001b[39mIOError\u001b[39;00m, \u001b[39mOSError\u001b[39;00m) \u001b[39mas\u001b[39;00m err:\n\u001b[1;32m    112\u001b[0m     \u001b[39m# There are 2 kinds of errors that might be raised here:\u001b[39;00m\n\u001b[1;32m    113\u001b[0m     \u001b[39m# one because the file isn't present\u001b[39;00m\n\u001b[1;32m    114\u001b[0m     \u001b[39m# or the permissions are bad, second when the parser fails\u001b[39;00m\n",
      "File \u001b[0;32m~/Software/miniconda3/envs/sire/lib/python3.9/site-packages/MDAnalysis/topology/PDBParser.py:207\u001b[0m, in \u001b[0;36mPDBParser.parse\u001b[0;34m(self, **kwargs)\u001b[0m\n\u001b[1;32m    201\u001b[0m \u001b[39m\"\"\"Parse atom information from PDB file\u001b[39;00m\n\u001b[1;32m    202\u001b[0m \n\u001b[1;32m    203\u001b[0m \u001b[39mReturns\u001b[39;00m\n\u001b[1;32m    204\u001b[0m \u001b[39m-------\u001b[39;00m\n\u001b[1;32m    205\u001b[0m \u001b[39mMDAnalysis Topology object\u001b[39;00m\n\u001b[1;32m    206\u001b[0m \u001b[39m\"\"\"\u001b[39;00m\n\u001b[0;32m--> 207\u001b[0m top \u001b[39m=\u001b[39m \u001b[39mself\u001b[39;49m\u001b[39m.\u001b[39;49m_parseatoms()\n\u001b[1;32m    209\u001b[0m \u001b[39mtry\u001b[39;00m:\n",
      "File \u001b[0;32m~/Software/miniconda3/envs/sire/lib/python3.9/site-packages/MDAnalysis/topology/PDBParser.py:367\u001b[0m, in \u001b[0;36mPDBParser._parseatoms\u001b[0;34m(self)\u001b[0m\n\u001b[1;32m    366\u001b[0m         errmsg \u001b[39m=\u001b[39m (\u001b[39mf\u001b[39m\u001b[39m\"\u001b[39m\u001b[39mFormal charge \u001b[39m\u001b[39m{\u001b[39;00mentry\u001b[39m}\u001b[39;00m\u001b[39m is unrecognized\u001b[39m\u001b[39m\"\u001b[39m)\n\u001b[0;32m--> 367\u001b[0m         \u001b[39mraise\u001b[39;00m \u001b[39mValueError\u001b[39;00m(errmsg)\n\u001b[1;32m    368\u001b[0m \u001b[39melse\u001b[39;00m:\n",
      "\u001b[0;31mValueError\u001b[0m: Formal charge C is unrecognized",
      "\nDuring handling of the above exception, another exception occurred:\n",
      "\u001b[0;31mValueError\u001b[0m                                Traceback (most recent call last)",
      "Cell \u001b[0;32mIn [6], line 1\u001b[0m\n\u001b[0;32m----> 1\u001b[0m lig \u001b[39m=\u001b[39m mda\u001b[39m.\u001b[39;49mUniverse(\u001b[39m\"\u001b[39;49m\u001b[39m../kpc2/inputs/ligands/docked_8_fixed.pdb\u001b[39;49m\u001b[39m\"\u001b[39;49m)\n\u001b[1;32m      2\u001b[0m \u001b[39m# atoms = lig.atoms\u001b[39;00m\n\u001b[1;32m      3\u001b[0m \u001b[39m# for i in range(len(atoms)):\u001b[39;00m\n\u001b[1;32m      4\u001b[0m \u001b[39m#     print(atoms[i].id, atoms[i].name)\u001b[39;00m\n\u001b[1;32m      5\u001b[0m view \u001b[39m=\u001b[39m nv\u001b[39m.\u001b[39mshow_mdanalysis(lig)\n",
      "File \u001b[0;32m~/Software/miniconda3/envs/sire/lib/python3.9/site-packages/MDAnalysis/core/universe.py:346\u001b[0m, in \u001b[0;36mUniverse.__init__\u001b[0;34m(self, topology, all_coordinates, format, topology_format, transformations, guess_bonds, vdwradii, in_memory, in_memory_step, *coordinates, **kwargs)\u001b[0m\n\u001b[1;32m    344\u001b[0m \u001b[39mif\u001b[39;00m \u001b[39mnot\u001b[39;00m \u001b[39misinstance\u001b[39m(topology, Topology) \u001b[39mand\u001b[39;00m \u001b[39mnot\u001b[39;00m topology \u001b[39mis\u001b[39;00m \u001b[39mNone\u001b[39;00m:\n\u001b[1;32m    345\u001b[0m     \u001b[39mself\u001b[39m\u001b[39m.\u001b[39mfilename \u001b[39m=\u001b[39m _check_file_like(topology)\n\u001b[0;32m--> 346\u001b[0m     topology \u001b[39m=\u001b[39m _topology_from_file_like(\u001b[39mself\u001b[39;49m\u001b[39m.\u001b[39;49mfilename,\n\u001b[1;32m    347\u001b[0m                                         topology_format\u001b[39m=\u001b[39;49mtopology_format,\n\u001b[1;32m    348\u001b[0m                                         \u001b[39m*\u001b[39;49m\u001b[39m*\u001b[39;49mkwargs)\n\u001b[1;32m    350\u001b[0m \u001b[39mif\u001b[39;00m topology \u001b[39mis\u001b[39;00m \u001b[39mnot\u001b[39;00m \u001b[39mNone\u001b[39;00m:\n\u001b[1;32m    351\u001b[0m     \u001b[39mself\u001b[39m\u001b[39m.\u001b[39m_topology \u001b[39m=\u001b[39m topology\n",
      "File \u001b[0;32m~/Software/miniconda3/envs/sire/lib/python3.9/site-packages/MDAnalysis/core/universe.py:125\u001b[0m, in \u001b[0;36m_topology_from_file_like\u001b[0;34m(topology_file, topology_format, **kwargs)\u001b[0m\n\u001b[1;32m    121\u001b[0m         \u001b[39mraise\u001b[39;00m \u001b[39mIOError\u001b[39;00m(\u001b[39m\"\u001b[39m\u001b[39mFailed to load from the topology file \u001b[39m\u001b[39m{0}\u001b[39;00m\u001b[39m\"\u001b[39m\n\u001b[1;32m    122\u001b[0m                         \u001b[39m\"\u001b[39m\u001b[39m with parser \u001b[39m\u001b[39m{1}\u001b[39;00m\u001b[39m.\u001b[39m\u001b[39m\\n\u001b[39;00m\u001b[39m\"\u001b[39m\n\u001b[1;32m    123\u001b[0m                         \u001b[39m\"\u001b[39m\u001b[39mError: \u001b[39m\u001b[39m{2}\u001b[39;00m\u001b[39m\"\u001b[39m\u001b[39m.\u001b[39mformat(topology_file, parser, err))\n\u001b[1;32m    124\u001b[0m \u001b[39mexcept\u001b[39;00m (\u001b[39mValueError\u001b[39;00m, \u001b[39mNotImplementedError\u001b[39;00m) \u001b[39mas\u001b[39;00m err:\n\u001b[0;32m--> 125\u001b[0m     \u001b[39mraise\u001b[39;00m \u001b[39mValueError\u001b[39;00m(\n\u001b[1;32m    126\u001b[0m         \u001b[39m\"\u001b[39m\u001b[39mFailed to construct topology from file \u001b[39m\u001b[39m{0}\u001b[39;00m\u001b[39m\"\u001b[39m\n\u001b[1;32m    127\u001b[0m         \u001b[39m\"\u001b[39m\u001b[39m with parser \u001b[39m\u001b[39m{1}\u001b[39;00m\u001b[39m.\u001b[39m\u001b[39m\\n\u001b[39;00m\u001b[39m\"\u001b[39m\n\u001b[1;32m    128\u001b[0m         \u001b[39m\"\u001b[39m\u001b[39mError: \u001b[39m\u001b[39m{2}\u001b[39;00m\u001b[39m\"\u001b[39m\u001b[39m.\u001b[39mformat(topology_file, parser, err))\n\u001b[1;32m    129\u001b[0m \u001b[39mreturn\u001b[39;00m topology\n",
      "\u001b[0;31mValueError\u001b[0m: Failed to construct topology from file ../kpc2/inputs/ligands/docked_8_fixed.pdb with parser <class 'MDAnalysis.topology.PDBParser.PDBParser'>.\nError: Formal charge C is unrecognized"
     ]
    }
   ],
   "source": [
    "lig = mda.Universe(\"../kpc2/inputs/ligands/docked_8_fixed.pdb\")\n",
    "# atoms = lig.atoms\n",
    "# for i in range(len(atoms)):\n",
    "#     print(atoms[i].id, atoms[i].name)\n",
    "view = nv.show_mdanalysis(lig)\n",
    "view"
   ]
  },
  {
   "cell_type": "code",
   "execution_count": 14,
   "metadata": {},
   "outputs": [
    {
     "data": {
      "application/vnd.jupyter.widget-view+json": {
       "model_id": "35fc82c4ba9c4a71a42866c8a93bc81b",
       "version_major": 2,
       "version_minor": 0
      },
      "text/plain": [
       "NGLWidget()"
      ]
     },
     "metadata": {},
     "output_type": "display_data"
    }
   ],
   "source": [
    "view.add"
   ]
  },
  {
   "cell_type": "code",
   "execution_count": null,
   "metadata": {},
   "outputs": [
    {
     "data": {
      "application/vnd.jupyter.widget-view+json": {
       "model_id": "9728b505b5fb48aa9a33e4ade1f09af4",
       "version_major": 2,
       "version_minor": 0
      },
      "text/plain": [
       "NGLWidget()"
      ]
     },
     "metadata": {},
     "output_type": "display_data"
    }
   ],
   "source": [
    "lig = mda.Universe(\"../vim_2/inputs/ligands/docked_8.pdb\")\n",
    "nv.show_mdanalysis(lig)"
   ]
  },
  {
   "cell_type": "code",
   "execution_count": 3,
   "metadata": {},
   "outputs": [
    {
     "data": {
      "application/vnd.jupyter.widget-view+json": {
       "model_id": "9728b505b5fb48aa9a33e4ade1f09af4",
       "version_major": 2,
       "version_minor": 0
      },
      "text/plain": [
       "NGLWidget()"
      ]
     },
     "metadata": {},
     "output_type": "display_data"
    }
   ],
   "source": [
    "lig = mda.Universe(\"../vim_2/inputs/ligands/docked_8.pdb\")\n",
    "nv.show_mdanalysis(lig)"
   ]
  },
  {
   "cell_type": "code",
   "execution_count": 2,
   "metadata": {},
   "outputs": [
    {
     "data": {
      "application/vnd.jupyter.widget-view+json": {
       "model_id": "53d2789b47094d679964737d5fc85f6e",
       "version_major": 2,
       "version_minor": 0
      },
      "text/plain": [
       "NGLWidget()"
      ]
     },
     "metadata": {},
     "output_type": "display_data"
    }
   ],
   "source": [
    "u = mda.Universe(\"../inputs/protein/vim2.gromacs.pdb\")\n",
    "lig = u.select_atoms(\"resname PT1\")\n",
    "v = nv.show_mdanalysis(lig)\n",
    "v"
   ]
  },
  {
   "cell_type": "code",
   "execution_count": 121,
   "metadata": {},
   "outputs": [
    {
     "name": "stdout",
     "output_type": "stream",
     "text": [
      "-0.7112999999999998\n"
     ]
    }
   ],
   "source": [
    "with open(\"../../md_vim2/outputs/parmed/pt1_dry.out\", \"r\") as file:\n",
    "    lines = file.readlines()\n",
    "\n",
    "for i in range(len(lines)):\n",
    "    if \"mask\" in lines[i]:\n",
    "        mask_line = i\n",
    "\n",
    "info = [line.split() for line in lines[mask_line:] if \"mask\" not in line][1:-2]\n",
    "column_headers = [element for element in info[0] if element != \"GB\" and element != \"LJ\"]\n",
    "df = pd.DataFrame(info[1:], columns=column_headers)\n",
    "net_charge_pt1 = df[\"Charge\"].astype(float).sum()\n"
   ]
  },
  {
   "cell_type": "code",
   "execution_count": 112,
   "metadata": {},
   "outputs": [
    {
     "name": "stdout",
     "output_type": "stream",
     "text": [
      "    ATOM  RES RESNAME  NAME TYPE At.#  Radius   Depth     Mass   Charge  \\\n",
      "0   3418  233     PT1   C02    c    6  1.8606  0.0988  12.0100   0.8294   \n",
      "1   3419  233     PT1   C03   cc    6  1.8606  0.0988  12.0100  -0.4941   \n",
      "2   3420  233     PT1   C04   cd    6  1.8606  0.0988  12.0100   0.2997   \n",
      "3   3421  233     PT1   C05   c3    6  1.9069  0.1078  12.0100  -0.3215   \n",
      "4   3422  233     PT1   C10   ca    6  1.8606  0.0988  12.0100  -0.3040   \n",
      "5   3423  233     PT1   C11   ca    6  1.8606  0.0988  12.0100   0.2951   \n",
      "6   3424  233     PT1   C13   ca    6  1.8606  0.0988  12.0100  -0.4058   \n",
      "7   3425  233     PT1   C14   ca    6  1.8606  0.0988  12.0100   0.4017   \n",
      "8   3426  233     PT1   C16   ca    6  1.8606  0.0988  12.0100  -0.4571   \n",
      "9   3427  233     PT1   C17   ca    6  1.8606  0.0988  12.0100   0.4785   \n",
      "10  3428  233     PT1   F12    f    9  1.7029  0.0832  19.0000  -0.1145   \n",
      "11  3429  233     PT1   F15    f    9  1.7029  0.0832  19.0000  -0.1347   \n",
      "12  3430  233     PT1   O01    o    8  1.7107  0.1463  16.0000  -0.5215   \n",
      "13  3431  233     PT1   O07   Y4    8  1.7107  0.1463  16.0000  -0.8909   \n",
      "14  3432  233     PT1   O08   Y8    8  1.7107  0.1463  16.0000  -0.7579   \n",
      "15  3433  233     PT1   O09   oh    8  1.8200  0.0930  16.0000  -0.5966   \n",
      "16  3434  233     PT1   O18   os    8  1.7713  0.0726  16.0000  -0.4136   \n",
      "17  3435  233     PT1   P06   p5   15  2.0732  0.2295  30.9700   1.1524   \n",
      "18  3436  233     PT1  H052   hc    1  1.4593  0.0208   1.0080   0.0936   \n",
      "19  3437  233     PT1  H053   hc    1  1.4593  0.0208   1.0080   0.0936   \n",
      "20  3438  233     PT1   H03   ha    1  1.4735  0.0161   1.0080   0.1731   \n",
      "21  3439  233     PT1   H13   ha    1  1.4735  0.0161   1.0080   0.2127   \n",
      "22  3440  233     PT1   H16   ha    1  1.4735  0.0161   1.0080   0.2344   \n",
      "23  3441  233     PT1    H1   ho    1  0.3019  0.0047   1.0080   0.4367   \n",
      "\n",
      "    Radius  Screen  \n",
      "0   1.7000  0.7200  \n",
      "1   1.7000  0.7200  \n",
      "2   1.7000  0.7200  \n",
      "3   1.7000  0.7200  \n",
      "4   1.7000  0.7200  \n",
      "5   1.7000  0.7200  \n",
      "6   1.7000  0.7200  \n",
      "7   1.7000  0.7200  \n",
      "8   1.7000  0.7200  \n",
      "9   1.7000  0.7200  \n",
      "10  1.5000  0.8800  \n",
      "11  1.5000  0.8800  \n",
      "12  1.5000  0.8500  \n",
      "13  1.5000  0.8500  \n",
      "14  1.5000  0.8500  \n",
      "15  1.5000  0.8500  \n",
      "16  1.5000  0.8500  \n",
      "17  1.8500  0.8600  \n",
      "18  1.3000  0.8500  \n",
      "19  1.3000  0.8500  \n",
      "20  1.3000  0.8500  \n",
      "21  1.3000  0.8500  \n",
      "22  1.3000  0.8500  \n",
      "23  0.8000  0.8500  \n"
     ]
    }
   ],
   "source": [
    "with open(\"../../md_vim2/outputs/pt1_parmed.out\", \"r\") as file:\n",
    "    lines = file.readlines()\n",
    "\n",
    "for i in range(len(lines)):\n",
    "    if \"mask\" in lines[i]:\n",
    "        mask_line = i\n",
    "\n",
    "info = [line.split() for line in lines[mask_line:] if \"mask\" not in line][1:-2]\n",
    "column_headers = [element for element in info[0] if element != \"GB\" and element != \"LJ\"]\n",
    "df = pd.DataFrame(info[1:], columns=column_headers)\n",
    "net_charge_pt1 = df[\"Charge\"].astype(float).sum()\n",
    "# net_charge_pt1\n",
    "print(df)"
   ]
  },
  {
   "cell_type": "code",
   "execution_count": 97,
   "metadata": {},
   "outputs": [
    {
     "data": {
      "text/plain": [
       "-0.3157999999999999"
      ]
     },
     "execution_count": 97,
     "metadata": {},
     "output_type": "execute_result"
    }
   ],
   "source": [
    "with open(\"../../md_vim2/outputs/cs1.out\", \"r\") as file:\n",
    "    lines = file.readlines()\n",
    "\n",
    "for i in range(len(lines)):\n",
    "    if \"mask\" in lines[i]:\n",
    "        mask_line = i\n",
    "\n",
    "info = [line.split() for line in lines[mask_line:] if \"mask\" not in line][1:-2]\n",
    "column_headers = [element for element in info[0] if element != \"GB\" and element != \"LJ\"]\n",
    "df = pd.DataFrame(info[1:], columns=column_headers)\n",
    "net_charge_cs1 = df[\"Charge\"].astype(float).sum()\n",
    "net_charge_cs1"
   ]
  },
  {
   "cell_type": "code",
   "execution_count": 106,
   "metadata": {},
   "outputs": [],
   "source": [
    "zn1 = 0.9916\n",
    "zn2 = 1.1071"
   ]
  },
  {
   "cell_type": "code",
   "execution_count": 98,
   "metadata": {},
   "outputs": [
    {
     "data": {
      "text/plain": [
       "-1.0270999999999997"
      ]
     },
     "execution_count": 98,
     "metadata": {},
     "output_type": "execute_result"
    }
   ],
   "source": []
  },
  {
   "cell_type": "code",
   "execution_count": 99,
   "metadata": {},
   "outputs": [
    {
     "data": {
      "text/plain": [
       "-0.36529999999999974"
      ]
     },
     "execution_count": 99,
     "metadata": {},
     "output_type": "execute_result"
    }
   ],
   "source": [
    "with open(\"../../md_vim2/outputs/ap1.out\", \"r\") as file:\n",
    "    lines = file.readlines()\n",
    "\n",
    "for i in range(len(lines)):\n",
    "    if \"mask\" in lines[i]:\n",
    "        mask_line = i\n",
    "\n",
    "info = [line.split() for line in lines[mask_line:] if \"mask\" not in line][1:-2]\n",
    "column_headers = [element for element in info[0] if element != \"GB\" and element != \"LJ\"]\n",
    "df = pd.DataFrame(info[1:], columns=column_headers)\n",
    "net_charge_ap1 = df[\"Charge\"].astype(float).sum()\n",
    "net_charge_ap1"
   ]
  },
  {
   "cell_type": "code",
   "execution_count": 103,
   "metadata": {},
   "outputs": [
    {
     "data": {
      "text/plain": [
       "0.41290000000000016"
      ]
     },
     "execution_count": 103,
     "metadata": {},
     "output_type": "execute_result"
    }
   ],
   "source": [
    "with open(\"../../md_vim2/outputs/hd3.out\", \"r\") as file:\n",
    "    lines = file.readlines()\n",
    "\n",
    "for i in range(len(lines)):\n",
    "    if \"mask\" in lines[i]:\n",
    "        mask_line = i\n",
    "\n",
    "info = [line.split() for line in lines[mask_line:] if \"mask\" not in line][1:-2]\n",
    "column_headers = [element for element in info[0] if element != \"GB\" and element != \"LJ\"]\n",
    "df = pd.DataFrame(info[1:], columns=column_headers)\n",
    "net_charge_hd3 = df[\"Charge\"].astype(float).sum()\n",
    "net_charge_hd3"
   ]
  },
  {
   "cell_type": "code",
   "execution_count": 111,
   "metadata": {},
   "outputs": [
    {
     "data": {
      "text/plain": [
       "-0.9794999999999993"
      ]
     },
     "execution_count": 111,
     "metadata": {},
     "output_type": "execute_result"
    }
   ],
   "source": [
    "net_charge_cs1 + net_charge_ap1 + net_charge_hd3 + net_charge_pt1"
   ]
  },
  {
   "cell_type": "code",
   "execution_count": 113,
   "metadata": {},
   "outputs": [
    {
     "data": {
      "text/plain": [
       "1.3874000000000002"
      ]
     },
     "execution_count": 113,
     "metadata": {},
     "output_type": "execute_result"
    }
   ],
   "source": [
    "net_charge_pt1 + zn1 + zn2"
   ]
  },
  {
   "cell_type": "code",
   "execution_count": 114,
   "metadata": {},
   "outputs": [
    {
     "data": {
      "text/plain": [
       "-0.7112999999999998"
      ]
     },
     "execution_count": 114,
     "metadata": {},
     "output_type": "execute_result"
    }
   ],
   "source": [
    "net_charge_pt1"
   ]
  },
  {
   "cell_type": "code",
   "execution_count": 122,
   "metadata": {},
   "outputs": [
    {
     "data": {
      "text/plain": [
       "0.0000e+00 |e|"
      ]
     },
     "execution_count": 122,
     "metadata": {},
     "output_type": "execute_result"
    }
   ],
   "source": [
    "pt = bss.IO.readMolecules(\"../inputs/ligands/ligand_8_xtal.sdf\")\n",
    "pt.charge()"
   ]
  },
  {
   "cell_type": "code",
   "execution_count": 153,
   "metadata": {},
   "outputs": [
    {
     "data": {
      "text/plain": [
       "array([[25.556 , 27.158 , 39.628 ],\n",
       "       [25.902 , 28.505 , 39.647 ],\n",
       "       [24.892 , 29.458 , 39.672 ],\n",
       "       [25.13  , 30.823 , 39.028 ],\n",
       "       [23.584 , 29.058 , 40.008 ],\n",
       "       [22.572 , 29.99  , 40.313 ],\n",
       "       [21.296 , 29.547 , 40.639 ],\n",
       "       [21.017 , 28.184 , 40.666 ],\n",
       "       [22.013 , 27.265 , 40.366 ],\n",
       "       [23.307 , 27.712 , 40.035 ],\n",
       "       [22.84  , 31.327 , 40.288 ],\n",
       "       [19.763 , 27.751 , 40.986 ],\n",
       "       [26.4   , 26.334 , 39.508 ],\n",
       "       [25.14  , 32.112 , 36.5881],\n",
       "       [26.306 , 29.941 , 36.692 ],\n",
       "       [23.842 , 30.02  , 36.724 ],\n",
       "       [24.268 , 26.785 , 39.745 ],\n",
       "       [25.103 , 30.719 , 37.17  ],\n",
       "       [24.416 , 31.455 , 39.33  ],\n",
       "       [26.02  , 31.172 , 39.322 ],\n",
       "       [26.863 , 28.783 , 39.643 ],\n",
       "       [20.577 , 30.208 , 40.854 ],\n",
       "       [21.812 , 26.286 , 40.385 ],\n",
       "       [23.031 , 30.585 , 36.911 ]], dtype=float32)"
      ]
     },
     "execution_count": 153,
     "metadata": {},
     "output_type": "execute_result"
    }
   ],
   "source": [
    "parm_u = mda.Universe(\"../inputs/protein/PT1.mol2\")\n",
    "xtal_u = mda.Universe(\"../inputs/ligands/ligand_8_xtal.mol2\")\n",
    "new_coords = xtal_u.atoms.positions\n",
    "new_univers = parm_u.load_new(new_coords)\n",
    "parm_u.atoms.positions"
   ]
  },
  {
   "cell_type": "code",
   "execution_count": 154,
   "metadata": {},
   "outputs": [
    {
     "data": {
      "text/plain": [
       "array([[25.556 , 27.158 , 39.628 ],\n",
       "       [25.902 , 28.505 , 39.647 ],\n",
       "       [24.892 , 29.458 , 39.672 ],\n",
       "       [25.13  , 30.823 , 39.028 ],\n",
       "       [23.584 , 29.058 , 40.008 ],\n",
       "       [22.572 , 29.99  , 40.313 ],\n",
       "       [21.296 , 29.547 , 40.639 ],\n",
       "       [21.017 , 28.184 , 40.666 ],\n",
       "       [22.013 , 27.265 , 40.366 ],\n",
       "       [23.307 , 27.712 , 40.035 ],\n",
       "       [22.84  , 31.327 , 40.288 ],\n",
       "       [19.763 , 27.751 , 40.986 ],\n",
       "       [26.4   , 26.334 , 39.508 ],\n",
       "       [25.14  , 32.112 , 36.5881],\n",
       "       [26.306 , 29.941 , 36.692 ],\n",
       "       [23.842 , 30.02  , 36.724 ],\n",
       "       [24.268 , 26.785 , 39.745 ],\n",
       "       [25.103 , 30.719 , 37.17  ],\n",
       "       [24.416 , 31.455 , 39.33  ],\n",
       "       [26.02  , 31.172 , 39.322 ],\n",
       "       [26.863 , 28.783 , 39.643 ],\n",
       "       [20.577 , 30.208 , 40.854 ],\n",
       "       [21.812 , 26.286 , 40.385 ],\n",
       "       [23.031 , 30.585 , 36.911 ]], dtype=float32)"
      ]
     },
     "execution_count": 154,
     "metadata": {},
     "output_type": "execute_result"
    }
   ],
   "source": [
    "new_univers.atoms.positions"
   ]
  },
  {
   "cell_type": "code",
   "execution_count": 148,
   "metadata": {},
   "outputs": [
    {
     "name": "stdout",
     "output_type": "stream",
     "text": [
      "< Timestep 0 >\n"
     ]
    }
   ],
   "source": [
    "\n"
   ]
  },
  {
   "cell_type": "code",
   "execution_count": 14,
   "metadata": {},
   "outputs": [
    {
     "name": "stdout",
     "output_type": "stream",
     "text": [
      "-0.12750000000000006\n"
     ]
    }
   ],
   "source": [
    "with open(\"../kpc2/inputs/ligands/docked_1.mol2\", \"r\") as file:\n",
    "    lines = file.readlines()\n",
    "\n",
    "atom_idx = [index for index in range(len(lines)) if \"ATOM\" in lines[index]][0]\n",
    "bond_idx = [index for index in range(len(lines)) if \"BOND\" in lines[index]][0]\n",
    "\n",
    "new_lines = lines[atom_idx+1:bond_idx]\n",
    "charges  = [float(line.split()[-1]) for line in new_lines]\n",
    "net_charge = sum(charges)\n",
    "print(net_charge)\n",
    "# info = [line.split() for line in lines[mask_line:] if \"mask\" not in line][1:-2]\n",
    "# column_headers = [element for element in info[0] if element != \"GB\" and element != \"LJ\"]\n",
    "# df = pd.DataFrame(info[1:], columns=column_headers)\n",
    "# net_charge_pt1 = df[\"Charge\"].astype(float).sum()"
   ]
  },
  {
   "cell_type": "code",
   "execution_count": null,
   "metadata": {},
   "outputs": [],
   "source": []
  }
 ],
 "metadata": {
  "kernelspec": {
   "display_name": "Python 3.9.13 ('bss-d')",
   "language": "python",
   "name": "python3"
  },
  "language_info": {
   "codemirror_mode": {
    "name": "ipython",
    "version": 3
   },
   "file_extension": ".py",
   "mimetype": "text/x-python",
   "name": "python",
   "nbconvert_exporter": "python",
   "pygments_lexer": "ipython3",
   "version": "3.9.16"
  },
  "orig_nbformat": 4,
  "vscode": {
   "interpreter": {
    "hash": "f81d097606b2934fa8d1922533f78f64a436eb4cf1588d61ff1c0b79a2076e9c"
   }
  }
 },
 "nbformat": 4,
 "nbformat_minor": 2
}
