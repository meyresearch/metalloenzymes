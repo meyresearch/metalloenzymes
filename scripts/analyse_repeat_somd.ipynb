{
 "cells": [
  {
   "cell_type": "code",
   "execution_count": 8,
   "metadata": {},
   "outputs": [],
   "source": [
    "import BioSimSpace as bss\n",
    "import glob\n",
    "import BioSimSpace._Exceptions"
   ]
  },
  {
   "cell_type": "code",
   "execution_count": 2,
   "metadata": {},
   "outputs": [],
   "source": [
    "somd_path = \"/home/jguven/projects/metalloenzymes/starmap/outputs/with_min/SOMD_\"\n",
    "repeats = [\"1\", \"2\", \"3\"]"
   ]
  },
  {
   "cell_type": "code",
   "execution_count": 3,
   "metadata": {},
   "outputs": [],
   "source": [
    "analysis_path = \"/home/jguven/projects/metalloenzymes/starmap/afe/\""
   ]
  },
  {
   "cell_type": "code",
   "execution_count": 15,
   "metadata": {},
   "outputs": [],
   "source": [
    "unbound_repeats, bound_repeats = [], []\n",
    "for repeat in repeats:\n",
    "    somd_folder = somd_path + repeat + \"/\"\n",
    "    analysis_file = analysis_path + \"somd_repeat_analysis_\" + repeat + \".txt\"\n",
    "    paths = sorted(glob.glob(somd_folder + \"*/\"))\n",
    "    unbound_pmfs, bound_pmfs = [], []\n",
    "    for path in paths:\n",
    "        unbound_pmfs.append(path)\n",
    "    unbound_repeats.append(unbound_pmfs)"
   ]
  },
  {
   "cell_type": "code",
   "execution_count": 19,
   "metadata": {},
   "outputs": [
    {
     "data": {
      "text/plain": [
       "(3, 15)"
      ]
     },
     "execution_count": 19,
     "metadata": {},
     "output_type": "execute_result"
    }
   ],
   "source": [
    "import numpy as np\n",
    "np.shape(unbound_repeats)"
   ]
  },
  {
   "cell_type": "code",
   "execution_count": 28,
   "metadata": {},
   "outputs": [
    {
     "name": "stdout",
     "output_type": "stream",
     "text": [
      "[(0.0, 0.0000e+00 kcal/mol, 0.0000e+00 kcal/mol), (0.1, 9.8240 kcal/mol, 0.0181 kcal/mol), (0.2, 19.0608 kcal/mol, 0.0309 kcal/mol), (0.3, 27.6404 kcal/mol, 0.0406 kcal/mol), (0.4, 35.6032 kcal/mol, 0.0481 kcal/mol), (0.5, 43.0259 kcal/mol, 0.0551 kcal/mol), (0.6, 49.9514 kcal/mol, 0.0622 kcal/mol), (0.7, 56.4925 kcal/mol, 0.0694 kcal/mol), (0.8, 62.8863 kcal/mol, 0.0773 kcal/mol), (0.9, 69.7960 kcal/mol, 0.0869 kcal/mol), (1.0, 78.8414 kcal/mol, 0.1005 kcal/mol)]\n",
      "[(0.0, 0.0000e+00 kcal/mol, 0.0000e+00 kcal/mol), (0.1, 5.4591 kcal/mol, 0.0112 kcal/mol), (0.2, 10.7912 kcal/mol, 0.0194 kcal/mol), (0.3, 15.9625 kcal/mol, 0.0257 kcal/mol), (0.4, 20.9443 kcal/mol, 0.0309 kcal/mol), (0.5, 25.7160 kcal/mol, 0.0352 kcal/mol), (0.6, 30.3086 kcal/mol, 0.0391 kcal/mol), (0.7, 34.8882 kcal/mol, 0.0433 kcal/mol), (0.8, 39.8150 kcal/mol, 0.0491 kcal/mol), (0.9, 45.6155 kcal/mol, 0.0590 kcal/mol), (1.0, 53.3450 kcal/mol, 0.0774 kcal/mol)]\n",
      "[(0.0, 0.0000e+00 kcal/mol, 0.0000e+00 kcal/mol), (0.1, 2.6089 kcal/mol, 0.0143 kcal/mol), (0.2, 5.0828 kcal/mol, 0.0243 kcal/mol), (0.3, 7.4117 kcal/mol, 0.0319 kcal/mol), (0.4, 9.6229 kcal/mol, 0.0381 kcal/mol), (0.5, 11.8413 kcal/mol, 0.0438 kcal/mol), (0.6, 14.1572 kcal/mol, 0.0496 kcal/mol), (0.7, 16.6028 kcal/mol, 0.0562 kcal/mol), (0.8, 19.2552 kcal/mol, 0.0636 kcal/mol), (0.9, 22.4360 kcal/mol, 0.0723 kcal/mol), (1.0, 26.7053 kcal/mol, 0.0845 kcal/mol)]\n",
      "SOMD free-energy analysis failed!\n",
      "[(0.0, 0.0000e+00 kcal/mol, 0.0000e+00 kcal/mol), (0.1, 7.9431 kcal/mol, 0.0293 kcal/mol), (0.2, 15.3724 kcal/mol, 0.0481 kcal/mol), (0.3, 22.2166 kcal/mol, 0.0610 kcal/mol), (0.4, 28.4398 kcal/mol, 0.0716 kcal/mol), (0.5, 34.0643 kcal/mol, 0.0804 kcal/mol), (0.6, 39.1302 kcal/mol, 0.0879 kcal/mol), (0.7, 43.6547 kcal/mol, 0.0955 kcal/mol), (0.8, 47.8614 kcal/mol, 0.1029 kcal/mol), (0.9, 52.2983 kcal/mol, 0.1120 kcal/mol), (1.0, 57.6635 kcal/mol, 0.1252 kcal/mol)]\n",
      "[(0.0, 0.0000e+00 kcal/mol, 0.0000e+00 kcal/mol), (0.1, 10.8829 kcal/mol, 0.0242 kcal/mol), (0.2, 21.8249 kcal/mol, 0.0398 kcal/mol), (0.3, 32.8007 kcal/mol, 0.0514 kcal/mol), (0.4, 43.8113 kcal/mol, 0.0606 kcal/mol), (0.5, 54.8647 kcal/mol, 0.0686 kcal/mol), (0.6, 65.9672 kcal/mol, 0.0756 kcal/mol), (0.7, 77.1870 kcal/mol, 0.0819 kcal/mol), (0.8, 88.4975 kcal/mol, 0.0878 kcal/mol), (0.9, 99.8885 kcal/mol, 0.0933 kcal/mol), (1.0, 111.4201 kcal/mol, 0.0985 kcal/mol)]\n",
      "[(0.0, 0.0000e+00 kcal/mol, 0.0000e+00 kcal/mol), (0.1, 6.4333 kcal/mol, 0.0089 kcal/mol), (0.2, 12.3131 kcal/mol, 0.0158 kcal/mol), (0.3, 17.6592 kcal/mol, 0.0208 kcal/mol), (0.4, 22.4763 kcal/mol, 0.0249 kcal/mol), (0.5, 26.7373 kcal/mol, 0.0285 kcal/mol), (0.6, 30.4500 kcal/mol, 0.0316 kcal/mol), (0.7, 33.5989 kcal/mol, 0.0345 kcal/mol), (0.8, 36.1470 kcal/mol, 0.0373 kcal/mol), (0.9, 38.0701 kcal/mol, 0.0400 kcal/mol), (1.0, 39.4045 kcal/mol, 0.0425 kcal/mol)]\n",
      "[(0.0, 0.0000e+00 kcal/mol, 0.0000e+00 kcal/mol), (0.1, 41.1239 kcal/mol, 0.0408 kcal/mol), (0.2, 79.3486 kcal/mol, 0.0552 kcal/mol), (0.3, 114.2128 kcal/mol, 0.0632 kcal/mol), (0.4, 145.3262 kcal/mol, 0.0691 kcal/mol), (0.5, 172.3674 kcal/mol, 0.0740 kcal/mol), (0.6, 195.2200 kcal/mol, 0.0784 kcal/mol), (0.7, 213.8523 kcal/mol, 0.0826 kcal/mol), (0.8, 228.2606 kcal/mol, 0.0868 kcal/mol), (0.9, 238.4850 kcal/mol, 0.0912 kcal/mol), (1.0, 244.6512 kcal/mol, 0.0960 kcal/mol)]\n",
      "[(0.0, 0.0000e+00 kcal/mol, 0.0000e+00 kcal/mol), (0.1, 4.9982 kcal/mol, 0.0518 kcal/mol), (0.2, 9.7977 kcal/mol, 0.0796 kcal/mol), (0.3, 14.5264 kcal/mol, 0.0979 kcal/mol), (0.4, 19.0557 kcal/mol, 0.1123 kcal/mol), (0.5, 23.3755 kcal/mol, 0.1249 kcal/mol), (0.6, 27.4658 kcal/mol, 0.1348 kcal/mol), (0.7, 31.4377 kcal/mol, 0.1439 kcal/mol), (0.8, 35.1090 kcal/mol, 0.1515 kcal/mol), (0.9, 38.5430 kcal/mol, 0.1582 kcal/mol), (1.0, 41.8226 kcal/mol, 0.1642 kcal/mol)]\n",
      "[(0.0, 0.0000e+00 kcal/mol, 0.0000e+00 kcal/mol), (0.1, 3.5065 kcal/mol, 0.0068 kcal/mol), (0.2, 7.2282 kcal/mol, 0.0102 kcal/mol), (0.3, 10.4560 kcal/mol, 0.0137 kcal/mol), (0.4, 13.3926 kcal/mol, 0.0164 kcal/mol), (0.5, 16.0161 kcal/mol, 0.0188 kcal/mol), (0.6, 18.3410 kcal/mol, 0.0208 kcal/mol), (0.7, 20.5142 kcal/mol, 0.0230 kcal/mol), (0.8, 22.8765 kcal/mol, 0.0261 kcal/mol), (0.9, 25.9446 kcal/mol, 0.0311 kcal/mol), (1.0, 30.7297 kcal/mol, 0.0394 kcal/mol)]\n",
      "[(0.0, 0.0000e+00 kcal/mol, 0.0000e+00 kcal/mol), (0.1, 6.4498 kcal/mol, 0.0324 kcal/mol), (0.2, 12.7199 kcal/mol, 0.0520 kcal/mol), (0.3, 18.8797 kcal/mol, 0.0646 kcal/mol), (0.4, 24.8817 kcal/mol, 0.0751 kcal/mol), (0.5, 30.6445 kcal/mol, 0.0838 kcal/mol), (0.6, 36.2061 kcal/mol, 0.0912 kcal/mol), (0.7, 41.5823 kcal/mol, 0.0976 kcal/mol), (0.8, 46.8920 kcal/mol, 0.1035 kcal/mol), (0.9, 52.3235 kcal/mol, 0.1093 kcal/mol), (1.0, 58.1129 kcal/mol, 0.1159 kcal/mol)]\n",
      "[(0.0, 0.0000e+00 kcal/mol, 0.0000e+00 kcal/mol), (0.1, 6.5822 kcal/mol, 0.0171 kcal/mol), (0.2, 12.8766 kcal/mol, 0.0288 kcal/mol), (0.3, 18.8882 kcal/mol, 0.0378 kcal/mol), (0.4, 24.6064 kcal/mol, 0.0449 kcal/mol), (0.5, 30.0138 kcal/mol, 0.0512 kcal/mol), (0.6, 35.0951 kcal/mol, 0.0568 kcal/mol), (0.7, 39.8806 kcal/mol, 0.0620 kcal/mol), (0.8, 44.4564 kcal/mol, 0.0672 kcal/mol), (0.9, 49.0151 kcal/mol, 0.0728 kcal/mol), (1.0, 53.8104 kcal/mol, 0.0803 kcal/mol)]\n",
      "[(0.0, 0.0000e+00 kcal/mol, 0.0000e+00 kcal/mol), (0.1, 8.8275 kcal/mol, 0.0275 kcal/mol), (0.2, 16.7017 kcal/mol, 0.0461 kcal/mol), (0.3, 22.6737 kcal/mol, 0.0633 kcal/mol), (0.4, 27.6973 kcal/mol, 0.0742 kcal/mol), (0.5, 32.6147 kcal/mol, 0.0883 kcal/mol), (0.6, 37.2609 kcal/mol, 0.0968 kcal/mol), (0.7, 42.7786 kcal/mol, 0.1120 kcal/mol), (0.8, 48.1713 kcal/mol, 0.1305 kcal/mol), (0.9, 52.4532 kcal/mol, 0.1425 kcal/mol), (1.0, 55.8010 kcal/mol, 0.1524 kcal/mol)]\n",
      "[(0.0, 0.0000e+00 kcal/mol, 0.0000e+00 kcal/mol), (0.1, 9.5346 kcal/mol, 0.0113 kcal/mol), (0.2, 18.3142 kcal/mol, 0.0194 kcal/mol), (0.3, 26.3561 kcal/mol, 0.0274 kcal/mol), (0.4, 33.6326 kcal/mol, 0.0336 kcal/mol), (0.5, 40.1718 kcal/mol, 0.0387 kcal/mol), (0.6, 45.9502 kcal/mol, 0.0432 kcal/mol), (0.7, 51.0245 kcal/mol, 0.0472 kcal/mol), (0.8, 55.4615 kcal/mol, 0.0511 kcal/mol), (0.9, 59.4311 kcal/mol, 0.0550 kcal/mol), (1.0, 63.1609 kcal/mol, 0.0593 kcal/mol)]\n",
      "[(0.0, 0.0000e+00 kcal/mol, 0.0000e+00 kcal/mol), (0.1, 2.4184 kcal/mol, 0.0069 kcal/mol), (0.2, 4.8105 kcal/mol, 0.0123 kcal/mol), (0.3, 7.1562 kcal/mol, 0.0167 kcal/mol), (0.4, 9.4438 kcal/mol, 0.0203 kcal/mol), (0.5, 11.6634 kcal/mol, 0.0234 kcal/mol), (0.6, 13.8124 kcal/mol, 0.0261 kcal/mol), (0.7, 15.9185 kcal/mol, 0.0286 kcal/mol), (0.8, 18.0793 kcal/mol, 0.0312 kcal/mol), (0.9, 20.4787 kcal/mol, 0.0347 kcal/mol), (1.0, 23.4175 kcal/mol, 0.0405 kcal/mol)]\n",
      "[(0.0, 0.0000e+00 kcal/mol, 0.0000e+00 kcal/mol), (0.1, 9.8036 kcal/mol, 0.0185 kcal/mol), (0.2, 19.0206 kcal/mol, 0.0313 kcal/mol), (0.3, 27.6193 kcal/mol, 0.0408 kcal/mol), (0.4, 35.5670 kcal/mol, 0.0489 kcal/mol), (0.5, 42.9606 kcal/mol, 0.0557 kcal/mol), (0.6, 49.8981 kcal/mol, 0.0627 kcal/mol), (0.7, 56.4316 kcal/mol, 0.0700 kcal/mol), (0.8, 62.8411 kcal/mol, 0.0780 kcal/mol), (0.9, 69.7823 kcal/mol, 0.0876 kcal/mol), (1.0, 78.8687 kcal/mol, 0.1031 kcal/mol)]\n",
      "[(0.0, 0.0000e+00 kcal/mol, 0.0000e+00 kcal/mol), (0.1, 5.4489 kcal/mol, 0.0106 kcal/mol), (0.2, 10.7699 kcal/mol, 0.0185 kcal/mol), (0.3, 15.9192 kcal/mol, 0.0247 kcal/mol), (0.4, 20.8818 kcal/mol, 0.0295 kcal/mol), (0.5, 25.6498 kcal/mol, 0.0335 kcal/mol), (0.6, 30.2467 kcal/mol, 0.0372 kcal/mol), (0.7, 34.8254 kcal/mol, 0.0411 kcal/mol), (0.8, 39.7613 kcal/mol, 0.0466 kcal/mol), (0.9, 45.6311 kcal/mol, 0.0564 kcal/mol), (1.0, 53.3180 kcal/mol, 0.0733 kcal/mol)]\n",
      "[(0.0, 0.0000e+00 kcal/mol, 0.0000e+00 kcal/mol), (0.1, 2.5718 kcal/mol, 0.0139 kcal/mol), (0.2, 5.0012 kcal/mol, 0.0235 kcal/mol), (0.3, 7.2965 kcal/mol, 0.0306 kcal/mol), (0.4, 9.4868 kcal/mol, 0.0365 kcal/mol), (0.5, 11.6990 kcal/mol, 0.0418 kcal/mol), (0.6, 13.9980 kcal/mol, 0.0476 kcal/mol), (0.7, 16.3884 kcal/mol, 0.0538 kcal/mol), (0.8, 19.0374 kcal/mol, 0.0606 kcal/mol), (0.9, 22.2423 kcal/mol, 0.0691 kcal/mol), (1.0, 26.4568 kcal/mol, 0.0802 kcal/mol)]\n",
      "SOMD free-energy analysis failed!\n",
      "[(0.0, 0.0000e+00 kcal/mol, 0.0000e+00 kcal/mol), (0.1, 7.9533 kcal/mol, 0.0303 kcal/mol), (0.2, 15.3390 kcal/mol, 0.0486 kcal/mol), (0.3, 22.1945 kcal/mol, 0.0612 kcal/mol), (0.4, 28.4584 kcal/mol, 0.0718 kcal/mol), (0.5, 34.1135 kcal/mol, 0.0806 kcal/mol), (0.6, 39.1776 kcal/mol, 0.0885 kcal/mol), (0.7, 43.6594 kcal/mol, 0.0960 kcal/mol), (0.8, 47.8965 kcal/mol, 0.1033 kcal/mol), (0.9, 52.3484 kcal/mol, 0.1128 kcal/mol), (1.0, 57.6727 kcal/mol, 0.1261 kcal/mol)]\n",
      "[(0.0, 0.0000e+00 kcal/mol, 0.0000e+00 kcal/mol), (0.1, 10.8852 kcal/mol, 0.0283 kcal/mol), (0.2, 21.7802 kcal/mol, 0.0472 kcal/mol), (0.3, 32.7373 kcal/mol, 0.0601 kcal/mol), (0.4, 43.7750 kcal/mol, 0.0708 kcal/mol), (0.5, 54.8069 kcal/mol, 0.0805 kcal/mol), (0.6, 65.8921 kcal/mol, 0.0886 kcal/mol), (0.7, 77.0934 kcal/mol, 0.0959 kcal/mol), (0.8, 88.4184 kcal/mol, 0.1027 kcal/mol), (0.9, 99.8635 kcal/mol, 0.1091 kcal/mol), (1.0, 111.4011 kcal/mol, 0.1155 kcal/mol)]\n",
      "[(0.0, 0.0000e+00 kcal/mol, 0.0000e+00 kcal/mol), (0.1, 6.4480 kcal/mol, 0.0190 kcal/mol), (0.2, 12.3099 kcal/mol, 0.0318 kcal/mol), (0.3, 17.6203 kcal/mol, 0.0410 kcal/mol), (0.4, 22.3791 kcal/mol, 0.0484 kcal/mol), (0.5, 26.6247 kcal/mol, 0.0548 kcal/mol), (0.6, 30.3193 kcal/mol, 0.0607 kcal/mol), (0.7, 33.4528 kcal/mol, 0.0660 kcal/mol), (0.8, 36.0239 kcal/mol, 0.0711 kcal/mol), (0.9, 37.9599 kcal/mol, 0.0762 kcal/mol), (1.0, 39.2670 kcal/mol, 0.0812 kcal/mol)]\n",
      "[(0.0, 0.0000e+00 kcal/mol, 0.0000e+00 kcal/mol), (0.1, 41.2169 kcal/mol, 0.0456 kcal/mol), (0.2, 79.4312 kcal/mol, 0.0627 kcal/mol), (0.3, 114.2748 kcal/mol, 0.0720 kcal/mol), (0.4, 145.3550 kcal/mol, 0.0784 kcal/mol), (0.5, 172.4192 kcal/mol, 0.0839 kcal/mol), (0.6, 195.2985 kcal/mol, 0.0890 kcal/mol), (0.7, 213.9521 kcal/mol, 0.0938 kcal/mol), (0.8, 228.3995 kcal/mol, 0.0985 kcal/mol), (0.9, 238.6446 kcal/mol, 0.1036 kcal/mol), (1.0, 244.7942 kcal/mol, 0.1093 kcal/mol)]\n",
      "[(0.0, 0.0000e+00 kcal/mol, 0.0000e+00 kcal/mol), (0.1, 5.0286 kcal/mol, 0.0498 kcal/mol), (0.2, 9.8497 kcal/mol, 0.0733 kcal/mol), (0.3, 14.4663 kcal/mol, 0.0896 kcal/mol), (0.4, 18.9207 kcal/mol, 0.1019 kcal/mol), (0.5, 23.1850 kcal/mol, 0.1127 kcal/mol), (0.6, 27.2997 kcal/mol, 0.1217 kcal/mol), (0.7, 31.1611 kcal/mol, 0.1297 kcal/mol), (0.8, 34.7621 kcal/mol, 0.1364 kcal/mol), (0.9, 38.1844 kcal/mol, 0.1426 kcal/mol), (1.0, 41.3762 kcal/mol, 0.1479 kcal/mol)]\n",
      "[(0.0, 0.0000e+00 kcal/mol, 0.0000e+00 kcal/mol), (0.1, 3.7342 kcal/mol, 0.0119 kcal/mol), (0.2, 7.2417 kcal/mol, 0.0207 kcal/mol), (0.3, 10.4711 kcal/mol, 0.0274 kcal/mol), (0.4, 13.4023 kcal/mol, 0.0327 kcal/mol), (0.5, 16.0187 kcal/mol, 0.0371 kcal/mol), (0.6, 18.3374 kcal/mol, 0.0412 kcal/mol), (0.7, 20.5101 kcal/mol, 0.0454 kcal/mol), (0.8, 22.8796 kcal/mol, 0.0512 kcal/mol), (0.9, 25.9493 kcal/mol, 0.0611 kcal/mol), (1.0, 30.7121 kcal/mol, 0.0771 kcal/mol)]\n",
      "[(0.0, 0.0000e+00 kcal/mol, 0.0000e+00 kcal/mol), (0.1, 6.5733 kcal/mol, 0.0299 kcal/mol), (0.2, 12.9234 kcal/mol, 0.0478 kcal/mol), (0.3, 19.0709 kcal/mol, 0.0600 kcal/mol), (0.4, 25.0024 kcal/mol, 0.0696 kcal/mol), (0.5, 30.7336 kcal/mol, 0.0774 kcal/mol), (0.6, 36.2864 kcal/mol, 0.0840 kcal/mol), (0.7, 41.6527 kcal/mol, 0.0900 kcal/mol), (0.8, 46.9186 kcal/mol, 0.0953 kcal/mol), (0.9, 52.3012 kcal/mol, 0.1006 kcal/mol), (1.0, 58.1331 kcal/mol, 0.1063 kcal/mol)]\n",
      "[(0.0, 0.0000e+00 kcal/mol, 0.0000e+00 kcal/mol), (0.1, 6.6050 kcal/mol, 0.0135 kcal/mol), (0.2, 12.9321 kcal/mol, 0.0233 kcal/mol), (0.3, 18.9686 kcal/mol, 0.0306 kcal/mol), (0.4, 24.6962 kcal/mol, 0.0366 kcal/mol), (0.5, 30.1011 kcal/mol, 0.0417 kcal/mol), (0.6, 35.1752 kcal/mol, 0.0464 kcal/mol), (0.7, 39.9665 kcal/mol, 0.0505 kcal/mol), (0.8, 44.5717 kcal/mol, 0.0546 kcal/mol), (0.9, 49.1307 kcal/mol, 0.0594 kcal/mol), (1.0, 53.9092 kcal/mol, 0.0654 kcal/mol)]\n",
      "[(0.0, 0.0000e+00 kcal/mol, 0.0000e+00 kcal/mol), (0.1, 8.8599 kcal/mol, 0.0292 kcal/mol), (0.2, 16.6902 kcal/mol, 0.0495 kcal/mol), (0.3, 22.6310 kcal/mol, 0.0678 kcal/mol), (0.4, 27.5380 kcal/mol, 0.0789 kcal/mol), (0.5, 32.4739 kcal/mol, 0.0938 kcal/mol), (0.6, 37.1244 kcal/mol, 0.1027 kcal/mol), (0.7, 42.6404 kcal/mol, 0.1179 kcal/mol), (0.8, 47.9184 kcal/mol, 0.1371 kcal/mol), (0.9, 52.1223 kcal/mol, 0.1486 kcal/mol), (1.0, 55.4789 kcal/mol, 0.1584 kcal/mol)]\n",
      "[(0.0, 0.0000e+00 kcal/mol, 0.0000e+00 kcal/mol), (0.1, 9.5983 kcal/mol, 0.0296 kcal/mol), (0.2, 18.4213 kcal/mol, 0.0478 kcal/mol), (0.3, 26.4349 kcal/mol, 0.0605 kcal/mol), (0.4, 33.7036 kcal/mol, 0.0706 kcal/mol), (0.5, 40.2133 kcal/mol, 0.0792 kcal/mol), (0.6, 45.9066 kcal/mol, 0.0874 kcal/mol), (0.7, 50.9081 kcal/mol, 0.0941 kcal/mol), (0.8, 55.3520 kcal/mol, 0.1008 kcal/mol), (0.9, 59.3575 kcal/mol, 0.1079 kcal/mol), (1.0, 63.0178 kcal/mol, 0.1155 kcal/mol)]\n",
      "[(0.0, 0.0000e+00 kcal/mol, 0.0000e+00 kcal/mol), (0.1, 2.4250 kcal/mol, 0.0070 kcal/mol), (0.2, 4.8180 kcal/mol, 0.0123 kcal/mol), (0.3, 7.1664 kcal/mol, 0.0165 kcal/mol), (0.4, 9.4587 kcal/mol, 0.0200 kcal/mol), (0.5, 11.6819 kcal/mol, 0.0231 kcal/mol), (0.6, 13.8334 kcal/mol, 0.0257 kcal/mol), (0.7, 15.9436 kcal/mol, 0.0281 kcal/mol), (0.8, 18.1092 kcal/mol, 0.0307 kcal/mol), (0.9, 20.5132 kcal/mol, 0.0341 kcal/mol), (1.0, 23.4388 kcal/mol, 0.0399 kcal/mol)]\n",
      "[(0.0, 0.0000e+00 kcal/mol, 0.0000e+00 kcal/mol), (0.1, 9.8086 kcal/mol, 0.0193 kcal/mol), (0.2, 19.0415 kcal/mol, 0.0327 kcal/mol), (0.3, 27.6450 kcal/mol, 0.0430 kcal/mol), (0.4, 35.5946 kcal/mol, 0.0513 kcal/mol), (0.5, 42.9959 kcal/mol, 0.0585 kcal/mol), (0.6, 49.9691 kcal/mol, 0.0658 kcal/mol), (0.7, 56.5362 kcal/mol, 0.0736 kcal/mol), (0.8, 62.9925 kcal/mol, 0.0819 kcal/mol), (0.9, 69.9569 kcal/mol, 0.0922 kcal/mol), (1.0, 79.0305 kcal/mol, 0.1083 kcal/mol)]\n",
      "[(0.0, 0.0000e+00 kcal/mol, 0.0000e+00 kcal/mol), (0.1, 5.4591 kcal/mol, 0.0114 kcal/mol), (0.2, 10.7808 kcal/mol, 0.0196 kcal/mol), (0.3, 15.9302 kcal/mol, 0.0260 kcal/mol), (0.4, 20.8814 kcal/mol, 0.0311 kcal/mol), (0.5, 25.6178 kcal/mol, 0.0355 kcal/mol), (0.6, 30.1713 kcal/mol, 0.0394 kcal/mol), (0.7, 34.7125 kcal/mol, 0.0434 kcal/mol), (0.8, 39.6475 kcal/mol, 0.0489 kcal/mol), (0.9, 45.5001 kcal/mol, 0.0591 kcal/mol), (1.0, 53.1660 kcal/mol, 0.0765 kcal/mol)]\n",
      "[(0.0, 0.0000e+00 kcal/mol, 0.0000e+00 kcal/mol), (0.1, 2.6119 kcal/mol, 0.0135 kcal/mol), (0.2, 5.0888 kcal/mol, 0.0232 kcal/mol), (0.3, 7.4172 kcal/mol, 0.0305 kcal/mol), (0.4, 9.6202 kcal/mol, 0.0365 kcal/mol), (0.5, 11.8402 kcal/mol, 0.0417 kcal/mol), (0.6, 14.1717 kcal/mol, 0.0475 kcal/mol), (0.7, 16.6198 kcal/mol, 0.0539 kcal/mol), (0.8, 19.2733 kcal/mol, 0.0607 kcal/mol), (0.9, 22.4961 kcal/mol, 0.0689 kcal/mol), (1.0, 26.6915 kcal/mol, 0.0803 kcal/mol)]\n",
      "SOMD free-energy analysis failed!\n",
      "[(0.0, 0.0000e+00 kcal/mol, 0.0000e+00 kcal/mol), (0.1, 7.9792 kcal/mol, 0.0272 kcal/mol), (0.2, 15.3852 kcal/mol, 0.0441 kcal/mol), (0.3, 22.2347 kcal/mol, 0.0556 kcal/mol), (0.4, 28.4861 kcal/mol, 0.0652 kcal/mol), (0.5, 34.1167 kcal/mol, 0.0732 kcal/mol), (0.6, 39.1506 kcal/mol, 0.0803 kcal/mol), (0.7, 43.6544 kcal/mol, 0.0870 kcal/mol), (0.8, 47.8838 kcal/mol, 0.0937 kcal/mol), (0.9, 52.2640 kcal/mol, 0.1019 kcal/mol), (1.0, 57.6641 kcal/mol, 0.1143 kcal/mol)]\n",
      "[(0.0, 0.0000e+00 kcal/mol, 0.0000e+00 kcal/mol), (0.1, 10.8857 kcal/mol, 0.0236 kcal/mol), (0.2, 21.8097 kcal/mol, 0.0394 kcal/mol), (0.3, 32.7957 kcal/mol, 0.0504 kcal/mol), (0.4, 43.8205 kcal/mol, 0.0596 kcal/mol), (0.5, 54.8676 kcal/mol, 0.0675 kcal/mol), (0.6, 65.9445 kcal/mol, 0.0745 kcal/mol), (0.7, 77.0993 kcal/mol, 0.0808 kcal/mol), (0.8, 88.3559 kcal/mol, 0.0864 kcal/mol), (0.9, 99.7625 kcal/mol, 0.0918 kcal/mol), (1.0, 111.3044 kcal/mol, 0.0969 kcal/mol)]\n",
      "[(0.0, 0.0000e+00 kcal/mol, 0.0000e+00 kcal/mol), (0.1, 6.4430 kcal/mol, 0.0194 kcal/mol), (0.2, 12.3405 kcal/mol, 0.0326 kcal/mol), (0.3, 17.6974 kcal/mol, 0.0424 kcal/mol), (0.4, 22.5103 kcal/mol, 0.0503 kcal/mol), (0.5, 26.7663 kcal/mol, 0.0572 kcal/mol), (0.6, 30.4913 kcal/mol, 0.0632 kcal/mol), (0.7, 33.6346 kcal/mol, 0.0691 kcal/mol), (0.8, 36.2072 kcal/mol, 0.0743 kcal/mol), (0.9, 38.1776 kcal/mol, 0.0796 kcal/mol), (1.0, 39.4877 kcal/mol, 0.0849 kcal/mol)]\n",
      "[(0.0, 0.0000e+00 kcal/mol, 0.0000e+00 kcal/mol), (0.1, 41.1657 kcal/mol, 0.0461 kcal/mol), (0.2, 79.2738 kcal/mol, 0.0622 kcal/mol), (0.3, 114.0892 kcal/mol, 0.0712 kcal/mol), (0.4, 145.1733 kcal/mol, 0.0774 kcal/mol), (0.5, 172.2187 kcal/mol, 0.0830 kcal/mol), (0.6, 195.0247 kcal/mol, 0.0880 kcal/mol), (0.7, 213.6359 kcal/mol, 0.0924 kcal/mol), (0.8, 228.0724 kcal/mol, 0.0969 kcal/mol), (0.9, 238.2841 kcal/mol, 0.1020 kcal/mol), (1.0, 244.4219 kcal/mol, 0.1072 kcal/mol)]\n",
      "[(0.0, 0.0000e+00 kcal/mol, 0.0000e+00 kcal/mol), (0.1, 5.0463 kcal/mol, 0.0485 kcal/mol), (0.2, 9.8931 kcal/mol, 0.0727 kcal/mol), (0.3, 14.6312 kcal/mol, 0.0887 kcal/mol), (0.4, 19.2018 kcal/mol, 0.1022 kcal/mol), (0.5, 23.4151 kcal/mol, 0.1133 kcal/mol), (0.6, 27.5245 kcal/mol, 0.1222 kcal/mol), (0.7, 31.4871 kcal/mol, 0.1303 kcal/mol), (0.8, 35.1518 kcal/mol, 0.1376 kcal/mol), (0.9, 38.5135 kcal/mol, 0.1438 kcal/mol), (1.0, 41.7013 kcal/mol, 0.1492 kcal/mol)]\n",
      "[(0.0, 0.0000e+00 kcal/mol, 0.0000e+00 kcal/mol), (0.1, 3.7280 kcal/mol, 0.0118 kcal/mol), (0.2, 7.2357 kcal/mol, 0.0204 kcal/mol), (0.3, 10.4879 kcal/mol, 0.0268 kcal/mol), (0.4, 13.4577 kcal/mol, 0.0320 kcal/mol), (0.5, 16.1138 kcal/mol, 0.0364 kcal/mol), (0.6, 18.4641 kcal/mol, 0.0406 kcal/mol), (0.7, 20.6433 kcal/mol, 0.0450 kcal/mol), (0.8, 22.9947 kcal/mol, 0.0510 kcal/mol), (0.9, 26.0753 kcal/mol, 0.0604 kcal/mol), (1.0, 30.8795 kcal/mol, 0.0770 kcal/mol)]\n",
      "[(0.0, 0.0000e+00 kcal/mol, 0.0000e+00 kcal/mol), (0.1, 6.4346 kcal/mol, 0.0335 kcal/mol), (0.2, 12.7624 kcal/mol, 0.0526 kcal/mol), (0.3, 18.9351 kcal/mol, 0.0663 kcal/mol), (0.4, 24.8817 kcal/mol, 0.0771 kcal/mol), (0.5, 30.6485 kcal/mol, 0.0857 kcal/mol), (0.6, 36.1938 kcal/mol, 0.0934 kcal/mol), (0.7, 41.5964 kcal/mol, 0.0998 kcal/mol), (0.8, 46.9227 kcal/mol, 0.1059 kcal/mol), (0.9, 52.3127 kcal/mol, 0.1118 kcal/mol), (1.0, 58.1530 kcal/mol, 0.1182 kcal/mol)]\n",
      "[(0.0, 0.0000e+00 kcal/mol, 0.0000e+00 kcal/mol), (0.1, 6.6008 kcal/mol, 0.0141 kcal/mol), (0.2, 12.9132 kcal/mol, 0.0241 kcal/mol), (0.3, 18.9389 kcal/mol, 0.0315 kcal/mol), (0.4, 24.6652 kcal/mol, 0.0376 kcal/mol), (0.5, 30.0723 kcal/mol, 0.0428 kcal/mol), (0.6, 35.1633 kcal/mol, 0.0475 kcal/mol), (0.7, 39.9622 kcal/mol, 0.0518 kcal/mol), (0.8, 44.5608 kcal/mol, 0.0561 kcal/mol), (0.9, 49.1355 kcal/mol, 0.0610 kcal/mol), (1.0, 53.9137 kcal/mol, 0.0673 kcal/mol)]\n",
      "[(0.0, 0.0000e+00 kcal/mol, 0.0000e+00 kcal/mol), (0.1, 8.8116 kcal/mol, 0.0269 kcal/mol), (0.2, 16.6259 kcal/mol, 0.0457 kcal/mol), (0.3, 22.7166 kcal/mol, 0.0605 kcal/mol), (0.4, 27.9161 kcal/mol, 0.0716 kcal/mol), (0.5, 32.8235 kcal/mol, 0.0861 kcal/mol), (0.6, 37.4038 kcal/mol, 0.0949 kcal/mol), (0.7, 43.0212 kcal/mol, 0.1094 kcal/mol), (0.8, 48.4102 kcal/mol, 0.1280 kcal/mol), (0.9, 52.6860 kcal/mol, 0.1401 kcal/mol), (1.0, 56.0341 kcal/mol, 0.1488 kcal/mol)]\n",
      "[(0.0, 0.0000e+00 kcal/mol, 0.0000e+00 kcal/mol), (0.1, 9.5398 kcal/mol, 0.0307 kcal/mol), (0.2, 18.3309 kcal/mol, 0.0487 kcal/mol), (0.3, 26.3592 kcal/mol, 0.0618 kcal/mol), (0.4, 33.6371 kcal/mol, 0.0721 kcal/mol), (0.5, 40.1673 kcal/mol, 0.0810 kcal/mol), (0.6, 45.9550 kcal/mol, 0.0890 kcal/mol), (0.7, 50.9380 kcal/mol, 0.0965 kcal/mol), (0.8, 55.3416 kcal/mol, 0.1033 kcal/mol), (0.9, 59.2500 kcal/mol, 0.1105 kcal/mol), (1.0, 62.8960 kcal/mol, 0.1183 kcal/mol)]\n",
      "[(0.0, 0.0000e+00 kcal/mol, 0.0000e+00 kcal/mol), (0.1, 2.4233 kcal/mol, 0.0066 kcal/mol), (0.2, 4.8166 kcal/mol, 0.0116 kcal/mol), (0.3, 7.1623 kcal/mol, 0.0156 kcal/mol), (0.4, 9.4498 kcal/mol, 0.0190 kcal/mol), (0.5, 11.6703 kcal/mol, 0.0218 kcal/mol), (0.6, 13.8208 kcal/mol, 0.0243 kcal/mol), (0.7, 15.9286 kcal/mol, 0.0266 kcal/mol), (0.8, 18.0901 kcal/mol, 0.0291 kcal/mol), (0.9, 20.4918 kcal/mol, 0.0323 kcal/mol), (1.0, 23.4342 kcal/mol, 0.0378 kcal/mol)]\n"
     ]
    }
   ],
   "source": [
    "unbound_repeats, bound_repeats = [], []\n",
    "for repeat in repeats:\n",
    "    somd_folder = somd_path + repeat + \"/\"\n",
    "    analysis_file = analysis_path + \"somd_repeat_analysis_\" + repeat + \".txt\"\n",
    "    paths = sorted(glob.glob(somd_folder + \"*/\"))\n",
    "    unbound_pmfs, bound_pmfs = [], []\n",
    "    for path in paths:\n",
    "        ligand = path.split(\"/\")[-2]\n",
    "        unbound_directory = somd_folder + ligand + \"/unbound/\"\n",
    "        bound_directory = somd_folder + ligand + \"/bound/\"     \n",
    "        transformation = path.split(\"/\")[-2]\n",
    "        try:\n",
    "            pmf_unbound, overlap_matrix_unbound = bss.FreeEnergy.Relative.analyse(unbound_directory)\n",
    "            # unbound_pmfs.append(pmf_unbound)\n",
    "            pmf_bound, overlap_matrix_bound = bss.FreeEnergy.Relative.analyse(bound_directory)\n",
    "            # bound_pmfs.append(pmf_bound)\n",
    "            # print(pmf_unbound)\n",
    "            print(repeat)\n",
    "            print(path)\n",
    "        except BioSimSpace._Exceptions.AnalysisError as e:\n",
    "            print(e)   \n",
    "    # unbound_repeats.append(unbound_pmfs)\n",
    "    # bound_repeats.append(bound_pmfs)"
   ]
  },
  {
   "cell_type": "code",
   "execution_count": 27,
   "metadata": {},
   "outputs": [
    {
     "data": {
      "text/plain": [
       "(3, 15, 11, 3)"
      ]
     },
     "execution_count": 27,
     "metadata": {},
     "output_type": "execute_result"
    }
   ],
   "source": [
    "np.shape(unbound_repeats)"
   ]
  },
  {
   "cell_type": "code",
   "execution_count": 10,
   "metadata": {},
   "outputs": [
    {
     "name": "stdout",
     "output_type": "stream",
     "text": [
      "SOMD free-energy analysis failed!\n",
      "SOMD free-energy analysis failed!\n",
      "SOMD free-energy analysis failed!\n"
     ]
    }
   ],
   "source": [
    "# unbound_pmfs, bound_pmfs = [], []\n",
    "\n",
    "# for repeat in repeats:\n",
    "\n",
    "#     somd_folder = somd_path + repeat + \"/\"\n",
    "#     analysis_file = analysis_path + \"somd_repeat_analysis_\" + repeat + \".txt\"\n",
    "#     paths = sorted(glob.glob(somd_folder + \"*/\"))\n",
    "    \n",
    "#     unbound_pmfs, bound_pmfs = [], []\n",
    "    \n",
    "#     for path in paths:\n",
    "#         ligand = path.split(\"/\")[-2]\n",
    "#         unbound_directory = somd_folder + ligand + \"/unbound/\"\n",
    "#         bound_directory = somd_folder + ligand + \"/bound/\"     \n",
    "#         transformation = path.split(\"/\")[-2]\n",
    "#         try:\n",
    "#             pmf_unbound, overlap_matrix_unbound = bss.FreeEnergy.Relative.analyse(unbound_directory)\n",
    "#             pmf_bound, overlap_matrix_bound = bss.FreeEnergy.Relative.analyse(bound_directory)\n",
    "            \n",
    "#         except BioSimSpace._Exceptions.AnalysisError as e:\n",
    "#             print(e)   \n"
   ]
  },
  {
   "cell_type": "code",
   "execution_count": null,
   "metadata": {},
   "outputs": [],
   "source": [
    "with open(analysis_file, \"w\") as file:            \n",
    "    try:  \n",
    "        free_energy_difference, free_energy_error = bss.FreeEnergy.Relative.difference(pmf_bound, pmf_unbound)\n",
    "        file.write(transformation + \"\\n\")\n",
    "        file.write(f\"{free_energy_difference} \\u00B1 {free_energy_error} \\n\")   \n",
    "    except BioSimSpace._Exceptions.AnalysisError as e:\n",
    "        print(e)\n",
    "    except IndexError as e:\n",
    "        print(str(e)+\"\\n\")\n",
    "    except ValueError as e:\n",
    "        print(str(e)+\"\\n\")"
   ]
  }
 ],
 "metadata": {
  "kernelspec": {
   "display_name": "bss-d",
   "language": "python",
   "name": "python3"
  },
  "language_info": {
   "codemirror_mode": {
    "name": "ipython",
    "version": 3
   },
   "file_extension": ".py",
   "mimetype": "text/x-python",
   "name": "python",
   "nbconvert_exporter": "python",
   "pygments_lexer": "ipython3",
   "version": "3.9.16"
  },
  "orig_nbformat": 4,
  "vscode": {
   "interpreter": {
    "hash": "f81d097606b2934fa8d1922533f78f64a436eb4cf1588d61ff1c0b79a2076e9c"
   }
  }
 },
 "nbformat": 4,
 "nbformat_minor": 2
}
