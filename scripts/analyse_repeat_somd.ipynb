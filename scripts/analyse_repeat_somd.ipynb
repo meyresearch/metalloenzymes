{
 "cells": [
  {
   "cell_type": "code",
   "execution_count": 1,
   "metadata": {},
   "outputs": [
    {
     "data": {
      "application/vnd.jupyter.widget-view+json": {
       "model_id": "62e62cd901c6461599c4d9bd7628d7ac",
       "version_major": 2,
       "version_minor": 0
      },
      "text/plain": []
     },
     "metadata": {},
     "output_type": "display_data"
    },
    {
     "name": "stderr",
     "output_type": "stream",
     "text": [
      "INFO:rdkit:Enabling RDKit 2022.09.1 jupyter extensions\n",
      "INFO:numexpr.utils:Note: NumExpr detected 32 cores but \"NUMEXPR_MAX_THREADS\" not set, so enforcing safe limit of 8.\n",
      "INFO:numexpr.utils:NumExpr defaulting to 8 threads.\n",
      "WARNING:root:Warning: importing 'simtk.openmm' is deprecated.  Import 'openmm' instead.\n"
     ]
    }
   ],
   "source": [
    "import BioSimSpace as bss\n",
    "import glob\n",
    "import BioSimSpace._Exceptions"
   ]
  },
  {
   "cell_type": "code",
   "execution_count": 2,
   "metadata": {},
   "outputs": [],
   "source": [
    "somd_path = \"/home/jguven/projects/metalloenzymes/starmap/outputs/with_min/SOMD_\"\n",
    "repeats = [\"1\", \"2\", \"3\"]"
   ]
  },
  {
   "cell_type": "code",
   "execution_count": 3,
   "metadata": {},
   "outputs": [],
   "source": [
    "analysis_path = \"/home/jguven/projects/metalloenzymes/starmap/afe/\""
   ]
  },
  {
   "cell_type": "code",
   "execution_count": 4,
   "metadata": {},
   "outputs": [],
   "source": [
    "unbound_repeats, bound_repeats = [], []\n",
    "for repeat in repeats:\n",
    "    somd_folder = somd_path + repeat + \"/\"\n",
    "    analysis_file = analysis_path + \"somd_repeat_analysis_\" + repeat + \".txt\"\n",
    "    paths = sorted(glob.glob(somd_folder + \"*/\"))\n",
    "    unbound_pmfs, bound_pmfs = [], []\n",
    "    for path in paths:\n",
    "        unbound_pmfs.append(path)\n",
    "    unbound_repeats.append(unbound_pmfs)"
   ]
  },
  {
   "cell_type": "code",
   "execution_count": 5,
   "metadata": {},
   "outputs": [
    {
     "data": {
      "text/plain": [
       "(3, 15)"
      ]
     },
     "execution_count": 5,
     "metadata": {},
     "output_type": "execute_result"
    }
   ],
   "source": [
    "import numpy as np\n",
    "np.shape(unbound_repeats)"
   ]
  },
  {
   "cell_type": "code",
   "execution_count": 6,
   "metadata": {},
   "outputs": [
    {
     "name": "stdout",
     "output_type": "stream",
     "text": [
      "1\n",
      "/home/jguven/projects/metalloenzymes/starmap/outputs/with_min/SOMD_1/lig_1~lig_10/\n",
      "1\n",
      "/home/jguven/projects/metalloenzymes/starmap/outputs/with_min/SOMD_1/lig_1~lig_11/\n",
      "1\n",
      "/home/jguven/projects/metalloenzymes/starmap/outputs/with_min/SOMD_1/lig_1~lig_12/\n",
      "SOMD free-energy analysis failed!\n",
      "1\n",
      "/home/jguven/projects/metalloenzymes/starmap/outputs/with_min/SOMD_1/lig_1~lig_14/\n",
      "1\n",
      "/home/jguven/projects/metalloenzymes/starmap/outputs/with_min/SOMD_1/lig_1~lig_15/\n",
      "1\n",
      "/home/jguven/projects/metalloenzymes/starmap/outputs/with_min/SOMD_1/lig_1~lig_16/\n",
      "1\n",
      "/home/jguven/projects/metalloenzymes/starmap/outputs/with_min/SOMD_1/lig_1~lig_2/\n",
      "1\n",
      "/home/jguven/projects/metalloenzymes/starmap/outputs/with_min/SOMD_1/lig_1~lig_3/\n",
      "1\n",
      "/home/jguven/projects/metalloenzymes/starmap/outputs/with_min/SOMD_1/lig_1~lig_4/\n",
      "1\n",
      "/home/jguven/projects/metalloenzymes/starmap/outputs/with_min/SOMD_1/lig_1~lig_5/\n",
      "1\n",
      "/home/jguven/projects/metalloenzymes/starmap/outputs/with_min/SOMD_1/lig_1~lig_6/\n",
      "1\n",
      "/home/jguven/projects/metalloenzymes/starmap/outputs/with_min/SOMD_1/lig_1~lig_7/\n",
      "1\n",
      "/home/jguven/projects/metalloenzymes/starmap/outputs/with_min/SOMD_1/lig_1~lig_8/\n",
      "1\n",
      "/home/jguven/projects/metalloenzymes/starmap/outputs/with_min/SOMD_1/lig_1~lig_9/\n",
      "2\n",
      "/home/jguven/projects/metalloenzymes/starmap/outputs/with_min/SOMD_2/lig_1~lig_10/\n",
      "2\n",
      "/home/jguven/projects/metalloenzymes/starmap/outputs/with_min/SOMD_2/lig_1~lig_11/\n",
      "2\n",
      "/home/jguven/projects/metalloenzymes/starmap/outputs/with_min/SOMD_2/lig_1~lig_12/\n",
      "SOMD free-energy analysis failed!\n",
      "2\n",
      "/home/jguven/projects/metalloenzymes/starmap/outputs/with_min/SOMD_2/lig_1~lig_14/\n",
      "2\n",
      "/home/jguven/projects/metalloenzymes/starmap/outputs/with_min/SOMD_2/lig_1~lig_15/\n",
      "2\n",
      "/home/jguven/projects/metalloenzymes/starmap/outputs/with_min/SOMD_2/lig_1~lig_16/\n",
      "2\n",
      "/home/jguven/projects/metalloenzymes/starmap/outputs/with_min/SOMD_2/lig_1~lig_2/\n",
      "2\n",
      "/home/jguven/projects/metalloenzymes/starmap/outputs/with_min/SOMD_2/lig_1~lig_3/\n",
      "2\n",
      "/home/jguven/projects/metalloenzymes/starmap/outputs/with_min/SOMD_2/lig_1~lig_4/\n",
      "2\n",
      "/home/jguven/projects/metalloenzymes/starmap/outputs/with_min/SOMD_2/lig_1~lig_5/\n",
      "2\n",
      "/home/jguven/projects/metalloenzymes/starmap/outputs/with_min/SOMD_2/lig_1~lig_6/\n",
      "2\n",
      "/home/jguven/projects/metalloenzymes/starmap/outputs/with_min/SOMD_2/lig_1~lig_7/\n",
      "2\n",
      "/home/jguven/projects/metalloenzymes/starmap/outputs/with_min/SOMD_2/lig_1~lig_8/\n",
      "2\n",
      "/home/jguven/projects/metalloenzymes/starmap/outputs/with_min/SOMD_2/lig_1~lig_9/\n",
      "3\n",
      "/home/jguven/projects/metalloenzymes/starmap/outputs/with_min/SOMD_3/lig_1~lig_10/\n",
      "3\n",
      "/home/jguven/projects/metalloenzymes/starmap/outputs/with_min/SOMD_3/lig_1~lig_11/\n",
      "3\n",
      "/home/jguven/projects/metalloenzymes/starmap/outputs/with_min/SOMD_3/lig_1~lig_12/\n",
      "SOMD free-energy analysis failed!\n",
      "3\n",
      "/home/jguven/projects/metalloenzymes/starmap/outputs/with_min/SOMD_3/lig_1~lig_14/\n",
      "3\n",
      "/home/jguven/projects/metalloenzymes/starmap/outputs/with_min/SOMD_3/lig_1~lig_15/\n",
      "3\n",
      "/home/jguven/projects/metalloenzymes/starmap/outputs/with_min/SOMD_3/lig_1~lig_16/\n",
      "3\n",
      "/home/jguven/projects/metalloenzymes/starmap/outputs/with_min/SOMD_3/lig_1~lig_2/\n",
      "3\n",
      "/home/jguven/projects/metalloenzymes/starmap/outputs/with_min/SOMD_3/lig_1~lig_3/\n",
      "3\n",
      "/home/jguven/projects/metalloenzymes/starmap/outputs/with_min/SOMD_3/lig_1~lig_4/\n",
      "3\n",
      "/home/jguven/projects/metalloenzymes/starmap/outputs/with_min/SOMD_3/lig_1~lig_5/\n",
      "3\n",
      "/home/jguven/projects/metalloenzymes/starmap/outputs/with_min/SOMD_3/lig_1~lig_6/\n",
      "3\n",
      "/home/jguven/projects/metalloenzymes/starmap/outputs/with_min/SOMD_3/lig_1~lig_7/\n",
      "3\n",
      "/home/jguven/projects/metalloenzymes/starmap/outputs/with_min/SOMD_3/lig_1~lig_8/\n",
      "3\n",
      "/home/jguven/projects/metalloenzymes/starmap/outputs/with_min/SOMD_3/lig_1~lig_9/\n"
     ]
    }
   ],
   "source": [
    "unbound_repeats, bound_repeats = [], []\n",
    "for repeat in repeats:\n",
    "    somd_folder = somd_path + repeat + \"/\"\n",
    "    analysis_file = analysis_path + \"somd_repeat_analysis_\" + repeat + \".txt\"\n",
    "    paths = sorted(glob.glob(somd_folder + \"*/\"))\n",
    "    unbound_pmfs, bound_pmfs = [], []\n",
    "    for path in paths:\n",
    "        ligand = path.split(\"/\")[-2]\n",
    "        unbound_directory = somd_folder + ligand + \"/unbound/\"\n",
    "        bound_directory = somd_folder + ligand + \"/bound/\"     \n",
    "        transformation = path.split(\"/\")[-2]\n",
    "        try:\n",
    "            pmf_unbound, overlap_matrix_unbound = bss.FreeEnergy.Relative.analyse(unbound_directory)\n",
    "            # unbound_pmfs.append(pmf_unbound)\n",
    "            pmf_bound, overlap_matrix_bound = bss.FreeEnergy.Relative.analyse(bound_directory)\n",
    "            # bound_pmfs.append(pmf_bound)\n",
    "            # print(pmf_unbound)\n",
    "            print(repeat)\n",
    "            print(path)\n",
    "        except BioSimSpace._Exceptions.AnalysisError as e:\n",
    "            print(e)   \n",
    "    # unbound_repeats.append(unbound_pmfs)\n",
    "    # bound_repeats.append(bound_pmfs)"
   ]
  },
  {
   "cell_type": "code",
   "execution_count": 7,
   "metadata": {},
   "outputs": [
    {
     "data": {
      "text/plain": [
       "(0,)"
      ]
     },
     "execution_count": 7,
     "metadata": {},
     "output_type": "execute_result"
    }
   ],
   "source": [
    "np.shape(unbound_repeats)"
   ]
  },
  {
   "cell_type": "code",
   "execution_count": 8,
   "metadata": {},
   "outputs": [],
   "source": [
    "# unbound_pmfs, bound_pmfs = [], []\n",
    "\n",
    "# for repeat in repeats:\n",
    "\n",
    "#     somd_folder = somd_path + repeat + \"/\"\n",
    "#     analysis_file = analysis_path + \"somd_repeat_analysis_\" + repeat + \".txt\"\n",
    "#     paths = sorted(glob.glob(somd_folder + \"*/\"))\n",
    "    \n",
    "#     unbound_pmfs, bound_pmfs = [], []\n",
    "    \n",
    "#     for path in paths:\n",
    "#         ligand = path.split(\"/\")[-2]\n",
    "#         unbound_directory = somd_folder + ligand + \"/unbound/\"\n",
    "#         bound_directory = somd_folder + ligand + \"/bound/\"     \n",
    "#         transformation = path.split(\"/\")[-2]\n",
    "#         try:\n",
    "#             pmf_unbound, overlap_matrix_unbound = bss.FreeEnergy.Relative.analyse(unbound_directory)\n",
    "#             pmf_bound, overlap_matrix_bound = bss.FreeEnergy.Relative.analyse(bound_directory)\n",
    "            \n",
    "#         except BioSimSpace._Exceptions.AnalysisError as e:\n",
    "#             print(e)   \n"
   ]
  },
  {
   "cell_type": "code",
   "execution_count": 9,
   "metadata": {},
   "outputs": [],
   "source": [
    "with open(analysis_file, \"w\") as file:            \n",
    "    try:  \n",
    "        free_energy_difference, free_energy_error = bss.FreeEnergy.Relative.difference(pmf_bound, pmf_unbound)\n",
    "        file.write(transformation + \"\\n\")\n",
    "        file.write(f\"{free_energy_difference} \\u00B1 {free_energy_error} \\n\")   \n",
    "    except BioSimSpace._Exceptions.AnalysisError as e:\n",
    "        print(e)\n",
    "    except IndexError as e:\n",
    "        print(str(e)+\"\\n\")\n",
    "    except ValueError as e:\n",
    "        print(str(e)+\"\\n\")"
   ]
  }
 ],
 "metadata": {
  "kernelspec": {
   "display_name": "bss-d",
   "language": "python",
   "name": "python3"
  },
  "language_info": {
   "codemirror_mode": {
    "name": "ipython",
    "version": 3
   },
   "file_extension": ".py",
   "mimetype": "text/x-python",
   "name": "python",
   "nbconvert_exporter": "python",
   "pygments_lexer": "ipython3",
   "version": "3.9.16"
  },
  "orig_nbformat": 4,
  "vscode": {
   "interpreter": {
    "hash": "f81d097606b2934fa8d1922533f78f64a436eb4cf1588d61ff1c0b79a2076e9c"
   }
  }
 },
 "nbformat": 4,
 "nbformat_minor": 2
}
