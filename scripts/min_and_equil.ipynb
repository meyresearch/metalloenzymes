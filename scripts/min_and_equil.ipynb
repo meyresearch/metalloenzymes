{
 "cells": [
  {
   "cell_type": "code",
   "execution_count": 1,
   "metadata": {},
   "outputs": [
    {
     "data": {
      "application/vnd.jupyter.widget-view+json": {
       "model_id": "3c9853eb8f13485d87ef401d72ffbd26",
       "version_major": 2,
       "version_minor": 0
      },
      "text/plain": []
     },
     "metadata": {},
     "output_type": "display_data"
    },
    {
     "name": "stderr",
     "output_type": "stream",
     "text": [
      "INFO:rdkit:Enabling RDKit 2022.09.1 jupyter extensions\n",
      "INFO:numexpr.utils:Note: NumExpr detected 32 cores but \"NUMEXPR_MAX_THREADS\" not set, so enforcing safe limit of 8.\n",
      "INFO:numexpr.utils:NumExpr defaulting to 8 threads.\n",
      "WARNING:root:Warning: importing 'simtk.openmm' is deprecated.  Import 'openmm' instead.\n"
     ]
    }
   ],
   "source": [
    "import BioSimSpace as bss\n",
    "import os\n",
    "import nglview as nv\n",
    "import subprocess as sp\n",
    "import functions as fn\n",
    "import glob"
   ]
  },
  {
   "cell_type": "code",
   "execution_count": 2,
   "metadata": {},
   "outputs": [],
   "source": [
    "ligand_path = \"/home/jguven/projects/metalloenzymes/kpc2/inputs/ligands/\"\n",
    "solvated_ligand_files = glob.glob(ligand_path + f\"ligand_1_solvated.*\")\n",
    "solvated_ligand = bss.IO.readMolecules(solvated_ligand_files)"
   ]
  },
  {
   "cell_type": "code",
   "execution_count": 3,
   "metadata": {},
   "outputs": [
    {
     "data": {
      "text/plain": [
       "<BioSimSpace.System: nMolecules=738>"
      ]
     },
     "execution_count": 3,
     "metadata": {},
     "output_type": "execute_result"
    }
   ],
   "source": [
    "solvated_ligand"
   ]
  },
  {
   "cell_type": "code",
   "execution_count": 4,
   "metadata": {},
   "outputs": [],
   "source": [
    "minimisation_steps = 250\n",
    "ligand_minimisation_protocol = bss.Protocol.Minimisation(steps=minimisation_steps)"
   ]
  },
  {
   "cell_type": "code",
   "execution_count": 5,
   "metadata": {},
   "outputs": [],
   "source": [
    "ligand_min_unbound_dir = \"/home/jguven/projects/metalloenzymes/kpc2/equilibration/unbound/ligand_1/min/\"\n",
    "process = bss.Process.Gromacs(solvated_ligand, ligand_minimisation_protocol, name=\"min\", work_dir=ligand_min_unbound_dir)\n",
    "\n",
    "\n",
    "# minimised_ligand = fn.run_process(system=solvated_ligand, \n",
    "#                                   protocol=ligand_minimisation_protocol, \n",
    "#                                   process_name=\"min\", \n",
    "#                                   working_directory=ligand_min_unbound_dir,\n",
    "#                                   configuration=[\"emstep = 0.01\", \"emtol = 1000\", f\"nsteps={minimisation_steps}\"])"
   ]
  },
  {
   "cell_type": "code",
   "execution_count": 38,
   "metadata": {},
   "outputs": [],
   "source": [
    "ligand_r_nvt_protocol = bss.Protocol.Equilibration(runtime=200*bss.Units.Time.picosecond,\n",
    "                                                   temperature_start=0*bss.Units.Temperature.kelvin,\n",
    "                                                   temperature_end=300*bss.Units.Temperature.kelvin,\n",
    "                                                   restraint=\"all\")\n",
    "nvt = bss.Process.Gromacs(system, ligand_r_nvt_protocol, name=\"nvt\")                                        "
   ]
  },
  {
   "cell_type": "code",
   "execution_count": 39,
   "metadata": {},
   "outputs": [
    {
     "data": {
      "text/plain": [
       "['nstlog = 100',\n",
       " 'nstenergy = 100',\n",
       " 'nstxout-compressed = 500',\n",
       " 'dt = 0.002',\n",
       " 'nsteps = 100000',\n",
       " 'constraints = h-bonds',\n",
       " 'constraint-algorithm = LINCS',\n",
       " 'pbc = xyz',\n",
       " 'cutoff-scheme = Verlet',\n",
       " 'ns-type = grid',\n",
       " 'nstlist = 20',\n",
       " 'rlist = 0.8',\n",
       " 'rvdw = 0.8',\n",
       " 'rcoulomb = 0.8',\n",
       " 'coulombtype = PME',\n",
       " 'DispCorr = EnerPres',\n",
       " 'vdwtype = Cut-off',\n",
       " 'refcoord-scaling = com',\n",
       " 'integrator = md',\n",
       " 'tcoupl = v-rescale',\n",
       " 'tc-grps = system',\n",
       " 'tau-t = 2',\n",
       " 'ref-t = 300.00',\n",
       " 'annealing = single',\n",
       " 'annealing-npoints = 2',\n",
       " 'annealing-time = 0 200',\n",
       " 'annealing-temp = 0.01 300.00',\n",
       " 'ld-seed = -1']"
      ]
     },
     "execution_count": 39,
     "metadata": {},
     "output_type": "execute_result"
    }
   ],
   "source": [
    "nvt.getConfig()"
   ]
  },
  {
   "cell_type": "code",
   "execution_count": 31,
   "metadata": {},
   "outputs": [],
   "source": [
    "setting = \"dt = 0.001\"\n",
    "key = setting.split()[0]\n",
    "config = nvt.getConfig()\n",
    "index = [i for i, s in enumerate(config) if key in s][0]\n",
    "config[index] = setting\n",
    "nvt.setConfig(config)"
   ]
  },
  {
   "cell_type": "markdown",
   "metadata": {},
   "source": []
  },
  {
   "cell_type": "code",
   "execution_count": 32,
   "metadata": {},
   "outputs": [
    {
     "data": {
      "text/plain": [
       "['nstlog = 100',\n",
       " 'nstenergy = 100',\n",
       " 'nstxout-compressed = 500',\n",
       " 'dt = 0.001',\n",
       " 'nsteps = 100000',\n",
       " 'constraints = h-bonds',\n",
       " 'constraint-algorithm = LINCS',\n",
       " 'pbc = xyz',\n",
       " 'cutoff-scheme = Verlet',\n",
       " 'ns-type = grid',\n",
       " 'nstlist = 20',\n",
       " 'rlist = 0.8',\n",
       " 'rvdw = 0.8',\n",
       " 'rcoulomb = 0.8',\n",
       " 'coulombtype = PME',\n",
       " 'DispCorr = EnerPres',\n",
       " 'vdwtype = Cut-off',\n",
       " 'refcoord-scaling = com',\n",
       " 'integrator = md',\n",
       " 'tcoupl = v-rescale',\n",
       " 'tc-grps = system',\n",
       " 'tau-t = 2',\n",
       " 'ref-t = 300.00',\n",
       " 'annealing = single',\n",
       " 'annealing-npoints = 2',\n",
       " 'annealing-time = 0 200',\n",
       " 'annealing-temp = 0.01 300.00',\n",
       " 'ld-seed = -1']"
      ]
     },
     "execution_count": 32,
     "metadata": {},
     "output_type": "execute_result"
    }
   ],
   "source": [
    "nvt.getConfig()"
   ]
  },
  {
   "cell_type": "code",
   "execution_count": 33,
   "metadata": {},
   "outputs": [
    {
     "name": "stdout",
     "output_type": "stream",
     "text": [
      "poo\n"
     ]
    }
   ],
   "source": [
    "test = [\"poo\"]\n",
    "for thing in test:\n",
    "    print(thing)"
   ]
  },
  {
   "cell_type": "code",
   "execution_count": 110,
   "metadata": {},
   "outputs": [
    {
     "name": "stdout",
     "output_type": "stream",
     "text": [
      "['nstlog = 100', 'nstenergy = 100', 'nstxout-compressed = 500', 'dt = 0.001', 'nsteps = 100000', 'constraints = h-bonds', 'constraint-algorithm = LINCS', 'pbc = xyz', 'cutoff-scheme = Verlet', 'ns-type = grid', 'nstlist = 20', 'rlist = 0.8', 'rvdw = 0.8', 'rcoulomb = 0.8', 'coulombtype = PME', 'DispCorr = EnerPres', 'vdwtype = Cut-off', 'refcoord-scaling = com', 'integrator = md', 'tcoupl = v-rescale', 'tc-grps = system', 'tau-t = 2', 'ref-t = 300.00', 'annealing = single', 'annealing-npoints = 2', 'annealing-time = 0 200', 'annealing-temp = 0.01 300.00', 'ld-seed = -1', 'emtol = 1000']\n"
     ]
    }
   ],
   "source": [
    "ligand_r_nvt_protocol = bss.Protocol.Equilibration(runtime=200*bss.Units.Time.picosecond,\n",
    "                                                   temperature_start=0*bss.Units.Temperature.kelvin,\n",
    "                                                   temperature_end=300*bss.Units.Temperature.kelvin,\n",
    "                                                   restraint=\"all\")\n",
    "nvt = bss.Process.Gromacs(system, ligand_r_nvt_protocol, name=\"nvt\") \n",
    "# print(nvt.getConfig())\n",
    "settings = [\"emtol = 1000\", \"dt = 0.001\"]\n",
    "config = nvt.getConfig()\n",
    "for setting in settings:\n",
    "    key = setting.split()[0]\n",
    "    try:\n",
    "        index = [i for i, s in enumerate(config) if key in s][0]\n",
    "        config[index] = setting\n",
    "        nvt.setConfig(config)\n",
    "    except IndexError:\n",
    "        nvt.addToConfig(setting)\n",
    "        config = nvt.getConfig()\n",
    "print(nvt.getConfig())"
   ]
  },
  {
   "cell_type": "code",
   "execution_count": 19,
   "metadata": {},
   "outputs": [
    {
     "data": {
      "text/plain": [
       "['nstlog = 100',\n",
       " 'nstenergy = 100',\n",
       " 'integrator = steep',\n",
       " 'nsteps = 1000',\n",
       " 'pbc = xyz',\n",
       " 'cutoff-scheme = Verlet',\n",
       " 'ns-type = grid',\n",
       " 'nstlist = 20',\n",
       " 'rlist = 0.8',\n",
       " 'rvdw = 0.8',\n",
       " 'rcoulomb = 0.8',\n",
       " 'coulombtype = PME',\n",
       " 'DispCorr = EnerPres',\n",
       " 'vdwtype = Cut-off',\n",
       " 'emstep = 0.001',\n",
       " 'emtol = 1000',\n",
       " 'nsteps=1000',\n",
       " 'emstep = 0.001',\n",
       " 'emtol = 1000']"
      ]
     },
     "execution_count": 19,
     "metadata": {},
     "output_type": "execute_result"
    }
   ],
   "source": [
    "default_config = process.getConfig()\n",
    "new_config = default_config.replace(\"\")"
   ]
  },
  {
   "cell_type": "code",
   "execution_count": 12,
   "metadata": {},
   "outputs": [
    {
     "data": {
      "text/plain": [
       "BioSimSpace.Process.Gromacs(<BioSimSpace.System: nMolecules=738>, <BioSimSpace.Protocol.Custom>, exe='/usr/local/gromacs/bin/gmx', name='min', work_dir='/home/jguven/projects/metalloenzymes/kpc2/equilibration/unbound/ligand_1/min/', seed=None)"
      ]
     },
     "execution_count": 12,
     "metadata": {},
     "output_type": "execute_result"
    }
   ],
   "source": [
    "process.setArg(\"-ntmpi\", 1)\n",
    "process.start()"
   ]
  },
  {
   "cell_type": "code",
   "execution_count": 22,
   "metadata": {},
   "outputs": [
    {
     "data": {
      "text/plain": [
       "False"
      ]
     },
     "execution_count": 22,
     "metadata": {},
     "output_type": "execute_result"
    }
   ],
   "source": [
    "process.isRunning()"
   ]
  },
  {
   "cell_type": "code",
   "execution_count": 13,
   "metadata": {},
   "outputs": [],
   "source": [
    "system = process.getSystem()"
   ]
  },
  {
   "cell_type": "code",
   "execution_count": 14,
   "metadata": {},
   "outputs": [
    {
     "data": {
      "text/plain": [
       "<BioSimSpace.System: nMolecules=738>"
      ]
     },
     "execution_count": 14,
     "metadata": {},
     "output_type": "execute_result"
    }
   ],
   "source": [
    "system"
   ]
  },
  {
   "cell_type": "code",
   "execution_count": 3,
   "metadata": {},
   "outputs": [],
   "source": [
    "def change_barostat(system: bss._SireWrappers._system.System,\n",
    "                    protocol: bss.Protocol._equilibration.Equilibration,\n",
    "                    work_directory: str,\n",
    "                    process_name: str) -> None:\n",
    "    \"\"\"\n",
    "    Change barostat in .mdp file for NPT runs\n",
    "    @param: system\n",
    "    @param: protocol\n",
    "    @param: work_directory\n",
    "    @param: process name\n",
    "    @return: None\n",
    "    \"\"\"\n",
    "    try:\n",
    "        process = bss.Process.Gromacs(system,\n",
    "                                      protocol,\n",
    "                                      name=process_name,\n",
    "                                      work_dir=work_directory)\n",
    "    except RuntimeError:\n",
    "\n",
    "        with open(f\"{work_directory}/{process_name}.mdp\", \"r\") as mdp:\n",
    "            lines = mdp.read()\n",
    "\n",
    "        new_lines = lines.replace(\"pcoupl = berendsen\", \"pcoupl = C-rescale\")\n",
    "        with open(f\"{work_directory}/{process_name}.mdp\", \"w\") as mdp:\n",
    "            mdp.write(new_lines)\n"
   ]
  },
  {
   "cell_type": "code",
   "execution_count": 4,
   "metadata": {},
   "outputs": [],
   "source": [
    "def write_mdp(work_dir: str, process_name: str, custom_options=[], default=True):\n",
    "    \"\"\"\n",
    "    Write an mdp file for minimisation\n",
    "    \"\"\"\n",
    "    default_options = [\"nstlog = 100\",\n",
    "                       \"integrator = steep\",\n",
    "                       \"nstcgsteep = 1000\",\n",
    "                       \"nsteps = 2000\",\n",
    "                       \"pbc = xyz\",\n",
    "                       \"cutoff-scheme = Verlet\",\n",
    "                       \"ns-type = grid\",\n",
    "                       \"nstlist = 20\",\n",
    "                       \"coulombtype = PME\",\n",
    "                       \"rvdw = 1.0\",\n",
    "                       \"rcoulomb = 1.0\",\n",
    "                       \"DispCorr = EnerPres\",\n",
    "                       \"vdwtype = Cut-off\",\n",
    "                       \"refcoord-scaling = all\"]\n",
    "    if default: \n",
    "        # print(\"Writing default mdp file.\")\n",
    "        with open(f\"{work_dir}/{process_name}.mdp\", \"w\") as mdp:\n",
    "            for opt in default_options:\n",
    "                mdp.write(f\"{opt}\\n\")\n",
    "        if len(custom_options) > 0:\n",
    "            # print(\"Appending custom options.\")\n",
    "            with open(f\"{work_dir}/{process_name}.mdp\", \"a\") as mdp:\n",
    "                for opt in custom_options:\n",
    "                    mdp.write(f\"{opt}\\n\")\n",
    "    elif not default and custom_options != []:\n",
    "        # print(\"Writing custom mdp file.\")\n",
    "        with open(f\"{work_dir}/{process_name}.mdp\", \"w\") as mdp:\n",
    "            for opt in custom_options:\n",
    "                mdp.write(f\"{opt}\\n\")\n",
    "    else:\n",
    "        print(\"Custom options not specified. Not writing mdp file.\")\n",
    "\n"
   ]
  },
  {
   "cell_type": "code",
   "execution_count": 5,
   "metadata": {},
   "outputs": [],
   "source": [
    "def write_script(work_dir: str, process_name: str, restrained=False, previous=\"\") -> str:\n",
    "    script_name = work_dir + \"/\" + process_name + \".sh\"\n",
    "    with open(script_name, \"w\") as script:\n",
    "        script.write(\"#!/bin/bash \\n\")\n",
    "        script.write(f\"cd {work_dir} \\n\")\n",
    "        if not restrained and previous == \"\":\n",
    "            script.write(f\"gmx grompp -f {process_name}.mdp -c {process_name}.gro -p {process_name}.top -o {process_name}.tpr \\n\")\n",
    "        elif restrained and previous == \"min\": \n",
    "            script.write(f\"gmx grompp -f {process_name}.mdp -c ../{previous}/{previous}.gro -r ../{previous}/{previous}.gro -p {process_name}.top -o {process_name}.tpr \\n\")\n",
    "        elif not restrained and previous != \"\":\n",
    "            script.write(f\"gmx grompp -f {process_name}.mdp -c ../{previous}/{previous}.gro -p {process_name}.top -t ../{previous}/{previous}.cpt -o {process_name}.tpr \\n\")\n",
    "        elif restrained and previous != \"\":\n",
    "            script.write(f\"gmx grompp -f {process_name}.mdp -c ../{previous}/{previous}.gro -r ../{previous}/{previous}.gro -p {process_name}.top -t ../{previous}/{previous}.cpt -o {process_name}.tpr \\n\") \n",
    "        script.write(f\"nohup gmx mdrun -v -deffnm {process_name} -nt 1 -nb gpu > nohup_{process_name}.out &\")\n",
    "    os.system(f\"chmod +x {script_name}\")\n",
    "    executable = script_name.split(\"/\")[-1]\n",
    "    return executable\n"
   ]
  },
  {
   "cell_type": "code",
   "execution_count": 6,
   "metadata": {},
   "outputs": [],
   "source": [
    "def write_log_file(work_dir: str, process_name: str, subprocess: sp.CompletedProcess) -> None:\n",
    "    \"\"\"\n",
    "    Write custom log file for gromacs processes.\n",
    "    \"\"\"\n",
    "    try:\n",
    "        if \"error\" in subprocess.stderr or \"error\" in subprocess.stdout:\n",
    "            print(f\"There was an error with {process_name}.sh. Please check the log file.\")\n",
    "        with open(f\"{work_dir}/{process_name}.out\", \"w\") as log_file:\n",
    "            log_file.writelines(subprocess.stdout)\n",
    "            log_file.writelines(subprocess.stderr)\n",
    "    except FileNotFoundError:\n",
    "        print(f\"File {work_dir}/{process_name}.out does not exist.\")\n",
    "    except NotADirectoryError as e:\n",
    "        print(e)"
   ]
  },
  {
   "cell_type": "code",
   "execution_count": 7,
   "metadata": {},
   "outputs": [],
   "source": [
    "minimisation_steps = 2000\n",
    "picosecond = bss.Units.Time.picosecond\n",
    "kelvin = bss.Units.Temperature.kelvin\n",
    "atm = bss.Units.Pressure.atm\n",
    "short_nvt_runtime = 5 * picosecond\n",
    "nvt_runtime = 50 * picosecond\n",
    "npt_runtime = 200 * picosecond\n",
    "\n"
   ]
  },
  {
   "cell_type": "code",
   "execution_count": 21,
   "metadata": {},
   "outputs": [
    {
     "data": {
      "text/plain": [
       "2"
      ]
     },
     "execution_count": 21,
     "metadata": {},
     "output_type": "execute_result"
    }
   ],
   "source": [
    "n_ligands = 2\n",
    "ligand_datafile = open(\"ligands.dat\", \"r\")\n",
    "ligand_lines = ligand_datafile.readlines()\n",
    "\n",
    "for i in range(n_ligands):\n",
    "    ligand_name = ligand_lines[i].rstrip()\n",
    "    os.system(f\"mkdir -p ../runs/equilibration/unbound/{ligand_name}\")\n",
    "    ligand_work_dir = f\"../runs/equilibration/unbound/{ligand_name}\"\n",
    "    os.system(f\"mkdir {ligand_work_dir}/min/\")    \n",
    "    os.system(f\"mkdir {ligand_work_dir}/r_nvt/\")\n",
    "    os.system(f\"mkdir {ligand_work_dir}/nvt/\")  \n",
    "    os.system(f\"mkdir {ligand_work_dir}/r_npt/\")      \n",
    "    os.system(f\"mkdir {ligand_work_dir}/npt/\")      \n",
    "\n",
    "    ligand_min_unbound_dir = f\"{ligand_work_dir}/min\" \n",
    "    ligand_r_nvt_unbound_dir = f\"{ligand_work_dir}/r_nvt\"  \n",
    "    ligand_nvt_unbound_dir = f\"{ligand_work_dir}/nvt\"  \n",
    "    ligand_r_npt_unbound_dir = f\"{ligand_work_dir}/r_npt\"\n",
    "    ligand_npt_unbound_dir = f\"{ligand_work_dir}/npt\"\n",
    "    \n",
    "    ligand_min_script = write_script(ligand_min_unbound_dir, \"min\")\n",
    "    ligand_r_nvt_script = write_script(ligand_r_nvt_unbound_dir, \"r_nvt\", restrained=True, previous=\"min\")\n",
    "    ligand_nvt_script = write_script(ligand_nvt_unbound_dir, \"nvt\", previous=\"r_nvt\")\n",
    "    ligand_r_npt_script = write_script(ligand_r_npt_unbound_dir, \"r_npt\", restrained=True, previous=\"nvt\")\n",
    "    ligand_npt_script = write_script(ligand_npt_unbound_dir, \"npt\", previous=\"r_npt\")\n"
   ]
  },
  {
   "cell_type": "code",
   "execution_count": 15,
   "metadata": {},
   "outputs": [],
   "source": [
    "for i in range(n_ligands):\n",
    "    ligand_name = ligand_lines[i].rstrip()\n",
    "    ligand_work_dir = f\"../runs/equilibration/unbound/{ligand_name}\"\n",
    "    ligand_min_unbound_dir = f\"{ligand_work_dir}/min\" \n",
    "    solvated_ligand = bss.IO.readMolecules([f\"../inputs/ligands/{ligand_name}_solv.prm7\",\n",
    "                                            f\"../inputs/ligands/{ligand_name}_solv.rst7\"])\n",
    "    ligand_minimisation_protocol = bss.Protocol.Minimisation(steps=minimisation_steps)\n",
    "    ligand_minimisation_process = bss.Process.Gromacs(solvated_ligand,\n",
    "                                                      ligand_minimisation_protocol,\n",
    "                                                      name=\"min\",\n",
    "                                                      work_dir=ligand_min_unbound_dir)\n",
    "    write_mdp(ligand_min_unbound_dir, \"min\")\n",
    "    min_sp = sp.run([\"sh\", f\"{ligand_min_unbound_dir}/{ligand_min_script}\"], capture_output=True, text=True)\n",
    "    write_log_file(ligand_min_unbound_dir, \"min\", min_sp)"
   ]
  },
  {
   "cell_type": "code",
   "execution_count": 16,
   "metadata": {},
   "outputs": [],
   "source": [
    "for i in range(n_ligands):\n",
    "    ligand_name = ligand_lines[i].rstrip()\n",
    "    ligand_work_dir = f\"../runs/equilibration/unbound/{ligand_name}\"\n",
    "    ligand_r_nvt_unbound_dir = f\"{ligand_work_dir}/r_nvt\" \n",
    "    ligand_min_unbound_dir = f\"{ligand_work_dir}/min\" \n",
    "    minimised_ligand = bss.IO.readMolecules([f\"{ligand_min_unbound_dir}/min.gro\",\n",
    "                                             f\"{ligand_min_unbound_dir}/min.top\"])\n",
    "    ligand_r_nvt_protocol = bss.Protocol.Equilibration(runtime=short_nvt_runtime,\n",
    "                                                       temperature_start=0*kelvin,\n",
    "                                                       temperature_end=300*kelvin,\n",
    "                                                       restraint=\"all\")\n",
    "    ligand_r_nvt_process = bss.Process.Gromacs(minimised_ligand,\n",
    "                                               ligand_r_nvt_protocol,\n",
    "                                               name=\"r_nvt\",\n",
    "                                               work_dir=ligand_r_nvt_unbound_dir)\n",
    "    r_nvt_sp = sp.run([\"sh\", f\"{ligand_r_nvt_unbound_dir}/{ligand_r_nvt_script}\"], capture_output=True, text=True)\n",
    "    write_log_file(ligand_r_nvt_unbound_dir, \"r_nvt\", r_nvt_sp)                                            \n",
    "        "
   ]
  },
  {
   "cell_type": "code",
   "execution_count": 18,
   "metadata": {},
   "outputs": [],
   "source": [
    "for i in range(n_ligands):\n",
    "    ligand_name = ligand_lines[i].rstrip()\n",
    "    ligand_work_dir = f\"../runs/equilibration/unbound/{ligand_name}\"\n",
    "    ligand_nvt_unbound_dir = f\"{ligand_work_dir}/nvt\" \n",
    "    ligand_r_nvt_unbound_dir = f\"{ligand_work_dir}/r_nvt\" \n",
    "    restrained_nvt_ligand = bss.IO.readMolecules([f\"{ligand_r_nvt_unbound_dir}/r_nvt.gro\",\n",
    "                                                  f\"{ligand_r_nvt_unbound_dir}/r_nvt.top\"])\n",
    "    ligand_nvt_protocol = bss.Protocol.Equilibration(runtime=nvt_runtime,\n",
    "                                                     temperature=300*kelvin)\n",
    "    ligand_nvt_process = bss.Process.Gromacs(restrained_nvt_ligand,\n",
    "                                             ligand_nvt_protocol,\n",
    "                                             name=\"nvt\",\n",
    "                                             work_dir=ligand_nvt_unbound_dir) \n",
    "    nvt_sp = sp.run([\"sh\", f\"{ligand_nvt_unbound_dir}/{ligand_nvt_script}\"], capture_output=True, text=True)\n",
    "    write_log_file(ligand_nvt_unbound_dir, \"nvt\", nvt_sp)     "
   ]
  },
  {
   "cell_type": "code",
   "execution_count": 19,
   "metadata": {},
   "outputs": [],
   "source": [
    "for i in range(n_ligands):\n",
    "    ligand_name = ligand_lines[i].rstrip()\n",
    "    ligand_work_dir = f\"../runs/equilibration/unbound/{ligand_name}\"\n",
    "    ligand_nvt_unbound_dir = f\"{ligand_work_dir}/nvt\" \n",
    "    ligand_r_npt_unbound_dir = f\"{ligand_work_dir}/r_npt\"\n",
    "    ligand_nvt = bss.IO.readMolecules([f\"{ligand_nvt_unbound_dir}/nvt.gro\",\n",
    "                                       f\"{ligand_nvt_unbound_dir}/nvt.top\"])\n",
    "    ligand_r_npt_protocol = bss.Protocol.Equilibration(runtime=npt_runtime,\n",
    "                                                       pressure=1*atm,\n",
    "                                                       temperature=300*kelvin,\n",
    "                                                       restraint=\"heavy\")\n",
    "    change_barostat(ligand_nvt, ligand_r_npt_protocol, ligand_r_npt_unbound_dir, \"r_npt\")\n",
    "    r_npt_sp = sp.run([\"sh\", f\"{ligand_r_npt_unbound_dir}/{ligand_r_npt_script}\"], capture_output=True, text=True)\n",
    "    write_log_file(ligand_r_npt_unbound_dir, \"r_npt\", r_npt_sp)     "
   ]
  },
  {
   "cell_type": "code",
   "execution_count": 20,
   "metadata": {},
   "outputs": [],
   "source": [
    "for i in range(n_ligands):\n",
    "    ligand_name = ligand_lines[i].rstrip()\n",
    "    ligand_work_dir = f\"../runs/equilibration/unbound/{ligand_name}\"\n",
    "    ligand_npt_unbound_dir = f\"{ligand_work_dir}/npt\" \n",
    "    ligand_r_npt_unbound_dir = f\"{ligand_work_dir}/r_npt\"\n",
    "    restrained_npt_ligand = bss.IO.readMolecules([f\"{ligand_r_npt_unbound_dir}/r_npt.gro\",\n",
    "                                                  f\"{ligand_r_npt_unbound_dir}/r_npt.top\"])\n",
    "    ligand_npt_protocol = bss.Protocol.Equilibration(runtime=npt_runtime,\n",
    "                                                     pressure=1*atm,\n",
    "                                                     temperature=300*kelvin)    \n",
    "    change_barostat(restrained_npt_ligand, ligand_npt_protocol, ligand_npt_unbound_dir, \"npt\")\n",
    "    npt_sp = sp.run([\"sh\", f\"{ligand_npt_unbound_dir}/{ligand_npt_script}\"], capture_output=True, text=True)\n",
    "    write_log_file(ligand_npt_unbound_dir, \"npt\", npt_sp)     "
   ]
  },
  {
   "cell_type": "code",
   "execution_count": 6,
   "metadata": {},
   "outputs": [
    {
     "data": {
      "text/plain": [
       "'8'"
      ]
     },
     "execution_count": 6,
     "metadata": {},
     "output_type": "execute_result"
    }
   ],
   "source": [
    "n_ligands = 2\n",
    "ligand_datafile = open(\"ligands.dat\", \"r\")\n",
    "ligand_lines = ligand_datafile.readlines()\n",
    "ligand_name = ligand_lines[0].rstrip().split(\"_\")[-1]\n",
    "ligand_name"
   ]
  },
  {
   "cell_type": "code",
   "execution_count": null,
   "metadata": {},
   "outputs": [],
   "source": []
  }
 ],
 "metadata": {
  "kernelspec": {
   "display_name": "Python 3",
   "language": "python",
   "name": "python3"
  },
  "language_info": {
   "codemirror_mode": {
    "name": "ipython",
    "version": 3
   },
   "file_extension": ".py",
   "mimetype": "text/x-python",
   "name": "python",
   "nbconvert_exporter": "python",
   "pygments_lexer": "ipython3",
   "version": "3.9.16"
  },
  "orig_nbformat": 4,
  "vscode": {
   "interpreter": {
    "hash": "f81d097606b2934fa8d1922533f78f64a436eb4cf1588d61ff1c0b79a2076e9c"
   }
  }
 },
 "nbformat": 4,
 "nbformat_minor": 2
}
