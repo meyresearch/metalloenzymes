{
 "cells": [
  {
   "cell_type": "code",
   "execution_count": 2,
   "metadata": {},
   "outputs": [
    {
     "name": "stderr",
     "output_type": "stream",
     "text": [
      "/home/jguven/Software/miniconda3/envs/sire/lib/python3.9/site-packages/numpy/core/getlimits.py:500: UserWarning: The value of the smallest subnormal for <class 'numpy.float64'> type is zero.\n",
      "  setattr(self, word, getattr(machar, word).flat[0])\n",
      "/home/jguven/Software/miniconda3/envs/sire/lib/python3.9/site-packages/numpy/core/getlimits.py:89: UserWarning: The value of the smallest subnormal for <class 'numpy.float64'> type is zero.\n",
      "  return self._float_to_str(self.smallest_subnormal)\n",
      "/home/jguven/Software/miniconda3/envs/sire/lib/python3.9/site-packages/numpy/core/getlimits.py:500: UserWarning: The value of the smallest subnormal for <class 'numpy.float32'> type is zero.\n",
      "  setattr(self, word, getattr(machar, word).flat[0])\n",
      "/home/jguven/Software/miniconda3/envs/sire/lib/python3.9/site-packages/numpy/core/getlimits.py:89: UserWarning: The value of the smallest subnormal for <class 'numpy.float32'> type is zero.\n",
      "  return self._float_to_str(self.smallest_subnormal)\n"
     ]
    },
    {
     "data": {
      "application/vnd.jupyter.widget-view+json": {
       "model_id": "634f6a3053da47658ffdcf421e580000",
       "version_major": 2,
       "version_minor": 0
      },
      "text/plain": []
     },
     "metadata": {},
     "output_type": "display_data"
    },
    {
     "name": "stdout",
     "output_type": "stream",
     "text": [
      "\n",
      "==============================================================\n",
      "Sending anonymous Sire usage statistics to http://siremol.org.\n",
      "For more information, see http://siremol.org/analytics\n",
      "To disable, set the environment variable 'SIRE_DONT_PHONEHOME' to 1\n",
      "To see the information sent, set the environment variable \n",
      "SIRE_VERBOSE_PHONEHOME equal to 1. To silence this message, set\n",
      "the environment variable SIRE_SILENT_PHONEHOME to 1.\n",
      "==============================================================\n",
      "\n"
     ]
    }
   ],
   "source": [
    "import BioSimSpace as bss\n",
    "import os\n",
    "import nglview as nv\n",
    "import subprocess as sp"
   ]
  },
  {
   "cell_type": "code",
   "execution_count": 3,
   "metadata": {},
   "outputs": [],
   "source": [
    "def change_barostat(system: bss._SireWrappers._system.System,\n",
    "                    protocol: bss.Protocol._equilibration.Equilibration,\n",
    "                    work_directory: str,\n",
    "                    process_name: str) -> None:\n",
    "    \"\"\"\n",
    "    Change barostat in .mdp file for NPT runs\n",
    "    @param: system\n",
    "    @param: protocol\n",
    "    @param: work_directory\n",
    "    @param: process name\n",
    "    @return: None\n",
    "    \"\"\"\n",
    "    try:\n",
    "        process = bss.Process.Gromacs(system,\n",
    "                                      protocol,\n",
    "                                      name=process_name,\n",
    "                                      work_dir=work_directory)\n",
    "    except RuntimeError:\n",
    "\n",
    "        with open(f\"{work_directory}/{process_name}.mdp\", \"r\") as mdp:\n",
    "            lines = mdp.read()\n",
    "\n",
    "        new_lines = lines.replace(\"pcoupl = berendsen\", \"pcoupl = C-rescale\")\n",
    "        with open(f\"{work_directory}/{process_name}.mdp\", \"w\") as mdp:\n",
    "            mdp.write(new_lines)\n"
   ]
  },
  {
   "cell_type": "code",
   "execution_count": 4,
   "metadata": {},
   "outputs": [],
   "source": [
    "def write_mdp(work_dir: str, process_name: str, custom_options=[], default=True):\n",
    "    \"\"\"\n",
    "    Write an mdp file for minimisation\n",
    "    \"\"\"\n",
    "    default_options = [\"nstlog = 100\",\n",
    "                       \"integrator = steep\",\n",
    "                       \"nstcgsteep = 1000\",\n",
    "                       \"nsteps = 2000\",\n",
    "                       \"pbc = xyz\",\n",
    "                       \"cutoff-scheme = Verlet\",\n",
    "                       \"ns-type = grid\",\n",
    "                       \"nstlist = 20\",\n",
    "                       \"coulombtype = PME\",\n",
    "                       \"rvdw = 1.0\",\n",
    "                       \"rcoulomb = 1.0\",\n",
    "                       \"DispCorr = EnerPres\",\n",
    "                       \"vdwtype = Cut-off\",\n",
    "                       \"refcoord-scaling = all\"]\n",
    "    if default: \n",
    "        # print(\"Writing default mdp file.\")\n",
    "        with open(f\"{work_dir}/{process_name}.mdp\", \"w\") as mdp:\n",
    "            for opt in default_options:\n",
    "                mdp.write(f\"{opt}\\n\")\n",
    "        if len(custom_options) > 0:\n",
    "            # print(\"Appending custom options.\")\n",
    "            with open(f\"{work_dir}/{process_name}.mdp\", \"a\") as mdp:\n",
    "                for opt in custom_options:\n",
    "                    mdp.write(f\"{opt}\\n\")\n",
    "    elif not default and custom_options != []:\n",
    "        # print(\"Writing custom mdp file.\")\n",
    "        with open(f\"{work_dir}/{process_name}.mdp\", \"w\") as mdp:\n",
    "            for opt in custom_options:\n",
    "                mdp.write(f\"{opt}\\n\")\n",
    "    else:\n",
    "        print(\"Custom options not specified. Not writing mdp file.\")\n",
    "\n"
   ]
  },
  {
   "cell_type": "code",
   "execution_count": 5,
   "metadata": {},
   "outputs": [],
   "source": [
    "def write_script(work_dir: str, process_name: str, restrained=False, previous=\"\") -> str:\n",
    "    script_name = work_dir + \"/\" + process_name + \".sh\"\n",
    "    with open(script_name, \"w\") as script:\n",
    "        script.write(\"#!/bin/bash \\n\")\n",
    "        script.write(f\"cd {work_dir} \\n\")\n",
    "        if not restrained and previous == \"\":\n",
    "            script.write(f\"gmx grompp -f {process_name}.mdp -c {process_name}.gro -p {process_name}.top -o {process_name}.tpr \\n\")\n",
    "        elif restrained and previous == \"min\": \n",
    "            script.write(f\"gmx grompp -f {process_name}.mdp -c ../{previous}/{previous}.gro -r ../{previous}/{previous}.gro -p {process_name}.top -o {process_name}.tpr \\n\")\n",
    "        elif not restrained and previous != \"\":\n",
    "            script.write(f\"gmx grompp -f {process_name}.mdp -c ../{previous}/{previous}.gro -p {process_name}.top -t ../{previous}/{previous}.cpt -o {process_name}.tpr \\n\")\n",
    "        elif restrained and previous != \"\":\n",
    "            script.write(f\"gmx grompp -f {process_name}.mdp -c ../{previous}/{previous}.gro -r ../{previous}/{previous}.gro -p {process_name}.top -t ../{previous}/{previous}.cpt -o {process_name}.tpr \\n\") \n",
    "        script.write(f\"nohup gmx mdrun -v -deffnm {process_name} -nt 1 -nb gpu > nohup_{process_name}.out &\")\n",
    "    os.system(f\"chmod +x {script_name}\")\n",
    "    executable = script_name.split(\"/\")[-1]\n",
    "    return executable\n"
   ]
  },
  {
   "cell_type": "code",
   "execution_count": 6,
   "metadata": {},
   "outputs": [],
   "source": [
    "def write_log_file(work_dir: str, process_name: str, subprocess: sp.CompletedProcess) -> None:\n",
    "    \"\"\"\n",
    "    Write custom log file for gromacs processes.\n",
    "    \"\"\"\n",
    "    try:\n",
    "        if \"error\" in subprocess.stderr or \"error\" in subprocess.stdout:\n",
    "            print(f\"There was an error with {process_name}.sh. Please check the log file.\")\n",
    "        with open(f\"{work_dir}/{process_name}.out\", \"w\") as log_file:\n",
    "            log_file.writelines(subprocess.stdout)\n",
    "            log_file.writelines(subprocess.stderr)\n",
    "    except FileNotFoundError:\n",
    "        print(f\"File {work_dir}/{process_name}.out does not exist.\")\n",
    "    except NotADirectoryError as e:\n",
    "        print(e)"
   ]
  },
  {
   "cell_type": "code",
   "execution_count": 7,
   "metadata": {},
   "outputs": [],
   "source": [
    "minimisation_steps = 2000\n",
    "picosecond = bss.Units.Time.picosecond\n",
    "kelvin = bss.Units.Temperature.kelvin\n",
    "atm = bss.Units.Pressure.atm\n",
    "short_nvt_runtime = 5 * picosecond\n",
    "nvt_runtime = 50 * picosecond\n",
    "npt_runtime = 200 * picosecond\n",
    "\n"
   ]
  },
  {
   "cell_type": "code",
   "execution_count": 21,
   "metadata": {},
   "outputs": [
    {
     "data": {
      "text/plain": [
       "2"
      ]
     },
     "execution_count": 21,
     "metadata": {},
     "output_type": "execute_result"
    }
   ],
   "source": [
    "n_ligands = 2\n",
    "ligand_datafile = open(\"ligands.dat\", \"r\")\n",
    "ligand_lines = ligand_datafile.readlines()\n",
    "\n",
    "for i in range(n_ligands):\n",
    "    ligand_name = ligand_lines[i].rstrip()\n",
    "    os.system(f\"mkdir -p ../runs/equilibration/unbound/{ligand_name}\")\n",
    "    ligand_work_dir = f\"../runs/equilibration/unbound/{ligand_name}\"\n",
    "    os.system(f\"mkdir {ligand_work_dir}/min/\")    \n",
    "    os.system(f\"mkdir {ligand_work_dir}/r_nvt/\")\n",
    "    os.system(f\"mkdir {ligand_work_dir}/nvt/\")  \n",
    "    os.system(f\"mkdir {ligand_work_dir}/r_npt/\")      \n",
    "    os.system(f\"mkdir {ligand_work_dir}/npt/\")      \n",
    "\n",
    "    ligand_min_unbound_dir = f\"{ligand_work_dir}/min\" \n",
    "    ligand_r_nvt_unbound_dir = f\"{ligand_work_dir}/r_nvt\"  \n",
    "    ligand_nvt_unbound_dir = f\"{ligand_work_dir}/nvt\"  \n",
    "    ligand_r_npt_unbound_dir = f\"{ligand_work_dir}/r_npt\"\n",
    "    ligand_npt_unbound_dir = f\"{ligand_work_dir}/npt\"\n",
    "    \n",
    "    ligand_min_script = write_script(ligand_min_unbound_dir, \"min\")\n",
    "    ligand_r_nvt_script = write_script(ligand_r_nvt_unbound_dir, \"r_nvt\", restrained=True, previous=\"min\")\n",
    "    ligand_nvt_script = write_script(ligand_nvt_unbound_dir, \"nvt\", previous=\"r_nvt\")\n",
    "    ligand_r_npt_script = write_script(ligand_r_npt_unbound_dir, \"r_npt\", restrained=True, previous=\"nvt\")\n",
    "    ligand_npt_script = write_script(ligand_npt_unbound_dir, \"npt\", previous=\"r_npt\")\n"
   ]
  },
  {
   "cell_type": "code",
   "execution_count": 15,
   "metadata": {},
   "outputs": [],
   "source": [
    "for i in range(n_ligands):\n",
    "    ligand_name = ligand_lines[i].rstrip()\n",
    "    ligand_work_dir = f\"../runs/equilibration/unbound/{ligand_name}\"\n",
    "    ligand_min_unbound_dir = f\"{ligand_work_dir}/min\" \n",
    "    solvated_ligand = bss.IO.readMolecules([f\"../inputs/ligands/{ligand_name}_solv.prm7\",\n",
    "                                            f\"../inputs/ligands/{ligand_name}_solv.rst7\"])\n",
    "    ligand_minimisation_protocol = bss.Protocol.Minimisation(steps=minimisation_steps)\n",
    "    ligand_minimisation_process = bss.Process.Gromacs(solvated_ligand,\n",
    "                                                      ligand_minimisation_protocol,\n",
    "                                                      name=\"min\",\n",
    "                                                      work_dir=ligand_min_unbound_dir)\n",
    "    write_mdp(ligand_min_unbound_dir, \"min\")\n",
    "    min_sp = sp.run([\"sh\", f\"{ligand_min_unbound_dir}/{ligand_min_script}\"], capture_output=True, text=True)\n",
    "    write_log_file(ligand_min_unbound_dir, \"min\", min_sp)"
   ]
  },
  {
   "cell_type": "code",
   "execution_count": 16,
   "metadata": {},
   "outputs": [],
   "source": [
    "for i in range(n_ligands):\n",
    "    ligand_name = ligand_lines[i].rstrip()\n",
    "    ligand_work_dir = f\"../runs/equilibration/unbound/{ligand_name}\"\n",
    "    ligand_r_nvt_unbound_dir = f\"{ligand_work_dir}/r_nvt\" \n",
    "    ligand_min_unbound_dir = f\"{ligand_work_dir}/min\" \n",
    "    minimised_ligand = bss.IO.readMolecules([f\"{ligand_min_unbound_dir}/min.gro\",\n",
    "                                             f\"{ligand_min_unbound_dir}/min.top\"])\n",
    "    ligand_r_nvt_protocol = bss.Protocol.Equilibration(runtime=short_nvt_runtime,\n",
    "                                                       temperature_start=0*kelvin,\n",
    "                                                       temperature_end=300*kelvin,\n",
    "                                                       restraint=\"all\")\n",
    "    ligand_r_nvt_process = bss.Process.Gromacs(minimised_ligand,\n",
    "                                               ligand_r_nvt_protocol,\n",
    "                                               name=\"r_nvt\",\n",
    "                                               work_dir=ligand_r_nvt_unbound_dir)\n",
    "    r_nvt_sp = sp.run([\"sh\", f\"{ligand_r_nvt_unbound_dir}/{ligand_r_nvt_script}\"], capture_output=True, text=True)\n",
    "    write_log_file(ligand_r_nvt_unbound_dir, \"r_nvt\", r_nvt_sp)                                            \n",
    "        "
   ]
  },
  {
   "cell_type": "code",
   "execution_count": 18,
   "metadata": {},
   "outputs": [],
   "source": [
    "for i in range(n_ligands):\n",
    "    ligand_name = ligand_lines[i].rstrip()\n",
    "    ligand_work_dir = f\"../runs/equilibration/unbound/{ligand_name}\"\n",
    "    ligand_nvt_unbound_dir = f\"{ligand_work_dir}/nvt\" \n",
    "    ligand_r_nvt_unbound_dir = f\"{ligand_work_dir}/r_nvt\" \n",
    "    restrained_nvt_ligand = bss.IO.readMolecules([f\"{ligand_r_nvt_unbound_dir}/r_nvt.gro\",\n",
    "                                                  f\"{ligand_r_nvt_unbound_dir}/r_nvt.top\"])\n",
    "    ligand_nvt_protocol = bss.Protocol.Equilibration(runtime=nvt_runtime,\n",
    "                                                     temperature=300*kelvin)\n",
    "    ligand_nvt_process = bss.Process.Gromacs(restrained_nvt_ligand,\n",
    "                                             ligand_nvt_protocol,\n",
    "                                             name=\"nvt\",\n",
    "                                             work_dir=ligand_nvt_unbound_dir) \n",
    "    nvt_sp = sp.run([\"sh\", f\"{ligand_nvt_unbound_dir}/{ligand_nvt_script}\"], capture_output=True, text=True)\n",
    "    write_log_file(ligand_nvt_unbound_dir, \"nvt\", nvt_sp)     "
   ]
  },
  {
   "cell_type": "code",
   "execution_count": 19,
   "metadata": {},
   "outputs": [],
   "source": [
    "for i in range(n_ligands):\n",
    "    ligand_name = ligand_lines[i].rstrip()\n",
    "    ligand_work_dir = f\"../runs/equilibration/unbound/{ligand_name}\"\n",
    "    ligand_nvt_unbound_dir = f\"{ligand_work_dir}/nvt\" \n",
    "    ligand_r_npt_unbound_dir = f\"{ligand_work_dir}/r_npt\"\n",
    "    ligand_nvt = bss.IO.readMolecules([f\"{ligand_nvt_unbound_dir}/nvt.gro\",\n",
    "                                       f\"{ligand_nvt_unbound_dir}/nvt.top\"])\n",
    "    ligand_r_npt_protocol = bss.Protocol.Equilibration(runtime=npt_runtime,\n",
    "                                                       pressure=1*atm,\n",
    "                                                       temperature=300*kelvin,\n",
    "                                                       restraint=\"heavy\")\n",
    "    change_barostat(ligand_nvt, ligand_r_npt_protocol, ligand_r_npt_unbound_dir, \"r_npt\")\n",
    "    r_npt_sp = sp.run([\"sh\", f\"{ligand_r_npt_unbound_dir}/{ligand_r_npt_script}\"], capture_output=True, text=True)\n",
    "    write_log_file(ligand_r_npt_unbound_dir, \"r_npt\", r_npt_sp)     "
   ]
  },
  {
   "cell_type": "code",
   "execution_count": 20,
   "metadata": {},
   "outputs": [],
   "source": [
    "for i in range(n_ligands):\n",
    "    ligand_name = ligand_lines[i].rstrip()\n",
    "    ligand_work_dir = f\"../runs/equilibration/unbound/{ligand_name}\"\n",
    "    ligand_npt_unbound_dir = f\"{ligand_work_dir}/npt\" \n",
    "    ligand_r_npt_unbound_dir = f\"{ligand_work_dir}/r_npt\"\n",
    "    restrained_npt_ligand = bss.IO.readMolecules([f\"{ligand_r_npt_unbound_dir}/r_npt.gro\",\n",
    "                                                  f\"{ligand_r_npt_unbound_dir}/r_npt.top\"])\n",
    "    ligand_npt_protocol = bss.Protocol.Equilibration(runtime=npt_runtime,\n",
    "                                                     pressure=1*atm,\n",
    "                                                     temperature=300*kelvin)    \n",
    "    change_barostat(restrained_npt_ligand, ligand_npt_protocol, ligand_npt_unbound_dir, \"npt\")\n",
    "    npt_sp = sp.run([\"sh\", f\"{ligand_npt_unbound_dir}/{ligand_npt_script}\"], capture_output=True, text=True)\n",
    "    write_log_file(ligand_npt_unbound_dir, \"npt\", npt_sp)     "
   ]
  },
  {
   "cell_type": "code",
   "execution_count": 6,
   "metadata": {},
   "outputs": [
    {
     "data": {
      "text/plain": [
       "'8'"
      ]
     },
     "execution_count": 6,
     "metadata": {},
     "output_type": "execute_result"
    }
   ],
   "source": [
    "n_ligands = 2\n",
    "ligand_datafile = open(\"ligands.dat\", \"r\")\n",
    "ligand_lines = ligand_datafile.readlines()\n",
    "ligand_name = ligand_lines[0].rstrip().split(\"_\")[-1]\n",
    "ligand_name"
   ]
  },
  {
   "cell_type": "code",
   "execution_count": null,
   "metadata": {},
   "outputs": [],
   "source": []
  }
 ],
 "metadata": {
  "kernelspec": {
   "display_name": "Python 3.9.13 ('sire')",
   "language": "python",
   "name": "python3"
  },
  "language_info": {
   "codemirror_mode": {
    "name": "ipython",
    "version": 3
   },
   "file_extension": ".py",
   "mimetype": "text/x-python",
   "name": "python",
   "nbconvert_exporter": "python",
   "pygments_lexer": "ipython3",
   "version": "3.9.13"
  },
  "orig_nbformat": 4,
  "vscode": {
   "interpreter": {
    "hash": "d26aaf8360ec79b5d34f6b3f2ca21f083671eb70d713101a39f31e19235f4f34"
   }
  }
 },
 "nbformat": 4,
 "nbformat_minor": 2
}
