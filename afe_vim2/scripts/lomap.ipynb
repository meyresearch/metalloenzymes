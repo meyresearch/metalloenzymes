{
 "cells": [
  {
   "cell_type": "code",
   "execution_count": 2,
   "metadata": {},
   "outputs": [],
   "source": [
    "import BioSimSpace as bss\n",
    "# import nglview as nv\n",
    "import glob"
   ]
  },
  {
   "cell_type": "code",
   "execution_count": 3,
   "metadata": {},
   "outputs": [],
   "source": [
    "path_to_ligands = \"../inputs/ligands/\""
   ]
  },
  {
   "cell_type": "code",
   "execution_count": 4,
   "metadata": {},
   "outputs": [
    {
     "ename": "OSError",
     "evalue": "The directory /tmp/tmptjwyemtm/inputs must contain at least two mol2/sdf files",
     "output_type": "error",
     "traceback": [
      "\u001b[0;31m---------------------------------------------------------------------------\u001b[0m",
      "\u001b[0;31mOSError\u001b[0m                                   Traceback (most recent call last)",
      "Cell \u001b[0;32mIn [4], line 10\u001b[0m\n\u001b[1;32m      7\u001b[0m     ligands\u001b[39m.\u001b[39mappend(bss\u001b[39m.\u001b[39mIO\u001b[39m.\u001b[39mreadMolecules(filepath)[\u001b[39m0\u001b[39m])\n\u001b[1;32m      8\u001b[0m     ligand_names\u001b[39m.\u001b[39mappend(filepath\u001b[39m.\u001b[39msplit(\u001b[39m\"\u001b[39m\u001b[39m/\u001b[39m\u001b[39m\"\u001b[39m)[\u001b[39m-\u001b[39m\u001b[39m1\u001b[39m]\u001b[39m.\u001b[39mreplace(\u001b[39m\"\u001b[39m\u001b[39m.sdf\u001b[39m\u001b[39m\"\u001b[39m,\u001b[39m\"\u001b[39m\u001b[39m\"\u001b[39m))\n\u001b[0;32m---> 10\u001b[0m transformations, lomap_scores \u001b[39m=\u001b[39m bss\u001b[39m.\u001b[39;49mAlign\u001b[39m.\u001b[39;49mgenerateNetwork(ligands, plot_network\u001b[39m=\u001b[39;49m\u001b[39mTrue\u001b[39;49;00m)\n",
      "File \u001b[0;32m~/BioSimSpace/python/BioSimSpace/Align/_align.py:374\u001b[0m, in \u001b[0;36mgenerateNetwork\u001b[0;34m(molecules, names, work_dir, plot_network, links_file, property_map, n_edges_forced)\u001b[0m\n\u001b[1;32m    371\u001b[0m     lf \u001b[39m=\u001b[39m \u001b[39mNone\u001b[39;00m\n\u001b[1;32m    373\u001b[0m \u001b[39m# Create the DBMolecules object.\u001b[39;00m\n\u001b[0;32m--> 374\u001b[0m db_mol \u001b[39m=\u001b[39m _lomap\u001b[39m.\u001b[39;49mDBMolecules(\u001b[39mf\u001b[39;49m\u001b[39m\"\u001b[39;49m\u001b[39m{\u001b[39;49;00mwork_dir\u001b[39m}\u001b[39;49;00m\u001b[39m/inputs\u001b[39;49m\u001b[39m\"\u001b[39;49m,\n\u001b[1;32m    375\u001b[0m                             name\u001b[39m=\u001b[39;49m\u001b[39mf\u001b[39;49m\u001b[39m\"\u001b[39;49m\u001b[39m{\u001b[39;49;00mwork_dir\u001b[39m}\u001b[39;49;00m\u001b[39m/outputs/lomap\u001b[39;49m\u001b[39m\"\u001b[39;49m,\n\u001b[1;32m    376\u001b[0m                             links_file\u001b[39m=\u001b[39;49mlf,\n\u001b[1;32m    377\u001b[0m                             output\u001b[39m=\u001b[39;49m\u001b[39mTrue\u001b[39;49;00m,\n\u001b[1;32m    378\u001b[0m                             output_no_graph\u001b[39m=\u001b[39;49m\u001b[39mTrue\u001b[39;49;00m,\n\u001b[1;32m    379\u001b[0m                             output_no_images\u001b[39m=\u001b[39;49m\u001b[39mTrue\u001b[39;49;00m,\n\u001b[1;32m    380\u001b[0m                             threed\u001b[39m=\u001b[39;49m\u001b[39mTrue\u001b[39;49;00m,\n\u001b[1;32m    381\u001b[0m                             max3d\u001b[39m=\u001b[39;49m\u001b[39m3.0\u001b[39;49m,\n\u001b[1;32m    382\u001b[0m                             time\u001b[39m=\u001b[39;49m\u001b[39m3\u001b[39;49m,\n\u001b[1;32m    383\u001b[0m                             parallel\u001b[39m=\u001b[39;49m\u001b[39m10\u001b[39;49m)\n\u001b[1;32m    385\u001b[0m \u001b[39m# Create the similarity matrices.\u001b[39;00m\n\u001b[1;32m    386\u001b[0m strict, loose \u001b[39m=\u001b[39m db_mol\u001b[39m.\u001b[39mbuild_matrices()\n",
      "File \u001b[0;32m~/Software/miniconda3/envs/sire/lib/python3.9/site-packages/lomap/dbmol.py:211\u001b[0m, in \u001b[0;36mDBMolecules.__init__\u001b[0;34m(self, directory, parallel, verbose, time, ecrscore, threed, max3d, element_change, output, name, output_no_images, output_no_graph, display, allow_tree, max, cutoff, radial, hub, fast, links_file, known_actives_file, max_dist_from_actives)\u001b[0m\n\u001b[1;32m    208\u001b[0m \u001b[39mself\u001b[39m\u001b[39m.\u001b[39moptions[\u001b[39m'\u001b[39m\u001b[39mknown_actives_file\u001b[39m\u001b[39m'\u001b[39m] \u001b[39m=\u001b[39m known_actives_file\n\u001b[1;32m    210\u001b[0m \u001b[39m# Internal list container used to store the loaded molecule objects\u001b[39;00m\n\u001b[0;32m--> 211\u001b[0m \u001b[39mself\u001b[39m\u001b[39m.\u001b[39m_list \u001b[39m=\u001b[39m \u001b[39mself\u001b[39;49m\u001b[39m.\u001b[39;49mread_molecule_files()\n\u001b[1;32m    213\u001b[0m \u001b[39m# Dictionary which holds the mapping between the generated molecule IDs and molecule file names\u001b[39;00m\n\u001b[1;32m    214\u001b[0m \u001b[39mself\u001b[39m\u001b[39m.\u001b[39mdic_mapping \u001b[39m=\u001b[39m {}\n",
      "File \u001b[0;32m~/Software/miniconda3/envs/sire/lib/python3.9/site-packages/lomap/dbmol.py:345\u001b[0m, in \u001b[0;36mDBMolecules.read_molecule_files\u001b[0;34m(self)\u001b[0m\n\u001b[1;32m    342\u001b[0m mol_fnames\u001b[39m.\u001b[39msort()\n\u001b[1;32m    344\u001b[0m \u001b[39mif\u001b[39;00m \u001b[39mlen\u001b[39m(mol_fnames) \u001b[39m<\u001b[39m \u001b[39m2\u001b[39m:\n\u001b[0;32m--> 345\u001b[0m     \u001b[39mraise\u001b[39;00m \u001b[39mIOError\u001b[39;00m(\u001b[39mf\u001b[39m\u001b[39m'\u001b[39m\u001b[39mThe directory \u001b[39m\u001b[39m{\u001b[39;00m\u001b[39mself\u001b[39m\u001b[39m.\u001b[39moptions[\u001b[39m\"\u001b[39m\u001b[39mdirectory\u001b[39m\u001b[39m\"\u001b[39m]\u001b[39m}\u001b[39;00m\u001b[39m must contain at least two mol2/sdf files\u001b[39m\u001b[39m'\u001b[39m)\n\u001b[1;32m    347\u001b[0m print_cnt \u001b[39m=\u001b[39m \u001b[39m0\u001b[39m\n\u001b[1;32m    348\u001b[0m mol_id_cnt \u001b[39m=\u001b[39m \u001b[39m0\u001b[39m\n",
      "\u001b[0;31mOSError\u001b[0m: The directory /tmp/tmptjwyemtm/inputs must contain at least two mol2/sdf files"
     ]
    }
   ],
   "source": [
    "ligand_files = sorted(glob.glob(\"{}/*.sdf\".format(path_to_ligands)))\n",
    "\n",
    "ligands = []\n",
    "ligand_names = []\n",
    "\n",
    "for filepath in ligand_files:\n",
    "    ligands.append(bss.IO.readMolecules(filepath)[0])\n",
    "    ligand_names.append(filepath.split(\"/\")[-1].replace(\".sdf\",\"\"))\n",
    "\n",
    "transformations, lomap_scores = bss.Align.generateNetwork(ligands, plot_network=True)"
   ]
  },
  {
   "cell_type": "code",
   "execution_count": 27,
   "metadata": {},
   "outputs": [
    {
     "name": "stdout",
     "output_type": "stream",
     "text": [
      "1 ../inputs/ligands/ligand_1.sdf\n",
      "2 ../inputs/ligands/ligand_10.sdf\n",
      "3 ../inputs/ligands/ligand_11.sdf\n",
      "4 ../inputs/ligands/ligand_12.sdf\n",
      "5 ../inputs/ligands/ligand_13.sdf\n",
      "6 ../inputs/ligands/ligand_14.sdf\n",
      "7 ../inputs/ligands/ligand_15.sdf\n",
      "8 ../inputs/ligands/ligand_16.sdf\n",
      "9 ../inputs/ligands/ligand_2.sdf\n",
      "10 ../inputs/ligands/ligand_4.sdf\n",
      "11 ../inputs/ligands/ligand_5.sdf\n",
      "12 ../inputs/ligands/ligand_6.sdf\n",
      "13 ../inputs/ligands/ligand_7.sdf\n",
      "14 ../inputs/ligands/ligand_8.sdf\n",
      "15 ../inputs/ligands/ligand_9.sdf\n"
     ]
    }
   ],
   "source": [
    "for i in range(len(ligands)):\n",
    "    print(i+1, ligand_files[i])"
   ]
  },
  {
   "cell_type": "code",
   "execution_count": 3,
   "metadata": {},
   "outputs": [
    {
     "name": "stdout",
     "output_type": "stream",
     "text": [
      "/home/jguven/BioSimSpace/python\n"
     ]
    }
   ],
   "source": [
    "! echo $PYTHONPATH"
   ]
  },
  {
   "cell_type": "code",
   "execution_count": 2,
   "metadata": {},
   "outputs": [],
   "source": [
    "dict = {\n",
    "\t\"name\": \"ModuleNotFoundError\",\n",
    "\t\"message\": \"No module named 'pint.measurement'\",\n",
    "\t\"stack\": \"\\u001b[0;31m---------------------------------------------------------------------------\\u001b[0m\\n\\u001b[0;31mModuleNotFoundError\\u001b[0m                       Traceback (most recent call last)\\nCell \\u001b[0;32mIn [1], line 1\\u001b[0m\\n\\u001b[0;32m----> 1\\u001b[0m \\u001b[39mimport\\u001b[39;00m \\u001b[39mBioSimSpace\\u001b[39;00m\\n\\nFile \\u001b[0;32m~/BioSimSpace/python/BioSimSpace/__init__.py:209\\u001b[0m\\n\\u001b[1;32m    207\\u001b[0m \\u001b[39mfrom\\u001b[39;00m \\u001b[39m.\\u001b[39;00m \\u001b[39mimport\\u001b[39;00m Node\\n\\u001b[1;32m    208\\u001b[0m \\u001b[39mfrom\\u001b[39;00m \\u001b[39m.\\u001b[39;00m \\u001b[39mimport\\u001b[39;00m Notebook\\n\\u001b[0;32m--> 209\\u001b[0m \\u001b[39mfrom\\u001b[39;00m \\u001b[39m.\\u001b[39;00m \\u001b[39mimport\\u001b[39;00m Parameters\\n\\u001b[1;32m    210\\u001b[0m \\u001b[39mfrom\\u001b[39;00m \\u001b[39m.\\u001b[39;00m \\u001b[39mimport\\u001b[39;00m Process\\n\\u001b[1;32m    211\\u001b[0m \\u001b[39mfrom\\u001b[39;00m \\u001b[39m.\\u001b[39;00m \\u001b[39mimport\\u001b[39;00m Protocol\\n\\nFile \\u001b[0;32m~/BioSimSpace/python/BioSimSpace/Parameters/__init__.py:163\\u001b[0m\\n\\u001b[1;32m      1\\u001b[0m \\u001b[39m######################################################################\\u001b[39;00m\\n\\u001b[1;32m      2\\u001b[0m \\u001b[39m# BioSimSpace: Making biomolecular simulation a breeze!\\u001b[39;00m\\n\\u001b[1;32m      3\\u001b[0m \\u001b[39m#\\u001b[39;00m\\n\\u001b[0;32m   (...)\\u001b[0m\\n\\u001b[1;32m     19\\u001b[0m \\u001b[39m# along with BioSimSpace. If not, see <http://www.gnu.org/licenses/>.\\u001b[39;00m\\n\\u001b[1;32m     20\\u001b[0m \\u001b[39m#####################################################################\\u001b[39;00m\\n\\u001b[1;32m     22\\u001b[0m \\u001b[39m\\\"\\\"\\\"\\u001b[39;00m\\n\\u001b[1;32m     23\\u001b[0m \\u001b[39m.. currentmodule:: BioSimSpace.Parameters\\u001b[39;00m\\n\\u001b[1;32m     24\\u001b[0m \\n\\u001b[0;32m   (...)\\u001b[0m\\n\\u001b[1;32m    160\\u001b[0m \\u001b[39m   molecule = BSS.Parameters.ff14SB(molecule, leap_commands=leap_commands).getMolecule()\\u001b[39;00m\\n\\u001b[1;32m    161\\u001b[0m \\u001b[39m\\\"\\\"\\\"\\u001b[39;00m\\n\\u001b[0;32m--> 163\\u001b[0m \\u001b[39mfrom\\u001b[39;00m \\u001b[39m.\\u001b[39;00m\\u001b[39m_parameters\\u001b[39;00m \\u001b[39mimport\\u001b[39;00m \\u001b[39m*\\u001b[39m\\n\\u001b[1;32m    164\\u001b[0m \\u001b[39mfrom\\u001b[39;00m \\u001b[39m.\\u001b[39;00m\\u001b[39m_utils\\u001b[39;00m \\u001b[39mimport\\u001b[39;00m \\u001b[39m*\\u001b[39m\\n\\nFile \\u001b[0;32m~/BioSimSpace/python/BioSimSpace/Parameters/_parameters.py:50\\u001b[0m\\n\\u001b[1;32m     47\\u001b[0m \\u001b[39mfrom\\u001b[39;00m \\u001b[39m.\\u001b[39;00m\\u001b[39m.\\u001b[39;00m\\u001b[39mTypes\\u001b[39;00m \\u001b[39mimport\\u001b[39;00m Charge \\u001b[39mas\\u001b[39;00m _Charge\\n\\u001b[1;32m     48\\u001b[0m \\u001b[39mfrom\\u001b[39;00m \\u001b[39m.\\u001b[39;00m\\u001b[39m.\\u001b[39;00m\\u001b[39m_Utils\\u001b[39;00m \\u001b[39mimport\\u001b[39;00m _try_import, _have_imported\\n\\u001b[0;32m---> 50\\u001b[0m \\u001b[39mfrom\\u001b[39;00m \\u001b[39m.\\u001b[39;00m\\u001b[39m_process\\u001b[39;00m \\u001b[39mimport\\u001b[39;00m Process \\u001b[39mas\\u001b[39;00m _Process\\n\\u001b[1;32m     51\\u001b[0m \\u001b[39mfrom\\u001b[39;00m \\u001b[39m.\\u001b[39;00m \\u001b[39mimport\\u001b[39;00m Protocol \\u001b[39mas\\u001b[39;00m _Protocol\\n\\u001b[1;32m     53\\u001b[0m \\u001b[39mdef\\u001b[39;00m \\u001b[39mparameterise\\u001b[39m(molecule, forcefield, water_model\\u001b[39m=\\u001b[39m\\u001b[39mNone\\u001b[39;00m, work_dir\\u001b[39m=\\u001b[39m\\u001b[39mNone\\u001b[39;00m, property_map\\u001b[39m=\\u001b[39m{}):\\n\\nFile \\u001b[0;32m~/BioSimSpace/python/BioSimSpace/Parameters/_process.py:60\\u001b[0m\\n\\u001b[1;32m     57\\u001b[0m \\u001b[39mfrom\\u001b[39;00m \\u001b[39m.\\u001b[39;00m\\u001b[39m.\\u001b[39;00m\\u001b[39m_Exceptions\\u001b[39;00m \\u001b[39mimport\\u001b[39;00m ParameterisationError \\u001b[39mas\\u001b[39;00m _ParameterisationError\\n\\u001b[1;32m     58\\u001b[0m \\u001b[39mfrom\\u001b[39;00m \\u001b[39m.\\u001b[39;00m\\u001b[39m.\\u001b[39;00m\\u001b[39m_SireWrappers\\u001b[39;00m \\u001b[39mimport\\u001b[39;00m Molecule \\u001b[39mas\\u001b[39;00m _Molecule\\n\\u001b[0;32m---> 60\\u001b[0m \\u001b[39mfrom\\u001b[39;00m \\u001b[39m.\\u001b[39;00m \\u001b[39mimport\\u001b[39;00m Protocol \\u001b[39mas\\u001b[39;00m _Protocol\\n\\u001b[1;32m     62\\u001b[0m \\u001b[39mif\\u001b[39;00m _is_notebook:\\n\\u001b[1;32m     63\\u001b[0m     \\u001b[39mfrom\\u001b[39;00m \\u001b[39mIPython\\u001b[39;00m\\u001b[39m.\\u001b[39;00m\\u001b[39mdisplay\\u001b[39;00m \\u001b[39mimport\\u001b[39;00m FileLink \\u001b[39mas\\u001b[39;00m _FileLink\\n\\nFile \\u001b[0;32m~/BioSimSpace/python/BioSimSpace/Parameters/Protocol/__init__.py:27\\u001b[0m\\n\\u001b[1;32m      1\\u001b[0m \\u001b[39m######################################################################\\u001b[39;00m\\n\\u001b[1;32m      2\\u001b[0m \\u001b[39m# BioSimSpace: Making biomolecular simulation a breeze!\\u001b[39;00m\\n\\u001b[1;32m      3\\u001b[0m \\u001b[39m#\\u001b[39;00m\\n\\u001b[0;32m   (...)\\u001b[0m\\n\\u001b[1;32m     19\\u001b[0m \\u001b[39m# along with BioSimSpace. If not, see <http://www.gnu.org/licenses/>.\\u001b[39;00m\\n\\u001b[1;32m     20\\u001b[0m \\u001b[39m#####################################################################\\u001b[39;00m\\n\\u001b[1;32m     22\\u001b[0m \\u001b[39m\\\"\\\"\\\"\\u001b[39;00m\\n\\u001b[1;32m     23\\u001b[0m \\u001b[39mProtocol for parameterising molecules.\\u001b[39;00m\\n\\u001b[1;32m     24\\u001b[0m \\u001b[39mAuthor: Lester Hedges <lester.hedges@gmail.com>\\u001b[39;00m\\n\\u001b[1;32m     25\\u001b[0m \\u001b[39m\\\"\\\"\\\"\\u001b[39;00m\\n\\u001b[0;32m---> 27\\u001b[0m \\u001b[39mfrom\\u001b[39;00m \\u001b[39m.\\u001b[39;00m\\u001b[39m_protocol\\u001b[39;00m \\u001b[39mimport\\u001b[39;00m Protocol \\u001b[39mas\\u001b[39;00m _Protocol\\n\\u001b[1;32m     28\\u001b[0m \\u001b[39mfrom\\u001b[39;00m \\u001b[39m.\\u001b[39;00m\\u001b[39m_amber\\u001b[39;00m \\u001b[39mimport\\u001b[39;00m \\u001b[39m*\\u001b[39m\\n\\u001b[1;32m     29\\u001b[0m \\u001b[39mfrom\\u001b[39;00m \\u001b[39m.\\u001b[39;00m\\u001b[39m_openforcefield\\u001b[39;00m \\u001b[39mimport\\u001b[39;00m \\u001b[39m*\\u001b[39m\\n\\nFile \\u001b[0;32m~/BioSimSpace/python/BioSimSpace/Parameters/Protocol/_protocol.py:46\\u001b[0m\\n\\u001b[1;32m     43\\u001b[0m _openff \\u001b[39m=\\u001b[39m _try_import(\\u001b[39m\\\"\\u001b[39m\\u001b[39mopenff\\u001b[39m\\u001b[39m\\\"\\u001b[39m)\\n\\u001b[1;32m     45\\u001b[0m \\u001b[39mif\\u001b[39;00m _have_imported(_openff):\\n\\u001b[0;32m---> 46\\u001b[0m     \\u001b[39mfrom\\u001b[39;00m \\u001b[39mopenff\\u001b[39;00m\\u001b[39m.\\u001b[39;00m\\u001b[39mtoolkit\\u001b[39;00m\\u001b[39m.\\u001b[39;00m\\u001b[39mtopology\\u001b[39;00m \\u001b[39mimport\\u001b[39;00m Molecule \\u001b[39mas\\u001b[39;00m _OpenFFMolecule\\n\\u001b[1;32m     47\\u001b[0m \\u001b[39melse\\u001b[39;00m:\\n\\u001b[1;32m     48\\u001b[0m     _OpenFFMolecule \\u001b[39m=\\u001b[39m _openff\\n\\nFile \\u001b[0;32m~/Software/miniconda3/envs/bss-d/lib/python3.9/site-packages/openff/toolkit/topology/__init__.py:1\\u001b[0m\\n\\u001b[0;32m----> 1\\u001b[0m \\u001b[39mfrom\\u001b[39;00m \\u001b[39mopenff\\u001b[39;00m\\u001b[39m.\\u001b[39;00m\\u001b[39mtoolkit\\u001b[39;00m\\u001b[39m.\\u001b[39;00m\\u001b[39mtopology\\u001b[39;00m\\u001b[39m.\\u001b[39;00m\\u001b[39mmolecule\\u001b[39;00m \\u001b[39mimport\\u001b[39;00m (\\n\\u001b[1;32m      2\\u001b[0m     Atom,\\n\\u001b[1;32m      3\\u001b[0m     Bond,\\n\\u001b[1;32m      4\\u001b[0m     FrozenMolecule,\\n\\u001b[1;32m      5\\u001b[0m     HierarchyElement,\\n\\u001b[1;32m      6\\u001b[0m     HierarchyScheme,\\n\\u001b[1;32m      7\\u001b[0m     Molecule,\\n\\u001b[1;32m      8\\u001b[0m     Particle,\\n\\u001b[1;32m      9\\u001b[0m )\\n\\u001b[1;32m     10\\u001b[0m \\u001b[39mfrom\\u001b[39;00m \\u001b[39mopenff\\u001b[39;00m\\u001b[39m.\\u001b[39;00m\\u001b[39mtoolkit\\u001b[39;00m\\u001b[39m.\\u001b[39;00m\\u001b[39mtopology\\u001b[39;00m\\u001b[39m.\\u001b[39;00m\\u001b[39mtopology\\u001b[39;00m \\u001b[39mimport\\u001b[39;00m (\\n\\u001b[1;32m     11\\u001b[0m     DuplicateUniqueMoleculeError,\\n\\u001b[1;32m     12\\u001b[0m     ImproperDict,\\n\\u001b[0;32m   (...)\\u001b[0m\\n\\u001b[1;32m     21\\u001b[0m     ValenceDict,\\n\\u001b[1;32m     22\\u001b[0m )\\n\\u001b[1;32m     24\\u001b[0m __all__ \\u001b[39m=\\u001b[39m [\\n\\u001b[1;32m     25\\u001b[0m     \\u001b[39m\\\"\\u001b[39m\\u001b[39mAtom\\u001b[39m\\u001b[39m\\\"\\u001b[39m,\\n\\u001b[1;32m     26\\u001b[0m     \\u001b[39m\\\"\\u001b[39m\\u001b[39mBond\\u001b[39m\\u001b[39m\\\"\\u001b[39m,\\n\\u001b[0;32m   (...)\\u001b[0m\\n\\u001b[1;32m     42\\u001b[0m     \\u001b[39m\\\"\\u001b[39m\\u001b[39mHierarchyElement\\u001b[39m\\u001b[39m\\\"\\u001b[39m,\\n\\u001b[1;32m     43\\u001b[0m ]\\n\\nFile \\u001b[0;32m~/Software/miniconda3/envs/bss-d/lib/python3.9/site-packages/openff/toolkit/topology/molecule.py:49\\u001b[0m\\n\\u001b[1;32m     47\\u001b[0m \\u001b[39mimport\\u001b[39;00m \\u001b[39mnetworkx\\u001b[39;00m \\u001b[39mas\\u001b[39;00m \\u001b[39mnx\\u001b[39;00m\\n\\u001b[1;32m     48\\u001b[0m \\u001b[39mimport\\u001b[39;00m \\u001b[39mnumpy\\u001b[39;00m \\u001b[39mas\\u001b[39;00m \\u001b[39mnp\\u001b[39;00m\\n\\u001b[0;32m---> 49\\u001b[0m \\u001b[39mfrom\\u001b[39;00m \\u001b[39mopenff\\u001b[39;00m\\u001b[39m.\\u001b[39;00m\\u001b[39munits\\u001b[39;00m \\u001b[39mimport\\u001b[39;00m unit\\n\\u001b[1;32m     50\\u001b[0m \\u001b[39mfrom\\u001b[39;00m \\u001b[39mopenff\\u001b[39;00m\\u001b[39m.\\u001b[39;00m\\u001b[39munits\\u001b[39;00m\\u001b[39m.\\u001b[39;00m\\u001b[39melements\\u001b[39;00m \\u001b[39mimport\\u001b[39;00m MASSES, SYMBOLS\\n\\u001b[1;32m     51\\u001b[0m \\u001b[39mfrom\\u001b[39;00m \\u001b[39mopenff\\u001b[39;00m\\u001b[39m.\\u001b[39;00m\\u001b[39mutilities\\u001b[39;00m\\u001b[39m.\\u001b[39;00m\\u001b[39mexceptions\\u001b[39;00m \\u001b[39mimport\\u001b[39;00m MissingOptionalDependencyError\\n\\nFile \\u001b[0;32m~/Software/miniconda3/envs/bss-d/lib/python3.9/site-packages/openff/units/__init__.py:4\\u001b[0m\\n\\u001b[1;32m      1\\u001b[0m \\u001b[39mfrom\\u001b[39;00m \\u001b[39mpint\\u001b[39;00m \\u001b[39mimport\\u001b[39;00m UnitRegistry\\n\\u001b[1;32m      3\\u001b[0m \\u001b[39mfrom\\u001b[39;00m \\u001b[39mopenff\\u001b[39;00m\\u001b[39m.\\u001b[39;00m\\u001b[39munits\\u001b[39;00m\\u001b[39m.\\u001b[39;00m\\u001b[39m_version\\u001b[39;00m \\u001b[39mimport\\u001b[39;00m get_versions  \\u001b[39m# type: ignore\\u001b[39;00m\\n\\u001b[0;32m----> 4\\u001b[0m \\u001b[39mfrom\\u001b[39;00m \\u001b[39mopenff\\u001b[39;00m\\u001b[39m.\\u001b[39;00m\\u001b[39munits\\u001b[39;00m\\u001b[39m.\\u001b[39;00m\\u001b[39munits\\u001b[39;00m \\u001b[39mimport\\u001b[39;00m DEFAULT_UNIT_REGISTRY, Measurement, Quantity, Unit\\n\\u001b[1;32m      6\\u001b[0m __all__ \\u001b[39m=\\u001b[39m [\\n\\u001b[1;32m      7\\u001b[0m     \\u001b[39m\\\"\\u001b[39m\\u001b[39munit\\u001b[39m\\u001b[39m\\\"\\u001b[39m,\\n\\u001b[1;32m      8\\u001b[0m     \\u001b[39m\\\"\\u001b[39m\\u001b[39mQuantity\\u001b[39m\\u001b[39m\\\"\\u001b[39m,\\n\\u001b[1;32m      9\\u001b[0m     \\u001b[39m\\\"\\u001b[39m\\u001b[39mMeasurement\\u001b[39m\\u001b[39m\\\"\\u001b[39m,\\n\\u001b[1;32m     10\\u001b[0m     \\u001b[39m\\\"\\u001b[39m\\u001b[39mUnit\\u001b[39m\\u001b[39m\\\"\\u001b[39m,\\n\\u001b[1;32m     11\\u001b[0m ]\\n\\u001b[1;32m     13\\u001b[0m unit: UnitRegistry \\u001b[39m=\\u001b[39m DEFAULT_UNIT_REGISTRY\\n\\nFile \\u001b[0;32m~/Software/miniconda3/envs/bss-d/lib/python3.9/site-packages/openff/units/units.py:11\\u001b[0m\\n\\u001b[1;32m      9\\u001b[0m \\u001b[39mimport\\u001b[39;00m \\u001b[39mpint\\u001b[39;00m\\n\\u001b[1;32m     10\\u001b[0m \\u001b[39mfrom\\u001b[39;00m \\u001b[39mopenff\\u001b[39;00m\\u001b[39m.\\u001b[39;00m\\u001b[39mutilities\\u001b[39;00m \\u001b[39mimport\\u001b[39;00m requires_package\\n\\u001b[0;32m---> 11\\u001b[0m \\u001b[39mfrom\\u001b[39;00m \\u001b[39mpint\\u001b[39;00m\\u001b[39m.\\u001b[39;00m\\u001b[39mmeasurement\\u001b[39;00m \\u001b[39mimport\\u001b[39;00m _Measurement\\n\\u001b[1;32m     12\\u001b[0m \\u001b[39mfrom\\u001b[39;00m \\u001b[39mpint\\u001b[39;00m\\u001b[39m.\\u001b[39;00m\\u001b[39mquantity\\u001b[39;00m \\u001b[39mimport\\u001b[39;00m _Quantity\\n\\u001b[1;32m     13\\u001b[0m \\u001b[39mfrom\\u001b[39;00m \\u001b[39mpint\\u001b[39;00m\\u001b[39m.\\u001b[39;00m\\u001b[39munit\\u001b[39;00m \\u001b[39mimport\\u001b[39;00m _Unit\\n\\n\\u001b[0;31mModuleNotFoundError\\u001b[0m: No module named 'pint.measurement'\"\n",
    "}"
   ]
  },
  {
   "cell_type": "code",
   "execution_count": 4,
   "metadata": {},
   "outputs": [
    {
     "data": {
      "text/plain": [
       "'\\x1b[0;31m---------------------------------------------------------------------------\\x1b[0m\\n\\x1b[0;31mModuleNotFoundError\\x1b[0m                       Traceback (most recent call last)\\nCell \\x1b[0;32mIn [1], line 1\\x1b[0m\\n\\x1b[0;32m----> 1\\x1b[0m \\x1b[39mimport\\x1b[39;00m \\x1b[39mBioSimSpace\\x1b[39;00m\\n\\nFile \\x1b[0;32m~/BioSimSpace/python/BioSimSpace/__init__.py:209\\x1b[0m\\n\\x1b[1;32m    207\\x1b[0m \\x1b[39mfrom\\x1b[39;00m \\x1b[39m.\\x1b[39;00m \\x1b[39mimport\\x1b[39;00m Node\\n\\x1b[1;32m    208\\x1b[0m \\x1b[39mfrom\\x1b[39;00m \\x1b[39m.\\x1b[39;00m \\x1b[39mimport\\x1b[39;00m Notebook\\n\\x1b[0;32m--> 209\\x1b[0m \\x1b[39mfrom\\x1b[39;00m \\x1b[39m.\\x1b[39;00m \\x1b[39mimport\\x1b[39;00m Parameters\\n\\x1b[1;32m    210\\x1b[0m \\x1b[39mfrom\\x1b[39;00m \\x1b[39m.\\x1b[39;00m \\x1b[39mimport\\x1b[39;00m Process\\n\\x1b[1;32m    211\\x1b[0m \\x1b[39mfrom\\x1b[39;00m \\x1b[39m.\\x1b[39;00m \\x1b[39mimport\\x1b[39;00m Protocol\\n\\nFile \\x1b[0;32m~/BioSimSpace/python/BioSimSpace/Parameters/__init__.py:163\\x1b[0m\\n\\x1b[1;32m      1\\x1b[0m \\x1b[39m######################################################################\\x1b[39;00m\\n\\x1b[1;32m      2\\x1b[0m \\x1b[39m# BioSimSpace: Making biomolecular simulation a breeze!\\x1b[39;00m\\n\\x1b[1;32m      3\\x1b[0m \\x1b[39m#\\x1b[39;00m\\n\\x1b[0;32m   (...)\\x1b[0m\\n\\x1b[1;32m     19\\x1b[0m \\x1b[39m# along with BioSimSpace. If not, see <http://www.gnu.org/licenses/>.\\x1b[39;00m\\n\\x1b[1;32m     20\\x1b[0m \\x1b[39m#####################################################################\\x1b[39;00m\\n\\x1b[1;32m     22\\x1b[0m \\x1b[39m\"\"\"\\x1b[39;00m\\n\\x1b[1;32m     23\\x1b[0m \\x1b[39m.. currentmodule:: BioSimSpace.Parameters\\x1b[39;00m\\n\\x1b[1;32m     24\\x1b[0m \\n\\x1b[0;32m   (...)\\x1b[0m\\n\\x1b[1;32m    160\\x1b[0m \\x1b[39m   molecule = BSS.Parameters.ff14SB(molecule, leap_commands=leap_commands).getMolecule()\\x1b[39;00m\\n\\x1b[1;32m    161\\x1b[0m \\x1b[39m\"\"\"\\x1b[39;00m\\n\\x1b[0;32m--> 163\\x1b[0m \\x1b[39mfrom\\x1b[39;00m \\x1b[39m.\\x1b[39;00m\\x1b[39m_parameters\\x1b[39;00m \\x1b[39mimport\\x1b[39;00m \\x1b[39m*\\x1b[39m\\n\\x1b[1;32m    164\\x1b[0m \\x1b[39mfrom\\x1b[39;00m \\x1b[39m.\\x1b[39;00m\\x1b[39m_utils\\x1b[39;00m \\x1b[39mimport\\x1b[39;00m \\x1b[39m*\\x1b[39m\\n\\nFile \\x1b[0;32m~/BioSimSpace/python/BioSimSpace/Parameters/_parameters.py:50\\x1b[0m\\n\\x1b[1;32m     47\\x1b[0m \\x1b[39mfrom\\x1b[39;00m \\x1b[39m.\\x1b[39;00m\\x1b[39m.\\x1b[39;00m\\x1b[39mTypes\\x1b[39;00m \\x1b[39mimport\\x1b[39;00m Charge \\x1b[39mas\\x1b[39;00m _Charge\\n\\x1b[1;32m     48\\x1b[0m \\x1b[39mfrom\\x1b[39;00m \\x1b[39m.\\x1b[39;00m\\x1b[39m.\\x1b[39;00m\\x1b[39m_Utils\\x1b[39;00m \\x1b[39mimport\\x1b[39;00m _try_import, _have_imported\\n\\x1b[0;32m---> 50\\x1b[0m \\x1b[39mfrom\\x1b[39;00m \\x1b[39m.\\x1b[39;00m\\x1b[39m_process\\x1b[39;00m \\x1b[39mimport\\x1b[39;00m Process \\x1b[39mas\\x1b[39;00m _Process\\n\\x1b[1;32m     51\\x1b[0m \\x1b[39mfrom\\x1b[39;00m \\x1b[39m.\\x1b[39;00m \\x1b[39mimport\\x1b[39;00m Protocol \\x1b[39mas\\x1b[39;00m _Protocol\\n\\x1b[1;32m     53\\x1b[0m \\x1b[39mdef\\x1b[39;00m \\x1b[39mparameterise\\x1b[39m(molecule, forcefield, water_model\\x1b[39m=\\x1b[39m\\x1b[39mNone\\x1b[39;00m, work_dir\\x1b[39m=\\x1b[39m\\x1b[39mNone\\x1b[39;00m, property_map\\x1b[39m=\\x1b[39m{}):\\n\\nFile \\x1b[0;32m~/BioSimSpace/python/BioSimSpace/Parameters/_process.py:60\\x1b[0m\\n\\x1b[1;32m     57\\x1b[0m \\x1b[39mfrom\\x1b[39;00m \\x1b[39m.\\x1b[39;00m\\x1b[39m.\\x1b[39;00m\\x1b[39m_Exceptions\\x1b[39;00m \\x1b[39mimport\\x1b[39;00m ParameterisationError \\x1b[39mas\\x1b[39;00m _ParameterisationError\\n\\x1b[1;32m     58\\x1b[0m \\x1b[39mfrom\\x1b[39;00m \\x1b[39m.\\x1b[39;00m\\x1b[39m.\\x1b[39;00m\\x1b[39m_SireWrappers\\x1b[39;00m \\x1b[39mimport\\x1b[39;00m Molecule \\x1b[39mas\\x1b[39;00m _Molecule\\n\\x1b[0;32m---> 60\\x1b[0m \\x1b[39mfrom\\x1b[39;00m \\x1b[39m.\\x1b[39;00m \\x1b[39mimport\\x1b[39;00m Protocol \\x1b[39mas\\x1b[39;00m _Protocol\\n\\x1b[1;32m     62\\x1b[0m \\x1b[39mif\\x1b[39;00m _is_notebook:\\n\\x1b[1;32m     63\\x1b[0m     \\x1b[39mfrom\\x1b[39;00m \\x1b[39mIPython\\x1b[39;00m\\x1b[39m.\\x1b[39;00m\\x1b[39mdisplay\\x1b[39;00m \\x1b[39mimport\\x1b[39;00m FileLink \\x1b[39mas\\x1b[39;00m _FileLink\\n\\nFile \\x1b[0;32m~/BioSimSpace/python/BioSimSpace/Parameters/Protocol/__init__.py:27\\x1b[0m\\n\\x1b[1;32m      1\\x1b[0m \\x1b[39m######################################################################\\x1b[39;00m\\n\\x1b[1;32m      2\\x1b[0m \\x1b[39m# BioSimSpace: Making biomolecular simulation a breeze!\\x1b[39;00m\\n\\x1b[1;32m      3\\x1b[0m \\x1b[39m#\\x1b[39;00m\\n\\x1b[0;32m   (...)\\x1b[0m\\n\\x1b[1;32m     19\\x1b[0m \\x1b[39m# along with BioSimSpace. If not, see <http://www.gnu.org/licenses/>.\\x1b[39;00m\\n\\x1b[1;32m     20\\x1b[0m \\x1b[39m#####################################################################\\x1b[39;00m\\n\\x1b[1;32m     22\\x1b[0m \\x1b[39m\"\"\"\\x1b[39;00m\\n\\x1b[1;32m     23\\x1b[0m \\x1b[39mProtocol for parameterising molecules.\\x1b[39;00m\\n\\x1b[1;32m     24\\x1b[0m \\x1b[39mAuthor: Lester Hedges <lester.hedges@gmail.com>\\x1b[39;00m\\n\\x1b[1;32m     25\\x1b[0m \\x1b[39m\"\"\"\\x1b[39;00m\\n\\x1b[0;32m---> 27\\x1b[0m \\x1b[39mfrom\\x1b[39;00m \\x1b[39m.\\x1b[39;00m\\x1b[39m_protocol\\x1b[39;00m \\x1b[39mimport\\x1b[39;00m Protocol \\x1b[39mas\\x1b[39;00m _Protocol\\n\\x1b[1;32m     28\\x1b[0m \\x1b[39mfrom\\x1b[39;00m \\x1b[39m.\\x1b[39;00m\\x1b[39m_amber\\x1b[39;00m \\x1b[39mimport\\x1b[39;00m \\x1b[39m*\\x1b[39m\\n\\x1b[1;32m     29\\x1b[0m \\x1b[39mfrom\\x1b[39;00m \\x1b[39m.\\x1b[39;00m\\x1b[39m_openforcefield\\x1b[39;00m \\x1b[39mimport\\x1b[39;00m \\x1b[39m*\\x1b[39m\\n\\nFile \\x1b[0;32m~/BioSimSpace/python/BioSimSpace/Parameters/Protocol/_protocol.py:46\\x1b[0m\\n\\x1b[1;32m     43\\x1b[0m _openff \\x1b[39m=\\x1b[39m _try_import(\\x1b[39m\"\\x1b[39m\\x1b[39mopenff\\x1b[39m\\x1b[39m\"\\x1b[39m)\\n\\x1b[1;32m     45\\x1b[0m \\x1b[39mif\\x1b[39;00m _have_imported(_openff):\\n\\x1b[0;32m---> 46\\x1b[0m     \\x1b[39mfrom\\x1b[39;00m \\x1b[39mopenff\\x1b[39;00m\\x1b[39m.\\x1b[39;00m\\x1b[39mtoolkit\\x1b[39;00m\\x1b[39m.\\x1b[39;00m\\x1b[39mtopology\\x1b[39;00m \\x1b[39mimport\\x1b[39;00m Molecule \\x1b[39mas\\x1b[39;00m _OpenFFMolecule\\n\\x1b[1;32m     47\\x1b[0m \\x1b[39melse\\x1b[39;00m:\\n\\x1b[1;32m     48\\x1b[0m     _OpenFFMolecule \\x1b[39m=\\x1b[39m _openff\\n\\nFile \\x1b[0;32m~/Software/miniconda3/envs/bss-d/lib/python3.9/site-packages/openff/toolkit/topology/__init__.py:1\\x1b[0m\\n\\x1b[0;32m----> 1\\x1b[0m \\x1b[39mfrom\\x1b[39;00m \\x1b[39mopenff\\x1b[39;00m\\x1b[39m.\\x1b[39;00m\\x1b[39mtoolkit\\x1b[39;00m\\x1b[39m.\\x1b[39;00m\\x1b[39mtopology\\x1b[39;00m\\x1b[39m.\\x1b[39;00m\\x1b[39mmolecule\\x1b[39;00m \\x1b[39mimport\\x1b[39;00m (\\n\\x1b[1;32m      2\\x1b[0m     Atom,\\n\\x1b[1;32m      3\\x1b[0m     Bond,\\n\\x1b[1;32m      4\\x1b[0m     FrozenMolecule,\\n\\x1b[1;32m      5\\x1b[0m     HierarchyElement,\\n\\x1b[1;32m      6\\x1b[0m     HierarchyScheme,\\n\\x1b[1;32m      7\\x1b[0m     Molecule,\\n\\x1b[1;32m      8\\x1b[0m     Particle,\\n\\x1b[1;32m      9\\x1b[0m )\\n\\x1b[1;32m     10\\x1b[0m \\x1b[39mfrom\\x1b[39;00m \\x1b[39mopenff\\x1b[39;00m\\x1b[39m.\\x1b[39;00m\\x1b[39mtoolkit\\x1b[39;00m\\x1b[39m.\\x1b[39;00m\\x1b[39mtopology\\x1b[39;00m\\x1b[39m.\\x1b[39;00m\\x1b[39mtopology\\x1b[39;00m \\x1b[39mimport\\x1b[39;00m (\\n\\x1b[1;32m     11\\x1b[0m     DuplicateUniqueMoleculeError,\\n\\x1b[1;32m     12\\x1b[0m     ImproperDict,\\n\\x1b[0;32m   (...)\\x1b[0m\\n\\x1b[1;32m     21\\x1b[0m     ValenceDict,\\n\\x1b[1;32m     22\\x1b[0m )\\n\\x1b[1;32m     24\\x1b[0m __all__ \\x1b[39m=\\x1b[39m [\\n\\x1b[1;32m     25\\x1b[0m     \\x1b[39m\"\\x1b[39m\\x1b[39mAtom\\x1b[39m\\x1b[39m\"\\x1b[39m,\\n\\x1b[1;32m     26\\x1b[0m     \\x1b[39m\"\\x1b[39m\\x1b[39mBond\\x1b[39m\\x1b[39m\"\\x1b[39m,\\n\\x1b[0;32m   (...)\\x1b[0m\\n\\x1b[1;32m     42\\x1b[0m     \\x1b[39m\"\\x1b[39m\\x1b[39mHierarchyElement\\x1b[39m\\x1b[39m\"\\x1b[39m,\\n\\x1b[1;32m     43\\x1b[0m ]\\n\\nFile \\x1b[0;32m~/Software/miniconda3/envs/bss-d/lib/python3.9/site-packages/openff/toolkit/topology/molecule.py:49\\x1b[0m\\n\\x1b[1;32m     47\\x1b[0m \\x1b[39mimport\\x1b[39;00m \\x1b[39mnetworkx\\x1b[39;00m \\x1b[39mas\\x1b[39;00m \\x1b[39mnx\\x1b[39;00m\\n\\x1b[1;32m     48\\x1b[0m \\x1b[39mimport\\x1b[39;00m \\x1b[39mnumpy\\x1b[39;00m \\x1b[39mas\\x1b[39;00m \\x1b[39mnp\\x1b[39;00m\\n\\x1b[0;32m---> 49\\x1b[0m \\x1b[39mfrom\\x1b[39;00m \\x1b[39mopenff\\x1b[39;00m\\x1b[39m.\\x1b[39;00m\\x1b[39munits\\x1b[39;00m \\x1b[39mimport\\x1b[39;00m unit\\n\\x1b[1;32m     50\\x1b[0m \\x1b[39mfrom\\x1b[39;00m \\x1b[39mopenff\\x1b[39;00m\\x1b[39m.\\x1b[39;00m\\x1b[39munits\\x1b[39;00m\\x1b[39m.\\x1b[39;00m\\x1b[39melements\\x1b[39;00m \\x1b[39mimport\\x1b[39;00m MASSES, SYMBOLS\\n\\x1b[1;32m     51\\x1b[0m \\x1b[39mfrom\\x1b[39;00m \\x1b[39mopenff\\x1b[39;00m\\x1b[39m.\\x1b[39;00m\\x1b[39mutilities\\x1b[39;00m\\x1b[39m.\\x1b[39;00m\\x1b[39mexceptions\\x1b[39;00m \\x1b[39mimport\\x1b[39;00m MissingOptionalDependencyError\\n\\nFile \\x1b[0;32m~/Software/miniconda3/envs/bss-d/lib/python3.9/site-packages/openff/units/__init__.py:4\\x1b[0m\\n\\x1b[1;32m      1\\x1b[0m \\x1b[39mfrom\\x1b[39;00m \\x1b[39mpint\\x1b[39;00m \\x1b[39mimport\\x1b[39;00m UnitRegistry\\n\\x1b[1;32m      3\\x1b[0m \\x1b[39mfrom\\x1b[39;00m \\x1b[39mopenff\\x1b[39;00m\\x1b[39m.\\x1b[39;00m\\x1b[39munits\\x1b[39;00m\\x1b[39m.\\x1b[39;00m\\x1b[39m_version\\x1b[39;00m \\x1b[39mimport\\x1b[39;00m get_versions  \\x1b[39m# type: ignore\\x1b[39;00m\\n\\x1b[0;32m----> 4\\x1b[0m \\x1b[39mfrom\\x1b[39;00m \\x1b[39mopenff\\x1b[39;00m\\x1b[39m.\\x1b[39;00m\\x1b[39munits\\x1b[39;00m\\x1b[39m.\\x1b[39;00m\\x1b[39munits\\x1b[39;00m \\x1b[39mimport\\x1b[39;00m DEFAULT_UNIT_REGISTRY, Measurement, Quantity, Unit\\n\\x1b[1;32m      6\\x1b[0m __all__ \\x1b[39m=\\x1b[39m [\\n\\x1b[1;32m      7\\x1b[0m     \\x1b[39m\"\\x1b[39m\\x1b[39munit\\x1b[39m\\x1b[39m\"\\x1b[39m,\\n\\x1b[1;32m      8\\x1b[0m     \\x1b[39m\"\\x1b[39m\\x1b[39mQuantity\\x1b[39m\\x1b[39m\"\\x1b[39m,\\n\\x1b[1;32m      9\\x1b[0m     \\x1b[39m\"\\x1b[39m\\x1b[39mMeasurement\\x1b[39m\\x1b[39m\"\\x1b[39m,\\n\\x1b[1;32m     10\\x1b[0m     \\x1b[39m\"\\x1b[39m\\x1b[39mUnit\\x1b[39m\\x1b[39m\"\\x1b[39m,\\n\\x1b[1;32m     11\\x1b[0m ]\\n\\x1b[1;32m     13\\x1b[0m unit: UnitRegistry \\x1b[39m=\\x1b[39m DEFAULT_UNIT_REGISTRY\\n\\nFile \\x1b[0;32m~/Software/miniconda3/envs/bss-d/lib/python3.9/site-packages/openff/units/units.py:11\\x1b[0m\\n\\x1b[1;32m      9\\x1b[0m \\x1b[39mimport\\x1b[39;00m \\x1b[39mpint\\x1b[39;00m\\n\\x1b[1;32m     10\\x1b[0m \\x1b[39mfrom\\x1b[39;00m \\x1b[39mopenff\\x1b[39;00m\\x1b[39m.\\x1b[39;00m\\x1b[39mutilities\\x1b[39;00m \\x1b[39mimport\\x1b[39;00m requires_package\\n\\x1b[0;32m---> 11\\x1b[0m \\x1b[39mfrom\\x1b[39;00m \\x1b[39mpint\\x1b[39;00m\\x1b[39m.\\x1b[39;00m\\x1b[39mmeasurement\\x1b[39;00m \\x1b[39mimport\\x1b[39;00m _Measurement\\n\\x1b[1;32m     12\\x1b[0m \\x1b[39mfrom\\x1b[39;00m \\x1b[39mpint\\x1b[39;00m\\x1b[39m.\\x1b[39;00m\\x1b[39mquantity\\x1b[39;00m \\x1b[39mimport\\x1b[39;00m _Quantity\\n\\x1b[1;32m     13\\x1b[0m \\x1b[39mfrom\\x1b[39;00m \\x1b[39mpint\\x1b[39;00m\\x1b[39m.\\x1b[39;00m\\x1b[39munit\\x1b[39;00m \\x1b[39mimport\\x1b[39;00m _Unit\\n\\n\\x1b[0;31mModuleNotFoundError\\x1b[0m: No module named \\'pint.measurement\\''"
      ]
     },
     "execution_count": 4,
     "metadata": {},
     "output_type": "execute_result"
    }
   ],
   "source": [
    "dict[\"stack\"]"
   ]
  },
  {
   "cell_type": "code",
   "execution_count": null,
   "metadata": {},
   "outputs": [],
   "source": []
  }
 ],
 "metadata": {
  "kernelspec": {
   "display_name": "Python 3.9.13 ('sire')",
   "language": "python",
   "name": "python3"
  },
  "language_info": {
   "codemirror_mode": {
    "name": "ipython",
    "version": 3
   },
   "file_extension": ".py",
   "mimetype": "text/x-python",
   "name": "python",
   "nbconvert_exporter": "python",
   "pygments_lexer": "ipython3",
   "version": "3.9.13"
  },
  "vscode": {
   "interpreter": {
    "hash": "d26aaf8360ec79b5d34f6b3f2ca21f083671eb70d713101a39f31e19235f4f34"
   }
  }
 },
 "nbformat": 4,
 "nbformat_minor": 4
}
